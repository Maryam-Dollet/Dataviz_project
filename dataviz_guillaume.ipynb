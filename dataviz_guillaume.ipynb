{
 "cells": [
  {
   "cell_type": "markdown",
   "metadata": {},
   "source": [
    "### Dataviz Final Project"
   ]
  },
  {
   "cell_type": "markdown",
   "metadata": {},
   "source": [
    "#### Libraries"
   ]
  },
  {
   "cell_type": "code",
   "execution_count": 45,
   "metadata": {},
   "outputs": [],
   "source": [
    "import pandas as pd\n",
    "import plotly.express as px"
   ]
  },
  {
   "cell_type": "markdown",
   "metadata": {},
   "source": [
    "#### Importation of the dataset"
   ]
  },
  {
   "cell_type": "code",
   "execution_count": 46,
   "metadata": {},
   "outputs": [
    {
     "data": {
      "text/html": [
       "<div>\n",
       "<style scoped>\n",
       "    .dataframe tbody tr th:only-of-type {\n",
       "        vertical-align: middle;\n",
       "    }\n",
       "\n",
       "    .dataframe tbody tr th {\n",
       "        vertical-align: top;\n",
       "    }\n",
       "\n",
       "    .dataframe thead th {\n",
       "        text-align: right;\n",
       "    }\n",
       "</style>\n",
       "<table border=\"1\" class=\"dataframe\">\n",
       "  <thead>\n",
       "    <tr style=\"text-align: right;\">\n",
       "      <th></th>\n",
       "      <th>ID</th>\n",
       "      <th>Name</th>\n",
       "      <th>Sex</th>\n",
       "      <th>Age</th>\n",
       "      <th>Height</th>\n",
       "      <th>Weight</th>\n",
       "      <th>Team</th>\n",
       "      <th>NOC</th>\n",
       "      <th>Games</th>\n",
       "      <th>Year</th>\n",
       "      <th>Season</th>\n",
       "      <th>City</th>\n",
       "      <th>Sport</th>\n",
       "      <th>Event</th>\n",
       "      <th>Medal</th>\n",
       "    </tr>\n",
       "  </thead>\n",
       "  <tbody>\n",
       "    <tr>\n",
       "      <th>0</th>\n",
       "      <td>1</td>\n",
       "      <td>A Dijiang</td>\n",
       "      <td>M</td>\n",
       "      <td>24.0</td>\n",
       "      <td>180.0</td>\n",
       "      <td>80.0</td>\n",
       "      <td>China</td>\n",
       "      <td>CHN</td>\n",
       "      <td>1992 Summer</td>\n",
       "      <td>1992</td>\n",
       "      <td>Summer</td>\n",
       "      <td>Barcelona</td>\n",
       "      <td>Basketball</td>\n",
       "      <td>Basketball Men's Basketball</td>\n",
       "      <td>NaN</td>\n",
       "    </tr>\n",
       "    <tr>\n",
       "      <th>1</th>\n",
       "      <td>2</td>\n",
       "      <td>A Lamusi</td>\n",
       "      <td>M</td>\n",
       "      <td>23.0</td>\n",
       "      <td>170.0</td>\n",
       "      <td>60.0</td>\n",
       "      <td>China</td>\n",
       "      <td>CHN</td>\n",
       "      <td>2012 Summer</td>\n",
       "      <td>2012</td>\n",
       "      <td>Summer</td>\n",
       "      <td>London</td>\n",
       "      <td>Judo</td>\n",
       "      <td>Judo Men's Extra-Lightweight</td>\n",
       "      <td>NaN</td>\n",
       "    </tr>\n",
       "    <tr>\n",
       "      <th>2</th>\n",
       "      <td>3</td>\n",
       "      <td>Gunnar Nielsen Aaby</td>\n",
       "      <td>M</td>\n",
       "      <td>24.0</td>\n",
       "      <td>NaN</td>\n",
       "      <td>NaN</td>\n",
       "      <td>Denmark</td>\n",
       "      <td>DEN</td>\n",
       "      <td>1920 Summer</td>\n",
       "      <td>1920</td>\n",
       "      <td>Summer</td>\n",
       "      <td>Antwerpen</td>\n",
       "      <td>Football</td>\n",
       "      <td>Football Men's Football</td>\n",
       "      <td>NaN</td>\n",
       "    </tr>\n",
       "    <tr>\n",
       "      <th>3</th>\n",
       "      <td>4</td>\n",
       "      <td>Edgar Lindenau Aabye</td>\n",
       "      <td>M</td>\n",
       "      <td>34.0</td>\n",
       "      <td>NaN</td>\n",
       "      <td>NaN</td>\n",
       "      <td>Denmark/Sweden</td>\n",
       "      <td>DEN</td>\n",
       "      <td>1900 Summer</td>\n",
       "      <td>1900</td>\n",
       "      <td>Summer</td>\n",
       "      <td>Paris</td>\n",
       "      <td>Tug-Of-War</td>\n",
       "      <td>Tug-Of-War Men's Tug-Of-War</td>\n",
       "      <td>Gold</td>\n",
       "    </tr>\n",
       "    <tr>\n",
       "      <th>4</th>\n",
       "      <td>5</td>\n",
       "      <td>Christine Jacoba Aaftink</td>\n",
       "      <td>F</td>\n",
       "      <td>21.0</td>\n",
       "      <td>185.0</td>\n",
       "      <td>82.0</td>\n",
       "      <td>Netherlands</td>\n",
       "      <td>NED</td>\n",
       "      <td>1988 Winter</td>\n",
       "      <td>1988</td>\n",
       "      <td>Winter</td>\n",
       "      <td>Calgary</td>\n",
       "      <td>Speed Skating</td>\n",
       "      <td>Speed Skating Women's 500 metres</td>\n",
       "      <td>NaN</td>\n",
       "    </tr>\n",
       "    <tr>\n",
       "      <th>...</th>\n",
       "      <td>...</td>\n",
       "      <td>...</td>\n",
       "      <td>...</td>\n",
       "      <td>...</td>\n",
       "      <td>...</td>\n",
       "      <td>...</td>\n",
       "      <td>...</td>\n",
       "      <td>...</td>\n",
       "      <td>...</td>\n",
       "      <td>...</td>\n",
       "      <td>...</td>\n",
       "      <td>...</td>\n",
       "      <td>...</td>\n",
       "      <td>...</td>\n",
       "      <td>...</td>\n",
       "    </tr>\n",
       "    <tr>\n",
       "      <th>271111</th>\n",
       "      <td>135569</td>\n",
       "      <td>Andrzej ya</td>\n",
       "      <td>M</td>\n",
       "      <td>29.0</td>\n",
       "      <td>179.0</td>\n",
       "      <td>89.0</td>\n",
       "      <td>Poland-1</td>\n",
       "      <td>POL</td>\n",
       "      <td>1976 Winter</td>\n",
       "      <td>1976</td>\n",
       "      <td>Winter</td>\n",
       "      <td>Innsbruck</td>\n",
       "      <td>Luge</td>\n",
       "      <td>Luge Mixed (Men)'s Doubles</td>\n",
       "      <td>NaN</td>\n",
       "    </tr>\n",
       "    <tr>\n",
       "      <th>271112</th>\n",
       "      <td>135570</td>\n",
       "      <td>Piotr ya</td>\n",
       "      <td>M</td>\n",
       "      <td>27.0</td>\n",
       "      <td>176.0</td>\n",
       "      <td>59.0</td>\n",
       "      <td>Poland</td>\n",
       "      <td>POL</td>\n",
       "      <td>2014 Winter</td>\n",
       "      <td>2014</td>\n",
       "      <td>Winter</td>\n",
       "      <td>Sochi</td>\n",
       "      <td>Ski Jumping</td>\n",
       "      <td>Ski Jumping Men's Large Hill, Individual</td>\n",
       "      <td>NaN</td>\n",
       "    </tr>\n",
       "    <tr>\n",
       "      <th>271113</th>\n",
       "      <td>135570</td>\n",
       "      <td>Piotr ya</td>\n",
       "      <td>M</td>\n",
       "      <td>27.0</td>\n",
       "      <td>176.0</td>\n",
       "      <td>59.0</td>\n",
       "      <td>Poland</td>\n",
       "      <td>POL</td>\n",
       "      <td>2014 Winter</td>\n",
       "      <td>2014</td>\n",
       "      <td>Winter</td>\n",
       "      <td>Sochi</td>\n",
       "      <td>Ski Jumping</td>\n",
       "      <td>Ski Jumping Men's Large Hill, Team</td>\n",
       "      <td>NaN</td>\n",
       "    </tr>\n",
       "    <tr>\n",
       "      <th>271114</th>\n",
       "      <td>135571</td>\n",
       "      <td>Tomasz Ireneusz ya</td>\n",
       "      <td>M</td>\n",
       "      <td>30.0</td>\n",
       "      <td>185.0</td>\n",
       "      <td>96.0</td>\n",
       "      <td>Poland</td>\n",
       "      <td>POL</td>\n",
       "      <td>1998 Winter</td>\n",
       "      <td>1998</td>\n",
       "      <td>Winter</td>\n",
       "      <td>Nagano</td>\n",
       "      <td>Bobsleigh</td>\n",
       "      <td>Bobsleigh Men's Four</td>\n",
       "      <td>NaN</td>\n",
       "    </tr>\n",
       "    <tr>\n",
       "      <th>271115</th>\n",
       "      <td>135571</td>\n",
       "      <td>Tomasz Ireneusz ya</td>\n",
       "      <td>M</td>\n",
       "      <td>34.0</td>\n",
       "      <td>185.0</td>\n",
       "      <td>96.0</td>\n",
       "      <td>Poland</td>\n",
       "      <td>POL</td>\n",
       "      <td>2002 Winter</td>\n",
       "      <td>2002</td>\n",
       "      <td>Winter</td>\n",
       "      <td>Salt Lake City</td>\n",
       "      <td>Bobsleigh</td>\n",
       "      <td>Bobsleigh Men's Four</td>\n",
       "      <td>NaN</td>\n",
       "    </tr>\n",
       "  </tbody>\n",
       "</table>\n",
       "<p>271116 rows × 15 columns</p>\n",
       "</div>"
      ],
      "text/plain": [
       "            ID                      Name Sex   Age  Height  Weight  \\\n",
       "0            1                 A Dijiang   M  24.0   180.0    80.0   \n",
       "1            2                  A Lamusi   M  23.0   170.0    60.0   \n",
       "2            3       Gunnar Nielsen Aaby   M  24.0     NaN     NaN   \n",
       "3            4      Edgar Lindenau Aabye   M  34.0     NaN     NaN   \n",
       "4            5  Christine Jacoba Aaftink   F  21.0   185.0    82.0   \n",
       "...        ...                       ...  ..   ...     ...     ...   \n",
       "271111  135569                Andrzej ya   M  29.0   179.0    89.0   \n",
       "271112  135570                  Piotr ya   M  27.0   176.0    59.0   \n",
       "271113  135570                  Piotr ya   M  27.0   176.0    59.0   \n",
       "271114  135571        Tomasz Ireneusz ya   M  30.0   185.0    96.0   \n",
       "271115  135571        Tomasz Ireneusz ya   M  34.0   185.0    96.0   \n",
       "\n",
       "                  Team  NOC        Games  Year  Season            City  \\\n",
       "0                China  CHN  1992 Summer  1992  Summer       Barcelona   \n",
       "1                China  CHN  2012 Summer  2012  Summer          London   \n",
       "2              Denmark  DEN  1920 Summer  1920  Summer       Antwerpen   \n",
       "3       Denmark/Sweden  DEN  1900 Summer  1900  Summer           Paris   \n",
       "4          Netherlands  NED  1988 Winter  1988  Winter         Calgary   \n",
       "...                ...  ...          ...   ...     ...             ...   \n",
       "271111        Poland-1  POL  1976 Winter  1976  Winter       Innsbruck   \n",
       "271112          Poland  POL  2014 Winter  2014  Winter           Sochi   \n",
       "271113          Poland  POL  2014 Winter  2014  Winter           Sochi   \n",
       "271114          Poland  POL  1998 Winter  1998  Winter          Nagano   \n",
       "271115          Poland  POL  2002 Winter  2002  Winter  Salt Lake City   \n",
       "\n",
       "                Sport                                     Event Medal  \n",
       "0          Basketball               Basketball Men's Basketball   NaN  \n",
       "1                Judo              Judo Men's Extra-Lightweight   NaN  \n",
       "2            Football                   Football Men's Football   NaN  \n",
       "3          Tug-Of-War               Tug-Of-War Men's Tug-Of-War  Gold  \n",
       "4       Speed Skating          Speed Skating Women's 500 metres   NaN  \n",
       "...               ...                                       ...   ...  \n",
       "271111           Luge                Luge Mixed (Men)'s Doubles   NaN  \n",
       "271112    Ski Jumping  Ski Jumping Men's Large Hill, Individual   NaN  \n",
       "271113    Ski Jumping        Ski Jumping Men's Large Hill, Team   NaN  \n",
       "271114      Bobsleigh                      Bobsleigh Men's Four   NaN  \n",
       "271115      Bobsleigh                      Bobsleigh Men's Four   NaN  \n",
       "\n",
       "[271116 rows x 15 columns]"
      ]
     },
     "execution_count": 46,
     "metadata": {},
     "output_type": "execute_result"
    }
   ],
   "source": [
    "df_athlete = pd.read_csv(\"athlete_events.csv\", sep=',')\n",
    "df_athlete"
   ]
  },
  {
   "cell_type": "code",
   "execution_count": 47,
   "metadata": {},
   "outputs": [
    {
     "data": {
      "text/html": [
       "<div>\n",
       "<style scoped>\n",
       "    .dataframe tbody tr th:only-of-type {\n",
       "        vertical-align: middle;\n",
       "    }\n",
       "\n",
       "    .dataframe tbody tr th {\n",
       "        vertical-align: top;\n",
       "    }\n",
       "\n",
       "    .dataframe thead th {\n",
       "        text-align: right;\n",
       "    }\n",
       "</style>\n",
       "<table border=\"1\" class=\"dataframe\">\n",
       "  <thead>\n",
       "    <tr style=\"text-align: right;\">\n",
       "      <th></th>\n",
       "      <th>NOC</th>\n",
       "      <th>region</th>\n",
       "      <th>notes</th>\n",
       "    </tr>\n",
       "  </thead>\n",
       "  <tbody>\n",
       "    <tr>\n",
       "      <th>0</th>\n",
       "      <td>AFG</td>\n",
       "      <td>Afghanistan</td>\n",
       "      <td>NaN</td>\n",
       "    </tr>\n",
       "    <tr>\n",
       "      <th>1</th>\n",
       "      <td>AHO</td>\n",
       "      <td>Curacao</td>\n",
       "      <td>Netherlands Antilles</td>\n",
       "    </tr>\n",
       "    <tr>\n",
       "      <th>2</th>\n",
       "      <td>ALB</td>\n",
       "      <td>Albania</td>\n",
       "      <td>NaN</td>\n",
       "    </tr>\n",
       "    <tr>\n",
       "      <th>3</th>\n",
       "      <td>ALG</td>\n",
       "      <td>Algeria</td>\n",
       "      <td>NaN</td>\n",
       "    </tr>\n",
       "    <tr>\n",
       "      <th>4</th>\n",
       "      <td>AND</td>\n",
       "      <td>Andorra</td>\n",
       "      <td>NaN</td>\n",
       "    </tr>\n",
       "    <tr>\n",
       "      <th>...</th>\n",
       "      <td>...</td>\n",
       "      <td>...</td>\n",
       "      <td>...</td>\n",
       "    </tr>\n",
       "    <tr>\n",
       "      <th>225</th>\n",
       "      <td>YEM</td>\n",
       "      <td>Yemen</td>\n",
       "      <td>NaN</td>\n",
       "    </tr>\n",
       "    <tr>\n",
       "      <th>226</th>\n",
       "      <td>YMD</td>\n",
       "      <td>Yemen</td>\n",
       "      <td>South Yemen</td>\n",
       "    </tr>\n",
       "    <tr>\n",
       "      <th>227</th>\n",
       "      <td>YUG</td>\n",
       "      <td>Serbia</td>\n",
       "      <td>Yugoslavia</td>\n",
       "    </tr>\n",
       "    <tr>\n",
       "      <th>228</th>\n",
       "      <td>ZAM</td>\n",
       "      <td>Zambia</td>\n",
       "      <td>NaN</td>\n",
       "    </tr>\n",
       "    <tr>\n",
       "      <th>229</th>\n",
       "      <td>ZIM</td>\n",
       "      <td>Zimbabwe</td>\n",
       "      <td>NaN</td>\n",
       "    </tr>\n",
       "  </tbody>\n",
       "</table>\n",
       "<p>230 rows × 3 columns</p>\n",
       "</div>"
      ],
      "text/plain": [
       "     NOC       region                 notes\n",
       "0    AFG  Afghanistan                   NaN\n",
       "1    AHO      Curacao  Netherlands Antilles\n",
       "2    ALB      Albania                   NaN\n",
       "3    ALG      Algeria                   NaN\n",
       "4    AND      Andorra                   NaN\n",
       "..   ...          ...                   ...\n",
       "225  YEM        Yemen                   NaN\n",
       "226  YMD        Yemen           South Yemen\n",
       "227  YUG       Serbia            Yugoslavia\n",
       "228  ZAM       Zambia                   NaN\n",
       "229  ZIM     Zimbabwe                   NaN\n",
       "\n",
       "[230 rows x 3 columns]"
      ]
     },
     "execution_count": 47,
     "metadata": {},
     "output_type": "execute_result"
    }
   ],
   "source": [
    "noc_regions = pd.read_csv(\"noc_regions.csv\", sep=',')\n",
    "noc_regions"
   ]
  },
  {
   "cell_type": "markdown",
   "metadata": {},
   "source": [
    "#### Merge"
   ]
  },
  {
   "cell_type": "code",
   "execution_count": 48,
   "metadata": {},
   "outputs": [
    {
     "data": {
      "text/html": [
       "<div>\n",
       "<style scoped>\n",
       "    .dataframe tbody tr th:only-of-type {\n",
       "        vertical-align: middle;\n",
       "    }\n",
       "\n",
       "    .dataframe tbody tr th {\n",
       "        vertical-align: top;\n",
       "    }\n",
       "\n",
       "    .dataframe thead th {\n",
       "        text-align: right;\n",
       "    }\n",
       "</style>\n",
       "<table border=\"1\" class=\"dataframe\">\n",
       "  <thead>\n",
       "    <tr style=\"text-align: right;\">\n",
       "      <th></th>\n",
       "      <th>ID</th>\n",
       "      <th>Name</th>\n",
       "      <th>Sex</th>\n",
       "      <th>Age</th>\n",
       "      <th>Height</th>\n",
       "      <th>Weight</th>\n",
       "      <th>Team</th>\n",
       "      <th>NOC</th>\n",
       "      <th>Games</th>\n",
       "      <th>Year</th>\n",
       "      <th>Season</th>\n",
       "      <th>City</th>\n",
       "      <th>Sport</th>\n",
       "      <th>Event</th>\n",
       "      <th>Medal</th>\n",
       "      <th>region</th>\n",
       "      <th>notes</th>\n",
       "    </tr>\n",
       "  </thead>\n",
       "  <tbody>\n",
       "    <tr>\n",
       "      <th>0</th>\n",
       "      <td>1</td>\n",
       "      <td>A Dijiang</td>\n",
       "      <td>M</td>\n",
       "      <td>24.0</td>\n",
       "      <td>180.0</td>\n",
       "      <td>80.0</td>\n",
       "      <td>China</td>\n",
       "      <td>CHN</td>\n",
       "      <td>1992 Summer</td>\n",
       "      <td>1992</td>\n",
       "      <td>Summer</td>\n",
       "      <td>Barcelona</td>\n",
       "      <td>Basketball</td>\n",
       "      <td>Basketball Men's Basketball</td>\n",
       "      <td>NaN</td>\n",
       "      <td>China</td>\n",
       "      <td>NaN</td>\n",
       "    </tr>\n",
       "    <tr>\n",
       "      <th>1</th>\n",
       "      <td>2</td>\n",
       "      <td>A Lamusi</td>\n",
       "      <td>M</td>\n",
       "      <td>23.0</td>\n",
       "      <td>170.0</td>\n",
       "      <td>60.0</td>\n",
       "      <td>China</td>\n",
       "      <td>CHN</td>\n",
       "      <td>2012 Summer</td>\n",
       "      <td>2012</td>\n",
       "      <td>Summer</td>\n",
       "      <td>London</td>\n",
       "      <td>Judo</td>\n",
       "      <td>Judo Men's Extra-Lightweight</td>\n",
       "      <td>NaN</td>\n",
       "      <td>China</td>\n",
       "      <td>NaN</td>\n",
       "    </tr>\n",
       "    <tr>\n",
       "      <th>2</th>\n",
       "      <td>3</td>\n",
       "      <td>Gunnar Nielsen Aaby</td>\n",
       "      <td>M</td>\n",
       "      <td>24.0</td>\n",
       "      <td>NaN</td>\n",
       "      <td>NaN</td>\n",
       "      <td>Denmark</td>\n",
       "      <td>DEN</td>\n",
       "      <td>1920 Summer</td>\n",
       "      <td>1920</td>\n",
       "      <td>Summer</td>\n",
       "      <td>Antwerpen</td>\n",
       "      <td>Football</td>\n",
       "      <td>Football Men's Football</td>\n",
       "      <td>NaN</td>\n",
       "      <td>Denmark</td>\n",
       "      <td>NaN</td>\n",
       "    </tr>\n",
       "    <tr>\n",
       "      <th>3</th>\n",
       "      <td>4</td>\n",
       "      <td>Edgar Lindenau Aabye</td>\n",
       "      <td>M</td>\n",
       "      <td>34.0</td>\n",
       "      <td>NaN</td>\n",
       "      <td>NaN</td>\n",
       "      <td>Denmark/Sweden</td>\n",
       "      <td>DEN</td>\n",
       "      <td>1900 Summer</td>\n",
       "      <td>1900</td>\n",
       "      <td>Summer</td>\n",
       "      <td>Paris</td>\n",
       "      <td>Tug-Of-War</td>\n",
       "      <td>Tug-Of-War Men's Tug-Of-War</td>\n",
       "      <td>Gold</td>\n",
       "      <td>Denmark</td>\n",
       "      <td>NaN</td>\n",
       "    </tr>\n",
       "    <tr>\n",
       "      <th>4</th>\n",
       "      <td>5</td>\n",
       "      <td>Christine Jacoba Aaftink</td>\n",
       "      <td>F</td>\n",
       "      <td>21.0</td>\n",
       "      <td>185.0</td>\n",
       "      <td>82.0</td>\n",
       "      <td>Netherlands</td>\n",
       "      <td>NED</td>\n",
       "      <td>1988 Winter</td>\n",
       "      <td>1988</td>\n",
       "      <td>Winter</td>\n",
       "      <td>Calgary</td>\n",
       "      <td>Speed Skating</td>\n",
       "      <td>Speed Skating Women's 500 metres</td>\n",
       "      <td>NaN</td>\n",
       "      <td>Netherlands</td>\n",
       "      <td>NaN</td>\n",
       "    </tr>\n",
       "    <tr>\n",
       "      <th>...</th>\n",
       "      <td>...</td>\n",
       "      <td>...</td>\n",
       "      <td>...</td>\n",
       "      <td>...</td>\n",
       "      <td>...</td>\n",
       "      <td>...</td>\n",
       "      <td>...</td>\n",
       "      <td>...</td>\n",
       "      <td>...</td>\n",
       "      <td>...</td>\n",
       "      <td>...</td>\n",
       "      <td>...</td>\n",
       "      <td>...</td>\n",
       "      <td>...</td>\n",
       "      <td>...</td>\n",
       "      <td>...</td>\n",
       "      <td>...</td>\n",
       "    </tr>\n",
       "    <tr>\n",
       "      <th>271111</th>\n",
       "      <td>135569</td>\n",
       "      <td>Andrzej ya</td>\n",
       "      <td>M</td>\n",
       "      <td>29.0</td>\n",
       "      <td>179.0</td>\n",
       "      <td>89.0</td>\n",
       "      <td>Poland-1</td>\n",
       "      <td>POL</td>\n",
       "      <td>1976 Winter</td>\n",
       "      <td>1976</td>\n",
       "      <td>Winter</td>\n",
       "      <td>Innsbruck</td>\n",
       "      <td>Luge</td>\n",
       "      <td>Luge Mixed (Men)'s Doubles</td>\n",
       "      <td>NaN</td>\n",
       "      <td>Poland</td>\n",
       "      <td>NaN</td>\n",
       "    </tr>\n",
       "    <tr>\n",
       "      <th>271112</th>\n",
       "      <td>135570</td>\n",
       "      <td>Piotr ya</td>\n",
       "      <td>M</td>\n",
       "      <td>27.0</td>\n",
       "      <td>176.0</td>\n",
       "      <td>59.0</td>\n",
       "      <td>Poland</td>\n",
       "      <td>POL</td>\n",
       "      <td>2014 Winter</td>\n",
       "      <td>2014</td>\n",
       "      <td>Winter</td>\n",
       "      <td>Sochi</td>\n",
       "      <td>Ski Jumping</td>\n",
       "      <td>Ski Jumping Men's Large Hill, Individual</td>\n",
       "      <td>NaN</td>\n",
       "      <td>Poland</td>\n",
       "      <td>NaN</td>\n",
       "    </tr>\n",
       "    <tr>\n",
       "      <th>271113</th>\n",
       "      <td>135570</td>\n",
       "      <td>Piotr ya</td>\n",
       "      <td>M</td>\n",
       "      <td>27.0</td>\n",
       "      <td>176.0</td>\n",
       "      <td>59.0</td>\n",
       "      <td>Poland</td>\n",
       "      <td>POL</td>\n",
       "      <td>2014 Winter</td>\n",
       "      <td>2014</td>\n",
       "      <td>Winter</td>\n",
       "      <td>Sochi</td>\n",
       "      <td>Ski Jumping</td>\n",
       "      <td>Ski Jumping Men's Large Hill, Team</td>\n",
       "      <td>NaN</td>\n",
       "      <td>Poland</td>\n",
       "      <td>NaN</td>\n",
       "    </tr>\n",
       "    <tr>\n",
       "      <th>271114</th>\n",
       "      <td>135571</td>\n",
       "      <td>Tomasz Ireneusz ya</td>\n",
       "      <td>M</td>\n",
       "      <td>30.0</td>\n",
       "      <td>185.0</td>\n",
       "      <td>96.0</td>\n",
       "      <td>Poland</td>\n",
       "      <td>POL</td>\n",
       "      <td>1998 Winter</td>\n",
       "      <td>1998</td>\n",
       "      <td>Winter</td>\n",
       "      <td>Nagano</td>\n",
       "      <td>Bobsleigh</td>\n",
       "      <td>Bobsleigh Men's Four</td>\n",
       "      <td>NaN</td>\n",
       "      <td>Poland</td>\n",
       "      <td>NaN</td>\n",
       "    </tr>\n",
       "    <tr>\n",
       "      <th>271115</th>\n",
       "      <td>135571</td>\n",
       "      <td>Tomasz Ireneusz ya</td>\n",
       "      <td>M</td>\n",
       "      <td>34.0</td>\n",
       "      <td>185.0</td>\n",
       "      <td>96.0</td>\n",
       "      <td>Poland</td>\n",
       "      <td>POL</td>\n",
       "      <td>2002 Winter</td>\n",
       "      <td>2002</td>\n",
       "      <td>Winter</td>\n",
       "      <td>Salt Lake City</td>\n",
       "      <td>Bobsleigh</td>\n",
       "      <td>Bobsleigh Men's Four</td>\n",
       "      <td>NaN</td>\n",
       "      <td>Poland</td>\n",
       "      <td>NaN</td>\n",
       "    </tr>\n",
       "  </tbody>\n",
       "</table>\n",
       "<p>271116 rows × 17 columns</p>\n",
       "</div>"
      ],
      "text/plain": [
       "            ID                      Name Sex   Age  Height  Weight  \\\n",
       "0            1                 A Dijiang   M  24.0   180.0    80.0   \n",
       "1            2                  A Lamusi   M  23.0   170.0    60.0   \n",
       "2            3       Gunnar Nielsen Aaby   M  24.0     NaN     NaN   \n",
       "3            4      Edgar Lindenau Aabye   M  34.0     NaN     NaN   \n",
       "4            5  Christine Jacoba Aaftink   F  21.0   185.0    82.0   \n",
       "...        ...                       ...  ..   ...     ...     ...   \n",
       "271111  135569                Andrzej ya   M  29.0   179.0    89.0   \n",
       "271112  135570                  Piotr ya   M  27.0   176.0    59.0   \n",
       "271113  135570                  Piotr ya   M  27.0   176.0    59.0   \n",
       "271114  135571        Tomasz Ireneusz ya   M  30.0   185.0    96.0   \n",
       "271115  135571        Tomasz Ireneusz ya   M  34.0   185.0    96.0   \n",
       "\n",
       "                  Team  NOC        Games  Year  Season            City  \\\n",
       "0                China  CHN  1992 Summer  1992  Summer       Barcelona   \n",
       "1                China  CHN  2012 Summer  2012  Summer          London   \n",
       "2              Denmark  DEN  1920 Summer  1920  Summer       Antwerpen   \n",
       "3       Denmark/Sweden  DEN  1900 Summer  1900  Summer           Paris   \n",
       "4          Netherlands  NED  1988 Winter  1988  Winter         Calgary   \n",
       "...                ...  ...          ...   ...     ...             ...   \n",
       "271111        Poland-1  POL  1976 Winter  1976  Winter       Innsbruck   \n",
       "271112          Poland  POL  2014 Winter  2014  Winter           Sochi   \n",
       "271113          Poland  POL  2014 Winter  2014  Winter           Sochi   \n",
       "271114          Poland  POL  1998 Winter  1998  Winter          Nagano   \n",
       "271115          Poland  POL  2002 Winter  2002  Winter  Salt Lake City   \n",
       "\n",
       "                Sport                                     Event Medal  \\\n",
       "0          Basketball               Basketball Men's Basketball   NaN   \n",
       "1                Judo              Judo Men's Extra-Lightweight   NaN   \n",
       "2            Football                   Football Men's Football   NaN   \n",
       "3          Tug-Of-War               Tug-Of-War Men's Tug-Of-War  Gold   \n",
       "4       Speed Skating          Speed Skating Women's 500 metres   NaN   \n",
       "...               ...                                       ...   ...   \n",
       "271111           Luge                Luge Mixed (Men)'s Doubles   NaN   \n",
       "271112    Ski Jumping  Ski Jumping Men's Large Hill, Individual   NaN   \n",
       "271113    Ski Jumping        Ski Jumping Men's Large Hill, Team   NaN   \n",
       "271114      Bobsleigh                      Bobsleigh Men's Four   NaN   \n",
       "271115      Bobsleigh                      Bobsleigh Men's Four   NaN   \n",
       "\n",
       "             region notes  \n",
       "0             China   NaN  \n",
       "1             China   NaN  \n",
       "2           Denmark   NaN  \n",
       "3           Denmark   NaN  \n",
       "4       Netherlands   NaN  \n",
       "...             ...   ...  \n",
       "271111       Poland   NaN  \n",
       "271112       Poland   NaN  \n",
       "271113       Poland   NaN  \n",
       "271114       Poland   NaN  \n",
       "271115       Poland   NaN  \n",
       "\n",
       "[271116 rows x 17 columns]"
      ]
     },
     "execution_count": 48,
     "metadata": {},
     "output_type": "execute_result"
    }
   ],
   "source": [
    "df_merged = df_athlete.merge(noc_regions, how='left', on=\"NOC\")\n",
    "df_merged"
   ]
  },
  {
   "cell_type": "markdown",
   "metadata": {},
   "source": [
    "### Visualisations"
   ]
  },
  {
   "cell_type": "markdown",
   "metadata": {},
   "source": [
    "#### Number of athletes per country and per year"
   ]
  },
  {
   "cell_type": "code",
   "execution_count": 49,
   "metadata": {},
   "outputs": [
    {
     "data": {
      "text/html": [
       "<div>\n",
       "<style scoped>\n",
       "    .dataframe tbody tr th:only-of-type {\n",
       "        vertical-align: middle;\n",
       "    }\n",
       "\n",
       "    .dataframe tbody tr th {\n",
       "        vertical-align: top;\n",
       "    }\n",
       "\n",
       "    .dataframe thead th {\n",
       "        text-align: right;\n",
       "    }\n",
       "</style>\n",
       "<table border=\"1\" class=\"dataframe\">\n",
       "  <thead>\n",
       "    <tr style=\"text-align: right;\">\n",
       "      <th></th>\n",
       "      <th>ID</th>\n",
       "      <th>Name</th>\n",
       "      <th>Sex</th>\n",
       "      <th>Age</th>\n",
       "      <th>Height</th>\n",
       "      <th>Weight</th>\n",
       "      <th>Team</th>\n",
       "      <th>NOC</th>\n",
       "      <th>Games</th>\n",
       "      <th>Year</th>\n",
       "      <th>Season</th>\n",
       "      <th>City</th>\n",
       "      <th>Sport</th>\n",
       "      <th>Event</th>\n",
       "      <th>Medal</th>\n",
       "      <th>region</th>\n",
       "      <th>notes</th>\n",
       "    </tr>\n",
       "  </thead>\n",
       "  <tbody>\n",
       "    <tr>\n",
       "      <th>0</th>\n",
       "      <td>1</td>\n",
       "      <td>A Dijiang</td>\n",
       "      <td>M</td>\n",
       "      <td>24.0</td>\n",
       "      <td>180.0</td>\n",
       "      <td>80.0</td>\n",
       "      <td>China</td>\n",
       "      <td>CHN</td>\n",
       "      <td>1992 Summer</td>\n",
       "      <td>1992</td>\n",
       "      <td>Summer</td>\n",
       "      <td>Barcelona</td>\n",
       "      <td>Basketball</td>\n",
       "      <td>Basketball Men's Basketball</td>\n",
       "      <td>NaN</td>\n",
       "      <td>China</td>\n",
       "      <td>NaN</td>\n",
       "    </tr>\n",
       "    <tr>\n",
       "      <th>1</th>\n",
       "      <td>2</td>\n",
       "      <td>A Lamusi</td>\n",
       "      <td>M</td>\n",
       "      <td>23.0</td>\n",
       "      <td>170.0</td>\n",
       "      <td>60.0</td>\n",
       "      <td>China</td>\n",
       "      <td>CHN</td>\n",
       "      <td>2012 Summer</td>\n",
       "      <td>2012</td>\n",
       "      <td>Summer</td>\n",
       "      <td>London</td>\n",
       "      <td>Judo</td>\n",
       "      <td>Judo Men's Extra-Lightweight</td>\n",
       "      <td>NaN</td>\n",
       "      <td>China</td>\n",
       "      <td>NaN</td>\n",
       "    </tr>\n",
       "    <tr>\n",
       "      <th>2</th>\n",
       "      <td>3</td>\n",
       "      <td>Gunnar Nielsen Aaby</td>\n",
       "      <td>M</td>\n",
       "      <td>24.0</td>\n",
       "      <td>NaN</td>\n",
       "      <td>NaN</td>\n",
       "      <td>Denmark</td>\n",
       "      <td>DEN</td>\n",
       "      <td>1920 Summer</td>\n",
       "      <td>1920</td>\n",
       "      <td>Summer</td>\n",
       "      <td>Antwerpen</td>\n",
       "      <td>Football</td>\n",
       "      <td>Football Men's Football</td>\n",
       "      <td>NaN</td>\n",
       "      <td>Denmark</td>\n",
       "      <td>NaN</td>\n",
       "    </tr>\n",
       "  </tbody>\n",
       "</table>\n",
       "</div>"
      ],
      "text/plain": [
       "   ID                 Name Sex   Age  Height  Weight     Team  NOC  \\\n",
       "0   1            A Dijiang   M  24.0   180.0    80.0    China  CHN   \n",
       "1   2             A Lamusi   M  23.0   170.0    60.0    China  CHN   \n",
       "2   3  Gunnar Nielsen Aaby   M  24.0     NaN     NaN  Denmark  DEN   \n",
       "\n",
       "         Games  Year  Season       City       Sport  \\\n",
       "0  1992 Summer  1992  Summer  Barcelona  Basketball   \n",
       "1  2012 Summer  2012  Summer     London        Judo   \n",
       "2  1920 Summer  1920  Summer  Antwerpen    Football   \n",
       "\n",
       "                          Event Medal   region notes  \n",
       "0   Basketball Men's Basketball   NaN    China   NaN  \n",
       "1  Judo Men's Extra-Lightweight   NaN    China   NaN  \n",
       "2       Football Men's Football   NaN  Denmark   NaN  "
      ]
     },
     "execution_count": 49,
     "metadata": {},
     "output_type": "execute_result"
    }
   ],
   "source": [
    "# we drop athletes who competed in different categories during the same games to avoid duplicates\n",
    "no_duplicates = df_merged.drop_duplicates(subset= ['Games', 'ID'])\n",
    "no_duplicates.head(3)"
   ]
  },
  {
   "cell_type": "code",
   "execution_count": 50,
   "metadata": {},
   "outputs": [
    {
     "data": {
      "text/html": [
       "<div>\n",
       "<style scoped>\n",
       "    .dataframe tbody tr th:only-of-type {\n",
       "        vertical-align: middle;\n",
       "    }\n",
       "\n",
       "    .dataframe tbody tr th {\n",
       "        vertical-align: top;\n",
       "    }\n",
       "\n",
       "    .dataframe thead th {\n",
       "        text-align: right;\n",
       "    }\n",
       "</style>\n",
       "<table border=\"1\" class=\"dataframe\">\n",
       "  <thead>\n",
       "    <tr style=\"text-align: right;\">\n",
       "      <th></th>\n",
       "      <th>Year</th>\n",
       "      <th>region</th>\n",
       "      <th>Nb of athletes</th>\n",
       "    </tr>\n",
       "  </thead>\n",
       "  <tbody>\n",
       "    <tr>\n",
       "      <th>0</th>\n",
       "      <td>1896</td>\n",
       "      <td>Australia</td>\n",
       "      <td>1</td>\n",
       "    </tr>\n",
       "    <tr>\n",
       "      <th>1</th>\n",
       "      <td>1896</td>\n",
       "      <td>Austria</td>\n",
       "      <td>3</td>\n",
       "    </tr>\n",
       "    <tr>\n",
       "      <th>2</th>\n",
       "      <td>1896</td>\n",
       "      <td>Denmark</td>\n",
       "      <td>3</td>\n",
       "    </tr>\n",
       "  </tbody>\n",
       "</table>\n",
       "</div>"
      ],
      "text/plain": [
       "   Year     region  Nb of athletes\n",
       "0  1896  Australia               1\n",
       "1  1896    Austria               3\n",
       "2  1896    Denmark               3"
      ]
     },
     "execution_count": 50,
     "metadata": {},
     "output_type": "execute_result"
    }
   ],
   "source": [
    "# number of athletes per country and per year\n",
    "athletes_per_country = no_duplicates.groupby(['Year', 'region']).size().reset_index(name='Nb of athletes')\n",
    "athletes_per_country.head(3)"
   ]
  },
  {
   "cell_type": "code",
   "execution_count": 51,
   "metadata": {},
   "outputs": [
    {
     "data": {
      "application/vnd.plotly.v1+json": {
       "config": {
        "plotlyServerURL": "https://plot.ly"
       },
       "data": [
        {
         "hovertemplate": "region=Australia<br>Year=%{x}<br>Nb of athletes=%{y}<extra></extra>",
         "legendgroup": "Australia",
         "line": {
          "color": "#636efa",
          "dash": "solid"
         },
         "marker": {
          "symbol": "circle"
         },
         "mode": "lines",
         "name": "Australia",
         "showlegend": true,
         "type": "scattergl",
         "x": [
          1896,
          1900,
          1904,
          1906,
          1908,
          1912,
          1920,
          1924,
          1928,
          1932,
          1936,
          1948,
          1952,
          1956,
          1960,
          1964,
          1968,
          1972,
          1976,
          1980,
          1984,
          1988,
          1992,
          1994,
          1996,
          1998,
          2000,
          2002,
          2004,
          2006,
          2008,
          2010,
          2012,
          2014,
          2016
         ],
         "xaxis": "x",
         "y": [
          1,
          2,
          2,
          4,
          30,
          25,
          13,
          37,
          18,
          13,
          33,
          75,
          90,
          306,
          219,
          248,
          131,
          172,
          188,
          129,
          252,
          271,
          301,
          25,
          417,
          23,
          617,
          25,
          470,
          40,
          432,
          40,
          405,
          60,
          420
         ],
         "yaxis": "y"
        },
        {
         "hovertemplate": "region=Austria<br>Year=%{x}<br>Nb of athletes=%{y}<extra></extra>",
         "legendgroup": "Austria",
         "line": {
          "color": "#EF553B",
          "dash": "solid"
         },
         "marker": {
          "symbol": "circle"
         },
         "mode": "lines",
         "name": "Austria",
         "showlegend": true,
         "type": "scattergl",
         "x": [
          1896,
          1900,
          1904,
          1906,
          1908,
          1912,
          1924,
          1928,
          1932,
          1936,
          1948,
          1952,
          1956,
          1960,
          1964,
          1968,
          1972,
          1976,
          1980,
          1984,
          1988,
          1992,
          1994,
          1996,
          1998,
          2000,
          2002,
          2004,
          2006,
          2008,
          2010,
          2012,
          2014,
          2016
         ],
         "xaxis": "x",
         "y": [
          3,
          16,
          2,
          31,
          7,
          85,
          53,
          112,
          26,
          294,
          202,
          151,
          94,
          129,
          139,
          119,
          151,
          137,
          126,
          167,
          154,
          160,
          80,
          72,
          96,
          92,
          90,
          74,
          73,
          70,
          75,
          70,
          126,
          71
         ],
         "yaxis": "y"
        },
        {
         "hovertemplate": "region=Denmark<br>Year=%{x}<br>Nb of athletes=%{y}<extra></extra>",
         "legendgroup": "Denmark",
         "line": {
          "color": "#00cc96",
          "dash": "solid"
         },
         "marker": {
          "symbol": "circle"
         },
         "mode": "lines",
         "name": "Denmark",
         "showlegend": true,
         "type": "scattergl",
         "x": [
          1896,
          1900,
          1906,
          1908,
          1912,
          1920,
          1924,
          1928,
          1932,
          1936,
          1948,
          1952,
          1956,
          1960,
          1964,
          1968,
          1972,
          1976,
          1980,
          1984,
          1988,
          1992,
          1994,
          1996,
          1998,
          2000,
          2002,
          2004,
          2006,
          2008,
          2010,
          2012,
          2014,
          2016
         ],
         "xaxis": "x",
         "y": [
          3,
          13,
          49,
          78,
          152,
          154,
          89,
          91,
          43,
          121,
          164,
          130,
          37,
          101,
          62,
          67,
          126,
          66,
          58,
          60,
          79,
          116,
          4,
          119,
          12,
          97,
          11,
          92,
          4,
          84,
          17,
          114,
          10,
          119
         ],
         "yaxis": "y"
        },
        {
         "hovertemplate": "region=France<br>Year=%{x}<br>Nb of athletes=%{y}<extra></extra>",
         "legendgroup": "France",
         "line": {
          "color": "#ab63fa",
          "dash": "solid"
         },
         "marker": {
          "symbol": "circle"
         },
         "mode": "lines",
         "name": "France",
         "showlegend": true,
         "type": "scattergl",
         "x": [
          1896,
          1900,
          1904,
          1906,
          1908,
          1912,
          1920,
          1924,
          1928,
          1932,
          1936,
          1948,
          1952,
          1956,
          1960,
          1964,
          1968,
          1972,
          1976,
          1980,
          1984,
          1988,
          1992,
          1994,
          1996,
          1998,
          2000,
          2002,
          2004,
          2006,
          2008,
          2010,
          2012,
          2014,
          2016
         ],
         "xaxis": "x",
         "y": [
          12,
          720,
          1,
          56,
          208,
          119,
          304,
          444,
          293,
          111,
          229,
          352,
          271,
          177,
          264,
          162,
          275,
          267,
          241,
          143,
          270,
          334,
          448,
          98,
          299,
          106,
          336,
          114,
          308,
          82,
          309,
          104,
          324,
          107,
          392
         ],
         "yaxis": "y"
        },
        {
         "hovertemplate": "region=Germany<br>Year=%{x}<br>Nb of athletes=%{y}<extra></extra>",
         "legendgroup": "Germany",
         "line": {
          "color": "#FFA15A",
          "dash": "solid"
         },
         "marker": {
          "symbol": "circle"
         },
         "mode": "lines",
         "name": "Germany",
         "showlegend": true,
         "type": "scattergl",
         "x": [
          1896,
          1900,
          1904,
          1906,
          1908,
          1912,
          1928,
          1932,
          1936,
          1952,
          1956,
          1960,
          1964,
          1968,
          1972,
          1976,
          1980,
          1984,
          1988,
          1992,
          1994,
          1996,
          1998,
          2000,
          2002,
          2004,
          2006,
          2008,
          2010,
          2012,
          2014,
          2016
         ],
         "xaxis": "x",
         "y": [
          19,
          76,
          22,
          49,
          82,
          185,
          339,
          165,
          488,
          294,
          230,
          368,
          433,
          645,
          841,
          687,
          479,
          530,
          749,
          574,
          112,
          466,
          125,
          422,
          157,
          441,
          155,
          420,
          149,
          383,
          151,
          418
         ],
         "yaxis": "y"
        },
        {
         "hovertemplate": "region=Greece<br>Year=%{x}<br>Nb of athletes=%{y}<extra></extra>",
         "legendgroup": "Greece",
         "line": {
          "color": "#19d3f3",
          "dash": "solid"
         },
         "marker": {
          "symbol": "circle"
         },
         "mode": "lines",
         "name": "Greece",
         "showlegend": true,
         "type": "scattergl",
         "x": [
          1896,
          1900,
          1904,
          1906,
          1908,
          1912,
          1920,
          1924,
          1928,
          1932,
          1936,
          1948,
          1952,
          1956,
          1960,
          1964,
          1968,
          1972,
          1976,
          1980,
          1984,
          1988,
          1992,
          1994,
          1996,
          1998,
          2000,
          2002,
          2004,
          2006,
          2008,
          2010,
          2012,
          2014,
          2016
         ],
         "xaxis": "x",
         "y": [
          102,
          3,
          14,
          320,
          20,
          22,
          47,
          39,
          23,
          10,
          42,
          62,
          51,
          16,
          48,
          21,
          47,
          63,
          40,
          44,
          69,
          62,
          78,
          9,
          121,
          13,
          140,
          10,
          426,
          5,
          152,
          7,
          102,
          7,
          92
         ],
         "yaxis": "y"
        },
        {
         "hovertemplate": "region=Hungary<br>Year=%{x}<br>Nb of athletes=%{y}<extra></extra>",
         "legendgroup": "Hungary",
         "line": {
          "color": "#FF6692",
          "dash": "solid"
         },
         "marker": {
          "symbol": "circle"
         },
         "mode": "lines",
         "name": "Hungary",
         "showlegend": true,
         "type": "scattergl",
         "x": [
          1896,
          1900,
          1904,
          1906,
          1908,
          1912,
          1924,
          1928,
          1932,
          1936,
          1948,
          1952,
          1956,
          1960,
          1964,
          1968,
          1972,
          1976,
          1980,
          1984,
          1988,
          1992,
          1994,
          1996,
          1998,
          2000,
          2002,
          2004,
          2006,
          2008,
          2010,
          2012,
          2014,
          2016
         ],
         "xaxis": "x",
         "y": [
          7,
          18,
          4,
          35,
          65,
          121,
          93,
          122,
          62,
          241,
          150,
          201,
          113,
          187,
          210,
          177,
          233,
          181,
          265,
          9,
          193,
          241,
          16,
          213,
          17,
          178,
          25,
          209,
          19,
          171,
          15,
          152,
          16,
          154
         ],
         "yaxis": "y"
        },
        {
         "hovertemplate": "region=Italy<br>Year=%{x}<br>Nb of athletes=%{y}<extra></extra>",
         "legendgroup": "Italy",
         "line": {
          "color": "#B6E880",
          "dash": "solid"
         },
         "marker": {
          "symbol": "circle"
         },
         "mode": "lines",
         "name": "Italy",
         "showlegend": true,
         "type": "scattergl",
         "x": [
          1896,
          1900,
          1904,
          1906,
          1908,
          1912,
          1920,
          1924,
          1928,
          1932,
          1936,
          1948,
          1952,
          1956,
          1960,
          1964,
          1968,
          1972,
          1976,
          1980,
          1984,
          1988,
          1992,
          1994,
          1996,
          1998,
          2000,
          2002,
          2004,
          2006,
          2008,
          2010,
          2012,
          2014,
          2016
         ],
         "xaxis": "x",
         "y": [
          1,
          23,
          1,
          76,
          66,
          66,
          174,
          223,
          187,
          124,
          284,
          269,
          264,
          200,
          308,
          229,
          214,
          268,
          268,
          205,
          342,
          311,
          411,
          104,
          340,
          113,
          361,
          109,
          364,
          179,
          333,
          109,
          281,
          110,
          309
         ],
         "yaxis": "y"
        },
        {
         "hovertemplate": "region=Sweden<br>Year=%{x}<br>Nb of athletes=%{y}<extra></extra>",
         "legendgroup": "Sweden",
         "line": {
          "color": "#FF97FF",
          "dash": "solid"
         },
         "marker": {
          "symbol": "circle"
         },
         "mode": "lines",
         "name": "Sweden",
         "showlegend": true,
         "type": "scattergl",
         "x": [
          1896,
          1900,
          1906,
          1908,
          1912,
          1920,
          1924,
          1928,
          1932,
          1936,
          1948,
          1952,
          1956,
          1960,
          1964,
          1968,
          1972,
          1976,
          1980,
          1984,
          1988,
          1992,
          1994,
          1996,
          1998,
          2000,
          2002,
          2004,
          2006,
          2008,
          2010,
          2012,
          2014,
          2016
         ],
         "xaxis": "x",
         "y": [
          1,
          10,
          39,
          168,
          444,
          260,
          190,
          124,
          93,
          203,
          224,
          271,
          155,
          181,
          151,
          168,
          189,
          155,
          206,
          234,
          252,
          260,
          84,
          177,
          99,
          150,
          102,
          115,
          106,
          123,
          101,
          133,
          99,
          150
         ],
         "yaxis": "y"
        },
        {
         "hovertemplate": "region=Switzerland<br>Year=%{x}<br>Nb of athletes=%{y}<extra></extra>",
         "legendgroup": "Switzerland",
         "line": {
          "color": "#FECB52",
          "dash": "solid"
         },
         "marker": {
          "symbol": "circle"
         },
         "mode": "lines",
         "name": "Switzerland",
         "showlegend": true,
         "type": "scattergl",
         "x": [
          1896,
          1900,
          1904,
          1906,
          1908,
          1912,
          1920,
          1924,
          1928,
          1932,
          1936,
          1948,
          1952,
          1956,
          1960,
          1964,
          1968,
          1972,
          1976,
          1980,
          1984,
          1988,
          1992,
          1994,
          1996,
          1998,
          2000,
          2002,
          2004,
          2006,
          2008,
          2010,
          2012,
          2014,
          2016
         ],
         "xaxis": "x",
         "y": [
          3,
          18,
          3,
          9,
          1,
          7,
          77,
          171,
          174,
          14,
          224,
          256,
          212,
          68,
          170,
          138,
          119,
          203,
          109,
          117,
          171,
          169,
          176,
          59,
          115,
          69,
          102,
          110,
          98,
          125,
          83,
          134,
          98,
          152,
          102
         ],
         "yaxis": "y"
        },
        {
         "hovertemplate": "region=UK<br>Year=%{x}<br>Nb of athletes=%{y}<extra></extra>",
         "legendgroup": "UK",
         "line": {
          "color": "#636efa",
          "dash": "solid"
         },
         "marker": {
          "symbol": "circle"
         },
         "mode": "lines",
         "name": "UK",
         "showlegend": true,
         "type": "scattergl",
         "x": [
          1896,
          1900,
          1904,
          1906,
          1908,
          1912,
          1920,
          1924,
          1928,
          1932,
          1936,
          1948,
          1952,
          1956,
          1960,
          1964,
          1968,
          1972,
          1976,
          1980,
          1984,
          1988,
          1992,
          1994,
          1996,
          1998,
          2000,
          2002,
          2004,
          2006,
          2008,
          2010,
          2012,
          2014,
          2016
         ],
         "xaxis": "x",
         "y": [
          10,
          104,
          6,
          48,
          735,
          274,
          234,
          311,
          264,
          111,
          246,
          462,
          275,
          238,
          270,
          240,
          263,
          321,
          284,
          267,
          387,
          393,
          420,
          32,
          300,
          34,
          310,
          49,
          264,
          39,
          304,
          52,
          530,
          53,
          360
         ],
         "yaxis": "y"
        },
        {
         "hovertemplate": "region=USA<br>Year=%{x}<br>Nb of athletes=%{y}<extra></extra>",
         "legendgroup": "USA",
         "line": {
          "color": "#EF553B",
          "dash": "solid"
         },
         "marker": {
          "symbol": "circle"
         },
         "mode": "lines",
         "name": "USA",
         "showlegend": true,
         "type": "scattergl",
         "x": [
          1896,
          1900,
          1904,
          1906,
          1908,
          1912,
          1920,
          1924,
          1928,
          1932,
          1936,
          1948,
          1952,
          1956,
          1960,
          1964,
          1968,
          1972,
          1976,
          1980,
          1984,
          1988,
          1992,
          1994,
          1996,
          1998,
          2000,
          2002,
          2004,
          2006,
          2008,
          2010,
          2012,
          2014,
          2016
         ],
         "xaxis": "x",
         "y": [
          14,
          75,
          524,
          38,
          122,
          174,
          288,
          323,
          304,
          538,
          414,
          369,
          352,
          372,
          371,
          436,
          453,
          503,
          502,
          101,
          629,
          644,
          693,
          148,
          648,
          186,
          586,
          202,
          533,
          204,
          588,
          212,
          530,
          222,
          555
         ],
         "yaxis": "y"
        },
        {
         "hovertemplate": "region=Argentina<br>Year=%{x}<br>Nb of athletes=%{y}<extra></extra>",
         "legendgroup": "Argentina",
         "line": {
          "color": "#00cc96",
          "dash": "solid"
         },
         "marker": {
          "symbol": "circle"
         },
         "mode": "lines",
         "name": "Argentina",
         "showlegend": true,
         "type": "scattergl",
         "x": [
          1900,
          1908,
          1920,
          1924,
          1928,
          1932,
          1936,
          1948,
          1952,
          1956,
          1960,
          1964,
          1968,
          1972,
          1976,
          1980,
          1984,
          1988,
          1992,
          1994,
          1996,
          1998,
          2000,
          2002,
          2004,
          2006,
          2008,
          2010,
          2012,
          2014,
          2016
         ],
         "xaxis": "x",
         "y": [
          1,
          1,
          1,
          77,
          91,
          33,
          51,
          208,
          135,
          35,
          98,
          114,
          94,
          94,
          77,
          13,
          99,
          133,
          104,
          10,
          179,
          2,
          143,
          11,
          152,
          9,
          132,
          7,
          137,
          7,
          215
         ],
         "yaxis": "y"
        },
        {
         "hovertemplate": "region=Belgium<br>Year=%{x}<br>Nb of athletes=%{y}<extra></extra>",
         "legendgroup": "Belgium",
         "line": {
          "color": "#ab63fa",
          "dash": "solid"
         },
         "marker": {
          "symbol": "circle"
         },
         "mode": "lines",
         "name": "Belgium",
         "showlegend": true,
         "type": "scattergl",
         "x": [
          1900,
          1906,
          1908,
          1912,
          1920,
          1924,
          1928,
          1932,
          1936,
          1948,
          1952,
          1956,
          1960,
          1964,
          1968,
          1972,
          1976,
          1980,
          1984,
          1988,
          1992,
          1994,
          1996,
          1998,
          2000,
          2002,
          2004,
          2006,
          2008,
          2010,
          2012,
          2014,
          2016
         ],
         "xaxis": "x",
         "y": [
          64,
          16,
          70,
          36,
          336,
          190,
          212,
          41,
          177,
          163,
          144,
          61,
          101,
          69,
          82,
          89,
          105,
          61,
          67,
          60,
          73,
          5,
          61,
          1,
          68,
          6,
          50,
          4,
          94,
          8,
          111,
          7,
          104
         ],
         "yaxis": "y"
        },
        {
         "hovertemplate": "region=Brazil<br>Year=%{x}<br>Nb of athletes=%{y}<extra></extra>",
         "legendgroup": "Brazil",
         "line": {
          "color": "#FFA15A",
          "dash": "solid"
         },
         "marker": {
          "symbol": "circle"
         },
         "mode": "lines",
         "name": "Brazil",
         "showlegend": true,
         "type": "scattergl",
         "x": [
          1900,
          1920,
          1924,
          1932,
          1936,
          1948,
          1952,
          1956,
          1960,
          1964,
          1968,
          1972,
          1976,
          1980,
          1984,
          1988,
          1992,
          1994,
          1996,
          1998,
          2000,
          2002,
          2004,
          2006,
          2008,
          2010,
          2012,
          2014,
          2016
         ],
         "xaxis": "x",
         "y": [
          1,
          19,
          12,
          59,
          73,
          70,
          97,
          47,
          72,
          61,
          76,
          81,
          79,
          106,
          147,
          160,
          189,
          1,
          221,
          1,
          198,
          10,
          243,
          9,
          268,
          5,
          248,
          13,
          462
         ],
         "yaxis": "y"
        },
        {
         "hovertemplate": "region=Canada<br>Year=%{x}<br>Nb of athletes=%{y}<extra></extra>",
         "legendgroup": "Canada",
         "line": {
          "color": "#19d3f3",
          "dash": "solid"
         },
         "marker": {
          "symbol": "circle"
         },
         "mode": "lines",
         "name": "Canada",
         "showlegend": true,
         "type": "scattergl",
         "x": [
          1900,
          1904,
          1906,
          1908,
          1912,
          1920,
          1924,
          1928,
          1932,
          1936,
          1948,
          1952,
          1956,
          1960,
          1964,
          1968,
          1972,
          1976,
          1980,
          1984,
          1988,
          1992,
          1994,
          1996,
          1998,
          2000,
          2002,
          2004,
          2006,
          2008,
          2010,
          2012,
          2014,
          2016
         ],
         "xaxis": "x",
         "y": [
          4,
          57,
          3,
          87,
          37,
          52,
          77,
          92,
          144,
          126,
          155,
          146,
          131,
          129,
          170,
          209,
          255,
          444,
          59,
          475,
          440,
          403,
          95,
          303,
          144,
          294,
          150,
          262,
          191,
          332,
          201,
          273,
          217,
          310
         ],
         "yaxis": "y"
        },
        {
         "hovertemplate": "region=Colombia<br>Year=%{x}<br>Nb of athletes=%{y}<extra></extra>",
         "legendgroup": "Colombia",
         "line": {
          "color": "#FF6692",
          "dash": "solid"
         },
         "marker": {
          "symbol": "circle"
         },
         "mode": "lines",
         "name": "Colombia",
         "showlegend": true,
         "type": "scattergl",
         "x": [
          1900,
          1932,
          1936,
          1948,
          1956,
          1960,
          1964,
          1968,
          1972,
          1976,
          1980,
          1984,
          1988,
          1992,
          1996,
          2000,
          2004,
          2008,
          2010,
          2012,
          2016
         ],
         "xaxis": "x",
         "y": [
          1,
          2,
          5,
          6,
          26,
          16,
          20,
          43,
          59,
          35,
          23,
          39,
          40,
          49,
          48,
          44,
          53,
          67,
          1,
          101,
          143
         ],
         "yaxis": "y"
        },
        {
         "hovertemplate": "region=Cuba<br>Year=%{x}<br>Nb of athletes=%{y}<extra></extra>",
         "legendgroup": "Cuba",
         "line": {
          "color": "#B6E880",
          "dash": "solid"
         },
         "marker": {
          "symbol": "circle"
         },
         "mode": "lines",
         "name": "Cuba",
         "showlegend": true,
         "type": "scattergl",
         "x": [
          1900,
          1904,
          1924,
          1928,
          1932,
          1948,
          1952,
          1956,
          1960,
          1964,
          1968,
          1972,
          1976,
          1980,
          1992,
          1996,
          2000,
          2004,
          2008,
          2012,
          2016
         ],
         "xaxis": "x",
         "y": [
          1,
          3,
          9,
          1,
          3,
          53,
          29,
          16,
          12,
          27,
          115,
          137,
          156,
          208,
          176,
          164,
          229,
          151,
          158,
          109,
          117
         ],
         "yaxis": "y"
        },
        {
         "hovertemplate": "region=Czech Republic<br>Year=%{x}<br>Nb of athletes=%{y}<extra></extra>",
         "legendgroup": "Czech Republic",
         "line": {
          "color": "#FF97FF",
          "dash": "solid"
         },
         "marker": {
          "symbol": "circle"
         },
         "mode": "lines",
         "name": "Czech Republic",
         "showlegend": true,
         "type": "scattergl",
         "x": [
          1900,
          1906,
          1908,
          1912,
          1920,
          1924,
          1928,
          1932,
          1936,
          1948,
          1952,
          1956,
          1960,
          1964,
          1968,
          1972,
          1976,
          1980,
          1984,
          1988,
          1992,
          1994,
          1996,
          1998,
          2000,
          2002,
          2004,
          2006,
          2008,
          2010,
          2012,
          2014,
          2016
         ],
         "xaxis": "x",
         "y": [
          7,
          13,
          19,
          43,
          119,
          160,
          94,
          31,
          234,
          134,
          121,
          104,
          137,
          150,
          169,
          222,
          221,
          250,
          50,
          222,
          282,
          63,
          115,
          61,
          119,
          76,
          142,
          83,
          134,
          90,
          133,
          87,
          104
         ],
         "yaxis": "y"
        },
        {
         "hovertemplate": "region=Haiti<br>Year=%{x}<br>Nb of athletes=%{y}<extra></extra>",
         "legendgroup": "Haiti",
         "line": {
          "color": "#FECB52",
          "dash": "solid"
         },
         "marker": {
          "symbol": "circle"
         },
         "mode": "lines",
         "name": "Haiti",
         "showlegend": true,
         "type": "scattergl",
         "x": [
          1900,
          1924,
          1928,
          1932,
          1960,
          1972,
          1976,
          1984,
          1988,
          1992,
          1996,
          2000,
          2004,
          2008,
          2012,
          2016
         ],
         "xaxis": "x",
         "y": [
          3,
          8,
          2,
          3,
          1,
          7,
          13,
          3,
          4,
          7,
          7,
          5,
          8,
          7,
          5,
          10
         ],
         "yaxis": "y"
        },
        {
         "hovertemplate": "region=India<br>Year=%{x}<br>Nb of athletes=%{y}<extra></extra>",
         "legendgroup": "India",
         "line": {
          "color": "#636efa",
          "dash": "solid"
         },
         "marker": {
          "symbol": "circle"
         },
         "mode": "lines",
         "name": "India",
         "showlegend": true,
         "type": "scattergl",
         "x": [
          1900,
          1920,
          1924,
          1928,
          1932,
          1936,
          1948,
          1952,
          1956,
          1960,
          1964,
          1968,
          1972,
          1976,
          1980,
          1984,
          1988,
          1992,
          1996,
          1998,
          2000,
          2002,
          2004,
          2006,
          2008,
          2010,
          2012,
          2014,
          2016
         ],
         "xaxis": "x",
         "y": [
          1,
          5,
          20,
          21,
          19,
          27,
          79,
          64,
          59,
          45,
          54,
          26,
          41,
          26,
          72,
          48,
          49,
          54,
          49,
          1,
          65,
          1,
          73,
          4,
          53,
          3,
          81,
          2,
          112
         ],
         "yaxis": "y"
        },
        {
         "hovertemplate": "region=Iran<br>Year=%{x}<br>Nb of athletes=%{y}<extra></extra>",
         "legendgroup": "Iran",
         "line": {
          "color": "#EF553B",
          "dash": "solid"
         },
         "marker": {
          "symbol": "circle"
         },
         "mode": "lines",
         "name": "Iran",
         "showlegend": true,
         "type": "scattergl",
         "x": [
          1900,
          1948,
          1952,
          1956,
          1960,
          1964,
          1968,
          1972,
          1976,
          1988,
          1992,
          1996,
          1998,
          2000,
          2002,
          2004,
          2006,
          2008,
          2010,
          2012,
          2014,
          2016
         ],
         "xaxis": "x",
         "y": [
          1,
          36,
          22,
          20,
          23,
          66,
          18,
          52,
          88,
          23,
          36,
          18,
          1,
          33,
          2,
          37,
          2,
          54,
          4,
          52,
          5,
          63
         ],
         "yaxis": "y"
        },
        {
         "hovertemplate": "region=Luxembourg<br>Year=%{x}<br>Nb of athletes=%{y}<extra></extra>",
         "legendgroup": "Luxembourg",
         "line": {
          "color": "#00cc96",
          "dash": "solid"
         },
         "marker": {
          "symbol": "circle"
         },
         "mode": "lines",
         "name": "Luxembourg",
         "showlegend": true,
         "type": "scattergl",
         "x": [
          1900,
          1912,
          1920,
          1924,
          1928,
          1932,
          1936,
          1948,
          1952,
          1956,
          1960,
          1964,
          1968,
          1972,
          1976,
          1980,
          1984,
          1988,
          1992,
          1994,
          1996,
          1998,
          2000,
          2004,
          2006,
          2008,
          2012,
          2014,
          2016
         ],
         "xaxis": "x",
         "y": [
          1,
          21,
          25,
          48,
          53,
          3,
          53,
          45,
          44,
          11,
          52,
          12,
          5,
          11,
          8,
          3,
          5,
          9,
          7,
          1,
          6,
          1,
          7,
          10,
          1,
          13,
          9,
          1,
          10
         ],
         "yaxis": "y"
        },
        {
         "hovertemplate": "region=Mexico<br>Year=%{x}<br>Nb of athletes=%{y}<extra></extra>",
         "legendgroup": "Mexico",
         "line": {
          "color": "#ab63fa",
          "dash": "solid"
         },
         "marker": {
          "symbol": "circle"
         },
         "mode": "lines",
         "name": "Mexico",
         "showlegend": true,
         "type": "scattergl",
         "x": [
          1900,
          1924,
          1928,
          1932,
          1936,
          1948,
          1952,
          1956,
          1960,
          1964,
          1968,
          1972,
          1976,
          1980,
          1984,
          1988,
          1992,
          1994,
          1996,
          2000,
          2002,
          2004,
          2008,
          2010,
          2012,
          2014,
          2016
         ],
         "xaxis": "x",
         "y": [
          3,
          15,
          35,
          73,
          32,
          88,
          64,
          24,
          69,
          94,
          275,
          174,
          97,
          45,
          100,
          94,
          122,
          1,
          98,
          78,
          3,
          109,
          83,
          1,
          99,
          1,
          123
         ],
         "yaxis": "y"
        },
        {
         "hovertemplate": "region=Netherlands<br>Year=%{x}<br>Nb of athletes=%{y}<extra></extra>",
         "legendgroup": "Netherlands",
         "line": {
          "color": "#FFA15A",
          "dash": "solid"
         },
         "marker": {
          "symbol": "circle"
         },
         "mode": "lines",
         "name": "Netherlands",
         "showlegend": true,
         "type": "scattergl",
         "x": [
          1900,
          1906,
          1908,
          1912,
          1920,
          1924,
          1928,
          1932,
          1936,
          1948,
          1952,
          1956,
          1960,
          1964,
          1968,
          1972,
          1976,
          1980,
          1984,
          1988,
          1992,
          1994,
          1996,
          1998,
          2000,
          2002,
          2004,
          2006,
          2008,
          2010,
          2012,
          2014,
          2016
         ],
         "xaxis": "x",
         "y": [
          35,
          16,
          113,
          33,
          130,
          177,
          273,
          46,
          173,
          153,
          115,
          9,
          117,
          131,
          116,
          130,
          115,
          104,
          149,
          158,
          220,
          21,
          239,
          22,
          231,
          27,
          210,
          33,
          237,
          32,
          173,
          39,
          237
         ],
         "yaxis": "y"
        },
        {
         "hovertemplate": "region=New Zealand<br>Year=%{x}<br>Nb of athletes=%{y}<extra></extra>",
         "legendgroup": "New Zealand",
         "line": {
          "color": "#19d3f3",
          "dash": "solid"
         },
         "marker": {
          "symbol": "circle"
         },
         "mode": "lines",
         "name": "New Zealand",
         "showlegend": true,
         "type": "scattergl",
         "x": [
          1900,
          1920,
          1924,
          1928,
          1932,
          1936,
          1948,
          1952,
          1956,
          1960,
          1964,
          1968,
          1972,
          1976,
          1980,
          1984,
          1988,
          1992,
          1994,
          1996,
          1998,
          2000,
          2002,
          2004,
          2006,
          2008,
          2010,
          2012,
          2014,
          2016
         ],
         "xaxis": "x",
         "y": [
          1,
          4,
          4,
          9,
          21,
          7,
          7,
          17,
          51,
          41,
          64,
          58,
          91,
          85,
          9,
          136,
          92,
          140,
          7,
          95,
          8,
          147,
          10,
          148,
          15,
          178,
          16,
          178,
          14,
          195
         ],
         "yaxis": "y"
        },
        {
         "hovertemplate": "region=Norway<br>Year=%{x}<br>Nb of athletes=%{y}<extra></extra>",
         "legendgroup": "Norway",
         "line": {
          "color": "#FF6692",
          "dash": "solid"
         },
         "marker": {
          "symbol": "circle"
         },
         "mode": "lines",
         "name": "Norway",
         "showlegend": true,
         "type": "scattergl",
         "x": [
          1900,
          1904,
          1906,
          1908,
          1912,
          1920,
          1924,
          1928,
          1932,
          1936,
          1948,
          1952,
          1956,
          1960,
          1964,
          1968,
          1972,
          1976,
          1980,
          1984,
          1988,
          1992,
          1994,
          1996,
          1998,
          2000,
          2002,
          2004,
          2006,
          2008,
          2010,
          2012,
          2014,
          2016
         ],
         "xaxis": "x",
         "y": [
          7,
          3,
          32,
          69,
          190,
          193,
          76,
          77,
          26,
          101,
          130,
          175,
          67,
          69,
          84,
          111,
          179,
          107,
          63,
          161,
          132,
          162,
          87,
          97,
          75,
          93,
          77,
          52,
          67,
          84,
          95,
          61,
          110,
          62
         ],
         "yaxis": "y"
        },
        {
         "hovertemplate": "region=Peru<br>Year=%{x}<br>Nb of athletes=%{y}<extra></extra>",
         "legendgroup": "Peru",
         "line": {
          "color": "#B6E880",
          "dash": "solid"
         },
         "marker": {
          "symbol": "circle"
         },
         "mode": "lines",
         "name": "Peru",
         "showlegend": true,
         "type": "scattergl",
         "x": [
          1900,
          1932,
          1936,
          1948,
          1956,
          1960,
          1964,
          1968,
          1972,
          1976,
          1980,
          1984,
          1988,
          1992,
          1996,
          2000,
          2004,
          2008,
          2010,
          2012,
          2014,
          2016
         ],
         "xaxis": "x",
         "y": [
          1,
          2,
          40,
          41,
          8,
          31,
          31,
          28,
          20,
          13,
          28,
          35,
          21,
          16,
          29,
          21,
          12,
          13,
          3,
          16,
          3,
          29
         ],
         "yaxis": "y"
        },
        {
         "hovertemplate": "region=Romania<br>Year=%{x}<br>Nb of athletes=%{y}<extra></extra>",
         "legendgroup": "Romania",
         "line": {
          "color": "#FF97FF",
          "dash": "solid"
         },
         "marker": {
          "symbol": "circle"
         },
         "mode": "lines",
         "name": "Romania",
         "showlegend": true,
         "type": "scattergl",
         "x": [
          1900,
          1924,
          1928,
          1932,
          1936,
          1948,
          1952,
          1956,
          1960,
          1964,
          1968,
          1972,
          1976,
          1980,
          1984,
          1988,
          1992,
          1994,
          1996,
          1998,
          2000,
          2002,
          2004,
          2006,
          2008,
          2010,
          2012,
          2014,
          2016
         ],
         "xaxis": "x",
         "y": [
          1,
          35,
          31,
          5,
          69,
          7,
          130,
          69,
          98,
          165,
          112,
          172,
          189,
          263,
          143,
          79,
          196,
          23,
          165,
          16,
          145,
          21,
          108,
          25,
          101,
          28,
          105,
          22,
          95
         ],
         "yaxis": "y"
        },
        {
         "hovertemplate": "region=Russia<br>Year=%{x}<br>Nb of athletes=%{y}<extra></extra>",
         "legendgroup": "Russia",
         "line": {
          "color": "#FECB52",
          "dash": "solid"
         },
         "marker": {
          "symbol": "circle"
         },
         "mode": "lines",
         "name": "Russia",
         "showlegend": true,
         "type": "scattergl",
         "x": [
          1900,
          1908,
          1912,
          1924,
          1952,
          1956,
          1960,
          1964,
          1968,
          1972,
          1976,
          1980,
          1984,
          1988,
          1992,
          1994,
          1996,
          1998,
          2000,
          2002,
          2004,
          2006,
          2008,
          2010,
          2012,
          2014,
          2016
         ],
         "xaxis": "x",
         "y": [
          4,
          6,
          159,
          3,
          295,
          334,
          345,
          386,
          386,
          447,
          489,
          575,
          99,
          582,
          604,
          113,
          390,
          122,
          435,
          151,
          446,
          174,
          454,
          175,
          429,
          213,
          284
         ],
         "yaxis": "y"
        },
        {
         "hovertemplate": "region=Spain<br>Year=%{x}<br>Nb of athletes=%{y}<extra></extra>",
         "legendgroup": "Spain",
         "line": {
          "color": "#636efa",
          "dash": "solid"
         },
         "marker": {
          "symbol": "circle"
         },
         "mode": "lines",
         "name": "Spain",
         "showlegend": true,
         "type": "scattergl",
         "x": [
          1900,
          1920,
          1924,
          1928,
          1932,
          1936,
          1948,
          1952,
          1956,
          1960,
          1964,
          1968,
          1972,
          1976,
          1980,
          1984,
          1988,
          1992,
          1994,
          1996,
          1998,
          2000,
          2002,
          2004,
          2006,
          2008,
          2010,
          2012,
          2014,
          2016
         ],
         "xaxis": "x",
         "y": [
          9,
          58,
          95,
          80,
          7,
          6,
          71,
          31,
          15,
          148,
          57,
          142,
          126,
          117,
          163,
          191,
          241,
          439,
          13,
          289,
          12,
          321,
          7,
          316,
          16,
          283,
          18,
          278,
          20,
          307
         ],
         "yaxis": "y"
        },
        {
         "hovertemplate": "region=South Africa<br>Year=%{x}<br>Nb of athletes=%{y}<extra></extra>",
         "legendgroup": "South Africa",
         "line": {
          "color": "#EF553B",
          "dash": "solid"
         },
         "marker": {
          "symbol": "circle"
         },
         "mode": "lines",
         "name": "South Africa",
         "showlegend": true,
         "type": "scattergl",
         "x": [
          1904,
          1908,
          1912,
          1920,
          1924,
          1928,
          1932,
          1936,
          1948,
          1952,
          1956,
          1960,
          1992,
          1994,
          1996,
          1998,
          2000,
          2002,
          2004,
          2006,
          2008,
          2010,
          2012,
          2016
         ],
         "xaxis": "x",
         "y": [
          8,
          14,
          21,
          39,
          30,
          24,
          12,
          32,
          35,
          64,
          50,
          59,
          93,
          2,
          84,
          2,
          127,
          1,
          106,
          3,
          134,
          2,
          124,
          135
         ],
         "yaxis": "y"
        },
        {
         "hovertemplate": "region=Egypt<br>Year=%{x}<br>Nb of athletes=%{y}<extra></extra>",
         "legendgroup": "Egypt",
         "line": {
          "color": "#00cc96",
          "dash": "solid"
         },
         "marker": {
          "symbol": "circle"
         },
         "mode": "lines",
         "name": "Egypt",
         "showlegend": true,
         "type": "scattergl",
         "x": [
          1906,
          1920,
          1924,
          1928,
          1936,
          1948,
          1952,
          1956,
          1964,
          1968,
          1972,
          1976,
          1984,
          1988,
          1992,
          1996,
          2000,
          2004,
          2008,
          2012,
          2016
         ],
         "xaxis": "x",
         "y": [
          2,
          18,
          24,
          32,
          53,
          85,
          106,
          3,
          73,
          30,
          23,
          26,
          115,
          49,
          75,
          29,
          89,
          97,
          100,
          109,
          121
         ],
         "yaxis": "y"
        },
        {
         "hovertemplate": "region=Finland<br>Year=%{x}<br>Nb of athletes=%{y}<extra></extra>",
         "legendgroup": "Finland",
         "line": {
          "color": "#ab63fa",
          "dash": "solid"
         },
         "marker": {
          "symbol": "circle"
         },
         "mode": "lines",
         "name": "Finland",
         "showlegend": true,
         "type": "scattergl",
         "x": [
          1906,
          1908,
          1912,
          1920,
          1924,
          1928,
          1932,
          1936,
          1948,
          1952,
          1956,
          1960,
          1964,
          1968,
          1972,
          1976,
          1980,
          1984,
          1988,
          1992,
          1994,
          1996,
          1998,
          2000,
          2002,
          2004,
          2006,
          2008,
          2010,
          2012,
          2014,
          2016
         ],
         "xaxis": "x",
         "y": [
          4,
          62,
          164,
          63,
          138,
          87,
          47,
          127,
          153,
          308,
          102,
          165,
          140,
          118,
          146,
          130,
          157,
          131,
          131,
          150,
          61,
          76,
          85,
          70,
          98,
          53,
          90,
          57,
          91,
          56,
          99,
          54
         ],
         "yaxis": "y"
        },
        {
         "hovertemplate": "region=Turkey<br>Year=%{x}<br>Nb of athletes=%{y}<extra></extra>",
         "legendgroup": "Turkey",
         "line": {
          "color": "#FFA15A",
          "dash": "solid"
         },
         "marker": {
          "symbol": "circle"
         },
         "mode": "lines",
         "name": "Turkey",
         "showlegend": true,
         "type": "scattergl",
         "x": [
          1906,
          1912,
          1924,
          1928,
          1932,
          1936,
          1948,
          1952,
          1956,
          1960,
          1964,
          1968,
          1972,
          1976,
          1984,
          1988,
          1992,
          1994,
          1996,
          1998,
          2000,
          2002,
          2004,
          2006,
          2008,
          2010,
          2012,
          2014,
          2016
         ],
         "xaxis": "x",
         "y": [
          1,
          2,
          22,
          31,
          1,
          54,
          62,
          51,
          23,
          51,
          28,
          40,
          43,
          36,
          53,
          49,
          49,
          1,
          53,
          1,
          57,
          3,
          64,
          6,
          67,
          5,
          112,
          6,
          100
         ],
         "yaxis": "y"
        },
        {
         "hovertemplate": "region=Iceland<br>Year=%{x}<br>Nb of athletes=%{y}<extra></extra>",
         "legendgroup": "Iceland",
         "line": {
          "color": "#19d3f3",
          "dash": "solid"
         },
         "marker": {
          "symbol": "circle"
         },
         "mode": "lines",
         "name": "Iceland",
         "showlegend": true,
         "type": "scattergl",
         "x": [
          1908,
          1912,
          1936,
          1948,
          1952,
          1956,
          1960,
          1964,
          1968,
          1972,
          1976,
          1980,
          1984,
          1988,
          1992,
          1994,
          1996,
          1998,
          2000,
          2002,
          2004,
          2006,
          2008,
          2010,
          2012,
          2014,
          2016
         ],
         "xaxis": "x",
         "y": [
          1,
          2,
          12,
          24,
          20,
          9,
          13,
          9,
          12,
          25,
          21,
          15,
          35,
          35,
          32,
          5,
          9,
          7,
          18,
          6,
          26,
          5,
          27,
          4,
          27,
          5,
          8
         ],
         "yaxis": "y"
        },
        {
         "hovertemplate": "region=Chile<br>Year=%{x}<br>Nb of athletes=%{y}<extra></extra>",
         "legendgroup": "Chile",
         "line": {
          "color": "#FF6692",
          "dash": "solid"
         },
         "marker": {
          "symbol": "circle"
         },
         "mode": "lines",
         "name": "Chile",
         "showlegend": true,
         "type": "scattergl",
         "x": [
          1912,
          1920,
          1924,
          1928,
          1936,
          1948,
          1952,
          1956,
          1960,
          1964,
          1968,
          1972,
          1976,
          1984,
          1988,
          1992,
          1994,
          1996,
          1998,
          2000,
          2002,
          2004,
          2006,
          2008,
          2010,
          2012,
          2014,
          2016
         ],
         "xaxis": "x",
         "y": [
          14,
          2,
          13,
          38,
          40,
          58,
          62,
          36,
          14,
          19,
          25,
          11,
          12,
          56,
          22,
          17,
          3,
          21,
          3,
          50,
          6,
          22,
          9,
          26,
          3,
          35,
          6,
          42
         ],
         "yaxis": "y"
        },
        {
         "hovertemplate": "region=Japan<br>Year=%{x}<br>Nb of athletes=%{y}<extra></extra>",
         "legendgroup": "Japan",
         "line": {
          "color": "#B6E880",
          "dash": "solid"
         },
         "marker": {
          "symbol": "circle"
         },
         "mode": "lines",
         "name": "Japan",
         "showlegend": true,
         "type": "scattergl",
         "x": [
          1912,
          1920,
          1924,
          1928,
          1932,
          1936,
          1952,
          1956,
          1960,
          1964,
          1968,
          1972,
          1976,
          1980,
          1984,
          1988,
          1992,
          1994,
          1996,
          1998,
          2000,
          2002,
          2004,
          2006,
          2008,
          2010,
          2012,
          2014,
          2016
         ],
         "xaxis": "x",
         "y": [
          2,
          15,
          19,
          46,
          173,
          251,
          82,
          122,
          203,
          375,
          232,
          269,
          271,
          50,
          265,
          303,
          316,
          59,
          306,
          156,
          266,
          103,
          306,
          110,
          332,
          91,
          291,
          109,
          335
         ],
         "yaxis": "y"
        },
        {
         "hovertemplate": "region=Poland<br>Year=%{x}<br>Nb of athletes=%{y}<extra></extra>",
         "legendgroup": "Poland",
         "line": {
          "color": "#FF97FF",
          "dash": "solid"
         },
         "marker": {
          "symbol": "circle"
         },
         "mode": "lines",
         "name": "Poland",
         "showlegend": true,
         "type": "scattergl",
         "x": [
          1912,
          1924,
          1928,
          1932,
          1936,
          1948,
          1952,
          1956,
          1960,
          1964,
          1968,
          1972,
          1976,
          1980,
          1984,
          1988,
          1992,
          1994,
          1996,
          1998,
          2000,
          2002,
          2004,
          2006,
          2008,
          2010,
          2012,
          2014,
          2016
         ],
         "xaxis": "x",
         "y": [
          1,
          72,
          117,
          66,
          164,
          67,
          155,
          115,
          198,
          191,
          208,
          337,
          263,
          336,
          30,
          175,
          254,
          28,
          165,
          39,
          187,
          27,
          194,
          45,
          257,
          46,
          210,
          58,
          234
         ],
         "yaxis": "y"
        },
        {
         "hovertemplate": "region=Portugal<br>Year=%{x}<br>Nb of athletes=%{y}<extra></extra>",
         "legendgroup": "Portugal",
         "line": {
          "color": "#FECB52",
          "dash": "solid"
         },
         "marker": {
          "symbol": "circle"
         },
         "mode": "lines",
         "name": "Portugal",
         "showlegend": true,
         "type": "scattergl",
         "x": [
          1912,
          1920,
          1924,
          1928,
          1932,
          1936,
          1948,
          1952,
          1956,
          1960,
          1964,
          1968,
          1972,
          1976,
          1980,
          1984,
          1988,
          1992,
          1994,
          1996,
          1998,
          2000,
          2004,
          2006,
          2008,
          2010,
          2012,
          2014,
          2016
         ],
         "xaxis": "x",
         "y": [
          6,
          13,
          28,
          32,
          6,
          19,
          48,
          72,
          12,
          65,
          20,
          20,
          29,
          19,
          11,
          38,
          70,
          90,
          1,
          107,
          2,
          61,
          81,
          1,
          77,
          1,
          76,
          2,
          90
         ],
         "yaxis": "y"
        },
        {
         "hovertemplate": "region=Serbia<br>Year=%{x}<br>Nb of athletes=%{y}<extra></extra>",
         "legendgroup": "Serbia",
         "line": {
          "color": "#636efa",
          "dash": "solid"
         },
         "marker": {
          "symbol": "circle"
         },
         "mode": "lines",
         "name": "Serbia",
         "showlegend": true,
         "type": "scattergl",
         "x": [
          1912,
          1920,
          1924,
          1928,
          1932,
          1936,
          1948,
          1952,
          1956,
          1960,
          1964,
          1968,
          1972,
          1976,
          1980,
          1984,
          1988,
          1992,
          1996,
          1998,
          2000,
          2002,
          2004,
          2006,
          2008,
          2010,
          2012,
          2014,
          2016
         ],
         "xaxis": "x",
         "y": [
          2,
          15,
          46,
          40,
          1,
          110,
          107,
          93,
          52,
          116,
          106,
          99,
          152,
          116,
          179,
          211,
          177,
          25,
          68,
          2,
          109,
          6,
          85,
          6,
          87,
          10,
          116,
          8,
          103
         ],
         "yaxis": "y"
        },
        {
         "hovertemplate": "region=Estonia<br>Year=%{x}<br>Nb of athletes=%{y}<extra></extra>",
         "legendgroup": "Estonia",
         "line": {
          "color": "#EF553B",
          "dash": "solid"
         },
         "marker": {
          "symbol": "circle"
         },
         "mode": "lines",
         "name": "Estonia",
         "showlegend": true,
         "type": "scattergl",
         "x": [
          1920,
          1924,
          1928,
          1932,
          1936,
          1992,
          1994,
          1996,
          1998,
          2000,
          2002,
          2004,
          2006,
          2008,
          2010,
          2012,
          2014,
          2016
         ],
         "xaxis": "x",
         "y": [
          14,
          37,
          22,
          2,
          38,
          56,
          26,
          43,
          20,
          33,
          17,
          42,
          26,
          47,
          30,
          32,
          25,
          46
         ],
         "yaxis": "y"
        },
        {
         "hovertemplate": "region=Monaco<br>Year=%{x}<br>Nb of athletes=%{y}<extra></extra>",
         "legendgroup": "Monaco",
         "line": {
          "color": "#00cc96",
          "dash": "solid"
         },
         "marker": {
          "symbol": "circle"
         },
         "mode": "lines",
         "name": "Monaco",
         "showlegend": true,
         "type": "scattergl",
         "x": [
          1920,
          1924,
          1928,
          1932,
          1936,
          1948,
          1952,
          1960,
          1964,
          1968,
          1972,
          1976,
          1984,
          1988,
          1992,
          1994,
          1996,
          1998,
          2000,
          2002,
          2004,
          2006,
          2008,
          2010,
          2012,
          2014,
          2016
         ],
         "xaxis": "x",
         "y": [
          4,
          7,
          10,
          1,
          8,
          4,
          8,
          11,
          1,
          2,
          5,
          8,
          9,
          12,
          7,
          5,
          3,
          4,
          4,
          5,
          3,
          4,
          5,
          3,
          6,
          5,
          3
         ],
         "yaxis": "y"
        },
        {
         "hovertemplate": "region=Bulgaria<br>Year=%{x}<br>Nb of athletes=%{y}<extra></extra>",
         "legendgroup": "Bulgaria",
         "line": {
          "color": "#ab63fa",
          "dash": "solid"
         },
         "marker": {
          "symbol": "circle"
         },
         "mode": "lines",
         "name": "Bulgaria",
         "showlegend": true,
         "type": "scattergl",
         "x": [
          1924,
          1928,
          1932,
          1936,
          1948,
          1952,
          1956,
          1960,
          1964,
          1968,
          1972,
          1976,
          1980,
          1984,
          1988,
          1992,
          1994,
          1996,
          1998,
          2000,
          2002,
          2004,
          2006,
          2008,
          2010,
          2012,
          2014,
          2016
         ],
         "xaxis": "x",
         "y": [
          24,
          5,
          2,
          33,
          4,
          73,
          54,
          105,
          70,
          118,
          134,
          187,
          279,
          16,
          199,
          168,
          17,
          110,
          19,
          91,
          23,
          95,
          21,
          70,
          19,
          63,
          18,
          51
         ],
         "yaxis": "y"
        },
        {
         "hovertemplate": "region=Ecuador<br>Year=%{x}<br>Nb of athletes=%{y}<extra></extra>",
         "legendgroup": "Ecuador",
         "line": {
          "color": "#FFA15A",
          "dash": "solid"
         },
         "marker": {
          "symbol": "circle"
         },
         "mode": "lines",
         "name": "Ecuador",
         "showlegend": true,
         "type": "scattergl",
         "x": [
          1924,
          1968,
          1972,
          1976,
          1980,
          1984,
          1988,
          1992,
          1996,
          2000,
          2004,
          2008,
          2012,
          2016
         ],
         "xaxis": "x",
         "y": [
          3,
          15,
          2,
          5,
          12,
          11,
          13,
          13,
          19,
          10,
          16,
          25,
          36,
          37
         ],
         "yaxis": "y"
        },
        {
         "hovertemplate": "region=Ireland<br>Year=%{x}<br>Nb of athletes=%{y}<extra></extra>",
         "legendgroup": "Ireland",
         "line": {
          "color": "#19d3f3",
          "dash": "solid"
         },
         "marker": {
          "symbol": "circle"
         },
         "mode": "lines",
         "name": "Ireland",
         "showlegend": true,
         "type": "scattergl",
         "x": [
          1924,
          1928,
          1932,
          1948,
          1952,
          1956,
          1960,
          1964,
          1968,
          1972,
          1976,
          1980,
          1984,
          1988,
          1992,
          1996,
          1998,
          2000,
          2002,
          2004,
          2006,
          2008,
          2010,
          2012,
          2014,
          2016
         ],
         "xaxis": "x",
         "y": [
          48,
          38,
          16,
          73,
          19,
          18,
          49,
          25,
          31,
          59,
          44,
          47,
          42,
          61,
          62,
          78,
          6,
          64,
          6,
          46,
          4,
          55,
          6,
          64,
          5,
          76
         ],
         "yaxis": "y"
        },
        {
         "hovertemplate": "region=Latvia<br>Year=%{x}<br>Nb of athletes=%{y}<extra></extra>",
         "legendgroup": "Latvia",
         "line": {
          "color": "#FF6692",
          "dash": "solid"
         },
         "marker": {
          "symbol": "circle"
         },
         "mode": "lines",
         "name": "Latvia",
         "showlegend": true,
         "type": "scattergl",
         "x": [
          1924,
          1928,
          1932,
          1936,
          1992,
          1994,
          1996,
          1998,
          2000,
          2002,
          2004,
          2006,
          2008,
          2010,
          2012,
          2014,
          2016
         ],
         "xaxis": "x",
         "y": [
          38,
          18,
          5,
          55,
          57,
          27,
          47,
          29,
          45,
          47,
          32,
          57,
          47,
          53,
          45,
          56,
          32
         ],
         "yaxis": "y"
        },
        {
         "hovertemplate": "region=Lithuania<br>Year=%{x}<br>Nb of athletes=%{y}<extra></extra>",
         "legendgroup": "Lithuania",
         "line": {
          "color": "#B6E880",
          "dash": "solid"
         },
         "marker": {
          "symbol": "circle"
         },
         "mode": "lines",
         "name": "Lithuania",
         "showlegend": true,
         "type": "scattergl",
         "x": [
          1924,
          1928,
          1992,
          1994,
          1996,
          1998,
          2000,
          2002,
          2004,
          2006,
          2008,
          2010,
          2012,
          2014,
          2016
         ],
         "xaxis": "x",
         "y": [
          13,
          13,
          53,
          6,
          61,
          7,
          61,
          8,
          59,
          7,
          71,
          6,
          62,
          9,
          67
         ],
         "yaxis": "y"
        },
        {
         "hovertemplate": "region=Nepal<br>Year=%{x}<br>Nb of athletes=%{y}<extra></extra>",
         "legendgroup": "Nepal",
         "line": {
          "color": "#FF97FF",
          "dash": "solid"
         },
         "marker": {
          "symbol": "circle"
         },
         "mode": "lines",
         "name": "Nepal",
         "showlegend": true,
         "type": "scattergl",
         "x": [
          1924,
          1964,
          1972,
          1976,
          1980,
          1984,
          1988,
          1992,
          1996,
          2000,
          2002,
          2004,
          2006,
          2008,
          2010,
          2012,
          2014,
          2016
         ],
         "xaxis": "x",
         "y": [
          1,
          6,
          2,
          1,
          10,
          10,
          16,
          2,
          6,
          5,
          1,
          6,
          1,
          8,
          1,
          5,
          1,
          7
         ],
         "yaxis": "y"
        },
        {
         "hovertemplate": "region=Philippines<br>Year=%{x}<br>Nb of athletes=%{y}<extra></extra>",
         "legendgroup": "Philippines",
         "line": {
          "color": "#FECB52",
          "dash": "solid"
         },
         "marker": {
          "symbol": "circle"
         },
         "mode": "lines",
         "name": "Philippines",
         "showlegend": true,
         "type": "scattergl",
         "x": [
          1924,
          1928,
          1932,
          1936,
          1948,
          1952,
          1956,
          1960,
          1964,
          1968,
          1972,
          1976,
          1984,
          1988,
          1992,
          1996,
          2000,
          2004,
          2008,
          2012,
          2014,
          2016
         ],
         "xaxis": "x",
         "y": [
          1,
          4,
          8,
          28,
          26,
          25,
          39,
          40,
          47,
          49,
          55,
          14,
          19,
          32,
          27,
          12,
          20,
          16,
          15,
          11,
          1,
          13
         ],
         "yaxis": "y"
        },
        {
         "hovertemplate": "region=Uruguay<br>Year=%{x}<br>Nb of athletes=%{y}<extra></extra>",
         "legendgroup": "Uruguay",
         "line": {
          "color": "#636efa",
          "dash": "solid"
         },
         "marker": {
          "symbol": "circle"
         },
         "mode": "lines",
         "name": "Uruguay",
         "showlegend": true,
         "type": "scattergl",
         "x": [
          1924,
          1928,
          1932,
          1936,
          1948,
          1952,
          1956,
          1960,
          1964,
          1968,
          1972,
          1976,
          1984,
          1988,
          1992,
          1996,
          1998,
          2000,
          2004,
          2008,
          2012,
          2016
         ],
         "xaxis": "x",
         "y": [
          26,
          17,
          2,
          37,
          61,
          32,
          21,
          34,
          23,
          27,
          13,
          9,
          18,
          15,
          16,
          14,
          1,
          15,
          15,
          12,
          27,
          17
         ],
         "yaxis": "y"
        },
        {
         "hovertemplate": "region=Malta<br>Year=%{x}<br>Nb of athletes=%{y}<extra></extra>",
         "legendgroup": "Malta",
         "line": {
          "color": "#EF553B",
          "dash": "solid"
         },
         "marker": {
          "symbol": "circle"
         },
         "mode": "lines",
         "name": "Malta",
         "showlegend": true,
         "type": "scattergl",
         "x": [
          1928,
          1936,
          1948,
          1960,
          1968,
          1972,
          1980,
          1984,
          1988,
          1992,
          1996,
          2000,
          2004,
          2008,
          2012,
          2014,
          2016
         ],
         "xaxis": "x",
         "y": [
          9,
          11,
          1,
          10,
          1,
          5,
          8,
          7,
          6,
          6,
          7,
          7,
          7,
          6,
          5,
          1,
          7
         ],
         "yaxis": "y"
        },
        {
         "hovertemplate": "region=Panama<br>Year=%{x}<br>Nb of athletes=%{y}<extra></extra>",
         "legendgroup": "Panama",
         "line": {
          "color": "#00cc96",
          "dash": "solid"
         },
         "marker": {
          "symbol": "circle"
         },
         "mode": "lines",
         "name": "Panama",
         "showlegend": true,
         "type": "scattergl",
         "x": [
          1928,
          1948,
          1952,
          1960,
          1964,
          1968,
          1972,
          1976,
          1984,
          1988,
          1992,
          1996,
          2000,
          2004,
          2008,
          2012,
          2016
         ],
         "xaxis": "x",
         "y": [
          1,
          1,
          1,
          6,
          10,
          16,
          7,
          8,
          8,
          6,
          5,
          7,
          6,
          4,
          5,
          8,
          10
         ],
         "yaxis": "y"
        },
        {
         "hovertemplate": "region=Zimbabwe<br>Year=%{x}<br>Nb of athletes=%{y}<extra></extra>",
         "legendgroup": "Zimbabwe",
         "line": {
          "color": "#ab63fa",
          "dash": "solid"
         },
         "marker": {
          "symbol": "circle"
         },
         "mode": "lines",
         "name": "Zimbabwe",
         "showlegend": true,
         "type": "scattergl",
         "x": [
          1928,
          1960,
          1964,
          1980,
          1984,
          1988,
          1992,
          1996,
          2000,
          2004,
          2008,
          2012,
          2014,
          2016
         ],
         "xaxis": "x",
         "y": [
          2,
          14,
          29,
          42,
          15,
          29,
          19,
          13,
          16,
          12,
          13,
          7,
          1,
          30
         ],
         "yaxis": "y"
        },
        {
         "hovertemplate": "region=China<br>Year=%{x}<br>Nb of athletes=%{y}<extra></extra>",
         "legendgroup": "China",
         "line": {
          "color": "#FFA15A",
          "dash": "solid"
         },
         "marker": {
          "symbol": "circle"
         },
         "mode": "lines",
         "name": "China",
         "showlegend": true,
         "type": "scattergl",
         "x": [
          1932,
          1936,
          1948,
          1952,
          1956,
          1960,
          1964,
          1968,
          1972,
          1976,
          1980,
          1984,
          1988,
          1992,
          1994,
          1996,
          1998,
          2000,
          2002,
          2004,
          2006,
          2008,
          2010,
          2012,
          2014,
          2016
         ],
         "xaxis": "x",
         "y": [
          1,
          54,
          31,
          5,
          2,
          4,
          39,
          11,
          10,
          25,
          24,
          299,
          334,
          314,
          24,
          317,
          57,
          302,
          68,
          415,
          74,
          633,
          87,
          416,
          63,
          429
         ],
         "yaxis": "y"
        },
        {
         "hovertemplate": "region=El Salvador<br>Year=%{x}<br>Nb of athletes=%{y}<extra></extra>",
         "legendgroup": "El Salvador",
         "line": {
          "color": "#19d3f3",
          "dash": "solid"
         },
         "marker": {
          "symbol": "circle"
         },
         "mode": "lines",
         "name": "El Salvador",
         "showlegend": true,
         "type": "scattergl",
         "x": [
          1932,
          1968,
          1972,
          1984,
          1988,
          1992,
          1996,
          2000,
          2004,
          2008,
          2012,
          2016
         ],
         "xaxis": "x",
         "y": [
          1,
          60,
          11,
          10,
          6,
          4,
          8,
          8,
          7,
          11,
          10,
          8
         ],
         "yaxis": "y"
        },
        {
         "hovertemplate": "region=Guatemala<br>Year=%{x}<br>Nb of athletes=%{y}<extra></extra>",
         "legendgroup": "Guatemala",
         "line": {
          "color": "#FF6692",
          "dash": "solid"
         },
         "marker": {
          "symbol": "circle"
         },
         "mode": "lines",
         "name": "Guatemala",
         "showlegend": true,
         "type": "scattergl",
         "x": [
          1932,
          1952,
          1968,
          1972,
          1976,
          1980,
          1984,
          1988,
          1992,
          1996,
          2000,
          2004,
          2008,
          2012,
          2016
         ],
         "xaxis": "x",
         "y": [
          1,
          21,
          48,
          8,
          28,
          10,
          24,
          34,
          14,
          26,
          15,
          18,
          12,
          19,
          21
         ],
         "yaxis": "y"
        },
        {
         "hovertemplate": "region=Venezuela<br>Year=%{x}<br>Nb of athletes=%{y}<extra></extra>",
         "legendgroup": "Venezuela",
         "line": {
          "color": "#B6E880",
          "dash": "solid"
         },
         "marker": {
          "symbol": "circle"
         },
         "mode": "lines",
         "name": "Venezuela",
         "showlegend": true,
         "type": "scattergl",
         "x": [
          1932,
          1948,
          1952,
          1956,
          1960,
          1964,
          1968,
          1972,
          1976,
          1980,
          1984,
          1988,
          1992,
          1996,
          1998,
          2000,
          2002,
          2004,
          2006,
          2008,
          2012,
          2014,
          2016
         ],
         "xaxis": "x",
         "y": [
          1,
          1,
          38,
          22,
          36,
          16,
          23,
          23,
          32,
          37,
          26,
          17,
          26,
          39,
          1,
          50,
          4,
          48,
          1,
          108,
          68,
          1,
          85
         ],
         "yaxis": "y"
        },
        {
         "hovertemplate": "region=Afghanistan<br>Year=%{x}<br>Nb of athletes=%{y}<extra></extra>",
         "legendgroup": "Afghanistan",
         "line": {
          "color": "#FF97FF",
          "dash": "solid"
         },
         "marker": {
          "symbol": "circle"
         },
         "mode": "lines",
         "name": "Afghanistan",
         "showlegend": true,
         "type": "scattergl",
         "x": [
          1936,
          1948,
          1956,
          1960,
          1964,
          1968,
          1972,
          1980,
          1988,
          1996,
          2004,
          2008,
          2012,
          2016
         ],
         "xaxis": "x",
         "y": [
          15,
          25,
          12,
          12,
          8,
          5,
          8,
          11,
          5,
          2,
          5,
          4,
          6,
          3
         ],
         "yaxis": "y"
        },
        {
         "hovertemplate": "region=Bermuda<br>Year=%{x}<br>Nb of athletes=%{y}<extra></extra>",
         "legendgroup": "Bermuda",
         "line": {
          "color": "#FECB52",
          "dash": "solid"
         },
         "marker": {
          "symbol": "circle"
         },
         "mode": "lines",
         "name": "Bermuda",
         "showlegend": true,
         "type": "scattergl",
         "x": [
          1936,
          1948,
          1952,
          1956,
          1960,
          1964,
          1968,
          1972,
          1976,
          1984,
          1988,
          1992,
          1994,
          1996,
          1998,
          2000,
          2002,
          2004,
          2006,
          2008,
          2010,
          2012,
          2014,
          2016
         ],
         "xaxis": "x",
         "y": [
          5,
          12,
          6,
          3,
          9,
          4,
          6,
          9,
          16,
          12,
          12,
          21,
          1,
          9,
          1,
          6,
          1,
          10,
          1,
          6,
          1,
          8,
          1,
          8
         ],
         "yaxis": "y"
        },
        {
         "hovertemplate": "region=Boliva<br>Year=%{x}<br>Nb of athletes=%{y}<extra></extra>",
         "legendgroup": "Boliva",
         "line": {
          "color": "#636efa",
          "dash": "solid"
         },
         "marker": {
          "symbol": "circle"
         },
         "mode": "lines",
         "name": "Boliva",
         "showlegend": true,
         "type": "scattergl",
         "x": [
          1936,
          1956,
          1964,
          1968,
          1972,
          1976,
          1980,
          1984,
          1988,
          1992,
          1996,
          2000,
          2004,
          2008,
          2012,
          2016
         ],
         "xaxis": "x",
         "y": [
          2,
          1,
          1,
          4,
          11,
          4,
          3,
          14,
          13,
          18,
          8,
          5,
          7,
          7,
          5,
          12
         ],
         "yaxis": "y"
        },
        {
         "hovertemplate": "region=Costa Rica<br>Year=%{x}<br>Nb of athletes=%{y}<extra></extra>",
         "legendgroup": "Costa Rica",
         "line": {
          "color": "#EF553B",
          "dash": "solid"
         },
         "marker": {
          "symbol": "circle"
         },
         "mode": "lines",
         "name": "Costa Rica",
         "showlegend": true,
         "type": "scattergl",
         "x": [
          1936,
          1964,
          1968,
          1972,
          1976,
          1980,
          1984,
          1988,
          1992,
          1996,
          2000,
          2002,
          2004,
          2006,
          2008,
          2012,
          2016
         ],
         "xaxis": "x",
         "y": [
          1,
          2,
          18,
          3,
          5,
          30,
          31,
          18,
          20,
          11,
          7,
          1,
          20,
          1,
          8,
          11,
          11
         ],
         "yaxis": "y"
        },
        {
         "hovertemplate": "region=Liechtenstein<br>Year=%{x}<br>Nb of athletes=%{y}<extra></extra>",
         "legendgroup": "Liechtenstein",
         "line": {
          "color": "#00cc96",
          "dash": "solid"
         },
         "marker": {
          "symbol": "circle"
         },
         "mode": "lines",
         "name": "Liechtenstein",
         "showlegend": true,
         "type": "scattergl",
         "x": [
          1936,
          1948,
          1952,
          1956,
          1960,
          1964,
          1968,
          1972,
          1976,
          1980,
          1984,
          1988,
          1992,
          1994,
          1996,
          1998,
          2000,
          2002,
          2004,
          2006,
          2008,
          2010,
          2012,
          2014,
          2016
         ],
         "xaxis": "x",
         "y": [
          10,
          12,
          2,
          8,
          8,
          8,
          11,
          10,
          15,
          7,
          17,
          25,
          14,
          10,
          2,
          8,
          2,
          8,
          1,
          5,
          2,
          4,
          3,
          3,
          3
         ],
         "yaxis": "y"
        },
        {
         "hovertemplate": "region=Guyana<br>Year=%{x}<br>Nb of athletes=%{y}<extra></extra>",
         "legendgroup": "Guyana",
         "line": {
          "color": "#ab63fa",
          "dash": "solid"
         },
         "marker": {
          "symbol": "circle"
         },
         "mode": "lines",
         "name": "Guyana",
         "showlegend": true,
         "type": "scattergl",
         "x": [
          1948,
          1952,
          1956,
          1960,
          1964,
          1968,
          1972,
          1980,
          1984,
          1988,
          1992,
          1996,
          2000,
          2004,
          2008,
          2012,
          2016
         ],
         "xaxis": "x",
         "y": [
          4,
          1,
          4,
          5,
          1,
          5,
          3,
          8,
          10,
          8,
          6,
          7,
          4,
          4,
          4,
          6,
          6
         ],
         "yaxis": "y"
        },
        {
         "hovertemplate": "region=Iraq<br>Year=%{x}<br>Nb of athletes=%{y}<extra></extra>",
         "legendgroup": "Iraq",
         "line": {
          "color": "#FFA15A",
          "dash": "solid"
         },
         "marker": {
          "symbol": "circle"
         },
         "mode": "lines",
         "name": "Iraq",
         "showlegend": true,
         "type": "scattergl",
         "x": [
          1948,
          1960,
          1964,
          1968,
          1980,
          1984,
          1988,
          1992,
          1996,
          2000,
          2004,
          2008,
          2012,
          2016
         ],
         "xaxis": "x",
         "y": [
          11,
          21,
          13,
          3,
          43,
          23,
          27,
          8,
          3,
          4,
          24,
          4,
          8,
          20
         ],
         "yaxis": "y"
        },
        {
         "hovertemplate": "region=Jamaica<br>Year=%{x}<br>Nb of athletes=%{y}<extra></extra>",
         "legendgroup": "Jamaica",
         "line": {
          "color": "#19d3f3",
          "dash": "solid"
         },
         "marker": {
          "symbol": "circle"
         },
         "mode": "lines",
         "name": "Jamaica",
         "showlegend": true,
         "type": "scattergl",
         "x": [
          1948,
          1952,
          1956,
          1964,
          1968,
          1972,
          1976,
          1980,
          1984,
          1988,
          1992,
          1994,
          1996,
          1998,
          2000,
          2002,
          2004,
          2008,
          2010,
          2012,
          2014,
          2016
         ],
         "xaxis": "x",
         "y": [
          13,
          8,
          6,
          21,
          25,
          33,
          20,
          18,
          45,
          39,
          41,
          4,
          46,
          6,
          48,
          2,
          47,
          50,
          1,
          45,
          2,
          56
         ],
         "yaxis": "y"
        },
        {
         "hovertemplate": "region=Lebanon<br>Year=%{x}<br>Nb of athletes=%{y}<extra></extra>",
         "legendgroup": "Lebanon",
         "line": {
          "color": "#FF6692",
          "dash": "solid"
         },
         "marker": {
          "symbol": "circle"
         },
         "mode": "lines",
         "name": "Lebanon",
         "showlegend": true,
         "type": "scattergl",
         "x": [
          1948,
          1952,
          1956,
          1960,
          1964,
          1968,
          1972,
          1976,
          1980,
          1984,
          1988,
          1992,
          1996,
          2000,
          2002,
          2004,
          2006,
          2008,
          2010,
          2012,
          2014,
          2016
         ],
         "xaxis": "x",
         "y": [
          10,
          10,
          3,
          21,
          9,
          14,
          20,
          4,
          18,
          26,
          25,
          16,
          1,
          6,
          2,
          5,
          3,
          6,
          3,
          10,
          2,
          9
         ],
         "yaxis": "y"
        },
        {
         "hovertemplate": "region=Myanmar<br>Year=%{x}<br>Nb of athletes=%{y}<extra></extra>",
         "legendgroup": "Myanmar",
         "line": {
          "color": "#B6E880",
          "dash": "solid"
         },
         "marker": {
          "symbol": "circle"
         },
         "mode": "lines",
         "name": "Myanmar",
         "showlegend": true,
         "type": "scattergl",
         "x": [
          1948,
          1952,
          1956,
          1960,
          1964,
          1968,
          1972,
          1980,
          1984,
          1988,
          1992,
          1996,
          2000,
          2004,
          2008,
          2012,
          2016
         ],
         "xaxis": "x",
         "y": [
          4,
          5,
          11,
          10,
          11,
          4,
          18,
          2,
          1,
          2,
          4,
          3,
          7,
          2,
          6,
          6,
          7
         ],
         "yaxis": "y"
        },
        {
         "hovertemplate": "region=Pakistan<br>Year=%{x}<br>Nb of athletes=%{y}<extra></extra>",
         "legendgroup": "Pakistan",
         "line": {
          "color": "#FF97FF",
          "dash": "solid"
         },
         "marker": {
          "symbol": "circle"
         },
         "mode": "lines",
         "name": "Pakistan",
         "showlegend": true,
         "type": "scattergl",
         "x": [
          1948,
          1952,
          1956,
          1960,
          1964,
          1968,
          1972,
          1976,
          1984,
          1988,
          1992,
          1996,
          2000,
          2004,
          2008,
          2010,
          2012,
          2014,
          2016
         ],
         "xaxis": "x",
         "y": [
          35,
          38,
          55,
          44,
          41,
          15,
          25,
          24,
          31,
          30,
          27,
          24,
          27,
          26,
          21,
          1,
          21,
          1,
          7
         ],
         "yaxis": "y"
        },
        {
         "hovertemplate": "region=Puerto Rico<br>Year=%{x}<br>Nb of athletes=%{y}<extra></extra>",
         "legendgroup": "Puerto Rico",
         "line": {
          "color": "#FECB52",
          "dash": "solid"
         },
         "marker": {
          "symbol": "circle"
         },
         "mode": "lines",
         "name": "Puerto Rico",
         "showlegend": true,
         "type": "scattergl",
         "x": [
          1948,
          1952,
          1956,
          1960,
          1964,
          1968,
          1972,
          1976,
          1980,
          1984,
          1988,
          1992,
          1994,
          1996,
          1998,
          2000,
          2004,
          2008,
          2012,
          2016
         ],
         "xaxis": "x",
         "y": [
          9,
          21,
          10,
          27,
          32,
          58,
          53,
          80,
          3,
          52,
          56,
          77,
          5,
          69,
          6,
          29,
          43,
          22,
          25,
          40
         ],
         "yaxis": "y"
        },
        {
         "hovertemplate": "region=South Korea<br>Year=%{x}<br>Nb of athletes=%{y}<extra></extra>",
         "legendgroup": "South Korea",
         "line": {
          "color": "#636efa",
          "dash": "solid"
         },
         "marker": {
          "symbol": "circle"
         },
         "mode": "lines",
         "name": "South Korea",
         "showlegend": true,
         "type": "scattergl",
         "x": [
          1948,
          1952,
          1956,
          1960,
          1964,
          1968,
          1972,
          1976,
          1980,
          1984,
          1988,
          1992,
          1994,
          1996,
          1998,
          2000,
          2002,
          2004,
          2006,
          2008,
          2010,
          2012,
          2014,
          2016
         ],
         "xaxis": "x",
         "y": [
          49,
          19,
          39,
          42,
          161,
          62,
          47,
          53,
          10,
          190,
          423,
          249,
          21,
          303,
          37,
          281,
          46,
          264,
          40,
          265,
          45,
          250,
          71,
          207
         ],
         "yaxis": "y"
        },
        {
         "hovertemplate": "region=Sri Lanka<br>Year=%{x}<br>Nb of athletes=%{y}<extra></extra>",
         "legendgroup": "Sri Lanka",
         "line": {
          "color": "#EF553B",
          "dash": "solid"
         },
         "marker": {
          "symbol": "circle"
         },
         "mode": "lines",
         "name": "Sri Lanka",
         "showlegend": true,
         "type": "scattergl",
         "x": [
          1948,
          1952,
          1956,
          1960,
          1964,
          1968,
          1972,
          1980,
          1984,
          1988,
          1992,
          1996,
          2000,
          2004,
          2008,
          2012,
          2016
         ],
         "xaxis": "x",
         "y": [
          7,
          5,
          3,
          5,
          6,
          3,
          4,
          4,
          4,
          6,
          11,
          9,
          18,
          7,
          8,
          7,
          9
         ],
         "yaxis": "y"
        },
        {
         "hovertemplate": "region=Syria<br>Year=%{x}<br>Nb of athletes=%{y}<extra></extra>",
         "legendgroup": "Syria",
         "line": {
          "color": "#00cc96",
          "dash": "solid"
         },
         "marker": {
          "symbol": "circle"
         },
         "mode": "lines",
         "name": "Syria",
         "showlegend": true,
         "type": "scattergl",
         "x": [
          1948,
          1960,
          1968,
          1972,
          1980,
          1984,
          1988,
          1992,
          1996,
          2000,
          2004,
          2008,
          2012,
          2016
         ],
         "xaxis": "x",
         "y": [
          1,
          74,
          2,
          5,
          67,
          9,
          13,
          8,
          7,
          8,
          6,
          7,
          10,
          7
         ],
         "yaxis": "y"
        },
        {
         "hovertemplate": "region=Trinidad<br>Year=%{x}<br>Nb of athletes=%{y}<extra></extra>",
         "legendgroup": "Trinidad",
         "line": {
          "color": "#ab63fa",
          "dash": "solid"
         },
         "marker": {
          "symbol": "circle"
         },
         "mode": "lines",
         "name": "Trinidad",
         "showlegend": true,
         "type": "scattergl",
         "x": [
          1948,
          1952,
          1956,
          1960,
          1964,
          1968,
          1972,
          1976,
          1980,
          1984,
          1988,
          1992,
          1994,
          1996,
          1998,
          2000,
          2002,
          2004,
          2008,
          2012,
          2016
         ],
         "xaxis": "x",
         "y": [
          5,
          2,
          6,
          13,
          13,
          19,
          19,
          13,
          9,
          16,
          6,
          7,
          2,
          12,
          2,
          19,
          3,
          19,
          28,
          25,
          28
         ],
         "yaxis": "y"
        },
        {
         "hovertemplate": "region=Bahamas<br>Year=%{x}<br>Nb of athletes=%{y}<extra></extra>",
         "legendgroup": "Bahamas",
         "line": {
          "color": "#FFA15A",
          "dash": "solid"
         },
         "marker": {
          "symbol": "circle"
         },
         "mode": "lines",
         "name": "Bahamas",
         "showlegend": true,
         "type": "scattergl",
         "x": [
          1952,
          1956,
          1960,
          1964,
          1968,
          1972,
          1976,
          1984,
          1988,
          1992,
          1996,
          2000,
          2004,
          2008,
          2012,
          2016
         ],
         "xaxis": "x",
         "y": [
          7,
          4,
          13,
          11,
          16,
          20,
          11,
          22,
          16,
          14,
          26,
          25,
          22,
          25,
          21,
          29
         ],
         "yaxis": "y"
        },
        {
         "hovertemplate": "region=Curacao<br>Year=%{x}<br>Nb of athletes=%{y}<extra></extra>",
         "legendgroup": "Curacao",
         "line": {
          "color": "#19d3f3",
          "dash": "solid"
         },
         "marker": {
          "symbol": "circle"
         },
         "mode": "lines",
         "name": "Curacao",
         "showlegend": true,
         "type": "scattergl",
         "x": [
          1952,
          1960,
          1964,
          1968,
          1972,
          1976,
          1984,
          1988,
          1992,
          1996,
          2000,
          2004,
          2008
         ],
         "xaxis": "x",
         "y": [
          11,
          5,
          4,
          5,
          2,
          4,
          8,
          5,
          6,
          6,
          7,
          3,
          3
         ],
         "yaxis": "y"
        },
        {
         "hovertemplate": "region=Ghana<br>Year=%{x}<br>Nb of athletes=%{y}<extra></extra>",
         "legendgroup": "Ghana",
         "line": {
          "color": "#FF6692",
          "dash": "solid"
         },
         "marker": {
          "symbol": "circle"
         },
         "mode": "lines",
         "name": "Ghana",
         "showlegend": true,
         "type": "scattergl",
         "x": [
          1952,
          1960,
          1964,
          1968,
          1972,
          1984,
          1988,
          1992,
          1996,
          2000,
          2004,
          2008,
          2010,
          2012,
          2016
         ],
         "xaxis": "x",
         "y": [
          7,
          13,
          33,
          31,
          35,
          21,
          16,
          34,
          35,
          22,
          26,
          9,
          1,
          7,
          13
         ],
         "yaxis": "y"
        },
        {
         "hovertemplate": "region=Indonesia<br>Year=%{x}<br>Nb of athletes=%{y}<extra></extra>",
         "legendgroup": "Indonesia",
         "line": {
          "color": "#B6E880",
          "dash": "solid"
         },
         "marker": {
          "symbol": "circle"
         },
         "mode": "lines",
         "name": "Indonesia",
         "showlegend": true,
         "type": "scattergl",
         "x": [
          1952,
          1956,
          1960,
          1968,
          1972,
          1976,
          1984,
          1988,
          1992,
          1996,
          2000,
          2004,
          2008,
          2012,
          2016
         ],
         "xaxis": "x",
         "y": [
          3,
          22,
          22,
          6,
          6,
          7,
          16,
          29,
          42,
          40,
          47,
          38,
          24,
          22,
          28
         ],
         "yaxis": "y"
        },
        {
         "hovertemplate": "region=Israel<br>Year=%{x}<br>Nb of athletes=%{y}<extra></extra>",
         "legendgroup": "Israel",
         "line": {
          "color": "#FF97FF",
          "dash": "solid"
         },
         "marker": {
          "symbol": "circle"
         },
         "mode": "lines",
         "name": "Israel",
         "showlegend": true,
         "type": "scattergl",
         "x": [
          1952,
          1956,
          1960,
          1964,
          1968,
          1972,
          1976,
          1984,
          1988,
          1992,
          1994,
          1996,
          1998,
          2000,
          2002,
          2004,
          2006,
          2008,
          2010,
          2012,
          2014,
          2016
         ],
         "xaxis": "x",
         "y": [
          25,
          3,
          23,
          10,
          29,
          14,
          26,
          32,
          18,
          30,
          1,
          25,
          3,
          39,
          5,
          36,
          5,
          43,
          3,
          37,
          4,
          47
         ],
         "yaxis": "y"
        },
        {
         "hovertemplate": "region=Nigeria<br>Year=%{x}<br>Nb of athletes=%{y}<extra></extra>",
         "legendgroup": "Nigeria",
         "line": {
          "color": "#FECB52",
          "dash": "solid"
         },
         "marker": {
          "symbol": "circle"
         },
         "mode": "lines",
         "name": "Nigeria",
         "showlegend": true,
         "type": "scattergl",
         "x": [
          1952,
          1956,
          1960,
          1964,
          1968,
          1972,
          1980,
          1984,
          1988,
          1992,
          1996,
          2000,
          2004,
          2008,
          2012,
          2016
         ],
         "xaxis": "x",
         "y": [
          9,
          10,
          12,
          18,
          36,
          25,
          44,
          32,
          69,
          55,
          65,
          83,
          70,
          74,
          49,
          71
         ],
         "yaxis": "y"
        },
        {
         "hovertemplate": "region=Thailand<br>Year=%{x}<br>Nb of athletes=%{y}<extra></extra>",
         "legendgroup": "Thailand",
         "line": {
          "color": "#636efa",
          "dash": "solid"
         },
         "marker": {
          "symbol": "circle"
         },
         "mode": "lines",
         "name": "Thailand",
         "showlegend": true,
         "type": "scattergl",
         "x": [
          1952,
          1956,
          1960,
          1964,
          1968,
          1972,
          1976,
          1984,
          1988,
          1992,
          1996,
          2000,
          2002,
          2004,
          2006,
          2008,
          2012,
          2014,
          2016
         ],
         "xaxis": "x",
         "y": [
          8,
          35,
          20,
          54,
          41,
          33,
          42,
          35,
          14,
          46,
          37,
          52,
          1,
          42,
          1,
          47,
          37,
          2,
          54
         ],
         "yaxis": "y"
        },
        {
         "hovertemplate": "region=Vietnam<br>Year=%{x}<br>Nb of athletes=%{y}<extra></extra>",
         "legendgroup": "Vietnam",
         "line": {
          "color": "#EF553B",
          "dash": "solid"
         },
         "marker": {
          "symbol": "circle"
         },
         "mode": "lines",
         "name": "Vietnam",
         "showlegend": true,
         "type": "scattergl",
         "x": [
          1952,
          1956,
          1960,
          1964,
          1968,
          1972,
          1980,
          1988,
          1992,
          1996,
          2000,
          2004,
          2008,
          2012,
          2016
         ],
         "xaxis": "x",
         "y": [
          8,
          6,
          3,
          16,
          9,
          2,
          30,
          9,
          7,
          6,
          7,
          11,
          13,
          18,
          22
         ],
         "yaxis": "y"
        },
        {
         "hovertemplate": "region=Cambodia<br>Year=%{x}<br>Nb of athletes=%{y}<extra></extra>",
         "legendgroup": "Cambodia",
         "line": {
          "color": "#00cc96",
          "dash": "solid"
         },
         "marker": {
          "symbol": "circle"
         },
         "mode": "lines",
         "name": "Cambodia",
         "showlegend": true,
         "type": "scattergl",
         "x": [
          1956,
          1964,
          1972,
          1996,
          2000,
          2004,
          2008,
          2012,
          2016
         ],
         "xaxis": "x",
         "y": [
          2,
          13,
          9,
          5,
          4,
          4,
          4,
          6,
          6
         ],
         "yaxis": "y"
        },
        {
         "hovertemplate": "region=Ethiopia<br>Year=%{x}<br>Nb of athletes=%{y}<extra></extra>",
         "legendgroup": "Ethiopia",
         "line": {
          "color": "#ab63fa",
          "dash": "solid"
         },
         "marker": {
          "symbol": "circle"
         },
         "mode": "lines",
         "name": "Ethiopia",
         "showlegend": true,
         "type": "scattergl",
         "x": [
          1956,
          1960,
          1964,
          1968,
          1972,
          1980,
          1992,
          1996,
          2000,
          2004,
          2006,
          2008,
          2010,
          2012,
          2016
         ],
         "xaxis": "x",
         "y": [
          12,
          10,
          12,
          18,
          31,
          41,
          20,
          18,
          26,
          26,
          1,
          27,
          1,
          33,
          37
         ],
         "yaxis": "y"
        },
        {
         "hovertemplate": "region=Fiji<br>Year=%{x}<br>Nb of athletes=%{y}<extra></extra>",
         "legendgroup": "Fiji",
         "line": {
          "color": "#FFA15A",
          "dash": "solid"
         },
         "marker": {
          "symbol": "circle"
         },
         "mode": "lines",
         "name": "Fiji",
         "showlegend": true,
         "type": "scattergl",
         "x": [
          1956,
          1960,
          1968,
          1972,
          1976,
          1984,
          1988,
          1992,
          1994,
          1996,
          2000,
          2002,
          2004,
          2008,
          2012,
          2016
         ],
         "xaxis": "x",
         "y": [
          5,
          2,
          1,
          2,
          2,
          14,
          24,
          18,
          1,
          17,
          7,
          1,
          8,
          6,
          9,
          53
         ],
         "yaxis": "y"
        },
        {
         "hovertemplate": "region=Kenya<br>Year=%{x}<br>Nb of athletes=%{y}<extra></extra>",
         "legendgroup": "Kenya",
         "line": {
          "color": "#19d3f3",
          "dash": "solid"
         },
         "marker": {
          "symbol": "circle"
         },
         "mode": "lines",
         "name": "Kenya",
         "showlegend": true,
         "type": "scattergl",
         "x": [
          1956,
          1960,
          1964,
          1968,
          1972,
          1984,
          1988,
          1992,
          1996,
          1998,
          2000,
          2002,
          2004,
          2006,
          2008,
          2012,
          2016
         ],
         "xaxis": "x",
         "y": [
          25,
          27,
          37,
          39,
          57,
          61,
          74,
          49,
          52,
          1,
          56,
          1,
          46,
          1,
          46,
          47,
          79
         ],
         "yaxis": "y"
        },
        {
         "hovertemplate": "region=Liberia<br>Year=%{x}<br>Nb of athletes=%{y}<extra></extra>",
         "legendgroup": "Liberia",
         "line": {
          "color": "#FF6692",
          "dash": "solid"
         },
         "marker": {
          "symbol": "circle"
         },
         "mode": "lines",
         "name": "Liberia",
         "showlegend": true,
         "type": "scattergl",
         "x": [
          1956,
          1960,
          1964,
          1972,
          1984,
          1988,
          1996,
          2000,
          2004,
          2008,
          2012,
          2016
         ],
         "xaxis": "x",
         "y": [
          4,
          4,
          1,
          5,
          7,
          8,
          5,
          8,
          2,
          3,
          3,
          2
         ],
         "yaxis": "y"
        },
        {
         "hovertemplate": "region=Malaysia<br>Year=%{x}<br>Nb of athletes=%{y}<extra></extra>",
         "legendgroup": "Malaysia",
         "line": {
          "color": "#B6E880",
          "dash": "solid"
         },
         "marker": {
          "symbol": "circle"
         },
         "mode": "lines",
         "name": "Malaysia",
         "showlegend": true,
         "type": "scattergl",
         "x": [
          1956,
          1960,
          1964,
          1968,
          1972,
          1976,
          1984,
          1988,
          1992,
          1996,
          2000,
          2004,
          2008,
          2012,
          2016
         ],
         "xaxis": "x",
         "y": [
          34,
          9,
          61,
          31,
          45,
          23,
          21,
          9,
          26,
          35,
          40,
          26,
          32,
          29,
          32
         ],
         "yaxis": "y"
        },
        {
         "hovertemplate": "region=Taiwan<br>Year=%{x}<br>Nb of athletes=%{y}<extra></extra>",
         "legendgroup": "Taiwan",
         "line": {
          "color": "#FF97FF",
          "dash": "solid"
         },
         "marker": {
          "symbol": "circle"
         },
         "mode": "lines",
         "name": "Taiwan",
         "showlegend": true,
         "type": "scattergl",
         "x": [
          1956,
          1960,
          1964,
          1968,
          1972,
          1976,
          1984,
          1988,
          1992,
          1994,
          1996,
          1998,
          2000,
          2002,
          2004,
          2006,
          2008,
          2010,
          2012,
          2014,
          2016
         ],
         "xaxis": "x",
         "y": [
          20,
          27,
          40,
          43,
          26,
          6,
          50,
          74,
          39,
          2,
          74,
          7,
          55,
          6,
          88,
          1,
          79,
          1,
          44,
          3,
          55
         ],
         "yaxis": "y"
        },
        {
         "hovertemplate": "region=Uganda<br>Year=%{x}<br>Nb of athletes=%{y}<extra></extra>",
         "legendgroup": "Uganda",
         "line": {
          "color": "#FECB52",
          "dash": "solid"
         },
         "marker": {
          "symbol": "circle"
         },
         "mode": "lines",
         "name": "Uganda",
         "showlegend": true,
         "type": "scattergl",
         "x": [
          1956,
          1960,
          1964,
          1968,
          1972,
          1980,
          1984,
          1988,
          1992,
          1996,
          2000,
          2004,
          2008,
          2012,
          2016
         ],
         "xaxis": "x",
         "y": [
          3,
          10,
          13,
          11,
          33,
          13,
          26,
          24,
          8,
          10,
          13,
          11,
          11,
          15,
          21
         ],
         "yaxis": "y"
        },
        {
         "hovertemplate": "region=Morocco<br>Year=%{x}<br>Nb of athletes=%{y}<extra></extra>",
         "legendgroup": "Morocco",
         "line": {
          "color": "#636efa",
          "dash": "solid"
         },
         "marker": {
          "symbol": "circle"
         },
         "mode": "lines",
         "name": "Morocco",
         "showlegend": true,
         "type": "scattergl",
         "x": [
          1960,
          1964,
          1968,
          1972,
          1976,
          1984,
          1988,
          1992,
          1996,
          2000,
          2004,
          2008,
          2010,
          2012,
          2014,
          2016
         ],
         "xaxis": "x",
         "y": [
          47,
          20,
          30,
          35,
          9,
          38,
          30,
          56,
          34,
          55,
          55,
          47,
          1,
          63,
          2,
          48
         ],
         "yaxis": "y"
        },
        {
         "hovertemplate": "region=San Marino<br>Year=%{x}<br>Nb of athletes=%{y}<extra></extra>",
         "legendgroup": "San Marino",
         "line": {
          "color": "#EF553B",
          "dash": "solid"
         },
         "marker": {
          "symbol": "circle"
         },
         "mode": "lines",
         "name": "San Marino",
         "showlegend": true,
         "type": "scattergl",
         "x": [
          1960,
          1968,
          1972,
          1976,
          1980,
          1984,
          1988,
          1992,
          1994,
          1996,
          2000,
          2002,
          2004,
          2006,
          2008,
          2010,
          2012,
          2014,
          2016
         ],
         "xaxis": "x",
         "y": [
          9,
          4,
          7,
          12,
          16,
          22,
          16,
          20,
          3,
          7,
          4,
          1,
          5,
          1,
          4,
          1,
          4,
          2,
          4
         ],
         "yaxis": "y"
        },
        {
         "hovertemplate": "region=Sudan<br>Year=%{x}<br>Nb of athletes=%{y}<extra></extra>",
         "legendgroup": "Sudan",
         "line": {
          "color": "#00cc96",
          "dash": "solid"
         },
         "marker": {
          "symbol": "circle"
         },
         "mode": "lines",
         "name": "Sudan",
         "showlegend": true,
         "type": "scattergl",
         "x": [
          1960,
          1968,
          1972,
          1984,
          1988,
          1992,
          1996,
          2000,
          2004,
          2008,
          2012,
          2016
         ],
         "xaxis": "x",
         "y": [
          10,
          5,
          26,
          7,
          8,
          6,
          4,
          3,
          4,
          9,
          6,
          6
         ],
         "yaxis": "y"
        },
        {
         "hovertemplate": "region=Tunisia<br>Year=%{x}<br>Nb of athletes=%{y}<extra></extra>",
         "legendgroup": "Tunisia",
         "line": {
          "color": "#ab63fa",
          "dash": "solid"
         },
         "marker": {
          "symbol": "circle"
         },
         "mode": "lines",
         "name": "Tunisia",
         "showlegend": true,
         "type": "scattergl",
         "x": [
          1960,
          1964,
          1968,
          1972,
          1976,
          1984,
          1988,
          1992,
          1996,
          2000,
          2004,
          2008,
          2012,
          2016
         ],
         "xaxis": "x",
         "y": [
          42,
          9,
          7,
          35,
          15,
          23,
          41,
          13,
          51,
          47,
          54,
          26,
          83,
          61
         ],
         "yaxis": "y"
        },
        {
         "hovertemplate": "region=Algeria<br>Year=%{x}<br>Nb of athletes=%{y}<extra></extra>",
         "legendgroup": "Algeria",
         "line": {
          "color": "#FFA15A",
          "dash": "solid"
         },
         "marker": {
          "symbol": "circle"
         },
         "mode": "lines",
         "name": "Algeria",
         "showlegend": true,
         "type": "scattergl",
         "x": [
          1964,
          1968,
          1972,
          1980,
          1984,
          1988,
          1992,
          1996,
          2000,
          2004,
          2006,
          2008,
          2010,
          2012,
          2016
         ],
         "xaxis": "x",
         "y": [
          1,
          3,
          5,
          54,
          33,
          42,
          39,
          45,
          47,
          61,
          2,
          56,
          1,
          38,
          64
         ],
         "yaxis": "y"
        },
        {
         "hovertemplate": "region=Cameroon<br>Year=%{x}<br>Nb of athletes=%{y}<extra></extra>",
         "legendgroup": "Cameroon",
         "line": {
          "color": "#19d3f3",
          "dash": "solid"
         },
         "marker": {
          "symbol": "circle"
         },
         "mode": "lines",
         "name": "Cameroon",
         "showlegend": true,
         "type": "scattergl",
         "x": [
          1964,
          1968,
          1972,
          1976,
          1980,
          1984,
          1988,
          1992,
          1996,
          2000,
          2002,
          2004,
          2008,
          2012,
          2016
         ],
         "xaxis": "x",
         "y": [
          1,
          5,
          11,
          4,
          25,
          46,
          15,
          8,
          15,
          34,
          1,
          17,
          32,
          32,
          22
         ],
         "yaxis": "y"
        },
        {
         "hovertemplate": "region=Chad<br>Year=%{x}<br>Nb of athletes=%{y}<extra></extra>",
         "legendgroup": "Chad",
         "line": {
          "color": "#FF6692",
          "dash": "solid"
         },
         "marker": {
          "symbol": "circle"
         },
         "mode": "lines",
         "name": "Chad",
         "showlegend": true,
         "type": "scattergl",
         "x": [
          1964,
          1968,
          1972,
          1984,
          1988,
          1992,
          1996,
          2000,
          2004,
          2008,
          2012,
          2016
         ],
         "xaxis": "x",
         "y": [
          2,
          3,
          4,
          3,
          6,
          6,
          4,
          2,
          1,
          2,
          2,
          2
         ],
         "yaxis": "y"
        },
        {
         "hovertemplate": "region=Dominican Republic<br>Year=%{x}<br>Nb of athletes=%{y}<extra></extra>",
         "legendgroup": "Dominican Republic",
         "line": {
          "color": "#B6E880",
          "dash": "solid"
         },
         "marker": {
          "symbol": "circle"
         },
         "mode": "lines",
         "name": "Dominican Republic",
         "showlegend": true,
         "type": "scattergl",
         "x": [
          1964,
          1968,
          1972,
          1976,
          1980,
          1984,
          1988,
          1992,
          1996,
          2000,
          2004,
          2008,
          2012,
          2016
         ],
         "xaxis": "x",
         "y": [
          1,
          18,
          5,
          10,
          6,
          19,
          16,
          32,
          16,
          13,
          33,
          24,
          33,
          26
         ],
         "yaxis": "y"
        },
        {
         "hovertemplate": "region=Ivory Coast<br>Year=%{x}<br>Nb of athletes=%{y}<extra></extra>",
         "legendgroup": "Ivory Coast",
         "line": {
          "color": "#FF97FF",
          "dash": "solid"
         },
         "marker": {
          "symbol": "circle"
         },
         "mode": "lines",
         "name": "Ivory Coast",
         "showlegend": true,
         "type": "scattergl",
         "x": [
          1964,
          1968,
          1972,
          1976,
          1984,
          1988,
          1992,
          1996,
          2000,
          2004,
          2008,
          2012,
          2016
         ],
         "xaxis": "x",
         "y": [
          9,
          10,
          11,
          8,
          15,
          28,
          13,
          11,
          14,
          5,
          21,
          9,
          12
         ],
         "yaxis": "y"
        },
        {
         "hovertemplate": "region=Madagascar<br>Year=%{x}<br>Nb of athletes=%{y}<extra></extra>",
         "legendgroup": "Madagascar",
         "line": {
          "color": "#FECB52",
          "dash": "solid"
         },
         "marker": {
          "symbol": "circle"
         },
         "mode": "lines",
         "name": "Madagascar",
         "showlegend": true,
         "type": "scattergl",
         "x": [
          1964,
          1968,
          1972,
          1980,
          1984,
          1992,
          1996,
          2000,
          2004,
          2006,
          2008,
          2012,
          2016
         ],
         "xaxis": "x",
         "y": [
          3,
          4,
          11,
          11,
          5,
          13,
          11,
          11,
          8,
          1,
          6,
          7,
          6
         ],
         "yaxis": "y"
        },
        {
         "hovertemplate": "region=Mali<br>Year=%{x}<br>Nb of athletes=%{y}<extra></extra>",
         "legendgroup": "Mali",
         "line": {
          "color": "#636efa",
          "dash": "solid"
         },
         "marker": {
          "symbol": "circle"
         },
         "mode": "lines",
         "name": "Mali",
         "showlegend": true,
         "type": "scattergl",
         "x": [
          1964,
          1968,
          1972,
          1980,
          1984,
          1988,
          1992,
          1996,
          2000,
          2004,
          2008,
          2012,
          2016
         ],
         "xaxis": "x",
         "y": [
          2,
          2,
          3,
          7,
          4,
          6,
          5,
          3,
          5,
          21,
          17,
          6,
          6
         ],
         "yaxis": "y"
        },
        {
         "hovertemplate": "region=Mongolia<br>Year=%{x}<br>Nb of athletes=%{y}<extra></extra>",
         "legendgroup": "Mongolia",
         "line": {
          "color": "#EF553B",
          "dash": "solid"
         },
         "marker": {
          "symbol": "circle"
         },
         "mode": "lines",
         "name": "Mongolia",
         "showlegend": true,
         "type": "scattergl",
         "x": [
          1964,
          1968,
          1972,
          1976,
          1980,
          1984,
          1988,
          1992,
          1994,
          1996,
          1998,
          2000,
          2002,
          2004,
          2006,
          2008,
          2010,
          2012,
          2014,
          2016
         ],
         "xaxis": "x",
         "y": [
          34,
          23,
          43,
          32,
          46,
          4,
          31,
          37,
          1,
          16,
          3,
          20,
          4,
          20,
          2,
          28,
          2,
          29,
          2,
          43
         ],
         "yaxis": "y"
        },
        {
         "hovertemplate": "region=Niger<br>Year=%{x}<br>Nb of athletes=%{y}<extra></extra>",
         "legendgroup": "Niger",
         "line": {
          "color": "#00cc96",
          "dash": "solid"
         },
         "marker": {
          "symbol": "circle"
         },
         "mode": "lines",
         "name": "Niger",
         "showlegend": true,
         "type": "scattergl",
         "x": [
          1964,
          1968,
          1972,
          1984,
          1988,
          1992,
          1996,
          2000,
          2004,
          2008,
          2012,
          2016
         ],
         "xaxis": "x",
         "y": [
          1,
          2,
          4,
          4,
          6,
          3,
          3,
          4,
          4,
          4,
          6,
          6
         ],
         "yaxis": "y"
        },
        {
         "hovertemplate": "region=North Korea<br>Year=%{x}<br>Nb of athletes=%{y}<extra></extra>",
         "legendgroup": "North Korea",
         "line": {
          "color": "#ab63fa",
          "dash": "solid"
         },
         "marker": {
          "symbol": "circle"
         },
         "mode": "lines",
         "name": "North Korea",
         "showlegend": true,
         "type": "scattergl",
         "x": [
          1964,
          1972,
          1976,
          1980,
          1984,
          1988,
          1992,
          1996,
          1998,
          2000,
          2004,
          2006,
          2008,
          2010,
          2012,
          2016
         ],
         "xaxis": "x",
         "y": [
          13,
          43,
          38,
          47,
          6,
          6,
          84,
          24,
          8,
          31,
          36,
          6,
          58,
          2,
          52,
          31
         ],
         "yaxis": "y"
        },
        {
         "hovertemplate": "region=Republic of Congo<br>Year=%{x}<br>Nb of athletes=%{y}<extra></extra>",
         "legendgroup": "Republic of Congo",
         "line": {
          "color": "#FFA15A",
          "dash": "solid"
         },
         "marker": {
          "symbol": "circle"
         },
         "mode": "lines",
         "name": "Republic of Congo",
         "showlegend": true,
         "type": "scattergl",
         "x": [
          1964,
          1972,
          1980,
          1984,
          1988,
          1992,
          1996,
          2000,
          2004,
          2008,
          2012,
          2016
         ],
         "xaxis": "x",
         "y": [
          2,
          6,
          23,
          9,
          7,
          7,
          5,
          5,
          5,
          5,
          7,
          10
         ],
         "yaxis": "y"
        },
        {
         "hovertemplate": "region=Senegal<br>Year=%{x}<br>Nb of athletes=%{y}<extra></extra>",
         "legendgroup": "Senegal",
         "line": {
          "color": "#19d3f3",
          "dash": "solid"
         },
         "marker": {
          "symbol": "circle"
         },
         "mode": "lines",
         "name": "Senegal",
         "showlegend": true,
         "type": "scattergl",
         "x": [
          1964,
          1968,
          1972,
          1976,
          1980,
          1984,
          1988,
          1992,
          1994,
          1996,
          2000,
          2004,
          2006,
          2008,
          2010,
          2012,
          2016
         ],
         "xaxis": "x",
         "y": [
          12,
          21,
          38,
          21,
          32,
          25,
          23,
          22,
          1,
          11,
          26,
          15,
          1,
          15,
          1,
          31,
          22
         ],
         "yaxis": "y"
        },
        {
         "hovertemplate": "region=Tanzania<br>Year=%{x}<br>Nb of athletes=%{y}<extra></extra>",
         "legendgroup": "Tanzania",
         "line": {
          "color": "#FF6692",
          "dash": "solid"
         },
         "marker": {
          "symbol": "circle"
         },
         "mode": "lines",
         "name": "Tanzania",
         "showlegend": true,
         "type": "scattergl",
         "x": [
          1964,
          1968,
          1972,
          1980,
          1984,
          1988,
          1992,
          1996,
          2000,
          2004,
          2008,
          2012,
          2016
         ],
         "xaxis": "x",
         "y": [
          4,
          4,
          15,
          41,
          18,
          10,
          9,
          7,
          4,
          8,
          9,
          6,
          7
         ],
         "yaxis": "y"
        },
        {
         "hovertemplate": "region=Zambia<br>Year=%{x}<br>Nb of athletes=%{y}<extra></extra>",
         "legendgroup": "Zambia",
         "line": {
          "color": "#B6E880",
          "dash": "solid"
         },
         "marker": {
          "symbol": "circle"
         },
         "mode": "lines",
         "name": "Zambia",
         "showlegend": true,
         "type": "scattergl",
         "x": [
          1964,
          1968,
          1972,
          1980,
          1984,
          1988,
          1992,
          1996,
          2000,
          2004,
          2008,
          2012,
          2016
         ],
         "xaxis": "x",
         "y": [
          12,
          7,
          11,
          37,
          16,
          29,
          9,
          8,
          8,
          6,
          8,
          7,
          7
         ],
         "yaxis": "y"
        },
        {
         "hovertemplate": "region=Barbados<br>Year=%{x}<br>Nb of athletes=%{y}<extra></extra>",
         "legendgroup": "Barbados",
         "line": {
          "color": "#FF97FF",
          "dash": "solid"
         },
         "marker": {
          "symbol": "circle"
         },
         "mode": "lines",
         "name": "Barbados",
         "showlegend": true,
         "type": "scattergl",
         "x": [
          1968,
          1972,
          1976,
          1984,
          1988,
          1992,
          1996,
          2000,
          2004,
          2008,
          2012,
          2016
         ],
         "xaxis": "x",
         "y": [
          9,
          13,
          11,
          16,
          17,
          17,
          13,
          18,
          10,
          8,
          6,
          11
         ],
         "yaxis": "y"
        },
        {
         "hovertemplate": "region=Belize<br>Year=%{x}<br>Nb of athletes=%{y}<extra></extra>",
         "legendgroup": "Belize",
         "line": {
          "color": "#FECB52",
          "dash": "solid"
         },
         "marker": {
          "symbol": "circle"
         },
         "mode": "lines",
         "name": "Belize",
         "showlegend": true,
         "type": "scattergl",
         "x": [
          1968,
          1972,
          1976,
          1984,
          1988,
          1992,
          1996,
          2000,
          2004,
          2008,
          2012,
          2016
         ],
         "xaxis": "x",
         "y": [
          7,
          1,
          4,
          11,
          10,
          10,
          5,
          2,
          2,
          4,
          3,
          3
         ],
         "yaxis": "y"
        },
        {
         "hovertemplate": "region=Central African Republic<br>Year=%{x}<br>Nb of athletes=%{y}<extra></extra>",
         "legendgroup": "Central African Republic",
         "line": {
          "color": "#636efa",
          "dash": "solid"
         },
         "marker": {
          "symbol": "circle"
         },
         "mode": "lines",
         "name": "Central African Republic",
         "showlegend": true,
         "type": "scattergl",
         "x": [
          1968,
          1984,
          1988,
          1992,
          1996,
          2000,
          2004,
          2008,
          2012,
          2016
         ],
         "xaxis": "x",
         "y": [
          1,
          3,
          15,
          15,
          5,
          3,
          4,
          3,
          6,
          6
         ],
         "yaxis": "y"
        },
        {
         "hovertemplate": "region=Democratic Republic of the Congo<br>Year=%{x}<br>Nb of athletes=%{y}<extra></extra>",
         "legendgroup": "Democratic Republic of the Congo",
         "line": {
          "color": "#EF553B",
          "dash": "solid"
         },
         "marker": {
          "symbol": "circle"
         },
         "mode": "lines",
         "name": "Democratic Republic of the Congo",
         "showlegend": true,
         "type": "scattergl",
         "x": [
          1968,
          1984,
          1988,
          1992,
          1996,
          2000,
          2004,
          2008,
          2012,
          2016
         ],
         "xaxis": "x",
         "y": [
          5,
          8,
          15,
          17,
          14,
          2,
          4,
          5,
          4,
          4
         ],
         "yaxis": "y"
        },
        {
         "hovertemplate": "region=Guinea<br>Year=%{x}<br>Nb of athletes=%{y}<extra></extra>",
         "legendgroup": "Guinea",
         "line": {
          "color": "#00cc96",
          "dash": "solid"
         },
         "marker": {
          "symbol": "circle"
         },
         "mode": "lines",
         "name": "Guinea",
         "showlegend": true,
         "type": "scattergl",
         "x": [
          1968,
          1980,
          1984,
          1988,
          1992,
          1996,
          2000,
          2004,
          2008,
          2012,
          2016
         ],
         "xaxis": "x",
         "y": [
          15,
          9,
          1,
          6,
          8,
          5,
          6,
          3,
          5,
          4,
          5
         ],
         "yaxis": "y"
        },
        {
         "hovertemplate": "region=Honduras<br>Year=%{x}<br>Nb of athletes=%{y}<extra></extra>",
         "legendgroup": "Honduras",
         "line": {
          "color": "#ab63fa",
          "dash": "solid"
         },
         "marker": {
          "symbol": "circle"
         },
         "mode": "lines",
         "name": "Honduras",
         "showlegend": true,
         "type": "scattergl",
         "x": [
          1968,
          1976,
          1984,
          1988,
          1992,
          1996,
          2000,
          2004,
          2008,
          2012,
          2016
         ],
         "xaxis": "x",
         "y": [
          6,
          3,
          10,
          8,
          11,
          7,
          20,
          5,
          25,
          25,
          23
         ],
         "yaxis": "y"
        },
        {
         "hovertemplate": "region=Kuwait<br>Year=%{x}<br>Nb of athletes=%{y}<extra></extra>",
         "legendgroup": "Kuwait",
         "line": {
          "color": "#FFA15A",
          "dash": "solid"
         },
         "marker": {
          "symbol": "circle"
         },
         "mode": "lines",
         "name": "Kuwait",
         "showlegend": true,
         "type": "scattergl",
         "x": [
          1968,
          1972,
          1976,
          1980,
          1984,
          1988,
          1992,
          1996,
          2000,
          2004,
          2008,
          2012
         ],
         "xaxis": "x",
         "y": [
          2,
          4,
          15,
          56,
          23,
          25,
          32,
          25,
          29,
          11,
          8,
          10
         ],
         "yaxis": "y"
        },
        {
         "hovertemplate": "region=Libya<br>Year=%{x}<br>Nb of athletes=%{y}<extra></extra>",
         "legendgroup": "Libya",
         "line": {
          "color": "#19d3f3",
          "dash": "solid"
         },
         "marker": {
          "symbol": "circle"
         },
         "mode": "lines",
         "name": "Libya",
         "showlegend": true,
         "type": "scattergl",
         "x": [
          1968,
          1980,
          1988,
          1992,
          1996,
          2000,
          2004,
          2008,
          2012,
          2016
         ],
         "xaxis": "x",
         "y": [
          1,
          29,
          6,
          5,
          5,
          3,
          8,
          6,
          4,
          7
         ],
         "yaxis": "y"
        },
        {
         "hovertemplate": "region=Nicaragua<br>Year=%{x}<br>Nb of athletes=%{y}<extra></extra>",
         "legendgroup": "Nicaragua",
         "line": {
          "color": "#FF6692",
          "dash": "solid"
         },
         "marker": {
          "symbol": "circle"
         },
         "mode": "lines",
         "name": "Nicaragua",
         "showlegend": true,
         "type": "scattergl",
         "x": [
          1968,
          1972,
          1976,
          1980,
          1984,
          1992,
          1996,
          2000,
          2004,
          2008,
          2012,
          2016
         ],
         "xaxis": "x",
         "y": [
          11,
          8,
          15,
          5,
          5,
          8,
          26,
          6,
          5,
          6,
          6,
          5
         ],
         "yaxis": "y"
        },
        {
         "hovertemplate": "region=Paraguay<br>Year=%{x}<br>Nb of athletes=%{y}<extra></extra>",
         "legendgroup": "Paraguay",
         "line": {
          "color": "#B6E880",
          "dash": "solid"
         },
         "marker": {
          "symbol": "circle"
         },
         "mode": "lines",
         "name": "Paraguay",
         "showlegend": true,
         "type": "scattergl",
         "x": [
          1968,
          1972,
          1976,
          1984,
          1988,
          1992,
          1996,
          2000,
          2004,
          2008,
          2012,
          2014,
          2016
         ],
         "xaxis": "x",
         "y": [
          1,
          3,
          4,
          14,
          10,
          27,
          7,
          5,
          22,
          7,
          8,
          1,
          11
         ],
         "yaxis": "y"
        },
        {
         "hovertemplate": "region=Sierra Leone<br>Year=%{x}<br>Nb of athletes=%{y}<extra></extra>",
         "legendgroup": "Sierra Leone",
         "line": {
          "color": "#FF97FF",
          "dash": "solid"
         },
         "marker": {
          "symbol": "circle"
         },
         "mode": "lines",
         "name": "Sierra Leone",
         "showlegend": true,
         "type": "scattergl",
         "x": [
          1968,
          1980,
          1984,
          1988,
          1992,
          1996,
          2000,
          2004,
          2008,
          2012,
          2016
         ],
         "xaxis": "x",
         "y": [
          3,
          14,
          7,
          12,
          11,
          14,
          3,
          2,
          3,
          2,
          4
         ],
         "yaxis": "y"
        },
        {
         "hovertemplate": "region=Suriname<br>Year=%{x}<br>Nb of athletes=%{y}<extra></extra>",
         "legendgroup": "Suriname",
         "line": {
          "color": "#FECB52",
          "dash": "solid"
         },
         "marker": {
          "symbol": "circle"
         },
         "mode": "lines",
         "name": "Suriname",
         "showlegend": true,
         "type": "scattergl",
         "x": [
          1968,
          1972,
          1976,
          1984,
          1988,
          1992,
          1996,
          2000,
          2004,
          2008,
          2012,
          2016
         ],
         "xaxis": "x",
         "y": [
          1,
          2,
          3,
          5,
          6,
          6,
          7,
          4,
          4,
          4,
          5,
          6
         ],
         "yaxis": "y"
        },
        {
         "hovertemplate": "region=Virgin Islands, US<br>Year=%{x}<br>Nb of athletes=%{y}<extra></extra>",
         "legendgroup": "Virgin Islands, US",
         "line": {
          "color": "#636efa",
          "dash": "solid"
         },
         "marker": {
          "symbol": "circle"
         },
         "mode": "lines",
         "name": "Virgin Islands, US",
         "showlegend": true,
         "type": "scattergl",
         "x": [
          1968,
          1972,
          1976,
          1984,
          1988,
          1992,
          1994,
          1996,
          1998,
          2000,
          2002,
          2004,
          2008,
          2012,
          2014,
          2016
         ],
         "xaxis": "x",
         "y": [
          6,
          16,
          21,
          29,
          28,
          37,
          8,
          12,
          7,
          9,
          8,
          6,
          7,
          7,
          1,
          7
         ],
         "yaxis": "y"
        },
        {
         "hovertemplate": "region=Albania<br>Year=%{x}<br>Nb of athletes=%{y}<extra></extra>",
         "legendgroup": "Albania",
         "line": {
          "color": "#EF553B",
          "dash": "solid"
         },
         "marker": {
          "symbol": "circle"
         },
         "mode": "lines",
         "name": "Albania",
         "showlegend": true,
         "type": "scattergl",
         "x": [
          1972,
          1992,
          1996,
          2000,
          2004,
          2006,
          2008,
          2010,
          2012,
          2014,
          2016
         ],
         "xaxis": "x",
         "y": [
          5,
          7,
          7,
          4,
          7,
          1,
          11,
          1,
          9,
          1,
          6
         ],
         "yaxis": "y"
        },
        {
         "hovertemplate": "region=Benin<br>Year=%{x}<br>Nb of athletes=%{y}<extra></extra>",
         "legendgroup": "Benin",
         "line": {
          "color": "#00cc96",
          "dash": "solid"
         },
         "marker": {
          "symbol": "circle"
         },
         "mode": "lines",
         "name": "Benin",
         "showlegend": true,
         "type": "scattergl",
         "x": [
          1972,
          1980,
          1984,
          1988,
          1992,
          1996,
          2000,
          2004,
          2008,
          2012,
          2016
         ],
         "xaxis": "x",
         "y": [
          3,
          16,
          3,
          7,
          6,
          5,
          4,
          4,
          5,
          5,
          6
         ],
         "yaxis": "y"
        },
        {
         "hovertemplate": "region=Burkina Faso<br>Year=%{x}<br>Nb of athletes=%{y}<extra></extra>",
         "legendgroup": "Burkina Faso",
         "line": {
          "color": "#ab63fa",
          "dash": "solid"
         },
         "marker": {
          "symbol": "circle"
         },
         "mode": "lines",
         "name": "Burkina Faso",
         "showlegend": true,
         "type": "scattergl",
         "x": [
          1972,
          1988,
          1992,
          1996,
          2000,
          2004,
          2008,
          2012,
          2016
         ],
         "xaxis": "x",
         "y": [
          1,
          6,
          4,
          5,
          4,
          5,
          6,
          5,
          5
         ],
         "yaxis": "y"
        },
        {
         "hovertemplate": "region=Gabon<br>Year=%{x}<br>Nb of athletes=%{y}<extra></extra>",
         "legendgroup": "Gabon",
         "line": {
          "color": "#FFA15A",
          "dash": "solid"
         },
         "marker": {
          "symbol": "circle"
         },
         "mode": "lines",
         "name": "Gabon",
         "showlegend": true,
         "type": "scattergl",
         "x": [
          1972,
          1984,
          1988,
          1992,
          1996,
          2000,
          2004,
          2008,
          2012,
          2016
         ],
         "xaxis": "x",
         "y": [
          1,
          4,
          2,
          5,
          7,
          5,
          5,
          4,
          21,
          6
         ],
         "yaxis": "y"
        },
        {
         "hovertemplate": "region=Lesotho<br>Year=%{x}<br>Nb of athletes=%{y}<extra></extra>",
         "legendgroup": "Lesotho",
         "line": {
          "color": "#19d3f3",
          "dash": "solid"
         },
         "marker": {
          "symbol": "circle"
         },
         "mode": "lines",
         "name": "Lesotho",
         "showlegend": true,
         "type": "scattergl",
         "x": [
          1972,
          1980,
          1984,
          1988,
          1992,
          1996,
          2000,
          2004,
          2008,
          2012,
          2016
         ],
         "xaxis": "x",
         "y": [
          1,
          5,
          4,
          6,
          6,
          9,
          6,
          3,
          5,
          4,
          8
         ],
         "yaxis": "y"
        },
        {
         "hovertemplate": "region=Malawi<br>Year=%{x}<br>Nb of athletes=%{y}<extra></extra>",
         "legendgroup": "Malawi",
         "line": {
          "color": "#FF6692",
          "dash": "solid"
         },
         "marker": {
          "symbol": "circle"
         },
         "mode": "lines",
         "name": "Malawi",
         "showlegend": true,
         "type": "scattergl",
         "x": [
          1972,
          1984,
          1988,
          1992,
          1996,
          2000,
          2004,
          2008,
          2012,
          2016
         ],
         "xaxis": "x",
         "y": [
          16,
          15,
          16,
          4,
          2,
          2,
          4,
          4,
          3,
          5
         ],
         "yaxis": "y"
        },
        {
         "hovertemplate": "region=Saudi Arabia<br>Year=%{x}<br>Nb of athletes=%{y}<extra></extra>",
         "legendgroup": "Saudi Arabia",
         "line": {
          "color": "#B6E880",
          "dash": "solid"
         },
         "marker": {
          "symbol": "circle"
         },
         "mode": "lines",
         "name": "Saudi Arabia",
         "showlegend": true,
         "type": "scattergl",
         "x": [
          1972,
          1976,
          1984,
          1988,
          1992,
          1996,
          2000,
          2004,
          2008,
          2012,
          2016
         ],
         "xaxis": "x",
         "y": [
          10,
          14,
          37,
          9,
          9,
          29,
          18,
          16,
          14,
          18,
          10
         ],
         "yaxis": "y"
        },
        {
         "hovertemplate": "region=Somalia<br>Year=%{x}<br>Nb of athletes=%{y}<extra></extra>",
         "legendgroup": "Somalia",
         "line": {
          "color": "#FF97FF",
          "dash": "solid"
         },
         "marker": {
          "symbol": "circle"
         },
         "mode": "lines",
         "name": "Somalia",
         "showlegend": true,
         "type": "scattergl",
         "x": [
          1972,
          1984,
          1988,
          1996,
          2000,
          2004,
          2008,
          2012,
          2016
         ],
         "xaxis": "x",
         "y": [
          3,
          7,
          5,
          4,
          2,
          2,
          2,
          2,
          2
         ],
         "yaxis": "y"
        },
        {
         "hovertemplate": "region=Swaziland<br>Year=%{x}<br>Nb of athletes=%{y}<extra></extra>",
         "legendgroup": "Swaziland",
         "line": {
          "color": "#FECB52",
          "dash": "solid"
         },
         "marker": {
          "symbol": "circle"
         },
         "mode": "lines",
         "name": "Swaziland",
         "showlegend": true,
         "type": "scattergl",
         "x": [
          1972,
          1984,
          1988,
          1992,
          1996,
          2000,
          2004,
          2008,
          2012,
          2016
         ],
         "xaxis": "x",
         "y": [
          2,
          8,
          11,
          7,
          6,
          6,
          3,
          4,
          3,
          2
         ],
         "yaxis": "y"
        },
        {
         "hovertemplate": "region=Togo<br>Year=%{x}<br>Nb of athletes=%{y}<extra></extra>",
         "legendgroup": "Togo",
         "line": {
          "color": "#636efa",
          "dash": "solid"
         },
         "marker": {
          "symbol": "circle"
         },
         "mode": "lines",
         "name": "Togo",
         "showlegend": true,
         "type": "scattergl",
         "x": [
          1972,
          1984,
          1988,
          1992,
          1996,
          2000,
          2004,
          2008,
          2012,
          2014,
          2016
         ],
         "xaxis": "x",
         "y": [
          7,
          6,
          6,
          6,
          5,
          3,
          3,
          4,
          6,
          2,
          5
         ],
         "yaxis": "y"
        },
        {
         "hovertemplate": "region=Andorra<br>Year=%{x}<br>Nb of athletes=%{y}<extra></extra>",
         "legendgroup": "Andorra",
         "line": {
          "color": "#EF553B",
          "dash": "solid"
         },
         "marker": {
          "symbol": "circle"
         },
         "mode": "lines",
         "name": "Andorra",
         "showlegend": true,
         "type": "scattergl",
         "x": [
          1976,
          1980,
          1984,
          1988,
          1992,
          1994,
          1996,
          1998,
          2000,
          2002,
          2004,
          2006,
          2008,
          2010,
          2012,
          2014,
          2016
         ],
         "xaxis": "x",
         "y": [
          8,
          5,
          4,
          7,
          13,
          6,
          8,
          3,
          5,
          3,
          6,
          3,
          5,
          6,
          6,
          6,
          4
         ],
         "yaxis": "y"
        },
        {
         "hovertemplate": "region=Antigua<br>Year=%{x}<br>Nb of athletes=%{y}<extra></extra>",
         "legendgroup": "Antigua",
         "line": {
          "color": "#00cc96",
          "dash": "solid"
         },
         "marker": {
          "symbol": "circle"
         },
         "mode": "lines",
         "name": "Antigua",
         "showlegend": true,
         "type": "scattergl",
         "x": [
          1976,
          1984,
          1988,
          1992,
          1996,
          2000,
          2004,
          2008,
          2012,
          2016
         ],
         "xaxis": "x",
         "y": [
          10,
          14,
          15,
          13,
          13,
          3,
          5,
          5,
          4,
          8
         ],
         "yaxis": "y"
        },
        {
         "hovertemplate": "region=Cayman Islands<br>Year=%{x}<br>Nb of athletes=%{y}<extra></extra>",
         "legendgroup": "Cayman Islands",
         "line": {
          "color": "#ab63fa",
          "dash": "solid"
         },
         "marker": {
          "symbol": "circle"
         },
         "mode": "lines",
         "name": "Cayman Islands",
         "showlegend": true,
         "type": "scattergl",
         "x": [
          1976,
          1984,
          1988,
          1992,
          1996,
          2000,
          2004,
          2008,
          2010,
          2012,
          2014,
          2016
         ],
         "xaxis": "x",
         "y": [
          2,
          8,
          8,
          10,
          9,
          3,
          5,
          4,
          1,
          4,
          1,
          5
         ],
         "yaxis": "y"
        },
        {
         "hovertemplate": "region=Papua New Guinea<br>Year=%{x}<br>Nb of athletes=%{y}<extra></extra>",
         "legendgroup": "Papua New Guinea",
         "line": {
          "color": "#FFA15A",
          "dash": "solid"
         },
         "marker": {
          "symbol": "circle"
         },
         "mode": "lines",
         "name": "Papua New Guinea",
         "showlegend": true,
         "type": "scattergl",
         "x": [
          1976,
          1984,
          1988,
          1992,
          1996,
          2000,
          2004,
          2008,
          2012,
          2016
         ],
         "xaxis": "x",
         "y": [
          6,
          7,
          11,
          13,
          11,
          5,
          4,
          7,
          8,
          8
         ],
         "yaxis": "y"
        },
        {
         "hovertemplate": "region=Angola<br>Year=%{x}<br>Nb of athletes=%{y}<extra></extra>",
         "legendgroup": "Angola",
         "line": {
          "color": "#19d3f3",
          "dash": "solid"
         },
         "marker": {
          "symbol": "circle"
         },
         "mode": "lines",
         "name": "Angola",
         "showlegend": true,
         "type": "scattergl",
         "x": [
          1980,
          1988,
          1992,
          1996,
          2000,
          2004,
          2008,
          2012,
          2016
         ],
         "xaxis": "x",
         "y": [
          11,
          24,
          28,
          28,
          30,
          30,
          32,
          33,
          26
         ],
         "yaxis": "y"
        },
        {
         "hovertemplate": "region=Botswana<br>Year=%{x}<br>Nb of athletes=%{y}<extra></extra>",
         "legendgroup": "Botswana",
         "line": {
          "color": "#FF6692",
          "dash": "solid"
         },
         "marker": {
          "symbol": "circle"
         },
         "mode": "lines",
         "name": "Botswana",
         "showlegend": true,
         "type": "scattergl",
         "x": [
          1980,
          1984,
          1988,
          1992,
          1996,
          2000,
          2004,
          2008,
          2012,
          2016
         ],
         "xaxis": "x",
         "y": [
          7,
          7,
          8,
          6,
          7,
          7,
          11,
          11,
          4,
          12
         ],
         "yaxis": "y"
        },
        {
         "hovertemplate": "region=Cyprus<br>Year=%{x}<br>Nb of athletes=%{y}<extra></extra>",
         "legendgroup": "Cyprus",
         "line": {
          "color": "#B6E880",
          "dash": "solid"
         },
         "marker": {
          "symbol": "circle"
         },
         "mode": "lines",
         "name": "Cyprus",
         "showlegend": true,
         "type": "scattergl",
         "x": [
          1980,
          1984,
          1988,
          1992,
          1994,
          1996,
          1998,
          2000,
          2002,
          2004,
          2006,
          2008,
          2010,
          2012,
          2014,
          2016
         ],
         "xaxis": "x",
         "y": [
          17,
          15,
          12,
          21,
          1,
          17,
          1,
          22,
          1,
          20,
          1,
          17,
          2,
          13,
          1,
          15
         ],
         "yaxis": "y"
        },
        {
         "hovertemplate": "region=Jordan<br>Year=%{x}<br>Nb of athletes=%{y}<extra></extra>",
         "legendgroup": "Jordan",
         "line": {
          "color": "#FF97FF",
          "dash": "solid"
         },
         "marker": {
          "symbol": "circle"
         },
         "mode": "lines",
         "name": "Jordan",
         "showlegend": true,
         "type": "scattergl",
         "x": [
          1980,
          1984,
          1988,
          1992,
          1996,
          2000,
          2004,
          2008,
          2012,
          2016
         ],
         "xaxis": "x",
         "y": [
          4,
          13,
          7,
          4,
          5,
          8,
          8,
          7,
          9,
          8
         ],
         "yaxis": "y"
        },
        {
         "hovertemplate": "region=Laos<br>Year=%{x}<br>Nb of athletes=%{y}<extra></extra>",
         "legendgroup": "Laos",
         "line": {
          "color": "#FECB52",
          "dash": "solid"
         },
         "marker": {
          "symbol": "circle"
         },
         "mode": "lines",
         "name": "Laos",
         "showlegend": true,
         "type": "scattergl",
         "x": [
          1980,
          1988,
          1992,
          1996,
          2000,
          2004,
          2008,
          2012,
          2016
         ],
         "xaxis": "x",
         "y": [
          19,
          3,
          6,
          5,
          3,
          5,
          4,
          3,
          5
         ],
         "yaxis": "y"
        },
        {
         "hovertemplate": "region=Mozambique<br>Year=%{x}<br>Nb of athletes=%{y}<extra></extra>",
         "legendgroup": "Mozambique",
         "line": {
          "color": "#636efa",
          "dash": "solid"
         },
         "marker": {
          "symbol": "circle"
         },
         "mode": "lines",
         "name": "Mozambique",
         "showlegend": true,
         "type": "scattergl",
         "x": [
          1980,
          1984,
          1988,
          1992,
          1996,
          2000,
          2004,
          2008,
          2012,
          2016
         ],
         "xaxis": "x",
         "y": [
          14,
          9,
          8,
          6,
          3,
          4,
          4,
          4,
          6,
          6
         ],
         "yaxis": "y"
        },
        {
         "hovertemplate": "region=Seychelles<br>Year=%{x}<br>Nb of athletes=%{y}<extra></extra>",
         "legendgroup": "Seychelles",
         "line": {
          "color": "#EF553B",
          "dash": "solid"
         },
         "marker": {
          "symbol": "circle"
         },
         "mode": "lines",
         "name": "Seychelles",
         "showlegend": true,
         "type": "scattergl",
         "x": [
          1980,
          1984,
          1992,
          1996,
          2000,
          2004,
          2008,
          2012,
          2016
         ],
         "xaxis": "x",
         "y": [
          11,
          9,
          11,
          9,
          9,
          9,
          9,
          6,
          10
         ],
         "yaxis": "y"
        },
        {
         "hovertemplate": "region=Bahrain<br>Year=%{x}<br>Nb of athletes=%{y}<extra></extra>",
         "legendgroup": "Bahrain",
         "line": {
          "color": "#00cc96",
          "dash": "solid"
         },
         "marker": {
          "symbol": "circle"
         },
         "mode": "lines",
         "name": "Bahrain",
         "showlegend": true,
         "type": "scattergl",
         "x": [
          1984,
          1988,
          1992,
          1996,
          2000,
          2004,
          2008,
          2012,
          2016
         ],
         "xaxis": "x",
         "y": [
          10,
          7,
          10,
          5,
          4,
          10,
          14,
          12,
          33
         ],
         "yaxis": "y"
        },
        {
         "hovertemplate": "region=Bangladesh<br>Year=%{x}<br>Nb of athletes=%{y}<extra></extra>",
         "legendgroup": "Bangladesh",
         "line": {
          "color": "#ab63fa",
          "dash": "solid"
         },
         "marker": {
          "symbol": "circle"
         },
         "mode": "lines",
         "name": "Bangladesh",
         "showlegend": true,
         "type": "scattergl",
         "x": [
          1984,
          1988,
          1992,
          1996,
          2000,
          2004,
          2008,
          2012,
          2016
         ],
         "xaxis": "x",
         "y": [
          1,
          6,
          6,
          4,
          5,
          4,
          5,
          5,
          7
         ],
         "yaxis": "y"
        },
        {
         "hovertemplate": "region=Bhutan<br>Year=%{x}<br>Nb of athletes=%{y}<extra></extra>",
         "legendgroup": "Bhutan",
         "line": {
          "color": "#FFA15A",
          "dash": "solid"
         },
         "marker": {
          "symbol": "circle"
         },
         "mode": "lines",
         "name": "Bhutan",
         "showlegend": true,
         "type": "scattergl",
         "x": [
          1984,
          1988,
          1992,
          1996,
          2000,
          2004,
          2008,
          2012,
          2016
         ],
         "xaxis": "x",
         "y": [
          6,
          3,
          6,
          2,
          2,
          2,
          2,
          2,
          2
         ],
         "yaxis": "y"
        },
        {
         "hovertemplate": "region=Djibouti<br>Year=%{x}<br>Nb of athletes=%{y}<extra></extra>",
         "legendgroup": "Djibouti",
         "line": {
          "color": "#19d3f3",
          "dash": "solid"
         },
         "marker": {
          "symbol": "circle"
         },
         "mode": "lines",
         "name": "Djibouti",
         "showlegend": true,
         "type": "scattergl",
         "x": [
          1984,
          1988,
          1992,
          1996,
          2000,
          2008,
          2012,
          2016
         ],
         "xaxis": "x",
         "y": [
          3,
          6,
          8,
          5,
          2,
          2,
          4,
          7
         ],
         "yaxis": "y"
        },
        {
         "hovertemplate": "region=Equatorial Guinea<br>Year=%{x}<br>Nb of athletes=%{y}<extra></extra>",
         "legendgroup": "Equatorial Guinea",
         "line": {
          "color": "#FF6692",
          "dash": "solid"
         },
         "marker": {
          "symbol": "circle"
         },
         "mode": "lines",
         "name": "Equatorial Guinea",
         "showlegend": true,
         "type": "scattergl",
         "x": [
          1984,
          1988,
          1992,
          1996,
          2000,
          2004,
          2008,
          2012,
          2016
         ],
         "xaxis": "x",
         "y": [
          4,
          6,
          7,
          5,
          4,
          2,
          3,
          2,
          1
         ],
         "yaxis": "y"
        },
        {
         "hovertemplate": "region=Gambia<br>Year=%{x}<br>Nb of athletes=%{y}<extra></extra>",
         "legendgroup": "Gambia",
         "line": {
          "color": "#B6E880",
          "dash": "solid"
         },
         "marker": {
          "symbol": "circle"
         },
         "mode": "lines",
         "name": "Gambia",
         "showlegend": true,
         "type": "scattergl",
         "x": [
          1984,
          1988,
          1992,
          1996,
          2000,
          2004,
          2008,
          2012,
          2016
         ],
         "xaxis": "x",
         "y": [
          10,
          6,
          5,
          9,
          2,
          2,
          3,
          2,
          4
         ],
         "yaxis": "y"
        },
        {
         "hovertemplate": "region=Grenada<br>Year=%{x}<br>Nb of athletes=%{y}<extra></extra>",
         "legendgroup": "Grenada",
         "line": {
          "color": "#FF97FF",
          "dash": "solid"
         },
         "marker": {
          "symbol": "circle"
         },
         "mode": "lines",
         "name": "Grenada",
         "showlegend": true,
         "type": "scattergl",
         "x": [
          1984,
          1988,
          1992,
          1996,
          2000,
          2004,
          2008,
          2012,
          2016
         ],
         "xaxis": "x",
         "y": [
          6,
          6,
          4,
          5,
          3,
          5,
          9,
          8,
          6
         ],
         "yaxis": "y"
        },
        {
         "hovertemplate": "region=Mauritania<br>Year=%{x}<br>Nb of athletes=%{y}<extra></extra>",
         "legendgroup": "Mauritania",
         "line": {
          "color": "#FECB52",
          "dash": "solid"
         },
         "marker": {
          "symbol": "circle"
         },
         "mode": "lines",
         "name": "Mauritania",
         "showlegend": true,
         "type": "scattergl",
         "x": [
          1984,
          1988,
          1992,
          1996,
          2000,
          2004,
          2008,
          2012,
          2016
         ],
         "xaxis": "x",
         "y": [
          2,
          6,
          6,
          4,
          2,
          2,
          2,
          2,
          2
         ],
         "yaxis": "y"
        },
        {
         "hovertemplate": "region=Mauritius<br>Year=%{x}<br>Nb of athletes=%{y}<extra></extra>",
         "legendgroup": "Mauritius",
         "line": {
          "color": "#636efa",
          "dash": "solid"
         },
         "marker": {
          "symbol": "circle"
         },
         "mode": "lines",
         "name": "Mauritius",
         "showlegend": true,
         "type": "scattergl",
         "x": [
          1984,
          1988,
          1992,
          1996,
          2000,
          2004,
          2008,
          2012,
          2016
         ],
         "xaxis": "x",
         "y": [
          4,
          8,
          13,
          26,
          20,
          9,
          11,
          11,
          11
         ],
         "yaxis": "y"
        },
        {
         "hovertemplate": "region=Oman<br>Year=%{x}<br>Nb of athletes=%{y}<extra></extra>",
         "legendgroup": "Oman",
         "line": {
          "color": "#EF553B",
          "dash": "solid"
         },
         "marker": {
          "symbol": "circle"
         },
         "mode": "lines",
         "name": "Oman",
         "showlegend": true,
         "type": "scattergl",
         "x": [
          1984,
          1988,
          1992,
          1996,
          2000,
          2004,
          2008,
          2012,
          2016
         ],
         "xaxis": "x",
         "y": [
          16,
          8,
          5,
          4,
          6,
          2,
          4,
          3,
          4
         ],
         "yaxis": "y"
        },
        {
         "hovertemplate": "region=Qatar<br>Year=%{x}<br>Nb of athletes=%{y}<extra></extra>",
         "legendgroup": "Qatar",
         "line": {
          "color": "#00cc96",
          "dash": "solid"
         },
         "marker": {
          "symbol": "circle"
         },
         "mode": "lines",
         "name": "Qatar",
         "showlegend": true,
         "type": "scattergl",
         "x": [
          1984,
          1988,
          1992,
          1996,
          2000,
          2004,
          2008,
          2012,
          2016
         ],
         "xaxis": "x",
         "y": [
          24,
          10,
          28,
          12,
          17,
          15,
          20,
          12,
          37
         ],
         "yaxis": "y"
        },
        {
         "hovertemplate": "region=Rwanda<br>Year=%{x}<br>Nb of athletes=%{y}<extra></extra>",
         "legendgroup": "Rwanda",
         "line": {
          "color": "#ab63fa",
          "dash": "solid"
         },
         "marker": {
          "symbol": "circle"
         },
         "mode": "lines",
         "name": "Rwanda",
         "showlegend": true,
         "type": "scattergl",
         "x": [
          1984,
          1988,
          1992,
          1996,
          2000,
          2004,
          2008,
          2012,
          2016
         ],
         "xaxis": "x",
         "y": [
          3,
          6,
          10,
          4,
          5,
          5,
          4,
          7,
          7
         ],
         "yaxis": "y"
        },
        {
         "hovertemplate": "region=Samoa<br>Year=%{x}<br>Nb of athletes=%{y}<extra></extra>",
         "legendgroup": "Samoa",
         "line": {
          "color": "#FFA15A",
          "dash": "solid"
         },
         "marker": {
          "symbol": "circle"
         },
         "mode": "lines",
         "name": "Samoa",
         "showlegend": true,
         "type": "scattergl",
         "x": [
          1984,
          1988,
          1992,
          1996,
          2000,
          2004,
          2008,
          2012,
          2016
         ],
         "xaxis": "x",
         "y": [
          8,
          11,
          5,
          5,
          5,
          3,
          6,
          8,
          8
         ],
         "yaxis": "y"
        },
        {
         "hovertemplate": "region=Solomon Islands<br>Year=%{x}<br>Nb of athletes=%{y}<extra></extra>",
         "legendgroup": "Solomon Islands",
         "line": {
          "color": "#19d3f3",
          "dash": "solid"
         },
         "marker": {
          "symbol": "circle"
         },
         "mode": "lines",
         "name": "Solomon Islands",
         "showlegend": true,
         "type": "scattergl",
         "x": [
          1984,
          1988,
          1992,
          1996,
          2000,
          2004,
          2008,
          2012,
          2016
         ],
         "xaxis": "x",
         "y": [
          3,
          4,
          1,
          4,
          2,
          2,
          3,
          4,
          3
         ],
         "yaxis": "y"
        },
        {
         "hovertemplate": "region=Tonga<br>Year=%{x}<br>Nb of athletes=%{y}<extra></extra>",
         "legendgroup": "Tonga",
         "line": {
          "color": "#FF6692",
          "dash": "solid"
         },
         "marker": {
          "symbol": "circle"
         },
         "mode": "lines",
         "name": "Tonga",
         "showlegend": true,
         "type": "scattergl",
         "x": [
          1984,
          1988,
          1992,
          1996,
          2000,
          2004,
          2008,
          2012,
          2014,
          2016
         ],
         "xaxis": "x",
         "y": [
          7,
          5,
          5,
          5,
          3,
          5,
          3,
          3,
          1,
          7
         ],
         "yaxis": "y"
        },
        {
         "hovertemplate": "region=United Arab Emirates<br>Year=%{x}<br>Nb of athletes=%{y}<extra></extra>",
         "legendgroup": "United Arab Emirates",
         "line": {
          "color": "#B6E880",
          "dash": "solid"
         },
         "marker": {
          "symbol": "circle"
         },
         "mode": "lines",
         "name": "United Arab Emirates",
         "showlegend": true,
         "type": "scattergl",
         "x": [
          1984,
          1988,
          1992,
          1996,
          2000,
          2004,
          2008,
          2012,
          2016
         ],
         "xaxis": "x",
         "y": [
          7,
          12,
          13,
          4,
          4,
          4,
          8,
          26,
          12
         ],
         "yaxis": "y"
        },
        {
         "hovertemplate": "region=Virgin Islands, British<br>Year=%{x}<br>Nb of athletes=%{y}<extra></extra>",
         "legendgroup": "Virgin Islands, British",
         "line": {
          "color": "#FF97FF",
          "dash": "solid"
         },
         "marker": {
          "symbol": "circle"
         },
         "mode": "lines",
         "name": "Virgin Islands, British",
         "showlegend": true,
         "type": "scattergl",
         "x": [
          1984,
          1988,
          1992,
          1996,
          2000,
          2004,
          2008,
          2012,
          2014,
          2016
         ],
         "xaxis": "x",
         "y": [
          10,
          3,
          4,
          7,
          1,
          1,
          2,
          2,
          1,
          4
         ],
         "yaxis": "y"
        },
        {
         "hovertemplate": "region=Yemen<br>Year=%{x}<br>Nb of athletes=%{y}<extra></extra>",
         "legendgroup": "Yemen",
         "line": {
          "color": "#FECB52",
          "dash": "solid"
         },
         "marker": {
          "symbol": "circle"
         },
         "mode": "lines",
         "name": "Yemen",
         "showlegend": true,
         "type": "scattergl",
         "x": [
          1984,
          1988,
          1992,
          1996,
          2000,
          2004,
          2008,
          2012,
          2016
         ],
         "xaxis": "x",
         "y": [
          2,
          13,
          8,
          4,
          2,
          3,
          5,
          4,
          3
         ],
         "yaxis": "y"
        },
        {
         "hovertemplate": "region=American Samoa<br>Year=%{x}<br>Nb of athletes=%{y}<extra></extra>",
         "legendgroup": "American Samoa",
         "line": {
          "color": "#636efa",
          "dash": "solid"
         },
         "marker": {
          "symbol": "circle"
         },
         "mode": "lines",
         "name": "American Samoa",
         "showlegend": true,
         "type": "scattergl",
         "x": [
          1988,
          1992,
          1994,
          1996,
          2000,
          2004,
          2008,
          2012,
          2016
         ],
         "xaxis": "x",
         "y": [
          6,
          3,
          2,
          7,
          4,
          3,
          4,
          4,
          4
         ],
         "yaxis": "y"
        },
        {
         "hovertemplate": "region=Aruba<br>Year=%{x}<br>Nb of athletes=%{y}<extra></extra>",
         "legendgroup": "Aruba",
         "line": {
          "color": "#EF553B",
          "dash": "solid"
         },
         "marker": {
          "symbol": "circle"
         },
         "mode": "lines",
         "name": "Aruba",
         "showlegend": true,
         "type": "scattergl",
         "x": [
          1988,
          1992,
          1996,
          2000,
          2004,
          2008,
          2012,
          2016
         ],
         "xaxis": "x",
         "y": [
          8,
          5,
          3,
          5,
          4,
          2,
          4,
          7
         ],
         "yaxis": "y"
        },
        {
         "hovertemplate": "region=Cook Islands<br>Year=%{x}<br>Nb of athletes=%{y}<extra></extra>",
         "legendgroup": "Cook Islands",
         "line": {
          "color": "#00cc96",
          "dash": "solid"
         },
         "marker": {
          "symbol": "circle"
         },
         "mode": "lines",
         "name": "Cook Islands",
         "showlegend": true,
         "type": "scattergl",
         "x": [
          1988,
          1992,
          1996,
          2000,
          2004,
          2008,
          2012,
          2016
         ],
         "xaxis": "x",
         "y": [
          7,
          2,
          3,
          2,
          3,
          4,
          8,
          9
         ],
         "yaxis": "y"
        },
        {
         "hovertemplate": "region=Guam<br>Year=%{x}<br>Nb of athletes=%{y}<extra></extra>",
         "legendgroup": "Guam",
         "line": {
          "color": "#ab63fa",
          "dash": "solid"
         },
         "marker": {
          "symbol": "circle"
         },
         "mode": "lines",
         "name": "Guam",
         "showlegend": true,
         "type": "scattergl",
         "x": [
          1988,
          1992,
          1996,
          2000,
          2004,
          2008,
          2012,
          2016
         ],
         "xaxis": "x",
         "y": [
          20,
          22,
          8,
          7,
          4,
          6,
          8,
          5
         ],
         "yaxis": "y"
        },
        {
         "hovertemplate": "region=Maldives<br>Year=%{x}<br>Nb of athletes=%{y}<extra></extra>",
         "legendgroup": "Maldives",
         "line": {
          "color": "#FFA15A",
          "dash": "solid"
         },
         "marker": {
          "symbol": "circle"
         },
         "mode": "lines",
         "name": "Maldives",
         "showlegend": true,
         "type": "scattergl",
         "x": [
          1988,
          1992,
          1996,
          2000,
          2004,
          2008,
          2012,
          2016
         ],
         "xaxis": "x",
         "y": [
          7,
          7,
          6,
          4,
          4,
          4,
          5,
          4
         ],
         "yaxis": "y"
        },
        {
         "hovertemplate": "region=Saint Vincent<br>Year=%{x}<br>Nb of athletes=%{y}<extra></extra>",
         "legendgroup": "Saint Vincent",
         "line": {
          "color": "#19d3f3",
          "dash": "solid"
         },
         "marker": {
          "symbol": "circle"
         },
         "mode": "lines",
         "name": "Saint Vincent",
         "showlegend": true,
         "type": "scattergl",
         "x": [
          1988,
          1992,
          1996,
          2000,
          2004,
          2008,
          2012,
          2016
         ],
         "xaxis": "x",
         "y": [
          6,
          6,
          8,
          4,
          3,
          2,
          3,
          4
         ],
         "yaxis": "y"
        },
        {
         "hovertemplate": "region=Vanuatu<br>Year=%{x}<br>Nb of athletes=%{y}<extra></extra>",
         "legendgroup": "Vanuatu",
         "line": {
          "color": "#FF6692",
          "dash": "solid"
         },
         "marker": {
          "symbol": "circle"
         },
         "mode": "lines",
         "name": "Vanuatu",
         "showlegend": true,
         "type": "scattergl",
         "x": [
          1988,
          1992,
          1996,
          2000,
          2004,
          2008,
          2012,
          2016
         ],
         "xaxis": "x",
         "y": [
          4,
          6,
          4,
          3,
          2,
          3,
          5,
          4
         ],
         "yaxis": "y"
        },
        {
         "hovertemplate": "region=Bosnia and Herzegovina<br>Year=%{x}<br>Nb of athletes=%{y}<extra></extra>",
         "legendgroup": "Bosnia and Herzegovina",
         "line": {
          "color": "#B6E880",
          "dash": "solid"
         },
         "marker": {
          "symbol": "circle"
         },
         "mode": "lines",
         "name": "Bosnia and Herzegovina",
         "showlegend": true,
         "type": "scattergl",
         "x": [
          1992,
          1994,
          1996,
          1998,
          2000,
          2002,
          2004,
          2006,
          2008,
          2010,
          2012,
          2014,
          2016
         ],
         "xaxis": "x",
         "y": [
          10,
          10,
          9,
          8,
          9,
          2,
          9,
          6,
          5,
          5,
          6,
          5,
          11
         ],
         "yaxis": "y"
        },
        {
         "hovertemplate": "region=Croatia<br>Year=%{x}<br>Nb of athletes=%{y}<extra></extra>",
         "legendgroup": "Croatia",
         "line": {
          "color": "#FF97FF",
          "dash": "solid"
         },
         "marker": {
          "symbol": "circle"
         },
         "mode": "lines",
         "name": "Croatia",
         "showlegend": true,
         "type": "scattergl",
         "x": [
          1992,
          1994,
          1996,
          1998,
          2000,
          2002,
          2004,
          2006,
          2008,
          2010,
          2012,
          2014,
          2016
         ],
         "xaxis": "x",
         "y": [
          43,
          3,
          84,
          6,
          88,
          13,
          81,
          23,
          99,
          19,
          107,
          11,
          85
         ],
         "yaxis": "y"
        },
        {
         "hovertemplate": "region=Individual Olympic Athletes<br>Year=%{x}<br>Nb of athletes=%{y}<extra></extra>",
         "legendgroup": "Individual Olympic Athletes",
         "line": {
          "color": "#FECB52",
          "dash": "solid"
         },
         "marker": {
          "symbol": "circle"
         },
         "mode": "lines",
         "name": "Individual Olympic Athletes",
         "showlegend": true,
         "type": "scattergl",
         "x": [
          1992,
          2000,
          2012,
          2014,
          2016
         ],
         "xaxis": "x",
         "y": [
          58,
          4,
          4,
          1,
          9
         ],
         "yaxis": "y"
        },
        {
         "hovertemplate": "region=Namibia<br>Year=%{x}<br>Nb of athletes=%{y}<extra></extra>",
         "legendgroup": "Namibia",
         "line": {
          "color": "#636efa",
          "dash": "solid"
         },
         "marker": {
          "symbol": "circle"
         },
         "mode": "lines",
         "name": "Namibia",
         "showlegend": true,
         "type": "scattergl",
         "x": [
          1992,
          1996,
          2000,
          2004,
          2008,
          2012,
          2016
         ],
         "xaxis": "x",
         "y": [
          6,
          8,
          11,
          8,
          10,
          9,
          10
         ],
         "yaxis": "y"
        },
        {
         "hovertemplate": "region=Slovenia<br>Year=%{x}<br>Nb of athletes=%{y}<extra></extra>",
         "legendgroup": "Slovenia",
         "line": {
          "color": "#EF553B",
          "dash": "solid"
         },
         "marker": {
          "symbol": "circle"
         },
         "mode": "lines",
         "name": "Slovenia",
         "showlegend": true,
         "type": "scattergl",
         "x": [
          1992,
          1994,
          1996,
          1998,
          2000,
          2002,
          2004,
          2006,
          2008,
          2010,
          2012,
          2014,
          2016
         ],
         "xaxis": "x",
         "y": [
          62,
          22,
          37,
          34,
          74,
          40,
          79,
          36,
          61,
          47,
          65,
          58,
          63
         ],
         "yaxis": "y"
        },
        {
         "hovertemplate": "region=Armenia<br>Year=%{x}<br>Nb of athletes=%{y}<extra></extra>",
         "legendgroup": "Armenia",
         "line": {
          "color": "#00cc96",
          "dash": "solid"
         },
         "marker": {
          "symbol": "circle"
         },
         "mode": "lines",
         "name": "Armenia",
         "showlegend": true,
         "type": "scattergl",
         "x": [
          1994,
          1996,
          1998,
          2000,
          2002,
          2004,
          2006,
          2008,
          2010,
          2012,
          2014,
          2016
         ],
         "xaxis": "x",
         "y": [
          2,
          32,
          7,
          25,
          9,
          18,
          5,
          25,
          4,
          24,
          4,
          31
         ],
         "yaxis": "y"
        },
        {
         "hovertemplate": "region=Belarus<br>Year=%{x}<br>Nb of athletes=%{y}<extra></extra>",
         "legendgroup": "Belarus",
         "line": {
          "color": "#ab63fa",
          "dash": "solid"
         },
         "marker": {
          "symbol": "circle"
         },
         "mode": "lines",
         "name": "Belarus",
         "showlegend": true,
         "type": "scattergl",
         "x": [
          1994,
          1996,
          1998,
          2000,
          2002,
          2004,
          2006,
          2008,
          2010,
          2012,
          2014,
          2016
         ],
         "xaxis": "x",
         "y": [
          33,
          157,
          59,
          139,
          64,
          151,
          28,
          177,
          47,
          160,
          26,
          120
         ],
         "yaxis": "y"
        },
        {
         "hovertemplate": "region=Georgia<br>Year=%{x}<br>Nb of athletes=%{y}<extra></extra>",
         "legendgroup": "Georgia",
         "line": {
          "color": "#FFA15A",
          "dash": "solid"
         },
         "marker": {
          "symbol": "circle"
         },
         "mode": "lines",
         "name": "Georgia",
         "showlegend": true,
         "type": "scattergl",
         "x": [
          1994,
          1996,
          1998,
          2000,
          2002,
          2004,
          2006,
          2008,
          2010,
          2012,
          2014,
          2016
         ],
         "xaxis": "x",
         "y": [
          5,
          34,
          4,
          36,
          4,
          32,
          3,
          35,
          6,
          34,
          4,
          40
         ],
         "yaxis": "y"
        },
        {
         "hovertemplate": "region=Kazakhstan<br>Year=%{x}<br>Nb of athletes=%{y}<extra></extra>",
         "legendgroup": "Kazakhstan",
         "line": {
          "color": "#19d3f3",
          "dash": "solid"
         },
         "marker": {
          "symbol": "circle"
         },
         "mode": "lines",
         "name": "Kazakhstan",
         "showlegend": true,
         "type": "scattergl",
         "x": [
          1994,
          1996,
          1998,
          2000,
          2002,
          2004,
          2006,
          2008,
          2010,
          2012,
          2014,
          2016
         ],
         "xaxis": "x",
         "y": [
          29,
          96,
          60,
          130,
          50,
          114,
          55,
          130,
          37,
          113,
          50,
          101
         ],
         "yaxis": "y"
        },
        {
         "hovertemplate": "region=Kyrgyzstan<br>Year=%{x}<br>Nb of athletes=%{y}<extra></extra>",
         "legendgroup": "Kyrgyzstan",
         "line": {
          "color": "#FF6692",
          "dash": "solid"
         },
         "marker": {
          "symbol": "circle"
         },
         "mode": "lines",
         "name": "Kyrgyzstan",
         "showlegend": true,
         "type": "scattergl",
         "x": [
          1994,
          1996,
          1998,
          2000,
          2002,
          2004,
          2006,
          2008,
          2010,
          2012,
          2014,
          2016
         ],
         "xaxis": "x",
         "y": [
          1,
          33,
          1,
          48,
          2,
          29,
          1,
          20,
          2,
          14,
          1,
          19
         ],
         "yaxis": "y"
        },
        {
         "hovertemplate": "region=Moldova<br>Year=%{x}<br>Nb of athletes=%{y}<extra></extra>",
         "legendgroup": "Moldova",
         "line": {
          "color": "#B6E880",
          "dash": "solid"
         },
         "marker": {
          "symbol": "circle"
         },
         "mode": "lines",
         "name": "Moldova",
         "showlegend": true,
         "type": "scattergl",
         "x": [
          1994,
          1996,
          1998,
          2000,
          2002,
          2004,
          2006,
          2008,
          2010,
          2012,
          2014,
          2016
         ],
         "xaxis": "x",
         "y": [
          2,
          40,
          2,
          34,
          5,
          33,
          6,
          29,
          7,
          20,
          4,
          23
         ],
         "yaxis": "y"
        },
        {
         "hovertemplate": "region=Slovakia<br>Year=%{x}<br>Nb of athletes=%{y}<extra></extra>",
         "legendgroup": "Slovakia",
         "line": {
          "color": "#FF97FF",
          "dash": "solid"
         },
         "marker": {
          "symbol": "circle"
         },
         "mode": "lines",
         "name": "Slovakia",
         "showlegend": true,
         "type": "scattergl",
         "x": [
          1994,
          1996,
          1998,
          2000,
          2002,
          2004,
          2006,
          2008,
          2010,
          2012,
          2014,
          2016
         ],
         "xaxis": "x",
         "y": [
          42,
          71,
          37,
          108,
          49,
          64,
          58,
          57,
          68,
          47,
          62,
          51
         ],
         "yaxis": "y"
        },
        {
         "hovertemplate": "region=Ukraine<br>Year=%{x}<br>Nb of athletes=%{y}<extra></extra>",
         "legendgroup": "Ukraine",
         "line": {
          "color": "#FECB52",
          "dash": "solid"
         },
         "marker": {
          "symbol": "circle"
         },
         "mode": "lines",
         "name": "Ukraine",
         "showlegend": true,
         "type": "scattergl",
         "x": [
          1994,
          1996,
          1998,
          2000,
          2002,
          2004,
          2006,
          2008,
          2010,
          2012,
          2014,
          2016
         ],
         "xaxis": "x",
         "y": [
          37,
          231,
          56,
          230,
          68,
          239,
          52,
          243,
          45,
          230,
          42,
          204
         ],
         "yaxis": "y"
        },
        {
         "hovertemplate": "region=Uzbekistan<br>Year=%{x}<br>Nb of athletes=%{y}<extra></extra>",
         "legendgroup": "Uzbekistan",
         "line": {
          "color": "#636efa",
          "dash": "solid"
         },
         "marker": {
          "symbol": "circle"
         },
         "mode": "lines",
         "name": "Uzbekistan",
         "showlegend": true,
         "type": "scattergl",
         "x": [
          1994,
          1996,
          1998,
          2000,
          2002,
          2004,
          2006,
          2008,
          2010,
          2012,
          2014,
          2016
         ],
         "xaxis": "x",
         "y": [
          7,
          71,
          4,
          70,
          6,
          69,
          4,
          56,
          3,
          53,
          3,
          70
         ],
         "yaxis": "y"
        },
        {
         "hovertemplate": "region=Azerbaijan<br>Year=%{x}<br>Nb of athletes=%{y}<extra></extra>",
         "legendgroup": "Azerbaijan",
         "line": {
          "color": "#EF553B",
          "dash": "solid"
         },
         "marker": {
          "symbol": "circle"
         },
         "mode": "lines",
         "name": "Azerbaijan",
         "showlegend": true,
         "type": "scattergl",
         "x": [
          1996,
          1998,
          2000,
          2002,
          2004,
          2006,
          2008,
          2010,
          2012,
          2014,
          2016
         ],
         "xaxis": "x",
         "y": [
          23,
          4,
          31,
          4,
          36,
          2,
          44,
          2,
          52,
          3,
          56
         ],
         "yaxis": "y"
        },
        {
         "hovertemplate": "region=Brunei<br>Year=%{x}<br>Nb of athletes=%{y}<extra></extra>",
         "legendgroup": "Brunei",
         "line": {
          "color": "#00cc96",
          "dash": "solid"
         },
         "marker": {
          "symbol": "circle"
         },
         "mode": "lines",
         "name": "Brunei",
         "showlegend": true,
         "type": "scattergl",
         "x": [
          1996,
          2000,
          2004,
          2012,
          2016
         ],
         "xaxis": "x",
         "y": [
          1,
          2,
          1,
          3,
          3
         ],
         "yaxis": "y"
        },
        {
         "hovertemplate": "region=Burundi<br>Year=%{x}<br>Nb of athletes=%{y}<extra></extra>",
         "legendgroup": "Burundi",
         "line": {
          "color": "#ab63fa",
          "dash": "solid"
         },
         "marker": {
          "symbol": "circle"
         },
         "mode": "lines",
         "name": "Burundi",
         "showlegend": true,
         "type": "scattergl",
         "x": [
          1996,
          2000,
          2004,
          2008,
          2012,
          2016
         ],
         "xaxis": "x",
         "y": [
          7,
          6,
          7,
          3,
          6,
          9
         ],
         "yaxis": "y"
        },
        {
         "hovertemplate": "region=Cape Verde<br>Year=%{x}<br>Nb of athletes=%{y}<extra></extra>",
         "legendgroup": "Cape Verde",
         "line": {
          "color": "#FFA15A",
          "dash": "solid"
         },
         "marker": {
          "symbol": "circle"
         },
         "mode": "lines",
         "name": "Cape Verde",
         "showlegend": true,
         "type": "scattergl",
         "x": [
          1996,
          2000,
          2004,
          2008,
          2012,
          2016
         ],
         "xaxis": "x",
         "y": [
          3,
          2,
          3,
          2,
          3,
          5
         ],
         "yaxis": "y"
        },
        {
         "hovertemplate": "region=Comoros<br>Year=%{x}<br>Nb of athletes=%{y}<extra></extra>",
         "legendgroup": "Comoros",
         "line": {
          "color": "#19d3f3",
          "dash": "solid"
         },
         "marker": {
          "symbol": "circle"
         },
         "mode": "lines",
         "name": "Comoros",
         "showlegend": true,
         "type": "scattergl",
         "x": [
          1996,
          2000,
          2004,
          2008,
          2012,
          2016
         ],
         "xaxis": "x",
         "y": [
          4,
          2,
          3,
          3,
          3,
          4
         ],
         "yaxis": "y"
        },
        {
         "hovertemplate": "region=Dominica<br>Year=%{x}<br>Nb of athletes=%{y}<extra></extra>",
         "legendgroup": "Dominica",
         "line": {
          "color": "#FF6692",
          "dash": "solid"
         },
         "marker": {
          "symbol": "circle"
         },
         "mode": "lines",
         "name": "Dominica",
         "showlegend": true,
         "type": "scattergl",
         "x": [
          1996,
          2000,
          2004,
          2008,
          2012,
          2014,
          2016
         ],
         "xaxis": "x",
         "y": [
          6,
          4,
          2,
          2,
          2,
          1,
          2
         ],
         "yaxis": "y"
        },
        {
         "hovertemplate": "region=Guinea-Bissau<br>Year=%{x}<br>Nb of athletes=%{y}<extra></extra>",
         "legendgroup": "Guinea-Bissau",
         "line": {
          "color": "#B6E880",
          "dash": "solid"
         },
         "marker": {
          "symbol": "circle"
         },
         "mode": "lines",
         "name": "Guinea-Bissau",
         "showlegend": true,
         "type": "scattergl",
         "x": [
          1996,
          2000,
          2004,
          2008,
          2012,
          2016
         ],
         "xaxis": "x",
         "y": [
          3,
          3,
          3,
          3,
          4,
          5
         ],
         "yaxis": "y"
        },
        {
         "hovertemplate": "region=Macedonia<br>Year=%{x}<br>Nb of athletes=%{y}<extra></extra>",
         "legendgroup": "Macedonia",
         "line": {
          "color": "#FF97FF",
          "dash": "solid"
         },
         "marker": {
          "symbol": "circle"
         },
         "mode": "lines",
         "name": "Macedonia",
         "showlegend": true,
         "type": "scattergl",
         "x": [
          1996,
          1998,
          2000,
          2002,
          2004,
          2006,
          2008,
          2010,
          2012,
          2014,
          2016
         ],
         "xaxis": "x",
         "y": [
          11,
          3,
          10,
          2,
          10,
          3,
          7,
          3,
          4,
          3,
          6
         ],
         "yaxis": "y"
        },
        {
         "hovertemplate": "region=Nauru<br>Year=%{x}<br>Nb of athletes=%{y}<extra></extra>",
         "legendgroup": "Nauru",
         "line": {
          "color": "#FECB52",
          "dash": "solid"
         },
         "marker": {
          "symbol": "circle"
         },
         "mode": "lines",
         "name": "Nauru",
         "showlegend": true,
         "type": "scattergl",
         "x": [
          1996,
          2000,
          2004,
          2008,
          2012,
          2016
         ],
         "xaxis": "x",
         "y": [
          3,
          2,
          3,
          1,
          2,
          2
         ],
         "yaxis": "y"
        },
        {
         "hovertemplate": "region=Palestine<br>Year=%{x}<br>Nb of athletes=%{y}<extra></extra>",
         "legendgroup": "Palestine",
         "line": {
          "color": "#636efa",
          "dash": "solid"
         },
         "marker": {
          "symbol": "circle"
         },
         "mode": "lines",
         "name": "Palestine",
         "showlegend": true,
         "type": "scattergl",
         "x": [
          1996,
          2000,
          2004,
          2008,
          2012,
          2016
         ],
         "xaxis": "x",
         "y": [
          1,
          2,
          3,
          4,
          5,
          6
         ],
         "yaxis": "y"
        },
        {
         "hovertemplate": "region=Saint Kitts<br>Year=%{x}<br>Nb of athletes=%{y}<extra></extra>",
         "legendgroup": "Saint Kitts",
         "line": {
          "color": "#EF553B",
          "dash": "solid"
         },
         "marker": {
          "symbol": "circle"
         },
         "mode": "lines",
         "name": "Saint Kitts",
         "showlegend": true,
         "type": "scattergl",
         "x": [
          1996,
          2000,
          2004,
          2008,
          2012,
          2016
         ],
         "xaxis": "x",
         "y": [
          10,
          2,
          2,
          4,
          4,
          6
         ],
         "yaxis": "y"
        },
        {
         "hovertemplate": "region=Saint Lucia<br>Year=%{x}<br>Nb of athletes=%{y}<extra></extra>",
         "legendgroup": "Saint Lucia",
         "line": {
          "color": "#00cc96",
          "dash": "solid"
         },
         "marker": {
          "symbol": "circle"
         },
         "mode": "lines",
         "name": "Saint Lucia",
         "showlegend": true,
         "type": "scattergl",
         "x": [
          1996,
          2000,
          2004,
          2008,
          2012,
          2016
         ],
         "xaxis": "x",
         "y": [
          6,
          5,
          2,
          4,
          4,
          5
         ],
         "yaxis": "y"
        },
        {
         "hovertemplate": "region=Sao Tome and Principe<br>Year=%{x}<br>Nb of athletes=%{y}<extra></extra>",
         "legendgroup": "Sao Tome and Principe",
         "line": {
          "color": "#ab63fa",
          "dash": "solid"
         },
         "marker": {
          "symbol": "circle"
         },
         "mode": "lines",
         "name": "Sao Tome and Principe",
         "showlegend": true,
         "type": "scattergl",
         "x": [
          1996,
          2000,
          2004,
          2008,
          2012,
          2016
         ],
         "xaxis": "x",
         "y": [
          2,
          2,
          2,
          3,
          2,
          3
         ],
         "yaxis": "y"
        },
        {
         "hovertemplate": "region=Tajikistan<br>Year=%{x}<br>Nb of athletes=%{y}<extra></extra>",
         "legendgroup": "Tajikistan",
         "line": {
          "color": "#FFA15A",
          "dash": "solid"
         },
         "marker": {
          "symbol": "circle"
         },
         "mode": "lines",
         "name": "Tajikistan",
         "showlegend": true,
         "type": "scattergl",
         "x": [
          1996,
          2000,
          2002,
          2004,
          2006,
          2008,
          2010,
          2012,
          2014,
          2016
         ],
         "xaxis": "x",
         "y": [
          8,
          4,
          1,
          9,
          1,
          15,
          1,
          16,
          1,
          7
         ],
         "yaxis": "y"
        },
        {
         "hovertemplate": "region=Turkmenistan<br>Year=%{x}<br>Nb of athletes=%{y}<extra></extra>",
         "legendgroup": "Turkmenistan",
         "line": {
          "color": "#19d3f3",
          "dash": "solid"
         },
         "marker": {
          "symbol": "circle"
         },
         "mode": "lines",
         "name": "Turkmenistan",
         "showlegend": true,
         "type": "scattergl",
         "x": [
          1996,
          2000,
          2004,
          2008,
          2012,
          2016
         ],
         "xaxis": "x",
         "y": [
          7,
          8,
          9,
          10,
          10,
          9
         ],
         "yaxis": "y"
        },
        {
         "hovertemplate": "region=Eritrea<br>Year=%{x}<br>Nb of athletes=%{y}<extra></extra>",
         "legendgroup": "Eritrea",
         "line": {
          "color": "#FF6692",
          "dash": "solid"
         },
         "marker": {
          "symbol": "circle"
         },
         "mode": "lines",
         "name": "Eritrea",
         "showlegend": true,
         "type": "scattergl",
         "x": [
          2000,
          2004,
          2008,
          2012,
          2016
         ],
         "xaxis": "x",
         "y": [
          3,
          4,
          10,
          12,
          12
         ],
         "yaxis": "y"
        },
        {
         "hovertemplate": "region=Micronesia<br>Year=%{x}<br>Nb of athletes=%{y}<extra></extra>",
         "legendgroup": "Micronesia",
         "line": {
          "color": "#B6E880",
          "dash": "solid"
         },
         "marker": {
          "symbol": "circle"
         },
         "mode": "lines",
         "name": "Micronesia",
         "showlegend": true,
         "type": "scattergl",
         "x": [
          2000,
          2004,
          2008,
          2012,
          2016
         ],
         "xaxis": "x",
         "y": [
          5,
          5,
          5,
          6,
          5
         ],
         "yaxis": "y"
        },
        {
         "hovertemplate": "region=Palau<br>Year=%{x}<br>Nb of athletes=%{y}<extra></extra>",
         "legendgroup": "Palau",
         "line": {
          "color": "#FF97FF",
          "dash": "solid"
         },
         "marker": {
          "symbol": "circle"
         },
         "mode": "lines",
         "name": "Palau",
         "showlegend": true,
         "type": "scattergl",
         "x": [
          2000,
          2004,
          2008,
          2012,
          2016
         ],
         "xaxis": "x",
         "y": [
          5,
          4,
          5,
          5,
          5
         ],
         "yaxis": "y"
        },
        {
         "hovertemplate": "region=Kiribati<br>Year=%{x}<br>Nb of athletes=%{y}<extra></extra>",
         "legendgroup": "Kiribati",
         "line": {
          "color": "#FECB52",
          "dash": "solid"
         },
         "marker": {
          "symbol": "circle"
         },
         "mode": "lines",
         "name": "Kiribati",
         "showlegend": true,
         "type": "scattergl",
         "x": [
          2004,
          2008,
          2012,
          2016
         ],
         "xaxis": "x",
         "y": [
          3,
          2,
          3,
          3
         ],
         "yaxis": "y"
        },
        {
         "hovertemplate": "region=Timor-Leste<br>Year=%{x}<br>Nb of athletes=%{y}<extra></extra>",
         "legendgroup": "Timor-Leste",
         "line": {
          "color": "#636efa",
          "dash": "solid"
         },
         "marker": {
          "symbol": "circle"
         },
         "mode": "lines",
         "name": "Timor-Leste",
         "showlegend": true,
         "type": "scattergl",
         "x": [
          2004,
          2008,
          2012,
          2014,
          2016
         ],
         "xaxis": "x",
         "y": [
          2,
          1,
          2,
          1,
          3
         ],
         "yaxis": "y"
        },
        {
         "hovertemplate": "region=Marshall Islands<br>Year=%{x}<br>Nb of athletes=%{y}<extra></extra>",
         "legendgroup": "Marshall Islands",
         "line": {
          "color": "#EF553B",
          "dash": "solid"
         },
         "marker": {
          "symbol": "circle"
         },
         "mode": "lines",
         "name": "Marshall Islands",
         "showlegend": true,
         "type": "scattergl",
         "x": [
          2008,
          2012,
          2016
         ],
         "xaxis": "x",
         "y": [
          5,
          4,
          5
         ],
         "yaxis": "y"
        },
        {
         "hovertemplate": "region=Montenegro<br>Year=%{x}<br>Nb of athletes=%{y}<extra></extra>",
         "legendgroup": "Montenegro",
         "line": {
          "color": "#00cc96",
          "dash": "solid"
         },
         "marker": {
          "symbol": "circle"
         },
         "mode": "lines",
         "name": "Montenegro",
         "showlegend": true,
         "type": "scattergl",
         "x": [
          2008,
          2010,
          2012,
          2014,
          2016
         ],
         "xaxis": "x",
         "y": [
          19,
          1,
          33,
          2,
          35
         ],
         "yaxis": "y"
        },
        {
         "hovertemplate": "region=Kosovo<br>Year=%{x}<br>Nb of athletes=%{y}<extra></extra>",
         "legendgroup": "Kosovo",
         "line": {
          "color": "#ab63fa",
          "dash": "solid"
         },
         "marker": {
          "symbol": "circle"
         },
         "mode": "lines",
         "name": "Kosovo",
         "showlegend": true,
         "type": "scattergl",
         "x": [
          2016
         ],
         "xaxis": "x",
         "y": [
          8
         ],
         "yaxis": "y"
        },
        {
         "hovertemplate": "region=South Sudan<br>Year=%{x}<br>Nb of athletes=%{y}<extra></extra>",
         "legendgroup": "South Sudan",
         "line": {
          "color": "#FFA15A",
          "dash": "solid"
         },
         "marker": {
          "symbol": "circle"
         },
         "mode": "lines",
         "name": "South Sudan",
         "showlegend": true,
         "type": "scattergl",
         "x": [
          2016
         ],
         "xaxis": "x",
         "y": [
          3
         ],
         "yaxis": "y"
        }
       ],
       "layout": {
        "legend": {
         "title": {
          "text": "region"
         },
         "tracegroupgap": 0
        },
        "template": {
         "data": {
          "bar": [
           {
            "error_x": {
             "color": "#2a3f5f"
            },
            "error_y": {
             "color": "#2a3f5f"
            },
            "marker": {
             "line": {
              "color": "#E5ECF6",
              "width": 0.5
             },
             "pattern": {
              "fillmode": "overlay",
              "size": 10,
              "solidity": 0.2
             }
            },
            "type": "bar"
           }
          ],
          "barpolar": [
           {
            "marker": {
             "line": {
              "color": "#E5ECF6",
              "width": 0.5
             },
             "pattern": {
              "fillmode": "overlay",
              "size": 10,
              "solidity": 0.2
             }
            },
            "type": "barpolar"
           }
          ],
          "carpet": [
           {
            "aaxis": {
             "endlinecolor": "#2a3f5f",
             "gridcolor": "white",
             "linecolor": "white",
             "minorgridcolor": "white",
             "startlinecolor": "#2a3f5f"
            },
            "baxis": {
             "endlinecolor": "#2a3f5f",
             "gridcolor": "white",
             "linecolor": "white",
             "minorgridcolor": "white",
             "startlinecolor": "#2a3f5f"
            },
            "type": "carpet"
           }
          ],
          "choropleth": [
           {
            "colorbar": {
             "outlinewidth": 0,
             "ticks": ""
            },
            "type": "choropleth"
           }
          ],
          "contour": [
           {
            "colorbar": {
             "outlinewidth": 0,
             "ticks": ""
            },
            "colorscale": [
             [
              0,
              "#0d0887"
             ],
             [
              0.1111111111111111,
              "#46039f"
             ],
             [
              0.2222222222222222,
              "#7201a8"
             ],
             [
              0.3333333333333333,
              "#9c179e"
             ],
             [
              0.4444444444444444,
              "#bd3786"
             ],
             [
              0.5555555555555556,
              "#d8576b"
             ],
             [
              0.6666666666666666,
              "#ed7953"
             ],
             [
              0.7777777777777778,
              "#fb9f3a"
             ],
             [
              0.8888888888888888,
              "#fdca26"
             ],
             [
              1,
              "#f0f921"
             ]
            ],
            "type": "contour"
           }
          ],
          "contourcarpet": [
           {
            "colorbar": {
             "outlinewidth": 0,
             "ticks": ""
            },
            "type": "contourcarpet"
           }
          ],
          "heatmap": [
           {
            "colorbar": {
             "outlinewidth": 0,
             "ticks": ""
            },
            "colorscale": [
             [
              0,
              "#0d0887"
             ],
             [
              0.1111111111111111,
              "#46039f"
             ],
             [
              0.2222222222222222,
              "#7201a8"
             ],
             [
              0.3333333333333333,
              "#9c179e"
             ],
             [
              0.4444444444444444,
              "#bd3786"
             ],
             [
              0.5555555555555556,
              "#d8576b"
             ],
             [
              0.6666666666666666,
              "#ed7953"
             ],
             [
              0.7777777777777778,
              "#fb9f3a"
             ],
             [
              0.8888888888888888,
              "#fdca26"
             ],
             [
              1,
              "#f0f921"
             ]
            ],
            "type": "heatmap"
           }
          ],
          "heatmapgl": [
           {
            "colorbar": {
             "outlinewidth": 0,
             "ticks": ""
            },
            "colorscale": [
             [
              0,
              "#0d0887"
             ],
             [
              0.1111111111111111,
              "#46039f"
             ],
             [
              0.2222222222222222,
              "#7201a8"
             ],
             [
              0.3333333333333333,
              "#9c179e"
             ],
             [
              0.4444444444444444,
              "#bd3786"
             ],
             [
              0.5555555555555556,
              "#d8576b"
             ],
             [
              0.6666666666666666,
              "#ed7953"
             ],
             [
              0.7777777777777778,
              "#fb9f3a"
             ],
             [
              0.8888888888888888,
              "#fdca26"
             ],
             [
              1,
              "#f0f921"
             ]
            ],
            "type": "heatmapgl"
           }
          ],
          "histogram": [
           {
            "marker": {
             "pattern": {
              "fillmode": "overlay",
              "size": 10,
              "solidity": 0.2
             }
            },
            "type": "histogram"
           }
          ],
          "histogram2d": [
           {
            "colorbar": {
             "outlinewidth": 0,
             "ticks": ""
            },
            "colorscale": [
             [
              0,
              "#0d0887"
             ],
             [
              0.1111111111111111,
              "#46039f"
             ],
             [
              0.2222222222222222,
              "#7201a8"
             ],
             [
              0.3333333333333333,
              "#9c179e"
             ],
             [
              0.4444444444444444,
              "#bd3786"
             ],
             [
              0.5555555555555556,
              "#d8576b"
             ],
             [
              0.6666666666666666,
              "#ed7953"
             ],
             [
              0.7777777777777778,
              "#fb9f3a"
             ],
             [
              0.8888888888888888,
              "#fdca26"
             ],
             [
              1,
              "#f0f921"
             ]
            ],
            "type": "histogram2d"
           }
          ],
          "histogram2dcontour": [
           {
            "colorbar": {
             "outlinewidth": 0,
             "ticks": ""
            },
            "colorscale": [
             [
              0,
              "#0d0887"
             ],
             [
              0.1111111111111111,
              "#46039f"
             ],
             [
              0.2222222222222222,
              "#7201a8"
             ],
             [
              0.3333333333333333,
              "#9c179e"
             ],
             [
              0.4444444444444444,
              "#bd3786"
             ],
             [
              0.5555555555555556,
              "#d8576b"
             ],
             [
              0.6666666666666666,
              "#ed7953"
             ],
             [
              0.7777777777777778,
              "#fb9f3a"
             ],
             [
              0.8888888888888888,
              "#fdca26"
             ],
             [
              1,
              "#f0f921"
             ]
            ],
            "type": "histogram2dcontour"
           }
          ],
          "mesh3d": [
           {
            "colorbar": {
             "outlinewidth": 0,
             "ticks": ""
            },
            "type": "mesh3d"
           }
          ],
          "parcoords": [
           {
            "line": {
             "colorbar": {
              "outlinewidth": 0,
              "ticks": ""
             }
            },
            "type": "parcoords"
           }
          ],
          "pie": [
           {
            "automargin": true,
            "type": "pie"
           }
          ],
          "scatter": [
           {
            "fillpattern": {
             "fillmode": "overlay",
             "size": 10,
             "solidity": 0.2
            },
            "type": "scatter"
           }
          ],
          "scatter3d": [
           {
            "line": {
             "colorbar": {
              "outlinewidth": 0,
              "ticks": ""
             }
            },
            "marker": {
             "colorbar": {
              "outlinewidth": 0,
              "ticks": ""
             }
            },
            "type": "scatter3d"
           }
          ],
          "scattercarpet": [
           {
            "marker": {
             "colorbar": {
              "outlinewidth": 0,
              "ticks": ""
             }
            },
            "type": "scattercarpet"
           }
          ],
          "scattergeo": [
           {
            "marker": {
             "colorbar": {
              "outlinewidth": 0,
              "ticks": ""
             }
            },
            "type": "scattergeo"
           }
          ],
          "scattergl": [
           {
            "marker": {
             "colorbar": {
              "outlinewidth": 0,
              "ticks": ""
             }
            },
            "type": "scattergl"
           }
          ],
          "scattermapbox": [
           {
            "marker": {
             "colorbar": {
              "outlinewidth": 0,
              "ticks": ""
             }
            },
            "type": "scattermapbox"
           }
          ],
          "scatterpolar": [
           {
            "marker": {
             "colorbar": {
              "outlinewidth": 0,
              "ticks": ""
             }
            },
            "type": "scatterpolar"
           }
          ],
          "scatterpolargl": [
           {
            "marker": {
             "colorbar": {
              "outlinewidth": 0,
              "ticks": ""
             }
            },
            "type": "scatterpolargl"
           }
          ],
          "scatterternary": [
           {
            "marker": {
             "colorbar": {
              "outlinewidth": 0,
              "ticks": ""
             }
            },
            "type": "scatterternary"
           }
          ],
          "surface": [
           {
            "colorbar": {
             "outlinewidth": 0,
             "ticks": ""
            },
            "colorscale": [
             [
              0,
              "#0d0887"
             ],
             [
              0.1111111111111111,
              "#46039f"
             ],
             [
              0.2222222222222222,
              "#7201a8"
             ],
             [
              0.3333333333333333,
              "#9c179e"
             ],
             [
              0.4444444444444444,
              "#bd3786"
             ],
             [
              0.5555555555555556,
              "#d8576b"
             ],
             [
              0.6666666666666666,
              "#ed7953"
             ],
             [
              0.7777777777777778,
              "#fb9f3a"
             ],
             [
              0.8888888888888888,
              "#fdca26"
             ],
             [
              1,
              "#f0f921"
             ]
            ],
            "type": "surface"
           }
          ],
          "table": [
           {
            "cells": {
             "fill": {
              "color": "#EBF0F8"
             },
             "line": {
              "color": "white"
             }
            },
            "header": {
             "fill": {
              "color": "#C8D4E3"
             },
             "line": {
              "color": "white"
             }
            },
            "type": "table"
           }
          ]
         },
         "layout": {
          "annotationdefaults": {
           "arrowcolor": "#2a3f5f",
           "arrowhead": 0,
           "arrowwidth": 1
          },
          "autotypenumbers": "strict",
          "coloraxis": {
           "colorbar": {
            "outlinewidth": 0,
            "ticks": ""
           }
          },
          "colorscale": {
           "diverging": [
            [
             0,
             "#8e0152"
            ],
            [
             0.1,
             "#c51b7d"
            ],
            [
             0.2,
             "#de77ae"
            ],
            [
             0.3,
             "#f1b6da"
            ],
            [
             0.4,
             "#fde0ef"
            ],
            [
             0.5,
             "#f7f7f7"
            ],
            [
             0.6,
             "#e6f5d0"
            ],
            [
             0.7,
             "#b8e186"
            ],
            [
             0.8,
             "#7fbc41"
            ],
            [
             0.9,
             "#4d9221"
            ],
            [
             1,
             "#276419"
            ]
           ],
           "sequential": [
            [
             0,
             "#0d0887"
            ],
            [
             0.1111111111111111,
             "#46039f"
            ],
            [
             0.2222222222222222,
             "#7201a8"
            ],
            [
             0.3333333333333333,
             "#9c179e"
            ],
            [
             0.4444444444444444,
             "#bd3786"
            ],
            [
             0.5555555555555556,
             "#d8576b"
            ],
            [
             0.6666666666666666,
             "#ed7953"
            ],
            [
             0.7777777777777778,
             "#fb9f3a"
            ],
            [
             0.8888888888888888,
             "#fdca26"
            ],
            [
             1,
             "#f0f921"
            ]
           ],
           "sequentialminus": [
            [
             0,
             "#0d0887"
            ],
            [
             0.1111111111111111,
             "#46039f"
            ],
            [
             0.2222222222222222,
             "#7201a8"
            ],
            [
             0.3333333333333333,
             "#9c179e"
            ],
            [
             0.4444444444444444,
             "#bd3786"
            ],
            [
             0.5555555555555556,
             "#d8576b"
            ],
            [
             0.6666666666666666,
             "#ed7953"
            ],
            [
             0.7777777777777778,
             "#fb9f3a"
            ],
            [
             0.8888888888888888,
             "#fdca26"
            ],
            [
             1,
             "#f0f921"
            ]
           ]
          },
          "colorway": [
           "#636efa",
           "#EF553B",
           "#00cc96",
           "#ab63fa",
           "#FFA15A",
           "#19d3f3",
           "#FF6692",
           "#B6E880",
           "#FF97FF",
           "#FECB52"
          ],
          "font": {
           "color": "#2a3f5f"
          },
          "geo": {
           "bgcolor": "white",
           "lakecolor": "white",
           "landcolor": "#E5ECF6",
           "showlakes": true,
           "showland": true,
           "subunitcolor": "white"
          },
          "hoverlabel": {
           "align": "left"
          },
          "hovermode": "closest",
          "mapbox": {
           "style": "light"
          },
          "paper_bgcolor": "white",
          "plot_bgcolor": "#E5ECF6",
          "polar": {
           "angularaxis": {
            "gridcolor": "white",
            "linecolor": "white",
            "ticks": ""
           },
           "bgcolor": "#E5ECF6",
           "radialaxis": {
            "gridcolor": "white",
            "linecolor": "white",
            "ticks": ""
           }
          },
          "scene": {
           "xaxis": {
            "backgroundcolor": "#E5ECF6",
            "gridcolor": "white",
            "gridwidth": 2,
            "linecolor": "white",
            "showbackground": true,
            "ticks": "",
            "zerolinecolor": "white"
           },
           "yaxis": {
            "backgroundcolor": "#E5ECF6",
            "gridcolor": "white",
            "gridwidth": 2,
            "linecolor": "white",
            "showbackground": true,
            "ticks": "",
            "zerolinecolor": "white"
           },
           "zaxis": {
            "backgroundcolor": "#E5ECF6",
            "gridcolor": "white",
            "gridwidth": 2,
            "linecolor": "white",
            "showbackground": true,
            "ticks": "",
            "zerolinecolor": "white"
           }
          },
          "shapedefaults": {
           "line": {
            "color": "#2a3f5f"
           }
          },
          "ternary": {
           "aaxis": {
            "gridcolor": "white",
            "linecolor": "white",
            "ticks": ""
           },
           "baxis": {
            "gridcolor": "white",
            "linecolor": "white",
            "ticks": ""
           },
           "bgcolor": "#E5ECF6",
           "caxis": {
            "gridcolor": "white",
            "linecolor": "white",
            "ticks": ""
           }
          },
          "title": {
           "x": 0.05
          },
          "xaxis": {
           "automargin": true,
           "gridcolor": "white",
           "linecolor": "white",
           "ticks": "",
           "title": {
            "standoff": 15
           },
           "zerolinecolor": "white",
           "zerolinewidth": 2
          },
          "yaxis": {
           "automargin": true,
           "gridcolor": "white",
           "linecolor": "white",
           "ticks": "",
           "title": {
            "standoff": 15
           },
           "zerolinecolor": "white",
           "zerolinewidth": 2
          }
         }
        },
        "title": {
         "text": "Number of athletes per year and per country"
        },
        "xaxis": {
         "anchor": "y",
         "domain": [
          0,
          1
         ],
         "title": {
          "text": "Year"
         }
        },
        "yaxis": {
         "anchor": "x",
         "domain": [
          0,
          1
         ],
         "title": {
          "text": "Nb of athletes"
         }
        }
       }
      }
     },
     "metadata": {},
     "output_type": "display_data"
    }
   ],
   "source": [
    "# we plot the number of athletes per year and per country\n",
    "fig = px.line(athletes_per_country, x=\"Year\", y=\"Nb of athletes\", color=\"region\", title=\"Number of athletes per year and per country\")\n",
    "fig.show()"
   ]
  },
  {
   "cell_type": "code",
   "execution_count": 52,
   "metadata": {},
   "outputs": [
    {
     "data": {
      "text/html": [
       "<div>\n",
       "<style scoped>\n",
       "    .dataframe tbody tr th:only-of-type {\n",
       "        vertical-align: middle;\n",
       "    }\n",
       "\n",
       "    .dataframe tbody tr th {\n",
       "        vertical-align: top;\n",
       "    }\n",
       "\n",
       "    .dataframe thead th {\n",
       "        text-align: right;\n",
       "    }\n",
       "</style>\n",
       "<table border=\"1\" class=\"dataframe\">\n",
       "  <thead>\n",
       "    <tr style=\"text-align: right;\">\n",
       "      <th></th>\n",
       "      <th>Nb of athletes</th>\n",
       "    </tr>\n",
       "    <tr>\n",
       "      <th>region</th>\n",
       "      <th></th>\n",
       "    </tr>\n",
       "  </thead>\n",
       "  <tbody>\n",
       "    <tr>\n",
       "      <th>USA</th>\n",
       "      <td>367.228571</td>\n",
       "    </tr>\n",
       "    <tr>\n",
       "      <th>Germany</th>\n",
       "      <td>332.937500</td>\n",
       "    </tr>\n",
       "    <tr>\n",
       "      <th>Russia</th>\n",
       "      <td>300.000000</td>\n",
       "    </tr>\n",
       "    <tr>\n",
       "      <th>UK</th>\n",
       "      <td>242.571429</td>\n",
       "    </tr>\n",
       "    <tr>\n",
       "      <th>France</th>\n",
       "      <td>236.571429</td>\n",
       "    </tr>\n",
       "    <tr>\n",
       "      <th>Italy</th>\n",
       "      <td>206.457143</td>\n",
       "    </tr>\n",
       "    <tr>\n",
       "      <th>Canada</th>\n",
       "      <td>190.205882</td>\n",
       "    </tr>\n",
       "    <tr>\n",
       "      <th>Japan</th>\n",
       "      <td>188.206897</td>\n",
       "    </tr>\n",
       "    <tr>\n",
       "      <th>Sweden</th>\n",
       "      <td>159.323529</td>\n",
       "    </tr>\n",
       "    <tr>\n",
       "      <th>Australia</th>\n",
       "      <td>158.114286</td>\n",
       "    </tr>\n",
       "  </tbody>\n",
       "</table>\n",
       "</div>"
      ],
      "text/plain": [
       "           Nb of athletes\n",
       "region                   \n",
       "USA            367.228571\n",
       "Germany        332.937500\n",
       "Russia         300.000000\n",
       "UK             242.571429\n",
       "France         236.571429\n",
       "Italy          206.457143\n",
       "Canada         190.205882\n",
       "Japan          188.206897\n",
       "Sweden         159.323529\n",
       "Australia      158.114286"
      ]
     },
     "execution_count": 52,
     "metadata": {},
     "output_type": "execute_result"
    }
   ],
   "source": [
    "# the graph is overwhelming, we decide to focus on the top 10 countries with the most athletes\n",
    "top_10_countries = athletes_per_country.groupby(['region']).mean().sort_values(by='Nb of athletes', ascending=False).head(10).drop(columns=['Year'])\n",
    "top_10_countries"
   ]
  },
  {
   "cell_type": "code",
   "execution_count": 53,
   "metadata": {},
   "outputs": [
    {
     "data": {
      "application/vnd.plotly.v1+json": {
       "config": {
        "plotlyServerURL": "https://plot.ly"
       },
       "data": [
        {
         "hovertemplate": "region=Australia<br>Year=%{x}<br>Nb of athletes=%{y}<extra></extra>",
         "legendgroup": "Australia",
         "line": {
          "color": "#636efa",
          "dash": "solid"
         },
         "marker": {
          "symbol": "circle"
         },
         "mode": "lines",
         "name": "Australia",
         "orientation": "v",
         "showlegend": true,
         "type": "scatter",
         "x": [
          1896,
          1900,
          1904,
          1906,
          1908,
          1912,
          1920,
          1924,
          1928,
          1932,
          1936,
          1948,
          1952,
          1956,
          1960,
          1964,
          1968,
          1972,
          1976,
          1980,
          1984,
          1988,
          1992,
          1994,
          1996,
          1998,
          2000,
          2002,
          2004,
          2006,
          2008,
          2010,
          2012,
          2014,
          2016
         ],
         "xaxis": "x",
         "y": [
          1,
          2,
          2,
          4,
          30,
          25,
          13,
          37,
          18,
          13,
          33,
          75,
          90,
          306,
          219,
          248,
          131,
          172,
          188,
          129,
          252,
          271,
          301,
          25,
          417,
          23,
          617,
          25,
          470,
          40,
          432,
          40,
          405,
          60,
          420
         ],
         "yaxis": "y"
        },
        {
         "hovertemplate": "region=France<br>Year=%{x}<br>Nb of athletes=%{y}<extra></extra>",
         "legendgroup": "France",
         "line": {
          "color": "#EF553B",
          "dash": "solid"
         },
         "marker": {
          "symbol": "circle"
         },
         "mode": "lines",
         "name": "France",
         "orientation": "v",
         "showlegend": true,
         "type": "scatter",
         "x": [
          1896,
          1900,
          1904,
          1906,
          1908,
          1912,
          1920,
          1924,
          1928,
          1932,
          1936,
          1948,
          1952,
          1956,
          1960,
          1964,
          1968,
          1972,
          1976,
          1980,
          1984,
          1988,
          1992,
          1994,
          1996,
          1998,
          2000,
          2002,
          2004,
          2006,
          2008,
          2010,
          2012,
          2014,
          2016
         ],
         "xaxis": "x",
         "y": [
          12,
          720,
          1,
          56,
          208,
          119,
          304,
          444,
          293,
          111,
          229,
          352,
          271,
          177,
          264,
          162,
          275,
          267,
          241,
          143,
          270,
          334,
          448,
          98,
          299,
          106,
          336,
          114,
          308,
          82,
          309,
          104,
          324,
          107,
          392
         ],
         "yaxis": "y"
        },
        {
         "hovertemplate": "region=Germany<br>Year=%{x}<br>Nb of athletes=%{y}<extra></extra>",
         "legendgroup": "Germany",
         "line": {
          "color": "#00cc96",
          "dash": "solid"
         },
         "marker": {
          "symbol": "circle"
         },
         "mode": "lines",
         "name": "Germany",
         "orientation": "v",
         "showlegend": true,
         "type": "scatter",
         "x": [
          1896,
          1900,
          1904,
          1906,
          1908,
          1912,
          1928,
          1932,
          1936,
          1952,
          1956,
          1960,
          1964,
          1968,
          1972,
          1976,
          1980,
          1984,
          1988,
          1992,
          1994,
          1996,
          1998,
          2000,
          2002,
          2004,
          2006,
          2008,
          2010,
          2012,
          2014,
          2016
         ],
         "xaxis": "x",
         "y": [
          19,
          76,
          22,
          49,
          82,
          185,
          339,
          165,
          488,
          294,
          230,
          368,
          433,
          645,
          841,
          687,
          479,
          530,
          749,
          574,
          112,
          466,
          125,
          422,
          157,
          441,
          155,
          420,
          149,
          383,
          151,
          418
         ],
         "yaxis": "y"
        },
        {
         "hovertemplate": "region=Italy<br>Year=%{x}<br>Nb of athletes=%{y}<extra></extra>",
         "legendgroup": "Italy",
         "line": {
          "color": "#ab63fa",
          "dash": "solid"
         },
         "marker": {
          "symbol": "circle"
         },
         "mode": "lines",
         "name": "Italy",
         "orientation": "v",
         "showlegend": true,
         "type": "scatter",
         "x": [
          1896,
          1900,
          1904,
          1906,
          1908,
          1912,
          1920,
          1924,
          1928,
          1932,
          1936,
          1948,
          1952,
          1956,
          1960,
          1964,
          1968,
          1972,
          1976,
          1980,
          1984,
          1988,
          1992,
          1994,
          1996,
          1998,
          2000,
          2002,
          2004,
          2006,
          2008,
          2010,
          2012,
          2014,
          2016
         ],
         "xaxis": "x",
         "y": [
          1,
          23,
          1,
          76,
          66,
          66,
          174,
          223,
          187,
          124,
          284,
          269,
          264,
          200,
          308,
          229,
          214,
          268,
          268,
          205,
          342,
          311,
          411,
          104,
          340,
          113,
          361,
          109,
          364,
          179,
          333,
          109,
          281,
          110,
          309
         ],
         "yaxis": "y"
        },
        {
         "hovertemplate": "region=Sweden<br>Year=%{x}<br>Nb of athletes=%{y}<extra></extra>",
         "legendgroup": "Sweden",
         "line": {
          "color": "#FFA15A",
          "dash": "solid"
         },
         "marker": {
          "symbol": "circle"
         },
         "mode": "lines",
         "name": "Sweden",
         "orientation": "v",
         "showlegend": true,
         "type": "scatter",
         "x": [
          1896,
          1900,
          1906,
          1908,
          1912,
          1920,
          1924,
          1928,
          1932,
          1936,
          1948,
          1952,
          1956,
          1960,
          1964,
          1968,
          1972,
          1976,
          1980,
          1984,
          1988,
          1992,
          1994,
          1996,
          1998,
          2000,
          2002,
          2004,
          2006,
          2008,
          2010,
          2012,
          2014,
          2016
         ],
         "xaxis": "x",
         "y": [
          1,
          10,
          39,
          168,
          444,
          260,
          190,
          124,
          93,
          203,
          224,
          271,
          155,
          181,
          151,
          168,
          189,
          155,
          206,
          234,
          252,
          260,
          84,
          177,
          99,
          150,
          102,
          115,
          106,
          123,
          101,
          133,
          99,
          150
         ],
         "yaxis": "y"
        },
        {
         "hovertemplate": "region=UK<br>Year=%{x}<br>Nb of athletes=%{y}<extra></extra>",
         "legendgroup": "UK",
         "line": {
          "color": "#19d3f3",
          "dash": "solid"
         },
         "marker": {
          "symbol": "circle"
         },
         "mode": "lines",
         "name": "UK",
         "orientation": "v",
         "showlegend": true,
         "type": "scatter",
         "x": [
          1896,
          1900,
          1904,
          1906,
          1908,
          1912,
          1920,
          1924,
          1928,
          1932,
          1936,
          1948,
          1952,
          1956,
          1960,
          1964,
          1968,
          1972,
          1976,
          1980,
          1984,
          1988,
          1992,
          1994,
          1996,
          1998,
          2000,
          2002,
          2004,
          2006,
          2008,
          2010,
          2012,
          2014,
          2016
         ],
         "xaxis": "x",
         "y": [
          10,
          104,
          6,
          48,
          735,
          274,
          234,
          311,
          264,
          111,
          246,
          462,
          275,
          238,
          270,
          240,
          263,
          321,
          284,
          267,
          387,
          393,
          420,
          32,
          300,
          34,
          310,
          49,
          264,
          39,
          304,
          52,
          530,
          53,
          360
         ],
         "yaxis": "y"
        },
        {
         "hovertemplate": "region=USA<br>Year=%{x}<br>Nb of athletes=%{y}<extra></extra>",
         "legendgroup": "USA",
         "line": {
          "color": "#FF6692",
          "dash": "solid"
         },
         "marker": {
          "symbol": "circle"
         },
         "mode": "lines",
         "name": "USA",
         "orientation": "v",
         "showlegend": true,
         "type": "scatter",
         "x": [
          1896,
          1900,
          1904,
          1906,
          1908,
          1912,
          1920,
          1924,
          1928,
          1932,
          1936,
          1948,
          1952,
          1956,
          1960,
          1964,
          1968,
          1972,
          1976,
          1980,
          1984,
          1988,
          1992,
          1994,
          1996,
          1998,
          2000,
          2002,
          2004,
          2006,
          2008,
          2010,
          2012,
          2014,
          2016
         ],
         "xaxis": "x",
         "y": [
          14,
          75,
          524,
          38,
          122,
          174,
          288,
          323,
          304,
          538,
          414,
          369,
          352,
          372,
          371,
          436,
          453,
          503,
          502,
          101,
          629,
          644,
          693,
          148,
          648,
          186,
          586,
          202,
          533,
          204,
          588,
          212,
          530,
          222,
          555
         ],
         "yaxis": "y"
        },
        {
         "hovertemplate": "region=Canada<br>Year=%{x}<br>Nb of athletes=%{y}<extra></extra>",
         "legendgroup": "Canada",
         "line": {
          "color": "#B6E880",
          "dash": "solid"
         },
         "marker": {
          "symbol": "circle"
         },
         "mode": "lines",
         "name": "Canada",
         "orientation": "v",
         "showlegend": true,
         "type": "scatter",
         "x": [
          1900,
          1904,
          1906,
          1908,
          1912,
          1920,
          1924,
          1928,
          1932,
          1936,
          1948,
          1952,
          1956,
          1960,
          1964,
          1968,
          1972,
          1976,
          1980,
          1984,
          1988,
          1992,
          1994,
          1996,
          1998,
          2000,
          2002,
          2004,
          2006,
          2008,
          2010,
          2012,
          2014,
          2016
         ],
         "xaxis": "x",
         "y": [
          4,
          57,
          3,
          87,
          37,
          52,
          77,
          92,
          144,
          126,
          155,
          146,
          131,
          129,
          170,
          209,
          255,
          444,
          59,
          475,
          440,
          403,
          95,
          303,
          144,
          294,
          150,
          262,
          191,
          332,
          201,
          273,
          217,
          310
         ],
         "yaxis": "y"
        },
        {
         "hovertemplate": "region=Russia<br>Year=%{x}<br>Nb of athletes=%{y}<extra></extra>",
         "legendgroup": "Russia",
         "line": {
          "color": "#FF97FF",
          "dash": "solid"
         },
         "marker": {
          "symbol": "circle"
         },
         "mode": "lines",
         "name": "Russia",
         "orientation": "v",
         "showlegend": true,
         "type": "scatter",
         "x": [
          1900,
          1908,
          1912,
          1924,
          1952,
          1956,
          1960,
          1964,
          1968,
          1972,
          1976,
          1980,
          1984,
          1988,
          1992,
          1994,
          1996,
          1998,
          2000,
          2002,
          2004,
          2006,
          2008,
          2010,
          2012,
          2014,
          2016
         ],
         "xaxis": "x",
         "y": [
          4,
          6,
          159,
          3,
          295,
          334,
          345,
          386,
          386,
          447,
          489,
          575,
          99,
          582,
          604,
          113,
          390,
          122,
          435,
          151,
          446,
          174,
          454,
          175,
          429,
          213,
          284
         ],
         "yaxis": "y"
        },
        {
         "hovertemplate": "region=Japan<br>Year=%{x}<br>Nb of athletes=%{y}<extra></extra>",
         "legendgroup": "Japan",
         "line": {
          "color": "#FECB52",
          "dash": "solid"
         },
         "marker": {
          "symbol": "circle"
         },
         "mode": "lines",
         "name": "Japan",
         "orientation": "v",
         "showlegend": true,
         "type": "scatter",
         "x": [
          1912,
          1920,
          1924,
          1928,
          1932,
          1936,
          1952,
          1956,
          1960,
          1964,
          1968,
          1972,
          1976,
          1980,
          1984,
          1988,
          1992,
          1994,
          1996,
          1998,
          2000,
          2002,
          2004,
          2006,
          2008,
          2010,
          2012,
          2014,
          2016
         ],
         "xaxis": "x",
         "y": [
          2,
          15,
          19,
          46,
          173,
          251,
          82,
          122,
          203,
          375,
          232,
          269,
          271,
          50,
          265,
          303,
          316,
          59,
          306,
          156,
          266,
          103,
          306,
          110,
          332,
          91,
          291,
          109,
          335
         ],
         "yaxis": "y"
        }
       ],
       "layout": {
        "legend": {
         "title": {
          "text": "region"
         },
         "tracegroupgap": 0
        },
        "template": {
         "data": {
          "bar": [
           {
            "error_x": {
             "color": "#2a3f5f"
            },
            "error_y": {
             "color": "#2a3f5f"
            },
            "marker": {
             "line": {
              "color": "#E5ECF6",
              "width": 0.5
             },
             "pattern": {
              "fillmode": "overlay",
              "size": 10,
              "solidity": 0.2
             }
            },
            "type": "bar"
           }
          ],
          "barpolar": [
           {
            "marker": {
             "line": {
              "color": "#E5ECF6",
              "width": 0.5
             },
             "pattern": {
              "fillmode": "overlay",
              "size": 10,
              "solidity": 0.2
             }
            },
            "type": "barpolar"
           }
          ],
          "carpet": [
           {
            "aaxis": {
             "endlinecolor": "#2a3f5f",
             "gridcolor": "white",
             "linecolor": "white",
             "minorgridcolor": "white",
             "startlinecolor": "#2a3f5f"
            },
            "baxis": {
             "endlinecolor": "#2a3f5f",
             "gridcolor": "white",
             "linecolor": "white",
             "minorgridcolor": "white",
             "startlinecolor": "#2a3f5f"
            },
            "type": "carpet"
           }
          ],
          "choropleth": [
           {
            "colorbar": {
             "outlinewidth": 0,
             "ticks": ""
            },
            "type": "choropleth"
           }
          ],
          "contour": [
           {
            "colorbar": {
             "outlinewidth": 0,
             "ticks": ""
            },
            "colorscale": [
             [
              0,
              "#0d0887"
             ],
             [
              0.1111111111111111,
              "#46039f"
             ],
             [
              0.2222222222222222,
              "#7201a8"
             ],
             [
              0.3333333333333333,
              "#9c179e"
             ],
             [
              0.4444444444444444,
              "#bd3786"
             ],
             [
              0.5555555555555556,
              "#d8576b"
             ],
             [
              0.6666666666666666,
              "#ed7953"
             ],
             [
              0.7777777777777778,
              "#fb9f3a"
             ],
             [
              0.8888888888888888,
              "#fdca26"
             ],
             [
              1,
              "#f0f921"
             ]
            ],
            "type": "contour"
           }
          ],
          "contourcarpet": [
           {
            "colorbar": {
             "outlinewidth": 0,
             "ticks": ""
            },
            "type": "contourcarpet"
           }
          ],
          "heatmap": [
           {
            "colorbar": {
             "outlinewidth": 0,
             "ticks": ""
            },
            "colorscale": [
             [
              0,
              "#0d0887"
             ],
             [
              0.1111111111111111,
              "#46039f"
             ],
             [
              0.2222222222222222,
              "#7201a8"
             ],
             [
              0.3333333333333333,
              "#9c179e"
             ],
             [
              0.4444444444444444,
              "#bd3786"
             ],
             [
              0.5555555555555556,
              "#d8576b"
             ],
             [
              0.6666666666666666,
              "#ed7953"
             ],
             [
              0.7777777777777778,
              "#fb9f3a"
             ],
             [
              0.8888888888888888,
              "#fdca26"
             ],
             [
              1,
              "#f0f921"
             ]
            ],
            "type": "heatmap"
           }
          ],
          "heatmapgl": [
           {
            "colorbar": {
             "outlinewidth": 0,
             "ticks": ""
            },
            "colorscale": [
             [
              0,
              "#0d0887"
             ],
             [
              0.1111111111111111,
              "#46039f"
             ],
             [
              0.2222222222222222,
              "#7201a8"
             ],
             [
              0.3333333333333333,
              "#9c179e"
             ],
             [
              0.4444444444444444,
              "#bd3786"
             ],
             [
              0.5555555555555556,
              "#d8576b"
             ],
             [
              0.6666666666666666,
              "#ed7953"
             ],
             [
              0.7777777777777778,
              "#fb9f3a"
             ],
             [
              0.8888888888888888,
              "#fdca26"
             ],
             [
              1,
              "#f0f921"
             ]
            ],
            "type": "heatmapgl"
           }
          ],
          "histogram": [
           {
            "marker": {
             "pattern": {
              "fillmode": "overlay",
              "size": 10,
              "solidity": 0.2
             }
            },
            "type": "histogram"
           }
          ],
          "histogram2d": [
           {
            "colorbar": {
             "outlinewidth": 0,
             "ticks": ""
            },
            "colorscale": [
             [
              0,
              "#0d0887"
             ],
             [
              0.1111111111111111,
              "#46039f"
             ],
             [
              0.2222222222222222,
              "#7201a8"
             ],
             [
              0.3333333333333333,
              "#9c179e"
             ],
             [
              0.4444444444444444,
              "#bd3786"
             ],
             [
              0.5555555555555556,
              "#d8576b"
             ],
             [
              0.6666666666666666,
              "#ed7953"
             ],
             [
              0.7777777777777778,
              "#fb9f3a"
             ],
             [
              0.8888888888888888,
              "#fdca26"
             ],
             [
              1,
              "#f0f921"
             ]
            ],
            "type": "histogram2d"
           }
          ],
          "histogram2dcontour": [
           {
            "colorbar": {
             "outlinewidth": 0,
             "ticks": ""
            },
            "colorscale": [
             [
              0,
              "#0d0887"
             ],
             [
              0.1111111111111111,
              "#46039f"
             ],
             [
              0.2222222222222222,
              "#7201a8"
             ],
             [
              0.3333333333333333,
              "#9c179e"
             ],
             [
              0.4444444444444444,
              "#bd3786"
             ],
             [
              0.5555555555555556,
              "#d8576b"
             ],
             [
              0.6666666666666666,
              "#ed7953"
             ],
             [
              0.7777777777777778,
              "#fb9f3a"
             ],
             [
              0.8888888888888888,
              "#fdca26"
             ],
             [
              1,
              "#f0f921"
             ]
            ],
            "type": "histogram2dcontour"
           }
          ],
          "mesh3d": [
           {
            "colorbar": {
             "outlinewidth": 0,
             "ticks": ""
            },
            "type": "mesh3d"
           }
          ],
          "parcoords": [
           {
            "line": {
             "colorbar": {
              "outlinewidth": 0,
              "ticks": ""
             }
            },
            "type": "parcoords"
           }
          ],
          "pie": [
           {
            "automargin": true,
            "type": "pie"
           }
          ],
          "scatter": [
           {
            "fillpattern": {
             "fillmode": "overlay",
             "size": 10,
             "solidity": 0.2
            },
            "type": "scatter"
           }
          ],
          "scatter3d": [
           {
            "line": {
             "colorbar": {
              "outlinewidth": 0,
              "ticks": ""
             }
            },
            "marker": {
             "colorbar": {
              "outlinewidth": 0,
              "ticks": ""
             }
            },
            "type": "scatter3d"
           }
          ],
          "scattercarpet": [
           {
            "marker": {
             "colorbar": {
              "outlinewidth": 0,
              "ticks": ""
             }
            },
            "type": "scattercarpet"
           }
          ],
          "scattergeo": [
           {
            "marker": {
             "colorbar": {
              "outlinewidth": 0,
              "ticks": ""
             }
            },
            "type": "scattergeo"
           }
          ],
          "scattergl": [
           {
            "marker": {
             "colorbar": {
              "outlinewidth": 0,
              "ticks": ""
             }
            },
            "type": "scattergl"
           }
          ],
          "scattermapbox": [
           {
            "marker": {
             "colorbar": {
              "outlinewidth": 0,
              "ticks": ""
             }
            },
            "type": "scattermapbox"
           }
          ],
          "scatterpolar": [
           {
            "marker": {
             "colorbar": {
              "outlinewidth": 0,
              "ticks": ""
             }
            },
            "type": "scatterpolar"
           }
          ],
          "scatterpolargl": [
           {
            "marker": {
             "colorbar": {
              "outlinewidth": 0,
              "ticks": ""
             }
            },
            "type": "scatterpolargl"
           }
          ],
          "scatterternary": [
           {
            "marker": {
             "colorbar": {
              "outlinewidth": 0,
              "ticks": ""
             }
            },
            "type": "scatterternary"
           }
          ],
          "surface": [
           {
            "colorbar": {
             "outlinewidth": 0,
             "ticks": ""
            },
            "colorscale": [
             [
              0,
              "#0d0887"
             ],
             [
              0.1111111111111111,
              "#46039f"
             ],
             [
              0.2222222222222222,
              "#7201a8"
             ],
             [
              0.3333333333333333,
              "#9c179e"
             ],
             [
              0.4444444444444444,
              "#bd3786"
             ],
             [
              0.5555555555555556,
              "#d8576b"
             ],
             [
              0.6666666666666666,
              "#ed7953"
             ],
             [
              0.7777777777777778,
              "#fb9f3a"
             ],
             [
              0.8888888888888888,
              "#fdca26"
             ],
             [
              1,
              "#f0f921"
             ]
            ],
            "type": "surface"
           }
          ],
          "table": [
           {
            "cells": {
             "fill": {
              "color": "#EBF0F8"
             },
             "line": {
              "color": "white"
             }
            },
            "header": {
             "fill": {
              "color": "#C8D4E3"
             },
             "line": {
              "color": "white"
             }
            },
            "type": "table"
           }
          ]
         },
         "layout": {
          "annotationdefaults": {
           "arrowcolor": "#2a3f5f",
           "arrowhead": 0,
           "arrowwidth": 1
          },
          "autotypenumbers": "strict",
          "coloraxis": {
           "colorbar": {
            "outlinewidth": 0,
            "ticks": ""
           }
          },
          "colorscale": {
           "diverging": [
            [
             0,
             "#8e0152"
            ],
            [
             0.1,
             "#c51b7d"
            ],
            [
             0.2,
             "#de77ae"
            ],
            [
             0.3,
             "#f1b6da"
            ],
            [
             0.4,
             "#fde0ef"
            ],
            [
             0.5,
             "#f7f7f7"
            ],
            [
             0.6,
             "#e6f5d0"
            ],
            [
             0.7,
             "#b8e186"
            ],
            [
             0.8,
             "#7fbc41"
            ],
            [
             0.9,
             "#4d9221"
            ],
            [
             1,
             "#276419"
            ]
           ],
           "sequential": [
            [
             0,
             "#0d0887"
            ],
            [
             0.1111111111111111,
             "#46039f"
            ],
            [
             0.2222222222222222,
             "#7201a8"
            ],
            [
             0.3333333333333333,
             "#9c179e"
            ],
            [
             0.4444444444444444,
             "#bd3786"
            ],
            [
             0.5555555555555556,
             "#d8576b"
            ],
            [
             0.6666666666666666,
             "#ed7953"
            ],
            [
             0.7777777777777778,
             "#fb9f3a"
            ],
            [
             0.8888888888888888,
             "#fdca26"
            ],
            [
             1,
             "#f0f921"
            ]
           ],
           "sequentialminus": [
            [
             0,
             "#0d0887"
            ],
            [
             0.1111111111111111,
             "#46039f"
            ],
            [
             0.2222222222222222,
             "#7201a8"
            ],
            [
             0.3333333333333333,
             "#9c179e"
            ],
            [
             0.4444444444444444,
             "#bd3786"
            ],
            [
             0.5555555555555556,
             "#d8576b"
            ],
            [
             0.6666666666666666,
             "#ed7953"
            ],
            [
             0.7777777777777778,
             "#fb9f3a"
            ],
            [
             0.8888888888888888,
             "#fdca26"
            ],
            [
             1,
             "#f0f921"
            ]
           ]
          },
          "colorway": [
           "#636efa",
           "#EF553B",
           "#00cc96",
           "#ab63fa",
           "#FFA15A",
           "#19d3f3",
           "#FF6692",
           "#B6E880",
           "#FF97FF",
           "#FECB52"
          ],
          "font": {
           "color": "#2a3f5f"
          },
          "geo": {
           "bgcolor": "white",
           "lakecolor": "white",
           "landcolor": "#E5ECF6",
           "showlakes": true,
           "showland": true,
           "subunitcolor": "white"
          },
          "hoverlabel": {
           "align": "left"
          },
          "hovermode": "closest",
          "mapbox": {
           "style": "light"
          },
          "paper_bgcolor": "white",
          "plot_bgcolor": "#E5ECF6",
          "polar": {
           "angularaxis": {
            "gridcolor": "white",
            "linecolor": "white",
            "ticks": ""
           },
           "bgcolor": "#E5ECF6",
           "radialaxis": {
            "gridcolor": "white",
            "linecolor": "white",
            "ticks": ""
           }
          },
          "scene": {
           "xaxis": {
            "backgroundcolor": "#E5ECF6",
            "gridcolor": "white",
            "gridwidth": 2,
            "linecolor": "white",
            "showbackground": true,
            "ticks": "",
            "zerolinecolor": "white"
           },
           "yaxis": {
            "backgroundcolor": "#E5ECF6",
            "gridcolor": "white",
            "gridwidth": 2,
            "linecolor": "white",
            "showbackground": true,
            "ticks": "",
            "zerolinecolor": "white"
           },
           "zaxis": {
            "backgroundcolor": "#E5ECF6",
            "gridcolor": "white",
            "gridwidth": 2,
            "linecolor": "white",
            "showbackground": true,
            "ticks": "",
            "zerolinecolor": "white"
           }
          },
          "shapedefaults": {
           "line": {
            "color": "#2a3f5f"
           }
          },
          "ternary": {
           "aaxis": {
            "gridcolor": "white",
            "linecolor": "white",
            "ticks": ""
           },
           "baxis": {
            "gridcolor": "white",
            "linecolor": "white",
            "ticks": ""
           },
           "bgcolor": "#E5ECF6",
           "caxis": {
            "gridcolor": "white",
            "linecolor": "white",
            "ticks": ""
           }
          },
          "title": {
           "x": 0.05
          },
          "xaxis": {
           "automargin": true,
           "gridcolor": "white",
           "linecolor": "white",
           "ticks": "",
           "title": {
            "standoff": 15
           },
           "zerolinecolor": "white",
           "zerolinewidth": 2
          },
          "yaxis": {
           "automargin": true,
           "gridcolor": "white",
           "linecolor": "white",
           "ticks": "",
           "title": {
            "standoff": 15
           },
           "zerolinecolor": "white",
           "zerolinewidth": 2
          }
         }
        },
        "title": {
         "text": "Number of athletes per year and per country"
        },
        "xaxis": {
         "anchor": "y",
         "domain": [
          0,
          1
         ],
         "title": {
          "text": "Year"
         }
        },
        "yaxis": {
         "anchor": "x",
         "domain": [
          0,
          1
         ],
         "title": {
          "text": "Nb of athletes"
         }
        }
       }
      }
     },
     "metadata": {},
     "output_type": "display_data"
    }
   ],
   "source": [
    "# we create a filter to keep only the top 10 countries\n",
    "fig = px.line(athletes_per_country[athletes_per_country['region'].isin(top_10_countries.index)], x=\"Year\", y=\"Nb of athletes\", color=\"region\", title=\"Number of athletes per year and per country\")\n",
    "fig.show()"
   ]
  },
  {
   "cell_type": "code",
   "execution_count": null,
   "metadata": {},
   "outputs": [],
   "source": []
  }
 ],
 "metadata": {
  "kernelspec": {
   "display_name": "Python 3",
   "language": "python",
   "name": "python3"
  },
  "language_info": {
   "codemirror_mode": {
    "name": "ipython",
    "version": 3
   },
   "file_extension": ".py",
   "mimetype": "text/x-python",
   "name": "python",
   "nbconvert_exporter": "python",
   "pygments_lexer": "ipython3",
   "version": "3.11.7"
  }
 },
 "nbformat": 4,
 "nbformat_minor": 2
}
