{
 "cells": [
  {
   "cell_type": "markdown",
   "metadata": {},
   "source": [
    "### Dataviz Final Project"
   ]
  },
  {
   "cell_type": "markdown",
   "metadata": {},
   "source": [
    "#### Libraries"
   ]
  },
  {
   "cell_type": "code",
   "execution_count": 45,
   "metadata": {},
   "outputs": [],
   "source": [
    "import pandas as pd\n",
    "import plotly.express as px"
   ]
  },
  {
   "cell_type": "markdown",
   "metadata": {},
   "source": [
    "#### Importation of the dataset"
   ]
  },
  {
   "cell_type": "code",
   "execution_count": 46,
   "metadata": {},
   "outputs": [
    {
     "data": {
      "text/html": [
       "<div>\n",
       "<style scoped>\n",
       "    .dataframe tbody tr th:only-of-type {\n",
       "        vertical-align: middle;\n",
       "    }\n",
       "\n",
       "    .dataframe tbody tr th {\n",
       "        vertical-align: top;\n",
       "    }\n",
       "\n",
       "    .dataframe thead th {\n",
       "        text-align: right;\n",
       "    }\n",
       "</style>\n",
       "<table border=\"1\" class=\"dataframe\">\n",
       "  <thead>\n",
       "    <tr style=\"text-align: right;\">\n",
       "      <th></th>\n",
       "      <th>ID</th>\n",
       "      <th>Name</th>\n",
       "      <th>Sex</th>\n",
       "      <th>Age</th>\n",
       "      <th>Height</th>\n",
       "      <th>Weight</th>\n",
       "      <th>Team</th>\n",
       "      <th>NOC</th>\n",
       "      <th>Games</th>\n",
       "      <th>Year</th>\n",
       "      <th>Season</th>\n",
       "      <th>City</th>\n",
       "      <th>Sport</th>\n",
       "      <th>Event</th>\n",
       "      <th>Medal</th>\n",
       "    </tr>\n",
       "  </thead>\n",
       "  <tbody>\n",
       "    <tr>\n",
       "      <th>0</th>\n",
       "      <td>1</td>\n",
       "      <td>A Dijiang</td>\n",
       "      <td>M</td>\n",
       "      <td>24.0</td>\n",
       "      <td>180.0</td>\n",
       "      <td>80.0</td>\n",
       "      <td>China</td>\n",
       "      <td>CHN</td>\n",
       "      <td>1992 Summer</td>\n",
       "      <td>1992</td>\n",
       "      <td>Summer</td>\n",
       "      <td>Barcelona</td>\n",
       "      <td>Basketball</td>\n",
       "      <td>Basketball Men's Basketball</td>\n",
       "      <td>NaN</td>\n",
       "    </tr>\n",
       "    <tr>\n",
       "      <th>1</th>\n",
       "      <td>2</td>\n",
       "      <td>A Lamusi</td>\n",
       "      <td>M</td>\n",
       "      <td>23.0</td>\n",
       "      <td>170.0</td>\n",
       "      <td>60.0</td>\n",
       "      <td>China</td>\n",
       "      <td>CHN</td>\n",
       "      <td>2012 Summer</td>\n",
       "      <td>2012</td>\n",
       "      <td>Summer</td>\n",
       "      <td>London</td>\n",
       "      <td>Judo</td>\n",
       "      <td>Judo Men's Extra-Lightweight</td>\n",
       "      <td>NaN</td>\n",
       "    </tr>\n",
       "    <tr>\n",
       "      <th>2</th>\n",
       "      <td>3</td>\n",
       "      <td>Gunnar Nielsen Aaby</td>\n",
       "      <td>M</td>\n",
       "      <td>24.0</td>\n",
       "      <td>NaN</td>\n",
       "      <td>NaN</td>\n",
       "      <td>Denmark</td>\n",
       "      <td>DEN</td>\n",
       "      <td>1920 Summer</td>\n",
       "      <td>1920</td>\n",
       "      <td>Summer</td>\n",
       "      <td>Antwerpen</td>\n",
       "      <td>Football</td>\n",
       "      <td>Football Men's Football</td>\n",
       "      <td>NaN</td>\n",
       "    </tr>\n",
       "    <tr>\n",
       "      <th>3</th>\n",
       "      <td>4</td>\n",
       "      <td>Edgar Lindenau Aabye</td>\n",
       "      <td>M</td>\n",
       "      <td>34.0</td>\n",
       "      <td>NaN</td>\n",
       "      <td>NaN</td>\n",
       "      <td>Denmark/Sweden</td>\n",
       "      <td>DEN</td>\n",
       "      <td>1900 Summer</td>\n",
       "      <td>1900</td>\n",
       "      <td>Summer</td>\n",
       "      <td>Paris</td>\n",
       "      <td>Tug-Of-War</td>\n",
       "      <td>Tug-Of-War Men's Tug-Of-War</td>\n",
       "      <td>Gold</td>\n",
       "    </tr>\n",
       "    <tr>\n",
       "      <th>4</th>\n",
       "      <td>5</td>\n",
       "      <td>Christine Jacoba Aaftink</td>\n",
       "      <td>F</td>\n",
       "      <td>21.0</td>\n",
       "      <td>185.0</td>\n",
       "      <td>82.0</td>\n",
       "      <td>Netherlands</td>\n",
       "      <td>NED</td>\n",
       "      <td>1988 Winter</td>\n",
       "      <td>1988</td>\n",
       "      <td>Winter</td>\n",
       "      <td>Calgary</td>\n",
       "      <td>Speed Skating</td>\n",
       "      <td>Speed Skating Women's 500 metres</td>\n",
       "      <td>NaN</td>\n",
       "    </tr>\n",
       "    <tr>\n",
       "      <th>...</th>\n",
       "      <td>...</td>\n",
       "      <td>...</td>\n",
       "      <td>...</td>\n",
       "      <td>...</td>\n",
       "      <td>...</td>\n",
       "      <td>...</td>\n",
       "      <td>...</td>\n",
       "      <td>...</td>\n",
       "      <td>...</td>\n",
       "      <td>...</td>\n",
       "      <td>...</td>\n",
       "      <td>...</td>\n",
       "      <td>...</td>\n",
       "      <td>...</td>\n",
       "      <td>...</td>\n",
       "    </tr>\n",
       "    <tr>\n",
       "      <th>271111</th>\n",
       "      <td>135569</td>\n",
       "      <td>Andrzej ya</td>\n",
       "      <td>M</td>\n",
       "      <td>29.0</td>\n",
       "      <td>179.0</td>\n",
       "      <td>89.0</td>\n",
       "      <td>Poland-1</td>\n",
       "      <td>POL</td>\n",
       "      <td>1976 Winter</td>\n",
       "      <td>1976</td>\n",
       "      <td>Winter</td>\n",
       "      <td>Innsbruck</td>\n",
       "      <td>Luge</td>\n",
       "      <td>Luge Mixed (Men)'s Doubles</td>\n",
       "      <td>NaN</td>\n",
       "    </tr>\n",
       "    <tr>\n",
       "      <th>271112</th>\n",
       "      <td>135570</td>\n",
       "      <td>Piotr ya</td>\n",
       "      <td>M</td>\n",
       "      <td>27.0</td>\n",
       "      <td>176.0</td>\n",
       "      <td>59.0</td>\n",
       "      <td>Poland</td>\n",
       "      <td>POL</td>\n",
       "      <td>2014 Winter</td>\n",
       "      <td>2014</td>\n",
       "      <td>Winter</td>\n",
       "      <td>Sochi</td>\n",
       "      <td>Ski Jumping</td>\n",
       "      <td>Ski Jumping Men's Large Hill, Individual</td>\n",
       "      <td>NaN</td>\n",
       "    </tr>\n",
       "    <tr>\n",
       "      <th>271113</th>\n",
       "      <td>135570</td>\n",
       "      <td>Piotr ya</td>\n",
       "      <td>M</td>\n",
       "      <td>27.0</td>\n",
       "      <td>176.0</td>\n",
       "      <td>59.0</td>\n",
       "      <td>Poland</td>\n",
       "      <td>POL</td>\n",
       "      <td>2014 Winter</td>\n",
       "      <td>2014</td>\n",
       "      <td>Winter</td>\n",
       "      <td>Sochi</td>\n",
       "      <td>Ski Jumping</td>\n",
       "      <td>Ski Jumping Men's Large Hill, Team</td>\n",
       "      <td>NaN</td>\n",
       "    </tr>\n",
       "    <tr>\n",
       "      <th>271114</th>\n",
       "      <td>135571</td>\n",
       "      <td>Tomasz Ireneusz ya</td>\n",
       "      <td>M</td>\n",
       "      <td>30.0</td>\n",
       "      <td>185.0</td>\n",
       "      <td>96.0</td>\n",
       "      <td>Poland</td>\n",
       "      <td>POL</td>\n",
       "      <td>1998 Winter</td>\n",
       "      <td>1998</td>\n",
       "      <td>Winter</td>\n",
       "      <td>Nagano</td>\n",
       "      <td>Bobsleigh</td>\n",
       "      <td>Bobsleigh Men's Four</td>\n",
       "      <td>NaN</td>\n",
       "    </tr>\n",
       "    <tr>\n",
       "      <th>271115</th>\n",
       "      <td>135571</td>\n",
       "      <td>Tomasz Ireneusz ya</td>\n",
       "      <td>M</td>\n",
       "      <td>34.0</td>\n",
       "      <td>185.0</td>\n",
       "      <td>96.0</td>\n",
       "      <td>Poland</td>\n",
       "      <td>POL</td>\n",
       "      <td>2002 Winter</td>\n",
       "      <td>2002</td>\n",
       "      <td>Winter</td>\n",
       "      <td>Salt Lake City</td>\n",
       "      <td>Bobsleigh</td>\n",
       "      <td>Bobsleigh Men's Four</td>\n",
       "      <td>NaN</td>\n",
       "    </tr>\n",
       "  </tbody>\n",
       "</table>\n",
       "<p>271116 rows × 15 columns</p>\n",
       "</div>"
      ],
      "text/plain": [
       "            ID                      Name Sex   Age  Height  Weight  \\\n",
       "0            1                 A Dijiang   M  24.0   180.0    80.0   \n",
       "1            2                  A Lamusi   M  23.0   170.0    60.0   \n",
       "2            3       Gunnar Nielsen Aaby   M  24.0     NaN     NaN   \n",
       "3            4      Edgar Lindenau Aabye   M  34.0     NaN     NaN   \n",
       "4            5  Christine Jacoba Aaftink   F  21.0   185.0    82.0   \n",
       "...        ...                       ...  ..   ...     ...     ...   \n",
       "271111  135569                Andrzej ya   M  29.0   179.0    89.0   \n",
       "271112  135570                  Piotr ya   M  27.0   176.0    59.0   \n",
       "271113  135570                  Piotr ya   M  27.0   176.0    59.0   \n",
       "271114  135571        Tomasz Ireneusz ya   M  30.0   185.0    96.0   \n",
       "271115  135571        Tomasz Ireneusz ya   M  34.0   185.0    96.0   \n",
       "\n",
       "                  Team  NOC        Games  Year  Season            City  \\\n",
       "0                China  CHN  1992 Summer  1992  Summer       Barcelona   \n",
       "1                China  CHN  2012 Summer  2012  Summer          London   \n",
       "2              Denmark  DEN  1920 Summer  1920  Summer       Antwerpen   \n",
       "3       Denmark/Sweden  DEN  1900 Summer  1900  Summer           Paris   \n",
       "4          Netherlands  NED  1988 Winter  1988  Winter         Calgary   \n",
       "...                ...  ...          ...   ...     ...             ...   \n",
       "271111        Poland-1  POL  1976 Winter  1976  Winter       Innsbruck   \n",
       "271112          Poland  POL  2014 Winter  2014  Winter           Sochi   \n",
       "271113          Poland  POL  2014 Winter  2014  Winter           Sochi   \n",
       "271114          Poland  POL  1998 Winter  1998  Winter          Nagano   \n",
       "271115          Poland  POL  2002 Winter  2002  Winter  Salt Lake City   \n",
       "\n",
       "                Sport                                     Event Medal  \n",
       "0          Basketball               Basketball Men's Basketball   NaN  \n",
       "1                Judo              Judo Men's Extra-Lightweight   NaN  \n",
       "2            Football                   Football Men's Football   NaN  \n",
       "3          Tug-Of-War               Tug-Of-War Men's Tug-Of-War  Gold  \n",
       "4       Speed Skating          Speed Skating Women's 500 metres   NaN  \n",
       "...               ...                                       ...   ...  \n",
       "271111           Luge                Luge Mixed (Men)'s Doubles   NaN  \n",
       "271112    Ski Jumping  Ski Jumping Men's Large Hill, Individual   NaN  \n",
       "271113    Ski Jumping        Ski Jumping Men's Large Hill, Team   NaN  \n",
       "271114      Bobsleigh                      Bobsleigh Men's Four   NaN  \n",
       "271115      Bobsleigh                      Bobsleigh Men's Four   NaN  \n",
       "\n",
       "[271116 rows x 15 columns]"
      ]
     },
     "execution_count": 46,
     "metadata": {},
     "output_type": "execute_result"
    }
   ],
   "source": [
    "df_athlete = pd.read_csv(\"athlete_events.csv\", sep=',')\n",
    "df_athlete"
   ]
  },
  {
   "cell_type": "code",
   "execution_count": 47,
   "metadata": {},
   "outputs": [
    {
     "data": {
      "text/html": [
       "<div>\n",
       "<style scoped>\n",
       "    .dataframe tbody tr th:only-of-type {\n",
       "        vertical-align: middle;\n",
       "    }\n",
       "\n",
       "    .dataframe tbody tr th {\n",
       "        vertical-align: top;\n",
       "    }\n",
       "\n",
       "    .dataframe thead th {\n",
       "        text-align: right;\n",
       "    }\n",
       "</style>\n",
       "<table border=\"1\" class=\"dataframe\">\n",
       "  <thead>\n",
       "    <tr style=\"text-align: right;\">\n",
       "      <th></th>\n",
       "      <th>NOC</th>\n",
       "      <th>region</th>\n",
       "      <th>notes</th>\n",
       "    </tr>\n",
       "  </thead>\n",
       "  <tbody>\n",
       "    <tr>\n",
       "      <th>0</th>\n",
       "      <td>AFG</td>\n",
       "      <td>Afghanistan</td>\n",
       "      <td>NaN</td>\n",
       "    </tr>\n",
       "    <tr>\n",
       "      <th>1</th>\n",
       "      <td>AHO</td>\n",
       "      <td>Curacao</td>\n",
       "      <td>Netherlands Antilles</td>\n",
       "    </tr>\n",
       "    <tr>\n",
       "      <th>2</th>\n",
       "      <td>ALB</td>\n",
       "      <td>Albania</td>\n",
       "      <td>NaN</td>\n",
       "    </tr>\n",
       "    <tr>\n",
       "      <th>3</th>\n",
       "      <td>ALG</td>\n",
       "      <td>Algeria</td>\n",
       "      <td>NaN</td>\n",
       "    </tr>\n",
       "    <tr>\n",
       "      <th>4</th>\n",
       "      <td>AND</td>\n",
       "      <td>Andorra</td>\n",
       "      <td>NaN</td>\n",
       "    </tr>\n",
       "    <tr>\n",
       "      <th>...</th>\n",
       "      <td>...</td>\n",
       "      <td>...</td>\n",
       "      <td>...</td>\n",
       "    </tr>\n",
       "    <tr>\n",
       "      <th>225</th>\n",
       "      <td>YEM</td>\n",
       "      <td>Yemen</td>\n",
       "      <td>NaN</td>\n",
       "    </tr>\n",
       "    <tr>\n",
       "      <th>226</th>\n",
       "      <td>YMD</td>\n",
       "      <td>Yemen</td>\n",
       "      <td>South Yemen</td>\n",
       "    </tr>\n",
       "    <tr>\n",
       "      <th>227</th>\n",
       "      <td>YUG</td>\n",
       "      <td>Serbia</td>\n",
       "      <td>Yugoslavia</td>\n",
       "    </tr>\n",
       "    <tr>\n",
       "      <th>228</th>\n",
       "      <td>ZAM</td>\n",
       "      <td>Zambia</td>\n",
       "      <td>NaN</td>\n",
       "    </tr>\n",
       "    <tr>\n",
       "      <th>229</th>\n",
       "      <td>ZIM</td>\n",
       "      <td>Zimbabwe</td>\n",
       "      <td>NaN</td>\n",
       "    </tr>\n",
       "  </tbody>\n",
       "</table>\n",
       "<p>230 rows × 3 columns</p>\n",
       "</div>"
      ],
      "text/plain": [
       "     NOC       region                 notes\n",
       "0    AFG  Afghanistan                   NaN\n",
       "1    AHO      Curacao  Netherlands Antilles\n",
       "2    ALB      Albania                   NaN\n",
       "3    ALG      Algeria                   NaN\n",
       "4    AND      Andorra                   NaN\n",
       "..   ...          ...                   ...\n",
       "225  YEM        Yemen                   NaN\n",
       "226  YMD        Yemen           South Yemen\n",
       "227  YUG       Serbia            Yugoslavia\n",
       "228  ZAM       Zambia                   NaN\n",
       "229  ZIM     Zimbabwe                   NaN\n",
       "\n",
       "[230 rows x 3 columns]"
      ]
     },
     "execution_count": 47,
     "metadata": {},
     "output_type": "execute_result"
    }
   ],
   "source": [
    "noc_regions = pd.read_csv(\"noc_regions.csv\", sep=',')\n",
    "noc_regions"
   ]
  },
  {
   "cell_type": "markdown",
   "metadata": {},
   "source": [
    "#### Merge"
   ]
  },
  {
   "cell_type": "code",
   "execution_count": 48,
   "metadata": {},
   "outputs": [
    {
     "data": {
      "text/html": [
       "<div>\n",
       "<style scoped>\n",
       "    .dataframe tbody tr th:only-of-type {\n",
       "        vertical-align: middle;\n",
       "    }\n",
       "\n",
       "    .dataframe tbody tr th {\n",
       "        vertical-align: top;\n",
       "    }\n",
       "\n",
       "    .dataframe thead th {\n",
       "        text-align: right;\n",
       "    }\n",
       "</style>\n",
       "<table border=\"1\" class=\"dataframe\">\n",
       "  <thead>\n",
       "    <tr style=\"text-align: right;\">\n",
       "      <th></th>\n",
       "      <th>ID</th>\n",
       "      <th>Name</th>\n",
       "      <th>Sex</th>\n",
       "      <th>Age</th>\n",
       "      <th>Height</th>\n",
       "      <th>Weight</th>\n",
       "      <th>Team</th>\n",
       "      <th>NOC</th>\n",
       "      <th>Games</th>\n",
       "      <th>Year</th>\n",
       "      <th>Season</th>\n",
       "      <th>City</th>\n",
       "      <th>Sport</th>\n",
       "      <th>Event</th>\n",
       "      <th>Medal</th>\n",
       "      <th>region</th>\n",
       "      <th>notes</th>\n",
       "    </tr>\n",
       "  </thead>\n",
       "  <tbody>\n",
       "    <tr>\n",
       "      <th>0</th>\n",
       "      <td>1</td>\n",
       "      <td>A Dijiang</td>\n",
       "      <td>M</td>\n",
       "      <td>24.0</td>\n",
       "      <td>180.0</td>\n",
       "      <td>80.0</td>\n",
       "      <td>China</td>\n",
       "      <td>CHN</td>\n",
       "      <td>1992 Summer</td>\n",
       "      <td>1992</td>\n",
       "      <td>Summer</td>\n",
       "      <td>Barcelona</td>\n",
       "      <td>Basketball</td>\n",
       "      <td>Basketball Men's Basketball</td>\n",
       "      <td>NaN</td>\n",
       "      <td>China</td>\n",
       "      <td>NaN</td>\n",
       "    </tr>\n",
       "    <tr>\n",
       "      <th>1</th>\n",
       "      <td>2</td>\n",
       "      <td>A Lamusi</td>\n",
       "      <td>M</td>\n",
       "      <td>23.0</td>\n",
       "      <td>170.0</td>\n",
       "      <td>60.0</td>\n",
       "      <td>China</td>\n",
       "      <td>CHN</td>\n",
       "      <td>2012 Summer</td>\n",
       "      <td>2012</td>\n",
       "      <td>Summer</td>\n",
       "      <td>London</td>\n",
       "      <td>Judo</td>\n",
       "      <td>Judo Men's Extra-Lightweight</td>\n",
       "      <td>NaN</td>\n",
       "      <td>China</td>\n",
       "      <td>NaN</td>\n",
       "    </tr>\n",
       "    <tr>\n",
       "      <th>2</th>\n",
       "      <td>3</td>\n",
       "      <td>Gunnar Nielsen Aaby</td>\n",
       "      <td>M</td>\n",
       "      <td>24.0</td>\n",
       "      <td>NaN</td>\n",
       "      <td>NaN</td>\n",
       "      <td>Denmark</td>\n",
       "      <td>DEN</td>\n",
       "      <td>1920 Summer</td>\n",
       "      <td>1920</td>\n",
       "      <td>Summer</td>\n",
       "      <td>Antwerpen</td>\n",
       "      <td>Football</td>\n",
       "      <td>Football Men's Football</td>\n",
       "      <td>NaN</td>\n",
       "      <td>Denmark</td>\n",
       "      <td>NaN</td>\n",
       "    </tr>\n",
       "    <tr>\n",
       "      <th>3</th>\n",
       "      <td>4</td>\n",
       "      <td>Edgar Lindenau Aabye</td>\n",
       "      <td>M</td>\n",
       "      <td>34.0</td>\n",
       "      <td>NaN</td>\n",
       "      <td>NaN</td>\n",
       "      <td>Denmark/Sweden</td>\n",
       "      <td>DEN</td>\n",
       "      <td>1900 Summer</td>\n",
       "      <td>1900</td>\n",
       "      <td>Summer</td>\n",
       "      <td>Paris</td>\n",
       "      <td>Tug-Of-War</td>\n",
       "      <td>Tug-Of-War Men's Tug-Of-War</td>\n",
       "      <td>Gold</td>\n",
       "      <td>Denmark</td>\n",
       "      <td>NaN</td>\n",
       "    </tr>\n",
       "    <tr>\n",
       "      <th>4</th>\n",
       "      <td>5</td>\n",
       "      <td>Christine Jacoba Aaftink</td>\n",
       "      <td>F</td>\n",
       "      <td>21.0</td>\n",
       "      <td>185.0</td>\n",
       "      <td>82.0</td>\n",
       "      <td>Netherlands</td>\n",
       "      <td>NED</td>\n",
       "      <td>1988 Winter</td>\n",
       "      <td>1988</td>\n",
       "      <td>Winter</td>\n",
       "      <td>Calgary</td>\n",
       "      <td>Speed Skating</td>\n",
       "      <td>Speed Skating Women's 500 metres</td>\n",
       "      <td>NaN</td>\n",
       "      <td>Netherlands</td>\n",
       "      <td>NaN</td>\n",
       "    </tr>\n",
       "    <tr>\n",
       "      <th>...</th>\n",
       "      <td>...</td>\n",
       "      <td>...</td>\n",
       "      <td>...</td>\n",
       "      <td>...</td>\n",
       "      <td>...</td>\n",
       "      <td>...</td>\n",
       "      <td>...</td>\n",
       "      <td>...</td>\n",
       "      <td>...</td>\n",
       "      <td>...</td>\n",
       "      <td>...</td>\n",
       "      <td>...</td>\n",
       "      <td>...</td>\n",
       "      <td>...</td>\n",
       "      <td>...</td>\n",
       "      <td>...</td>\n",
       "      <td>...</td>\n",
       "    </tr>\n",
       "    <tr>\n",
       "      <th>271111</th>\n",
       "      <td>135569</td>\n",
       "      <td>Andrzej ya</td>\n",
       "      <td>M</td>\n",
       "      <td>29.0</td>\n",
       "      <td>179.0</td>\n",
       "      <td>89.0</td>\n",
       "      <td>Poland-1</td>\n",
       "      <td>POL</td>\n",
       "      <td>1976 Winter</td>\n",
       "      <td>1976</td>\n",
       "      <td>Winter</td>\n",
       "      <td>Innsbruck</td>\n",
       "      <td>Luge</td>\n",
       "      <td>Luge Mixed (Men)'s Doubles</td>\n",
       "      <td>NaN</td>\n",
       "      <td>Poland</td>\n",
       "      <td>NaN</td>\n",
       "    </tr>\n",
       "    <tr>\n",
       "      <th>271112</th>\n",
       "      <td>135570</td>\n",
       "      <td>Piotr ya</td>\n",
       "      <td>M</td>\n",
       "      <td>27.0</td>\n",
       "      <td>176.0</td>\n",
       "      <td>59.0</td>\n",
       "      <td>Poland</td>\n",
       "      <td>POL</td>\n",
       "      <td>2014 Winter</td>\n",
       "      <td>2014</td>\n",
       "      <td>Winter</td>\n",
       "      <td>Sochi</td>\n",
       "      <td>Ski Jumping</td>\n",
       "      <td>Ski Jumping Men's Large Hill, Individual</td>\n",
       "      <td>NaN</td>\n",
       "      <td>Poland</td>\n",
       "      <td>NaN</td>\n",
       "    </tr>\n",
       "    <tr>\n",
       "      <th>271113</th>\n",
       "      <td>135570</td>\n",
       "      <td>Piotr ya</td>\n",
       "      <td>M</td>\n",
       "      <td>27.0</td>\n",
       "      <td>176.0</td>\n",
       "      <td>59.0</td>\n",
       "      <td>Poland</td>\n",
       "      <td>POL</td>\n",
       "      <td>2014 Winter</td>\n",
       "      <td>2014</td>\n",
       "      <td>Winter</td>\n",
       "      <td>Sochi</td>\n",
       "      <td>Ski Jumping</td>\n",
       "      <td>Ski Jumping Men's Large Hill, Team</td>\n",
       "      <td>NaN</td>\n",
       "      <td>Poland</td>\n",
       "      <td>NaN</td>\n",
       "    </tr>\n",
       "    <tr>\n",
       "      <th>271114</th>\n",
       "      <td>135571</td>\n",
       "      <td>Tomasz Ireneusz ya</td>\n",
       "      <td>M</td>\n",
       "      <td>30.0</td>\n",
       "      <td>185.0</td>\n",
       "      <td>96.0</td>\n",
       "      <td>Poland</td>\n",
       "      <td>POL</td>\n",
       "      <td>1998 Winter</td>\n",
       "      <td>1998</td>\n",
       "      <td>Winter</td>\n",
       "      <td>Nagano</td>\n",
       "      <td>Bobsleigh</td>\n",
       "      <td>Bobsleigh Men's Four</td>\n",
       "      <td>NaN</td>\n",
       "      <td>Poland</td>\n",
       "      <td>NaN</td>\n",
       "    </tr>\n",
       "    <tr>\n",
       "      <th>271115</th>\n",
       "      <td>135571</td>\n",
       "      <td>Tomasz Ireneusz ya</td>\n",
       "      <td>M</td>\n",
       "      <td>34.0</td>\n",
       "      <td>185.0</td>\n",
       "      <td>96.0</td>\n",
       "      <td>Poland</td>\n",
       "      <td>POL</td>\n",
       "      <td>2002 Winter</td>\n",
       "      <td>2002</td>\n",
       "      <td>Winter</td>\n",
       "      <td>Salt Lake City</td>\n",
       "      <td>Bobsleigh</td>\n",
       "      <td>Bobsleigh Men's Four</td>\n",
       "      <td>NaN</td>\n",
       "      <td>Poland</td>\n",
       "      <td>NaN</td>\n",
       "    </tr>\n",
       "  </tbody>\n",
       "</table>\n",
       "<p>271116 rows × 17 columns</p>\n",
       "</div>"
      ],
      "text/plain": [
       "            ID                      Name Sex   Age  Height  Weight  \\\n",
       "0            1                 A Dijiang   M  24.0   180.0    80.0   \n",
       "1            2                  A Lamusi   M  23.0   170.0    60.0   \n",
       "2            3       Gunnar Nielsen Aaby   M  24.0     NaN     NaN   \n",
       "3            4      Edgar Lindenau Aabye   M  34.0     NaN     NaN   \n",
       "4            5  Christine Jacoba Aaftink   F  21.0   185.0    82.0   \n",
       "...        ...                       ...  ..   ...     ...     ...   \n",
       "271111  135569                Andrzej ya   M  29.0   179.0    89.0   \n",
       "271112  135570                  Piotr ya   M  27.0   176.0    59.0   \n",
       "271113  135570                  Piotr ya   M  27.0   176.0    59.0   \n",
       "271114  135571        Tomasz Ireneusz ya   M  30.0   185.0    96.0   \n",
       "271115  135571        Tomasz Ireneusz ya   M  34.0   185.0    96.0   \n",
       "\n",
       "                  Team  NOC        Games  Year  Season            City  \\\n",
       "0                China  CHN  1992 Summer  1992  Summer       Barcelona   \n",
       "1                China  CHN  2012 Summer  2012  Summer          London   \n",
       "2              Denmark  DEN  1920 Summer  1920  Summer       Antwerpen   \n",
       "3       Denmark/Sweden  DEN  1900 Summer  1900  Summer           Paris   \n",
       "4          Netherlands  NED  1988 Winter  1988  Winter         Calgary   \n",
       "...                ...  ...          ...   ...     ...             ...   \n",
       "271111        Poland-1  POL  1976 Winter  1976  Winter       Innsbruck   \n",
       "271112          Poland  POL  2014 Winter  2014  Winter           Sochi   \n",
       "271113          Poland  POL  2014 Winter  2014  Winter           Sochi   \n",
       "271114          Poland  POL  1998 Winter  1998  Winter          Nagano   \n",
       "271115          Poland  POL  2002 Winter  2002  Winter  Salt Lake City   \n",
       "\n",
       "                Sport                                     Event Medal  \\\n",
       "0          Basketball               Basketball Men's Basketball   NaN   \n",
       "1                Judo              Judo Men's Extra-Lightweight   NaN   \n",
       "2            Football                   Football Men's Football   NaN   \n",
       "3          Tug-Of-War               Tug-Of-War Men's Tug-Of-War  Gold   \n",
       "4       Speed Skating          Speed Skating Women's 500 metres   NaN   \n",
       "...               ...                                       ...   ...   \n",
       "271111           Luge                Luge Mixed (Men)'s Doubles   NaN   \n",
       "271112    Ski Jumping  Ski Jumping Men's Large Hill, Individual   NaN   \n",
       "271113    Ski Jumping        Ski Jumping Men's Large Hill, Team   NaN   \n",
       "271114      Bobsleigh                      Bobsleigh Men's Four   NaN   \n",
       "271115      Bobsleigh                      Bobsleigh Men's Four   NaN   \n",
       "\n",
       "             region notes  \n",
       "0             China   NaN  \n",
       "1             China   NaN  \n",
       "2           Denmark   NaN  \n",
       "3           Denmark   NaN  \n",
       "4       Netherlands   NaN  \n",
       "...             ...   ...  \n",
       "271111       Poland   NaN  \n",
       "271112       Poland   NaN  \n",
       "271113       Poland   NaN  \n",
       "271114       Poland   NaN  \n",
       "271115       Poland   NaN  \n",
       "\n",
       "[271116 rows x 17 columns]"
      ]
     },
     "execution_count": 48,
     "metadata": {},
     "output_type": "execute_result"
    }
   ],
   "source": [
    "df_merged = df_athlete.merge(noc_regions, how='left', on=\"NOC\")\n",
    "df_merged"
   ]
  },
  {
   "cell_type": "markdown",
   "metadata": {},
   "source": [
    "### Visualisations"
   ]
  },
  {
   "cell_type": "markdown",
   "metadata": {},
   "source": [
    "#### Number of athletes per country and per year"
   ]
  },
  {
   "cell_type": "code",
   "execution_count": 49,
   "metadata": {},
   "outputs": [
    {
     "data": {
      "text/html": [
       "<div>\n",
       "<style scoped>\n",
       "    .dataframe tbody tr th:only-of-type {\n",
       "        vertical-align: middle;\n",
       "    }\n",
       "\n",
       "    .dataframe tbody tr th {\n",
       "        vertical-align: top;\n",
       "    }\n",
       "\n",
       "    .dataframe thead th {\n",
       "        text-align: right;\n",
       "    }\n",
       "</style>\n",
       "<table border=\"1\" class=\"dataframe\">\n",
       "  <thead>\n",
       "    <tr style=\"text-align: right;\">\n",
       "      <th></th>\n",
       "      <th>ID</th>\n",
       "      <th>Name</th>\n",
       "      <th>Sex</th>\n",
       "      <th>Age</th>\n",
       "      <th>Height</th>\n",
       "      <th>Weight</th>\n",
       "      <th>Team</th>\n",
       "      <th>NOC</th>\n",
       "      <th>Games</th>\n",
       "      <th>Year</th>\n",
       "      <th>Season</th>\n",
       "      <th>City</th>\n",
       "      <th>Sport</th>\n",
       "      <th>Event</th>\n",
       "      <th>Medal</th>\n",
       "      <th>region</th>\n",
       "      <th>notes</th>\n",
       "    </tr>\n",
       "  </thead>\n",
       "  <tbody>\n",
       "    <tr>\n",
       "      <th>0</th>\n",
       "      <td>1</td>\n",
       "      <td>A Dijiang</td>\n",
       "      <td>M</td>\n",
       "      <td>24.0</td>\n",
       "      <td>180.0</td>\n",
       "      <td>80.0</td>\n",
       "      <td>China</td>\n",
       "      <td>CHN</td>\n",
       "      <td>1992 Summer</td>\n",
       "      <td>1992</td>\n",
       "      <td>Summer</td>\n",
       "      <td>Barcelona</td>\n",
       "      <td>Basketball</td>\n",
       "      <td>Basketball Men's Basketball</td>\n",
       "      <td>NaN</td>\n",
       "      <td>China</td>\n",
       "      <td>NaN</td>\n",
       "    </tr>\n",
       "    <tr>\n",
       "      <th>1</th>\n",
       "      <td>2</td>\n",
       "      <td>A Lamusi</td>\n",
       "      <td>M</td>\n",
       "      <td>23.0</td>\n",
       "      <td>170.0</td>\n",
       "      <td>60.0</td>\n",
       "      <td>China</td>\n",
       "      <td>CHN</td>\n",
       "      <td>2012 Summer</td>\n",
       "      <td>2012</td>\n",
       "      <td>Summer</td>\n",
       "      <td>London</td>\n",
       "      <td>Judo</td>\n",
       "      <td>Judo Men's Extra-Lightweight</td>\n",
       "      <td>NaN</td>\n",
       "      <td>China</td>\n",
       "      <td>NaN</td>\n",
       "    </tr>\n",
       "    <tr>\n",
       "      <th>2</th>\n",
       "      <td>3</td>\n",
       "      <td>Gunnar Nielsen Aaby</td>\n",
       "      <td>M</td>\n",
       "      <td>24.0</td>\n",
       "      <td>NaN</td>\n",
       "      <td>NaN</td>\n",
       "      <td>Denmark</td>\n",
       "      <td>DEN</td>\n",
       "      <td>1920 Summer</td>\n",
       "      <td>1920</td>\n",
       "      <td>Summer</td>\n",
       "      <td>Antwerpen</td>\n",
       "      <td>Football</td>\n",
       "      <td>Football Men's Football</td>\n",
       "      <td>NaN</td>\n",
       "      <td>Denmark</td>\n",
       "      <td>NaN</td>\n",
       "    </tr>\n",
       "  </tbody>\n",
       "</table>\n",
       "</div>"
      ],
      "text/plain": [
       "   ID                 Name Sex   Age  Height  Weight     Team  NOC  \\\n",
       "0   1            A Dijiang   M  24.0   180.0    80.0    China  CHN   \n",
       "1   2             A Lamusi   M  23.0   170.0    60.0    China  CHN   \n",
       "2   3  Gunnar Nielsen Aaby   M  24.0     NaN     NaN  Denmark  DEN   \n",
       "\n",
       "         Games  Year  Season       City       Sport  \\\n",
       "0  1992 Summer  1992  Summer  Barcelona  Basketball   \n",
       "1  2012 Summer  2012  Summer     London        Judo   \n",
       "2  1920 Summer  1920  Summer  Antwerpen    Football   \n",
       "\n",
       "                          Event Medal   region notes  \n",
       "0   Basketball Men's Basketball   NaN    China   NaN  \n",
       "1  Judo Men's Extra-Lightweight   NaN    China   NaN  \n",
       "2       Football Men's Football   NaN  Denmark   NaN  "
      ]
     },
     "execution_count": 49,
     "metadata": {},
     "output_type": "execute_result"
    }
   ],
   "source": [
    "# we drop athletes who competed in different categories during the same games to avoid duplicates\n",
    "no_duplicates = df_merged.drop_duplicates(subset= ['Games', 'ID'])\n",
    "no_duplicates.head(3)"
   ]
  },
  {
   "cell_type": "code",
   "execution_count": 66,
   "metadata": {},
   "outputs": [],
   "source": [
    "# we divide the dataset into two dataframes, one for summer games and one for winter games\n",
    "summer_games = no_duplicates[no_duplicates.Season == 'Summer']\n",
    "winter_games = no_duplicates[no_duplicates.Season == 'Winter']"
   ]
  },
  {
   "cell_type": "code",
   "execution_count": 70,
   "metadata": {},
   "outputs": [
    {
     "data": {
      "text/html": [
       "<div>\n",
       "<style scoped>\n",
       "    .dataframe tbody tr th:only-of-type {\n",
       "        vertical-align: middle;\n",
       "    }\n",
       "\n",
       "    .dataframe tbody tr th {\n",
       "        vertical-align: top;\n",
       "    }\n",
       "\n",
       "    .dataframe thead th {\n",
       "        text-align: right;\n",
       "    }\n",
       "</style>\n",
       "<table border=\"1\" class=\"dataframe\">\n",
       "  <thead>\n",
       "    <tr style=\"text-align: right;\">\n",
       "      <th></th>\n",
       "      <th>Year</th>\n",
       "      <th>region</th>\n",
       "      <th>Nb of athletes</th>\n",
       "    </tr>\n",
       "  </thead>\n",
       "  <tbody>\n",
       "    <tr>\n",
       "      <th>0</th>\n",
       "      <td>1924</td>\n",
       "      <td>Australia</td>\n",
       "      <td>1</td>\n",
       "    </tr>\n",
       "    <tr>\n",
       "      <th>1</th>\n",
       "      <td>1924</td>\n",
       "      <td>Austria</td>\n",
       "      <td>4</td>\n",
       "    </tr>\n",
       "    <tr>\n",
       "      <th>2</th>\n",
       "      <td>1924</td>\n",
       "      <td>Belgium</td>\n",
       "      <td>18</td>\n",
       "    </tr>\n",
       "  </tbody>\n",
       "</table>\n",
       "</div>"
      ],
      "text/plain": [
       "   Year     region  Nb of athletes\n",
       "0  1924  Australia               1\n",
       "1  1924    Austria               4\n",
       "2  1924    Belgium              18"
      ]
     },
     "execution_count": 70,
     "metadata": {},
     "output_type": "execute_result"
    }
   ],
   "source": [
    "# number of athletes per country and per year\n",
    "athletes_per_country_summer = summer_games.groupby(['Year', 'region']).size().reset_index(name='Nb of athletes')\n",
    "athletes_per_country_winter = winter_games.groupby(['Year', 'region']).size().reset_index(name='Nb of athletes')\n",
    "\n",
    "athletes_per_country_winter.head(3)"
   ]
  },
  {
   "cell_type": "code",
   "execution_count": 71,
   "metadata": {},
   "outputs": [
    {
     "data": {
      "application/vnd.plotly.v1+json": {
       "config": {
        "plotlyServerURL": "https://plot.ly"
       },
       "data": [
        {
         "hovertemplate": "region=Australia<br>Year=%{x}<br>Nb of athletes=%{y}<extra></extra>",
         "legendgroup": "Australia",
         "line": {
          "color": "#636efa",
          "dash": "solid"
         },
         "marker": {
          "symbol": "circle"
         },
         "mode": "lines",
         "name": "Australia",
         "showlegend": true,
         "type": "scattergl",
         "x": [
          1896,
          1900,
          1904,
          1906,
          1908,
          1912,
          1920,
          1924,
          1928,
          1932,
          1936,
          1948,
          1952,
          1956,
          1960,
          1964,
          1968,
          1972,
          1976,
          1980,
          1984,
          1988,
          1992,
          1996,
          2000,
          2004,
          2008,
          2012,
          2016
         ],
         "xaxis": "x",
         "y": [
          1,
          2,
          2,
          4,
          30,
          25,
          13,
          36,
          18,
          13,
          32,
          75,
          81,
          298,
          189,
          243,
          128,
          168,
          180,
          120,
          242,
          252,
          279,
          417,
          617,
          470,
          432,
          405,
          420
         ],
         "yaxis": "y"
        },
        {
         "hovertemplate": "region=Austria<br>Year=%{x}<br>Nb of athletes=%{y}<extra></extra>",
         "legendgroup": "Austria",
         "line": {
          "color": "#EF553B",
          "dash": "solid"
         },
         "marker": {
          "symbol": "circle"
         },
         "mode": "lines",
         "name": "Austria",
         "showlegend": true,
         "type": "scattergl",
         "x": [
          1896,
          1900,
          1904,
          1906,
          1908,
          1912,
          1924,
          1928,
          1932,
          1936,
          1948,
          1952,
          1956,
          1960,
          1964,
          1968,
          1972,
          1976,
          1980,
          1984,
          1988,
          1992,
          1996,
          2000,
          2004,
          2008,
          2012,
          2016
         ],
         "xaxis": "x",
         "y": [
          3,
          16,
          2,
          31,
          7,
          85,
          49,
          73,
          19,
          234,
          148,
          112,
          34,
          103,
          56,
          43,
          111,
          60,
          83,
          102,
          73,
          102,
          72,
          92,
          74,
          70,
          70,
          71
         ],
         "yaxis": "y"
        },
        {
         "hovertemplate": "region=Denmark<br>Year=%{x}<br>Nb of athletes=%{y}<extra></extra>",
         "legendgroup": "Denmark",
         "line": {
          "color": "#00cc96",
          "dash": "solid"
         },
         "marker": {
          "symbol": "circle"
         },
         "mode": "lines",
         "name": "Denmark",
         "showlegend": true,
         "type": "scattergl",
         "x": [
          1896,
          1900,
          1906,
          1908,
          1912,
          1920,
          1924,
          1928,
          1932,
          1936,
          1948,
          1952,
          1956,
          1960,
          1964,
          1968,
          1972,
          1976,
          1980,
          1984,
          1988,
          1992,
          1996,
          2000,
          2004,
          2008,
          2012,
          2016
         ],
         "xaxis": "x",
         "y": [
          3,
          13,
          49,
          78,
          152,
          154,
          89,
          91,
          43,
          121,
          162,
          129,
          37,
          100,
          60,
          64,
          126,
          66,
          58,
          60,
          78,
          110,
          119,
          97,
          92,
          84,
          114,
          119
         ],
         "yaxis": "y"
        },
        {
         "hovertemplate": "region=France<br>Year=%{x}<br>Nb of athletes=%{y}<extra></extra>",
         "legendgroup": "France",
         "line": {
          "color": "#ab63fa",
          "dash": "solid"
         },
         "marker": {
          "symbol": "circle"
         },
         "mode": "lines",
         "name": "France",
         "showlegend": true,
         "type": "scattergl",
         "x": [
          1896,
          1900,
          1904,
          1906,
          1908,
          1912,
          1920,
          1924,
          1928,
          1932,
          1936,
          1948,
          1952,
          1956,
          1960,
          1964,
          1968,
          1972,
          1976,
          1980,
          1984,
          1988,
          1992,
          1996,
          2000,
          2004,
          2008,
          2012,
          2016
         ],
         "xaxis": "x",
         "y": [
          12,
          720,
          1,
          56,
          208,
          119,
          304,
          401,
          255,
          103,
          201,
          316,
          245,
          145,
          238,
          138,
          200,
          227,
          206,
          121,
          238,
          266,
          339,
          299,
          336,
          308,
          309,
          324,
          392
         ],
         "yaxis": "y"
        },
        {
         "hovertemplate": "region=Germany<br>Year=%{x}<br>Nb of athletes=%{y}<extra></extra>",
         "legendgroup": "Germany",
         "line": {
          "color": "#FFA15A",
          "dash": "solid"
         },
         "marker": {
          "symbol": "circle"
         },
         "mode": "lines",
         "name": "Germany",
         "showlegend": true,
         "type": "scattergl",
         "x": [
          1896,
          1900,
          1904,
          1906,
          1908,
          1912,
          1928,
          1932,
          1936,
          1952,
          1956,
          1960,
          1964,
          1968,
          1972,
          1976,
          1980,
          1984,
          1988,
          1992,
          1996,
          2000,
          2004,
          2008,
          2012,
          2016
         ],
         "xaxis": "x",
         "y": [
          19,
          76,
          22,
          49,
          82,
          185,
          295,
          145,
          433,
          241,
          167,
          294,
          337,
          501,
          721,
          557,
          346,
          390,
          606,
          463,
          466,
          422,
          441,
          420,
          383,
          418
         ],
         "yaxis": "y"
        },
        {
         "hovertemplate": "region=Greece<br>Year=%{x}<br>Nb of athletes=%{y}<extra></extra>",
         "legendgroup": "Greece",
         "line": {
          "color": "#19d3f3",
          "dash": "solid"
         },
         "marker": {
          "symbol": "circle"
         },
         "mode": "lines",
         "name": "Greece",
         "showlegend": true,
         "type": "scattergl",
         "x": [
          1896,
          1900,
          1904,
          1906,
          1908,
          1912,
          1920,
          1924,
          1928,
          1932,
          1936,
          1948,
          1952,
          1956,
          1960,
          1964,
          1968,
          1972,
          1976,
          1980,
          1984,
          1988,
          1992,
          1996,
          2000,
          2004,
          2008,
          2012,
          2016
         ],
         "xaxis": "x",
         "y": [
          102,
          3,
          14,
          320,
          20,
          22,
          47,
          39,
          23,
          10,
          41,
          61,
          48,
          13,
          48,
          18,
          44,
          60,
          36,
          41,
          63,
          56,
          70,
          121,
          140,
          426,
          152,
          102,
          92
         ],
         "yaxis": "y"
        },
        {
         "hovertemplate": "region=Hungary<br>Year=%{x}<br>Nb of athletes=%{y}<extra></extra>",
         "legendgroup": "Hungary",
         "line": {
          "color": "#FF6692",
          "dash": "solid"
         },
         "marker": {
          "symbol": "circle"
         },
         "mode": "lines",
         "name": "Hungary",
         "showlegend": true,
         "type": "scattergl",
         "x": [
          1896,
          1900,
          1904,
          1906,
          1908,
          1912,
          1924,
          1928,
          1932,
          1936,
          1948,
          1952,
          1956,
          1960,
          1964,
          1968,
          1972,
          1976,
          1980,
          1988,
          1992,
          1996,
          2000,
          2004,
          2008,
          2012,
          2016
         ],
         "xaxis": "x",
         "y": [
          7,
          18,
          4,
          35,
          65,
          121,
          89,
          109,
          58,
          216,
          128,
          189,
          111,
          184,
          182,
          167,
          232,
          178,
          263,
          188,
          217,
          213,
          178,
          209,
          171,
          152,
          154
         ],
         "yaxis": "y"
        },
        {
         "hovertemplate": "region=Italy<br>Year=%{x}<br>Nb of athletes=%{y}<extra></extra>",
         "legendgroup": "Italy",
         "line": {
          "color": "#B6E880",
          "dash": "solid"
         },
         "marker": {
          "symbol": "circle"
         },
         "mode": "lines",
         "name": "Italy",
         "showlegend": true,
         "type": "scattergl",
         "x": [
          1896,
          1900,
          1904,
          1906,
          1908,
          1912,
          1920,
          1924,
          1928,
          1932,
          1936,
          1948,
          1952,
          1956,
          1960,
          1964,
          1968,
          1972,
          1976,
          1980,
          1984,
          1988,
          1992,
          1996,
          2000,
          2004,
          2008,
          2012,
          2016
         ],
         "xaxis": "x",
         "y": [
          1,
          23,
          1,
          76,
          66,
          66,
          174,
          200,
          174,
          112,
          244,
          215,
          231,
          135,
          280,
          168,
          167,
          224,
          210,
          159,
          268,
          253,
          304,
          340,
          361,
          364,
          333,
          281,
          309
         ],
         "yaxis": "y"
        },
        {
         "hovertemplate": "region=Sweden<br>Year=%{x}<br>Nb of athletes=%{y}<extra></extra>",
         "legendgroup": "Sweden",
         "line": {
          "color": "#FF97FF",
          "dash": "solid"
         },
         "marker": {
          "symbol": "circle"
         },
         "mode": "lines",
         "name": "Sweden",
         "showlegend": true,
         "type": "scattergl",
         "x": [
          1896,
          1900,
          1906,
          1908,
          1912,
          1920,
          1924,
          1928,
          1932,
          1936,
          1948,
          1952,
          1956,
          1960,
          1964,
          1968,
          1972,
          1976,
          1980,
          1984,
          1988,
          1992,
          1996,
          2000,
          2004,
          2008,
          2012,
          2016
         ],
         "xaxis": "x",
         "y": [
          1,
          10,
          39,
          168,
          444,
          260,
          159,
          100,
          81,
          171,
          181,
          206,
          97,
          134,
          94,
          100,
          131,
          116,
          145,
          174,
          185,
          187,
          177,
          150,
          115,
          123,
          133,
          150
         ],
         "yaxis": "y"
        },
        {
         "hovertemplate": "region=Switzerland<br>Year=%{x}<br>Nb of athletes=%{y}<extra></extra>",
         "legendgroup": "Switzerland",
         "line": {
          "color": "#FECB52",
          "dash": "solid"
         },
         "marker": {
          "symbol": "circle"
         },
         "mode": "lines",
         "name": "Switzerland",
         "showlegend": true,
         "type": "scattergl",
         "x": [
          1896,
          1900,
          1904,
          1906,
          1908,
          1912,
          1920,
          1924,
          1928,
          1932,
          1936,
          1948,
          1952,
          1956,
          1960,
          1964,
          1968,
          1972,
          1976,
          1980,
          1984,
          1988,
          1992,
          1996,
          2000,
          2004,
          2008,
          2012,
          2016
         ],
         "xaxis": "x",
         "y": [
          3,
          18,
          3,
          9,
          1,
          7,
          77,
          141,
          133,
          7,
          190,
          186,
          157,
          9,
          149,
          66,
          85,
          151,
          50,
          73,
          129,
          99,
          102,
          115,
          102,
          98,
          83,
          98,
          102
         ],
         "yaxis": "y"
        },
        {
         "hovertemplate": "region=UK<br>Year=%{x}<br>Nb of athletes=%{y}<extra></extra>",
         "legendgroup": "UK",
         "line": {
          "color": "#636efa",
          "dash": "solid"
         },
         "marker": {
          "symbol": "circle"
         },
         "mode": "lines",
         "name": "UK",
         "showlegend": true,
         "type": "scattergl",
         "x": [
          1896,
          1900,
          1904,
          1906,
          1908,
          1912,
          1920,
          1924,
          1928,
          1932,
          1936,
          1948,
          1952,
          1956,
          1960,
          1964,
          1968,
          1972,
          1976,
          1980,
          1984,
          1988,
          1992,
          1996,
          2000,
          2004,
          2008,
          2012,
          2016
         ],
         "xaxis": "x",
         "y": [
          10,
          104,
          6,
          48,
          735,
          274,
          234,
          267,
          232,
          107,
          208,
          407,
          257,
          197,
          253,
          204,
          225,
          284,
          242,
          219,
          337,
          345,
          371,
          300,
          310,
          264,
          304,
          530,
          360
         ],
         "yaxis": "y"
        },
        {
         "hovertemplate": "region=USA<br>Year=%{x}<br>Nb of athletes=%{y}<extra></extra>",
         "legendgroup": "USA",
         "line": {
          "color": "#EF553B",
          "dash": "solid"
         },
         "marker": {
          "symbol": "circle"
         },
         "mode": "lines",
         "name": "USA",
         "showlegend": true,
         "type": "scattergl",
         "x": [
          1896,
          1900,
          1904,
          1906,
          1908,
          1912,
          1920,
          1924,
          1928,
          1932,
          1936,
          1948,
          1952,
          1956,
          1960,
          1964,
          1968,
          1972,
          1976,
          1984,
          1988,
          1992,
          1996,
          2000,
          2004,
          2008,
          2012,
          2016
         ],
         "xaxis": "x",
         "y": [
          14,
          75,
          524,
          38,
          122,
          174,
          288,
          299,
          280,
          474,
          359,
          300,
          286,
          305,
          292,
          346,
          357,
          400,
          396,
          522,
          527,
          545,
          648,
          586,
          533,
          588,
          530,
          555
         ],
         "yaxis": "y"
        },
        {
         "hovertemplate": "region=Argentina<br>Year=%{x}<br>Nb of athletes=%{y}<extra></extra>",
         "legendgroup": "Argentina",
         "line": {
          "color": "#00cc96",
          "dash": "solid"
         },
         "marker": {
          "symbol": "circle"
         },
         "mode": "lines",
         "name": "Argentina",
         "showlegend": true,
         "type": "scattergl",
         "x": [
          1900,
          1908,
          1920,
          1924,
          1928,
          1932,
          1936,
          1948,
          1952,
          1956,
          1960,
          1964,
          1968,
          1972,
          1976,
          1984,
          1988,
          1992,
          1996,
          2000,
          2004,
          2008,
          2012,
          2016
         ],
         "xaxis": "x",
         "y": [
          1,
          1,
          1,
          77,
          81,
          33,
          51,
          199,
          123,
          35,
          92,
          102,
          89,
          92,
          69,
          81,
          118,
          84,
          179,
          143,
          152,
          132,
          137,
          215
         ],
         "yaxis": "y"
        },
        {
         "hovertemplate": "region=Belgium<br>Year=%{x}<br>Nb of athletes=%{y}<extra></extra>",
         "legendgroup": "Belgium",
         "line": {
          "color": "#ab63fa",
          "dash": "solid"
         },
         "marker": {
          "symbol": "circle"
         },
         "mode": "lines",
         "name": "Belgium",
         "showlegend": true,
         "type": "scattergl",
         "x": [
          1900,
          1906,
          1908,
          1912,
          1920,
          1924,
          1928,
          1932,
          1936,
          1948,
          1952,
          1956,
          1960,
          1964,
          1968,
          1972,
          1976,
          1980,
          1984,
          1988,
          1992,
          1996,
          2000,
          2004,
          2008,
          2012,
          2016
         ],
         "xaxis": "x",
         "y": [
          64,
          16,
          70,
          36,
          336,
          172,
          187,
          36,
          150,
          152,
          135,
          57,
          101,
          61,
          82,
          88,
          101,
          59,
          63,
          59,
          68,
          61,
          68,
          50,
          94,
          111,
          104
         ],
         "yaxis": "y"
        },
        {
         "hovertemplate": "region=Brazil<br>Year=%{x}<br>Nb of athletes=%{y}<extra></extra>",
         "legendgroup": "Brazil",
         "line": {
          "color": "#FFA15A",
          "dash": "solid"
         },
         "marker": {
          "symbol": "circle"
         },
         "mode": "lines",
         "name": "Brazil",
         "showlegend": true,
         "type": "scattergl",
         "x": [
          1900,
          1920,
          1924,
          1932,
          1936,
          1948,
          1952,
          1956,
          1960,
          1964,
          1968,
          1972,
          1976,
          1980,
          1984,
          1988,
          1992,
          1996,
          2000,
          2004,
          2008,
          2012,
          2016
         ],
         "xaxis": "x",
         "y": [
          1,
          19,
          12,
          59,
          73,
          70,
          97,
          47,
          72,
          61,
          76,
          81,
          79,
          106,
          147,
          160,
          182,
          221,
          198,
          243,
          268,
          248,
          462
         ],
         "yaxis": "y"
        },
        {
         "hovertemplate": "region=Canada<br>Year=%{x}<br>Nb of athletes=%{y}<extra></extra>",
         "legendgroup": "Canada",
         "line": {
          "color": "#19d3f3",
          "dash": "solid"
         },
         "marker": {
          "symbol": "circle"
         },
         "mode": "lines",
         "name": "Canada",
         "showlegend": true,
         "type": "scattergl",
         "x": [
          1900,
          1904,
          1906,
          1908,
          1912,
          1920,
          1924,
          1928,
          1932,
          1936,
          1948,
          1952,
          1956,
          1960,
          1964,
          1968,
          1972,
          1976,
          1984,
          1988,
          1992,
          1996,
          2000,
          2004,
          2008,
          2012,
          2016
         ],
         "xaxis": "x",
         "y": [
          4,
          57,
          3,
          87,
          37,
          52,
          65,
          69,
          102,
          97,
          127,
          107,
          96,
          85,
          115,
          139,
          208,
          385,
          408,
          328,
          295,
          303,
          294,
          262,
          332,
          273,
          310
         ],
         "yaxis": "y"
        },
        {
         "hovertemplate": "region=Colombia<br>Year=%{x}<br>Nb of athletes=%{y}<extra></extra>",
         "legendgroup": "Colombia",
         "line": {
          "color": "#FF6692",
          "dash": "solid"
         },
         "marker": {
          "symbol": "circle"
         },
         "mode": "lines",
         "name": "Colombia",
         "showlegend": true,
         "type": "scattergl",
         "x": [
          1900,
          1932,
          1936,
          1948,
          1956,
          1960,
          1964,
          1968,
          1972,
          1976,
          1980,
          1984,
          1988,
          1992,
          1996,
          2000,
          2004,
          2008,
          2012,
          2016
         ],
         "xaxis": "x",
         "y": [
          1,
          2,
          5,
          6,
          26,
          16,
          20,
          43,
          59,
          35,
          23,
          39,
          40,
          49,
          48,
          44,
          53,
          67,
          101,
          143
         ],
         "yaxis": "y"
        },
        {
         "hovertemplate": "region=Cuba<br>Year=%{x}<br>Nb of athletes=%{y}<extra></extra>",
         "legendgroup": "Cuba",
         "line": {
          "color": "#B6E880",
          "dash": "solid"
         },
         "marker": {
          "symbol": "circle"
         },
         "mode": "lines",
         "name": "Cuba",
         "showlegend": true,
         "type": "scattergl",
         "x": [
          1900,
          1904,
          1924,
          1928,
          1932,
          1948,
          1952,
          1956,
          1960,
          1964,
          1968,
          1972,
          1976,
          1980,
          1992,
          1996,
          2000,
          2004,
          2008,
          2012,
          2016
         ],
         "xaxis": "x",
         "y": [
          1,
          3,
          9,
          1,
          3,
          53,
          29,
          16,
          12,
          27,
          115,
          137,
          156,
          208,
          176,
          164,
          229,
          151,
          158,
          109,
          117
         ],
         "yaxis": "y"
        },
        {
         "hovertemplate": "region=Czech Republic<br>Year=%{x}<br>Nb of athletes=%{y}<extra></extra>",
         "legendgroup": "Czech Republic",
         "line": {
          "color": "#FF97FF",
          "dash": "solid"
         },
         "marker": {
          "symbol": "circle"
         },
         "mode": "lines",
         "name": "Czech Republic",
         "showlegend": true,
         "type": "scattergl",
         "x": [
          1900,
          1906,
          1908,
          1912,
          1920,
          1924,
          1928,
          1932,
          1936,
          1948,
          1952,
          1956,
          1960,
          1964,
          1968,
          1972,
          1976,
          1980,
          1988,
          1992,
          1996,
          2000,
          2004,
          2008,
          2012,
          2016
         ],
         "xaxis": "x",
         "y": [
          7,
          13,
          19,
          43,
          119,
          133,
          69,
          25,
          190,
          87,
          99,
          63,
          116,
          104,
          121,
          181,
          163,
          209,
          163,
          208,
          115,
          119,
          142,
          134,
          133,
          104
         ],
         "yaxis": "y"
        },
        {
         "hovertemplate": "region=Haiti<br>Year=%{x}<br>Nb of athletes=%{y}<extra></extra>",
         "legendgroup": "Haiti",
         "line": {
          "color": "#FECB52",
          "dash": "solid"
         },
         "marker": {
          "symbol": "circle"
         },
         "mode": "lines",
         "name": "Haiti",
         "showlegend": true,
         "type": "scattergl",
         "x": [
          1900,
          1924,
          1928,
          1932,
          1960,
          1972,
          1976,
          1984,
          1988,
          1992,
          1996,
          2000,
          2004,
          2008,
          2012,
          2016
         ],
         "xaxis": "x",
         "y": [
          3,
          8,
          2,
          3,
          1,
          7,
          13,
          3,
          4,
          7,
          7,
          5,
          8,
          7,
          5,
          10
         ],
         "yaxis": "y"
        },
        {
         "hovertemplate": "region=India<br>Year=%{x}<br>Nb of athletes=%{y}<extra></extra>",
         "legendgroup": "India",
         "line": {
          "color": "#636efa",
          "dash": "solid"
         },
         "marker": {
          "symbol": "circle"
         },
         "mode": "lines",
         "name": "India",
         "showlegend": true,
         "type": "scattergl",
         "x": [
          1900,
          1920,
          1924,
          1928,
          1932,
          1936,
          1948,
          1952,
          1956,
          1960,
          1964,
          1968,
          1972,
          1976,
          1980,
          1984,
          1988,
          1992,
          1996,
          2000,
          2004,
          2008,
          2012,
          2016
         ],
         "xaxis": "x",
         "y": [
          1,
          5,
          13,
          21,
          19,
          27,
          79,
          64,
          59,
          45,
          53,
          25,
          41,
          26,
          72,
          48,
          46,
          52,
          49,
          65,
          73,
          53,
          81,
          112
         ],
         "yaxis": "y"
        },
        {
         "hovertemplate": "region=Iran<br>Year=%{x}<br>Nb of athletes=%{y}<extra></extra>",
         "legendgroup": "Iran",
         "line": {
          "color": "#EF553B",
          "dash": "solid"
         },
         "marker": {
          "symbol": "circle"
         },
         "mode": "lines",
         "name": "Iran",
         "showlegend": true,
         "type": "scattergl",
         "x": [
          1900,
          1948,
          1952,
          1956,
          1960,
          1964,
          1968,
          1972,
          1976,
          1988,
          1992,
          1996,
          2000,
          2004,
          2008,
          2012,
          2016
         ],
         "xaxis": "x",
         "y": [
          1,
          36,
          22,
          17,
          23,
          62,
          14,
          48,
          84,
          23,
          36,
          18,
          33,
          37,
          54,
          52,
          63
         ],
         "yaxis": "y"
        },
        {
         "hovertemplate": "region=Luxembourg<br>Year=%{x}<br>Nb of athletes=%{y}<extra></extra>",
         "legendgroup": "Luxembourg",
         "line": {
          "color": "#00cc96",
          "dash": "solid"
         },
         "marker": {
          "symbol": "circle"
         },
         "mode": "lines",
         "name": "Luxembourg",
         "showlegend": true,
         "type": "scattergl",
         "x": [
          1900,
          1912,
          1920,
          1924,
          1928,
          1932,
          1936,
          1948,
          1952,
          1956,
          1960,
          1964,
          1968,
          1972,
          1976,
          1980,
          1984,
          1988,
          1992,
          1996,
          2000,
          2004,
          2008,
          2012,
          2016
         ],
         "xaxis": "x",
         "y": [
          1,
          21,
          25,
          48,
          48,
          3,
          49,
          45,
          44,
          11,
          52,
          12,
          5,
          11,
          8,
          3,
          5,
          8,
          6,
          6,
          7,
          10,
          13,
          9,
          10
         ],
         "yaxis": "y"
        },
        {
         "hovertemplate": "region=Mexico<br>Year=%{x}<br>Nb of athletes=%{y}<extra></extra>",
         "legendgroup": "Mexico",
         "line": {
          "color": "#ab63fa",
          "dash": "solid"
         },
         "marker": {
          "symbol": "circle"
         },
         "mode": "lines",
         "name": "Mexico",
         "showlegend": true,
         "type": "scattergl",
         "x": [
          1900,
          1924,
          1928,
          1932,
          1936,
          1948,
          1952,
          1956,
          1960,
          1964,
          1968,
          1972,
          1976,
          1980,
          1984,
          1988,
          1992,
          1996,
          2000,
          2004,
          2008,
          2012,
          2016
         ],
         "xaxis": "x",
         "y": [
          3,
          15,
          30,
          73,
          32,
          88,
          64,
          24,
          69,
          94,
          275,
          174,
          97,
          45,
          99,
          83,
          102,
          98,
          78,
          109,
          83,
          99,
          123
         ],
         "yaxis": "y"
        },
        {
         "hovertemplate": "region=Netherlands<br>Year=%{x}<br>Nb of athletes=%{y}<extra></extra>",
         "legendgroup": "Netherlands",
         "line": {
          "color": "#FFA15A",
          "dash": "solid"
         },
         "marker": {
          "symbol": "circle"
         },
         "mode": "lines",
         "name": "Netherlands",
         "showlegend": true,
         "type": "scattergl",
         "x": [
          1900,
          1906,
          1908,
          1912,
          1920,
          1924,
          1928,
          1932,
          1936,
          1948,
          1952,
          1956,
          1960,
          1964,
          1968,
          1972,
          1976,
          1980,
          1984,
          1988,
          1992,
          1996,
          2000,
          2004,
          2008,
          2012,
          2016
         ],
         "xaxis": "x",
         "y": [
          35,
          16,
          113,
          33,
          130,
          177,
          266,
          46,
          165,
          149,
          104,
          1,
          110,
          125,
          107,
          119,
          108,
          75,
          136,
          147,
          201,
          239,
          231,
          210,
          237,
          173,
          237
         ],
         "yaxis": "y"
        },
        {
         "hovertemplate": "region=New Zealand<br>Year=%{x}<br>Nb of athletes=%{y}<extra></extra>",
         "legendgroup": "New Zealand",
         "line": {
          "color": "#19d3f3",
          "dash": "solid"
         },
         "marker": {
          "symbol": "circle"
         },
         "mode": "lines",
         "name": "New Zealand",
         "showlegend": true,
         "type": "scattergl",
         "x": [
          1900,
          1920,
          1924,
          1928,
          1932,
          1936,
          1948,
          1952,
          1956,
          1960,
          1964,
          1968,
          1972,
          1976,
          1980,
          1984,
          1988,
          1992,
          1996,
          2000,
          2004,
          2008,
          2012,
          2016
         ],
         "xaxis": "x",
         "y": [
          1,
          4,
          4,
          9,
          21,
          7,
          7,
          14,
          51,
          37,
          64,
          52,
          89,
          80,
          4,
          130,
          83,
          134,
          95,
          147,
          148,
          178,
          178,
          195
         ],
         "yaxis": "y"
        },
        {
         "hovertemplate": "region=Norway<br>Year=%{x}<br>Nb of athletes=%{y}<extra></extra>",
         "legendgroup": "Norway",
         "line": {
          "color": "#FF6692",
          "dash": "solid"
         },
         "marker": {
          "symbol": "circle"
         },
         "mode": "lines",
         "name": "Norway",
         "showlegend": true,
         "type": "scattergl",
         "x": [
          1900,
          1904,
          1906,
          1908,
          1912,
          1920,
          1924,
          1928,
          1932,
          1936,
          1948,
          1952,
          1956,
          1960,
          1964,
          1968,
          1972,
          1976,
          1984,
          1988,
          1992,
          1996,
          2000,
          2004,
          2008,
          2012,
          2016
         ],
         "xaxis": "x",
         "y": [
          7,
          3,
          32,
          69,
          190,
          193,
          62,
          52,
          7,
          70,
          81,
          102,
          22,
          40,
          26,
          46,
          112,
          66,
          103,
          69,
          83,
          97,
          93,
          52,
          84,
          61,
          62
         ],
         "yaxis": "y"
        },
        {
         "hovertemplate": "region=Peru<br>Year=%{x}<br>Nb of athletes=%{y}<extra></extra>",
         "legendgroup": "Peru",
         "line": {
          "color": "#B6E880",
          "dash": "solid"
         },
         "marker": {
          "symbol": "circle"
         },
         "mode": "lines",
         "name": "Peru",
         "showlegend": true,
         "type": "scattergl",
         "x": [
          1900,
          1932,
          1936,
          1948,
          1956,
          1960,
          1964,
          1968,
          1972,
          1976,
          1980,
          1984,
          1988,
          1992,
          1996,
          2000,
          2004,
          2008,
          2012,
          2016
         ],
         "xaxis": "x",
         "y": [
          1,
          2,
          40,
          41,
          8,
          31,
          31,
          28,
          20,
          13,
          28,
          35,
          21,
          16,
          29,
          21,
          12,
          13,
          16,
          29
         ],
         "yaxis": "y"
        },
        {
         "hovertemplate": "region=Romania<br>Year=%{x}<br>Nb of athletes=%{y}<extra></extra>",
         "legendgroup": "Romania",
         "line": {
          "color": "#FF97FF",
          "dash": "solid"
         },
         "marker": {
          "symbol": "circle"
         },
         "mode": "lines",
         "name": "Romania",
         "showlegend": true,
         "type": "scattergl",
         "x": [
          1900,
          1924,
          1928,
          1932,
          1936,
          1952,
          1956,
          1960,
          1964,
          1968,
          1972,
          1976,
          1980,
          1984,
          1988,
          1992,
          1996,
          2000,
          2004,
          2008,
          2012,
          2016
         ],
         "xaxis": "x",
         "y": [
          1,
          35,
          21,
          1,
          54,
          114,
          50,
          98,
          138,
          82,
          159,
          157,
          228,
          124,
          68,
          173,
          165,
          145,
          108,
          101,
          105,
          95
         ],
         "yaxis": "y"
        },
        {
         "hovertemplate": "region=Russia<br>Year=%{x}<br>Nb of athletes=%{y}<extra></extra>",
         "legendgroup": "Russia",
         "line": {
          "color": "#FECB52",
          "dash": "solid"
         },
         "marker": {
          "symbol": "circle"
         },
         "mode": "lines",
         "name": "Russia",
         "showlegend": true,
         "type": "scattergl",
         "x": [
          1900,
          1908,
          1912,
          1924,
          1952,
          1956,
          1960,
          1964,
          1968,
          1972,
          1976,
          1980,
          1988,
          1992,
          1996,
          2000,
          2004,
          2008,
          2012,
          2016
         ],
         "xaxis": "x",
         "y": [
          4,
          6,
          159,
          3,
          295,
          281,
          283,
          317,
          312,
          371,
          410,
          489,
          481,
          475,
          390,
          435,
          446,
          454,
          429,
          284
         ],
         "yaxis": "y"
        },
        {
         "hovertemplate": "region=Spain<br>Year=%{x}<br>Nb of athletes=%{y}<extra></extra>",
         "legendgroup": "Spain",
         "line": {
          "color": "#636efa",
          "dash": "solid"
         },
         "marker": {
          "symbol": "circle"
         },
         "mode": "lines",
         "name": "Spain",
         "showlegend": true,
         "type": "scattergl",
         "x": [
          1900,
          1920,
          1924,
          1928,
          1932,
          1948,
          1952,
          1956,
          1960,
          1964,
          1968,
          1972,
          1976,
          1980,
          1984,
          1988,
          1992,
          1996,
          2000,
          2004,
          2008,
          2012,
          2016
         ],
         "xaxis": "x",
         "y": [
          9,
          58,
          95,
          80,
          7,
          65,
          27,
          6,
          144,
          51,
          122,
          123,
          113,
          155,
          179,
          229,
          422,
          289,
          321,
          316,
          283,
          278,
          307
         ],
         "yaxis": "y"
        },
        {
         "hovertemplate": "region=South Africa<br>Year=%{x}<br>Nb of athletes=%{y}<extra></extra>",
         "legendgroup": "South Africa",
         "line": {
          "color": "#EF553B",
          "dash": "solid"
         },
         "marker": {
          "symbol": "circle"
         },
         "mode": "lines",
         "name": "South Africa",
         "showlegend": true,
         "type": "scattergl",
         "x": [
          1904,
          1908,
          1912,
          1920,
          1924,
          1928,
          1932,
          1936,
          1948,
          1952,
          1956,
          1960,
          1992,
          1996,
          2000,
          2004,
          2008,
          2012,
          2016
         ],
         "xaxis": "x",
         "y": [
          8,
          14,
          21,
          39,
          30,
          24,
          12,
          32,
          35,
          64,
          50,
          55,
          93,
          84,
          127,
          106,
          134,
          124,
          135
         ],
         "yaxis": "y"
        },
        {
         "hovertemplate": "region=Egypt<br>Year=%{x}<br>Nb of athletes=%{y}<extra></extra>",
         "legendgroup": "Egypt",
         "line": {
          "color": "#00cc96",
          "dash": "solid"
         },
         "marker": {
          "symbol": "circle"
         },
         "mode": "lines",
         "name": "Egypt",
         "showlegend": true,
         "type": "scattergl",
         "x": [
          1906,
          1920,
          1924,
          1928,
          1936,
          1948,
          1952,
          1956,
          1964,
          1968,
          1972,
          1976,
          1984,
          1988,
          1992,
          1996,
          2000,
          2004,
          2008,
          2012,
          2016
         ],
         "xaxis": "x",
         "y": [
          2,
          18,
          24,
          32,
          53,
          85,
          106,
          3,
          73,
          30,
          23,
          26,
          114,
          49,
          75,
          29,
          89,
          97,
          100,
          109,
          121
         ],
         "yaxis": "y"
        },
        {
         "hovertemplate": "region=Finland<br>Year=%{x}<br>Nb of athletes=%{y}<extra></extra>",
         "legendgroup": "Finland",
         "line": {
          "color": "#ab63fa",
          "dash": "solid"
         },
         "marker": {
          "symbol": "circle"
         },
         "mode": "lines",
         "name": "Finland",
         "showlegend": true,
         "type": "scattergl",
         "x": [
          1906,
          1908,
          1912,
          1920,
          1924,
          1928,
          1932,
          1936,
          1948,
          1952,
          1956,
          1960,
          1964,
          1968,
          1972,
          1976,
          1980,
          1984,
          1988,
          1992,
          1996,
          2000,
          2004,
          2008,
          2012,
          2016
         ],
         "xaxis": "x",
         "y": [
          4,
          62,
          164,
          63,
          121,
          69,
          40,
          108,
          129,
          258,
          71,
          117,
          89,
          66,
          96,
          83,
          105,
          86,
          78,
          88,
          76,
          70,
          53,
          57,
          56,
          54
         ],
         "yaxis": "y"
        },
        {
         "hovertemplate": "region=Turkey<br>Year=%{x}<br>Nb of athletes=%{y}<extra></extra>",
         "legendgroup": "Turkey",
         "line": {
          "color": "#FFA15A",
          "dash": "solid"
         },
         "marker": {
          "symbol": "circle"
         },
         "mode": "lines",
         "name": "Turkey",
         "showlegend": true,
         "type": "scattergl",
         "x": [
          1906,
          1912,
          1924,
          1928,
          1932,
          1936,
          1948,
          1952,
          1956,
          1960,
          1964,
          1968,
          1972,
          1976,
          1984,
          1988,
          1992,
          1996,
          2000,
          2004,
          2008,
          2012,
          2016
         ],
         "xaxis": "x",
         "y": [
          1,
          2,
          22,
          31,
          1,
          48,
          58,
          51,
          19,
          49,
          23,
          29,
          43,
          27,
          46,
          41,
          41,
          53,
          57,
          64,
          67,
          112,
          100
         ],
         "yaxis": "y"
        },
        {
         "hovertemplate": "region=Iceland<br>Year=%{x}<br>Nb of athletes=%{y}<extra></extra>",
         "legendgroup": "Iceland",
         "line": {
          "color": "#19d3f3",
          "dash": "solid"
         },
         "marker": {
          "symbol": "circle"
         },
         "mode": "lines",
         "name": "Iceland",
         "showlegend": true,
         "type": "scattergl",
         "x": [
          1908,
          1912,
          1936,
          1948,
          1952,
          1956,
          1960,
          1964,
          1968,
          1972,
          1976,
          1980,
          1984,
          1988,
          1992,
          1996,
          2000,
          2004,
          2008,
          2012,
          2016
         ],
         "xaxis": "x",
         "y": [
          1,
          2,
          12,
          20,
          9,
          2,
          9,
          4,
          8,
          25,
          13,
          9,
          30,
          32,
          27,
          9,
          18,
          26,
          27,
          27,
          8
         ],
         "yaxis": "y"
        },
        {
         "hovertemplate": "region=Chile<br>Year=%{x}<br>Nb of athletes=%{y}<extra></extra>",
         "legendgroup": "Chile",
         "line": {
          "color": "#FF6692",
          "dash": "solid"
         },
         "marker": {
          "symbol": "circle"
         },
         "mode": "lines",
         "name": "Chile",
         "showlegend": true,
         "type": "scattergl",
         "x": [
          1912,
          1920,
          1924,
          1928,
          1936,
          1948,
          1952,
          1956,
          1960,
          1964,
          1968,
          1972,
          1976,
          1984,
          1988,
          1992,
          1996,
          2000,
          2004,
          2008,
          2012,
          2016
         ],
         "xaxis": "x",
         "y": [
          14,
          2,
          13,
          38,
          40,
          54,
          59,
          33,
          9,
          14,
          21,
          11,
          7,
          52,
          17,
          12,
          21,
          50,
          22,
          26,
          35,
          42
         ],
         "yaxis": "y"
        },
        {
         "hovertemplate": "region=Japan<br>Year=%{x}<br>Nb of athletes=%{y}<extra></extra>",
         "legendgroup": "Japan",
         "line": {
          "color": "#B6E880",
          "dash": "solid"
         },
         "marker": {
          "symbol": "circle"
         },
         "mode": "lines",
         "name": "Japan",
         "showlegend": true,
         "type": "scattergl",
         "x": [
          1912,
          1920,
          1924,
          1928,
          1932,
          1936,
          1952,
          1956,
          1960,
          1964,
          1968,
          1972,
          1976,
          1984,
          1988,
          1992,
          1996,
          2000,
          2004,
          2008,
          2012,
          2016
         ],
         "xaxis": "x",
         "y": [
          2,
          15,
          19,
          40,
          157,
          220,
          69,
          112,
          162,
          328,
          171,
          184,
          213,
          226,
          255,
          256,
          306,
          266,
          306,
          332,
          291,
          335
         ],
         "yaxis": "y"
        },
        {
         "hovertemplate": "region=Poland<br>Year=%{x}<br>Nb of athletes=%{y}<extra></extra>",
         "legendgroup": "Poland",
         "line": {
          "color": "#FF97FF",
          "dash": "solid"
         },
         "marker": {
          "symbol": "circle"
         },
         "mode": "lines",
         "name": "Poland",
         "showlegend": true,
         "type": "scattergl",
         "x": [
          1912,
          1924,
          1928,
          1932,
          1936,
          1948,
          1952,
          1956,
          1960,
          1964,
          1968,
          1972,
          1976,
          1980,
          1988,
          1992,
          1996,
          2000,
          2004,
          2008,
          2012,
          2016
         ],
         "xaxis": "x",
         "y": [
          1,
          65,
          93,
          51,
          144,
          38,
          125,
          64,
          185,
          140,
          177,
          290,
          207,
          306,
          143,
          201,
          165,
          187,
          194,
          257,
          210,
          234
         ],
         "yaxis": "y"
        },
        {
         "hovertemplate": "region=Portugal<br>Year=%{x}<br>Nb of athletes=%{y}<extra></extra>",
         "legendgroup": "Portugal",
         "line": {
          "color": "#FECB52",
          "dash": "solid"
         },
         "marker": {
          "symbol": "circle"
         },
         "mode": "lines",
         "name": "Portugal",
         "showlegend": true,
         "type": "scattergl",
         "x": [
          1912,
          1920,
          1924,
          1928,
          1932,
          1936,
          1948,
          1952,
          1956,
          1960,
          1964,
          1968,
          1972,
          1976,
          1980,
          1984,
          1988,
          1992,
          1996,
          2000,
          2004,
          2008,
          2012,
          2016
         ],
         "xaxis": "x",
         "y": [
          6,
          13,
          28,
          32,
          6,
          19,
          48,
          71,
          12,
          65,
          20,
          20,
          29,
          19,
          11,
          38,
          65,
          90,
          107,
          61,
          81,
          77,
          76,
          90
         ],
         "yaxis": "y"
        },
        {
         "hovertemplate": "region=Serbia<br>Year=%{x}<br>Nb of athletes=%{y}<extra></extra>",
         "legendgroup": "Serbia",
         "line": {
          "color": "#636efa",
          "dash": "solid"
         },
         "marker": {
          "symbol": "circle"
         },
         "mode": "lines",
         "name": "Serbia",
         "showlegend": true,
         "type": "scattergl",
         "x": [
          1912,
          1920,
          1924,
          1928,
          1932,
          1936,
          1948,
          1952,
          1956,
          1960,
          1964,
          1968,
          1972,
          1976,
          1980,
          1984,
          1988,
          1996,
          2000,
          2004,
          2008,
          2012,
          2016
         ],
         "xaxis": "x",
         "y": [
          2,
          15,
          42,
          34,
          1,
          93,
          90,
          87,
          35,
          116,
          75,
          69,
          126,
          88,
          164,
          139,
          155,
          68,
          109,
          85,
          87,
          116,
          103
         ],
         "yaxis": "y"
        },
        {
         "hovertemplate": "region=Estonia<br>Year=%{x}<br>Nb of athletes=%{y}<extra></extra>",
         "legendgroup": "Estonia",
         "line": {
          "color": "#EF553B",
          "dash": "solid"
         },
         "marker": {
          "symbol": "circle"
         },
         "mode": "lines",
         "name": "Estonia",
         "showlegend": true,
         "type": "scattergl",
         "x": [
          1920,
          1924,
          1928,
          1932,
          1936,
          1992,
          1996,
          2000,
          2004,
          2008,
          2012,
          2016
         ],
         "xaxis": "x",
         "y": [
          14,
          37,
          20,
          2,
          33,
          37,
          43,
          33,
          42,
          47,
          32,
          46
         ],
         "yaxis": "y"
        },
        {
         "hovertemplate": "region=Monaco<br>Year=%{x}<br>Nb of athletes=%{y}<extra></extra>",
         "legendgroup": "Monaco",
         "line": {
          "color": "#00cc96",
          "dash": "solid"
         },
         "marker": {
          "symbol": "circle"
         },
         "mode": "lines",
         "name": "Monaco",
         "showlegend": true,
         "type": "scattergl",
         "x": [
          1920,
          1924,
          1928,
          1932,
          1936,
          1948,
          1952,
          1960,
          1964,
          1968,
          1972,
          1976,
          1984,
          1988,
          1992,
          1996,
          2000,
          2004,
          2008,
          2012,
          2016
         ],
         "xaxis": "x",
         "y": [
          4,
          7,
          10,
          1,
          8,
          4,
          8,
          11,
          1,
          2,
          5,
          8,
          8,
          9,
          2,
          3,
          4,
          3,
          5,
          6,
          3
         ],
         "yaxis": "y"
        },
        {
         "hovertemplate": "region=Bulgaria<br>Year=%{x}<br>Nb of athletes=%{y}<extra></extra>",
         "legendgroup": "Bulgaria",
         "line": {
          "color": "#ab63fa",
          "dash": "solid"
         },
         "marker": {
          "symbol": "circle"
         },
         "mode": "lines",
         "name": "Bulgaria",
         "showlegend": true,
         "type": "scattergl",
         "x": [
          1924,
          1928,
          1932,
          1936,
          1952,
          1956,
          1960,
          1964,
          1968,
          1972,
          1976,
          1980,
          1988,
          1992,
          1996,
          2000,
          2004,
          2008,
          2012,
          2016
         ],
         "xaxis": "x",
         "y": [
          24,
          5,
          2,
          26,
          63,
          47,
          98,
          63,
          112,
          130,
          158,
          271,
          172,
          138,
          110,
          91,
          95,
          70,
          63,
          51
         ],
         "yaxis": "y"
        },
        {
         "hovertemplate": "region=Ecuador<br>Year=%{x}<br>Nb of athletes=%{y}<extra></extra>",
         "legendgroup": "Ecuador",
         "line": {
          "color": "#FFA15A",
          "dash": "solid"
         },
         "marker": {
          "symbol": "circle"
         },
         "mode": "lines",
         "name": "Ecuador",
         "showlegend": true,
         "type": "scattergl",
         "x": [
          1924,
          1968,
          1972,
          1976,
          1980,
          1984,
          1988,
          1992,
          1996,
          2000,
          2004,
          2008,
          2012,
          2016
         ],
         "xaxis": "x",
         "y": [
          3,
          15,
          2,
          5,
          12,
          11,
          13,
          13,
          19,
          10,
          16,
          25,
          36,
          37
         ],
         "yaxis": "y"
        },
        {
         "hovertemplate": "region=Ireland<br>Year=%{x}<br>Nb of athletes=%{y}<extra></extra>",
         "legendgroup": "Ireland",
         "line": {
          "color": "#19d3f3",
          "dash": "solid"
         },
         "marker": {
          "symbol": "circle"
         },
         "mode": "lines",
         "name": "Ireland",
         "showlegend": true,
         "type": "scattergl",
         "x": [
          1924,
          1928,
          1932,
          1948,
          1952,
          1956,
          1960,
          1964,
          1968,
          1972,
          1976,
          1980,
          1984,
          1988,
          1992,
          1996,
          2000,
          2004,
          2008,
          2012,
          2016
         ],
         "xaxis": "x",
         "y": [
          48,
          38,
          16,
          73,
          19,
          18,
          49,
          25,
          31,
          59,
          44,
          47,
          42,
          61,
          58,
          78,
          64,
          46,
          55,
          64,
          76
         ],
         "yaxis": "y"
        },
        {
         "hovertemplate": "region=Latvia<br>Year=%{x}<br>Nb of athletes=%{y}<extra></extra>",
         "legendgroup": "Latvia",
         "line": {
          "color": "#FF6692",
          "dash": "solid"
         },
         "marker": {
          "symbol": "circle"
         },
         "mode": "lines",
         "name": "Latvia",
         "showlegend": true,
         "type": "scattergl",
         "x": [
          1924,
          1928,
          1932,
          1936,
          1992,
          1996,
          2000,
          2004,
          2008,
          2012,
          2016
         ],
         "xaxis": "x",
         "y": [
          36,
          17,
          5,
          29,
          34,
          47,
          45,
          32,
          47,
          45,
          32
         ],
         "yaxis": "y"
        },
        {
         "hovertemplate": "region=Lithuania<br>Year=%{x}<br>Nb of athletes=%{y}<extra></extra>",
         "legendgroup": "Lithuania",
         "line": {
          "color": "#B6E880",
          "dash": "solid"
         },
         "marker": {
          "symbol": "circle"
         },
         "mode": "lines",
         "name": "Lithuania",
         "showlegend": true,
         "type": "scattergl",
         "x": [
          1924,
          1928,
          1992,
          1996,
          2000,
          2004,
          2008,
          2012,
          2016
         ],
         "xaxis": "x",
         "y": [
          13,
          12,
          47,
          61,
          61,
          59,
          71,
          62,
          67
         ],
         "yaxis": "y"
        },
        {
         "hovertemplate": "region=Philippines<br>Year=%{x}<br>Nb of athletes=%{y}<extra></extra>",
         "legendgroup": "Philippines",
         "line": {
          "color": "#FF97FF",
          "dash": "solid"
         },
         "marker": {
          "symbol": "circle"
         },
         "mode": "lines",
         "name": "Philippines",
         "showlegend": true,
         "type": "scattergl",
         "x": [
          1924,
          1928,
          1932,
          1936,
          1948,
          1952,
          1956,
          1960,
          1964,
          1968,
          1972,
          1976,
          1984,
          1988,
          1992,
          1996,
          2000,
          2004,
          2008,
          2012,
          2016
         ],
         "xaxis": "x",
         "y": [
          1,
          4,
          8,
          28,
          26,
          25,
          39,
          40,
          47,
          49,
          53,
          14,
          19,
          31,
          26,
          12,
          20,
          16,
          15,
          11,
          13
         ],
         "yaxis": "y"
        },
        {
         "hovertemplate": "region=Uruguay<br>Year=%{x}<br>Nb of athletes=%{y}<extra></extra>",
         "legendgroup": "Uruguay",
         "line": {
          "color": "#FECB52",
          "dash": "solid"
         },
         "marker": {
          "symbol": "circle"
         },
         "mode": "lines",
         "name": "Uruguay",
         "showlegend": true,
         "type": "scattergl",
         "x": [
          1924,
          1928,
          1932,
          1936,
          1948,
          1952,
          1956,
          1960,
          1964,
          1968,
          1972,
          1976,
          1984,
          1988,
          1992,
          1996,
          2000,
          2004,
          2008,
          2012,
          2016
         ],
         "xaxis": "x",
         "y": [
          26,
          17,
          2,
          37,
          61,
          32,
          21,
          34,
          23,
          27,
          13,
          9,
          18,
          15,
          16,
          14,
          15,
          15,
          12,
          27,
          17
         ],
         "yaxis": "y"
        },
        {
         "hovertemplate": "region=Malta<br>Year=%{x}<br>Nb of athletes=%{y}<extra></extra>",
         "legendgroup": "Malta",
         "line": {
          "color": "#636efa",
          "dash": "solid"
         },
         "marker": {
          "symbol": "circle"
         },
         "mode": "lines",
         "name": "Malta",
         "showlegend": true,
         "type": "scattergl",
         "x": [
          1928,
          1936,
          1948,
          1960,
          1968,
          1972,
          1980,
          1984,
          1988,
          1992,
          1996,
          2000,
          2004,
          2008,
          2012,
          2016
         ],
         "xaxis": "x",
         "y": [
          9,
          11,
          1,
          10,
          1,
          5,
          8,
          7,
          6,
          6,
          7,
          7,
          7,
          6,
          5,
          7
         ],
         "yaxis": "y"
        },
        {
         "hovertemplate": "region=Panama<br>Year=%{x}<br>Nb of athletes=%{y}<extra></extra>",
         "legendgroup": "Panama",
         "line": {
          "color": "#EF553B",
          "dash": "solid"
         },
         "marker": {
          "symbol": "circle"
         },
         "mode": "lines",
         "name": "Panama",
         "showlegend": true,
         "type": "scattergl",
         "x": [
          1928,
          1948,
          1952,
          1960,
          1964,
          1968,
          1972,
          1976,
          1984,
          1988,
          1992,
          1996,
          2000,
          2004,
          2008,
          2012,
          2016
         ],
         "xaxis": "x",
         "y": [
          1,
          1,
          1,
          6,
          10,
          16,
          7,
          8,
          8,
          6,
          5,
          7,
          6,
          4,
          5,
          8,
          10
         ],
         "yaxis": "y"
        },
        {
         "hovertemplate": "region=Zimbabwe<br>Year=%{x}<br>Nb of athletes=%{y}<extra></extra>",
         "legendgroup": "Zimbabwe",
         "line": {
          "color": "#00cc96",
          "dash": "solid"
         },
         "marker": {
          "symbol": "circle"
         },
         "mode": "lines",
         "name": "Zimbabwe",
         "showlegend": true,
         "type": "scattergl",
         "x": [
          1928,
          1960,
          1964,
          1980,
          1984,
          1988,
          1992,
          1996,
          2000,
          2004,
          2008,
          2012,
          2016
         ],
         "xaxis": "x",
         "y": [
          2,
          14,
          29,
          42,
          15,
          29,
          19,
          13,
          16,
          12,
          13,
          7,
          30
         ],
         "yaxis": "y"
        },
        {
         "hovertemplate": "region=China<br>Year=%{x}<br>Nb of athletes=%{y}<extra></extra>",
         "legendgroup": "China",
         "line": {
          "color": "#ab63fa",
          "dash": "solid"
         },
         "marker": {
          "symbol": "circle"
         },
         "mode": "lines",
         "name": "China",
         "showlegend": true,
         "type": "scattergl",
         "x": [
          1932,
          1936,
          1948,
          1952,
          1956,
          1960,
          1964,
          1968,
          1972,
          1976,
          1984,
          1988,
          1992,
          1996,
          2000,
          2004,
          2008,
          2012,
          2016
         ],
         "xaxis": "x",
         "y": [
          1,
          54,
          31,
          5,
          2,
          4,
          39,
          11,
          10,
          25,
          262,
          321,
          282,
          317,
          302,
          415,
          633,
          416,
          429
         ],
         "yaxis": "y"
        },
        {
         "hovertemplate": "region=El Salvador<br>Year=%{x}<br>Nb of athletes=%{y}<extra></extra>",
         "legendgroup": "El Salvador",
         "line": {
          "color": "#FFA15A",
          "dash": "solid"
         },
         "marker": {
          "symbol": "circle"
         },
         "mode": "lines",
         "name": "El Salvador",
         "showlegend": true,
         "type": "scattergl",
         "x": [
          1932,
          1968,
          1972,
          1984,
          1988,
          1992,
          1996,
          2000,
          2004,
          2008,
          2012,
          2016
         ],
         "xaxis": "x",
         "y": [
          1,
          60,
          11,
          10,
          6,
          4,
          8,
          8,
          7,
          11,
          10,
          8
         ],
         "yaxis": "y"
        },
        {
         "hovertemplate": "region=Guatemala<br>Year=%{x}<br>Nb of athletes=%{y}<extra></extra>",
         "legendgroup": "Guatemala",
         "line": {
          "color": "#19d3f3",
          "dash": "solid"
         },
         "marker": {
          "symbol": "circle"
         },
         "mode": "lines",
         "name": "Guatemala",
         "showlegend": true,
         "type": "scattergl",
         "x": [
          1932,
          1952,
          1968,
          1972,
          1976,
          1980,
          1984,
          1988,
          1992,
          1996,
          2000,
          2004,
          2008,
          2012,
          2016
         ],
         "xaxis": "x",
         "y": [
          1,
          21,
          48,
          8,
          28,
          10,
          24,
          28,
          14,
          26,
          15,
          18,
          12,
          19,
          21
         ],
         "yaxis": "y"
        },
        {
         "hovertemplate": "region=Venezuela<br>Year=%{x}<br>Nb of athletes=%{y}<extra></extra>",
         "legendgroup": "Venezuela",
         "line": {
          "color": "#FF6692",
          "dash": "solid"
         },
         "marker": {
          "symbol": "circle"
         },
         "mode": "lines",
         "name": "Venezuela",
         "showlegend": true,
         "type": "scattergl",
         "x": [
          1932,
          1948,
          1952,
          1956,
          1960,
          1964,
          1968,
          1972,
          1976,
          1980,
          1984,
          1988,
          1992,
          1996,
          2000,
          2004,
          2008,
          2012,
          2016
         ],
         "xaxis": "x",
         "y": [
          1,
          1,
          38,
          22,
          36,
          16,
          23,
          23,
          32,
          37,
          26,
          17,
          26,
          39,
          50,
          48,
          108,
          68,
          85
         ],
         "yaxis": "y"
        },
        {
         "hovertemplate": "region=Afghanistan<br>Year=%{x}<br>Nb of athletes=%{y}<extra></extra>",
         "legendgroup": "Afghanistan",
         "line": {
          "color": "#B6E880",
          "dash": "solid"
         },
         "marker": {
          "symbol": "circle"
         },
         "mode": "lines",
         "name": "Afghanistan",
         "showlegend": true,
         "type": "scattergl",
         "x": [
          1936,
          1948,
          1956,
          1960,
          1964,
          1968,
          1972,
          1980,
          1988,
          1996,
          2004,
          2008,
          2012,
          2016
         ],
         "xaxis": "x",
         "y": [
          15,
          25,
          12,
          12,
          8,
          5,
          8,
          11,
          5,
          2,
          5,
          4,
          6,
          3
         ],
         "yaxis": "y"
        },
        {
         "hovertemplate": "region=Bermuda<br>Year=%{x}<br>Nb of athletes=%{y}<extra></extra>",
         "legendgroup": "Bermuda",
         "line": {
          "color": "#FF97FF",
          "dash": "solid"
         },
         "marker": {
          "symbol": "circle"
         },
         "mode": "lines",
         "name": "Bermuda",
         "showlegend": true,
         "type": "scattergl",
         "x": [
          1936,
          1948,
          1952,
          1956,
          1960,
          1964,
          1968,
          1972,
          1976,
          1984,
          1988,
          1992,
          1996,
          2000,
          2004,
          2008,
          2012,
          2016
         ],
         "xaxis": "x",
         "y": [
          5,
          12,
          6,
          3,
          9,
          4,
          6,
          9,
          16,
          12,
          12,
          20,
          9,
          6,
          10,
          6,
          8,
          8
         ],
         "yaxis": "y"
        },
        {
         "hovertemplate": "region=Boliva<br>Year=%{x}<br>Nb of athletes=%{y}<extra></extra>",
         "legendgroup": "Boliva",
         "line": {
          "color": "#FECB52",
          "dash": "solid"
         },
         "marker": {
          "symbol": "circle"
         },
         "mode": "lines",
         "name": "Boliva",
         "showlegend": true,
         "type": "scattergl",
         "x": [
          1936,
          1964,
          1968,
          1972,
          1976,
          1984,
          1988,
          1992,
          1996,
          2000,
          2004,
          2008,
          2012,
          2016
         ],
         "xaxis": "x",
         "y": [
          2,
          1,
          4,
          11,
          4,
          11,
          7,
          13,
          8,
          5,
          7,
          7,
          5,
          12
         ],
         "yaxis": "y"
        },
        {
         "hovertemplate": "region=Costa Rica<br>Year=%{x}<br>Nb of athletes=%{y}<extra></extra>",
         "legendgroup": "Costa Rica",
         "line": {
          "color": "#636efa",
          "dash": "solid"
         },
         "marker": {
          "symbol": "circle"
         },
         "mode": "lines",
         "name": "Costa Rica",
         "showlegend": true,
         "type": "scattergl",
         "x": [
          1936,
          1964,
          1968,
          1972,
          1976,
          1980,
          1984,
          1988,
          1992,
          1996,
          2000,
          2004,
          2008,
          2012,
          2016
         ],
         "xaxis": "x",
         "y": [
          1,
          2,
          18,
          3,
          5,
          29,
          28,
          16,
          16,
          11,
          7,
          20,
          8,
          11,
          11
         ],
         "yaxis": "y"
        },
        {
         "hovertemplate": "region=Liechtenstein<br>Year=%{x}<br>Nb of athletes=%{y}<extra></extra>",
         "legendgroup": "Liechtenstein",
         "line": {
          "color": "#EF553B",
          "dash": "solid"
         },
         "marker": {
          "symbol": "circle"
         },
         "mode": "lines",
         "name": "Liechtenstein",
         "showlegend": true,
         "type": "scattergl",
         "x": [
          1936,
          1948,
          1952,
          1960,
          1964,
          1968,
          1972,
          1976,
          1984,
          1988,
          1992,
          1996,
          2000,
          2004,
          2008,
          2012,
          2016
         ],
         "xaxis": "x",
         "y": [
          6,
          2,
          2,
          5,
          2,
          2,
          6,
          6,
          7,
          12,
          7,
          2,
          2,
          1,
          2,
          3,
          3
         ],
         "yaxis": "y"
        },
        {
         "hovertemplate": "region=Guyana<br>Year=%{x}<br>Nb of athletes=%{y}<extra></extra>",
         "legendgroup": "Guyana",
         "line": {
          "color": "#00cc96",
          "dash": "solid"
         },
         "marker": {
          "symbol": "circle"
         },
         "mode": "lines",
         "name": "Guyana",
         "showlegend": true,
         "type": "scattergl",
         "x": [
          1948,
          1952,
          1956,
          1960,
          1964,
          1968,
          1972,
          1980,
          1984,
          1988,
          1992,
          1996,
          2000,
          2004,
          2008,
          2012,
          2016
         ],
         "xaxis": "x",
         "y": [
          4,
          1,
          4,
          5,
          1,
          5,
          3,
          8,
          10,
          8,
          6,
          7,
          4,
          4,
          4,
          6,
          6
         ],
         "yaxis": "y"
        },
        {
         "hovertemplate": "region=Iraq<br>Year=%{x}<br>Nb of athletes=%{y}<extra></extra>",
         "legendgroup": "Iraq",
         "line": {
          "color": "#ab63fa",
          "dash": "solid"
         },
         "marker": {
          "symbol": "circle"
         },
         "mode": "lines",
         "name": "Iraq",
         "showlegend": true,
         "type": "scattergl",
         "x": [
          1948,
          1960,
          1964,
          1968,
          1980,
          1984,
          1988,
          1992,
          1996,
          2000,
          2004,
          2008,
          2012,
          2016
         ],
         "xaxis": "x",
         "y": [
          11,
          21,
          13,
          3,
          43,
          23,
          27,
          8,
          3,
          4,
          24,
          4,
          8,
          20
         ],
         "yaxis": "y"
        },
        {
         "hovertemplate": "region=Jamaica<br>Year=%{x}<br>Nb of athletes=%{y}<extra></extra>",
         "legendgroup": "Jamaica",
         "line": {
          "color": "#FFA15A",
          "dash": "solid"
         },
         "marker": {
          "symbol": "circle"
         },
         "mode": "lines",
         "name": "Jamaica",
         "showlegend": true,
         "type": "scattergl",
         "x": [
          1948,
          1952,
          1956,
          1964,
          1968,
          1972,
          1976,
          1980,
          1984,
          1988,
          1992,
          1996,
          2000,
          2004,
          2008,
          2012,
          2016
         ],
         "xaxis": "x",
         "y": [
          13,
          8,
          6,
          21,
          25,
          33,
          20,
          18,
          45,
          35,
          36,
          46,
          48,
          47,
          50,
          45,
          56
         ],
         "yaxis": "y"
        },
        {
         "hovertemplate": "region=Lebanon<br>Year=%{x}<br>Nb of athletes=%{y}<extra></extra>",
         "legendgroup": "Lebanon",
         "line": {
          "color": "#19d3f3",
          "dash": "solid"
         },
         "marker": {
          "symbol": "circle"
         },
         "mode": "lines",
         "name": "Lebanon",
         "showlegend": true,
         "type": "scattergl",
         "x": [
          1948,
          1952,
          1960,
          1964,
          1968,
          1972,
          1976,
          1980,
          1984,
          1988,
          1992,
          1996,
          2000,
          2004,
          2008,
          2012,
          2016
         ],
         "xaxis": "x",
         "y": [
          8,
          9,
          19,
          5,
          11,
          19,
          3,
          15,
          22,
          21,
          12,
          1,
          6,
          5,
          6,
          10,
          9
         ],
         "yaxis": "y"
        },
        {
         "hovertemplate": "region=Myanmar<br>Year=%{x}<br>Nb of athletes=%{y}<extra></extra>",
         "legendgroup": "Myanmar",
         "line": {
          "color": "#FF6692",
          "dash": "solid"
         },
         "marker": {
          "symbol": "circle"
         },
         "mode": "lines",
         "name": "Myanmar",
         "showlegend": true,
         "type": "scattergl",
         "x": [
          1948,
          1952,
          1956,
          1960,
          1964,
          1968,
          1972,
          1980,
          1984,
          1988,
          1992,
          1996,
          2000,
          2004,
          2008,
          2012,
          2016
         ],
         "xaxis": "x",
         "y": [
          4,
          5,
          11,
          10,
          11,
          4,
          18,
          2,
          1,
          2,
          4,
          3,
          7,
          2,
          6,
          6,
          7
         ],
         "yaxis": "y"
        },
        {
         "hovertemplate": "region=Pakistan<br>Year=%{x}<br>Nb of athletes=%{y}<extra></extra>",
         "legendgroup": "Pakistan",
         "line": {
          "color": "#B6E880",
          "dash": "solid"
         },
         "marker": {
          "symbol": "circle"
         },
         "mode": "lines",
         "name": "Pakistan",
         "showlegend": true,
         "type": "scattergl",
         "x": [
          1948,
          1952,
          1956,
          1960,
          1964,
          1968,
          1972,
          1976,
          1984,
          1988,
          1992,
          1996,
          2000,
          2004,
          2008,
          2012,
          2016
         ],
         "xaxis": "x",
         "y": [
          35,
          38,
          55,
          44,
          41,
          15,
          25,
          24,
          31,
          30,
          27,
          24,
          27,
          26,
          21,
          21,
          7
         ],
         "yaxis": "y"
        },
        {
         "hovertemplate": "region=Puerto Rico<br>Year=%{x}<br>Nb of athletes=%{y}<extra></extra>",
         "legendgroup": "Puerto Rico",
         "line": {
          "color": "#FF97FF",
          "dash": "solid"
         },
         "marker": {
          "symbol": "circle"
         },
         "mode": "lines",
         "name": "Puerto Rico",
         "showlegend": true,
         "type": "scattergl",
         "x": [
          1948,
          1952,
          1956,
          1960,
          1964,
          1968,
          1972,
          1976,
          1980,
          1984,
          1988,
          1992,
          1996,
          2000,
          2004,
          2008,
          2012,
          2016
         ],
         "xaxis": "x",
         "y": [
          9,
          21,
          10,
          27,
          32,
          58,
          53,
          80,
          3,
          51,
          47,
          71,
          69,
          29,
          43,
          22,
          25,
          40
         ],
         "yaxis": "y"
        },
        {
         "hovertemplate": "region=South Korea<br>Year=%{x}<br>Nb of athletes=%{y}<extra></extra>",
         "legendgroup": "South Korea",
         "line": {
          "color": "#FECB52",
          "dash": "solid"
         },
         "marker": {
          "symbol": "circle"
         },
         "mode": "lines",
         "name": "South Korea",
         "showlegend": true,
         "type": "scattergl",
         "x": [
          1948,
          1952,
          1956,
          1960,
          1964,
          1968,
          1972,
          1976,
          1984,
          1988,
          1992,
          1996,
          2000,
          2004,
          2008,
          2012,
          2016
         ],
         "xaxis": "x",
         "y": [
          46,
          19,
          35,
          35,
          154,
          54,
          42,
          50,
          175,
          401,
          226,
          303,
          281,
          264,
          265,
          250,
          207
         ],
         "yaxis": "y"
        },
        {
         "hovertemplate": "region=Sri Lanka<br>Year=%{x}<br>Nb of athletes=%{y}<extra></extra>",
         "legendgroup": "Sri Lanka",
         "line": {
          "color": "#636efa",
          "dash": "solid"
         },
         "marker": {
          "symbol": "circle"
         },
         "mode": "lines",
         "name": "Sri Lanka",
         "showlegend": true,
         "type": "scattergl",
         "x": [
          1948,
          1952,
          1956,
          1960,
          1964,
          1968,
          1972,
          1980,
          1984,
          1988,
          1992,
          1996,
          2000,
          2004,
          2008,
          2012,
          2016
         ],
         "xaxis": "x",
         "y": [
          7,
          5,
          3,
          5,
          6,
          3,
          4,
          4,
          4,
          6,
          11,
          9,
          18,
          7,
          8,
          7,
          9
         ],
         "yaxis": "y"
        },
        {
         "hovertemplate": "region=Syria<br>Year=%{x}<br>Nb of athletes=%{y}<extra></extra>",
         "legendgroup": "Syria",
         "line": {
          "color": "#EF553B",
          "dash": "solid"
         },
         "marker": {
          "symbol": "circle"
         },
         "mode": "lines",
         "name": "Syria",
         "showlegend": true,
         "type": "scattergl",
         "x": [
          1948,
          1960,
          1968,
          1972,
          1980,
          1984,
          1988,
          1992,
          1996,
          2000,
          2004,
          2008,
          2012,
          2016
         ],
         "xaxis": "x",
         "y": [
          1,
          74,
          2,
          5,
          67,
          9,
          13,
          8,
          7,
          8,
          6,
          7,
          10,
          7
         ],
         "yaxis": "y"
        },
        {
         "hovertemplate": "region=Trinidad<br>Year=%{x}<br>Nb of athletes=%{y}<extra></extra>",
         "legendgroup": "Trinidad",
         "line": {
          "color": "#00cc96",
          "dash": "solid"
         },
         "marker": {
          "symbol": "circle"
         },
         "mode": "lines",
         "name": "Trinidad",
         "showlegend": true,
         "type": "scattergl",
         "x": [
          1948,
          1952,
          1956,
          1960,
          1964,
          1968,
          1972,
          1976,
          1980,
          1984,
          1988,
          1992,
          1996,
          2000,
          2004,
          2008,
          2012,
          2016
         ],
         "xaxis": "x",
         "y": [
          5,
          2,
          6,
          13,
          13,
          19,
          19,
          13,
          9,
          16,
          6,
          7,
          12,
          19,
          19,
          28,
          25,
          28
         ],
         "yaxis": "y"
        },
        {
         "hovertemplate": "region=Bahamas<br>Year=%{x}<br>Nb of athletes=%{y}<extra></extra>",
         "legendgroup": "Bahamas",
         "line": {
          "color": "#ab63fa",
          "dash": "solid"
         },
         "marker": {
          "symbol": "circle"
         },
         "mode": "lines",
         "name": "Bahamas",
         "showlegend": true,
         "type": "scattergl",
         "x": [
          1952,
          1956,
          1960,
          1964,
          1968,
          1972,
          1976,
          1984,
          1988,
          1992,
          1996,
          2000,
          2004,
          2008,
          2012,
          2016
         ],
         "xaxis": "x",
         "y": [
          7,
          4,
          13,
          11,
          16,
          20,
          11,
          22,
          16,
          14,
          26,
          25,
          22,
          25,
          21,
          29
         ],
         "yaxis": "y"
        },
        {
         "hovertemplate": "region=Curacao<br>Year=%{x}<br>Nb of athletes=%{y}<extra></extra>",
         "legendgroup": "Curacao",
         "line": {
          "color": "#FFA15A",
          "dash": "solid"
         },
         "marker": {
          "symbol": "circle"
         },
         "mode": "lines",
         "name": "Curacao",
         "showlegend": true,
         "type": "scattergl",
         "x": [
          1952,
          1960,
          1964,
          1968,
          1972,
          1976,
          1984,
          1988,
          1992,
          1996,
          2000,
          2004,
          2008
         ],
         "xaxis": "x",
         "y": [
          11,
          5,
          4,
          5,
          2,
          4,
          8,
          3,
          4,
          6,
          7,
          3,
          3
         ],
         "yaxis": "y"
        },
        {
         "hovertemplate": "region=Ghana<br>Year=%{x}<br>Nb of athletes=%{y}<extra></extra>",
         "legendgroup": "Ghana",
         "line": {
          "color": "#19d3f3",
          "dash": "solid"
         },
         "marker": {
          "symbol": "circle"
         },
         "mode": "lines",
         "name": "Ghana",
         "showlegend": true,
         "type": "scattergl",
         "x": [
          1952,
          1960,
          1964,
          1968,
          1972,
          1984,
          1988,
          1992,
          1996,
          2000,
          2004,
          2008,
          2012,
          2016
         ],
         "xaxis": "x",
         "y": [
          7,
          13,
          33,
          31,
          35,
          21,
          16,
          34,
          35,
          22,
          26,
          9,
          7,
          13
         ],
         "yaxis": "y"
        },
        {
         "hovertemplate": "region=Indonesia<br>Year=%{x}<br>Nb of athletes=%{y}<extra></extra>",
         "legendgroup": "Indonesia",
         "line": {
          "color": "#FF6692",
          "dash": "solid"
         },
         "marker": {
          "symbol": "circle"
         },
         "mode": "lines",
         "name": "Indonesia",
         "showlegend": true,
         "type": "scattergl",
         "x": [
          1952,
          1956,
          1960,
          1968,
          1972,
          1976,
          1984,
          1988,
          1992,
          1996,
          2000,
          2004,
          2008,
          2012,
          2016
         ],
         "xaxis": "x",
         "y": [
          3,
          22,
          22,
          6,
          6,
          7,
          16,
          29,
          42,
          40,
          47,
          38,
          24,
          22,
          28
         ],
         "yaxis": "y"
        },
        {
         "hovertemplate": "region=Israel<br>Year=%{x}<br>Nb of athletes=%{y}<extra></extra>",
         "legendgroup": "Israel",
         "line": {
          "color": "#B6E880",
          "dash": "solid"
         },
         "marker": {
          "symbol": "circle"
         },
         "mode": "lines",
         "name": "Israel",
         "showlegend": true,
         "type": "scattergl",
         "x": [
          1952,
          1956,
          1960,
          1964,
          1968,
          1972,
          1976,
          1984,
          1988,
          1992,
          1996,
          2000,
          2004,
          2008,
          2012,
          2016
         ],
         "xaxis": "x",
         "y": [
          25,
          3,
          23,
          10,
          29,
          14,
          26,
          32,
          18,
          30,
          25,
          39,
          36,
          43,
          37,
          47
         ],
         "yaxis": "y"
        },
        {
         "hovertemplate": "region=Nigeria<br>Year=%{x}<br>Nb of athletes=%{y}<extra></extra>",
         "legendgroup": "Nigeria",
         "line": {
          "color": "#FF97FF",
          "dash": "solid"
         },
         "marker": {
          "symbol": "circle"
         },
         "mode": "lines",
         "name": "Nigeria",
         "showlegend": true,
         "type": "scattergl",
         "x": [
          1952,
          1956,
          1960,
          1964,
          1968,
          1972,
          1980,
          1984,
          1988,
          1992,
          1996,
          2000,
          2004,
          2008,
          2012,
          2016
         ],
         "xaxis": "x",
         "y": [
          9,
          10,
          12,
          18,
          36,
          25,
          44,
          32,
          69,
          55,
          65,
          83,
          70,
          74,
          49,
          71
         ],
         "yaxis": "y"
        },
        {
         "hovertemplate": "region=Thailand<br>Year=%{x}<br>Nb of athletes=%{y}<extra></extra>",
         "legendgroup": "Thailand",
         "line": {
          "color": "#FECB52",
          "dash": "solid"
         },
         "marker": {
          "symbol": "circle"
         },
         "mode": "lines",
         "name": "Thailand",
         "showlegend": true,
         "type": "scattergl",
         "x": [
          1952,
          1956,
          1960,
          1964,
          1968,
          1972,
          1976,
          1984,
          1988,
          1992,
          1996,
          2000,
          2004,
          2008,
          2012,
          2016
         ],
         "xaxis": "x",
         "y": [
          8,
          35,
          20,
          54,
          41,
          33,
          42,
          35,
          14,
          46,
          37,
          52,
          42,
          47,
          37,
          54
         ],
         "yaxis": "y"
        },
        {
         "hovertemplate": "region=Vietnam<br>Year=%{x}<br>Nb of athletes=%{y}<extra></extra>",
         "legendgroup": "Vietnam",
         "line": {
          "color": "#636efa",
          "dash": "solid"
         },
         "marker": {
          "symbol": "circle"
         },
         "mode": "lines",
         "name": "Vietnam",
         "showlegend": true,
         "type": "scattergl",
         "x": [
          1952,
          1956,
          1960,
          1964,
          1968,
          1972,
          1980,
          1988,
          1992,
          1996,
          2000,
          2004,
          2008,
          2012,
          2016
         ],
         "xaxis": "x",
         "y": [
          8,
          6,
          3,
          16,
          9,
          2,
          30,
          9,
          7,
          6,
          7,
          11,
          13,
          18,
          22
         ],
         "yaxis": "y"
        },
        {
         "hovertemplate": "region=Cambodia<br>Year=%{x}<br>Nb of athletes=%{y}<extra></extra>",
         "legendgroup": "Cambodia",
         "line": {
          "color": "#EF553B",
          "dash": "solid"
         },
         "marker": {
          "symbol": "circle"
         },
         "mode": "lines",
         "name": "Cambodia",
         "showlegend": true,
         "type": "scattergl",
         "x": [
          1956,
          1964,
          1972,
          1996,
          2000,
          2004,
          2008,
          2012,
          2016
         ],
         "xaxis": "x",
         "y": [
          2,
          13,
          9,
          5,
          4,
          4,
          4,
          6,
          6
         ],
         "yaxis": "y"
        },
        {
         "hovertemplate": "region=Ethiopia<br>Year=%{x}<br>Nb of athletes=%{y}<extra></extra>",
         "legendgroup": "Ethiopia",
         "line": {
          "color": "#00cc96",
          "dash": "solid"
         },
         "marker": {
          "symbol": "circle"
         },
         "mode": "lines",
         "name": "Ethiopia",
         "showlegend": true,
         "type": "scattergl",
         "x": [
          1956,
          1960,
          1964,
          1968,
          1972,
          1980,
          1992,
          1996,
          2000,
          2004,
          2008,
          2012,
          2016
         ],
         "xaxis": "x",
         "y": [
          12,
          10,
          12,
          18,
          31,
          41,
          20,
          18,
          26,
          26,
          27,
          33,
          37
         ],
         "yaxis": "y"
        },
        {
         "hovertemplate": "region=Fiji<br>Year=%{x}<br>Nb of athletes=%{y}<extra></extra>",
         "legendgroup": "Fiji",
         "line": {
          "color": "#ab63fa",
          "dash": "solid"
         },
         "marker": {
          "symbol": "circle"
         },
         "mode": "lines",
         "name": "Fiji",
         "showlegend": true,
         "type": "scattergl",
         "x": [
          1956,
          1960,
          1968,
          1972,
          1976,
          1984,
          1988,
          1992,
          1996,
          2000,
          2004,
          2008,
          2012,
          2016
         ],
         "xaxis": "x",
         "y": [
          5,
          2,
          1,
          2,
          2,
          14,
          23,
          18,
          17,
          7,
          8,
          6,
          9,
          53
         ],
         "yaxis": "y"
        },
        {
         "hovertemplate": "region=Kenya<br>Year=%{x}<br>Nb of athletes=%{y}<extra></extra>",
         "legendgroup": "Kenya",
         "line": {
          "color": "#FFA15A",
          "dash": "solid"
         },
         "marker": {
          "symbol": "circle"
         },
         "mode": "lines",
         "name": "Kenya",
         "showlegend": true,
         "type": "scattergl",
         "x": [
          1956,
          1960,
          1964,
          1968,
          1972,
          1984,
          1988,
          1992,
          1996,
          2000,
          2004,
          2008,
          2012,
          2016
         ],
         "xaxis": "x",
         "y": [
          25,
          27,
          37,
          39,
          57,
          61,
          74,
          49,
          52,
          56,
          46,
          46,
          47,
          79
         ],
         "yaxis": "y"
        },
        {
         "hovertemplate": "region=Liberia<br>Year=%{x}<br>Nb of athletes=%{y}<extra></extra>",
         "legendgroup": "Liberia",
         "line": {
          "color": "#19d3f3",
          "dash": "solid"
         },
         "marker": {
          "symbol": "circle"
         },
         "mode": "lines",
         "name": "Liberia",
         "showlegend": true,
         "type": "scattergl",
         "x": [
          1956,
          1960,
          1964,
          1972,
          1984,
          1988,
          1996,
          2000,
          2004,
          2008,
          2012,
          2016
         ],
         "xaxis": "x",
         "y": [
          4,
          4,
          1,
          5,
          7,
          8,
          5,
          8,
          2,
          3,
          3,
          2
         ],
         "yaxis": "y"
        },
        {
         "hovertemplate": "region=Malaysia<br>Year=%{x}<br>Nb of athletes=%{y}<extra></extra>",
         "legendgroup": "Malaysia",
         "line": {
          "color": "#FF6692",
          "dash": "solid"
         },
         "marker": {
          "symbol": "circle"
         },
         "mode": "lines",
         "name": "Malaysia",
         "showlegend": true,
         "type": "scattergl",
         "x": [
          1956,
          1960,
          1964,
          1968,
          1972,
          1976,
          1984,
          1988,
          1992,
          1996,
          2000,
          2004,
          2008,
          2012,
          2016
         ],
         "xaxis": "x",
         "y": [
          34,
          9,
          61,
          31,
          45,
          23,
          21,
          9,
          26,
          35,
          40,
          26,
          32,
          29,
          32
         ],
         "yaxis": "y"
        },
        {
         "hovertemplate": "region=Taiwan<br>Year=%{x}<br>Nb of athletes=%{y}<extra></extra>",
         "legendgroup": "Taiwan",
         "line": {
          "color": "#B6E880",
          "dash": "solid"
         },
         "marker": {
          "symbol": "circle"
         },
         "mode": "lines",
         "name": "Taiwan",
         "showlegend": true,
         "type": "scattergl",
         "x": [
          1956,
          1960,
          1964,
          1968,
          1972,
          1984,
          1988,
          1992,
          1996,
          2000,
          2004,
          2008,
          2012,
          2016
         ],
         "xaxis": "x",
         "y": [
          20,
          27,
          40,
          43,
          21,
          38,
          61,
          31,
          74,
          55,
          88,
          79,
          44,
          55
         ],
         "yaxis": "y"
        },
        {
         "hovertemplate": "region=Uganda<br>Year=%{x}<br>Nb of athletes=%{y}<extra></extra>",
         "legendgroup": "Uganda",
         "line": {
          "color": "#FF97FF",
          "dash": "solid"
         },
         "marker": {
          "symbol": "circle"
         },
         "mode": "lines",
         "name": "Uganda",
         "showlegend": true,
         "type": "scattergl",
         "x": [
          1956,
          1960,
          1964,
          1968,
          1972,
          1980,
          1984,
          1988,
          1992,
          1996,
          2000,
          2004,
          2008,
          2012,
          2016
         ],
         "xaxis": "x",
         "y": [
          3,
          10,
          13,
          11,
          33,
          13,
          26,
          24,
          8,
          10,
          13,
          11,
          11,
          15,
          21
         ],
         "yaxis": "y"
        },
        {
         "hovertemplate": "region=Morocco<br>Year=%{x}<br>Nb of athletes=%{y}<extra></extra>",
         "legendgroup": "Morocco",
         "line": {
          "color": "#FECB52",
          "dash": "solid"
         },
         "marker": {
          "symbol": "circle"
         },
         "mode": "lines",
         "name": "Morocco",
         "showlegend": true,
         "type": "scattergl",
         "x": [
          1960,
          1964,
          1968,
          1972,
          1976,
          1984,
          1988,
          1992,
          1996,
          2000,
          2004,
          2008,
          2012,
          2016
         ],
         "xaxis": "x",
         "y": [
          47,
          20,
          25,
          35,
          9,
          34,
          27,
          44,
          34,
          55,
          55,
          47,
          63,
          48
         ],
         "yaxis": "y"
        },
        {
         "hovertemplate": "region=San Marino<br>Year=%{x}<br>Nb of athletes=%{y}<extra></extra>",
         "legendgroup": "San Marino",
         "line": {
          "color": "#636efa",
          "dash": "solid"
         },
         "marker": {
          "symbol": "circle"
         },
         "mode": "lines",
         "name": "San Marino",
         "showlegend": true,
         "type": "scattergl",
         "x": [
          1960,
          1968,
          1972,
          1976,
          1980,
          1984,
          1988,
          1992,
          1996,
          2000,
          2004,
          2008,
          2012,
          2016
         ],
         "xaxis": "x",
         "y": [
          9,
          4,
          7,
          10,
          16,
          19,
          11,
          17,
          7,
          4,
          5,
          4,
          4,
          4
         ],
         "yaxis": "y"
        },
        {
         "hovertemplate": "region=Sudan<br>Year=%{x}<br>Nb of athletes=%{y}<extra></extra>",
         "legendgroup": "Sudan",
         "line": {
          "color": "#EF553B",
          "dash": "solid"
         },
         "marker": {
          "symbol": "circle"
         },
         "mode": "lines",
         "name": "Sudan",
         "showlegend": true,
         "type": "scattergl",
         "x": [
          1960,
          1968,
          1972,
          1984,
          1988,
          1992,
          1996,
          2000,
          2004,
          2008,
          2012,
          2016
         ],
         "xaxis": "x",
         "y": [
          10,
          5,
          26,
          7,
          8,
          6,
          4,
          3,
          4,
          9,
          6,
          6
         ],
         "yaxis": "y"
        },
        {
         "hovertemplate": "region=Tunisia<br>Year=%{x}<br>Nb of athletes=%{y}<extra></extra>",
         "legendgroup": "Tunisia",
         "line": {
          "color": "#00cc96",
          "dash": "solid"
         },
         "marker": {
          "symbol": "circle"
         },
         "mode": "lines",
         "name": "Tunisia",
         "showlegend": true,
         "type": "scattergl",
         "x": [
          1960,
          1964,
          1968,
          1972,
          1976,
          1984,
          1988,
          1992,
          1996,
          2000,
          2004,
          2008,
          2012,
          2016
         ],
         "xaxis": "x",
         "y": [
          42,
          9,
          7,
          35,
          15,
          23,
          41,
          13,
          51,
          47,
          54,
          26,
          83,
          61
         ],
         "yaxis": "y"
        },
        {
         "hovertemplate": "region=Algeria<br>Year=%{x}<br>Nb of athletes=%{y}<extra></extra>",
         "legendgroup": "Algeria",
         "line": {
          "color": "#ab63fa",
          "dash": "solid"
         },
         "marker": {
          "symbol": "circle"
         },
         "mode": "lines",
         "name": "Algeria",
         "showlegend": true,
         "type": "scattergl",
         "x": [
          1964,
          1968,
          1972,
          1980,
          1984,
          1988,
          1992,
          1996,
          2000,
          2004,
          2008,
          2012,
          2016
         ],
         "xaxis": "x",
         "y": [
          1,
          3,
          5,
          54,
          33,
          42,
          35,
          45,
          47,
          61,
          56,
          38,
          64
         ],
         "yaxis": "y"
        },
        {
         "hovertemplate": "region=Cameroon<br>Year=%{x}<br>Nb of athletes=%{y}<extra></extra>",
         "legendgroup": "Cameroon",
         "line": {
          "color": "#FFA15A",
          "dash": "solid"
         },
         "marker": {
          "symbol": "circle"
         },
         "mode": "lines",
         "name": "Cameroon",
         "showlegend": true,
         "type": "scattergl",
         "x": [
          1964,
          1968,
          1972,
          1976,
          1980,
          1984,
          1988,
          1992,
          1996,
          2000,
          2004,
          2008,
          2012,
          2016
         ],
         "xaxis": "x",
         "y": [
          1,
          5,
          11,
          4,
          25,
          46,
          15,
          8,
          15,
          34,
          17,
          32,
          32,
          22
         ],
         "yaxis": "y"
        },
        {
         "hovertemplate": "region=Chad<br>Year=%{x}<br>Nb of athletes=%{y}<extra></extra>",
         "legendgroup": "Chad",
         "line": {
          "color": "#19d3f3",
          "dash": "solid"
         },
         "marker": {
          "symbol": "circle"
         },
         "mode": "lines",
         "name": "Chad",
         "showlegend": true,
         "type": "scattergl",
         "x": [
          1964,
          1968,
          1972,
          1984,
          1988,
          1992,
          1996,
          2000,
          2004,
          2008,
          2012,
          2016
         ],
         "xaxis": "x",
         "y": [
          2,
          3,
          4,
          3,
          6,
          6,
          4,
          2,
          1,
          2,
          2,
          2
         ],
         "yaxis": "y"
        },
        {
         "hovertemplate": "region=Dominican Republic<br>Year=%{x}<br>Nb of athletes=%{y}<extra></extra>",
         "legendgroup": "Dominican Republic",
         "line": {
          "color": "#FF6692",
          "dash": "solid"
         },
         "marker": {
          "symbol": "circle"
         },
         "mode": "lines",
         "name": "Dominican Republic",
         "showlegend": true,
         "type": "scattergl",
         "x": [
          1964,
          1968,
          1972,
          1976,
          1980,
          1984,
          1988,
          1992,
          1996,
          2000,
          2004,
          2008,
          2012,
          2016
         ],
         "xaxis": "x",
         "y": [
          1,
          18,
          5,
          10,
          6,
          19,
          16,
          32,
          16,
          13,
          33,
          24,
          33,
          26
         ],
         "yaxis": "y"
        },
        {
         "hovertemplate": "region=Ivory Coast<br>Year=%{x}<br>Nb of athletes=%{y}<extra></extra>",
         "legendgroup": "Ivory Coast",
         "line": {
          "color": "#B6E880",
          "dash": "solid"
         },
         "marker": {
          "symbol": "circle"
         },
         "mode": "lines",
         "name": "Ivory Coast",
         "showlegend": true,
         "type": "scattergl",
         "x": [
          1964,
          1968,
          1972,
          1976,
          1984,
          1988,
          1992,
          1996,
          2000,
          2004,
          2008,
          2012,
          2016
         ],
         "xaxis": "x",
         "y": [
          9,
          10,
          11,
          8,
          15,
          28,
          13,
          11,
          14,
          5,
          21,
          9,
          12
         ],
         "yaxis": "y"
        },
        {
         "hovertemplate": "region=Madagascar<br>Year=%{x}<br>Nb of athletes=%{y}<extra></extra>",
         "legendgroup": "Madagascar",
         "line": {
          "color": "#FF97FF",
          "dash": "solid"
         },
         "marker": {
          "symbol": "circle"
         },
         "mode": "lines",
         "name": "Madagascar",
         "showlegend": true,
         "type": "scattergl",
         "x": [
          1964,
          1968,
          1972,
          1980,
          1984,
          1992,
          1996,
          2000,
          2004,
          2008,
          2012,
          2016
         ],
         "xaxis": "x",
         "y": [
          3,
          4,
          11,
          11,
          5,
          13,
          11,
          11,
          8,
          6,
          7,
          6
         ],
         "yaxis": "y"
        },
        {
         "hovertemplate": "region=Mali<br>Year=%{x}<br>Nb of athletes=%{y}<extra></extra>",
         "legendgroup": "Mali",
         "line": {
          "color": "#FECB52",
          "dash": "solid"
         },
         "marker": {
          "symbol": "circle"
         },
         "mode": "lines",
         "name": "Mali",
         "showlegend": true,
         "type": "scattergl",
         "x": [
          1964,
          1968,
          1972,
          1980,
          1984,
          1988,
          1992,
          1996,
          2000,
          2004,
          2008,
          2012,
          2016
         ],
         "xaxis": "x",
         "y": [
          2,
          2,
          3,
          7,
          4,
          6,
          5,
          3,
          5,
          21,
          17,
          6,
          6
         ],
         "yaxis": "y"
        },
        {
         "hovertemplate": "region=Mongolia<br>Year=%{x}<br>Nb of athletes=%{y}<extra></extra>",
         "legendgroup": "Mongolia",
         "line": {
          "color": "#636efa",
          "dash": "solid"
         },
         "marker": {
          "symbol": "circle"
         },
         "mode": "lines",
         "name": "Mongolia",
         "showlegend": true,
         "type": "scattergl",
         "x": [
          1964,
          1968,
          1972,
          1976,
          1980,
          1988,
          1992,
          1996,
          2000,
          2004,
          2008,
          2012,
          2016
         ],
         "xaxis": "x",
         "y": [
          21,
          16,
          39,
          32,
          43,
          28,
          33,
          16,
          20,
          20,
          28,
          29,
          43
         ],
         "yaxis": "y"
        },
        {
         "hovertemplate": "region=Nepal<br>Year=%{x}<br>Nb of athletes=%{y}<extra></extra>",
         "legendgroup": "Nepal",
         "line": {
          "color": "#EF553B",
          "dash": "solid"
         },
         "marker": {
          "symbol": "circle"
         },
         "mode": "lines",
         "name": "Nepal",
         "showlegend": true,
         "type": "scattergl",
         "x": [
          1964,
          1972,
          1976,
          1980,
          1984,
          1988,
          1992,
          1996,
          2000,
          2004,
          2008,
          2012,
          2016
         ],
         "xaxis": "x",
         "y": [
          6,
          2,
          1,
          10,
          10,
          16,
          2,
          6,
          5,
          6,
          8,
          5,
          7
         ],
         "yaxis": "y"
        },
        {
         "hovertemplate": "region=Niger<br>Year=%{x}<br>Nb of athletes=%{y}<extra></extra>",
         "legendgroup": "Niger",
         "line": {
          "color": "#00cc96",
          "dash": "solid"
         },
         "marker": {
          "symbol": "circle"
         },
         "mode": "lines",
         "name": "Niger",
         "showlegend": true,
         "type": "scattergl",
         "x": [
          1964,
          1968,
          1972,
          1984,
          1988,
          1992,
          1996,
          2000,
          2004,
          2008,
          2012,
          2016
         ],
         "xaxis": "x",
         "y": [
          1,
          2,
          4,
          4,
          6,
          3,
          3,
          4,
          4,
          4,
          6,
          6
         ],
         "yaxis": "y"
        },
        {
         "hovertemplate": "region=Republic of Congo<br>Year=%{x}<br>Nb of athletes=%{y}<extra></extra>",
         "legendgroup": "Republic of Congo",
         "line": {
          "color": "#ab63fa",
          "dash": "solid"
         },
         "marker": {
          "symbol": "circle"
         },
         "mode": "lines",
         "name": "Republic of Congo",
         "showlegend": true,
         "type": "scattergl",
         "x": [
          1964,
          1972,
          1980,
          1984,
          1988,
          1992,
          1996,
          2000,
          2004,
          2008,
          2012,
          2016
         ],
         "xaxis": "x",
         "y": [
          2,
          6,
          23,
          9,
          7,
          7,
          5,
          5,
          5,
          5,
          7,
          10
         ],
         "yaxis": "y"
        },
        {
         "hovertemplate": "region=Senegal<br>Year=%{x}<br>Nb of athletes=%{y}<extra></extra>",
         "legendgroup": "Senegal",
         "line": {
          "color": "#FFA15A",
          "dash": "solid"
         },
         "marker": {
          "symbol": "circle"
         },
         "mode": "lines",
         "name": "Senegal",
         "showlegend": true,
         "type": "scattergl",
         "x": [
          1964,
          1968,
          1972,
          1976,
          1980,
          1984,
          1988,
          1992,
          1996,
          2000,
          2004,
          2008,
          2012,
          2016
         ],
         "xaxis": "x",
         "y": [
          12,
          21,
          38,
          21,
          32,
          24,
          23,
          20,
          11,
          26,
          15,
          15,
          31,
          22
         ],
         "yaxis": "y"
        },
        {
         "hovertemplate": "region=Tanzania<br>Year=%{x}<br>Nb of athletes=%{y}<extra></extra>",
         "legendgroup": "Tanzania",
         "line": {
          "color": "#19d3f3",
          "dash": "solid"
         },
         "marker": {
          "symbol": "circle"
         },
         "mode": "lines",
         "name": "Tanzania",
         "showlegend": true,
         "type": "scattergl",
         "x": [
          1964,
          1968,
          1972,
          1980,
          1984,
          1988,
          1992,
          1996,
          2000,
          2004,
          2008,
          2012,
          2016
         ],
         "xaxis": "x",
         "y": [
          4,
          4,
          15,
          41,
          18,
          10,
          9,
          7,
          4,
          8,
          9,
          6,
          7
         ],
         "yaxis": "y"
        },
        {
         "hovertemplate": "region=Zambia<br>Year=%{x}<br>Nb of athletes=%{y}<extra></extra>",
         "legendgroup": "Zambia",
         "line": {
          "color": "#FF6692",
          "dash": "solid"
         },
         "marker": {
          "symbol": "circle"
         },
         "mode": "lines",
         "name": "Zambia",
         "showlegend": true,
         "type": "scattergl",
         "x": [
          1964,
          1968,
          1972,
          1980,
          1984,
          1988,
          1992,
          1996,
          2000,
          2004,
          2008,
          2012,
          2016
         ],
         "xaxis": "x",
         "y": [
          12,
          7,
          11,
          37,
          16,
          29,
          9,
          8,
          8,
          6,
          8,
          7,
          7
         ],
         "yaxis": "y"
        },
        {
         "hovertemplate": "region=Barbados<br>Year=%{x}<br>Nb of athletes=%{y}<extra></extra>",
         "legendgroup": "Barbados",
         "line": {
          "color": "#B6E880",
          "dash": "solid"
         },
         "marker": {
          "symbol": "circle"
         },
         "mode": "lines",
         "name": "Barbados",
         "showlegend": true,
         "type": "scattergl",
         "x": [
          1968,
          1972,
          1976,
          1984,
          1988,
          1992,
          1996,
          2000,
          2004,
          2008,
          2012,
          2016
         ],
         "xaxis": "x",
         "y": [
          9,
          13,
          11,
          16,
          17,
          17,
          13,
          18,
          10,
          8,
          6,
          11
         ],
         "yaxis": "y"
        },
        {
         "hovertemplate": "region=Belize<br>Year=%{x}<br>Nb of athletes=%{y}<extra></extra>",
         "legendgroup": "Belize",
         "line": {
          "color": "#FF97FF",
          "dash": "solid"
         },
         "marker": {
          "symbol": "circle"
         },
         "mode": "lines",
         "name": "Belize",
         "showlegend": true,
         "type": "scattergl",
         "x": [
          1968,
          1972,
          1976,
          1984,
          1988,
          1992,
          1996,
          2000,
          2004,
          2008,
          2012,
          2016
         ],
         "xaxis": "x",
         "y": [
          7,
          1,
          4,
          11,
          10,
          10,
          5,
          2,
          2,
          4,
          3,
          3
         ],
         "yaxis": "y"
        },
        {
         "hovertemplate": "region=Central African Republic<br>Year=%{x}<br>Nb of athletes=%{y}<extra></extra>",
         "legendgroup": "Central African Republic",
         "line": {
          "color": "#FECB52",
          "dash": "solid"
         },
         "marker": {
          "symbol": "circle"
         },
         "mode": "lines",
         "name": "Central African Republic",
         "showlegend": true,
         "type": "scattergl",
         "x": [
          1968,
          1984,
          1988,
          1992,
          1996,
          2000,
          2004,
          2008,
          2012,
          2016
         ],
         "xaxis": "x",
         "y": [
          1,
          3,
          15,
          15,
          5,
          3,
          4,
          3,
          6,
          6
         ],
         "yaxis": "y"
        },
        {
         "hovertemplate": "region=Democratic Republic of the Congo<br>Year=%{x}<br>Nb of athletes=%{y}<extra></extra>",
         "legendgroup": "Democratic Republic of the Congo",
         "line": {
          "color": "#636efa",
          "dash": "solid"
         },
         "marker": {
          "symbol": "circle"
         },
         "mode": "lines",
         "name": "Democratic Republic of the Congo",
         "showlegend": true,
         "type": "scattergl",
         "x": [
          1968,
          1984,
          1988,
          1992,
          1996,
          2000,
          2004,
          2008,
          2012,
          2016
         ],
         "xaxis": "x",
         "y": [
          5,
          8,
          15,
          17,
          14,
          2,
          4,
          5,
          4,
          4
         ],
         "yaxis": "y"
        },
        {
         "hovertemplate": "region=Guinea<br>Year=%{x}<br>Nb of athletes=%{y}<extra></extra>",
         "legendgroup": "Guinea",
         "line": {
          "color": "#EF553B",
          "dash": "solid"
         },
         "marker": {
          "symbol": "circle"
         },
         "mode": "lines",
         "name": "Guinea",
         "showlegend": true,
         "type": "scattergl",
         "x": [
          1968,
          1980,
          1984,
          1988,
          1992,
          1996,
          2000,
          2004,
          2008,
          2012,
          2016
         ],
         "xaxis": "x",
         "y": [
          15,
          9,
          1,
          6,
          8,
          5,
          6,
          3,
          5,
          4,
          5
         ],
         "yaxis": "y"
        },
        {
         "hovertemplate": "region=Honduras<br>Year=%{x}<br>Nb of athletes=%{y}<extra></extra>",
         "legendgroup": "Honduras",
         "line": {
          "color": "#00cc96",
          "dash": "solid"
         },
         "marker": {
          "symbol": "circle"
         },
         "mode": "lines",
         "name": "Honduras",
         "showlegend": true,
         "type": "scattergl",
         "x": [
          1968,
          1976,
          1984,
          1988,
          1992,
          1996,
          2000,
          2004,
          2008,
          2012,
          2016
         ],
         "xaxis": "x",
         "y": [
          6,
          3,
          10,
          8,
          10,
          7,
          20,
          5,
          25,
          25,
          23
         ],
         "yaxis": "y"
        },
        {
         "hovertemplate": "region=Kuwait<br>Year=%{x}<br>Nb of athletes=%{y}<extra></extra>",
         "legendgroup": "Kuwait",
         "line": {
          "color": "#ab63fa",
          "dash": "solid"
         },
         "marker": {
          "symbol": "circle"
         },
         "mode": "lines",
         "name": "Kuwait",
         "showlegend": true,
         "type": "scattergl",
         "x": [
          1968,
          1972,
          1976,
          1980,
          1984,
          1988,
          1992,
          1996,
          2000,
          2004,
          2008,
          2012
         ],
         "xaxis": "x",
         "y": [
          2,
          4,
          15,
          56,
          23,
          25,
          32,
          25,
          29,
          11,
          8,
          10
         ],
         "yaxis": "y"
        },
        {
         "hovertemplate": "region=Libya<br>Year=%{x}<br>Nb of athletes=%{y}<extra></extra>",
         "legendgroup": "Libya",
         "line": {
          "color": "#FFA15A",
          "dash": "solid"
         },
         "marker": {
          "symbol": "circle"
         },
         "mode": "lines",
         "name": "Libya",
         "showlegend": true,
         "type": "scattergl",
         "x": [
          1968,
          1980,
          1988,
          1992,
          1996,
          2000,
          2004,
          2008,
          2012,
          2016
         ],
         "xaxis": "x",
         "y": [
          1,
          29,
          6,
          5,
          5,
          3,
          8,
          6,
          4,
          7
         ],
         "yaxis": "y"
        },
        {
         "hovertemplate": "region=Nicaragua<br>Year=%{x}<br>Nb of athletes=%{y}<extra></extra>",
         "legendgroup": "Nicaragua",
         "line": {
          "color": "#19d3f3",
          "dash": "solid"
         },
         "marker": {
          "symbol": "circle"
         },
         "mode": "lines",
         "name": "Nicaragua",
         "showlegend": true,
         "type": "scattergl",
         "x": [
          1968,
          1972,
          1976,
          1980,
          1984,
          1992,
          1996,
          2000,
          2004,
          2008,
          2012,
          2016
         ],
         "xaxis": "x",
         "y": [
          11,
          8,
          15,
          5,
          5,
          8,
          26,
          6,
          5,
          6,
          6,
          5
         ],
         "yaxis": "y"
        },
        {
         "hovertemplate": "region=Paraguay<br>Year=%{x}<br>Nb of athletes=%{y}<extra></extra>",
         "legendgroup": "Paraguay",
         "line": {
          "color": "#FF6692",
          "dash": "solid"
         },
         "marker": {
          "symbol": "circle"
         },
         "mode": "lines",
         "name": "Paraguay",
         "showlegend": true,
         "type": "scattergl",
         "x": [
          1968,
          1972,
          1976,
          1984,
          1988,
          1992,
          1996,
          2000,
          2004,
          2008,
          2012,
          2016
         ],
         "xaxis": "x",
         "y": [
          1,
          3,
          4,
          14,
          10,
          27,
          7,
          5,
          22,
          7,
          8,
          11
         ],
         "yaxis": "y"
        },
        {
         "hovertemplate": "region=Sierra Leone<br>Year=%{x}<br>Nb of athletes=%{y}<extra></extra>",
         "legendgroup": "Sierra Leone",
         "line": {
          "color": "#B6E880",
          "dash": "solid"
         },
         "marker": {
          "symbol": "circle"
         },
         "mode": "lines",
         "name": "Sierra Leone",
         "showlegend": true,
         "type": "scattergl",
         "x": [
          1968,
          1980,
          1984,
          1988,
          1992,
          1996,
          2000,
          2004,
          2008,
          2012,
          2016
         ],
         "xaxis": "x",
         "y": [
          3,
          14,
          7,
          12,
          11,
          14,
          3,
          2,
          3,
          2,
          4
         ],
         "yaxis": "y"
        },
        {
         "hovertemplate": "region=Suriname<br>Year=%{x}<br>Nb of athletes=%{y}<extra></extra>",
         "legendgroup": "Suriname",
         "line": {
          "color": "#FF97FF",
          "dash": "solid"
         },
         "marker": {
          "symbol": "circle"
         },
         "mode": "lines",
         "name": "Suriname",
         "showlegend": true,
         "type": "scattergl",
         "x": [
          1968,
          1972,
          1976,
          1984,
          1988,
          1992,
          1996,
          2000,
          2004,
          2008,
          2012,
          2016
         ],
         "xaxis": "x",
         "y": [
          1,
          2,
          3,
          5,
          6,
          6,
          7,
          4,
          4,
          4,
          5,
          6
         ],
         "yaxis": "y"
        },
        {
         "hovertemplate": "region=Virgin Islands, US<br>Year=%{x}<br>Nb of athletes=%{y}<extra></extra>",
         "legendgroup": "Virgin Islands, US",
         "line": {
          "color": "#FECB52",
          "dash": "solid"
         },
         "marker": {
          "symbol": "circle"
         },
         "mode": "lines",
         "name": "Virgin Islands, US",
         "showlegend": true,
         "type": "scattergl",
         "x": [
          1968,
          1972,
          1976,
          1984,
          1988,
          1992,
          1996,
          2000,
          2004,
          2008,
          2012,
          2016
         ],
         "xaxis": "x",
         "y": [
          6,
          16,
          21,
          29,
          22,
          25,
          12,
          9,
          6,
          7,
          7,
          7
         ],
         "yaxis": "y"
        },
        {
         "hovertemplate": "region=Albania<br>Year=%{x}<br>Nb of athletes=%{y}<extra></extra>",
         "legendgroup": "Albania",
         "line": {
          "color": "#636efa",
          "dash": "solid"
         },
         "marker": {
          "symbol": "circle"
         },
         "mode": "lines",
         "name": "Albania",
         "showlegend": true,
         "type": "scattergl",
         "x": [
          1972,
          1992,
          1996,
          2000,
          2004,
          2008,
          2012,
          2016
         ],
         "xaxis": "x",
         "y": [
          5,
          7,
          7,
          4,
          7,
          11,
          9,
          6
         ],
         "yaxis": "y"
        },
        {
         "hovertemplate": "region=Benin<br>Year=%{x}<br>Nb of athletes=%{y}<extra></extra>",
         "legendgroup": "Benin",
         "line": {
          "color": "#EF553B",
          "dash": "solid"
         },
         "marker": {
          "symbol": "circle"
         },
         "mode": "lines",
         "name": "Benin",
         "showlegend": true,
         "type": "scattergl",
         "x": [
          1972,
          1980,
          1984,
          1988,
          1992,
          1996,
          2000,
          2004,
          2008,
          2012,
          2016
         ],
         "xaxis": "x",
         "y": [
          3,
          16,
          3,
          7,
          6,
          5,
          4,
          4,
          5,
          5,
          6
         ],
         "yaxis": "y"
        },
        {
         "hovertemplate": "region=Burkina Faso<br>Year=%{x}<br>Nb of athletes=%{y}<extra></extra>",
         "legendgroup": "Burkina Faso",
         "line": {
          "color": "#00cc96",
          "dash": "solid"
         },
         "marker": {
          "symbol": "circle"
         },
         "mode": "lines",
         "name": "Burkina Faso",
         "showlegend": true,
         "type": "scattergl",
         "x": [
          1972,
          1988,
          1992,
          1996,
          2000,
          2004,
          2008,
          2012,
          2016
         ],
         "xaxis": "x",
         "y": [
          1,
          6,
          4,
          5,
          4,
          5,
          6,
          5,
          5
         ],
         "yaxis": "y"
        },
        {
         "hovertemplate": "region=Gabon<br>Year=%{x}<br>Nb of athletes=%{y}<extra></extra>",
         "legendgroup": "Gabon",
         "line": {
          "color": "#ab63fa",
          "dash": "solid"
         },
         "marker": {
          "symbol": "circle"
         },
         "mode": "lines",
         "name": "Gabon",
         "showlegend": true,
         "type": "scattergl",
         "x": [
          1972,
          1984,
          1988,
          1992,
          1996,
          2000,
          2004,
          2008,
          2012,
          2016
         ],
         "xaxis": "x",
         "y": [
          1,
          4,
          2,
          5,
          7,
          5,
          5,
          4,
          21,
          6
         ],
         "yaxis": "y"
        },
        {
         "hovertemplate": "region=Lesotho<br>Year=%{x}<br>Nb of athletes=%{y}<extra></extra>",
         "legendgroup": "Lesotho",
         "line": {
          "color": "#FFA15A",
          "dash": "solid"
         },
         "marker": {
          "symbol": "circle"
         },
         "mode": "lines",
         "name": "Lesotho",
         "showlegend": true,
         "type": "scattergl",
         "x": [
          1972,
          1980,
          1984,
          1988,
          1992,
          1996,
          2000,
          2004,
          2008,
          2012,
          2016
         ],
         "xaxis": "x",
         "y": [
          1,
          5,
          4,
          6,
          6,
          9,
          6,
          3,
          5,
          4,
          8
         ],
         "yaxis": "y"
        },
        {
         "hovertemplate": "region=Malawi<br>Year=%{x}<br>Nb of athletes=%{y}<extra></extra>",
         "legendgroup": "Malawi",
         "line": {
          "color": "#19d3f3",
          "dash": "solid"
         },
         "marker": {
          "symbol": "circle"
         },
         "mode": "lines",
         "name": "Malawi",
         "showlegend": true,
         "type": "scattergl",
         "x": [
          1972,
          1984,
          1988,
          1992,
          1996,
          2000,
          2004,
          2008,
          2012,
          2016
         ],
         "xaxis": "x",
         "y": [
          16,
          15,
          16,
          4,
          2,
          2,
          4,
          4,
          3,
          5
         ],
         "yaxis": "y"
        },
        {
         "hovertemplate": "region=North Korea<br>Year=%{x}<br>Nb of athletes=%{y}<extra></extra>",
         "legendgroup": "North Korea",
         "line": {
          "color": "#FF6692",
          "dash": "solid"
         },
         "marker": {
          "symbol": "circle"
         },
         "mode": "lines",
         "name": "North Korea",
         "showlegend": true,
         "type": "scattergl",
         "x": [
          1972,
          1976,
          1980,
          1992,
          1996,
          2000,
          2004,
          2008,
          2012,
          2016
         ],
         "xaxis": "x",
         "y": [
          37,
          38,
          47,
          64,
          24,
          31,
          36,
          58,
          52,
          31
         ],
         "yaxis": "y"
        },
        {
         "hovertemplate": "region=Saudi Arabia<br>Year=%{x}<br>Nb of athletes=%{y}<extra></extra>",
         "legendgroup": "Saudi Arabia",
         "line": {
          "color": "#B6E880",
          "dash": "solid"
         },
         "marker": {
          "symbol": "circle"
         },
         "mode": "lines",
         "name": "Saudi Arabia",
         "showlegend": true,
         "type": "scattergl",
         "x": [
          1972,
          1976,
          1984,
          1988,
          1992,
          1996,
          2000,
          2004,
          2008,
          2012,
          2016
         ],
         "xaxis": "x",
         "y": [
          10,
          14,
          37,
          9,
          9,
          29,
          18,
          16,
          14,
          18,
          10
         ],
         "yaxis": "y"
        },
        {
         "hovertemplate": "region=Somalia<br>Year=%{x}<br>Nb of athletes=%{y}<extra></extra>",
         "legendgroup": "Somalia",
         "line": {
          "color": "#FF97FF",
          "dash": "solid"
         },
         "marker": {
          "symbol": "circle"
         },
         "mode": "lines",
         "name": "Somalia",
         "showlegend": true,
         "type": "scattergl",
         "x": [
          1972,
          1984,
          1988,
          1996,
          2000,
          2004,
          2008,
          2012,
          2016
         ],
         "xaxis": "x",
         "y": [
          3,
          7,
          5,
          4,
          2,
          2,
          2,
          2,
          2
         ],
         "yaxis": "y"
        },
        {
         "hovertemplate": "region=Swaziland<br>Year=%{x}<br>Nb of athletes=%{y}<extra></extra>",
         "legendgroup": "Swaziland",
         "line": {
          "color": "#FECB52",
          "dash": "solid"
         },
         "marker": {
          "symbol": "circle"
         },
         "mode": "lines",
         "name": "Swaziland",
         "showlegend": true,
         "type": "scattergl",
         "x": [
          1972,
          1984,
          1988,
          1992,
          1996,
          2000,
          2004,
          2008,
          2012,
          2016
         ],
         "xaxis": "x",
         "y": [
          2,
          8,
          11,
          6,
          6,
          6,
          3,
          4,
          3,
          2
         ],
         "yaxis": "y"
        },
        {
         "hovertemplate": "region=Togo<br>Year=%{x}<br>Nb of athletes=%{y}<extra></extra>",
         "legendgroup": "Togo",
         "line": {
          "color": "#636efa",
          "dash": "solid"
         },
         "marker": {
          "symbol": "circle"
         },
         "mode": "lines",
         "name": "Togo",
         "showlegend": true,
         "type": "scattergl",
         "x": [
          1972,
          1984,
          1988,
          1992,
          1996,
          2000,
          2004,
          2008,
          2012,
          2016
         ],
         "xaxis": "x",
         "y": [
          7,
          6,
          6,
          6,
          5,
          3,
          3,
          4,
          6,
          5
         ],
         "yaxis": "y"
        },
        {
         "hovertemplate": "region=Andorra<br>Year=%{x}<br>Nb of athletes=%{y}<extra></extra>",
         "legendgroup": "Andorra",
         "line": {
          "color": "#EF553B",
          "dash": "solid"
         },
         "marker": {
          "symbol": "circle"
         },
         "mode": "lines",
         "name": "Andorra",
         "showlegend": true,
         "type": "scattergl",
         "x": [
          1976,
          1980,
          1984,
          1988,
          1992,
          1996,
          2000,
          2004,
          2008,
          2012,
          2016
         ],
         "xaxis": "x",
         "y": [
          3,
          2,
          2,
          3,
          8,
          8,
          5,
          6,
          5,
          6,
          4
         ],
         "yaxis": "y"
        },
        {
         "hovertemplate": "region=Antigua<br>Year=%{x}<br>Nb of athletes=%{y}<extra></extra>",
         "legendgroup": "Antigua",
         "line": {
          "color": "#00cc96",
          "dash": "solid"
         },
         "marker": {
          "symbol": "circle"
         },
         "mode": "lines",
         "name": "Antigua",
         "showlegend": true,
         "type": "scattergl",
         "x": [
          1976,
          1984,
          1988,
          1992,
          1996,
          2000,
          2004,
          2008,
          2012,
          2016
         ],
         "xaxis": "x",
         "y": [
          10,
          14,
          15,
          13,
          13,
          3,
          5,
          5,
          4,
          8
         ],
         "yaxis": "y"
        },
        {
         "hovertemplate": "region=Cayman Islands<br>Year=%{x}<br>Nb of athletes=%{y}<extra></extra>",
         "legendgroup": "Cayman Islands",
         "line": {
          "color": "#ab63fa",
          "dash": "solid"
         },
         "marker": {
          "symbol": "circle"
         },
         "mode": "lines",
         "name": "Cayman Islands",
         "showlegend": true,
         "type": "scattergl",
         "x": [
          1976,
          1984,
          1988,
          1992,
          1996,
          2000,
          2004,
          2008,
          2012,
          2016
         ],
         "xaxis": "x",
         "y": [
          2,
          8,
          8,
          10,
          9,
          3,
          5,
          4,
          4,
          5
         ],
         "yaxis": "y"
        },
        {
         "hovertemplate": "region=Papua New Guinea<br>Year=%{x}<br>Nb of athletes=%{y}<extra></extra>",
         "legendgroup": "Papua New Guinea",
         "line": {
          "color": "#FFA15A",
          "dash": "solid"
         },
         "marker": {
          "symbol": "circle"
         },
         "mode": "lines",
         "name": "Papua New Guinea",
         "showlegend": true,
         "type": "scattergl",
         "x": [
          1976,
          1984,
          1988,
          1992,
          1996,
          2000,
          2004,
          2008,
          2012,
          2016
         ],
         "xaxis": "x",
         "y": [
          6,
          7,
          11,
          13,
          11,
          5,
          4,
          7,
          8,
          8
         ],
         "yaxis": "y"
        },
        {
         "hovertemplate": "region=Angola<br>Year=%{x}<br>Nb of athletes=%{y}<extra></extra>",
         "legendgroup": "Angola",
         "line": {
          "color": "#19d3f3",
          "dash": "solid"
         },
         "marker": {
          "symbol": "circle"
         },
         "mode": "lines",
         "name": "Angola",
         "showlegend": true,
         "type": "scattergl",
         "x": [
          1980,
          1988,
          1992,
          1996,
          2000,
          2004,
          2008,
          2012,
          2016
         ],
         "xaxis": "x",
         "y": [
          11,
          24,
          28,
          28,
          30,
          30,
          32,
          33,
          26
         ],
         "yaxis": "y"
        },
        {
         "hovertemplate": "region=Botswana<br>Year=%{x}<br>Nb of athletes=%{y}<extra></extra>",
         "legendgroup": "Botswana",
         "line": {
          "color": "#FF6692",
          "dash": "solid"
         },
         "marker": {
          "symbol": "circle"
         },
         "mode": "lines",
         "name": "Botswana",
         "showlegend": true,
         "type": "scattergl",
         "x": [
          1980,
          1984,
          1988,
          1992,
          1996,
          2000,
          2004,
          2008,
          2012,
          2016
         ],
         "xaxis": "x",
         "y": [
          7,
          7,
          8,
          6,
          7,
          7,
          11,
          11,
          4,
          12
         ],
         "yaxis": "y"
        },
        {
         "hovertemplate": "region=Cyprus<br>Year=%{x}<br>Nb of athletes=%{y}<extra></extra>",
         "legendgroup": "Cyprus",
         "line": {
          "color": "#B6E880",
          "dash": "solid"
         },
         "marker": {
          "symbol": "circle"
         },
         "mode": "lines",
         "name": "Cyprus",
         "showlegend": true,
         "type": "scattergl",
         "x": [
          1980,
          1984,
          1988,
          1992,
          1996,
          2000,
          2004,
          2008,
          2012,
          2016
         ],
         "xaxis": "x",
         "y": [
          14,
          10,
          9,
          17,
          17,
          22,
          20,
          17,
          13,
          15
         ],
         "yaxis": "y"
        },
        {
         "hovertemplate": "region=Jordan<br>Year=%{x}<br>Nb of athletes=%{y}<extra></extra>",
         "legendgroup": "Jordan",
         "line": {
          "color": "#FF97FF",
          "dash": "solid"
         },
         "marker": {
          "symbol": "circle"
         },
         "mode": "lines",
         "name": "Jordan",
         "showlegend": true,
         "type": "scattergl",
         "x": [
          1980,
          1984,
          1988,
          1992,
          1996,
          2000,
          2004,
          2008,
          2012,
          2016
         ],
         "xaxis": "x",
         "y": [
          4,
          13,
          7,
          4,
          5,
          8,
          8,
          7,
          9,
          8
         ],
         "yaxis": "y"
        },
        {
         "hovertemplate": "region=Laos<br>Year=%{x}<br>Nb of athletes=%{y}<extra></extra>",
         "legendgroup": "Laos",
         "line": {
          "color": "#FECB52",
          "dash": "solid"
         },
         "marker": {
          "symbol": "circle"
         },
         "mode": "lines",
         "name": "Laos",
         "showlegend": true,
         "type": "scattergl",
         "x": [
          1980,
          1988,
          1992,
          1996,
          2000,
          2004,
          2008,
          2012,
          2016
         ],
         "xaxis": "x",
         "y": [
          19,
          3,
          6,
          5,
          3,
          5,
          4,
          3,
          5
         ],
         "yaxis": "y"
        },
        {
         "hovertemplate": "region=Mozambique<br>Year=%{x}<br>Nb of athletes=%{y}<extra></extra>",
         "legendgroup": "Mozambique",
         "line": {
          "color": "#636efa",
          "dash": "solid"
         },
         "marker": {
          "symbol": "circle"
         },
         "mode": "lines",
         "name": "Mozambique",
         "showlegend": true,
         "type": "scattergl",
         "x": [
          1980,
          1984,
          1988,
          1992,
          1996,
          2000,
          2004,
          2008,
          2012,
          2016
         ],
         "xaxis": "x",
         "y": [
          14,
          9,
          8,
          6,
          3,
          4,
          4,
          4,
          6,
          6
         ],
         "yaxis": "y"
        },
        {
         "hovertemplate": "region=Seychelles<br>Year=%{x}<br>Nb of athletes=%{y}<extra></extra>",
         "legendgroup": "Seychelles",
         "line": {
          "color": "#EF553B",
          "dash": "solid"
         },
         "marker": {
          "symbol": "circle"
         },
         "mode": "lines",
         "name": "Seychelles",
         "showlegend": true,
         "type": "scattergl",
         "x": [
          1980,
          1984,
          1992,
          1996,
          2000,
          2004,
          2008,
          2012,
          2016
         ],
         "xaxis": "x",
         "y": [
          11,
          9,
          11,
          9,
          9,
          9,
          9,
          6,
          10
         ],
         "yaxis": "y"
        },
        {
         "hovertemplate": "region=Bahrain<br>Year=%{x}<br>Nb of athletes=%{y}<extra></extra>",
         "legendgroup": "Bahrain",
         "line": {
          "color": "#00cc96",
          "dash": "solid"
         },
         "marker": {
          "symbol": "circle"
         },
         "mode": "lines",
         "name": "Bahrain",
         "showlegend": true,
         "type": "scattergl",
         "x": [
          1984,
          1988,
          1992,
          1996,
          2000,
          2004,
          2008,
          2012,
          2016
         ],
         "xaxis": "x",
         "y": [
          10,
          7,
          10,
          5,
          4,
          10,
          14,
          12,
          33
         ],
         "yaxis": "y"
        },
        {
         "hovertemplate": "region=Bangladesh<br>Year=%{x}<br>Nb of athletes=%{y}<extra></extra>",
         "legendgroup": "Bangladesh",
         "line": {
          "color": "#ab63fa",
          "dash": "solid"
         },
         "marker": {
          "symbol": "circle"
         },
         "mode": "lines",
         "name": "Bangladesh",
         "showlegend": true,
         "type": "scattergl",
         "x": [
          1984,
          1988,
          1992,
          1996,
          2000,
          2004,
          2008,
          2012,
          2016
         ],
         "xaxis": "x",
         "y": [
          1,
          6,
          6,
          4,
          5,
          4,
          5,
          5,
          7
         ],
         "yaxis": "y"
        },
        {
         "hovertemplate": "region=Bhutan<br>Year=%{x}<br>Nb of athletes=%{y}<extra></extra>",
         "legendgroup": "Bhutan",
         "line": {
          "color": "#FFA15A",
          "dash": "solid"
         },
         "marker": {
          "symbol": "circle"
         },
         "mode": "lines",
         "name": "Bhutan",
         "showlegend": true,
         "type": "scattergl",
         "x": [
          1984,
          1988,
          1992,
          1996,
          2000,
          2004,
          2008,
          2012,
          2016
         ],
         "xaxis": "x",
         "y": [
          6,
          3,
          6,
          2,
          2,
          2,
          2,
          2,
          2
         ],
         "yaxis": "y"
        },
        {
         "hovertemplate": "region=Djibouti<br>Year=%{x}<br>Nb of athletes=%{y}<extra></extra>",
         "legendgroup": "Djibouti",
         "line": {
          "color": "#19d3f3",
          "dash": "solid"
         },
         "marker": {
          "symbol": "circle"
         },
         "mode": "lines",
         "name": "Djibouti",
         "showlegend": true,
         "type": "scattergl",
         "x": [
          1984,
          1988,
          1992,
          1996,
          2000,
          2008,
          2012,
          2016
         ],
         "xaxis": "x",
         "y": [
          3,
          6,
          8,
          5,
          2,
          2,
          4,
          7
         ],
         "yaxis": "y"
        },
        {
         "hovertemplate": "region=Equatorial Guinea<br>Year=%{x}<br>Nb of athletes=%{y}<extra></extra>",
         "legendgroup": "Equatorial Guinea",
         "line": {
          "color": "#FF6692",
          "dash": "solid"
         },
         "marker": {
          "symbol": "circle"
         },
         "mode": "lines",
         "name": "Equatorial Guinea",
         "showlegend": true,
         "type": "scattergl",
         "x": [
          1984,
          1988,
          1992,
          1996,
          2000,
          2004,
          2008,
          2012,
          2016
         ],
         "xaxis": "x",
         "y": [
          4,
          6,
          7,
          5,
          4,
          2,
          3,
          2,
          1
         ],
         "yaxis": "y"
        },
        {
         "hovertemplate": "region=Gambia<br>Year=%{x}<br>Nb of athletes=%{y}<extra></extra>",
         "legendgroup": "Gambia",
         "line": {
          "color": "#B6E880",
          "dash": "solid"
         },
         "marker": {
          "symbol": "circle"
         },
         "mode": "lines",
         "name": "Gambia",
         "showlegend": true,
         "type": "scattergl",
         "x": [
          1984,
          1988,
          1992,
          1996,
          2000,
          2004,
          2008,
          2012,
          2016
         ],
         "xaxis": "x",
         "y": [
          10,
          6,
          5,
          9,
          2,
          2,
          3,
          2,
          4
         ],
         "yaxis": "y"
        },
        {
         "hovertemplate": "region=Grenada<br>Year=%{x}<br>Nb of athletes=%{y}<extra></extra>",
         "legendgroup": "Grenada",
         "line": {
          "color": "#FF97FF",
          "dash": "solid"
         },
         "marker": {
          "symbol": "circle"
         },
         "mode": "lines",
         "name": "Grenada",
         "showlegend": true,
         "type": "scattergl",
         "x": [
          1984,
          1988,
          1992,
          1996,
          2000,
          2004,
          2008,
          2012,
          2016
         ],
         "xaxis": "x",
         "y": [
          6,
          6,
          4,
          5,
          3,
          5,
          9,
          8,
          6
         ],
         "yaxis": "y"
        },
        {
         "hovertemplate": "region=Mauritania<br>Year=%{x}<br>Nb of athletes=%{y}<extra></extra>",
         "legendgroup": "Mauritania",
         "line": {
          "color": "#FECB52",
          "dash": "solid"
         },
         "marker": {
          "symbol": "circle"
         },
         "mode": "lines",
         "name": "Mauritania",
         "showlegend": true,
         "type": "scattergl",
         "x": [
          1984,
          1988,
          1992,
          1996,
          2000,
          2004,
          2008,
          2012,
          2016
         ],
         "xaxis": "x",
         "y": [
          2,
          6,
          6,
          4,
          2,
          2,
          2,
          2,
          2
         ],
         "yaxis": "y"
        },
        {
         "hovertemplate": "region=Mauritius<br>Year=%{x}<br>Nb of athletes=%{y}<extra></extra>",
         "legendgroup": "Mauritius",
         "line": {
          "color": "#636efa",
          "dash": "solid"
         },
         "marker": {
          "symbol": "circle"
         },
         "mode": "lines",
         "name": "Mauritius",
         "showlegend": true,
         "type": "scattergl",
         "x": [
          1984,
          1988,
          1992,
          1996,
          2000,
          2004,
          2008,
          2012,
          2016
         ],
         "xaxis": "x",
         "y": [
          4,
          8,
          13,
          26,
          20,
          9,
          11,
          11,
          11
         ],
         "yaxis": "y"
        },
        {
         "hovertemplate": "region=Oman<br>Year=%{x}<br>Nb of athletes=%{y}<extra></extra>",
         "legendgroup": "Oman",
         "line": {
          "color": "#EF553B",
          "dash": "solid"
         },
         "marker": {
          "symbol": "circle"
         },
         "mode": "lines",
         "name": "Oman",
         "showlegend": true,
         "type": "scattergl",
         "x": [
          1984,
          1988,
          1992,
          1996,
          2000,
          2004,
          2008,
          2012,
          2016
         ],
         "xaxis": "x",
         "y": [
          16,
          8,
          5,
          4,
          6,
          2,
          4,
          3,
          4
         ],
         "yaxis": "y"
        },
        {
         "hovertemplate": "region=Qatar<br>Year=%{x}<br>Nb of athletes=%{y}<extra></extra>",
         "legendgroup": "Qatar",
         "line": {
          "color": "#00cc96",
          "dash": "solid"
         },
         "marker": {
          "symbol": "circle"
         },
         "mode": "lines",
         "name": "Qatar",
         "showlegend": true,
         "type": "scattergl",
         "x": [
          1984,
          1988,
          1992,
          1996,
          2000,
          2004,
          2008,
          2012,
          2016
         ],
         "xaxis": "x",
         "y": [
          24,
          10,
          28,
          12,
          17,
          15,
          20,
          12,
          37
         ],
         "yaxis": "y"
        },
        {
         "hovertemplate": "region=Rwanda<br>Year=%{x}<br>Nb of athletes=%{y}<extra></extra>",
         "legendgroup": "Rwanda",
         "line": {
          "color": "#ab63fa",
          "dash": "solid"
         },
         "marker": {
          "symbol": "circle"
         },
         "mode": "lines",
         "name": "Rwanda",
         "showlegend": true,
         "type": "scattergl",
         "x": [
          1984,
          1988,
          1992,
          1996,
          2000,
          2004,
          2008,
          2012,
          2016
         ],
         "xaxis": "x",
         "y": [
          3,
          6,
          10,
          4,
          5,
          5,
          4,
          7,
          7
         ],
         "yaxis": "y"
        },
        {
         "hovertemplate": "region=Samoa<br>Year=%{x}<br>Nb of athletes=%{y}<extra></extra>",
         "legendgroup": "Samoa",
         "line": {
          "color": "#FFA15A",
          "dash": "solid"
         },
         "marker": {
          "symbol": "circle"
         },
         "mode": "lines",
         "name": "Samoa",
         "showlegend": true,
         "type": "scattergl",
         "x": [
          1984,
          1988,
          1992,
          1996,
          2000,
          2004,
          2008,
          2012,
          2016
         ],
         "xaxis": "x",
         "y": [
          8,
          11,
          5,
          5,
          5,
          3,
          6,
          8,
          8
         ],
         "yaxis": "y"
        },
        {
         "hovertemplate": "region=Solomon Islands<br>Year=%{x}<br>Nb of athletes=%{y}<extra></extra>",
         "legendgroup": "Solomon Islands",
         "line": {
          "color": "#19d3f3",
          "dash": "solid"
         },
         "marker": {
          "symbol": "circle"
         },
         "mode": "lines",
         "name": "Solomon Islands",
         "showlegend": true,
         "type": "scattergl",
         "x": [
          1984,
          1988,
          1992,
          1996,
          2000,
          2004,
          2008,
          2012,
          2016
         ],
         "xaxis": "x",
         "y": [
          3,
          4,
          1,
          4,
          2,
          2,
          3,
          4,
          3
         ],
         "yaxis": "y"
        },
        {
         "hovertemplate": "region=Tonga<br>Year=%{x}<br>Nb of athletes=%{y}<extra></extra>",
         "legendgroup": "Tonga",
         "line": {
          "color": "#FF6692",
          "dash": "solid"
         },
         "marker": {
          "symbol": "circle"
         },
         "mode": "lines",
         "name": "Tonga",
         "showlegend": true,
         "type": "scattergl",
         "x": [
          1984,
          1988,
          1992,
          1996,
          2000,
          2004,
          2008,
          2012,
          2016
         ],
         "xaxis": "x",
         "y": [
          7,
          5,
          5,
          5,
          3,
          5,
          3,
          3,
          7
         ],
         "yaxis": "y"
        },
        {
         "hovertemplate": "region=United Arab Emirates<br>Year=%{x}<br>Nb of athletes=%{y}<extra></extra>",
         "legendgroup": "United Arab Emirates",
         "line": {
          "color": "#B6E880",
          "dash": "solid"
         },
         "marker": {
          "symbol": "circle"
         },
         "mode": "lines",
         "name": "United Arab Emirates",
         "showlegend": true,
         "type": "scattergl",
         "x": [
          1984,
          1988,
          1992,
          1996,
          2000,
          2004,
          2008,
          2012,
          2016
         ],
         "xaxis": "x",
         "y": [
          7,
          12,
          13,
          4,
          4,
          4,
          8,
          26,
          12
         ],
         "yaxis": "y"
        },
        {
         "hovertemplate": "region=Virgin Islands, British<br>Year=%{x}<br>Nb of athletes=%{y}<extra></extra>",
         "legendgroup": "Virgin Islands, British",
         "line": {
          "color": "#FF97FF",
          "dash": "solid"
         },
         "marker": {
          "symbol": "circle"
         },
         "mode": "lines",
         "name": "Virgin Islands, British",
         "showlegend": true,
         "type": "scattergl",
         "x": [
          1984,
          1988,
          1992,
          1996,
          2000,
          2004,
          2008,
          2012,
          2016
         ],
         "xaxis": "x",
         "y": [
          9,
          3,
          4,
          7,
          1,
          1,
          2,
          2,
          4
         ],
         "yaxis": "y"
        },
        {
         "hovertemplate": "region=Yemen<br>Year=%{x}<br>Nb of athletes=%{y}<extra></extra>",
         "legendgroup": "Yemen",
         "line": {
          "color": "#FECB52",
          "dash": "solid"
         },
         "marker": {
          "symbol": "circle"
         },
         "mode": "lines",
         "name": "Yemen",
         "showlegend": true,
         "type": "scattergl",
         "x": [
          1984,
          1988,
          1992,
          1996,
          2000,
          2004,
          2008,
          2012,
          2016
         ],
         "xaxis": "x",
         "y": [
          2,
          13,
          8,
          4,
          2,
          3,
          5,
          4,
          3
         ],
         "yaxis": "y"
        },
        {
         "hovertemplate": "region=American Samoa<br>Year=%{x}<br>Nb of athletes=%{y}<extra></extra>",
         "legendgroup": "American Samoa",
         "line": {
          "color": "#636efa",
          "dash": "solid"
         },
         "marker": {
          "symbol": "circle"
         },
         "mode": "lines",
         "name": "American Samoa",
         "showlegend": true,
         "type": "scattergl",
         "x": [
          1988,
          1992,
          1996,
          2000,
          2004,
          2008,
          2012,
          2016
         ],
         "xaxis": "x",
         "y": [
          6,
          3,
          7,
          4,
          3,
          4,
          4,
          4
         ],
         "yaxis": "y"
        },
        {
         "hovertemplate": "region=Aruba<br>Year=%{x}<br>Nb of athletes=%{y}<extra></extra>",
         "legendgroup": "Aruba",
         "line": {
          "color": "#EF553B",
          "dash": "solid"
         },
         "marker": {
          "symbol": "circle"
         },
         "mode": "lines",
         "name": "Aruba",
         "showlegend": true,
         "type": "scattergl",
         "x": [
          1988,
          1992,
          1996,
          2000,
          2004,
          2008,
          2012,
          2016
         ],
         "xaxis": "x",
         "y": [
          8,
          5,
          3,
          5,
          4,
          2,
          4,
          7
         ],
         "yaxis": "y"
        },
        {
         "hovertemplate": "region=Cook Islands<br>Year=%{x}<br>Nb of athletes=%{y}<extra></extra>",
         "legendgroup": "Cook Islands",
         "line": {
          "color": "#00cc96",
          "dash": "solid"
         },
         "marker": {
          "symbol": "circle"
         },
         "mode": "lines",
         "name": "Cook Islands",
         "showlegend": true,
         "type": "scattergl",
         "x": [
          1988,
          1992,
          1996,
          2000,
          2004,
          2008,
          2012,
          2016
         ],
         "xaxis": "x",
         "y": [
          7,
          2,
          3,
          2,
          3,
          4,
          8,
          9
         ],
         "yaxis": "y"
        },
        {
         "hovertemplate": "region=Guam<br>Year=%{x}<br>Nb of athletes=%{y}<extra></extra>",
         "legendgroup": "Guam",
         "line": {
          "color": "#ab63fa",
          "dash": "solid"
         },
         "marker": {
          "symbol": "circle"
         },
         "mode": "lines",
         "name": "Guam",
         "showlegend": true,
         "type": "scattergl",
         "x": [
          1988,
          1992,
          1996,
          2000,
          2004,
          2008,
          2012,
          2016
         ],
         "xaxis": "x",
         "y": [
          19,
          22,
          8,
          7,
          4,
          6,
          8,
          5
         ],
         "yaxis": "y"
        },
        {
         "hovertemplate": "region=Maldives<br>Year=%{x}<br>Nb of athletes=%{y}<extra></extra>",
         "legendgroup": "Maldives",
         "line": {
          "color": "#FFA15A",
          "dash": "solid"
         },
         "marker": {
          "symbol": "circle"
         },
         "mode": "lines",
         "name": "Maldives",
         "showlegend": true,
         "type": "scattergl",
         "x": [
          1988,
          1992,
          1996,
          2000,
          2004,
          2008,
          2012,
          2016
         ],
         "xaxis": "x",
         "y": [
          7,
          7,
          6,
          4,
          4,
          4,
          5,
          4
         ],
         "yaxis": "y"
        },
        {
         "hovertemplate": "region=Saint Vincent<br>Year=%{x}<br>Nb of athletes=%{y}<extra></extra>",
         "legendgroup": "Saint Vincent",
         "line": {
          "color": "#19d3f3",
          "dash": "solid"
         },
         "marker": {
          "symbol": "circle"
         },
         "mode": "lines",
         "name": "Saint Vincent",
         "showlegend": true,
         "type": "scattergl",
         "x": [
          1988,
          1992,
          1996,
          2000,
          2004,
          2008,
          2012,
          2016
         ],
         "xaxis": "x",
         "y": [
          6,
          6,
          8,
          4,
          3,
          2,
          3,
          4
         ],
         "yaxis": "y"
        },
        {
         "hovertemplate": "region=Vanuatu<br>Year=%{x}<br>Nb of athletes=%{y}<extra></extra>",
         "legendgroup": "Vanuatu",
         "line": {
          "color": "#FF6692",
          "dash": "solid"
         },
         "marker": {
          "symbol": "circle"
         },
         "mode": "lines",
         "name": "Vanuatu",
         "showlegend": true,
         "type": "scattergl",
         "x": [
          1988,
          1992,
          1996,
          2000,
          2004,
          2008,
          2012,
          2016
         ],
         "xaxis": "x",
         "y": [
          4,
          6,
          4,
          3,
          2,
          3,
          5,
          4
         ],
         "yaxis": "y"
        },
        {
         "hovertemplate": "region=Bosnia and Herzegovina<br>Year=%{x}<br>Nb of athletes=%{y}<extra></extra>",
         "legendgroup": "Bosnia and Herzegovina",
         "line": {
          "color": "#B6E880",
          "dash": "solid"
         },
         "marker": {
          "symbol": "circle"
         },
         "mode": "lines",
         "name": "Bosnia and Herzegovina",
         "showlegend": true,
         "type": "scattergl",
         "x": [
          1992,
          1996,
          2000,
          2004,
          2008,
          2012,
          2016
         ],
         "xaxis": "x",
         "y": [
          10,
          9,
          9,
          9,
          5,
          6,
          11
         ],
         "yaxis": "y"
        },
        {
         "hovertemplate": "region=Croatia<br>Year=%{x}<br>Nb of athletes=%{y}<extra></extra>",
         "legendgroup": "Croatia",
         "line": {
          "color": "#FF97FF",
          "dash": "solid"
         },
         "marker": {
          "symbol": "circle"
         },
         "mode": "lines",
         "name": "Croatia",
         "showlegend": true,
         "type": "scattergl",
         "x": [
          1992,
          1996,
          2000,
          2004,
          2008,
          2012,
          2016
         ],
         "xaxis": "x",
         "y": [
          39,
          84,
          88,
          81,
          99,
          107,
          85
         ],
         "yaxis": "y"
        },
        {
         "hovertemplate": "region=Individual Olympic Athletes<br>Year=%{x}<br>Nb of athletes=%{y}<extra></extra>",
         "legendgroup": "Individual Olympic Athletes",
         "line": {
          "color": "#FECB52",
          "dash": "solid"
         },
         "marker": {
          "symbol": "circle"
         },
         "mode": "lines",
         "name": "Individual Olympic Athletes",
         "showlegend": true,
         "type": "scattergl",
         "x": [
          1992,
          2000,
          2012,
          2016
         ],
         "xaxis": "x",
         "y": [
          58,
          4,
          4,
          9
         ],
         "yaxis": "y"
        },
        {
         "hovertemplate": "region=Namibia<br>Year=%{x}<br>Nb of athletes=%{y}<extra></extra>",
         "legendgroup": "Namibia",
         "line": {
          "color": "#636efa",
          "dash": "solid"
         },
         "marker": {
          "symbol": "circle"
         },
         "mode": "lines",
         "name": "Namibia",
         "showlegend": true,
         "type": "scattergl",
         "x": [
          1992,
          1996,
          2000,
          2004,
          2008,
          2012,
          2016
         ],
         "xaxis": "x",
         "y": [
          6,
          8,
          11,
          8,
          10,
          9,
          10
         ],
         "yaxis": "y"
        },
        {
         "hovertemplate": "region=Slovenia<br>Year=%{x}<br>Nb of athletes=%{y}<extra></extra>",
         "legendgroup": "Slovenia",
         "line": {
          "color": "#EF553B",
          "dash": "solid"
         },
         "marker": {
          "symbol": "circle"
         },
         "mode": "lines",
         "name": "Slovenia",
         "showlegend": true,
         "type": "scattergl",
         "x": [
          1992,
          1996,
          2000,
          2004,
          2008,
          2012,
          2016
         ],
         "xaxis": "x",
         "y": [
          35,
          37,
          74,
          79,
          61,
          65,
          63
         ],
         "yaxis": "y"
        },
        {
         "hovertemplate": "region=Armenia<br>Year=%{x}<br>Nb of athletes=%{y}<extra></extra>",
         "legendgroup": "Armenia",
         "line": {
          "color": "#00cc96",
          "dash": "solid"
         },
         "marker": {
          "symbol": "circle"
         },
         "mode": "lines",
         "name": "Armenia",
         "showlegend": true,
         "type": "scattergl",
         "x": [
          1996,
          2000,
          2004,
          2008,
          2012,
          2016
         ],
         "xaxis": "x",
         "y": [
          32,
          25,
          18,
          25,
          24,
          31
         ],
         "yaxis": "y"
        },
        {
         "hovertemplate": "region=Azerbaijan<br>Year=%{x}<br>Nb of athletes=%{y}<extra></extra>",
         "legendgroup": "Azerbaijan",
         "line": {
          "color": "#ab63fa",
          "dash": "solid"
         },
         "marker": {
          "symbol": "circle"
         },
         "mode": "lines",
         "name": "Azerbaijan",
         "showlegend": true,
         "type": "scattergl",
         "x": [
          1996,
          2000,
          2004,
          2008,
          2012,
          2016
         ],
         "xaxis": "x",
         "y": [
          23,
          31,
          36,
          44,
          52,
          56
         ],
         "yaxis": "y"
        },
        {
         "hovertemplate": "region=Belarus<br>Year=%{x}<br>Nb of athletes=%{y}<extra></extra>",
         "legendgroup": "Belarus",
         "line": {
          "color": "#FFA15A",
          "dash": "solid"
         },
         "marker": {
          "symbol": "circle"
         },
         "mode": "lines",
         "name": "Belarus",
         "showlegend": true,
         "type": "scattergl",
         "x": [
          1996,
          2000,
          2004,
          2008,
          2012,
          2016
         ],
         "xaxis": "x",
         "y": [
          157,
          139,
          151,
          177,
          160,
          120
         ],
         "yaxis": "y"
        },
        {
         "hovertemplate": "region=Brunei<br>Year=%{x}<br>Nb of athletes=%{y}<extra></extra>",
         "legendgroup": "Brunei",
         "line": {
          "color": "#19d3f3",
          "dash": "solid"
         },
         "marker": {
          "symbol": "circle"
         },
         "mode": "lines",
         "name": "Brunei",
         "showlegend": true,
         "type": "scattergl",
         "x": [
          1996,
          2000,
          2004,
          2012,
          2016
         ],
         "xaxis": "x",
         "y": [
          1,
          2,
          1,
          3,
          3
         ],
         "yaxis": "y"
        },
        {
         "hovertemplate": "region=Burundi<br>Year=%{x}<br>Nb of athletes=%{y}<extra></extra>",
         "legendgroup": "Burundi",
         "line": {
          "color": "#FF6692",
          "dash": "solid"
         },
         "marker": {
          "symbol": "circle"
         },
         "mode": "lines",
         "name": "Burundi",
         "showlegend": true,
         "type": "scattergl",
         "x": [
          1996,
          2000,
          2004,
          2008,
          2012,
          2016
         ],
         "xaxis": "x",
         "y": [
          7,
          6,
          7,
          3,
          6,
          9
         ],
         "yaxis": "y"
        },
        {
         "hovertemplate": "region=Cape Verde<br>Year=%{x}<br>Nb of athletes=%{y}<extra></extra>",
         "legendgroup": "Cape Verde",
         "line": {
          "color": "#B6E880",
          "dash": "solid"
         },
         "marker": {
          "symbol": "circle"
         },
         "mode": "lines",
         "name": "Cape Verde",
         "showlegend": true,
         "type": "scattergl",
         "x": [
          1996,
          2000,
          2004,
          2008,
          2012,
          2016
         ],
         "xaxis": "x",
         "y": [
          3,
          2,
          3,
          2,
          3,
          5
         ],
         "yaxis": "y"
        },
        {
         "hovertemplate": "region=Comoros<br>Year=%{x}<br>Nb of athletes=%{y}<extra></extra>",
         "legendgroup": "Comoros",
         "line": {
          "color": "#FF97FF",
          "dash": "solid"
         },
         "marker": {
          "symbol": "circle"
         },
         "mode": "lines",
         "name": "Comoros",
         "showlegend": true,
         "type": "scattergl",
         "x": [
          1996,
          2000,
          2004,
          2008,
          2012,
          2016
         ],
         "xaxis": "x",
         "y": [
          4,
          2,
          3,
          3,
          3,
          4
         ],
         "yaxis": "y"
        },
        {
         "hovertemplate": "region=Dominica<br>Year=%{x}<br>Nb of athletes=%{y}<extra></extra>",
         "legendgroup": "Dominica",
         "line": {
          "color": "#FECB52",
          "dash": "solid"
         },
         "marker": {
          "symbol": "circle"
         },
         "mode": "lines",
         "name": "Dominica",
         "showlegend": true,
         "type": "scattergl",
         "x": [
          1996,
          2000,
          2004,
          2008,
          2012,
          2016
         ],
         "xaxis": "x",
         "y": [
          6,
          4,
          2,
          2,
          2,
          2
         ],
         "yaxis": "y"
        },
        {
         "hovertemplate": "region=Georgia<br>Year=%{x}<br>Nb of athletes=%{y}<extra></extra>",
         "legendgroup": "Georgia",
         "line": {
          "color": "#636efa",
          "dash": "solid"
         },
         "marker": {
          "symbol": "circle"
         },
         "mode": "lines",
         "name": "Georgia",
         "showlegend": true,
         "type": "scattergl",
         "x": [
          1996,
          2000,
          2004,
          2008,
          2012,
          2016
         ],
         "xaxis": "x",
         "y": [
          34,
          36,
          32,
          35,
          34,
          40
         ],
         "yaxis": "y"
        },
        {
         "hovertemplate": "region=Guinea-Bissau<br>Year=%{x}<br>Nb of athletes=%{y}<extra></extra>",
         "legendgroup": "Guinea-Bissau",
         "line": {
          "color": "#EF553B",
          "dash": "solid"
         },
         "marker": {
          "symbol": "circle"
         },
         "mode": "lines",
         "name": "Guinea-Bissau",
         "showlegend": true,
         "type": "scattergl",
         "x": [
          1996,
          2000,
          2004,
          2008,
          2012,
          2016
         ],
         "xaxis": "x",
         "y": [
          3,
          3,
          3,
          3,
          4,
          5
         ],
         "yaxis": "y"
        },
        {
         "hovertemplate": "region=Kazakhstan<br>Year=%{x}<br>Nb of athletes=%{y}<extra></extra>",
         "legendgroup": "Kazakhstan",
         "line": {
          "color": "#00cc96",
          "dash": "solid"
         },
         "marker": {
          "symbol": "circle"
         },
         "mode": "lines",
         "name": "Kazakhstan",
         "showlegend": true,
         "type": "scattergl",
         "x": [
          1996,
          2000,
          2004,
          2008,
          2012,
          2016
         ],
         "xaxis": "x",
         "y": [
          96,
          130,
          114,
          130,
          113,
          101
         ],
         "yaxis": "y"
        },
        {
         "hovertemplate": "region=Kyrgyzstan<br>Year=%{x}<br>Nb of athletes=%{y}<extra></extra>",
         "legendgroup": "Kyrgyzstan",
         "line": {
          "color": "#ab63fa",
          "dash": "solid"
         },
         "marker": {
          "symbol": "circle"
         },
         "mode": "lines",
         "name": "Kyrgyzstan",
         "showlegend": true,
         "type": "scattergl",
         "x": [
          1996,
          2000,
          2004,
          2008,
          2012,
          2016
         ],
         "xaxis": "x",
         "y": [
          33,
          48,
          29,
          20,
          14,
          19
         ],
         "yaxis": "y"
        },
        {
         "hovertemplate": "region=Macedonia<br>Year=%{x}<br>Nb of athletes=%{y}<extra></extra>",
         "legendgroup": "Macedonia",
         "line": {
          "color": "#FFA15A",
          "dash": "solid"
         },
         "marker": {
          "symbol": "circle"
         },
         "mode": "lines",
         "name": "Macedonia",
         "showlegend": true,
         "type": "scattergl",
         "x": [
          1996,
          2000,
          2004,
          2008,
          2012,
          2016
         ],
         "xaxis": "x",
         "y": [
          11,
          10,
          10,
          7,
          4,
          6
         ],
         "yaxis": "y"
        },
        {
         "hovertemplate": "region=Moldova<br>Year=%{x}<br>Nb of athletes=%{y}<extra></extra>",
         "legendgroup": "Moldova",
         "line": {
          "color": "#19d3f3",
          "dash": "solid"
         },
         "marker": {
          "symbol": "circle"
         },
         "mode": "lines",
         "name": "Moldova",
         "showlegend": true,
         "type": "scattergl",
         "x": [
          1996,
          2000,
          2004,
          2008,
          2012,
          2016
         ],
         "xaxis": "x",
         "y": [
          40,
          34,
          33,
          29,
          20,
          23
         ],
         "yaxis": "y"
        },
        {
         "hovertemplate": "region=Nauru<br>Year=%{x}<br>Nb of athletes=%{y}<extra></extra>",
         "legendgroup": "Nauru",
         "line": {
          "color": "#FF6692",
          "dash": "solid"
         },
         "marker": {
          "symbol": "circle"
         },
         "mode": "lines",
         "name": "Nauru",
         "showlegend": true,
         "type": "scattergl",
         "x": [
          1996,
          2000,
          2004,
          2008,
          2012,
          2016
         ],
         "xaxis": "x",
         "y": [
          3,
          2,
          3,
          1,
          2,
          2
         ],
         "yaxis": "y"
        },
        {
         "hovertemplate": "region=Palestine<br>Year=%{x}<br>Nb of athletes=%{y}<extra></extra>",
         "legendgroup": "Palestine",
         "line": {
          "color": "#B6E880",
          "dash": "solid"
         },
         "marker": {
          "symbol": "circle"
         },
         "mode": "lines",
         "name": "Palestine",
         "showlegend": true,
         "type": "scattergl",
         "x": [
          1996,
          2000,
          2004,
          2008,
          2012,
          2016
         ],
         "xaxis": "x",
         "y": [
          1,
          2,
          3,
          4,
          5,
          6
         ],
         "yaxis": "y"
        },
        {
         "hovertemplate": "region=Saint Kitts<br>Year=%{x}<br>Nb of athletes=%{y}<extra></extra>",
         "legendgroup": "Saint Kitts",
         "line": {
          "color": "#FF97FF",
          "dash": "solid"
         },
         "marker": {
          "symbol": "circle"
         },
         "mode": "lines",
         "name": "Saint Kitts",
         "showlegend": true,
         "type": "scattergl",
         "x": [
          1996,
          2000,
          2004,
          2008,
          2012,
          2016
         ],
         "xaxis": "x",
         "y": [
          10,
          2,
          2,
          4,
          4,
          6
         ],
         "yaxis": "y"
        },
        {
         "hovertemplate": "region=Saint Lucia<br>Year=%{x}<br>Nb of athletes=%{y}<extra></extra>",
         "legendgroup": "Saint Lucia",
         "line": {
          "color": "#FECB52",
          "dash": "solid"
         },
         "marker": {
          "symbol": "circle"
         },
         "mode": "lines",
         "name": "Saint Lucia",
         "showlegend": true,
         "type": "scattergl",
         "x": [
          1996,
          2000,
          2004,
          2008,
          2012,
          2016
         ],
         "xaxis": "x",
         "y": [
          6,
          5,
          2,
          4,
          4,
          5
         ],
         "yaxis": "y"
        },
        {
         "hovertemplate": "region=Sao Tome and Principe<br>Year=%{x}<br>Nb of athletes=%{y}<extra></extra>",
         "legendgroup": "Sao Tome and Principe",
         "line": {
          "color": "#636efa",
          "dash": "solid"
         },
         "marker": {
          "symbol": "circle"
         },
         "mode": "lines",
         "name": "Sao Tome and Principe",
         "showlegend": true,
         "type": "scattergl",
         "x": [
          1996,
          2000,
          2004,
          2008,
          2012,
          2016
         ],
         "xaxis": "x",
         "y": [
          2,
          2,
          2,
          3,
          2,
          3
         ],
         "yaxis": "y"
        },
        {
         "hovertemplate": "region=Slovakia<br>Year=%{x}<br>Nb of athletes=%{y}<extra></extra>",
         "legendgroup": "Slovakia",
         "line": {
          "color": "#EF553B",
          "dash": "solid"
         },
         "marker": {
          "symbol": "circle"
         },
         "mode": "lines",
         "name": "Slovakia",
         "showlegend": true,
         "type": "scattergl",
         "x": [
          1996,
          2000,
          2004,
          2008,
          2012,
          2016
         ],
         "xaxis": "x",
         "y": [
          71,
          108,
          64,
          57,
          47,
          51
         ],
         "yaxis": "y"
        },
        {
         "hovertemplate": "region=Tajikistan<br>Year=%{x}<br>Nb of athletes=%{y}<extra></extra>",
         "legendgroup": "Tajikistan",
         "line": {
          "color": "#00cc96",
          "dash": "solid"
         },
         "marker": {
          "symbol": "circle"
         },
         "mode": "lines",
         "name": "Tajikistan",
         "showlegend": true,
         "type": "scattergl",
         "x": [
          1996,
          2000,
          2004,
          2008,
          2012,
          2016
         ],
         "xaxis": "x",
         "y": [
          8,
          4,
          9,
          15,
          16,
          7
         ],
         "yaxis": "y"
        },
        {
         "hovertemplate": "region=Turkmenistan<br>Year=%{x}<br>Nb of athletes=%{y}<extra></extra>",
         "legendgroup": "Turkmenistan",
         "line": {
          "color": "#ab63fa",
          "dash": "solid"
         },
         "marker": {
          "symbol": "circle"
         },
         "mode": "lines",
         "name": "Turkmenistan",
         "showlegend": true,
         "type": "scattergl",
         "x": [
          1996,
          2000,
          2004,
          2008,
          2012,
          2016
         ],
         "xaxis": "x",
         "y": [
          7,
          8,
          9,
          10,
          10,
          9
         ],
         "yaxis": "y"
        },
        {
         "hovertemplate": "region=Ukraine<br>Year=%{x}<br>Nb of athletes=%{y}<extra></extra>",
         "legendgroup": "Ukraine",
         "line": {
          "color": "#FFA15A",
          "dash": "solid"
         },
         "marker": {
          "symbol": "circle"
         },
         "mode": "lines",
         "name": "Ukraine",
         "showlegend": true,
         "type": "scattergl",
         "x": [
          1996,
          2000,
          2004,
          2008,
          2012,
          2016
         ],
         "xaxis": "x",
         "y": [
          231,
          230,
          239,
          243,
          230,
          204
         ],
         "yaxis": "y"
        },
        {
         "hovertemplate": "region=Uzbekistan<br>Year=%{x}<br>Nb of athletes=%{y}<extra></extra>",
         "legendgroup": "Uzbekistan",
         "line": {
          "color": "#19d3f3",
          "dash": "solid"
         },
         "marker": {
          "symbol": "circle"
         },
         "mode": "lines",
         "name": "Uzbekistan",
         "showlegend": true,
         "type": "scattergl",
         "x": [
          1996,
          2000,
          2004,
          2008,
          2012,
          2016
         ],
         "xaxis": "x",
         "y": [
          71,
          70,
          69,
          56,
          53,
          70
         ],
         "yaxis": "y"
        },
        {
         "hovertemplate": "region=Eritrea<br>Year=%{x}<br>Nb of athletes=%{y}<extra></extra>",
         "legendgroup": "Eritrea",
         "line": {
          "color": "#FF6692",
          "dash": "solid"
         },
         "marker": {
          "symbol": "circle"
         },
         "mode": "lines",
         "name": "Eritrea",
         "showlegend": true,
         "type": "scattergl",
         "x": [
          2000,
          2004,
          2008,
          2012,
          2016
         ],
         "xaxis": "x",
         "y": [
          3,
          4,
          10,
          12,
          12
         ],
         "yaxis": "y"
        },
        {
         "hovertemplate": "region=Micronesia<br>Year=%{x}<br>Nb of athletes=%{y}<extra></extra>",
         "legendgroup": "Micronesia",
         "line": {
          "color": "#B6E880",
          "dash": "solid"
         },
         "marker": {
          "symbol": "circle"
         },
         "mode": "lines",
         "name": "Micronesia",
         "showlegend": true,
         "type": "scattergl",
         "x": [
          2000,
          2004,
          2008,
          2012,
          2016
         ],
         "xaxis": "x",
         "y": [
          5,
          5,
          5,
          6,
          5
         ],
         "yaxis": "y"
        },
        {
         "hovertemplate": "region=Palau<br>Year=%{x}<br>Nb of athletes=%{y}<extra></extra>",
         "legendgroup": "Palau",
         "line": {
          "color": "#FF97FF",
          "dash": "solid"
         },
         "marker": {
          "symbol": "circle"
         },
         "mode": "lines",
         "name": "Palau",
         "showlegend": true,
         "type": "scattergl",
         "x": [
          2000,
          2004,
          2008,
          2012,
          2016
         ],
         "xaxis": "x",
         "y": [
          5,
          4,
          5,
          5,
          5
         ],
         "yaxis": "y"
        },
        {
         "hovertemplate": "region=Kiribati<br>Year=%{x}<br>Nb of athletes=%{y}<extra></extra>",
         "legendgroup": "Kiribati",
         "line": {
          "color": "#FECB52",
          "dash": "solid"
         },
         "marker": {
          "symbol": "circle"
         },
         "mode": "lines",
         "name": "Kiribati",
         "showlegend": true,
         "type": "scattergl",
         "x": [
          2004,
          2008,
          2012,
          2016
         ],
         "xaxis": "x",
         "y": [
          3,
          2,
          3,
          3
         ],
         "yaxis": "y"
        },
        {
         "hovertemplate": "region=Timor-Leste<br>Year=%{x}<br>Nb of athletes=%{y}<extra></extra>",
         "legendgroup": "Timor-Leste",
         "line": {
          "color": "#636efa",
          "dash": "solid"
         },
         "marker": {
          "symbol": "circle"
         },
         "mode": "lines",
         "name": "Timor-Leste",
         "showlegend": true,
         "type": "scattergl",
         "x": [
          2004,
          2008,
          2012,
          2016
         ],
         "xaxis": "x",
         "y": [
          2,
          1,
          2,
          3
         ],
         "yaxis": "y"
        },
        {
         "hovertemplate": "region=Marshall Islands<br>Year=%{x}<br>Nb of athletes=%{y}<extra></extra>",
         "legendgroup": "Marshall Islands",
         "line": {
          "color": "#EF553B",
          "dash": "solid"
         },
         "marker": {
          "symbol": "circle"
         },
         "mode": "lines",
         "name": "Marshall Islands",
         "showlegend": true,
         "type": "scattergl",
         "x": [
          2008,
          2012,
          2016
         ],
         "xaxis": "x",
         "y": [
          5,
          4,
          5
         ],
         "yaxis": "y"
        },
        {
         "hovertemplate": "region=Montenegro<br>Year=%{x}<br>Nb of athletes=%{y}<extra></extra>",
         "legendgroup": "Montenegro",
         "line": {
          "color": "#00cc96",
          "dash": "solid"
         },
         "marker": {
          "symbol": "circle"
         },
         "mode": "lines",
         "name": "Montenegro",
         "showlegend": true,
         "type": "scattergl",
         "x": [
          2008,
          2012,
          2016
         ],
         "xaxis": "x",
         "y": [
          19,
          33,
          35
         ],
         "yaxis": "y"
        },
        {
         "hovertemplate": "region=Kosovo<br>Year=%{x}<br>Nb of athletes=%{y}<extra></extra>",
         "legendgroup": "Kosovo",
         "line": {
          "color": "#ab63fa",
          "dash": "solid"
         },
         "marker": {
          "symbol": "circle"
         },
         "mode": "lines",
         "name": "Kosovo",
         "showlegend": true,
         "type": "scattergl",
         "x": [
          2016
         ],
         "xaxis": "x",
         "y": [
          8
         ],
         "yaxis": "y"
        },
        {
         "hovertemplate": "region=South Sudan<br>Year=%{x}<br>Nb of athletes=%{y}<extra></extra>",
         "legendgroup": "South Sudan",
         "line": {
          "color": "#FFA15A",
          "dash": "solid"
         },
         "marker": {
          "symbol": "circle"
         },
         "mode": "lines",
         "name": "South Sudan",
         "showlegend": true,
         "type": "scattergl",
         "x": [
          2016
         ],
         "xaxis": "x",
         "y": [
          3
         ],
         "yaxis": "y"
        }
       ],
       "layout": {
        "legend": {
         "title": {
          "text": "region"
         },
         "tracegroupgap": 0
        },
        "template": {
         "data": {
          "bar": [
           {
            "error_x": {
             "color": "#2a3f5f"
            },
            "error_y": {
             "color": "#2a3f5f"
            },
            "marker": {
             "line": {
              "color": "#E5ECF6",
              "width": 0.5
             },
             "pattern": {
              "fillmode": "overlay",
              "size": 10,
              "solidity": 0.2
             }
            },
            "type": "bar"
           }
          ],
          "barpolar": [
           {
            "marker": {
             "line": {
              "color": "#E5ECF6",
              "width": 0.5
             },
             "pattern": {
              "fillmode": "overlay",
              "size": 10,
              "solidity": 0.2
             }
            },
            "type": "barpolar"
           }
          ],
          "carpet": [
           {
            "aaxis": {
             "endlinecolor": "#2a3f5f",
             "gridcolor": "white",
             "linecolor": "white",
             "minorgridcolor": "white",
             "startlinecolor": "#2a3f5f"
            },
            "baxis": {
             "endlinecolor": "#2a3f5f",
             "gridcolor": "white",
             "linecolor": "white",
             "minorgridcolor": "white",
             "startlinecolor": "#2a3f5f"
            },
            "type": "carpet"
           }
          ],
          "choropleth": [
           {
            "colorbar": {
             "outlinewidth": 0,
             "ticks": ""
            },
            "type": "choropleth"
           }
          ],
          "contour": [
           {
            "colorbar": {
             "outlinewidth": 0,
             "ticks": ""
            },
            "colorscale": [
             [
              0,
              "#0d0887"
             ],
             [
              0.1111111111111111,
              "#46039f"
             ],
             [
              0.2222222222222222,
              "#7201a8"
             ],
             [
              0.3333333333333333,
              "#9c179e"
             ],
             [
              0.4444444444444444,
              "#bd3786"
             ],
             [
              0.5555555555555556,
              "#d8576b"
             ],
             [
              0.6666666666666666,
              "#ed7953"
             ],
             [
              0.7777777777777778,
              "#fb9f3a"
             ],
             [
              0.8888888888888888,
              "#fdca26"
             ],
             [
              1,
              "#f0f921"
             ]
            ],
            "type": "contour"
           }
          ],
          "contourcarpet": [
           {
            "colorbar": {
             "outlinewidth": 0,
             "ticks": ""
            },
            "type": "contourcarpet"
           }
          ],
          "heatmap": [
           {
            "colorbar": {
             "outlinewidth": 0,
             "ticks": ""
            },
            "colorscale": [
             [
              0,
              "#0d0887"
             ],
             [
              0.1111111111111111,
              "#46039f"
             ],
             [
              0.2222222222222222,
              "#7201a8"
             ],
             [
              0.3333333333333333,
              "#9c179e"
             ],
             [
              0.4444444444444444,
              "#bd3786"
             ],
             [
              0.5555555555555556,
              "#d8576b"
             ],
             [
              0.6666666666666666,
              "#ed7953"
             ],
             [
              0.7777777777777778,
              "#fb9f3a"
             ],
             [
              0.8888888888888888,
              "#fdca26"
             ],
             [
              1,
              "#f0f921"
             ]
            ],
            "type": "heatmap"
           }
          ],
          "heatmapgl": [
           {
            "colorbar": {
             "outlinewidth": 0,
             "ticks": ""
            },
            "colorscale": [
             [
              0,
              "#0d0887"
             ],
             [
              0.1111111111111111,
              "#46039f"
             ],
             [
              0.2222222222222222,
              "#7201a8"
             ],
             [
              0.3333333333333333,
              "#9c179e"
             ],
             [
              0.4444444444444444,
              "#bd3786"
             ],
             [
              0.5555555555555556,
              "#d8576b"
             ],
             [
              0.6666666666666666,
              "#ed7953"
             ],
             [
              0.7777777777777778,
              "#fb9f3a"
             ],
             [
              0.8888888888888888,
              "#fdca26"
             ],
             [
              1,
              "#f0f921"
             ]
            ],
            "type": "heatmapgl"
           }
          ],
          "histogram": [
           {
            "marker": {
             "pattern": {
              "fillmode": "overlay",
              "size": 10,
              "solidity": 0.2
             }
            },
            "type": "histogram"
           }
          ],
          "histogram2d": [
           {
            "colorbar": {
             "outlinewidth": 0,
             "ticks": ""
            },
            "colorscale": [
             [
              0,
              "#0d0887"
             ],
             [
              0.1111111111111111,
              "#46039f"
             ],
             [
              0.2222222222222222,
              "#7201a8"
             ],
             [
              0.3333333333333333,
              "#9c179e"
             ],
             [
              0.4444444444444444,
              "#bd3786"
             ],
             [
              0.5555555555555556,
              "#d8576b"
             ],
             [
              0.6666666666666666,
              "#ed7953"
             ],
             [
              0.7777777777777778,
              "#fb9f3a"
             ],
             [
              0.8888888888888888,
              "#fdca26"
             ],
             [
              1,
              "#f0f921"
             ]
            ],
            "type": "histogram2d"
           }
          ],
          "histogram2dcontour": [
           {
            "colorbar": {
             "outlinewidth": 0,
             "ticks": ""
            },
            "colorscale": [
             [
              0,
              "#0d0887"
             ],
             [
              0.1111111111111111,
              "#46039f"
             ],
             [
              0.2222222222222222,
              "#7201a8"
             ],
             [
              0.3333333333333333,
              "#9c179e"
             ],
             [
              0.4444444444444444,
              "#bd3786"
             ],
             [
              0.5555555555555556,
              "#d8576b"
             ],
             [
              0.6666666666666666,
              "#ed7953"
             ],
             [
              0.7777777777777778,
              "#fb9f3a"
             ],
             [
              0.8888888888888888,
              "#fdca26"
             ],
             [
              1,
              "#f0f921"
             ]
            ],
            "type": "histogram2dcontour"
           }
          ],
          "mesh3d": [
           {
            "colorbar": {
             "outlinewidth": 0,
             "ticks": ""
            },
            "type": "mesh3d"
           }
          ],
          "parcoords": [
           {
            "line": {
             "colorbar": {
              "outlinewidth": 0,
              "ticks": ""
             }
            },
            "type": "parcoords"
           }
          ],
          "pie": [
           {
            "automargin": true,
            "type": "pie"
           }
          ],
          "scatter": [
           {
            "fillpattern": {
             "fillmode": "overlay",
             "size": 10,
             "solidity": 0.2
            },
            "type": "scatter"
           }
          ],
          "scatter3d": [
           {
            "line": {
             "colorbar": {
              "outlinewidth": 0,
              "ticks": ""
             }
            },
            "marker": {
             "colorbar": {
              "outlinewidth": 0,
              "ticks": ""
             }
            },
            "type": "scatter3d"
           }
          ],
          "scattercarpet": [
           {
            "marker": {
             "colorbar": {
              "outlinewidth": 0,
              "ticks": ""
             }
            },
            "type": "scattercarpet"
           }
          ],
          "scattergeo": [
           {
            "marker": {
             "colorbar": {
              "outlinewidth": 0,
              "ticks": ""
             }
            },
            "type": "scattergeo"
           }
          ],
          "scattergl": [
           {
            "marker": {
             "colorbar": {
              "outlinewidth": 0,
              "ticks": ""
             }
            },
            "type": "scattergl"
           }
          ],
          "scattermapbox": [
           {
            "marker": {
             "colorbar": {
              "outlinewidth": 0,
              "ticks": ""
             }
            },
            "type": "scattermapbox"
           }
          ],
          "scatterpolar": [
           {
            "marker": {
             "colorbar": {
              "outlinewidth": 0,
              "ticks": ""
             }
            },
            "type": "scatterpolar"
           }
          ],
          "scatterpolargl": [
           {
            "marker": {
             "colorbar": {
              "outlinewidth": 0,
              "ticks": ""
             }
            },
            "type": "scatterpolargl"
           }
          ],
          "scatterternary": [
           {
            "marker": {
             "colorbar": {
              "outlinewidth": 0,
              "ticks": ""
             }
            },
            "type": "scatterternary"
           }
          ],
          "surface": [
           {
            "colorbar": {
             "outlinewidth": 0,
             "ticks": ""
            },
            "colorscale": [
             [
              0,
              "#0d0887"
             ],
             [
              0.1111111111111111,
              "#46039f"
             ],
             [
              0.2222222222222222,
              "#7201a8"
             ],
             [
              0.3333333333333333,
              "#9c179e"
             ],
             [
              0.4444444444444444,
              "#bd3786"
             ],
             [
              0.5555555555555556,
              "#d8576b"
             ],
             [
              0.6666666666666666,
              "#ed7953"
             ],
             [
              0.7777777777777778,
              "#fb9f3a"
             ],
             [
              0.8888888888888888,
              "#fdca26"
             ],
             [
              1,
              "#f0f921"
             ]
            ],
            "type": "surface"
           }
          ],
          "table": [
           {
            "cells": {
             "fill": {
              "color": "#EBF0F8"
             },
             "line": {
              "color": "white"
             }
            },
            "header": {
             "fill": {
              "color": "#C8D4E3"
             },
             "line": {
              "color": "white"
             }
            },
            "type": "table"
           }
          ]
         },
         "layout": {
          "annotationdefaults": {
           "arrowcolor": "#2a3f5f",
           "arrowhead": 0,
           "arrowwidth": 1
          },
          "autotypenumbers": "strict",
          "coloraxis": {
           "colorbar": {
            "outlinewidth": 0,
            "ticks": ""
           }
          },
          "colorscale": {
           "diverging": [
            [
             0,
             "#8e0152"
            ],
            [
             0.1,
             "#c51b7d"
            ],
            [
             0.2,
             "#de77ae"
            ],
            [
             0.3,
             "#f1b6da"
            ],
            [
             0.4,
             "#fde0ef"
            ],
            [
             0.5,
             "#f7f7f7"
            ],
            [
             0.6,
             "#e6f5d0"
            ],
            [
             0.7,
             "#b8e186"
            ],
            [
             0.8,
             "#7fbc41"
            ],
            [
             0.9,
             "#4d9221"
            ],
            [
             1,
             "#276419"
            ]
           ],
           "sequential": [
            [
             0,
             "#0d0887"
            ],
            [
             0.1111111111111111,
             "#46039f"
            ],
            [
             0.2222222222222222,
             "#7201a8"
            ],
            [
             0.3333333333333333,
             "#9c179e"
            ],
            [
             0.4444444444444444,
             "#bd3786"
            ],
            [
             0.5555555555555556,
             "#d8576b"
            ],
            [
             0.6666666666666666,
             "#ed7953"
            ],
            [
             0.7777777777777778,
             "#fb9f3a"
            ],
            [
             0.8888888888888888,
             "#fdca26"
            ],
            [
             1,
             "#f0f921"
            ]
           ],
           "sequentialminus": [
            [
             0,
             "#0d0887"
            ],
            [
             0.1111111111111111,
             "#46039f"
            ],
            [
             0.2222222222222222,
             "#7201a8"
            ],
            [
             0.3333333333333333,
             "#9c179e"
            ],
            [
             0.4444444444444444,
             "#bd3786"
            ],
            [
             0.5555555555555556,
             "#d8576b"
            ],
            [
             0.6666666666666666,
             "#ed7953"
            ],
            [
             0.7777777777777778,
             "#fb9f3a"
            ],
            [
             0.8888888888888888,
             "#fdca26"
            ],
            [
             1,
             "#f0f921"
            ]
           ]
          },
          "colorway": [
           "#636efa",
           "#EF553B",
           "#00cc96",
           "#ab63fa",
           "#FFA15A",
           "#19d3f3",
           "#FF6692",
           "#B6E880",
           "#FF97FF",
           "#FECB52"
          ],
          "font": {
           "color": "#2a3f5f"
          },
          "geo": {
           "bgcolor": "white",
           "lakecolor": "white",
           "landcolor": "#E5ECF6",
           "showlakes": true,
           "showland": true,
           "subunitcolor": "white"
          },
          "hoverlabel": {
           "align": "left"
          },
          "hovermode": "closest",
          "mapbox": {
           "style": "light"
          },
          "paper_bgcolor": "white",
          "plot_bgcolor": "#E5ECF6",
          "polar": {
           "angularaxis": {
            "gridcolor": "white",
            "linecolor": "white",
            "ticks": ""
           },
           "bgcolor": "#E5ECF6",
           "radialaxis": {
            "gridcolor": "white",
            "linecolor": "white",
            "ticks": ""
           }
          },
          "scene": {
           "xaxis": {
            "backgroundcolor": "#E5ECF6",
            "gridcolor": "white",
            "gridwidth": 2,
            "linecolor": "white",
            "showbackground": true,
            "ticks": "",
            "zerolinecolor": "white"
           },
           "yaxis": {
            "backgroundcolor": "#E5ECF6",
            "gridcolor": "white",
            "gridwidth": 2,
            "linecolor": "white",
            "showbackground": true,
            "ticks": "",
            "zerolinecolor": "white"
           },
           "zaxis": {
            "backgroundcolor": "#E5ECF6",
            "gridcolor": "white",
            "gridwidth": 2,
            "linecolor": "white",
            "showbackground": true,
            "ticks": "",
            "zerolinecolor": "white"
           }
          },
          "shapedefaults": {
           "line": {
            "color": "#2a3f5f"
           }
          },
          "ternary": {
           "aaxis": {
            "gridcolor": "white",
            "linecolor": "white",
            "ticks": ""
           },
           "baxis": {
            "gridcolor": "white",
            "linecolor": "white",
            "ticks": ""
           },
           "bgcolor": "#E5ECF6",
           "caxis": {
            "gridcolor": "white",
            "linecolor": "white",
            "ticks": ""
           }
          },
          "title": {
           "x": 0.05
          },
          "xaxis": {
           "automargin": true,
           "gridcolor": "white",
           "linecolor": "white",
           "ticks": "",
           "title": {
            "standoff": 15
           },
           "zerolinecolor": "white",
           "zerolinewidth": 2
          },
          "yaxis": {
           "automargin": true,
           "gridcolor": "white",
           "linecolor": "white",
           "ticks": "",
           "title": {
            "standoff": 15
           },
           "zerolinecolor": "white",
           "zerolinewidth": 2
          }
         }
        },
        "title": {
         "text": "Number of athletes per year and per country"
        },
        "xaxis": {
         "anchor": "y",
         "domain": [
          0,
          1
         ],
         "title": {
          "text": "Year"
         }
        },
        "yaxis": {
         "anchor": "x",
         "domain": [
          0,
          1
         ],
         "title": {
          "text": "Nb of athletes"
         }
        }
       }
      }
     },
     "metadata": {},
     "output_type": "display_data"
    }
   ],
   "source": [
    "# we plot the number of athletes per year and per country in summer games\n",
    "fig = px.line(athletes_per_country_summer, x=\"Year\", y=\"Nb of athletes\", color=\"region\", title=\"Number of athletes per year and per country\")\n",
    "fig.show()"
   ]
  },
  {
   "cell_type": "code",
   "execution_count": 75,
   "metadata": {},
   "outputs": [
    {
     "data": {
      "text/html": [
       "<div>\n",
       "<style scoped>\n",
       "    .dataframe tbody tr th:only-of-type {\n",
       "        vertical-align: middle;\n",
       "    }\n",
       "\n",
       "    .dataframe tbody tr th {\n",
       "        vertical-align: top;\n",
       "    }\n",
       "\n",
       "    .dataframe thead th {\n",
       "        text-align: right;\n",
       "    }\n",
       "</style>\n",
       "<table border=\"1\" class=\"dataframe\">\n",
       "  <thead>\n",
       "    <tr style=\"text-align: right;\">\n",
       "      <th></th>\n",
       "      <th>Nb of athletes</th>\n",
       "    </tr>\n",
       "    <tr>\n",
       "      <th>region</th>\n",
       "      <th></th>\n",
       "    </tr>\n",
       "  </thead>\n",
       "  <tbody>\n",
       "    <tr>\n",
       "      <th>USA</th>\n",
       "      <td>370.107143</td>\n",
       "    </tr>\n",
       "    <tr>\n",
       "      <th>Germany</th>\n",
       "      <td>326.115385</td>\n",
       "    </tr>\n",
       "    <tr>\n",
       "      <th>Russia</th>\n",
       "      <td>316.200000</td>\n",
       "    </tr>\n",
       "    <tr>\n",
       "      <th>UK</th>\n",
       "      <td>263.241379</td>\n",
       "    </tr>\n",
       "    <tr>\n",
       "      <th>France</th>\n",
       "      <td>242.310345</td>\n",
       "    </tr>\n",
       "    <tr>\n",
       "      <th>Ukraine</th>\n",
       "      <td>229.500000</td>\n",
       "    </tr>\n",
       "    <tr>\n",
       "      <th>Italy</th>\n",
       "      <td>197.896552</td>\n",
       "    </tr>\n",
       "    <tr>\n",
       "      <th>Japan</th>\n",
       "      <td>193.863636</td>\n",
       "    </tr>\n",
       "    <tr>\n",
       "      <th>China</th>\n",
       "      <td>187.315789</td>\n",
       "    </tr>\n",
       "    <tr>\n",
       "      <th>Australia</th>\n",
       "      <td>179.034483</td>\n",
       "    </tr>\n",
       "  </tbody>\n",
       "</table>\n",
       "</div>"
      ],
      "text/plain": [
       "           Nb of athletes\n",
       "region                   \n",
       "USA            370.107143\n",
       "Germany        326.115385\n",
       "Russia         316.200000\n",
       "UK             263.241379\n",
       "France         242.310345\n",
       "Ukraine        229.500000\n",
       "Italy          197.896552\n",
       "Japan          193.863636\n",
       "China          187.315789\n",
       "Australia      179.034483"
      ]
     },
     "execution_count": 75,
     "metadata": {},
     "output_type": "execute_result"
    }
   ],
   "source": [
    "# the graph is overwhelming, we decide to focus on the top 10 countries with the most athletes\n",
    "top_10_countries_summer = athletes_per_country_summer.groupby(['region']).mean().sort_values(by='Nb of athletes', ascending=False).head(10).drop(columns=['Year'])\n",
    "top_10_countries_summer"
   ]
  },
  {
   "cell_type": "code",
   "execution_count": 76,
   "metadata": {},
   "outputs": [
    {
     "data": {
      "text/html": [
       "<div>\n",
       "<style scoped>\n",
       "    .dataframe tbody tr th:only-of-type {\n",
       "        vertical-align: middle;\n",
       "    }\n",
       "\n",
       "    .dataframe tbody tr th {\n",
       "        vertical-align: top;\n",
       "    }\n",
       "\n",
       "    .dataframe thead th {\n",
       "        text-align: right;\n",
       "    }\n",
       "</style>\n",
       "<table border=\"1\" class=\"dataframe\">\n",
       "  <thead>\n",
       "    <tr style=\"text-align: right;\">\n",
       "      <th></th>\n",
       "      <th>Nb of athletes</th>\n",
       "    </tr>\n",
       "    <tr>\n",
       "      <th>region</th>\n",
       "      <th></th>\n",
       "    </tr>\n",
       "  </thead>\n",
       "  <tbody>\n",
       "    <tr>\n",
       "      <th>USA</th>\n",
       "      <td>113.181818</td>\n",
       "    </tr>\n",
       "    <tr>\n",
       "      <th>Russia</th>\n",
       "      <td>111.000000</td>\n",
       "    </tr>\n",
       "    <tr>\n",
       "      <th>Germany</th>\n",
       "      <td>108.750000</td>\n",
       "    </tr>\n",
       "    <tr>\n",
       "      <th>Canada</th>\n",
       "      <td>83.045455</td>\n",
       "    </tr>\n",
       "    <tr>\n",
       "      <th>Italy</th>\n",
       "      <td>67.590909</td>\n",
       "    </tr>\n",
       "    <tr>\n",
       "      <th>Switzerland</th>\n",
       "      <td>64.227273</td>\n",
       "    </tr>\n",
       "    <tr>\n",
       "      <th>Sweden</th>\n",
       "      <td>63.000000</td>\n",
       "    </tr>\n",
       "    <tr>\n",
       "      <th>Austria</th>\n",
       "      <td>61.454545</td>\n",
       "    </tr>\n",
       "    <tr>\n",
       "      <th>Japan</th>\n",
       "      <td>59.650000</td>\n",
       "    </tr>\n",
       "    <tr>\n",
       "      <th>Norway</th>\n",
       "      <td>58.636364</td>\n",
       "    </tr>\n",
       "  </tbody>\n",
       "</table>\n",
       "</div>"
      ],
      "text/plain": [
       "             Nb of athletes\n",
       "region                     \n",
       "USA              113.181818\n",
       "Russia           111.000000\n",
       "Germany          108.750000\n",
       "Canada            83.045455\n",
       "Italy             67.590909\n",
       "Switzerland       64.227273\n",
       "Sweden            63.000000\n",
       "Austria           61.454545\n",
       "Japan             59.650000\n",
       "Norway            58.636364"
      ]
     },
     "execution_count": 76,
     "metadata": {},
     "output_type": "execute_result"
    }
   ],
   "source": [
    "top_10_countries_winter = athletes_per_country_winter.groupby(['region']).mean().sort_values(by='Nb of athletes', ascending=False).head(10).drop(columns=['Year'])\n",
    "top_10_countries_winter"
   ]
  },
  {
   "cell_type": "code",
   "execution_count": 77,
   "metadata": {},
   "outputs": [
    {
     "data": {
      "application/vnd.plotly.v1+json": {
       "config": {
        "plotlyServerURL": "https://plot.ly"
       },
       "data": [
        {
         "alignmentgroup": "True",
         "hovertemplate": "region=%{x}<br>Nb of athletes=%{y}<extra></extra>",
         "legendgroup": "USA",
         "marker": {
          "color": "#636efa",
          "pattern": {
           "shape": ""
          }
         },
         "name": "USA",
         "offsetgroup": "USA",
         "orientation": "v",
         "showlegend": true,
         "textposition": "auto",
         "type": "bar",
         "x": [
          "USA"
         ],
         "xaxis": "x",
         "y": [
          370.10714285714283
         ],
         "yaxis": "y"
        },
        {
         "alignmentgroup": "True",
         "hovertemplate": "region=%{x}<br>Nb of athletes=%{y}<extra></extra>",
         "legendgroup": "Germany",
         "marker": {
          "color": "#EF553B",
          "pattern": {
           "shape": ""
          }
         },
         "name": "Germany",
         "offsetgroup": "Germany",
         "orientation": "v",
         "showlegend": true,
         "textposition": "auto",
         "type": "bar",
         "x": [
          "Germany"
         ],
         "xaxis": "x",
         "y": [
          326.11538461538464
         ],
         "yaxis": "y"
        },
        {
         "alignmentgroup": "True",
         "hovertemplate": "region=%{x}<br>Nb of athletes=%{y}<extra></extra>",
         "legendgroup": "Russia",
         "marker": {
          "color": "#00cc96",
          "pattern": {
           "shape": ""
          }
         },
         "name": "Russia",
         "offsetgroup": "Russia",
         "orientation": "v",
         "showlegend": true,
         "textposition": "auto",
         "type": "bar",
         "x": [
          "Russia"
         ],
         "xaxis": "x",
         "y": [
          316.2
         ],
         "yaxis": "y"
        },
        {
         "alignmentgroup": "True",
         "hovertemplate": "region=%{x}<br>Nb of athletes=%{y}<extra></extra>",
         "legendgroup": "UK",
         "marker": {
          "color": "#ab63fa",
          "pattern": {
           "shape": ""
          }
         },
         "name": "UK",
         "offsetgroup": "UK",
         "orientation": "v",
         "showlegend": true,
         "textposition": "auto",
         "type": "bar",
         "x": [
          "UK"
         ],
         "xaxis": "x",
         "y": [
          263.2413793103448
         ],
         "yaxis": "y"
        },
        {
         "alignmentgroup": "True",
         "hovertemplate": "region=%{x}<br>Nb of athletes=%{y}<extra></extra>",
         "legendgroup": "France",
         "marker": {
          "color": "#FFA15A",
          "pattern": {
           "shape": ""
          }
         },
         "name": "France",
         "offsetgroup": "France",
         "orientation": "v",
         "showlegend": true,
         "textposition": "auto",
         "type": "bar",
         "x": [
          "France"
         ],
         "xaxis": "x",
         "y": [
          242.31034482758622
         ],
         "yaxis": "y"
        },
        {
         "alignmentgroup": "True",
         "hovertemplate": "region=%{x}<br>Nb of athletes=%{y}<extra></extra>",
         "legendgroup": "Ukraine",
         "marker": {
          "color": "#19d3f3",
          "pattern": {
           "shape": ""
          }
         },
         "name": "Ukraine",
         "offsetgroup": "Ukraine",
         "orientation": "v",
         "showlegend": true,
         "textposition": "auto",
         "type": "bar",
         "x": [
          "Ukraine"
         ],
         "xaxis": "x",
         "y": [
          229.5
         ],
         "yaxis": "y"
        },
        {
         "alignmentgroup": "True",
         "hovertemplate": "region=%{x}<br>Nb of athletes=%{y}<extra></extra>",
         "legendgroup": "Italy",
         "marker": {
          "color": "#FF6692",
          "pattern": {
           "shape": ""
          }
         },
         "name": "Italy",
         "offsetgroup": "Italy",
         "orientation": "v",
         "showlegend": true,
         "textposition": "auto",
         "type": "bar",
         "x": [
          "Italy"
         ],
         "xaxis": "x",
         "y": [
          197.89655172413794
         ],
         "yaxis": "y"
        },
        {
         "alignmentgroup": "True",
         "hovertemplate": "region=%{x}<br>Nb of athletes=%{y}<extra></extra>",
         "legendgroup": "Japan",
         "marker": {
          "color": "#B6E880",
          "pattern": {
           "shape": ""
          }
         },
         "name": "Japan",
         "offsetgroup": "Japan",
         "orientation": "v",
         "showlegend": true,
         "textposition": "auto",
         "type": "bar",
         "x": [
          "Japan"
         ],
         "xaxis": "x",
         "y": [
          193.86363636363637
         ],
         "yaxis": "y"
        },
        {
         "alignmentgroup": "True",
         "hovertemplate": "region=%{x}<br>Nb of athletes=%{y}<extra></extra>",
         "legendgroup": "China",
         "marker": {
          "color": "#FF97FF",
          "pattern": {
           "shape": ""
          }
         },
         "name": "China",
         "offsetgroup": "China",
         "orientation": "v",
         "showlegend": true,
         "textposition": "auto",
         "type": "bar",
         "x": [
          "China"
         ],
         "xaxis": "x",
         "y": [
          187.31578947368422
         ],
         "yaxis": "y"
        },
        {
         "alignmentgroup": "True",
         "hovertemplate": "region=%{x}<br>Nb of athletes=%{y}<extra></extra>",
         "legendgroup": "Australia",
         "marker": {
          "color": "#FECB52",
          "pattern": {
           "shape": ""
          }
         },
         "name": "Australia",
         "offsetgroup": "Australia",
         "orientation": "v",
         "showlegend": true,
         "textposition": "auto",
         "type": "bar",
         "x": [
          "Australia"
         ],
         "xaxis": "x",
         "y": [
          179.0344827586207
         ],
         "yaxis": "y"
        }
       ],
       "layout": {
        "barmode": "relative",
        "legend": {
         "title": {
          "text": "region"
         },
         "tracegroupgap": 0
        },
        "template": {
         "data": {
          "bar": [
           {
            "error_x": {
             "color": "#2a3f5f"
            },
            "error_y": {
             "color": "#2a3f5f"
            },
            "marker": {
             "line": {
              "color": "#E5ECF6",
              "width": 0.5
             },
             "pattern": {
              "fillmode": "overlay",
              "size": 10,
              "solidity": 0.2
             }
            },
            "type": "bar"
           }
          ],
          "barpolar": [
           {
            "marker": {
             "line": {
              "color": "#E5ECF6",
              "width": 0.5
             },
             "pattern": {
              "fillmode": "overlay",
              "size": 10,
              "solidity": 0.2
             }
            },
            "type": "barpolar"
           }
          ],
          "carpet": [
           {
            "aaxis": {
             "endlinecolor": "#2a3f5f",
             "gridcolor": "white",
             "linecolor": "white",
             "minorgridcolor": "white",
             "startlinecolor": "#2a3f5f"
            },
            "baxis": {
             "endlinecolor": "#2a3f5f",
             "gridcolor": "white",
             "linecolor": "white",
             "minorgridcolor": "white",
             "startlinecolor": "#2a3f5f"
            },
            "type": "carpet"
           }
          ],
          "choropleth": [
           {
            "colorbar": {
             "outlinewidth": 0,
             "ticks": ""
            },
            "type": "choropleth"
           }
          ],
          "contour": [
           {
            "colorbar": {
             "outlinewidth": 0,
             "ticks": ""
            },
            "colorscale": [
             [
              0,
              "#0d0887"
             ],
             [
              0.1111111111111111,
              "#46039f"
             ],
             [
              0.2222222222222222,
              "#7201a8"
             ],
             [
              0.3333333333333333,
              "#9c179e"
             ],
             [
              0.4444444444444444,
              "#bd3786"
             ],
             [
              0.5555555555555556,
              "#d8576b"
             ],
             [
              0.6666666666666666,
              "#ed7953"
             ],
             [
              0.7777777777777778,
              "#fb9f3a"
             ],
             [
              0.8888888888888888,
              "#fdca26"
             ],
             [
              1,
              "#f0f921"
             ]
            ],
            "type": "contour"
           }
          ],
          "contourcarpet": [
           {
            "colorbar": {
             "outlinewidth": 0,
             "ticks": ""
            },
            "type": "contourcarpet"
           }
          ],
          "heatmap": [
           {
            "colorbar": {
             "outlinewidth": 0,
             "ticks": ""
            },
            "colorscale": [
             [
              0,
              "#0d0887"
             ],
             [
              0.1111111111111111,
              "#46039f"
             ],
             [
              0.2222222222222222,
              "#7201a8"
             ],
             [
              0.3333333333333333,
              "#9c179e"
             ],
             [
              0.4444444444444444,
              "#bd3786"
             ],
             [
              0.5555555555555556,
              "#d8576b"
             ],
             [
              0.6666666666666666,
              "#ed7953"
             ],
             [
              0.7777777777777778,
              "#fb9f3a"
             ],
             [
              0.8888888888888888,
              "#fdca26"
             ],
             [
              1,
              "#f0f921"
             ]
            ],
            "type": "heatmap"
           }
          ],
          "heatmapgl": [
           {
            "colorbar": {
             "outlinewidth": 0,
             "ticks": ""
            },
            "colorscale": [
             [
              0,
              "#0d0887"
             ],
             [
              0.1111111111111111,
              "#46039f"
             ],
             [
              0.2222222222222222,
              "#7201a8"
             ],
             [
              0.3333333333333333,
              "#9c179e"
             ],
             [
              0.4444444444444444,
              "#bd3786"
             ],
             [
              0.5555555555555556,
              "#d8576b"
             ],
             [
              0.6666666666666666,
              "#ed7953"
             ],
             [
              0.7777777777777778,
              "#fb9f3a"
             ],
             [
              0.8888888888888888,
              "#fdca26"
             ],
             [
              1,
              "#f0f921"
             ]
            ],
            "type": "heatmapgl"
           }
          ],
          "histogram": [
           {
            "marker": {
             "pattern": {
              "fillmode": "overlay",
              "size": 10,
              "solidity": 0.2
             }
            },
            "type": "histogram"
           }
          ],
          "histogram2d": [
           {
            "colorbar": {
             "outlinewidth": 0,
             "ticks": ""
            },
            "colorscale": [
             [
              0,
              "#0d0887"
             ],
             [
              0.1111111111111111,
              "#46039f"
             ],
             [
              0.2222222222222222,
              "#7201a8"
             ],
             [
              0.3333333333333333,
              "#9c179e"
             ],
             [
              0.4444444444444444,
              "#bd3786"
             ],
             [
              0.5555555555555556,
              "#d8576b"
             ],
             [
              0.6666666666666666,
              "#ed7953"
             ],
             [
              0.7777777777777778,
              "#fb9f3a"
             ],
             [
              0.8888888888888888,
              "#fdca26"
             ],
             [
              1,
              "#f0f921"
             ]
            ],
            "type": "histogram2d"
           }
          ],
          "histogram2dcontour": [
           {
            "colorbar": {
             "outlinewidth": 0,
             "ticks": ""
            },
            "colorscale": [
             [
              0,
              "#0d0887"
             ],
             [
              0.1111111111111111,
              "#46039f"
             ],
             [
              0.2222222222222222,
              "#7201a8"
             ],
             [
              0.3333333333333333,
              "#9c179e"
             ],
             [
              0.4444444444444444,
              "#bd3786"
             ],
             [
              0.5555555555555556,
              "#d8576b"
             ],
             [
              0.6666666666666666,
              "#ed7953"
             ],
             [
              0.7777777777777778,
              "#fb9f3a"
             ],
             [
              0.8888888888888888,
              "#fdca26"
             ],
             [
              1,
              "#f0f921"
             ]
            ],
            "type": "histogram2dcontour"
           }
          ],
          "mesh3d": [
           {
            "colorbar": {
             "outlinewidth": 0,
             "ticks": ""
            },
            "type": "mesh3d"
           }
          ],
          "parcoords": [
           {
            "line": {
             "colorbar": {
              "outlinewidth": 0,
              "ticks": ""
             }
            },
            "type": "parcoords"
           }
          ],
          "pie": [
           {
            "automargin": true,
            "type": "pie"
           }
          ],
          "scatter": [
           {
            "fillpattern": {
             "fillmode": "overlay",
             "size": 10,
             "solidity": 0.2
            },
            "type": "scatter"
           }
          ],
          "scatter3d": [
           {
            "line": {
             "colorbar": {
              "outlinewidth": 0,
              "ticks": ""
             }
            },
            "marker": {
             "colorbar": {
              "outlinewidth": 0,
              "ticks": ""
             }
            },
            "type": "scatter3d"
           }
          ],
          "scattercarpet": [
           {
            "marker": {
             "colorbar": {
              "outlinewidth": 0,
              "ticks": ""
             }
            },
            "type": "scattercarpet"
           }
          ],
          "scattergeo": [
           {
            "marker": {
             "colorbar": {
              "outlinewidth": 0,
              "ticks": ""
             }
            },
            "type": "scattergeo"
           }
          ],
          "scattergl": [
           {
            "marker": {
             "colorbar": {
              "outlinewidth": 0,
              "ticks": ""
             }
            },
            "type": "scattergl"
           }
          ],
          "scattermapbox": [
           {
            "marker": {
             "colorbar": {
              "outlinewidth": 0,
              "ticks": ""
             }
            },
            "type": "scattermapbox"
           }
          ],
          "scatterpolar": [
           {
            "marker": {
             "colorbar": {
              "outlinewidth": 0,
              "ticks": ""
             }
            },
            "type": "scatterpolar"
           }
          ],
          "scatterpolargl": [
           {
            "marker": {
             "colorbar": {
              "outlinewidth": 0,
              "ticks": ""
             }
            },
            "type": "scatterpolargl"
           }
          ],
          "scatterternary": [
           {
            "marker": {
             "colorbar": {
              "outlinewidth": 0,
              "ticks": ""
             }
            },
            "type": "scatterternary"
           }
          ],
          "surface": [
           {
            "colorbar": {
             "outlinewidth": 0,
             "ticks": ""
            },
            "colorscale": [
             [
              0,
              "#0d0887"
             ],
             [
              0.1111111111111111,
              "#46039f"
             ],
             [
              0.2222222222222222,
              "#7201a8"
             ],
             [
              0.3333333333333333,
              "#9c179e"
             ],
             [
              0.4444444444444444,
              "#bd3786"
             ],
             [
              0.5555555555555556,
              "#d8576b"
             ],
             [
              0.6666666666666666,
              "#ed7953"
             ],
             [
              0.7777777777777778,
              "#fb9f3a"
             ],
             [
              0.8888888888888888,
              "#fdca26"
             ],
             [
              1,
              "#f0f921"
             ]
            ],
            "type": "surface"
           }
          ],
          "table": [
           {
            "cells": {
             "fill": {
              "color": "#EBF0F8"
             },
             "line": {
              "color": "white"
             }
            },
            "header": {
             "fill": {
              "color": "#C8D4E3"
             },
             "line": {
              "color": "white"
             }
            },
            "type": "table"
           }
          ]
         },
         "layout": {
          "annotationdefaults": {
           "arrowcolor": "#2a3f5f",
           "arrowhead": 0,
           "arrowwidth": 1
          },
          "autotypenumbers": "strict",
          "coloraxis": {
           "colorbar": {
            "outlinewidth": 0,
            "ticks": ""
           }
          },
          "colorscale": {
           "diverging": [
            [
             0,
             "#8e0152"
            ],
            [
             0.1,
             "#c51b7d"
            ],
            [
             0.2,
             "#de77ae"
            ],
            [
             0.3,
             "#f1b6da"
            ],
            [
             0.4,
             "#fde0ef"
            ],
            [
             0.5,
             "#f7f7f7"
            ],
            [
             0.6,
             "#e6f5d0"
            ],
            [
             0.7,
             "#b8e186"
            ],
            [
             0.8,
             "#7fbc41"
            ],
            [
             0.9,
             "#4d9221"
            ],
            [
             1,
             "#276419"
            ]
           ],
           "sequential": [
            [
             0,
             "#0d0887"
            ],
            [
             0.1111111111111111,
             "#46039f"
            ],
            [
             0.2222222222222222,
             "#7201a8"
            ],
            [
             0.3333333333333333,
             "#9c179e"
            ],
            [
             0.4444444444444444,
             "#bd3786"
            ],
            [
             0.5555555555555556,
             "#d8576b"
            ],
            [
             0.6666666666666666,
             "#ed7953"
            ],
            [
             0.7777777777777778,
             "#fb9f3a"
            ],
            [
             0.8888888888888888,
             "#fdca26"
            ],
            [
             1,
             "#f0f921"
            ]
           ],
           "sequentialminus": [
            [
             0,
             "#0d0887"
            ],
            [
             0.1111111111111111,
             "#46039f"
            ],
            [
             0.2222222222222222,
             "#7201a8"
            ],
            [
             0.3333333333333333,
             "#9c179e"
            ],
            [
             0.4444444444444444,
             "#bd3786"
            ],
            [
             0.5555555555555556,
             "#d8576b"
            ],
            [
             0.6666666666666666,
             "#ed7953"
            ],
            [
             0.7777777777777778,
             "#fb9f3a"
            ],
            [
             0.8888888888888888,
             "#fdca26"
            ],
            [
             1,
             "#f0f921"
            ]
           ]
          },
          "colorway": [
           "#636efa",
           "#EF553B",
           "#00cc96",
           "#ab63fa",
           "#FFA15A",
           "#19d3f3",
           "#FF6692",
           "#B6E880",
           "#FF97FF",
           "#FECB52"
          ],
          "font": {
           "color": "#2a3f5f"
          },
          "geo": {
           "bgcolor": "white",
           "lakecolor": "white",
           "landcolor": "#E5ECF6",
           "showlakes": true,
           "showland": true,
           "subunitcolor": "white"
          },
          "hoverlabel": {
           "align": "left"
          },
          "hovermode": "closest",
          "mapbox": {
           "style": "light"
          },
          "paper_bgcolor": "white",
          "plot_bgcolor": "#E5ECF6",
          "polar": {
           "angularaxis": {
            "gridcolor": "white",
            "linecolor": "white",
            "ticks": ""
           },
           "bgcolor": "#E5ECF6",
           "radialaxis": {
            "gridcolor": "white",
            "linecolor": "white",
            "ticks": ""
           }
          },
          "scene": {
           "xaxis": {
            "backgroundcolor": "#E5ECF6",
            "gridcolor": "white",
            "gridwidth": 2,
            "linecolor": "white",
            "showbackground": true,
            "ticks": "",
            "zerolinecolor": "white"
           },
           "yaxis": {
            "backgroundcolor": "#E5ECF6",
            "gridcolor": "white",
            "gridwidth": 2,
            "linecolor": "white",
            "showbackground": true,
            "ticks": "",
            "zerolinecolor": "white"
           },
           "zaxis": {
            "backgroundcolor": "#E5ECF6",
            "gridcolor": "white",
            "gridwidth": 2,
            "linecolor": "white",
            "showbackground": true,
            "ticks": "",
            "zerolinecolor": "white"
           }
          },
          "shapedefaults": {
           "line": {
            "color": "#2a3f5f"
           }
          },
          "ternary": {
           "aaxis": {
            "gridcolor": "white",
            "linecolor": "white",
            "ticks": ""
           },
           "baxis": {
            "gridcolor": "white",
            "linecolor": "white",
            "ticks": ""
           },
           "bgcolor": "#E5ECF6",
           "caxis": {
            "gridcolor": "white",
            "linecolor": "white",
            "ticks": ""
           }
          },
          "title": {
           "x": 0.05
          },
          "xaxis": {
           "automargin": true,
           "gridcolor": "white",
           "linecolor": "white",
           "ticks": "",
           "title": {
            "standoff": 15
           },
           "zerolinecolor": "white",
           "zerolinewidth": 2
          },
          "yaxis": {
           "automargin": true,
           "gridcolor": "white",
           "linecolor": "white",
           "ticks": "",
           "title": {
            "standoff": 15
           },
           "zerolinecolor": "white",
           "zerolinewidth": 2
          }
         }
        },
        "title": {
         "text": "Top 10 countries with the most athletes"
        },
        "xaxis": {
         "anchor": "y",
         "categoryarray": [
          "USA",
          "Germany",
          "Russia",
          "UK",
          "France",
          "Ukraine",
          "Italy",
          "Japan",
          "China",
          "Australia"
         ],
         "categoryorder": "array",
         "domain": [
          0,
          1
         ],
         "title": {
          "text": "region"
         }
        },
        "yaxis": {
         "anchor": "x",
         "domain": [
          0,
          1
         ],
         "title": {
          "text": "Nb of athletes"
         }
        }
       }
      }
     },
     "metadata": {},
     "output_type": "display_data"
    }
   ],
   "source": [
    "# we plot the top 10 countries with the most athletes in summer games\n",
    "fig = px.bar(top_10_countries_summer, x=top_10_countries_summer.index, y=\"Nb of athletes\", color = top_10_countries_summer.index, title=\"Top 10 countries with the most athletes\")\n",
    "fig.show()"
   ]
  },
  {
   "cell_type": "code",
   "execution_count": 78,
   "metadata": {},
   "outputs": [
    {
     "data": {
      "application/vnd.plotly.v1+json": {
       "config": {
        "plotlyServerURL": "https://plot.ly"
       },
       "data": [
        {
         "alignmentgroup": "True",
         "hovertemplate": "region=%{x}<br>Nb of athletes=%{y}<extra></extra>",
         "legendgroup": "USA",
         "marker": {
          "color": "#636efa",
          "pattern": {
           "shape": ""
          }
         },
         "name": "USA",
         "offsetgroup": "USA",
         "orientation": "v",
         "showlegend": true,
         "textposition": "auto",
         "type": "bar",
         "x": [
          "USA"
         ],
         "xaxis": "x",
         "y": [
          113.18181818181819
         ],
         "yaxis": "y"
        },
        {
         "alignmentgroup": "True",
         "hovertemplate": "region=%{x}<br>Nb of athletes=%{y}<extra></extra>",
         "legendgroup": "Russia",
         "marker": {
          "color": "#EF553B",
          "pattern": {
           "shape": ""
          }
         },
         "name": "Russia",
         "offsetgroup": "Russia",
         "orientation": "v",
         "showlegend": true,
         "textposition": "auto",
         "type": "bar",
         "x": [
          "Russia"
         ],
         "xaxis": "x",
         "y": [
          111
         ],
         "yaxis": "y"
        },
        {
         "alignmentgroup": "True",
         "hovertemplate": "region=%{x}<br>Nb of athletes=%{y}<extra></extra>",
         "legendgroup": "Germany",
         "marker": {
          "color": "#00cc96",
          "pattern": {
           "shape": ""
          }
         },
         "name": "Germany",
         "offsetgroup": "Germany",
         "orientation": "v",
         "showlegend": true,
         "textposition": "auto",
         "type": "bar",
         "x": [
          "Germany"
         ],
         "xaxis": "x",
         "y": [
          108.75
         ],
         "yaxis": "y"
        },
        {
         "alignmentgroup": "True",
         "hovertemplate": "region=%{x}<br>Nb of athletes=%{y}<extra></extra>",
         "legendgroup": "Canada",
         "marker": {
          "color": "#ab63fa",
          "pattern": {
           "shape": ""
          }
         },
         "name": "Canada",
         "offsetgroup": "Canada",
         "orientation": "v",
         "showlegend": true,
         "textposition": "auto",
         "type": "bar",
         "x": [
          "Canada"
         ],
         "xaxis": "x",
         "y": [
          83.04545454545455
         ],
         "yaxis": "y"
        },
        {
         "alignmentgroup": "True",
         "hovertemplate": "region=%{x}<br>Nb of athletes=%{y}<extra></extra>",
         "legendgroup": "Italy",
         "marker": {
          "color": "#FFA15A",
          "pattern": {
           "shape": ""
          }
         },
         "name": "Italy",
         "offsetgroup": "Italy",
         "orientation": "v",
         "showlegend": true,
         "textposition": "auto",
         "type": "bar",
         "x": [
          "Italy"
         ],
         "xaxis": "x",
         "y": [
          67.5909090909091
         ],
         "yaxis": "y"
        },
        {
         "alignmentgroup": "True",
         "hovertemplate": "region=%{x}<br>Nb of athletes=%{y}<extra></extra>",
         "legendgroup": "Switzerland",
         "marker": {
          "color": "#19d3f3",
          "pattern": {
           "shape": ""
          }
         },
         "name": "Switzerland",
         "offsetgroup": "Switzerland",
         "orientation": "v",
         "showlegend": true,
         "textposition": "auto",
         "type": "bar",
         "x": [
          "Switzerland"
         ],
         "xaxis": "x",
         "y": [
          64.22727272727273
         ],
         "yaxis": "y"
        },
        {
         "alignmentgroup": "True",
         "hovertemplate": "region=%{x}<br>Nb of athletes=%{y}<extra></extra>",
         "legendgroup": "Sweden",
         "marker": {
          "color": "#FF6692",
          "pattern": {
           "shape": ""
          }
         },
         "name": "Sweden",
         "offsetgroup": "Sweden",
         "orientation": "v",
         "showlegend": true,
         "textposition": "auto",
         "type": "bar",
         "x": [
          "Sweden"
         ],
         "xaxis": "x",
         "y": [
          63
         ],
         "yaxis": "y"
        },
        {
         "alignmentgroup": "True",
         "hovertemplate": "region=%{x}<br>Nb of athletes=%{y}<extra></extra>",
         "legendgroup": "Austria",
         "marker": {
          "color": "#B6E880",
          "pattern": {
           "shape": ""
          }
         },
         "name": "Austria",
         "offsetgroup": "Austria",
         "orientation": "v",
         "showlegend": true,
         "textposition": "auto",
         "type": "bar",
         "x": [
          "Austria"
         ],
         "xaxis": "x",
         "y": [
          61.45454545454545
         ],
         "yaxis": "y"
        },
        {
         "alignmentgroup": "True",
         "hovertemplate": "region=%{x}<br>Nb of athletes=%{y}<extra></extra>",
         "legendgroup": "Japan",
         "marker": {
          "color": "#FF97FF",
          "pattern": {
           "shape": ""
          }
         },
         "name": "Japan",
         "offsetgroup": "Japan",
         "orientation": "v",
         "showlegend": true,
         "textposition": "auto",
         "type": "bar",
         "x": [
          "Japan"
         ],
         "xaxis": "x",
         "y": [
          59.65
         ],
         "yaxis": "y"
        },
        {
         "alignmentgroup": "True",
         "hovertemplate": "region=%{x}<br>Nb of athletes=%{y}<extra></extra>",
         "legendgroup": "Norway",
         "marker": {
          "color": "#FECB52",
          "pattern": {
           "shape": ""
          }
         },
         "name": "Norway",
         "offsetgroup": "Norway",
         "orientation": "v",
         "showlegend": true,
         "textposition": "auto",
         "type": "bar",
         "x": [
          "Norway"
         ],
         "xaxis": "x",
         "y": [
          58.63636363636363
         ],
         "yaxis": "y"
        }
       ],
       "layout": {
        "barmode": "relative",
        "legend": {
         "title": {
          "text": "region"
         },
         "tracegroupgap": 0
        },
        "template": {
         "data": {
          "bar": [
           {
            "error_x": {
             "color": "#2a3f5f"
            },
            "error_y": {
             "color": "#2a3f5f"
            },
            "marker": {
             "line": {
              "color": "#E5ECF6",
              "width": 0.5
             },
             "pattern": {
              "fillmode": "overlay",
              "size": 10,
              "solidity": 0.2
             }
            },
            "type": "bar"
           }
          ],
          "barpolar": [
           {
            "marker": {
             "line": {
              "color": "#E5ECF6",
              "width": 0.5
             },
             "pattern": {
              "fillmode": "overlay",
              "size": 10,
              "solidity": 0.2
             }
            },
            "type": "barpolar"
           }
          ],
          "carpet": [
           {
            "aaxis": {
             "endlinecolor": "#2a3f5f",
             "gridcolor": "white",
             "linecolor": "white",
             "minorgridcolor": "white",
             "startlinecolor": "#2a3f5f"
            },
            "baxis": {
             "endlinecolor": "#2a3f5f",
             "gridcolor": "white",
             "linecolor": "white",
             "minorgridcolor": "white",
             "startlinecolor": "#2a3f5f"
            },
            "type": "carpet"
           }
          ],
          "choropleth": [
           {
            "colorbar": {
             "outlinewidth": 0,
             "ticks": ""
            },
            "type": "choropleth"
           }
          ],
          "contour": [
           {
            "colorbar": {
             "outlinewidth": 0,
             "ticks": ""
            },
            "colorscale": [
             [
              0,
              "#0d0887"
             ],
             [
              0.1111111111111111,
              "#46039f"
             ],
             [
              0.2222222222222222,
              "#7201a8"
             ],
             [
              0.3333333333333333,
              "#9c179e"
             ],
             [
              0.4444444444444444,
              "#bd3786"
             ],
             [
              0.5555555555555556,
              "#d8576b"
             ],
             [
              0.6666666666666666,
              "#ed7953"
             ],
             [
              0.7777777777777778,
              "#fb9f3a"
             ],
             [
              0.8888888888888888,
              "#fdca26"
             ],
             [
              1,
              "#f0f921"
             ]
            ],
            "type": "contour"
           }
          ],
          "contourcarpet": [
           {
            "colorbar": {
             "outlinewidth": 0,
             "ticks": ""
            },
            "type": "contourcarpet"
           }
          ],
          "heatmap": [
           {
            "colorbar": {
             "outlinewidth": 0,
             "ticks": ""
            },
            "colorscale": [
             [
              0,
              "#0d0887"
             ],
             [
              0.1111111111111111,
              "#46039f"
             ],
             [
              0.2222222222222222,
              "#7201a8"
             ],
             [
              0.3333333333333333,
              "#9c179e"
             ],
             [
              0.4444444444444444,
              "#bd3786"
             ],
             [
              0.5555555555555556,
              "#d8576b"
             ],
             [
              0.6666666666666666,
              "#ed7953"
             ],
             [
              0.7777777777777778,
              "#fb9f3a"
             ],
             [
              0.8888888888888888,
              "#fdca26"
             ],
             [
              1,
              "#f0f921"
             ]
            ],
            "type": "heatmap"
           }
          ],
          "heatmapgl": [
           {
            "colorbar": {
             "outlinewidth": 0,
             "ticks": ""
            },
            "colorscale": [
             [
              0,
              "#0d0887"
             ],
             [
              0.1111111111111111,
              "#46039f"
             ],
             [
              0.2222222222222222,
              "#7201a8"
             ],
             [
              0.3333333333333333,
              "#9c179e"
             ],
             [
              0.4444444444444444,
              "#bd3786"
             ],
             [
              0.5555555555555556,
              "#d8576b"
             ],
             [
              0.6666666666666666,
              "#ed7953"
             ],
             [
              0.7777777777777778,
              "#fb9f3a"
             ],
             [
              0.8888888888888888,
              "#fdca26"
             ],
             [
              1,
              "#f0f921"
             ]
            ],
            "type": "heatmapgl"
           }
          ],
          "histogram": [
           {
            "marker": {
             "pattern": {
              "fillmode": "overlay",
              "size": 10,
              "solidity": 0.2
             }
            },
            "type": "histogram"
           }
          ],
          "histogram2d": [
           {
            "colorbar": {
             "outlinewidth": 0,
             "ticks": ""
            },
            "colorscale": [
             [
              0,
              "#0d0887"
             ],
             [
              0.1111111111111111,
              "#46039f"
             ],
             [
              0.2222222222222222,
              "#7201a8"
             ],
             [
              0.3333333333333333,
              "#9c179e"
             ],
             [
              0.4444444444444444,
              "#bd3786"
             ],
             [
              0.5555555555555556,
              "#d8576b"
             ],
             [
              0.6666666666666666,
              "#ed7953"
             ],
             [
              0.7777777777777778,
              "#fb9f3a"
             ],
             [
              0.8888888888888888,
              "#fdca26"
             ],
             [
              1,
              "#f0f921"
             ]
            ],
            "type": "histogram2d"
           }
          ],
          "histogram2dcontour": [
           {
            "colorbar": {
             "outlinewidth": 0,
             "ticks": ""
            },
            "colorscale": [
             [
              0,
              "#0d0887"
             ],
             [
              0.1111111111111111,
              "#46039f"
             ],
             [
              0.2222222222222222,
              "#7201a8"
             ],
             [
              0.3333333333333333,
              "#9c179e"
             ],
             [
              0.4444444444444444,
              "#bd3786"
             ],
             [
              0.5555555555555556,
              "#d8576b"
             ],
             [
              0.6666666666666666,
              "#ed7953"
             ],
             [
              0.7777777777777778,
              "#fb9f3a"
             ],
             [
              0.8888888888888888,
              "#fdca26"
             ],
             [
              1,
              "#f0f921"
             ]
            ],
            "type": "histogram2dcontour"
           }
          ],
          "mesh3d": [
           {
            "colorbar": {
             "outlinewidth": 0,
             "ticks": ""
            },
            "type": "mesh3d"
           }
          ],
          "parcoords": [
           {
            "line": {
             "colorbar": {
              "outlinewidth": 0,
              "ticks": ""
             }
            },
            "type": "parcoords"
           }
          ],
          "pie": [
           {
            "automargin": true,
            "type": "pie"
           }
          ],
          "scatter": [
           {
            "fillpattern": {
             "fillmode": "overlay",
             "size": 10,
             "solidity": 0.2
            },
            "type": "scatter"
           }
          ],
          "scatter3d": [
           {
            "line": {
             "colorbar": {
              "outlinewidth": 0,
              "ticks": ""
             }
            },
            "marker": {
             "colorbar": {
              "outlinewidth": 0,
              "ticks": ""
             }
            },
            "type": "scatter3d"
           }
          ],
          "scattercarpet": [
           {
            "marker": {
             "colorbar": {
              "outlinewidth": 0,
              "ticks": ""
             }
            },
            "type": "scattercarpet"
           }
          ],
          "scattergeo": [
           {
            "marker": {
             "colorbar": {
              "outlinewidth": 0,
              "ticks": ""
             }
            },
            "type": "scattergeo"
           }
          ],
          "scattergl": [
           {
            "marker": {
             "colorbar": {
              "outlinewidth": 0,
              "ticks": ""
             }
            },
            "type": "scattergl"
           }
          ],
          "scattermapbox": [
           {
            "marker": {
             "colorbar": {
              "outlinewidth": 0,
              "ticks": ""
             }
            },
            "type": "scattermapbox"
           }
          ],
          "scatterpolar": [
           {
            "marker": {
             "colorbar": {
              "outlinewidth": 0,
              "ticks": ""
             }
            },
            "type": "scatterpolar"
           }
          ],
          "scatterpolargl": [
           {
            "marker": {
             "colorbar": {
              "outlinewidth": 0,
              "ticks": ""
             }
            },
            "type": "scatterpolargl"
           }
          ],
          "scatterternary": [
           {
            "marker": {
             "colorbar": {
              "outlinewidth": 0,
              "ticks": ""
             }
            },
            "type": "scatterternary"
           }
          ],
          "surface": [
           {
            "colorbar": {
             "outlinewidth": 0,
             "ticks": ""
            },
            "colorscale": [
             [
              0,
              "#0d0887"
             ],
             [
              0.1111111111111111,
              "#46039f"
             ],
             [
              0.2222222222222222,
              "#7201a8"
             ],
             [
              0.3333333333333333,
              "#9c179e"
             ],
             [
              0.4444444444444444,
              "#bd3786"
             ],
             [
              0.5555555555555556,
              "#d8576b"
             ],
             [
              0.6666666666666666,
              "#ed7953"
             ],
             [
              0.7777777777777778,
              "#fb9f3a"
             ],
             [
              0.8888888888888888,
              "#fdca26"
             ],
             [
              1,
              "#f0f921"
             ]
            ],
            "type": "surface"
           }
          ],
          "table": [
           {
            "cells": {
             "fill": {
              "color": "#EBF0F8"
             },
             "line": {
              "color": "white"
             }
            },
            "header": {
             "fill": {
              "color": "#C8D4E3"
             },
             "line": {
              "color": "white"
             }
            },
            "type": "table"
           }
          ]
         },
         "layout": {
          "annotationdefaults": {
           "arrowcolor": "#2a3f5f",
           "arrowhead": 0,
           "arrowwidth": 1
          },
          "autotypenumbers": "strict",
          "coloraxis": {
           "colorbar": {
            "outlinewidth": 0,
            "ticks": ""
           }
          },
          "colorscale": {
           "diverging": [
            [
             0,
             "#8e0152"
            ],
            [
             0.1,
             "#c51b7d"
            ],
            [
             0.2,
             "#de77ae"
            ],
            [
             0.3,
             "#f1b6da"
            ],
            [
             0.4,
             "#fde0ef"
            ],
            [
             0.5,
             "#f7f7f7"
            ],
            [
             0.6,
             "#e6f5d0"
            ],
            [
             0.7,
             "#b8e186"
            ],
            [
             0.8,
             "#7fbc41"
            ],
            [
             0.9,
             "#4d9221"
            ],
            [
             1,
             "#276419"
            ]
           ],
           "sequential": [
            [
             0,
             "#0d0887"
            ],
            [
             0.1111111111111111,
             "#46039f"
            ],
            [
             0.2222222222222222,
             "#7201a8"
            ],
            [
             0.3333333333333333,
             "#9c179e"
            ],
            [
             0.4444444444444444,
             "#bd3786"
            ],
            [
             0.5555555555555556,
             "#d8576b"
            ],
            [
             0.6666666666666666,
             "#ed7953"
            ],
            [
             0.7777777777777778,
             "#fb9f3a"
            ],
            [
             0.8888888888888888,
             "#fdca26"
            ],
            [
             1,
             "#f0f921"
            ]
           ],
           "sequentialminus": [
            [
             0,
             "#0d0887"
            ],
            [
             0.1111111111111111,
             "#46039f"
            ],
            [
             0.2222222222222222,
             "#7201a8"
            ],
            [
             0.3333333333333333,
             "#9c179e"
            ],
            [
             0.4444444444444444,
             "#bd3786"
            ],
            [
             0.5555555555555556,
             "#d8576b"
            ],
            [
             0.6666666666666666,
             "#ed7953"
            ],
            [
             0.7777777777777778,
             "#fb9f3a"
            ],
            [
             0.8888888888888888,
             "#fdca26"
            ],
            [
             1,
             "#f0f921"
            ]
           ]
          },
          "colorway": [
           "#636efa",
           "#EF553B",
           "#00cc96",
           "#ab63fa",
           "#FFA15A",
           "#19d3f3",
           "#FF6692",
           "#B6E880",
           "#FF97FF",
           "#FECB52"
          ],
          "font": {
           "color": "#2a3f5f"
          },
          "geo": {
           "bgcolor": "white",
           "lakecolor": "white",
           "landcolor": "#E5ECF6",
           "showlakes": true,
           "showland": true,
           "subunitcolor": "white"
          },
          "hoverlabel": {
           "align": "left"
          },
          "hovermode": "closest",
          "mapbox": {
           "style": "light"
          },
          "paper_bgcolor": "white",
          "plot_bgcolor": "#E5ECF6",
          "polar": {
           "angularaxis": {
            "gridcolor": "white",
            "linecolor": "white",
            "ticks": ""
           },
           "bgcolor": "#E5ECF6",
           "radialaxis": {
            "gridcolor": "white",
            "linecolor": "white",
            "ticks": ""
           }
          },
          "scene": {
           "xaxis": {
            "backgroundcolor": "#E5ECF6",
            "gridcolor": "white",
            "gridwidth": 2,
            "linecolor": "white",
            "showbackground": true,
            "ticks": "",
            "zerolinecolor": "white"
           },
           "yaxis": {
            "backgroundcolor": "#E5ECF6",
            "gridcolor": "white",
            "gridwidth": 2,
            "linecolor": "white",
            "showbackground": true,
            "ticks": "",
            "zerolinecolor": "white"
           },
           "zaxis": {
            "backgroundcolor": "#E5ECF6",
            "gridcolor": "white",
            "gridwidth": 2,
            "linecolor": "white",
            "showbackground": true,
            "ticks": "",
            "zerolinecolor": "white"
           }
          },
          "shapedefaults": {
           "line": {
            "color": "#2a3f5f"
           }
          },
          "ternary": {
           "aaxis": {
            "gridcolor": "white",
            "linecolor": "white",
            "ticks": ""
           },
           "baxis": {
            "gridcolor": "white",
            "linecolor": "white",
            "ticks": ""
           },
           "bgcolor": "#E5ECF6",
           "caxis": {
            "gridcolor": "white",
            "linecolor": "white",
            "ticks": ""
           }
          },
          "title": {
           "x": 0.05
          },
          "xaxis": {
           "automargin": true,
           "gridcolor": "white",
           "linecolor": "white",
           "ticks": "",
           "title": {
            "standoff": 15
           },
           "zerolinecolor": "white",
           "zerolinewidth": 2
          },
          "yaxis": {
           "automargin": true,
           "gridcolor": "white",
           "linecolor": "white",
           "ticks": "",
           "title": {
            "standoff": 15
           },
           "zerolinecolor": "white",
           "zerolinewidth": 2
          }
         }
        },
        "title": {
         "text": "Top 10 countries with the most athletes"
        },
        "xaxis": {
         "anchor": "y",
         "categoryarray": [
          "USA",
          "Russia",
          "Germany",
          "Canada",
          "Italy",
          "Switzerland",
          "Sweden",
          "Austria",
          "Japan",
          "Norway"
         ],
         "categoryorder": "array",
         "domain": [
          0,
          1
         ],
         "title": {
          "text": "region"
         }
        },
        "yaxis": {
         "anchor": "x",
         "domain": [
          0,
          1
         ],
         "title": {
          "text": "Nb of athletes"
         }
        }
       }
      }
     },
     "metadata": {},
     "output_type": "display_data"
    }
   ],
   "source": [
    "# winter games\n",
    "fig = px.bar(top_10_countries_winter, x=top_10_countries_winter.index, y=\"Nb of athletes\", color = top_10_countries_winter.index, title=\"Top 10 countries with the most athletes\")\n",
    "fig.show()"
   ]
  },
  {
   "cell_type": "code",
   "execution_count": 80,
   "metadata": {},
   "outputs": [
    {
     "data": {
      "application/vnd.plotly.v1+json": {
       "config": {
        "plotlyServerURL": "https://plot.ly"
       },
       "data": [
        {
         "hovertemplate": "region=Austria<br>Year=%{x}<br>Nb of athletes=%{y}<extra></extra>",
         "legendgroup": "Austria",
         "line": {
          "color": "#636efa",
          "dash": "solid"
         },
         "marker": {
          "symbol": "circle"
         },
         "mode": "lines",
         "name": "Austria",
         "orientation": "v",
         "showlegend": true,
         "type": "scatter",
         "x": [
          1924,
          1928,
          1932,
          1936,
          1948,
          1952,
          1956,
          1960,
          1964,
          1968,
          1972,
          1976,
          1980,
          1984,
          1988,
          1992,
          1994,
          1998,
          2002,
          2006,
          2010,
          2014
         ],
         "xaxis": "x",
         "y": [
          4,
          39,
          7,
          60,
          54,
          39,
          60,
          26,
          83,
          76,
          40,
          77,
          43,
          65,
          81,
          58,
          80,
          96,
          90,
          73,
          75,
          126
         ],
         "yaxis": "y"
        },
        {
         "hovertemplate": "region=Canada<br>Year=%{x}<br>Nb of athletes=%{y}<extra></extra>",
         "legendgroup": "Canada",
         "line": {
          "color": "#EF553B",
          "dash": "solid"
         },
         "marker": {
          "symbol": "circle"
         },
         "mode": "lines",
         "name": "Canada",
         "orientation": "v",
         "showlegend": true,
         "type": "scatter",
         "x": [
          1924,
          1928,
          1932,
          1936,
          1948,
          1952,
          1956,
          1960,
          1964,
          1968,
          1972,
          1976,
          1980,
          1984,
          1988,
          1992,
          1994,
          1998,
          2002,
          2006,
          2010,
          2014
         ],
         "xaxis": "x",
         "y": [
          12,
          23,
          42,
          29,
          28,
          39,
          35,
          44,
          55,
          70,
          47,
          59,
          59,
          67,
          112,
          108,
          95,
          144,
          150,
          191,
          201,
          217
         ],
         "yaxis": "y"
        },
        {
         "hovertemplate": "region=Italy<br>Year=%{x}<br>Nb of athletes=%{y}<extra></extra>",
         "legendgroup": "Italy",
         "line": {
          "color": "#00cc96",
          "dash": "solid"
         },
         "marker": {
          "symbol": "circle"
         },
         "mode": "lines",
         "name": "Italy",
         "orientation": "v",
         "showlegend": true,
         "type": "scatter",
         "x": [
          1924,
          1928,
          1932,
          1936,
          1948,
          1952,
          1956,
          1960,
          1964,
          1968,
          1972,
          1976,
          1980,
          1984,
          1988,
          1992,
          1994,
          1998,
          2002,
          2006,
          2010,
          2014
         ],
         "xaxis": "x",
         "y": [
          23,
          13,
          12,
          40,
          54,
          33,
          65,
          28,
          61,
          47,
          44,
          58,
          46,
          74,
          58,
          107,
          104,
          113,
          109,
          179,
          109,
          110
         ],
         "yaxis": "y"
        },
        {
         "hovertemplate": "region=Norway<br>Year=%{x}<br>Nb of athletes=%{y}<extra></extra>",
         "legendgroup": "Norway",
         "line": {
          "color": "#ab63fa",
          "dash": "solid"
         },
         "marker": {
          "symbol": "circle"
         },
         "mode": "lines",
         "name": "Norway",
         "orientation": "v",
         "showlegend": true,
         "type": "scatter",
         "x": [
          1924,
          1928,
          1932,
          1936,
          1948,
          1952,
          1956,
          1960,
          1964,
          1968,
          1972,
          1976,
          1980,
          1984,
          1988,
          1992,
          1994,
          1998,
          2002,
          2006,
          2010,
          2014
         ],
         "xaxis": "x",
         "y": [
          14,
          25,
          19,
          31,
          49,
          73,
          45,
          29,
          58,
          65,
          67,
          41,
          63,
          58,
          63,
          79,
          87,
          75,
          77,
          67,
          95,
          110
         ],
         "yaxis": "y"
        },
        {
         "hovertemplate": "region=Sweden<br>Year=%{x}<br>Nb of athletes=%{y}<extra></extra>",
         "legendgroup": "Sweden",
         "line": {
          "color": "#FFA15A",
          "dash": "solid"
         },
         "marker": {
          "symbol": "circle"
         },
         "mode": "lines",
         "name": "Sweden",
         "orientation": "v",
         "showlegend": true,
         "type": "scatter",
         "x": [
          1924,
          1928,
          1932,
          1936,
          1948,
          1952,
          1956,
          1960,
          1964,
          1968,
          1972,
          1976,
          1980,
          1984,
          1988,
          1992,
          1994,
          1998,
          2002,
          2006,
          2010,
          2014
         ],
         "xaxis": "x",
         "y": [
          31,
          24,
          12,
          32,
          43,
          65,
          58,
          47,
          57,
          68,
          58,
          39,
          61,
          60,
          67,
          73,
          84,
          99,
          102,
          106,
          101,
          99
         ],
         "yaxis": "y"
        },
        {
         "hovertemplate": "region=Switzerland<br>Year=%{x}<br>Nb of athletes=%{y}<extra></extra>",
         "legendgroup": "Switzerland",
         "line": {
          "color": "#19d3f3",
          "dash": "solid"
         },
         "marker": {
          "symbol": "circle"
         },
         "mode": "lines",
         "name": "Switzerland",
         "orientation": "v",
         "showlegend": true,
         "type": "scatter",
         "x": [
          1924,
          1928,
          1932,
          1936,
          1948,
          1952,
          1956,
          1960,
          1964,
          1968,
          1972,
          1976,
          1980,
          1984,
          1988,
          1992,
          1994,
          1998,
          2002,
          2006,
          2010,
          2014
         ],
         "xaxis": "x",
         "y": [
          30,
          41,
          7,
          34,
          70,
          55,
          59,
          21,
          72,
          34,
          52,
          59,
          44,
          42,
          70,
          74,
          59,
          69,
          110,
          125,
          134,
          152
         ],
         "yaxis": "y"
        },
        {
         "hovertemplate": "region=USA<br>Year=%{x}<br>Nb of athletes=%{y}<extra></extra>",
         "legendgroup": "USA",
         "line": {
          "color": "#FF6692",
          "dash": "solid"
         },
         "marker": {
          "symbol": "circle"
         },
         "mode": "lines",
         "name": "USA",
         "orientation": "v",
         "showlegend": true,
         "type": "scatter",
         "x": [
          1924,
          1928,
          1932,
          1936,
          1948,
          1952,
          1956,
          1960,
          1964,
          1968,
          1972,
          1976,
          1980,
          1984,
          1988,
          1992,
          1994,
          1998,
          2002,
          2006,
          2010,
          2014
         ],
         "xaxis": "x",
         "y": [
          24,
          24,
          64,
          55,
          69,
          66,
          67,
          79,
          90,
          96,
          103,
          106,
          101,
          107,
          117,
          148,
          148,
          186,
          202,
          204,
          212,
          222
         ],
         "yaxis": "y"
        },
        {
         "hovertemplate": "region=Germany<br>Year=%{x}<br>Nb of athletes=%{y}<extra></extra>",
         "legendgroup": "Germany",
         "line": {
          "color": "#B6E880",
          "dash": "solid"
         },
         "marker": {
          "symbol": "circle"
         },
         "mode": "lines",
         "name": "Germany",
         "orientation": "v",
         "showlegend": true,
         "type": "scatter",
         "x": [
          1928,
          1932,
          1936,
          1952,
          1956,
          1960,
          1964,
          1968,
          1972,
          1976,
          1980,
          1984,
          1988,
          1992,
          1994,
          1998,
          2002,
          2006,
          2010,
          2014
         ],
         "xaxis": "x",
         "y": [
          44,
          20,
          55,
          53,
          63,
          74,
          96,
          144,
          120,
          130,
          133,
          140,
          143,
          111,
          112,
          125,
          157,
          155,
          149,
          151
         ],
         "yaxis": "y"
        },
        {
         "hovertemplate": "region=Japan<br>Year=%{x}<br>Nb of athletes=%{y}<extra></extra>",
         "legendgroup": "Japan",
         "line": {
          "color": "#FF97FF",
          "dash": "solid"
         },
         "marker": {
          "symbol": "circle"
         },
         "mode": "lines",
         "name": "Japan",
         "orientation": "v",
         "showlegend": true,
         "type": "scatter",
         "x": [
          1928,
          1932,
          1936,
          1952,
          1956,
          1960,
          1964,
          1968,
          1972,
          1976,
          1980,
          1984,
          1988,
          1992,
          1994,
          1998,
          2002,
          2006,
          2010,
          2014
         ],
         "xaxis": "x",
         "y": [
          6,
          16,
          31,
          13,
          10,
          41,
          47,
          61,
          85,
          58,
          50,
          39,
          48,
          60,
          59,
          156,
          103,
          110,
          91,
          109
         ],
         "yaxis": "y"
        },
        {
         "hovertemplate": "region=Russia<br>Year=%{x}<br>Nb of athletes=%{y}<extra></extra>",
         "legendgroup": "Russia",
         "line": {
          "color": "#FECB52",
          "dash": "solid"
         },
         "marker": {
          "symbol": "circle"
         },
         "mode": "lines",
         "name": "Russia",
         "orientation": "v",
         "showlegend": true,
         "type": "scatter",
         "x": [
          1956,
          1960,
          1964,
          1968,
          1972,
          1976,
          1980,
          1984,
          1988,
          1992,
          1994,
          1998,
          2002,
          2006,
          2010,
          2014
         ],
         "xaxis": "x",
         "y": [
          53,
          62,
          69,
          74,
          76,
          79,
          86,
          99,
          101,
          129,
          113,
          122,
          151,
          174,
          175,
          213
         ],
         "yaxis": "y"
        }
       ],
       "layout": {
        "legend": {
         "title": {
          "text": "region"
         },
         "tracegroupgap": 0
        },
        "template": {
         "data": {
          "bar": [
           {
            "error_x": {
             "color": "#2a3f5f"
            },
            "error_y": {
             "color": "#2a3f5f"
            },
            "marker": {
             "line": {
              "color": "#E5ECF6",
              "width": 0.5
             },
             "pattern": {
              "fillmode": "overlay",
              "size": 10,
              "solidity": 0.2
             }
            },
            "type": "bar"
           }
          ],
          "barpolar": [
           {
            "marker": {
             "line": {
              "color": "#E5ECF6",
              "width": 0.5
             },
             "pattern": {
              "fillmode": "overlay",
              "size": 10,
              "solidity": 0.2
             }
            },
            "type": "barpolar"
           }
          ],
          "carpet": [
           {
            "aaxis": {
             "endlinecolor": "#2a3f5f",
             "gridcolor": "white",
             "linecolor": "white",
             "minorgridcolor": "white",
             "startlinecolor": "#2a3f5f"
            },
            "baxis": {
             "endlinecolor": "#2a3f5f",
             "gridcolor": "white",
             "linecolor": "white",
             "minorgridcolor": "white",
             "startlinecolor": "#2a3f5f"
            },
            "type": "carpet"
           }
          ],
          "choropleth": [
           {
            "colorbar": {
             "outlinewidth": 0,
             "ticks": ""
            },
            "type": "choropleth"
           }
          ],
          "contour": [
           {
            "colorbar": {
             "outlinewidth": 0,
             "ticks": ""
            },
            "colorscale": [
             [
              0,
              "#0d0887"
             ],
             [
              0.1111111111111111,
              "#46039f"
             ],
             [
              0.2222222222222222,
              "#7201a8"
             ],
             [
              0.3333333333333333,
              "#9c179e"
             ],
             [
              0.4444444444444444,
              "#bd3786"
             ],
             [
              0.5555555555555556,
              "#d8576b"
             ],
             [
              0.6666666666666666,
              "#ed7953"
             ],
             [
              0.7777777777777778,
              "#fb9f3a"
             ],
             [
              0.8888888888888888,
              "#fdca26"
             ],
             [
              1,
              "#f0f921"
             ]
            ],
            "type": "contour"
           }
          ],
          "contourcarpet": [
           {
            "colorbar": {
             "outlinewidth": 0,
             "ticks": ""
            },
            "type": "contourcarpet"
           }
          ],
          "heatmap": [
           {
            "colorbar": {
             "outlinewidth": 0,
             "ticks": ""
            },
            "colorscale": [
             [
              0,
              "#0d0887"
             ],
             [
              0.1111111111111111,
              "#46039f"
             ],
             [
              0.2222222222222222,
              "#7201a8"
             ],
             [
              0.3333333333333333,
              "#9c179e"
             ],
             [
              0.4444444444444444,
              "#bd3786"
             ],
             [
              0.5555555555555556,
              "#d8576b"
             ],
             [
              0.6666666666666666,
              "#ed7953"
             ],
             [
              0.7777777777777778,
              "#fb9f3a"
             ],
             [
              0.8888888888888888,
              "#fdca26"
             ],
             [
              1,
              "#f0f921"
             ]
            ],
            "type": "heatmap"
           }
          ],
          "heatmapgl": [
           {
            "colorbar": {
             "outlinewidth": 0,
             "ticks": ""
            },
            "colorscale": [
             [
              0,
              "#0d0887"
             ],
             [
              0.1111111111111111,
              "#46039f"
             ],
             [
              0.2222222222222222,
              "#7201a8"
             ],
             [
              0.3333333333333333,
              "#9c179e"
             ],
             [
              0.4444444444444444,
              "#bd3786"
             ],
             [
              0.5555555555555556,
              "#d8576b"
             ],
             [
              0.6666666666666666,
              "#ed7953"
             ],
             [
              0.7777777777777778,
              "#fb9f3a"
             ],
             [
              0.8888888888888888,
              "#fdca26"
             ],
             [
              1,
              "#f0f921"
             ]
            ],
            "type": "heatmapgl"
           }
          ],
          "histogram": [
           {
            "marker": {
             "pattern": {
              "fillmode": "overlay",
              "size": 10,
              "solidity": 0.2
             }
            },
            "type": "histogram"
           }
          ],
          "histogram2d": [
           {
            "colorbar": {
             "outlinewidth": 0,
             "ticks": ""
            },
            "colorscale": [
             [
              0,
              "#0d0887"
             ],
             [
              0.1111111111111111,
              "#46039f"
             ],
             [
              0.2222222222222222,
              "#7201a8"
             ],
             [
              0.3333333333333333,
              "#9c179e"
             ],
             [
              0.4444444444444444,
              "#bd3786"
             ],
             [
              0.5555555555555556,
              "#d8576b"
             ],
             [
              0.6666666666666666,
              "#ed7953"
             ],
             [
              0.7777777777777778,
              "#fb9f3a"
             ],
             [
              0.8888888888888888,
              "#fdca26"
             ],
             [
              1,
              "#f0f921"
             ]
            ],
            "type": "histogram2d"
           }
          ],
          "histogram2dcontour": [
           {
            "colorbar": {
             "outlinewidth": 0,
             "ticks": ""
            },
            "colorscale": [
             [
              0,
              "#0d0887"
             ],
             [
              0.1111111111111111,
              "#46039f"
             ],
             [
              0.2222222222222222,
              "#7201a8"
             ],
             [
              0.3333333333333333,
              "#9c179e"
             ],
             [
              0.4444444444444444,
              "#bd3786"
             ],
             [
              0.5555555555555556,
              "#d8576b"
             ],
             [
              0.6666666666666666,
              "#ed7953"
             ],
             [
              0.7777777777777778,
              "#fb9f3a"
             ],
             [
              0.8888888888888888,
              "#fdca26"
             ],
             [
              1,
              "#f0f921"
             ]
            ],
            "type": "histogram2dcontour"
           }
          ],
          "mesh3d": [
           {
            "colorbar": {
             "outlinewidth": 0,
             "ticks": ""
            },
            "type": "mesh3d"
           }
          ],
          "parcoords": [
           {
            "line": {
             "colorbar": {
              "outlinewidth": 0,
              "ticks": ""
             }
            },
            "type": "parcoords"
           }
          ],
          "pie": [
           {
            "automargin": true,
            "type": "pie"
           }
          ],
          "scatter": [
           {
            "fillpattern": {
             "fillmode": "overlay",
             "size": 10,
             "solidity": 0.2
            },
            "type": "scatter"
           }
          ],
          "scatter3d": [
           {
            "line": {
             "colorbar": {
              "outlinewidth": 0,
              "ticks": ""
             }
            },
            "marker": {
             "colorbar": {
              "outlinewidth": 0,
              "ticks": ""
             }
            },
            "type": "scatter3d"
           }
          ],
          "scattercarpet": [
           {
            "marker": {
             "colorbar": {
              "outlinewidth": 0,
              "ticks": ""
             }
            },
            "type": "scattercarpet"
           }
          ],
          "scattergeo": [
           {
            "marker": {
             "colorbar": {
              "outlinewidth": 0,
              "ticks": ""
             }
            },
            "type": "scattergeo"
           }
          ],
          "scattergl": [
           {
            "marker": {
             "colorbar": {
              "outlinewidth": 0,
              "ticks": ""
             }
            },
            "type": "scattergl"
           }
          ],
          "scattermapbox": [
           {
            "marker": {
             "colorbar": {
              "outlinewidth": 0,
              "ticks": ""
             }
            },
            "type": "scattermapbox"
           }
          ],
          "scatterpolar": [
           {
            "marker": {
             "colorbar": {
              "outlinewidth": 0,
              "ticks": ""
             }
            },
            "type": "scatterpolar"
           }
          ],
          "scatterpolargl": [
           {
            "marker": {
             "colorbar": {
              "outlinewidth": 0,
              "ticks": ""
             }
            },
            "type": "scatterpolargl"
           }
          ],
          "scatterternary": [
           {
            "marker": {
             "colorbar": {
              "outlinewidth": 0,
              "ticks": ""
             }
            },
            "type": "scatterternary"
           }
          ],
          "surface": [
           {
            "colorbar": {
             "outlinewidth": 0,
             "ticks": ""
            },
            "colorscale": [
             [
              0,
              "#0d0887"
             ],
             [
              0.1111111111111111,
              "#46039f"
             ],
             [
              0.2222222222222222,
              "#7201a8"
             ],
             [
              0.3333333333333333,
              "#9c179e"
             ],
             [
              0.4444444444444444,
              "#bd3786"
             ],
             [
              0.5555555555555556,
              "#d8576b"
             ],
             [
              0.6666666666666666,
              "#ed7953"
             ],
             [
              0.7777777777777778,
              "#fb9f3a"
             ],
             [
              0.8888888888888888,
              "#fdca26"
             ],
             [
              1,
              "#f0f921"
             ]
            ],
            "type": "surface"
           }
          ],
          "table": [
           {
            "cells": {
             "fill": {
              "color": "#EBF0F8"
             },
             "line": {
              "color": "white"
             }
            },
            "header": {
             "fill": {
              "color": "#C8D4E3"
             },
             "line": {
              "color": "white"
             }
            },
            "type": "table"
           }
          ]
         },
         "layout": {
          "annotationdefaults": {
           "arrowcolor": "#2a3f5f",
           "arrowhead": 0,
           "arrowwidth": 1
          },
          "autotypenumbers": "strict",
          "coloraxis": {
           "colorbar": {
            "outlinewidth": 0,
            "ticks": ""
           }
          },
          "colorscale": {
           "diverging": [
            [
             0,
             "#8e0152"
            ],
            [
             0.1,
             "#c51b7d"
            ],
            [
             0.2,
             "#de77ae"
            ],
            [
             0.3,
             "#f1b6da"
            ],
            [
             0.4,
             "#fde0ef"
            ],
            [
             0.5,
             "#f7f7f7"
            ],
            [
             0.6,
             "#e6f5d0"
            ],
            [
             0.7,
             "#b8e186"
            ],
            [
             0.8,
             "#7fbc41"
            ],
            [
             0.9,
             "#4d9221"
            ],
            [
             1,
             "#276419"
            ]
           ],
           "sequential": [
            [
             0,
             "#0d0887"
            ],
            [
             0.1111111111111111,
             "#46039f"
            ],
            [
             0.2222222222222222,
             "#7201a8"
            ],
            [
             0.3333333333333333,
             "#9c179e"
            ],
            [
             0.4444444444444444,
             "#bd3786"
            ],
            [
             0.5555555555555556,
             "#d8576b"
            ],
            [
             0.6666666666666666,
             "#ed7953"
            ],
            [
             0.7777777777777778,
             "#fb9f3a"
            ],
            [
             0.8888888888888888,
             "#fdca26"
            ],
            [
             1,
             "#f0f921"
            ]
           ],
           "sequentialminus": [
            [
             0,
             "#0d0887"
            ],
            [
             0.1111111111111111,
             "#46039f"
            ],
            [
             0.2222222222222222,
             "#7201a8"
            ],
            [
             0.3333333333333333,
             "#9c179e"
            ],
            [
             0.4444444444444444,
             "#bd3786"
            ],
            [
             0.5555555555555556,
             "#d8576b"
            ],
            [
             0.6666666666666666,
             "#ed7953"
            ],
            [
             0.7777777777777778,
             "#fb9f3a"
            ],
            [
             0.8888888888888888,
             "#fdca26"
            ],
            [
             1,
             "#f0f921"
            ]
           ]
          },
          "colorway": [
           "#636efa",
           "#EF553B",
           "#00cc96",
           "#ab63fa",
           "#FFA15A",
           "#19d3f3",
           "#FF6692",
           "#B6E880",
           "#FF97FF",
           "#FECB52"
          ],
          "font": {
           "color": "#2a3f5f"
          },
          "geo": {
           "bgcolor": "white",
           "lakecolor": "white",
           "landcolor": "#E5ECF6",
           "showlakes": true,
           "showland": true,
           "subunitcolor": "white"
          },
          "hoverlabel": {
           "align": "left"
          },
          "hovermode": "closest",
          "mapbox": {
           "style": "light"
          },
          "paper_bgcolor": "white",
          "plot_bgcolor": "#E5ECF6",
          "polar": {
           "angularaxis": {
            "gridcolor": "white",
            "linecolor": "white",
            "ticks": ""
           },
           "bgcolor": "#E5ECF6",
           "radialaxis": {
            "gridcolor": "white",
            "linecolor": "white",
            "ticks": ""
           }
          },
          "scene": {
           "xaxis": {
            "backgroundcolor": "#E5ECF6",
            "gridcolor": "white",
            "gridwidth": 2,
            "linecolor": "white",
            "showbackground": true,
            "ticks": "",
            "zerolinecolor": "white"
           },
           "yaxis": {
            "backgroundcolor": "#E5ECF6",
            "gridcolor": "white",
            "gridwidth": 2,
            "linecolor": "white",
            "showbackground": true,
            "ticks": "",
            "zerolinecolor": "white"
           },
           "zaxis": {
            "backgroundcolor": "#E5ECF6",
            "gridcolor": "white",
            "gridwidth": 2,
            "linecolor": "white",
            "showbackground": true,
            "ticks": "",
            "zerolinecolor": "white"
           }
          },
          "shapedefaults": {
           "line": {
            "color": "#2a3f5f"
           }
          },
          "ternary": {
           "aaxis": {
            "gridcolor": "white",
            "linecolor": "white",
            "ticks": ""
           },
           "baxis": {
            "gridcolor": "white",
            "linecolor": "white",
            "ticks": ""
           },
           "bgcolor": "#E5ECF6",
           "caxis": {
            "gridcolor": "white",
            "linecolor": "white",
            "ticks": ""
           }
          },
          "title": {
           "x": 0.05
          },
          "xaxis": {
           "automargin": true,
           "gridcolor": "white",
           "linecolor": "white",
           "ticks": "",
           "title": {
            "standoff": 15
           },
           "zerolinecolor": "white",
           "zerolinewidth": 2
          },
          "yaxis": {
           "automargin": true,
           "gridcolor": "white",
           "linecolor": "white",
           "ticks": "",
           "title": {
            "standoff": 15
           },
           "zerolinecolor": "white",
           "zerolinewidth": 2
          }
         }
        },
        "title": {
         "text": "Number of athletes per year and per country"
        },
        "xaxis": {
         "anchor": "y",
         "domain": [
          0,
          1
         ],
         "title": {
          "text": "Year"
         }
        },
        "yaxis": {
         "anchor": "x",
         "domain": [
          0,
          1
         ],
         "title": {
          "text": "Nb of athletes"
         }
        }
       }
      }
     },
     "metadata": {},
     "output_type": "display_data"
    }
   ],
   "source": [
    "# we create a filter to keep only the top 10 countries in winter games for example\n",
    "fig = px.line(athletes_per_country_winter[athletes_per_country_winter['region'].isin(top_10_countries_winter.index)], x=\"Year\", y=\"Nb of athletes\", color=\"region\", title=\"Number of athletes per year and per country\")\n",
    "fig.show()"
   ]
  },
  {
   "cell_type": "code",
   "execution_count": 81,
   "metadata": {},
   "outputs": [
    {
     "data": {
      "application/vnd.plotly.v1+json": {
       "config": {
        "plotlyServerURL": "https://plot.ly"
       },
       "data": [
        {
         "hovertemplate": "<b>%{hovertext}</b><br><br>region=Australia<br>Year=%{x}<br>Nb of athletes=%{marker.size}<extra></extra>",
         "hovertext": [
          "Australia"
         ],
         "ids": [
          "Australia"
         ],
         "legendgroup": "Australia",
         "marker": {
          "color": "#636efa",
          "size": [
           1
          ],
          "sizemode": "area",
          "sizeref": 1.8375,
          "symbol": "circle"
         },
         "mode": "markers",
         "name": "Australia",
         "orientation": "v",
         "showlegend": true,
         "type": "scatter",
         "x": [
          1896
         ],
         "xaxis": "x",
         "y": [
          1
         ],
         "yaxis": "y"
        },
        {
         "hovertemplate": "<b>%{hovertext}</b><br><br>region=France<br>Year=%{x}<br>Nb of athletes=%{marker.size}<extra></extra>",
         "hovertext": [
          "France"
         ],
         "ids": [
          "France"
         ],
         "legendgroup": "France",
         "marker": {
          "color": "#EF553B",
          "size": [
           12
          ],
          "sizemode": "area",
          "sizeref": 1.8375,
          "symbol": "circle"
         },
         "mode": "markers",
         "name": "France",
         "orientation": "v",
         "showlegend": true,
         "type": "scatter",
         "x": [
          1896
         ],
         "xaxis": "x",
         "y": [
          12
         ],
         "yaxis": "y"
        },
        {
         "hovertemplate": "<b>%{hovertext}</b><br><br>region=Germany<br>Year=%{x}<br>Nb of athletes=%{marker.size}<extra></extra>",
         "hovertext": [
          "Germany"
         ],
         "ids": [
          "Germany"
         ],
         "legendgroup": "Germany",
         "marker": {
          "color": "#00cc96",
          "size": [
           19
          ],
          "sizemode": "area",
          "sizeref": 1.8375,
          "symbol": "circle"
         },
         "mode": "markers",
         "name": "Germany",
         "orientation": "v",
         "showlegend": true,
         "type": "scatter",
         "x": [
          1896
         ],
         "xaxis": "x",
         "y": [
          19
         ],
         "yaxis": "y"
        },
        {
         "hovertemplate": "<b>%{hovertext}</b><br><br>region=Italy<br>Year=%{x}<br>Nb of athletes=%{marker.size}<extra></extra>",
         "hovertext": [
          "Italy"
         ],
         "ids": [
          "Italy"
         ],
         "legendgroup": "Italy",
         "marker": {
          "color": "#ab63fa",
          "size": [
           1
          ],
          "sizemode": "area",
          "sizeref": 1.8375,
          "symbol": "circle"
         },
         "mode": "markers",
         "name": "Italy",
         "orientation": "v",
         "showlegend": true,
         "type": "scatter",
         "x": [
          1896
         ],
         "xaxis": "x",
         "y": [
          1
         ],
         "yaxis": "y"
        },
        {
         "hovertemplate": "<b>%{hovertext}</b><br><br>region=UK<br>Year=%{x}<br>Nb of athletes=%{marker.size}<extra></extra>",
         "hovertext": [
          "UK"
         ],
         "ids": [
          "UK"
         ],
         "legendgroup": "UK",
         "marker": {
          "color": "#FFA15A",
          "size": [
           10
          ],
          "sizemode": "area",
          "sizeref": 1.8375,
          "symbol": "circle"
         },
         "mode": "markers",
         "name": "UK",
         "orientation": "v",
         "showlegend": true,
         "type": "scatter",
         "x": [
          1896
         ],
         "xaxis": "x",
         "y": [
          10
         ],
         "yaxis": "y"
        },
        {
         "hovertemplate": "<b>%{hovertext}</b><br><br>region=USA<br>Year=%{x}<br>Nb of athletes=%{marker.size}<extra></extra>",
         "hovertext": [
          "USA"
         ],
         "ids": [
          "USA"
         ],
         "legendgroup": "USA",
         "marker": {
          "color": "#19d3f3",
          "size": [
           14
          ],
          "sizemode": "area",
          "sizeref": 1.8375,
          "symbol": "circle"
         },
         "mode": "markers",
         "name": "USA",
         "orientation": "v",
         "showlegend": true,
         "type": "scatter",
         "x": [
          1896
         ],
         "xaxis": "x",
         "y": [
          14
         ],
         "yaxis": "y"
        }
       ],
       "frames": [
        {
         "data": [
          {
           "hovertemplate": "<b>%{hovertext}</b><br><br>region=Australia<br>Year=%{x}<br>Nb of athletes=%{marker.size}<extra></extra>",
           "hovertext": [
            "Australia"
           ],
           "ids": [
            "Australia"
           ],
           "legendgroup": "Australia",
           "marker": {
            "color": "#636efa",
            "size": [
             1
            ],
            "sizemode": "area",
            "sizeref": 1.8375,
            "symbol": "circle"
           },
           "mode": "markers",
           "name": "Australia",
           "orientation": "v",
           "showlegend": true,
           "type": "scatter",
           "x": [
            1896
           ],
           "xaxis": "x",
           "y": [
            1
           ],
           "yaxis": "y"
          },
          {
           "hovertemplate": "<b>%{hovertext}</b><br><br>region=France<br>Year=%{x}<br>Nb of athletes=%{marker.size}<extra></extra>",
           "hovertext": [
            "France"
           ],
           "ids": [
            "France"
           ],
           "legendgroup": "France",
           "marker": {
            "color": "#EF553B",
            "size": [
             12
            ],
            "sizemode": "area",
            "sizeref": 1.8375,
            "symbol": "circle"
           },
           "mode": "markers",
           "name": "France",
           "orientation": "v",
           "showlegend": true,
           "type": "scatter",
           "x": [
            1896
           ],
           "xaxis": "x",
           "y": [
            12
           ],
           "yaxis": "y"
          },
          {
           "hovertemplate": "<b>%{hovertext}</b><br><br>region=Germany<br>Year=%{x}<br>Nb of athletes=%{marker.size}<extra></extra>",
           "hovertext": [
            "Germany"
           ],
           "ids": [
            "Germany"
           ],
           "legendgroup": "Germany",
           "marker": {
            "color": "#00cc96",
            "size": [
             19
            ],
            "sizemode": "area",
            "sizeref": 1.8375,
            "symbol": "circle"
           },
           "mode": "markers",
           "name": "Germany",
           "orientation": "v",
           "showlegend": true,
           "type": "scatter",
           "x": [
            1896
           ],
           "xaxis": "x",
           "y": [
            19
           ],
           "yaxis": "y"
          },
          {
           "hovertemplate": "<b>%{hovertext}</b><br><br>region=Italy<br>Year=%{x}<br>Nb of athletes=%{marker.size}<extra></extra>",
           "hovertext": [
            "Italy"
           ],
           "ids": [
            "Italy"
           ],
           "legendgroup": "Italy",
           "marker": {
            "color": "#ab63fa",
            "size": [
             1
            ],
            "sizemode": "area",
            "sizeref": 1.8375,
            "symbol": "circle"
           },
           "mode": "markers",
           "name": "Italy",
           "orientation": "v",
           "showlegend": true,
           "type": "scatter",
           "x": [
            1896
           ],
           "xaxis": "x",
           "y": [
            1
           ],
           "yaxis": "y"
          },
          {
           "hovertemplate": "<b>%{hovertext}</b><br><br>region=UK<br>Year=%{x}<br>Nb of athletes=%{marker.size}<extra></extra>",
           "hovertext": [
            "UK"
           ],
           "ids": [
            "UK"
           ],
           "legendgroup": "UK",
           "marker": {
            "color": "#FFA15A",
            "size": [
             10
            ],
            "sizemode": "area",
            "sizeref": 1.8375,
            "symbol": "circle"
           },
           "mode": "markers",
           "name": "UK",
           "orientation": "v",
           "showlegend": true,
           "type": "scatter",
           "x": [
            1896
           ],
           "xaxis": "x",
           "y": [
            10
           ],
           "yaxis": "y"
          },
          {
           "hovertemplate": "<b>%{hovertext}</b><br><br>region=USA<br>Year=%{x}<br>Nb of athletes=%{marker.size}<extra></extra>",
           "hovertext": [
            "USA"
           ],
           "ids": [
            "USA"
           ],
           "legendgroup": "USA",
           "marker": {
            "color": "#19d3f3",
            "size": [
             14
            ],
            "sizemode": "area",
            "sizeref": 1.8375,
            "symbol": "circle"
           },
           "mode": "markers",
           "name": "USA",
           "orientation": "v",
           "showlegend": true,
           "type": "scatter",
           "x": [
            1896
           ],
           "xaxis": "x",
           "y": [
            14
           ],
           "yaxis": "y"
          }
         ],
         "name": "1896"
        },
        {
         "data": [
          {
           "hovertemplate": "<b>%{hovertext}</b><br><br>region=Australia<br>Year=%{x}<br>Nb of athletes=%{marker.size}<extra></extra>",
           "hovertext": [
            "Australia"
           ],
           "ids": [
            "Australia"
           ],
           "legendgroup": "Australia",
           "marker": {
            "color": "#636efa",
            "size": [
             2
            ],
            "sizemode": "area",
            "sizeref": 1.8375,
            "symbol": "circle"
           },
           "mode": "markers",
           "name": "Australia",
           "orientation": "v",
           "showlegend": true,
           "type": "scatter",
           "x": [
            1900
           ],
           "xaxis": "x",
           "y": [
            2
           ],
           "yaxis": "y"
          },
          {
           "hovertemplate": "<b>%{hovertext}</b><br><br>region=France<br>Year=%{x}<br>Nb of athletes=%{marker.size}<extra></extra>",
           "hovertext": [
            "France"
           ],
           "ids": [
            "France"
           ],
           "legendgroup": "France",
           "marker": {
            "color": "#EF553B",
            "size": [
             720
            ],
            "sizemode": "area",
            "sizeref": 1.8375,
            "symbol": "circle"
           },
           "mode": "markers",
           "name": "France",
           "orientation": "v",
           "showlegend": true,
           "type": "scatter",
           "x": [
            1900
           ],
           "xaxis": "x",
           "y": [
            720
           ],
           "yaxis": "y"
          },
          {
           "hovertemplate": "<b>%{hovertext}</b><br><br>region=Germany<br>Year=%{x}<br>Nb of athletes=%{marker.size}<extra></extra>",
           "hovertext": [
            "Germany"
           ],
           "ids": [
            "Germany"
           ],
           "legendgroup": "Germany",
           "marker": {
            "color": "#00cc96",
            "size": [
             76
            ],
            "sizemode": "area",
            "sizeref": 1.8375,
            "symbol": "circle"
           },
           "mode": "markers",
           "name": "Germany",
           "orientation": "v",
           "showlegend": true,
           "type": "scatter",
           "x": [
            1900
           ],
           "xaxis": "x",
           "y": [
            76
           ],
           "yaxis": "y"
          },
          {
           "hovertemplate": "<b>%{hovertext}</b><br><br>region=Italy<br>Year=%{x}<br>Nb of athletes=%{marker.size}<extra></extra>",
           "hovertext": [
            "Italy"
           ],
           "ids": [
            "Italy"
           ],
           "legendgroup": "Italy",
           "marker": {
            "color": "#ab63fa",
            "size": [
             23
            ],
            "sizemode": "area",
            "sizeref": 1.8375,
            "symbol": "circle"
           },
           "mode": "markers",
           "name": "Italy",
           "orientation": "v",
           "showlegend": true,
           "type": "scatter",
           "x": [
            1900
           ],
           "xaxis": "x",
           "y": [
            23
           ],
           "yaxis": "y"
          },
          {
           "hovertemplate": "<b>%{hovertext}</b><br><br>region=UK<br>Year=%{x}<br>Nb of athletes=%{marker.size}<extra></extra>",
           "hovertext": [
            "UK"
           ],
           "ids": [
            "UK"
           ],
           "legendgroup": "UK",
           "marker": {
            "color": "#FFA15A",
            "size": [
             104
            ],
            "sizemode": "area",
            "sizeref": 1.8375,
            "symbol": "circle"
           },
           "mode": "markers",
           "name": "UK",
           "orientation": "v",
           "showlegend": true,
           "type": "scatter",
           "x": [
            1900
           ],
           "xaxis": "x",
           "y": [
            104
           ],
           "yaxis": "y"
          },
          {
           "hovertemplate": "<b>%{hovertext}</b><br><br>region=USA<br>Year=%{x}<br>Nb of athletes=%{marker.size}<extra></extra>",
           "hovertext": [
            "USA"
           ],
           "ids": [
            "USA"
           ],
           "legendgroup": "USA",
           "marker": {
            "color": "#19d3f3",
            "size": [
             75
            ],
            "sizemode": "area",
            "sizeref": 1.8375,
            "symbol": "circle"
           },
           "mode": "markers",
           "name": "USA",
           "orientation": "v",
           "showlegend": true,
           "type": "scatter",
           "x": [
            1900
           ],
           "xaxis": "x",
           "y": [
            75
           ],
           "yaxis": "y"
          },
          {
           "hovertemplate": "<b>%{hovertext}</b><br><br>region=Russia<br>Year=%{x}<br>Nb of athletes=%{marker.size}<extra></extra>",
           "hovertext": [
            "Russia"
           ],
           "ids": [
            "Russia"
           ],
           "legendgroup": "Russia",
           "marker": {
            "color": "#FF6692",
            "size": [
             4
            ],
            "sizemode": "area",
            "sizeref": 1.8375,
            "symbol": "circle"
           },
           "mode": "markers",
           "name": "Russia",
           "orientation": "v",
           "showlegend": true,
           "type": "scatter",
           "x": [
            1900
           ],
           "xaxis": "x",
           "y": [
            4
           ],
           "yaxis": "y"
          }
         ],
         "name": "1900"
        },
        {
         "data": [
          {
           "hovertemplate": "<b>%{hovertext}</b><br><br>region=Australia<br>Year=%{x}<br>Nb of athletes=%{marker.size}<extra></extra>",
           "hovertext": [
            "Australia"
           ],
           "ids": [
            "Australia"
           ],
           "legendgroup": "Australia",
           "marker": {
            "color": "#636efa",
            "size": [
             2
            ],
            "sizemode": "area",
            "sizeref": 1.8375,
            "symbol": "circle"
           },
           "mode": "markers",
           "name": "Australia",
           "orientation": "v",
           "showlegend": true,
           "type": "scatter",
           "x": [
            1904
           ],
           "xaxis": "x",
           "y": [
            2
           ],
           "yaxis": "y"
          },
          {
           "hovertemplate": "<b>%{hovertext}</b><br><br>region=France<br>Year=%{x}<br>Nb of athletes=%{marker.size}<extra></extra>",
           "hovertext": [
            "France"
           ],
           "ids": [
            "France"
           ],
           "legendgroup": "France",
           "marker": {
            "color": "#EF553B",
            "size": [
             1
            ],
            "sizemode": "area",
            "sizeref": 1.8375,
            "symbol": "circle"
           },
           "mode": "markers",
           "name": "France",
           "orientation": "v",
           "showlegend": true,
           "type": "scatter",
           "x": [
            1904
           ],
           "xaxis": "x",
           "y": [
            1
           ],
           "yaxis": "y"
          },
          {
           "hovertemplate": "<b>%{hovertext}</b><br><br>region=Germany<br>Year=%{x}<br>Nb of athletes=%{marker.size}<extra></extra>",
           "hovertext": [
            "Germany"
           ],
           "ids": [
            "Germany"
           ],
           "legendgroup": "Germany",
           "marker": {
            "color": "#00cc96",
            "size": [
             22
            ],
            "sizemode": "area",
            "sizeref": 1.8375,
            "symbol": "circle"
           },
           "mode": "markers",
           "name": "Germany",
           "orientation": "v",
           "showlegend": true,
           "type": "scatter",
           "x": [
            1904
           ],
           "xaxis": "x",
           "y": [
            22
           ],
           "yaxis": "y"
          },
          {
           "hovertemplate": "<b>%{hovertext}</b><br><br>region=Italy<br>Year=%{x}<br>Nb of athletes=%{marker.size}<extra></extra>",
           "hovertext": [
            "Italy"
           ],
           "ids": [
            "Italy"
           ],
           "legendgroup": "Italy",
           "marker": {
            "color": "#ab63fa",
            "size": [
             1
            ],
            "sizemode": "area",
            "sizeref": 1.8375,
            "symbol": "circle"
           },
           "mode": "markers",
           "name": "Italy",
           "orientation": "v",
           "showlegend": true,
           "type": "scatter",
           "x": [
            1904
           ],
           "xaxis": "x",
           "y": [
            1
           ],
           "yaxis": "y"
          },
          {
           "hovertemplate": "<b>%{hovertext}</b><br><br>region=UK<br>Year=%{x}<br>Nb of athletes=%{marker.size}<extra></extra>",
           "hovertext": [
            "UK"
           ],
           "ids": [
            "UK"
           ],
           "legendgroup": "UK",
           "marker": {
            "color": "#FFA15A",
            "size": [
             6
            ],
            "sizemode": "area",
            "sizeref": 1.8375,
            "symbol": "circle"
           },
           "mode": "markers",
           "name": "UK",
           "orientation": "v",
           "showlegend": true,
           "type": "scatter",
           "x": [
            1904
           ],
           "xaxis": "x",
           "y": [
            6
           ],
           "yaxis": "y"
          },
          {
           "hovertemplate": "<b>%{hovertext}</b><br><br>region=USA<br>Year=%{x}<br>Nb of athletes=%{marker.size}<extra></extra>",
           "hovertext": [
            "USA"
           ],
           "ids": [
            "USA"
           ],
           "legendgroup": "USA",
           "marker": {
            "color": "#19d3f3",
            "size": [
             524
            ],
            "sizemode": "area",
            "sizeref": 1.8375,
            "symbol": "circle"
           },
           "mode": "markers",
           "name": "USA",
           "orientation": "v",
           "showlegend": true,
           "type": "scatter",
           "x": [
            1904
           ],
           "xaxis": "x",
           "y": [
            524
           ],
           "yaxis": "y"
          }
         ],
         "name": "1904"
        },
        {
         "data": [
          {
           "hovertemplate": "<b>%{hovertext}</b><br><br>region=Australia<br>Year=%{x}<br>Nb of athletes=%{marker.size}<extra></extra>",
           "hovertext": [
            "Australia"
           ],
           "ids": [
            "Australia"
           ],
           "legendgroup": "Australia",
           "marker": {
            "color": "#636efa",
            "size": [
             4
            ],
            "sizemode": "area",
            "sizeref": 1.8375,
            "symbol": "circle"
           },
           "mode": "markers",
           "name": "Australia",
           "orientation": "v",
           "showlegend": true,
           "type": "scatter",
           "x": [
            1906
           ],
           "xaxis": "x",
           "y": [
            4
           ],
           "yaxis": "y"
          },
          {
           "hovertemplate": "<b>%{hovertext}</b><br><br>region=France<br>Year=%{x}<br>Nb of athletes=%{marker.size}<extra></extra>",
           "hovertext": [
            "France"
           ],
           "ids": [
            "France"
           ],
           "legendgroup": "France",
           "marker": {
            "color": "#EF553B",
            "size": [
             56
            ],
            "sizemode": "area",
            "sizeref": 1.8375,
            "symbol": "circle"
           },
           "mode": "markers",
           "name": "France",
           "orientation": "v",
           "showlegend": true,
           "type": "scatter",
           "x": [
            1906
           ],
           "xaxis": "x",
           "y": [
            56
           ],
           "yaxis": "y"
          },
          {
           "hovertemplate": "<b>%{hovertext}</b><br><br>region=Germany<br>Year=%{x}<br>Nb of athletes=%{marker.size}<extra></extra>",
           "hovertext": [
            "Germany"
           ],
           "ids": [
            "Germany"
           ],
           "legendgroup": "Germany",
           "marker": {
            "color": "#00cc96",
            "size": [
             49
            ],
            "sizemode": "area",
            "sizeref": 1.8375,
            "symbol": "circle"
           },
           "mode": "markers",
           "name": "Germany",
           "orientation": "v",
           "showlegend": true,
           "type": "scatter",
           "x": [
            1906
           ],
           "xaxis": "x",
           "y": [
            49
           ],
           "yaxis": "y"
          },
          {
           "hovertemplate": "<b>%{hovertext}</b><br><br>region=Italy<br>Year=%{x}<br>Nb of athletes=%{marker.size}<extra></extra>",
           "hovertext": [
            "Italy"
           ],
           "ids": [
            "Italy"
           ],
           "legendgroup": "Italy",
           "marker": {
            "color": "#ab63fa",
            "size": [
             76
            ],
            "sizemode": "area",
            "sizeref": 1.8375,
            "symbol": "circle"
           },
           "mode": "markers",
           "name": "Italy",
           "orientation": "v",
           "showlegend": true,
           "type": "scatter",
           "x": [
            1906
           ],
           "xaxis": "x",
           "y": [
            76
           ],
           "yaxis": "y"
          },
          {
           "hovertemplate": "<b>%{hovertext}</b><br><br>region=UK<br>Year=%{x}<br>Nb of athletes=%{marker.size}<extra></extra>",
           "hovertext": [
            "UK"
           ],
           "ids": [
            "UK"
           ],
           "legendgroup": "UK",
           "marker": {
            "color": "#FFA15A",
            "size": [
             48
            ],
            "sizemode": "area",
            "sizeref": 1.8375,
            "symbol": "circle"
           },
           "mode": "markers",
           "name": "UK",
           "orientation": "v",
           "showlegend": true,
           "type": "scatter",
           "x": [
            1906
           ],
           "xaxis": "x",
           "y": [
            48
           ],
           "yaxis": "y"
          },
          {
           "hovertemplate": "<b>%{hovertext}</b><br><br>region=USA<br>Year=%{x}<br>Nb of athletes=%{marker.size}<extra></extra>",
           "hovertext": [
            "USA"
           ],
           "ids": [
            "USA"
           ],
           "legendgroup": "USA",
           "marker": {
            "color": "#19d3f3",
            "size": [
             38
            ],
            "sizemode": "area",
            "sizeref": 1.8375,
            "symbol": "circle"
           },
           "mode": "markers",
           "name": "USA",
           "orientation": "v",
           "showlegend": true,
           "type": "scatter",
           "x": [
            1906
           ],
           "xaxis": "x",
           "y": [
            38
           ],
           "yaxis": "y"
          }
         ],
         "name": "1906"
        },
        {
         "data": [
          {
           "hovertemplate": "<b>%{hovertext}</b><br><br>region=Australia<br>Year=%{x}<br>Nb of athletes=%{marker.size}<extra></extra>",
           "hovertext": [
            "Australia"
           ],
           "ids": [
            "Australia"
           ],
           "legendgroup": "Australia",
           "marker": {
            "color": "#636efa",
            "size": [
             30
            ],
            "sizemode": "area",
            "sizeref": 1.8375,
            "symbol": "circle"
           },
           "mode": "markers",
           "name": "Australia",
           "orientation": "v",
           "showlegend": true,
           "type": "scatter",
           "x": [
            1908
           ],
           "xaxis": "x",
           "y": [
            30
           ],
           "yaxis": "y"
          },
          {
           "hovertemplate": "<b>%{hovertext}</b><br><br>region=France<br>Year=%{x}<br>Nb of athletes=%{marker.size}<extra></extra>",
           "hovertext": [
            "France"
           ],
           "ids": [
            "France"
           ],
           "legendgroup": "France",
           "marker": {
            "color": "#EF553B",
            "size": [
             208
            ],
            "sizemode": "area",
            "sizeref": 1.8375,
            "symbol": "circle"
           },
           "mode": "markers",
           "name": "France",
           "orientation": "v",
           "showlegend": true,
           "type": "scatter",
           "x": [
            1908
           ],
           "xaxis": "x",
           "y": [
            208
           ],
           "yaxis": "y"
          },
          {
           "hovertemplate": "<b>%{hovertext}</b><br><br>region=Germany<br>Year=%{x}<br>Nb of athletes=%{marker.size}<extra></extra>",
           "hovertext": [
            "Germany"
           ],
           "ids": [
            "Germany"
           ],
           "legendgroup": "Germany",
           "marker": {
            "color": "#00cc96",
            "size": [
             82
            ],
            "sizemode": "area",
            "sizeref": 1.8375,
            "symbol": "circle"
           },
           "mode": "markers",
           "name": "Germany",
           "orientation": "v",
           "showlegend": true,
           "type": "scatter",
           "x": [
            1908
           ],
           "xaxis": "x",
           "y": [
            82
           ],
           "yaxis": "y"
          },
          {
           "hovertemplate": "<b>%{hovertext}</b><br><br>region=Italy<br>Year=%{x}<br>Nb of athletes=%{marker.size}<extra></extra>",
           "hovertext": [
            "Italy"
           ],
           "ids": [
            "Italy"
           ],
           "legendgroup": "Italy",
           "marker": {
            "color": "#ab63fa",
            "size": [
             66
            ],
            "sizemode": "area",
            "sizeref": 1.8375,
            "symbol": "circle"
           },
           "mode": "markers",
           "name": "Italy",
           "orientation": "v",
           "showlegend": true,
           "type": "scatter",
           "x": [
            1908
           ],
           "xaxis": "x",
           "y": [
            66
           ],
           "yaxis": "y"
          },
          {
           "hovertemplate": "<b>%{hovertext}</b><br><br>region=UK<br>Year=%{x}<br>Nb of athletes=%{marker.size}<extra></extra>",
           "hovertext": [
            "UK"
           ],
           "ids": [
            "UK"
           ],
           "legendgroup": "UK",
           "marker": {
            "color": "#FFA15A",
            "size": [
             735
            ],
            "sizemode": "area",
            "sizeref": 1.8375,
            "symbol": "circle"
           },
           "mode": "markers",
           "name": "UK",
           "orientation": "v",
           "showlegend": true,
           "type": "scatter",
           "x": [
            1908
           ],
           "xaxis": "x",
           "y": [
            735
           ],
           "yaxis": "y"
          },
          {
           "hovertemplate": "<b>%{hovertext}</b><br><br>region=USA<br>Year=%{x}<br>Nb of athletes=%{marker.size}<extra></extra>",
           "hovertext": [
            "USA"
           ],
           "ids": [
            "USA"
           ],
           "legendgroup": "USA",
           "marker": {
            "color": "#19d3f3",
            "size": [
             122
            ],
            "sizemode": "area",
            "sizeref": 1.8375,
            "symbol": "circle"
           },
           "mode": "markers",
           "name": "USA",
           "orientation": "v",
           "showlegend": true,
           "type": "scatter",
           "x": [
            1908
           ],
           "xaxis": "x",
           "y": [
            122
           ],
           "yaxis": "y"
          },
          {
           "hovertemplate": "<b>%{hovertext}</b><br><br>region=Russia<br>Year=%{x}<br>Nb of athletes=%{marker.size}<extra></extra>",
           "hovertext": [
            "Russia"
           ],
           "ids": [
            "Russia"
           ],
           "legendgroup": "Russia",
           "marker": {
            "color": "#FF6692",
            "size": [
             6
            ],
            "sizemode": "area",
            "sizeref": 1.8375,
            "symbol": "circle"
           },
           "mode": "markers",
           "name": "Russia",
           "orientation": "v",
           "showlegend": true,
           "type": "scatter",
           "x": [
            1908
           ],
           "xaxis": "x",
           "y": [
            6
           ],
           "yaxis": "y"
          }
         ],
         "name": "1908"
        },
        {
         "data": [
          {
           "hovertemplate": "<b>%{hovertext}</b><br><br>region=Australia<br>Year=%{x}<br>Nb of athletes=%{marker.size}<extra></extra>",
           "hovertext": [
            "Australia"
           ],
           "ids": [
            "Australia"
           ],
           "legendgroup": "Australia",
           "marker": {
            "color": "#636efa",
            "size": [
             25
            ],
            "sizemode": "area",
            "sizeref": 1.8375,
            "symbol": "circle"
           },
           "mode": "markers",
           "name": "Australia",
           "orientation": "v",
           "showlegend": true,
           "type": "scatter",
           "x": [
            1912
           ],
           "xaxis": "x",
           "y": [
            25
           ],
           "yaxis": "y"
          },
          {
           "hovertemplate": "<b>%{hovertext}</b><br><br>region=France<br>Year=%{x}<br>Nb of athletes=%{marker.size}<extra></extra>",
           "hovertext": [
            "France"
           ],
           "ids": [
            "France"
           ],
           "legendgroup": "France",
           "marker": {
            "color": "#EF553B",
            "size": [
             119
            ],
            "sizemode": "area",
            "sizeref": 1.8375,
            "symbol": "circle"
           },
           "mode": "markers",
           "name": "France",
           "orientation": "v",
           "showlegend": true,
           "type": "scatter",
           "x": [
            1912
           ],
           "xaxis": "x",
           "y": [
            119
           ],
           "yaxis": "y"
          },
          {
           "hovertemplate": "<b>%{hovertext}</b><br><br>region=Germany<br>Year=%{x}<br>Nb of athletes=%{marker.size}<extra></extra>",
           "hovertext": [
            "Germany"
           ],
           "ids": [
            "Germany"
           ],
           "legendgroup": "Germany",
           "marker": {
            "color": "#00cc96",
            "size": [
             185
            ],
            "sizemode": "area",
            "sizeref": 1.8375,
            "symbol": "circle"
           },
           "mode": "markers",
           "name": "Germany",
           "orientation": "v",
           "showlegend": true,
           "type": "scatter",
           "x": [
            1912
           ],
           "xaxis": "x",
           "y": [
            185
           ],
           "yaxis": "y"
          },
          {
           "hovertemplate": "<b>%{hovertext}</b><br><br>region=Italy<br>Year=%{x}<br>Nb of athletes=%{marker.size}<extra></extra>",
           "hovertext": [
            "Italy"
           ],
           "ids": [
            "Italy"
           ],
           "legendgroup": "Italy",
           "marker": {
            "color": "#ab63fa",
            "size": [
             66
            ],
            "sizemode": "area",
            "sizeref": 1.8375,
            "symbol": "circle"
           },
           "mode": "markers",
           "name": "Italy",
           "orientation": "v",
           "showlegend": true,
           "type": "scatter",
           "x": [
            1912
           ],
           "xaxis": "x",
           "y": [
            66
           ],
           "yaxis": "y"
          },
          {
           "hovertemplate": "<b>%{hovertext}</b><br><br>region=UK<br>Year=%{x}<br>Nb of athletes=%{marker.size}<extra></extra>",
           "hovertext": [
            "UK"
           ],
           "ids": [
            "UK"
           ],
           "legendgroup": "UK",
           "marker": {
            "color": "#FFA15A",
            "size": [
             274
            ],
            "sizemode": "area",
            "sizeref": 1.8375,
            "symbol": "circle"
           },
           "mode": "markers",
           "name": "UK",
           "orientation": "v",
           "showlegend": true,
           "type": "scatter",
           "x": [
            1912
           ],
           "xaxis": "x",
           "y": [
            274
           ],
           "yaxis": "y"
          },
          {
           "hovertemplate": "<b>%{hovertext}</b><br><br>region=USA<br>Year=%{x}<br>Nb of athletes=%{marker.size}<extra></extra>",
           "hovertext": [
            "USA"
           ],
           "ids": [
            "USA"
           ],
           "legendgroup": "USA",
           "marker": {
            "color": "#19d3f3",
            "size": [
             174
            ],
            "sizemode": "area",
            "sizeref": 1.8375,
            "symbol": "circle"
           },
           "mode": "markers",
           "name": "USA",
           "orientation": "v",
           "showlegend": true,
           "type": "scatter",
           "x": [
            1912
           ],
           "xaxis": "x",
           "y": [
            174
           ],
           "yaxis": "y"
          },
          {
           "hovertemplate": "<b>%{hovertext}</b><br><br>region=Russia<br>Year=%{x}<br>Nb of athletes=%{marker.size}<extra></extra>",
           "hovertext": [
            "Russia"
           ],
           "ids": [
            "Russia"
           ],
           "legendgroup": "Russia",
           "marker": {
            "color": "#FF6692",
            "size": [
             159
            ],
            "sizemode": "area",
            "sizeref": 1.8375,
            "symbol": "circle"
           },
           "mode": "markers",
           "name": "Russia",
           "orientation": "v",
           "showlegend": true,
           "type": "scatter",
           "x": [
            1912
           ],
           "xaxis": "x",
           "y": [
            159
           ],
           "yaxis": "y"
          },
          {
           "hovertemplate": "<b>%{hovertext}</b><br><br>region=Japan<br>Year=%{x}<br>Nb of athletes=%{marker.size}<extra></extra>",
           "hovertext": [
            "Japan"
           ],
           "ids": [
            "Japan"
           ],
           "legendgroup": "Japan",
           "marker": {
            "color": "#B6E880",
            "size": [
             2
            ],
            "sizemode": "area",
            "sizeref": 1.8375,
            "symbol": "circle"
           },
           "mode": "markers",
           "name": "Japan",
           "orientation": "v",
           "showlegend": true,
           "type": "scatter",
           "x": [
            1912
           ],
           "xaxis": "x",
           "y": [
            2
           ],
           "yaxis": "y"
          }
         ],
         "name": "1912"
        },
        {
         "data": [
          {
           "hovertemplate": "<b>%{hovertext}</b><br><br>region=Australia<br>Year=%{x}<br>Nb of athletes=%{marker.size}<extra></extra>",
           "hovertext": [
            "Australia"
           ],
           "ids": [
            "Australia"
           ],
           "legendgroup": "Australia",
           "marker": {
            "color": "#636efa",
            "size": [
             13
            ],
            "sizemode": "area",
            "sizeref": 1.8375,
            "symbol": "circle"
           },
           "mode": "markers",
           "name": "Australia",
           "orientation": "v",
           "showlegend": true,
           "type": "scatter",
           "x": [
            1920
           ],
           "xaxis": "x",
           "y": [
            13
           ],
           "yaxis": "y"
          },
          {
           "hovertemplate": "<b>%{hovertext}</b><br><br>region=France<br>Year=%{x}<br>Nb of athletes=%{marker.size}<extra></extra>",
           "hovertext": [
            "France"
           ],
           "ids": [
            "France"
           ],
           "legendgroup": "France",
           "marker": {
            "color": "#EF553B",
            "size": [
             304
            ],
            "sizemode": "area",
            "sizeref": 1.8375,
            "symbol": "circle"
           },
           "mode": "markers",
           "name": "France",
           "orientation": "v",
           "showlegend": true,
           "type": "scatter",
           "x": [
            1920
           ],
           "xaxis": "x",
           "y": [
            304
           ],
           "yaxis": "y"
          },
          {
           "hovertemplate": "<b>%{hovertext}</b><br><br>region=Italy<br>Year=%{x}<br>Nb of athletes=%{marker.size}<extra></extra>",
           "hovertext": [
            "Italy"
           ],
           "ids": [
            "Italy"
           ],
           "legendgroup": "Italy",
           "marker": {
            "color": "#ab63fa",
            "size": [
             174
            ],
            "sizemode": "area",
            "sizeref": 1.8375,
            "symbol": "circle"
           },
           "mode": "markers",
           "name": "Italy",
           "orientation": "v",
           "showlegend": true,
           "type": "scatter",
           "x": [
            1920
           ],
           "xaxis": "x",
           "y": [
            174
           ],
           "yaxis": "y"
          },
          {
           "hovertemplate": "<b>%{hovertext}</b><br><br>region=UK<br>Year=%{x}<br>Nb of athletes=%{marker.size}<extra></extra>",
           "hovertext": [
            "UK"
           ],
           "ids": [
            "UK"
           ],
           "legendgroup": "UK",
           "marker": {
            "color": "#FFA15A",
            "size": [
             234
            ],
            "sizemode": "area",
            "sizeref": 1.8375,
            "symbol": "circle"
           },
           "mode": "markers",
           "name": "UK",
           "orientation": "v",
           "showlegend": true,
           "type": "scatter",
           "x": [
            1920
           ],
           "xaxis": "x",
           "y": [
            234
           ],
           "yaxis": "y"
          },
          {
           "hovertemplate": "<b>%{hovertext}</b><br><br>region=USA<br>Year=%{x}<br>Nb of athletes=%{marker.size}<extra></extra>",
           "hovertext": [
            "USA"
           ],
           "ids": [
            "USA"
           ],
           "legendgroup": "USA",
           "marker": {
            "color": "#19d3f3",
            "size": [
             288
            ],
            "sizemode": "area",
            "sizeref": 1.8375,
            "symbol": "circle"
           },
           "mode": "markers",
           "name": "USA",
           "orientation": "v",
           "showlegend": true,
           "type": "scatter",
           "x": [
            1920
           ],
           "xaxis": "x",
           "y": [
            288
           ],
           "yaxis": "y"
          },
          {
           "hovertemplate": "<b>%{hovertext}</b><br><br>region=Japan<br>Year=%{x}<br>Nb of athletes=%{marker.size}<extra></extra>",
           "hovertext": [
            "Japan"
           ],
           "ids": [
            "Japan"
           ],
           "legendgroup": "Japan",
           "marker": {
            "color": "#B6E880",
            "size": [
             15
            ],
            "sizemode": "area",
            "sizeref": 1.8375,
            "symbol": "circle"
           },
           "mode": "markers",
           "name": "Japan",
           "orientation": "v",
           "showlegend": true,
           "type": "scatter",
           "x": [
            1920
           ],
           "xaxis": "x",
           "y": [
            15
           ],
           "yaxis": "y"
          }
         ],
         "name": "1920"
        },
        {
         "data": [
          {
           "hovertemplate": "<b>%{hovertext}</b><br><br>region=Australia<br>Year=%{x}<br>Nb of athletes=%{marker.size}<extra></extra>",
           "hovertext": [
            "Australia"
           ],
           "ids": [
            "Australia"
           ],
           "legendgroup": "Australia",
           "marker": {
            "color": "#636efa",
            "size": [
             36
            ],
            "sizemode": "area",
            "sizeref": 1.8375,
            "symbol": "circle"
           },
           "mode": "markers",
           "name": "Australia",
           "orientation": "v",
           "showlegend": true,
           "type": "scatter",
           "x": [
            1924
           ],
           "xaxis": "x",
           "y": [
            36
           ],
           "yaxis": "y"
          },
          {
           "hovertemplate": "<b>%{hovertext}</b><br><br>region=France<br>Year=%{x}<br>Nb of athletes=%{marker.size}<extra></extra>",
           "hovertext": [
            "France"
           ],
           "ids": [
            "France"
           ],
           "legendgroup": "France",
           "marker": {
            "color": "#EF553B",
            "size": [
             401
            ],
            "sizemode": "area",
            "sizeref": 1.8375,
            "symbol": "circle"
           },
           "mode": "markers",
           "name": "France",
           "orientation": "v",
           "showlegend": true,
           "type": "scatter",
           "x": [
            1924
           ],
           "xaxis": "x",
           "y": [
            401
           ],
           "yaxis": "y"
          },
          {
           "hovertemplate": "<b>%{hovertext}</b><br><br>region=Italy<br>Year=%{x}<br>Nb of athletes=%{marker.size}<extra></extra>",
           "hovertext": [
            "Italy"
           ],
           "ids": [
            "Italy"
           ],
           "legendgroup": "Italy",
           "marker": {
            "color": "#ab63fa",
            "size": [
             200
            ],
            "sizemode": "area",
            "sizeref": 1.8375,
            "symbol": "circle"
           },
           "mode": "markers",
           "name": "Italy",
           "orientation": "v",
           "showlegend": true,
           "type": "scatter",
           "x": [
            1924
           ],
           "xaxis": "x",
           "y": [
            200
           ],
           "yaxis": "y"
          },
          {
           "hovertemplate": "<b>%{hovertext}</b><br><br>region=UK<br>Year=%{x}<br>Nb of athletes=%{marker.size}<extra></extra>",
           "hovertext": [
            "UK"
           ],
           "ids": [
            "UK"
           ],
           "legendgroup": "UK",
           "marker": {
            "color": "#FFA15A",
            "size": [
             267
            ],
            "sizemode": "area",
            "sizeref": 1.8375,
            "symbol": "circle"
           },
           "mode": "markers",
           "name": "UK",
           "orientation": "v",
           "showlegend": true,
           "type": "scatter",
           "x": [
            1924
           ],
           "xaxis": "x",
           "y": [
            267
           ],
           "yaxis": "y"
          },
          {
           "hovertemplate": "<b>%{hovertext}</b><br><br>region=USA<br>Year=%{x}<br>Nb of athletes=%{marker.size}<extra></extra>",
           "hovertext": [
            "USA"
           ],
           "ids": [
            "USA"
           ],
           "legendgroup": "USA",
           "marker": {
            "color": "#19d3f3",
            "size": [
             299
            ],
            "sizemode": "area",
            "sizeref": 1.8375,
            "symbol": "circle"
           },
           "mode": "markers",
           "name": "USA",
           "orientation": "v",
           "showlegend": true,
           "type": "scatter",
           "x": [
            1924
           ],
           "xaxis": "x",
           "y": [
            299
           ],
           "yaxis": "y"
          },
          {
           "hovertemplate": "<b>%{hovertext}</b><br><br>region=Russia<br>Year=%{x}<br>Nb of athletes=%{marker.size}<extra></extra>",
           "hovertext": [
            "Russia"
           ],
           "ids": [
            "Russia"
           ],
           "legendgroup": "Russia",
           "marker": {
            "color": "#FF6692",
            "size": [
             3
            ],
            "sizemode": "area",
            "sizeref": 1.8375,
            "symbol": "circle"
           },
           "mode": "markers",
           "name": "Russia",
           "orientation": "v",
           "showlegend": true,
           "type": "scatter",
           "x": [
            1924
           ],
           "xaxis": "x",
           "y": [
            3
           ],
           "yaxis": "y"
          },
          {
           "hovertemplate": "<b>%{hovertext}</b><br><br>region=Japan<br>Year=%{x}<br>Nb of athletes=%{marker.size}<extra></extra>",
           "hovertext": [
            "Japan"
           ],
           "ids": [
            "Japan"
           ],
           "legendgroup": "Japan",
           "marker": {
            "color": "#B6E880",
            "size": [
             19
            ],
            "sizemode": "area",
            "sizeref": 1.8375,
            "symbol": "circle"
           },
           "mode": "markers",
           "name": "Japan",
           "orientation": "v",
           "showlegend": true,
           "type": "scatter",
           "x": [
            1924
           ],
           "xaxis": "x",
           "y": [
            19
           ],
           "yaxis": "y"
          }
         ],
         "name": "1924"
        },
        {
         "data": [
          {
           "hovertemplate": "<b>%{hovertext}</b><br><br>region=Australia<br>Year=%{x}<br>Nb of athletes=%{marker.size}<extra></extra>",
           "hovertext": [
            "Australia"
           ],
           "ids": [
            "Australia"
           ],
           "legendgroup": "Australia",
           "marker": {
            "color": "#636efa",
            "size": [
             18
            ],
            "sizemode": "area",
            "sizeref": 1.8375,
            "symbol": "circle"
           },
           "mode": "markers",
           "name": "Australia",
           "orientation": "v",
           "showlegend": true,
           "type": "scatter",
           "x": [
            1928
           ],
           "xaxis": "x",
           "y": [
            18
           ],
           "yaxis": "y"
          },
          {
           "hovertemplate": "<b>%{hovertext}</b><br><br>region=France<br>Year=%{x}<br>Nb of athletes=%{marker.size}<extra></extra>",
           "hovertext": [
            "France"
           ],
           "ids": [
            "France"
           ],
           "legendgroup": "France",
           "marker": {
            "color": "#EF553B",
            "size": [
             255
            ],
            "sizemode": "area",
            "sizeref": 1.8375,
            "symbol": "circle"
           },
           "mode": "markers",
           "name": "France",
           "orientation": "v",
           "showlegend": true,
           "type": "scatter",
           "x": [
            1928
           ],
           "xaxis": "x",
           "y": [
            255
           ],
           "yaxis": "y"
          },
          {
           "hovertemplate": "<b>%{hovertext}</b><br><br>region=Germany<br>Year=%{x}<br>Nb of athletes=%{marker.size}<extra></extra>",
           "hovertext": [
            "Germany"
           ],
           "ids": [
            "Germany"
           ],
           "legendgroup": "Germany",
           "marker": {
            "color": "#00cc96",
            "size": [
             295
            ],
            "sizemode": "area",
            "sizeref": 1.8375,
            "symbol": "circle"
           },
           "mode": "markers",
           "name": "Germany",
           "orientation": "v",
           "showlegend": true,
           "type": "scatter",
           "x": [
            1928
           ],
           "xaxis": "x",
           "y": [
            295
           ],
           "yaxis": "y"
          },
          {
           "hovertemplate": "<b>%{hovertext}</b><br><br>region=Italy<br>Year=%{x}<br>Nb of athletes=%{marker.size}<extra></extra>",
           "hovertext": [
            "Italy"
           ],
           "ids": [
            "Italy"
           ],
           "legendgroup": "Italy",
           "marker": {
            "color": "#ab63fa",
            "size": [
             174
            ],
            "sizemode": "area",
            "sizeref": 1.8375,
            "symbol": "circle"
           },
           "mode": "markers",
           "name": "Italy",
           "orientation": "v",
           "showlegend": true,
           "type": "scatter",
           "x": [
            1928
           ],
           "xaxis": "x",
           "y": [
            174
           ],
           "yaxis": "y"
          },
          {
           "hovertemplate": "<b>%{hovertext}</b><br><br>region=UK<br>Year=%{x}<br>Nb of athletes=%{marker.size}<extra></extra>",
           "hovertext": [
            "UK"
           ],
           "ids": [
            "UK"
           ],
           "legendgroup": "UK",
           "marker": {
            "color": "#FFA15A",
            "size": [
             232
            ],
            "sizemode": "area",
            "sizeref": 1.8375,
            "symbol": "circle"
           },
           "mode": "markers",
           "name": "UK",
           "orientation": "v",
           "showlegend": true,
           "type": "scatter",
           "x": [
            1928
           ],
           "xaxis": "x",
           "y": [
            232
           ],
           "yaxis": "y"
          },
          {
           "hovertemplate": "<b>%{hovertext}</b><br><br>region=USA<br>Year=%{x}<br>Nb of athletes=%{marker.size}<extra></extra>",
           "hovertext": [
            "USA"
           ],
           "ids": [
            "USA"
           ],
           "legendgroup": "USA",
           "marker": {
            "color": "#19d3f3",
            "size": [
             280
            ],
            "sizemode": "area",
            "sizeref": 1.8375,
            "symbol": "circle"
           },
           "mode": "markers",
           "name": "USA",
           "orientation": "v",
           "showlegend": true,
           "type": "scatter",
           "x": [
            1928
           ],
           "xaxis": "x",
           "y": [
            280
           ],
           "yaxis": "y"
          },
          {
           "hovertemplate": "<b>%{hovertext}</b><br><br>region=Japan<br>Year=%{x}<br>Nb of athletes=%{marker.size}<extra></extra>",
           "hovertext": [
            "Japan"
           ],
           "ids": [
            "Japan"
           ],
           "legendgroup": "Japan",
           "marker": {
            "color": "#B6E880",
            "size": [
             40
            ],
            "sizemode": "area",
            "sizeref": 1.8375,
            "symbol": "circle"
           },
           "mode": "markers",
           "name": "Japan",
           "orientation": "v",
           "showlegend": true,
           "type": "scatter",
           "x": [
            1928
           ],
           "xaxis": "x",
           "y": [
            40
           ],
           "yaxis": "y"
          }
         ],
         "name": "1928"
        },
        {
         "data": [
          {
           "hovertemplate": "<b>%{hovertext}</b><br><br>region=Australia<br>Year=%{x}<br>Nb of athletes=%{marker.size}<extra></extra>",
           "hovertext": [
            "Australia"
           ],
           "ids": [
            "Australia"
           ],
           "legendgroup": "Australia",
           "marker": {
            "color": "#636efa",
            "size": [
             13
            ],
            "sizemode": "area",
            "sizeref": 1.8375,
            "symbol": "circle"
           },
           "mode": "markers",
           "name": "Australia",
           "orientation": "v",
           "showlegend": true,
           "type": "scatter",
           "x": [
            1932
           ],
           "xaxis": "x",
           "y": [
            13
           ],
           "yaxis": "y"
          },
          {
           "hovertemplate": "<b>%{hovertext}</b><br><br>region=France<br>Year=%{x}<br>Nb of athletes=%{marker.size}<extra></extra>",
           "hovertext": [
            "France"
           ],
           "ids": [
            "France"
           ],
           "legendgroup": "France",
           "marker": {
            "color": "#EF553B",
            "size": [
             103
            ],
            "sizemode": "area",
            "sizeref": 1.8375,
            "symbol": "circle"
           },
           "mode": "markers",
           "name": "France",
           "orientation": "v",
           "showlegend": true,
           "type": "scatter",
           "x": [
            1932
           ],
           "xaxis": "x",
           "y": [
            103
           ],
           "yaxis": "y"
          },
          {
           "hovertemplate": "<b>%{hovertext}</b><br><br>region=Germany<br>Year=%{x}<br>Nb of athletes=%{marker.size}<extra></extra>",
           "hovertext": [
            "Germany"
           ],
           "ids": [
            "Germany"
           ],
           "legendgroup": "Germany",
           "marker": {
            "color": "#00cc96",
            "size": [
             145
            ],
            "sizemode": "area",
            "sizeref": 1.8375,
            "symbol": "circle"
           },
           "mode": "markers",
           "name": "Germany",
           "orientation": "v",
           "showlegend": true,
           "type": "scatter",
           "x": [
            1932
           ],
           "xaxis": "x",
           "y": [
            145
           ],
           "yaxis": "y"
          },
          {
           "hovertemplate": "<b>%{hovertext}</b><br><br>region=Italy<br>Year=%{x}<br>Nb of athletes=%{marker.size}<extra></extra>",
           "hovertext": [
            "Italy"
           ],
           "ids": [
            "Italy"
           ],
           "legendgroup": "Italy",
           "marker": {
            "color": "#ab63fa",
            "size": [
             112
            ],
            "sizemode": "area",
            "sizeref": 1.8375,
            "symbol": "circle"
           },
           "mode": "markers",
           "name": "Italy",
           "orientation": "v",
           "showlegend": true,
           "type": "scatter",
           "x": [
            1932
           ],
           "xaxis": "x",
           "y": [
            112
           ],
           "yaxis": "y"
          },
          {
           "hovertemplate": "<b>%{hovertext}</b><br><br>region=UK<br>Year=%{x}<br>Nb of athletes=%{marker.size}<extra></extra>",
           "hovertext": [
            "UK"
           ],
           "ids": [
            "UK"
           ],
           "legendgroup": "UK",
           "marker": {
            "color": "#FFA15A",
            "size": [
             107
            ],
            "sizemode": "area",
            "sizeref": 1.8375,
            "symbol": "circle"
           },
           "mode": "markers",
           "name": "UK",
           "orientation": "v",
           "showlegend": true,
           "type": "scatter",
           "x": [
            1932
           ],
           "xaxis": "x",
           "y": [
            107
           ],
           "yaxis": "y"
          },
          {
           "hovertemplate": "<b>%{hovertext}</b><br><br>region=USA<br>Year=%{x}<br>Nb of athletes=%{marker.size}<extra></extra>",
           "hovertext": [
            "USA"
           ],
           "ids": [
            "USA"
           ],
           "legendgroup": "USA",
           "marker": {
            "color": "#19d3f3",
            "size": [
             474
            ],
            "sizemode": "area",
            "sizeref": 1.8375,
            "symbol": "circle"
           },
           "mode": "markers",
           "name": "USA",
           "orientation": "v",
           "showlegend": true,
           "type": "scatter",
           "x": [
            1932
           ],
           "xaxis": "x",
           "y": [
            474
           ],
           "yaxis": "y"
          },
          {
           "hovertemplate": "<b>%{hovertext}</b><br><br>region=Japan<br>Year=%{x}<br>Nb of athletes=%{marker.size}<extra></extra>",
           "hovertext": [
            "Japan"
           ],
           "ids": [
            "Japan"
           ],
           "legendgroup": "Japan",
           "marker": {
            "color": "#B6E880",
            "size": [
             157
            ],
            "sizemode": "area",
            "sizeref": 1.8375,
            "symbol": "circle"
           },
           "mode": "markers",
           "name": "Japan",
           "orientation": "v",
           "showlegend": true,
           "type": "scatter",
           "x": [
            1932
           ],
           "xaxis": "x",
           "y": [
            157
           ],
           "yaxis": "y"
          },
          {
           "hovertemplate": "<b>%{hovertext}</b><br><br>region=China<br>Year=%{x}<br>Nb of athletes=%{marker.size}<extra></extra>",
           "hovertext": [
            "China"
           ],
           "ids": [
            "China"
           ],
           "legendgroup": "China",
           "marker": {
            "color": "#FF97FF",
            "size": [
             1
            ],
            "sizemode": "area",
            "sizeref": 1.8375,
            "symbol": "circle"
           },
           "mode": "markers",
           "name": "China",
           "orientation": "v",
           "showlegend": true,
           "type": "scatter",
           "x": [
            1932
           ],
           "xaxis": "x",
           "y": [
            1
           ],
           "yaxis": "y"
          }
         ],
         "name": "1932"
        },
        {
         "data": [
          {
           "hovertemplate": "<b>%{hovertext}</b><br><br>region=Australia<br>Year=%{x}<br>Nb of athletes=%{marker.size}<extra></extra>",
           "hovertext": [
            "Australia"
           ],
           "ids": [
            "Australia"
           ],
           "legendgroup": "Australia",
           "marker": {
            "color": "#636efa",
            "size": [
             32
            ],
            "sizemode": "area",
            "sizeref": 1.8375,
            "symbol": "circle"
           },
           "mode": "markers",
           "name": "Australia",
           "orientation": "v",
           "showlegend": true,
           "type": "scatter",
           "x": [
            1936
           ],
           "xaxis": "x",
           "y": [
            32
           ],
           "yaxis": "y"
          },
          {
           "hovertemplate": "<b>%{hovertext}</b><br><br>region=France<br>Year=%{x}<br>Nb of athletes=%{marker.size}<extra></extra>",
           "hovertext": [
            "France"
           ],
           "ids": [
            "France"
           ],
           "legendgroup": "France",
           "marker": {
            "color": "#EF553B",
            "size": [
             201
            ],
            "sizemode": "area",
            "sizeref": 1.8375,
            "symbol": "circle"
           },
           "mode": "markers",
           "name": "France",
           "orientation": "v",
           "showlegend": true,
           "type": "scatter",
           "x": [
            1936
           ],
           "xaxis": "x",
           "y": [
            201
           ],
           "yaxis": "y"
          },
          {
           "hovertemplate": "<b>%{hovertext}</b><br><br>region=Germany<br>Year=%{x}<br>Nb of athletes=%{marker.size}<extra></extra>",
           "hovertext": [
            "Germany"
           ],
           "ids": [
            "Germany"
           ],
           "legendgroup": "Germany",
           "marker": {
            "color": "#00cc96",
            "size": [
             433
            ],
            "sizemode": "area",
            "sizeref": 1.8375,
            "symbol": "circle"
           },
           "mode": "markers",
           "name": "Germany",
           "orientation": "v",
           "showlegend": true,
           "type": "scatter",
           "x": [
            1936
           ],
           "xaxis": "x",
           "y": [
            433
           ],
           "yaxis": "y"
          },
          {
           "hovertemplate": "<b>%{hovertext}</b><br><br>region=Italy<br>Year=%{x}<br>Nb of athletes=%{marker.size}<extra></extra>",
           "hovertext": [
            "Italy"
           ],
           "ids": [
            "Italy"
           ],
           "legendgroup": "Italy",
           "marker": {
            "color": "#ab63fa",
            "size": [
             244
            ],
            "sizemode": "area",
            "sizeref": 1.8375,
            "symbol": "circle"
           },
           "mode": "markers",
           "name": "Italy",
           "orientation": "v",
           "showlegend": true,
           "type": "scatter",
           "x": [
            1936
           ],
           "xaxis": "x",
           "y": [
            244
           ],
           "yaxis": "y"
          },
          {
           "hovertemplate": "<b>%{hovertext}</b><br><br>region=UK<br>Year=%{x}<br>Nb of athletes=%{marker.size}<extra></extra>",
           "hovertext": [
            "UK"
           ],
           "ids": [
            "UK"
           ],
           "legendgroup": "UK",
           "marker": {
            "color": "#FFA15A",
            "size": [
             208
            ],
            "sizemode": "area",
            "sizeref": 1.8375,
            "symbol": "circle"
           },
           "mode": "markers",
           "name": "UK",
           "orientation": "v",
           "showlegend": true,
           "type": "scatter",
           "x": [
            1936
           ],
           "xaxis": "x",
           "y": [
            208
           ],
           "yaxis": "y"
          },
          {
           "hovertemplate": "<b>%{hovertext}</b><br><br>region=USA<br>Year=%{x}<br>Nb of athletes=%{marker.size}<extra></extra>",
           "hovertext": [
            "USA"
           ],
           "ids": [
            "USA"
           ],
           "legendgroup": "USA",
           "marker": {
            "color": "#19d3f3",
            "size": [
             359
            ],
            "sizemode": "area",
            "sizeref": 1.8375,
            "symbol": "circle"
           },
           "mode": "markers",
           "name": "USA",
           "orientation": "v",
           "showlegend": true,
           "type": "scatter",
           "x": [
            1936
           ],
           "xaxis": "x",
           "y": [
            359
           ],
           "yaxis": "y"
          },
          {
           "hovertemplate": "<b>%{hovertext}</b><br><br>region=Japan<br>Year=%{x}<br>Nb of athletes=%{marker.size}<extra></extra>",
           "hovertext": [
            "Japan"
           ],
           "ids": [
            "Japan"
           ],
           "legendgroup": "Japan",
           "marker": {
            "color": "#B6E880",
            "size": [
             220
            ],
            "sizemode": "area",
            "sizeref": 1.8375,
            "symbol": "circle"
           },
           "mode": "markers",
           "name": "Japan",
           "orientation": "v",
           "showlegend": true,
           "type": "scatter",
           "x": [
            1936
           ],
           "xaxis": "x",
           "y": [
            220
           ],
           "yaxis": "y"
          },
          {
           "hovertemplate": "<b>%{hovertext}</b><br><br>region=China<br>Year=%{x}<br>Nb of athletes=%{marker.size}<extra></extra>",
           "hovertext": [
            "China"
           ],
           "ids": [
            "China"
           ],
           "legendgroup": "China",
           "marker": {
            "color": "#FF97FF",
            "size": [
             54
            ],
            "sizemode": "area",
            "sizeref": 1.8375,
            "symbol": "circle"
           },
           "mode": "markers",
           "name": "China",
           "orientation": "v",
           "showlegend": true,
           "type": "scatter",
           "x": [
            1936
           ],
           "xaxis": "x",
           "y": [
            54
           ],
           "yaxis": "y"
          }
         ],
         "name": "1936"
        },
        {
         "data": [
          {
           "hovertemplate": "<b>%{hovertext}</b><br><br>region=Australia<br>Year=%{x}<br>Nb of athletes=%{marker.size}<extra></extra>",
           "hovertext": [
            "Australia"
           ],
           "ids": [
            "Australia"
           ],
           "legendgroup": "Australia",
           "marker": {
            "color": "#636efa",
            "size": [
             75
            ],
            "sizemode": "area",
            "sizeref": 1.8375,
            "symbol": "circle"
           },
           "mode": "markers",
           "name": "Australia",
           "orientation": "v",
           "showlegend": true,
           "type": "scatter",
           "x": [
            1948
           ],
           "xaxis": "x",
           "y": [
            75
           ],
           "yaxis": "y"
          },
          {
           "hovertemplate": "<b>%{hovertext}</b><br><br>region=France<br>Year=%{x}<br>Nb of athletes=%{marker.size}<extra></extra>",
           "hovertext": [
            "France"
           ],
           "ids": [
            "France"
           ],
           "legendgroup": "France",
           "marker": {
            "color": "#EF553B",
            "size": [
             316
            ],
            "sizemode": "area",
            "sizeref": 1.8375,
            "symbol": "circle"
           },
           "mode": "markers",
           "name": "France",
           "orientation": "v",
           "showlegend": true,
           "type": "scatter",
           "x": [
            1948
           ],
           "xaxis": "x",
           "y": [
            316
           ],
           "yaxis": "y"
          },
          {
           "hovertemplate": "<b>%{hovertext}</b><br><br>region=Italy<br>Year=%{x}<br>Nb of athletes=%{marker.size}<extra></extra>",
           "hovertext": [
            "Italy"
           ],
           "ids": [
            "Italy"
           ],
           "legendgroup": "Italy",
           "marker": {
            "color": "#ab63fa",
            "size": [
             215
            ],
            "sizemode": "area",
            "sizeref": 1.8375,
            "symbol": "circle"
           },
           "mode": "markers",
           "name": "Italy",
           "orientation": "v",
           "showlegend": true,
           "type": "scatter",
           "x": [
            1948
           ],
           "xaxis": "x",
           "y": [
            215
           ],
           "yaxis": "y"
          },
          {
           "hovertemplate": "<b>%{hovertext}</b><br><br>region=UK<br>Year=%{x}<br>Nb of athletes=%{marker.size}<extra></extra>",
           "hovertext": [
            "UK"
           ],
           "ids": [
            "UK"
           ],
           "legendgroup": "UK",
           "marker": {
            "color": "#FFA15A",
            "size": [
             407
            ],
            "sizemode": "area",
            "sizeref": 1.8375,
            "symbol": "circle"
           },
           "mode": "markers",
           "name": "UK",
           "orientation": "v",
           "showlegend": true,
           "type": "scatter",
           "x": [
            1948
           ],
           "xaxis": "x",
           "y": [
            407
           ],
           "yaxis": "y"
          },
          {
           "hovertemplate": "<b>%{hovertext}</b><br><br>region=USA<br>Year=%{x}<br>Nb of athletes=%{marker.size}<extra></extra>",
           "hovertext": [
            "USA"
           ],
           "ids": [
            "USA"
           ],
           "legendgroup": "USA",
           "marker": {
            "color": "#19d3f3",
            "size": [
             300
            ],
            "sizemode": "area",
            "sizeref": 1.8375,
            "symbol": "circle"
           },
           "mode": "markers",
           "name": "USA",
           "orientation": "v",
           "showlegend": true,
           "type": "scatter",
           "x": [
            1948
           ],
           "xaxis": "x",
           "y": [
            300
           ],
           "yaxis": "y"
          },
          {
           "hovertemplate": "<b>%{hovertext}</b><br><br>region=China<br>Year=%{x}<br>Nb of athletes=%{marker.size}<extra></extra>",
           "hovertext": [
            "China"
           ],
           "ids": [
            "China"
           ],
           "legendgroup": "China",
           "marker": {
            "color": "#FF97FF",
            "size": [
             31
            ],
            "sizemode": "area",
            "sizeref": 1.8375,
            "symbol": "circle"
           },
           "mode": "markers",
           "name": "China",
           "orientation": "v",
           "showlegend": true,
           "type": "scatter",
           "x": [
            1948
           ],
           "xaxis": "x",
           "y": [
            31
           ],
           "yaxis": "y"
          }
         ],
         "name": "1948"
        },
        {
         "data": [
          {
           "hovertemplate": "<b>%{hovertext}</b><br><br>region=Australia<br>Year=%{x}<br>Nb of athletes=%{marker.size}<extra></extra>",
           "hovertext": [
            "Australia"
           ],
           "ids": [
            "Australia"
           ],
           "legendgroup": "Australia",
           "marker": {
            "color": "#636efa",
            "size": [
             81
            ],
            "sizemode": "area",
            "sizeref": 1.8375,
            "symbol": "circle"
           },
           "mode": "markers",
           "name": "Australia",
           "orientation": "v",
           "showlegend": true,
           "type": "scatter",
           "x": [
            1952
           ],
           "xaxis": "x",
           "y": [
            81
           ],
           "yaxis": "y"
          },
          {
           "hovertemplate": "<b>%{hovertext}</b><br><br>region=France<br>Year=%{x}<br>Nb of athletes=%{marker.size}<extra></extra>",
           "hovertext": [
            "France"
           ],
           "ids": [
            "France"
           ],
           "legendgroup": "France",
           "marker": {
            "color": "#EF553B",
            "size": [
             245
            ],
            "sizemode": "area",
            "sizeref": 1.8375,
            "symbol": "circle"
           },
           "mode": "markers",
           "name": "France",
           "orientation": "v",
           "showlegend": true,
           "type": "scatter",
           "x": [
            1952
           ],
           "xaxis": "x",
           "y": [
            245
           ],
           "yaxis": "y"
          },
          {
           "hovertemplate": "<b>%{hovertext}</b><br><br>region=Germany<br>Year=%{x}<br>Nb of athletes=%{marker.size}<extra></extra>",
           "hovertext": [
            "Germany"
           ],
           "ids": [
            "Germany"
           ],
           "legendgroup": "Germany",
           "marker": {
            "color": "#00cc96",
            "size": [
             241
            ],
            "sizemode": "area",
            "sizeref": 1.8375,
            "symbol": "circle"
           },
           "mode": "markers",
           "name": "Germany",
           "orientation": "v",
           "showlegend": true,
           "type": "scatter",
           "x": [
            1952
           ],
           "xaxis": "x",
           "y": [
            241
           ],
           "yaxis": "y"
          },
          {
           "hovertemplate": "<b>%{hovertext}</b><br><br>region=Italy<br>Year=%{x}<br>Nb of athletes=%{marker.size}<extra></extra>",
           "hovertext": [
            "Italy"
           ],
           "ids": [
            "Italy"
           ],
           "legendgroup": "Italy",
           "marker": {
            "color": "#ab63fa",
            "size": [
             231
            ],
            "sizemode": "area",
            "sizeref": 1.8375,
            "symbol": "circle"
           },
           "mode": "markers",
           "name": "Italy",
           "orientation": "v",
           "showlegend": true,
           "type": "scatter",
           "x": [
            1952
           ],
           "xaxis": "x",
           "y": [
            231
           ],
           "yaxis": "y"
          },
          {
           "hovertemplate": "<b>%{hovertext}</b><br><br>region=UK<br>Year=%{x}<br>Nb of athletes=%{marker.size}<extra></extra>",
           "hovertext": [
            "UK"
           ],
           "ids": [
            "UK"
           ],
           "legendgroup": "UK",
           "marker": {
            "color": "#FFA15A",
            "size": [
             257
            ],
            "sizemode": "area",
            "sizeref": 1.8375,
            "symbol": "circle"
           },
           "mode": "markers",
           "name": "UK",
           "orientation": "v",
           "showlegend": true,
           "type": "scatter",
           "x": [
            1952
           ],
           "xaxis": "x",
           "y": [
            257
           ],
           "yaxis": "y"
          },
          {
           "hovertemplate": "<b>%{hovertext}</b><br><br>region=USA<br>Year=%{x}<br>Nb of athletes=%{marker.size}<extra></extra>",
           "hovertext": [
            "USA"
           ],
           "ids": [
            "USA"
           ],
           "legendgroup": "USA",
           "marker": {
            "color": "#19d3f3",
            "size": [
             286
            ],
            "sizemode": "area",
            "sizeref": 1.8375,
            "symbol": "circle"
           },
           "mode": "markers",
           "name": "USA",
           "orientation": "v",
           "showlegend": true,
           "type": "scatter",
           "x": [
            1952
           ],
           "xaxis": "x",
           "y": [
            286
           ],
           "yaxis": "y"
          },
          {
           "hovertemplate": "<b>%{hovertext}</b><br><br>region=Russia<br>Year=%{x}<br>Nb of athletes=%{marker.size}<extra></extra>",
           "hovertext": [
            "Russia"
           ],
           "ids": [
            "Russia"
           ],
           "legendgroup": "Russia",
           "marker": {
            "color": "#FF6692",
            "size": [
             295
            ],
            "sizemode": "area",
            "sizeref": 1.8375,
            "symbol": "circle"
           },
           "mode": "markers",
           "name": "Russia",
           "orientation": "v",
           "showlegend": true,
           "type": "scatter",
           "x": [
            1952
           ],
           "xaxis": "x",
           "y": [
            295
           ],
           "yaxis": "y"
          },
          {
           "hovertemplate": "<b>%{hovertext}</b><br><br>region=Japan<br>Year=%{x}<br>Nb of athletes=%{marker.size}<extra></extra>",
           "hovertext": [
            "Japan"
           ],
           "ids": [
            "Japan"
           ],
           "legendgroup": "Japan",
           "marker": {
            "color": "#B6E880",
            "size": [
             69
            ],
            "sizemode": "area",
            "sizeref": 1.8375,
            "symbol": "circle"
           },
           "mode": "markers",
           "name": "Japan",
           "orientation": "v",
           "showlegend": true,
           "type": "scatter",
           "x": [
            1952
           ],
           "xaxis": "x",
           "y": [
            69
           ],
           "yaxis": "y"
          },
          {
           "hovertemplate": "<b>%{hovertext}</b><br><br>region=China<br>Year=%{x}<br>Nb of athletes=%{marker.size}<extra></extra>",
           "hovertext": [
            "China"
           ],
           "ids": [
            "China"
           ],
           "legendgroup": "China",
           "marker": {
            "color": "#FF97FF",
            "size": [
             5
            ],
            "sizemode": "area",
            "sizeref": 1.8375,
            "symbol": "circle"
           },
           "mode": "markers",
           "name": "China",
           "orientation": "v",
           "showlegend": true,
           "type": "scatter",
           "x": [
            1952
           ],
           "xaxis": "x",
           "y": [
            5
           ],
           "yaxis": "y"
          }
         ],
         "name": "1952"
        },
        {
         "data": [
          {
           "hovertemplate": "<b>%{hovertext}</b><br><br>region=Australia<br>Year=%{x}<br>Nb of athletes=%{marker.size}<extra></extra>",
           "hovertext": [
            "Australia"
           ],
           "ids": [
            "Australia"
           ],
           "legendgroup": "Australia",
           "marker": {
            "color": "#636efa",
            "size": [
             298
            ],
            "sizemode": "area",
            "sizeref": 1.8375,
            "symbol": "circle"
           },
           "mode": "markers",
           "name": "Australia",
           "orientation": "v",
           "showlegend": true,
           "type": "scatter",
           "x": [
            1956
           ],
           "xaxis": "x",
           "y": [
            298
           ],
           "yaxis": "y"
          },
          {
           "hovertemplate": "<b>%{hovertext}</b><br><br>region=France<br>Year=%{x}<br>Nb of athletes=%{marker.size}<extra></extra>",
           "hovertext": [
            "France"
           ],
           "ids": [
            "France"
           ],
           "legendgroup": "France",
           "marker": {
            "color": "#EF553B",
            "size": [
             145
            ],
            "sizemode": "area",
            "sizeref": 1.8375,
            "symbol": "circle"
           },
           "mode": "markers",
           "name": "France",
           "orientation": "v",
           "showlegend": true,
           "type": "scatter",
           "x": [
            1956
           ],
           "xaxis": "x",
           "y": [
            145
           ],
           "yaxis": "y"
          },
          {
           "hovertemplate": "<b>%{hovertext}</b><br><br>region=Germany<br>Year=%{x}<br>Nb of athletes=%{marker.size}<extra></extra>",
           "hovertext": [
            "Germany"
           ],
           "ids": [
            "Germany"
           ],
           "legendgroup": "Germany",
           "marker": {
            "color": "#00cc96",
            "size": [
             167
            ],
            "sizemode": "area",
            "sizeref": 1.8375,
            "symbol": "circle"
           },
           "mode": "markers",
           "name": "Germany",
           "orientation": "v",
           "showlegend": true,
           "type": "scatter",
           "x": [
            1956
           ],
           "xaxis": "x",
           "y": [
            167
           ],
           "yaxis": "y"
          },
          {
           "hovertemplate": "<b>%{hovertext}</b><br><br>region=Italy<br>Year=%{x}<br>Nb of athletes=%{marker.size}<extra></extra>",
           "hovertext": [
            "Italy"
           ],
           "ids": [
            "Italy"
           ],
           "legendgroup": "Italy",
           "marker": {
            "color": "#ab63fa",
            "size": [
             135
            ],
            "sizemode": "area",
            "sizeref": 1.8375,
            "symbol": "circle"
           },
           "mode": "markers",
           "name": "Italy",
           "orientation": "v",
           "showlegend": true,
           "type": "scatter",
           "x": [
            1956
           ],
           "xaxis": "x",
           "y": [
            135
           ],
           "yaxis": "y"
          },
          {
           "hovertemplate": "<b>%{hovertext}</b><br><br>region=UK<br>Year=%{x}<br>Nb of athletes=%{marker.size}<extra></extra>",
           "hovertext": [
            "UK"
           ],
           "ids": [
            "UK"
           ],
           "legendgroup": "UK",
           "marker": {
            "color": "#FFA15A",
            "size": [
             197
            ],
            "sizemode": "area",
            "sizeref": 1.8375,
            "symbol": "circle"
           },
           "mode": "markers",
           "name": "UK",
           "orientation": "v",
           "showlegend": true,
           "type": "scatter",
           "x": [
            1956
           ],
           "xaxis": "x",
           "y": [
            197
           ],
           "yaxis": "y"
          },
          {
           "hovertemplate": "<b>%{hovertext}</b><br><br>region=USA<br>Year=%{x}<br>Nb of athletes=%{marker.size}<extra></extra>",
           "hovertext": [
            "USA"
           ],
           "ids": [
            "USA"
           ],
           "legendgroup": "USA",
           "marker": {
            "color": "#19d3f3",
            "size": [
             305
            ],
            "sizemode": "area",
            "sizeref": 1.8375,
            "symbol": "circle"
           },
           "mode": "markers",
           "name": "USA",
           "orientation": "v",
           "showlegend": true,
           "type": "scatter",
           "x": [
            1956
           ],
           "xaxis": "x",
           "y": [
            305
           ],
           "yaxis": "y"
          },
          {
           "hovertemplate": "<b>%{hovertext}</b><br><br>region=Russia<br>Year=%{x}<br>Nb of athletes=%{marker.size}<extra></extra>",
           "hovertext": [
            "Russia"
           ],
           "ids": [
            "Russia"
           ],
           "legendgroup": "Russia",
           "marker": {
            "color": "#FF6692",
            "size": [
             281
            ],
            "sizemode": "area",
            "sizeref": 1.8375,
            "symbol": "circle"
           },
           "mode": "markers",
           "name": "Russia",
           "orientation": "v",
           "showlegend": true,
           "type": "scatter",
           "x": [
            1956
           ],
           "xaxis": "x",
           "y": [
            281
           ],
           "yaxis": "y"
          },
          {
           "hovertemplate": "<b>%{hovertext}</b><br><br>region=Japan<br>Year=%{x}<br>Nb of athletes=%{marker.size}<extra></extra>",
           "hovertext": [
            "Japan"
           ],
           "ids": [
            "Japan"
           ],
           "legendgroup": "Japan",
           "marker": {
            "color": "#B6E880",
            "size": [
             112
            ],
            "sizemode": "area",
            "sizeref": 1.8375,
            "symbol": "circle"
           },
           "mode": "markers",
           "name": "Japan",
           "orientation": "v",
           "showlegend": true,
           "type": "scatter",
           "x": [
            1956
           ],
           "xaxis": "x",
           "y": [
            112
           ],
           "yaxis": "y"
          },
          {
           "hovertemplate": "<b>%{hovertext}</b><br><br>region=China<br>Year=%{x}<br>Nb of athletes=%{marker.size}<extra></extra>",
           "hovertext": [
            "China"
           ],
           "ids": [
            "China"
           ],
           "legendgroup": "China",
           "marker": {
            "color": "#FF97FF",
            "size": [
             2
            ],
            "sizemode": "area",
            "sizeref": 1.8375,
            "symbol": "circle"
           },
           "mode": "markers",
           "name": "China",
           "orientation": "v",
           "showlegend": true,
           "type": "scatter",
           "x": [
            1956
           ],
           "xaxis": "x",
           "y": [
            2
           ],
           "yaxis": "y"
          }
         ],
         "name": "1956"
        },
        {
         "data": [
          {
           "hovertemplate": "<b>%{hovertext}</b><br><br>region=Australia<br>Year=%{x}<br>Nb of athletes=%{marker.size}<extra></extra>",
           "hovertext": [
            "Australia"
           ],
           "ids": [
            "Australia"
           ],
           "legendgroup": "Australia",
           "marker": {
            "color": "#636efa",
            "size": [
             189
            ],
            "sizemode": "area",
            "sizeref": 1.8375,
            "symbol": "circle"
           },
           "mode": "markers",
           "name": "Australia",
           "orientation": "v",
           "showlegend": true,
           "type": "scatter",
           "x": [
            1960
           ],
           "xaxis": "x",
           "y": [
            189
           ],
           "yaxis": "y"
          },
          {
           "hovertemplate": "<b>%{hovertext}</b><br><br>region=France<br>Year=%{x}<br>Nb of athletes=%{marker.size}<extra></extra>",
           "hovertext": [
            "France"
           ],
           "ids": [
            "France"
           ],
           "legendgroup": "France",
           "marker": {
            "color": "#EF553B",
            "size": [
             238
            ],
            "sizemode": "area",
            "sizeref": 1.8375,
            "symbol": "circle"
           },
           "mode": "markers",
           "name": "France",
           "orientation": "v",
           "showlegend": true,
           "type": "scatter",
           "x": [
            1960
           ],
           "xaxis": "x",
           "y": [
            238
           ],
           "yaxis": "y"
          },
          {
           "hovertemplate": "<b>%{hovertext}</b><br><br>region=Germany<br>Year=%{x}<br>Nb of athletes=%{marker.size}<extra></extra>",
           "hovertext": [
            "Germany"
           ],
           "ids": [
            "Germany"
           ],
           "legendgroup": "Germany",
           "marker": {
            "color": "#00cc96",
            "size": [
             294
            ],
            "sizemode": "area",
            "sizeref": 1.8375,
            "symbol": "circle"
           },
           "mode": "markers",
           "name": "Germany",
           "orientation": "v",
           "showlegend": true,
           "type": "scatter",
           "x": [
            1960
           ],
           "xaxis": "x",
           "y": [
            294
           ],
           "yaxis": "y"
          },
          {
           "hovertemplate": "<b>%{hovertext}</b><br><br>region=Italy<br>Year=%{x}<br>Nb of athletes=%{marker.size}<extra></extra>",
           "hovertext": [
            "Italy"
           ],
           "ids": [
            "Italy"
           ],
           "legendgroup": "Italy",
           "marker": {
            "color": "#ab63fa",
            "size": [
             280
            ],
            "sizemode": "area",
            "sizeref": 1.8375,
            "symbol": "circle"
           },
           "mode": "markers",
           "name": "Italy",
           "orientation": "v",
           "showlegend": true,
           "type": "scatter",
           "x": [
            1960
           ],
           "xaxis": "x",
           "y": [
            280
           ],
           "yaxis": "y"
          },
          {
           "hovertemplate": "<b>%{hovertext}</b><br><br>region=UK<br>Year=%{x}<br>Nb of athletes=%{marker.size}<extra></extra>",
           "hovertext": [
            "UK"
           ],
           "ids": [
            "UK"
           ],
           "legendgroup": "UK",
           "marker": {
            "color": "#FFA15A",
            "size": [
             253
            ],
            "sizemode": "area",
            "sizeref": 1.8375,
            "symbol": "circle"
           },
           "mode": "markers",
           "name": "UK",
           "orientation": "v",
           "showlegend": true,
           "type": "scatter",
           "x": [
            1960
           ],
           "xaxis": "x",
           "y": [
            253
           ],
           "yaxis": "y"
          },
          {
           "hovertemplate": "<b>%{hovertext}</b><br><br>region=USA<br>Year=%{x}<br>Nb of athletes=%{marker.size}<extra></extra>",
           "hovertext": [
            "USA"
           ],
           "ids": [
            "USA"
           ],
           "legendgroup": "USA",
           "marker": {
            "color": "#19d3f3",
            "size": [
             292
            ],
            "sizemode": "area",
            "sizeref": 1.8375,
            "symbol": "circle"
           },
           "mode": "markers",
           "name": "USA",
           "orientation": "v",
           "showlegend": true,
           "type": "scatter",
           "x": [
            1960
           ],
           "xaxis": "x",
           "y": [
            292
           ],
           "yaxis": "y"
          },
          {
           "hovertemplate": "<b>%{hovertext}</b><br><br>region=Russia<br>Year=%{x}<br>Nb of athletes=%{marker.size}<extra></extra>",
           "hovertext": [
            "Russia"
           ],
           "ids": [
            "Russia"
           ],
           "legendgroup": "Russia",
           "marker": {
            "color": "#FF6692",
            "size": [
             283
            ],
            "sizemode": "area",
            "sizeref": 1.8375,
            "symbol": "circle"
           },
           "mode": "markers",
           "name": "Russia",
           "orientation": "v",
           "showlegend": true,
           "type": "scatter",
           "x": [
            1960
           ],
           "xaxis": "x",
           "y": [
            283
           ],
           "yaxis": "y"
          },
          {
           "hovertemplate": "<b>%{hovertext}</b><br><br>region=Japan<br>Year=%{x}<br>Nb of athletes=%{marker.size}<extra></extra>",
           "hovertext": [
            "Japan"
           ],
           "ids": [
            "Japan"
           ],
           "legendgroup": "Japan",
           "marker": {
            "color": "#B6E880",
            "size": [
             162
            ],
            "sizemode": "area",
            "sizeref": 1.8375,
            "symbol": "circle"
           },
           "mode": "markers",
           "name": "Japan",
           "orientation": "v",
           "showlegend": true,
           "type": "scatter",
           "x": [
            1960
           ],
           "xaxis": "x",
           "y": [
            162
           ],
           "yaxis": "y"
          },
          {
           "hovertemplate": "<b>%{hovertext}</b><br><br>region=China<br>Year=%{x}<br>Nb of athletes=%{marker.size}<extra></extra>",
           "hovertext": [
            "China"
           ],
           "ids": [
            "China"
           ],
           "legendgroup": "China",
           "marker": {
            "color": "#FF97FF",
            "size": [
             4
            ],
            "sizemode": "area",
            "sizeref": 1.8375,
            "symbol": "circle"
           },
           "mode": "markers",
           "name": "China",
           "orientation": "v",
           "showlegend": true,
           "type": "scatter",
           "x": [
            1960
           ],
           "xaxis": "x",
           "y": [
            4
           ],
           "yaxis": "y"
          }
         ],
         "name": "1960"
        },
        {
         "data": [
          {
           "hovertemplate": "<b>%{hovertext}</b><br><br>region=Australia<br>Year=%{x}<br>Nb of athletes=%{marker.size}<extra></extra>",
           "hovertext": [
            "Australia"
           ],
           "ids": [
            "Australia"
           ],
           "legendgroup": "Australia",
           "marker": {
            "color": "#636efa",
            "size": [
             243
            ],
            "sizemode": "area",
            "sizeref": 1.8375,
            "symbol": "circle"
           },
           "mode": "markers",
           "name": "Australia",
           "orientation": "v",
           "showlegend": true,
           "type": "scatter",
           "x": [
            1964
           ],
           "xaxis": "x",
           "y": [
            243
           ],
           "yaxis": "y"
          },
          {
           "hovertemplate": "<b>%{hovertext}</b><br><br>region=France<br>Year=%{x}<br>Nb of athletes=%{marker.size}<extra></extra>",
           "hovertext": [
            "France"
           ],
           "ids": [
            "France"
           ],
           "legendgroup": "France",
           "marker": {
            "color": "#EF553B",
            "size": [
             138
            ],
            "sizemode": "area",
            "sizeref": 1.8375,
            "symbol": "circle"
           },
           "mode": "markers",
           "name": "France",
           "orientation": "v",
           "showlegend": true,
           "type": "scatter",
           "x": [
            1964
           ],
           "xaxis": "x",
           "y": [
            138
           ],
           "yaxis": "y"
          },
          {
           "hovertemplate": "<b>%{hovertext}</b><br><br>region=Germany<br>Year=%{x}<br>Nb of athletes=%{marker.size}<extra></extra>",
           "hovertext": [
            "Germany"
           ],
           "ids": [
            "Germany"
           ],
           "legendgroup": "Germany",
           "marker": {
            "color": "#00cc96",
            "size": [
             337
            ],
            "sizemode": "area",
            "sizeref": 1.8375,
            "symbol": "circle"
           },
           "mode": "markers",
           "name": "Germany",
           "orientation": "v",
           "showlegend": true,
           "type": "scatter",
           "x": [
            1964
           ],
           "xaxis": "x",
           "y": [
            337
           ],
           "yaxis": "y"
          },
          {
           "hovertemplate": "<b>%{hovertext}</b><br><br>region=Italy<br>Year=%{x}<br>Nb of athletes=%{marker.size}<extra></extra>",
           "hovertext": [
            "Italy"
           ],
           "ids": [
            "Italy"
           ],
           "legendgroup": "Italy",
           "marker": {
            "color": "#ab63fa",
            "size": [
             168
            ],
            "sizemode": "area",
            "sizeref": 1.8375,
            "symbol": "circle"
           },
           "mode": "markers",
           "name": "Italy",
           "orientation": "v",
           "showlegend": true,
           "type": "scatter",
           "x": [
            1964
           ],
           "xaxis": "x",
           "y": [
            168
           ],
           "yaxis": "y"
          },
          {
           "hovertemplate": "<b>%{hovertext}</b><br><br>region=UK<br>Year=%{x}<br>Nb of athletes=%{marker.size}<extra></extra>",
           "hovertext": [
            "UK"
           ],
           "ids": [
            "UK"
           ],
           "legendgroup": "UK",
           "marker": {
            "color": "#FFA15A",
            "size": [
             204
            ],
            "sizemode": "area",
            "sizeref": 1.8375,
            "symbol": "circle"
           },
           "mode": "markers",
           "name": "UK",
           "orientation": "v",
           "showlegend": true,
           "type": "scatter",
           "x": [
            1964
           ],
           "xaxis": "x",
           "y": [
            204
           ],
           "yaxis": "y"
          },
          {
           "hovertemplate": "<b>%{hovertext}</b><br><br>region=USA<br>Year=%{x}<br>Nb of athletes=%{marker.size}<extra></extra>",
           "hovertext": [
            "USA"
           ],
           "ids": [
            "USA"
           ],
           "legendgroup": "USA",
           "marker": {
            "color": "#19d3f3",
            "size": [
             346
            ],
            "sizemode": "area",
            "sizeref": 1.8375,
            "symbol": "circle"
           },
           "mode": "markers",
           "name": "USA",
           "orientation": "v",
           "showlegend": true,
           "type": "scatter",
           "x": [
            1964
           ],
           "xaxis": "x",
           "y": [
            346
           ],
           "yaxis": "y"
          },
          {
           "hovertemplate": "<b>%{hovertext}</b><br><br>region=Russia<br>Year=%{x}<br>Nb of athletes=%{marker.size}<extra></extra>",
           "hovertext": [
            "Russia"
           ],
           "ids": [
            "Russia"
           ],
           "legendgroup": "Russia",
           "marker": {
            "color": "#FF6692",
            "size": [
             317
            ],
            "sizemode": "area",
            "sizeref": 1.8375,
            "symbol": "circle"
           },
           "mode": "markers",
           "name": "Russia",
           "orientation": "v",
           "showlegend": true,
           "type": "scatter",
           "x": [
            1964
           ],
           "xaxis": "x",
           "y": [
            317
           ],
           "yaxis": "y"
          },
          {
           "hovertemplate": "<b>%{hovertext}</b><br><br>region=Japan<br>Year=%{x}<br>Nb of athletes=%{marker.size}<extra></extra>",
           "hovertext": [
            "Japan"
           ],
           "ids": [
            "Japan"
           ],
           "legendgroup": "Japan",
           "marker": {
            "color": "#B6E880",
            "size": [
             328
            ],
            "sizemode": "area",
            "sizeref": 1.8375,
            "symbol": "circle"
           },
           "mode": "markers",
           "name": "Japan",
           "orientation": "v",
           "showlegend": true,
           "type": "scatter",
           "x": [
            1964
           ],
           "xaxis": "x",
           "y": [
            328
           ],
           "yaxis": "y"
          },
          {
           "hovertemplate": "<b>%{hovertext}</b><br><br>region=China<br>Year=%{x}<br>Nb of athletes=%{marker.size}<extra></extra>",
           "hovertext": [
            "China"
           ],
           "ids": [
            "China"
           ],
           "legendgroup": "China",
           "marker": {
            "color": "#FF97FF",
            "size": [
             39
            ],
            "sizemode": "area",
            "sizeref": 1.8375,
            "symbol": "circle"
           },
           "mode": "markers",
           "name": "China",
           "orientation": "v",
           "showlegend": true,
           "type": "scatter",
           "x": [
            1964
           ],
           "xaxis": "x",
           "y": [
            39
           ],
           "yaxis": "y"
          }
         ],
         "name": "1964"
        },
        {
         "data": [
          {
           "hovertemplate": "<b>%{hovertext}</b><br><br>region=Australia<br>Year=%{x}<br>Nb of athletes=%{marker.size}<extra></extra>",
           "hovertext": [
            "Australia"
           ],
           "ids": [
            "Australia"
           ],
           "legendgroup": "Australia",
           "marker": {
            "color": "#636efa",
            "size": [
             128
            ],
            "sizemode": "area",
            "sizeref": 1.8375,
            "symbol": "circle"
           },
           "mode": "markers",
           "name": "Australia",
           "orientation": "v",
           "showlegend": true,
           "type": "scatter",
           "x": [
            1968
           ],
           "xaxis": "x",
           "y": [
            128
           ],
           "yaxis": "y"
          },
          {
           "hovertemplate": "<b>%{hovertext}</b><br><br>region=France<br>Year=%{x}<br>Nb of athletes=%{marker.size}<extra></extra>",
           "hovertext": [
            "France"
           ],
           "ids": [
            "France"
           ],
           "legendgroup": "France",
           "marker": {
            "color": "#EF553B",
            "size": [
             200
            ],
            "sizemode": "area",
            "sizeref": 1.8375,
            "symbol": "circle"
           },
           "mode": "markers",
           "name": "France",
           "orientation": "v",
           "showlegend": true,
           "type": "scatter",
           "x": [
            1968
           ],
           "xaxis": "x",
           "y": [
            200
           ],
           "yaxis": "y"
          },
          {
           "hovertemplate": "<b>%{hovertext}</b><br><br>region=Germany<br>Year=%{x}<br>Nb of athletes=%{marker.size}<extra></extra>",
           "hovertext": [
            "Germany"
           ],
           "ids": [
            "Germany"
           ],
           "legendgroup": "Germany",
           "marker": {
            "color": "#00cc96",
            "size": [
             501
            ],
            "sizemode": "area",
            "sizeref": 1.8375,
            "symbol": "circle"
           },
           "mode": "markers",
           "name": "Germany",
           "orientation": "v",
           "showlegend": true,
           "type": "scatter",
           "x": [
            1968
           ],
           "xaxis": "x",
           "y": [
            501
           ],
           "yaxis": "y"
          },
          {
           "hovertemplate": "<b>%{hovertext}</b><br><br>region=Italy<br>Year=%{x}<br>Nb of athletes=%{marker.size}<extra></extra>",
           "hovertext": [
            "Italy"
           ],
           "ids": [
            "Italy"
           ],
           "legendgroup": "Italy",
           "marker": {
            "color": "#ab63fa",
            "size": [
             167
            ],
            "sizemode": "area",
            "sizeref": 1.8375,
            "symbol": "circle"
           },
           "mode": "markers",
           "name": "Italy",
           "orientation": "v",
           "showlegend": true,
           "type": "scatter",
           "x": [
            1968
           ],
           "xaxis": "x",
           "y": [
            167
           ],
           "yaxis": "y"
          },
          {
           "hovertemplate": "<b>%{hovertext}</b><br><br>region=UK<br>Year=%{x}<br>Nb of athletes=%{marker.size}<extra></extra>",
           "hovertext": [
            "UK"
           ],
           "ids": [
            "UK"
           ],
           "legendgroup": "UK",
           "marker": {
            "color": "#FFA15A",
            "size": [
             225
            ],
            "sizemode": "area",
            "sizeref": 1.8375,
            "symbol": "circle"
           },
           "mode": "markers",
           "name": "UK",
           "orientation": "v",
           "showlegend": true,
           "type": "scatter",
           "x": [
            1968
           ],
           "xaxis": "x",
           "y": [
            225
           ],
           "yaxis": "y"
          },
          {
           "hovertemplate": "<b>%{hovertext}</b><br><br>region=USA<br>Year=%{x}<br>Nb of athletes=%{marker.size}<extra></extra>",
           "hovertext": [
            "USA"
           ],
           "ids": [
            "USA"
           ],
           "legendgroup": "USA",
           "marker": {
            "color": "#19d3f3",
            "size": [
             357
            ],
            "sizemode": "area",
            "sizeref": 1.8375,
            "symbol": "circle"
           },
           "mode": "markers",
           "name": "USA",
           "orientation": "v",
           "showlegend": true,
           "type": "scatter",
           "x": [
            1968
           ],
           "xaxis": "x",
           "y": [
            357
           ],
           "yaxis": "y"
          },
          {
           "hovertemplate": "<b>%{hovertext}</b><br><br>region=Russia<br>Year=%{x}<br>Nb of athletes=%{marker.size}<extra></extra>",
           "hovertext": [
            "Russia"
           ],
           "ids": [
            "Russia"
           ],
           "legendgroup": "Russia",
           "marker": {
            "color": "#FF6692",
            "size": [
             312
            ],
            "sizemode": "area",
            "sizeref": 1.8375,
            "symbol": "circle"
           },
           "mode": "markers",
           "name": "Russia",
           "orientation": "v",
           "showlegend": true,
           "type": "scatter",
           "x": [
            1968
           ],
           "xaxis": "x",
           "y": [
            312
           ],
           "yaxis": "y"
          },
          {
           "hovertemplate": "<b>%{hovertext}</b><br><br>region=Japan<br>Year=%{x}<br>Nb of athletes=%{marker.size}<extra></extra>",
           "hovertext": [
            "Japan"
           ],
           "ids": [
            "Japan"
           ],
           "legendgroup": "Japan",
           "marker": {
            "color": "#B6E880",
            "size": [
             171
            ],
            "sizemode": "area",
            "sizeref": 1.8375,
            "symbol": "circle"
           },
           "mode": "markers",
           "name": "Japan",
           "orientation": "v",
           "showlegend": true,
           "type": "scatter",
           "x": [
            1968
           ],
           "xaxis": "x",
           "y": [
            171
           ],
           "yaxis": "y"
          },
          {
           "hovertemplate": "<b>%{hovertext}</b><br><br>region=China<br>Year=%{x}<br>Nb of athletes=%{marker.size}<extra></extra>",
           "hovertext": [
            "China"
           ],
           "ids": [
            "China"
           ],
           "legendgroup": "China",
           "marker": {
            "color": "#FF97FF",
            "size": [
             11
            ],
            "sizemode": "area",
            "sizeref": 1.8375,
            "symbol": "circle"
           },
           "mode": "markers",
           "name": "China",
           "orientation": "v",
           "showlegend": true,
           "type": "scatter",
           "x": [
            1968
           ],
           "xaxis": "x",
           "y": [
            11
           ],
           "yaxis": "y"
          }
         ],
         "name": "1968"
        },
        {
         "data": [
          {
           "hovertemplate": "<b>%{hovertext}</b><br><br>region=Australia<br>Year=%{x}<br>Nb of athletes=%{marker.size}<extra></extra>",
           "hovertext": [
            "Australia"
           ],
           "ids": [
            "Australia"
           ],
           "legendgroup": "Australia",
           "marker": {
            "color": "#636efa",
            "size": [
             168
            ],
            "sizemode": "area",
            "sizeref": 1.8375,
            "symbol": "circle"
           },
           "mode": "markers",
           "name": "Australia",
           "orientation": "v",
           "showlegend": true,
           "type": "scatter",
           "x": [
            1972
           ],
           "xaxis": "x",
           "y": [
            168
           ],
           "yaxis": "y"
          },
          {
           "hovertemplate": "<b>%{hovertext}</b><br><br>region=France<br>Year=%{x}<br>Nb of athletes=%{marker.size}<extra></extra>",
           "hovertext": [
            "France"
           ],
           "ids": [
            "France"
           ],
           "legendgroup": "France",
           "marker": {
            "color": "#EF553B",
            "size": [
             227
            ],
            "sizemode": "area",
            "sizeref": 1.8375,
            "symbol": "circle"
           },
           "mode": "markers",
           "name": "France",
           "orientation": "v",
           "showlegend": true,
           "type": "scatter",
           "x": [
            1972
           ],
           "xaxis": "x",
           "y": [
            227
           ],
           "yaxis": "y"
          },
          {
           "hovertemplate": "<b>%{hovertext}</b><br><br>region=Germany<br>Year=%{x}<br>Nb of athletes=%{marker.size}<extra></extra>",
           "hovertext": [
            "Germany"
           ],
           "ids": [
            "Germany"
           ],
           "legendgroup": "Germany",
           "marker": {
            "color": "#00cc96",
            "size": [
             721
            ],
            "sizemode": "area",
            "sizeref": 1.8375,
            "symbol": "circle"
           },
           "mode": "markers",
           "name": "Germany",
           "orientation": "v",
           "showlegend": true,
           "type": "scatter",
           "x": [
            1972
           ],
           "xaxis": "x",
           "y": [
            721
           ],
           "yaxis": "y"
          },
          {
           "hovertemplate": "<b>%{hovertext}</b><br><br>region=Italy<br>Year=%{x}<br>Nb of athletes=%{marker.size}<extra></extra>",
           "hovertext": [
            "Italy"
           ],
           "ids": [
            "Italy"
           ],
           "legendgroup": "Italy",
           "marker": {
            "color": "#ab63fa",
            "size": [
             224
            ],
            "sizemode": "area",
            "sizeref": 1.8375,
            "symbol": "circle"
           },
           "mode": "markers",
           "name": "Italy",
           "orientation": "v",
           "showlegend": true,
           "type": "scatter",
           "x": [
            1972
           ],
           "xaxis": "x",
           "y": [
            224
           ],
           "yaxis": "y"
          },
          {
           "hovertemplate": "<b>%{hovertext}</b><br><br>region=UK<br>Year=%{x}<br>Nb of athletes=%{marker.size}<extra></extra>",
           "hovertext": [
            "UK"
           ],
           "ids": [
            "UK"
           ],
           "legendgroup": "UK",
           "marker": {
            "color": "#FFA15A",
            "size": [
             284
            ],
            "sizemode": "area",
            "sizeref": 1.8375,
            "symbol": "circle"
           },
           "mode": "markers",
           "name": "UK",
           "orientation": "v",
           "showlegend": true,
           "type": "scatter",
           "x": [
            1972
           ],
           "xaxis": "x",
           "y": [
            284
           ],
           "yaxis": "y"
          },
          {
           "hovertemplate": "<b>%{hovertext}</b><br><br>region=USA<br>Year=%{x}<br>Nb of athletes=%{marker.size}<extra></extra>",
           "hovertext": [
            "USA"
           ],
           "ids": [
            "USA"
           ],
           "legendgroup": "USA",
           "marker": {
            "color": "#19d3f3",
            "size": [
             400
            ],
            "sizemode": "area",
            "sizeref": 1.8375,
            "symbol": "circle"
           },
           "mode": "markers",
           "name": "USA",
           "orientation": "v",
           "showlegend": true,
           "type": "scatter",
           "x": [
            1972
           ],
           "xaxis": "x",
           "y": [
            400
           ],
           "yaxis": "y"
          },
          {
           "hovertemplate": "<b>%{hovertext}</b><br><br>region=Russia<br>Year=%{x}<br>Nb of athletes=%{marker.size}<extra></extra>",
           "hovertext": [
            "Russia"
           ],
           "ids": [
            "Russia"
           ],
           "legendgroup": "Russia",
           "marker": {
            "color": "#FF6692",
            "size": [
             371
            ],
            "sizemode": "area",
            "sizeref": 1.8375,
            "symbol": "circle"
           },
           "mode": "markers",
           "name": "Russia",
           "orientation": "v",
           "showlegend": true,
           "type": "scatter",
           "x": [
            1972
           ],
           "xaxis": "x",
           "y": [
            371
           ],
           "yaxis": "y"
          },
          {
           "hovertemplate": "<b>%{hovertext}</b><br><br>region=Japan<br>Year=%{x}<br>Nb of athletes=%{marker.size}<extra></extra>",
           "hovertext": [
            "Japan"
           ],
           "ids": [
            "Japan"
           ],
           "legendgroup": "Japan",
           "marker": {
            "color": "#B6E880",
            "size": [
             184
            ],
            "sizemode": "area",
            "sizeref": 1.8375,
            "symbol": "circle"
           },
           "mode": "markers",
           "name": "Japan",
           "orientation": "v",
           "showlegend": true,
           "type": "scatter",
           "x": [
            1972
           ],
           "xaxis": "x",
           "y": [
            184
           ],
           "yaxis": "y"
          },
          {
           "hovertemplate": "<b>%{hovertext}</b><br><br>region=China<br>Year=%{x}<br>Nb of athletes=%{marker.size}<extra></extra>",
           "hovertext": [
            "China"
           ],
           "ids": [
            "China"
           ],
           "legendgroup": "China",
           "marker": {
            "color": "#FF97FF",
            "size": [
             10
            ],
            "sizemode": "area",
            "sizeref": 1.8375,
            "symbol": "circle"
           },
           "mode": "markers",
           "name": "China",
           "orientation": "v",
           "showlegend": true,
           "type": "scatter",
           "x": [
            1972
           ],
           "xaxis": "x",
           "y": [
            10
           ],
           "yaxis": "y"
          }
         ],
         "name": "1972"
        },
        {
         "data": [
          {
           "hovertemplate": "<b>%{hovertext}</b><br><br>region=Australia<br>Year=%{x}<br>Nb of athletes=%{marker.size}<extra></extra>",
           "hovertext": [
            "Australia"
           ],
           "ids": [
            "Australia"
           ],
           "legendgroup": "Australia",
           "marker": {
            "color": "#636efa",
            "size": [
             180
            ],
            "sizemode": "area",
            "sizeref": 1.8375,
            "symbol": "circle"
           },
           "mode": "markers",
           "name": "Australia",
           "orientation": "v",
           "showlegend": true,
           "type": "scatter",
           "x": [
            1976
           ],
           "xaxis": "x",
           "y": [
            180
           ],
           "yaxis": "y"
          },
          {
           "hovertemplate": "<b>%{hovertext}</b><br><br>region=France<br>Year=%{x}<br>Nb of athletes=%{marker.size}<extra></extra>",
           "hovertext": [
            "France"
           ],
           "ids": [
            "France"
           ],
           "legendgroup": "France",
           "marker": {
            "color": "#EF553B",
            "size": [
             206
            ],
            "sizemode": "area",
            "sizeref": 1.8375,
            "symbol": "circle"
           },
           "mode": "markers",
           "name": "France",
           "orientation": "v",
           "showlegend": true,
           "type": "scatter",
           "x": [
            1976
           ],
           "xaxis": "x",
           "y": [
            206
           ],
           "yaxis": "y"
          },
          {
           "hovertemplate": "<b>%{hovertext}</b><br><br>region=Germany<br>Year=%{x}<br>Nb of athletes=%{marker.size}<extra></extra>",
           "hovertext": [
            "Germany"
           ],
           "ids": [
            "Germany"
           ],
           "legendgroup": "Germany",
           "marker": {
            "color": "#00cc96",
            "size": [
             557
            ],
            "sizemode": "area",
            "sizeref": 1.8375,
            "symbol": "circle"
           },
           "mode": "markers",
           "name": "Germany",
           "orientation": "v",
           "showlegend": true,
           "type": "scatter",
           "x": [
            1976
           ],
           "xaxis": "x",
           "y": [
            557
           ],
           "yaxis": "y"
          },
          {
           "hovertemplate": "<b>%{hovertext}</b><br><br>region=Italy<br>Year=%{x}<br>Nb of athletes=%{marker.size}<extra></extra>",
           "hovertext": [
            "Italy"
           ],
           "ids": [
            "Italy"
           ],
           "legendgroup": "Italy",
           "marker": {
            "color": "#ab63fa",
            "size": [
             210
            ],
            "sizemode": "area",
            "sizeref": 1.8375,
            "symbol": "circle"
           },
           "mode": "markers",
           "name": "Italy",
           "orientation": "v",
           "showlegend": true,
           "type": "scatter",
           "x": [
            1976
           ],
           "xaxis": "x",
           "y": [
            210
           ],
           "yaxis": "y"
          },
          {
           "hovertemplate": "<b>%{hovertext}</b><br><br>region=UK<br>Year=%{x}<br>Nb of athletes=%{marker.size}<extra></extra>",
           "hovertext": [
            "UK"
           ],
           "ids": [
            "UK"
           ],
           "legendgroup": "UK",
           "marker": {
            "color": "#FFA15A",
            "size": [
             242
            ],
            "sizemode": "area",
            "sizeref": 1.8375,
            "symbol": "circle"
           },
           "mode": "markers",
           "name": "UK",
           "orientation": "v",
           "showlegend": true,
           "type": "scatter",
           "x": [
            1976
           ],
           "xaxis": "x",
           "y": [
            242
           ],
           "yaxis": "y"
          },
          {
           "hovertemplate": "<b>%{hovertext}</b><br><br>region=USA<br>Year=%{x}<br>Nb of athletes=%{marker.size}<extra></extra>",
           "hovertext": [
            "USA"
           ],
           "ids": [
            "USA"
           ],
           "legendgroup": "USA",
           "marker": {
            "color": "#19d3f3",
            "size": [
             396
            ],
            "sizemode": "area",
            "sizeref": 1.8375,
            "symbol": "circle"
           },
           "mode": "markers",
           "name": "USA",
           "orientation": "v",
           "showlegend": true,
           "type": "scatter",
           "x": [
            1976
           ],
           "xaxis": "x",
           "y": [
            396
           ],
           "yaxis": "y"
          },
          {
           "hovertemplate": "<b>%{hovertext}</b><br><br>region=Russia<br>Year=%{x}<br>Nb of athletes=%{marker.size}<extra></extra>",
           "hovertext": [
            "Russia"
           ],
           "ids": [
            "Russia"
           ],
           "legendgroup": "Russia",
           "marker": {
            "color": "#FF6692",
            "size": [
             410
            ],
            "sizemode": "area",
            "sizeref": 1.8375,
            "symbol": "circle"
           },
           "mode": "markers",
           "name": "Russia",
           "orientation": "v",
           "showlegend": true,
           "type": "scatter",
           "x": [
            1976
           ],
           "xaxis": "x",
           "y": [
            410
           ],
           "yaxis": "y"
          },
          {
           "hovertemplate": "<b>%{hovertext}</b><br><br>region=Japan<br>Year=%{x}<br>Nb of athletes=%{marker.size}<extra></extra>",
           "hovertext": [
            "Japan"
           ],
           "ids": [
            "Japan"
           ],
           "legendgroup": "Japan",
           "marker": {
            "color": "#B6E880",
            "size": [
             213
            ],
            "sizemode": "area",
            "sizeref": 1.8375,
            "symbol": "circle"
           },
           "mode": "markers",
           "name": "Japan",
           "orientation": "v",
           "showlegend": true,
           "type": "scatter",
           "x": [
            1976
           ],
           "xaxis": "x",
           "y": [
            213
           ],
           "yaxis": "y"
          },
          {
           "hovertemplate": "<b>%{hovertext}</b><br><br>region=China<br>Year=%{x}<br>Nb of athletes=%{marker.size}<extra></extra>",
           "hovertext": [
            "China"
           ],
           "ids": [
            "China"
           ],
           "legendgroup": "China",
           "marker": {
            "color": "#FF97FF",
            "size": [
             25
            ],
            "sizemode": "area",
            "sizeref": 1.8375,
            "symbol": "circle"
           },
           "mode": "markers",
           "name": "China",
           "orientation": "v",
           "showlegend": true,
           "type": "scatter",
           "x": [
            1976
           ],
           "xaxis": "x",
           "y": [
            25
           ],
           "yaxis": "y"
          }
         ],
         "name": "1976"
        },
        {
         "data": [
          {
           "hovertemplate": "<b>%{hovertext}</b><br><br>region=Australia<br>Year=%{x}<br>Nb of athletes=%{marker.size}<extra></extra>",
           "hovertext": [
            "Australia"
           ],
           "ids": [
            "Australia"
           ],
           "legendgroup": "Australia",
           "marker": {
            "color": "#636efa",
            "size": [
             120
            ],
            "sizemode": "area",
            "sizeref": 1.8375,
            "symbol": "circle"
           },
           "mode": "markers",
           "name": "Australia",
           "orientation": "v",
           "showlegend": true,
           "type": "scatter",
           "x": [
            1980
           ],
           "xaxis": "x",
           "y": [
            120
           ],
           "yaxis": "y"
          },
          {
           "hovertemplate": "<b>%{hovertext}</b><br><br>region=France<br>Year=%{x}<br>Nb of athletes=%{marker.size}<extra></extra>",
           "hovertext": [
            "France"
           ],
           "ids": [
            "France"
           ],
           "legendgroup": "France",
           "marker": {
            "color": "#EF553B",
            "size": [
             121
            ],
            "sizemode": "area",
            "sizeref": 1.8375,
            "symbol": "circle"
           },
           "mode": "markers",
           "name": "France",
           "orientation": "v",
           "showlegend": true,
           "type": "scatter",
           "x": [
            1980
           ],
           "xaxis": "x",
           "y": [
            121
           ],
           "yaxis": "y"
          },
          {
           "hovertemplate": "<b>%{hovertext}</b><br><br>region=Germany<br>Year=%{x}<br>Nb of athletes=%{marker.size}<extra></extra>",
           "hovertext": [
            "Germany"
           ],
           "ids": [
            "Germany"
           ],
           "legendgroup": "Germany",
           "marker": {
            "color": "#00cc96",
            "size": [
             346
            ],
            "sizemode": "area",
            "sizeref": 1.8375,
            "symbol": "circle"
           },
           "mode": "markers",
           "name": "Germany",
           "orientation": "v",
           "showlegend": true,
           "type": "scatter",
           "x": [
            1980
           ],
           "xaxis": "x",
           "y": [
            346
           ],
           "yaxis": "y"
          },
          {
           "hovertemplate": "<b>%{hovertext}</b><br><br>region=Italy<br>Year=%{x}<br>Nb of athletes=%{marker.size}<extra></extra>",
           "hovertext": [
            "Italy"
           ],
           "ids": [
            "Italy"
           ],
           "legendgroup": "Italy",
           "marker": {
            "color": "#ab63fa",
            "size": [
             159
            ],
            "sizemode": "area",
            "sizeref": 1.8375,
            "symbol": "circle"
           },
           "mode": "markers",
           "name": "Italy",
           "orientation": "v",
           "showlegend": true,
           "type": "scatter",
           "x": [
            1980
           ],
           "xaxis": "x",
           "y": [
            159
           ],
           "yaxis": "y"
          },
          {
           "hovertemplate": "<b>%{hovertext}</b><br><br>region=UK<br>Year=%{x}<br>Nb of athletes=%{marker.size}<extra></extra>",
           "hovertext": [
            "UK"
           ],
           "ids": [
            "UK"
           ],
           "legendgroup": "UK",
           "marker": {
            "color": "#FFA15A",
            "size": [
             219
            ],
            "sizemode": "area",
            "sizeref": 1.8375,
            "symbol": "circle"
           },
           "mode": "markers",
           "name": "UK",
           "orientation": "v",
           "showlegend": true,
           "type": "scatter",
           "x": [
            1980
           ],
           "xaxis": "x",
           "y": [
            219
           ],
           "yaxis": "y"
          },
          {
           "hovertemplate": "<b>%{hovertext}</b><br><br>region=Russia<br>Year=%{x}<br>Nb of athletes=%{marker.size}<extra></extra>",
           "hovertext": [
            "Russia"
           ],
           "ids": [
            "Russia"
           ],
           "legendgroup": "Russia",
           "marker": {
            "color": "#FF6692",
            "size": [
             489
            ],
            "sizemode": "area",
            "sizeref": 1.8375,
            "symbol": "circle"
           },
           "mode": "markers",
           "name": "Russia",
           "orientation": "v",
           "showlegend": true,
           "type": "scatter",
           "x": [
            1980
           ],
           "xaxis": "x",
           "y": [
            489
           ],
           "yaxis": "y"
          }
         ],
         "name": "1980"
        },
        {
         "data": [
          {
           "hovertemplate": "<b>%{hovertext}</b><br><br>region=Australia<br>Year=%{x}<br>Nb of athletes=%{marker.size}<extra></extra>",
           "hovertext": [
            "Australia"
           ],
           "ids": [
            "Australia"
           ],
           "legendgroup": "Australia",
           "marker": {
            "color": "#636efa",
            "size": [
             242
            ],
            "sizemode": "area",
            "sizeref": 1.8375,
            "symbol": "circle"
           },
           "mode": "markers",
           "name": "Australia",
           "orientation": "v",
           "showlegend": true,
           "type": "scatter",
           "x": [
            1984
           ],
           "xaxis": "x",
           "y": [
            242
           ],
           "yaxis": "y"
          },
          {
           "hovertemplate": "<b>%{hovertext}</b><br><br>region=France<br>Year=%{x}<br>Nb of athletes=%{marker.size}<extra></extra>",
           "hovertext": [
            "France"
           ],
           "ids": [
            "France"
           ],
           "legendgroup": "France",
           "marker": {
            "color": "#EF553B",
            "size": [
             238
            ],
            "sizemode": "area",
            "sizeref": 1.8375,
            "symbol": "circle"
           },
           "mode": "markers",
           "name": "France",
           "orientation": "v",
           "showlegend": true,
           "type": "scatter",
           "x": [
            1984
           ],
           "xaxis": "x",
           "y": [
            238
           ],
           "yaxis": "y"
          },
          {
           "hovertemplate": "<b>%{hovertext}</b><br><br>region=Germany<br>Year=%{x}<br>Nb of athletes=%{marker.size}<extra></extra>",
           "hovertext": [
            "Germany"
           ],
           "ids": [
            "Germany"
           ],
           "legendgroup": "Germany",
           "marker": {
            "color": "#00cc96",
            "size": [
             390
            ],
            "sizemode": "area",
            "sizeref": 1.8375,
            "symbol": "circle"
           },
           "mode": "markers",
           "name": "Germany",
           "orientation": "v",
           "showlegend": true,
           "type": "scatter",
           "x": [
            1984
           ],
           "xaxis": "x",
           "y": [
            390
           ],
           "yaxis": "y"
          },
          {
           "hovertemplate": "<b>%{hovertext}</b><br><br>region=Italy<br>Year=%{x}<br>Nb of athletes=%{marker.size}<extra></extra>",
           "hovertext": [
            "Italy"
           ],
           "ids": [
            "Italy"
           ],
           "legendgroup": "Italy",
           "marker": {
            "color": "#ab63fa",
            "size": [
             268
            ],
            "sizemode": "area",
            "sizeref": 1.8375,
            "symbol": "circle"
           },
           "mode": "markers",
           "name": "Italy",
           "orientation": "v",
           "showlegend": true,
           "type": "scatter",
           "x": [
            1984
           ],
           "xaxis": "x",
           "y": [
            268
           ],
           "yaxis": "y"
          },
          {
           "hovertemplate": "<b>%{hovertext}</b><br><br>region=UK<br>Year=%{x}<br>Nb of athletes=%{marker.size}<extra></extra>",
           "hovertext": [
            "UK"
           ],
           "ids": [
            "UK"
           ],
           "legendgroup": "UK",
           "marker": {
            "color": "#FFA15A",
            "size": [
             337
            ],
            "sizemode": "area",
            "sizeref": 1.8375,
            "symbol": "circle"
           },
           "mode": "markers",
           "name": "UK",
           "orientation": "v",
           "showlegend": true,
           "type": "scatter",
           "x": [
            1984
           ],
           "xaxis": "x",
           "y": [
            337
           ],
           "yaxis": "y"
          },
          {
           "hovertemplate": "<b>%{hovertext}</b><br><br>region=USA<br>Year=%{x}<br>Nb of athletes=%{marker.size}<extra></extra>",
           "hovertext": [
            "USA"
           ],
           "ids": [
            "USA"
           ],
           "legendgroup": "USA",
           "marker": {
            "color": "#19d3f3",
            "size": [
             522
            ],
            "sizemode": "area",
            "sizeref": 1.8375,
            "symbol": "circle"
           },
           "mode": "markers",
           "name": "USA",
           "orientation": "v",
           "showlegend": true,
           "type": "scatter",
           "x": [
            1984
           ],
           "xaxis": "x",
           "y": [
            522
           ],
           "yaxis": "y"
          },
          {
           "hovertemplate": "<b>%{hovertext}</b><br><br>region=Japan<br>Year=%{x}<br>Nb of athletes=%{marker.size}<extra></extra>",
           "hovertext": [
            "Japan"
           ],
           "ids": [
            "Japan"
           ],
           "legendgroup": "Japan",
           "marker": {
            "color": "#B6E880",
            "size": [
             226
            ],
            "sizemode": "area",
            "sizeref": 1.8375,
            "symbol": "circle"
           },
           "mode": "markers",
           "name": "Japan",
           "orientation": "v",
           "showlegend": true,
           "type": "scatter",
           "x": [
            1984
           ],
           "xaxis": "x",
           "y": [
            226
           ],
           "yaxis": "y"
          },
          {
           "hovertemplate": "<b>%{hovertext}</b><br><br>region=China<br>Year=%{x}<br>Nb of athletes=%{marker.size}<extra></extra>",
           "hovertext": [
            "China"
           ],
           "ids": [
            "China"
           ],
           "legendgroup": "China",
           "marker": {
            "color": "#FF97FF",
            "size": [
             262
            ],
            "sizemode": "area",
            "sizeref": 1.8375,
            "symbol": "circle"
           },
           "mode": "markers",
           "name": "China",
           "orientation": "v",
           "showlegend": true,
           "type": "scatter",
           "x": [
            1984
           ],
           "xaxis": "x",
           "y": [
            262
           ],
           "yaxis": "y"
          }
         ],
         "name": "1984"
        },
        {
         "data": [
          {
           "hovertemplate": "<b>%{hovertext}</b><br><br>region=Australia<br>Year=%{x}<br>Nb of athletes=%{marker.size}<extra></extra>",
           "hovertext": [
            "Australia"
           ],
           "ids": [
            "Australia"
           ],
           "legendgroup": "Australia",
           "marker": {
            "color": "#636efa",
            "size": [
             252
            ],
            "sizemode": "area",
            "sizeref": 1.8375,
            "symbol": "circle"
           },
           "mode": "markers",
           "name": "Australia",
           "orientation": "v",
           "showlegend": true,
           "type": "scatter",
           "x": [
            1988
           ],
           "xaxis": "x",
           "y": [
            252
           ],
           "yaxis": "y"
          },
          {
           "hovertemplate": "<b>%{hovertext}</b><br><br>region=France<br>Year=%{x}<br>Nb of athletes=%{marker.size}<extra></extra>",
           "hovertext": [
            "France"
           ],
           "ids": [
            "France"
           ],
           "legendgroup": "France",
           "marker": {
            "color": "#EF553B",
            "size": [
             266
            ],
            "sizemode": "area",
            "sizeref": 1.8375,
            "symbol": "circle"
           },
           "mode": "markers",
           "name": "France",
           "orientation": "v",
           "showlegend": true,
           "type": "scatter",
           "x": [
            1988
           ],
           "xaxis": "x",
           "y": [
            266
           ],
           "yaxis": "y"
          },
          {
           "hovertemplate": "<b>%{hovertext}</b><br><br>region=Germany<br>Year=%{x}<br>Nb of athletes=%{marker.size}<extra></extra>",
           "hovertext": [
            "Germany"
           ],
           "ids": [
            "Germany"
           ],
           "legendgroup": "Germany",
           "marker": {
            "color": "#00cc96",
            "size": [
             606
            ],
            "sizemode": "area",
            "sizeref": 1.8375,
            "symbol": "circle"
           },
           "mode": "markers",
           "name": "Germany",
           "orientation": "v",
           "showlegend": true,
           "type": "scatter",
           "x": [
            1988
           ],
           "xaxis": "x",
           "y": [
            606
           ],
           "yaxis": "y"
          },
          {
           "hovertemplate": "<b>%{hovertext}</b><br><br>region=Italy<br>Year=%{x}<br>Nb of athletes=%{marker.size}<extra></extra>",
           "hovertext": [
            "Italy"
           ],
           "ids": [
            "Italy"
           ],
           "legendgroup": "Italy",
           "marker": {
            "color": "#ab63fa",
            "size": [
             253
            ],
            "sizemode": "area",
            "sizeref": 1.8375,
            "symbol": "circle"
           },
           "mode": "markers",
           "name": "Italy",
           "orientation": "v",
           "showlegend": true,
           "type": "scatter",
           "x": [
            1988
           ],
           "xaxis": "x",
           "y": [
            253
           ],
           "yaxis": "y"
          },
          {
           "hovertemplate": "<b>%{hovertext}</b><br><br>region=UK<br>Year=%{x}<br>Nb of athletes=%{marker.size}<extra></extra>",
           "hovertext": [
            "UK"
           ],
           "ids": [
            "UK"
           ],
           "legendgroup": "UK",
           "marker": {
            "color": "#FFA15A",
            "size": [
             345
            ],
            "sizemode": "area",
            "sizeref": 1.8375,
            "symbol": "circle"
           },
           "mode": "markers",
           "name": "UK",
           "orientation": "v",
           "showlegend": true,
           "type": "scatter",
           "x": [
            1988
           ],
           "xaxis": "x",
           "y": [
            345
           ],
           "yaxis": "y"
          },
          {
           "hovertemplate": "<b>%{hovertext}</b><br><br>region=USA<br>Year=%{x}<br>Nb of athletes=%{marker.size}<extra></extra>",
           "hovertext": [
            "USA"
           ],
           "ids": [
            "USA"
           ],
           "legendgroup": "USA",
           "marker": {
            "color": "#19d3f3",
            "size": [
             527
            ],
            "sizemode": "area",
            "sizeref": 1.8375,
            "symbol": "circle"
           },
           "mode": "markers",
           "name": "USA",
           "orientation": "v",
           "showlegend": true,
           "type": "scatter",
           "x": [
            1988
           ],
           "xaxis": "x",
           "y": [
            527
           ],
           "yaxis": "y"
          },
          {
           "hovertemplate": "<b>%{hovertext}</b><br><br>region=Russia<br>Year=%{x}<br>Nb of athletes=%{marker.size}<extra></extra>",
           "hovertext": [
            "Russia"
           ],
           "ids": [
            "Russia"
           ],
           "legendgroup": "Russia",
           "marker": {
            "color": "#FF6692",
            "size": [
             481
            ],
            "sizemode": "area",
            "sizeref": 1.8375,
            "symbol": "circle"
           },
           "mode": "markers",
           "name": "Russia",
           "orientation": "v",
           "showlegend": true,
           "type": "scatter",
           "x": [
            1988
           ],
           "xaxis": "x",
           "y": [
            481
           ],
           "yaxis": "y"
          },
          {
           "hovertemplate": "<b>%{hovertext}</b><br><br>region=Japan<br>Year=%{x}<br>Nb of athletes=%{marker.size}<extra></extra>",
           "hovertext": [
            "Japan"
           ],
           "ids": [
            "Japan"
           ],
           "legendgroup": "Japan",
           "marker": {
            "color": "#B6E880",
            "size": [
             255
            ],
            "sizemode": "area",
            "sizeref": 1.8375,
            "symbol": "circle"
           },
           "mode": "markers",
           "name": "Japan",
           "orientation": "v",
           "showlegend": true,
           "type": "scatter",
           "x": [
            1988
           ],
           "xaxis": "x",
           "y": [
            255
           ],
           "yaxis": "y"
          },
          {
           "hovertemplate": "<b>%{hovertext}</b><br><br>region=China<br>Year=%{x}<br>Nb of athletes=%{marker.size}<extra></extra>",
           "hovertext": [
            "China"
           ],
           "ids": [
            "China"
           ],
           "legendgroup": "China",
           "marker": {
            "color": "#FF97FF",
            "size": [
             321
            ],
            "sizemode": "area",
            "sizeref": 1.8375,
            "symbol": "circle"
           },
           "mode": "markers",
           "name": "China",
           "orientation": "v",
           "showlegend": true,
           "type": "scatter",
           "x": [
            1988
           ],
           "xaxis": "x",
           "y": [
            321
           ],
           "yaxis": "y"
          }
         ],
         "name": "1988"
        },
        {
         "data": [
          {
           "hovertemplate": "<b>%{hovertext}</b><br><br>region=Australia<br>Year=%{x}<br>Nb of athletes=%{marker.size}<extra></extra>",
           "hovertext": [
            "Australia"
           ],
           "ids": [
            "Australia"
           ],
           "legendgroup": "Australia",
           "marker": {
            "color": "#636efa",
            "size": [
             279
            ],
            "sizemode": "area",
            "sizeref": 1.8375,
            "symbol": "circle"
           },
           "mode": "markers",
           "name": "Australia",
           "orientation": "v",
           "showlegend": true,
           "type": "scatter",
           "x": [
            1992
           ],
           "xaxis": "x",
           "y": [
            279
           ],
           "yaxis": "y"
          },
          {
           "hovertemplate": "<b>%{hovertext}</b><br><br>region=France<br>Year=%{x}<br>Nb of athletes=%{marker.size}<extra></extra>",
           "hovertext": [
            "France"
           ],
           "ids": [
            "France"
           ],
           "legendgroup": "France",
           "marker": {
            "color": "#EF553B",
            "size": [
             339
            ],
            "sizemode": "area",
            "sizeref": 1.8375,
            "symbol": "circle"
           },
           "mode": "markers",
           "name": "France",
           "orientation": "v",
           "showlegend": true,
           "type": "scatter",
           "x": [
            1992
           ],
           "xaxis": "x",
           "y": [
            339
           ],
           "yaxis": "y"
          },
          {
           "hovertemplate": "<b>%{hovertext}</b><br><br>region=Germany<br>Year=%{x}<br>Nb of athletes=%{marker.size}<extra></extra>",
           "hovertext": [
            "Germany"
           ],
           "ids": [
            "Germany"
           ],
           "legendgroup": "Germany",
           "marker": {
            "color": "#00cc96",
            "size": [
             463
            ],
            "sizemode": "area",
            "sizeref": 1.8375,
            "symbol": "circle"
           },
           "mode": "markers",
           "name": "Germany",
           "orientation": "v",
           "showlegend": true,
           "type": "scatter",
           "x": [
            1992
           ],
           "xaxis": "x",
           "y": [
            463
           ],
           "yaxis": "y"
          },
          {
           "hovertemplate": "<b>%{hovertext}</b><br><br>region=Italy<br>Year=%{x}<br>Nb of athletes=%{marker.size}<extra></extra>",
           "hovertext": [
            "Italy"
           ],
           "ids": [
            "Italy"
           ],
           "legendgroup": "Italy",
           "marker": {
            "color": "#ab63fa",
            "size": [
             304
            ],
            "sizemode": "area",
            "sizeref": 1.8375,
            "symbol": "circle"
           },
           "mode": "markers",
           "name": "Italy",
           "orientation": "v",
           "showlegend": true,
           "type": "scatter",
           "x": [
            1992
           ],
           "xaxis": "x",
           "y": [
            304
           ],
           "yaxis": "y"
          },
          {
           "hovertemplate": "<b>%{hovertext}</b><br><br>region=UK<br>Year=%{x}<br>Nb of athletes=%{marker.size}<extra></extra>",
           "hovertext": [
            "UK"
           ],
           "ids": [
            "UK"
           ],
           "legendgroup": "UK",
           "marker": {
            "color": "#FFA15A",
            "size": [
             371
            ],
            "sizemode": "area",
            "sizeref": 1.8375,
            "symbol": "circle"
           },
           "mode": "markers",
           "name": "UK",
           "orientation": "v",
           "showlegend": true,
           "type": "scatter",
           "x": [
            1992
           ],
           "xaxis": "x",
           "y": [
            371
           ],
           "yaxis": "y"
          },
          {
           "hovertemplate": "<b>%{hovertext}</b><br><br>region=USA<br>Year=%{x}<br>Nb of athletes=%{marker.size}<extra></extra>",
           "hovertext": [
            "USA"
           ],
           "ids": [
            "USA"
           ],
           "legendgroup": "USA",
           "marker": {
            "color": "#19d3f3",
            "size": [
             545
            ],
            "sizemode": "area",
            "sizeref": 1.8375,
            "symbol": "circle"
           },
           "mode": "markers",
           "name": "USA",
           "orientation": "v",
           "showlegend": true,
           "type": "scatter",
           "x": [
            1992
           ],
           "xaxis": "x",
           "y": [
            545
           ],
           "yaxis": "y"
          },
          {
           "hovertemplate": "<b>%{hovertext}</b><br><br>region=Russia<br>Year=%{x}<br>Nb of athletes=%{marker.size}<extra></extra>",
           "hovertext": [
            "Russia"
           ],
           "ids": [
            "Russia"
           ],
           "legendgroup": "Russia",
           "marker": {
            "color": "#FF6692",
            "size": [
             475
            ],
            "sizemode": "area",
            "sizeref": 1.8375,
            "symbol": "circle"
           },
           "mode": "markers",
           "name": "Russia",
           "orientation": "v",
           "showlegend": true,
           "type": "scatter",
           "x": [
            1992
           ],
           "xaxis": "x",
           "y": [
            475
           ],
           "yaxis": "y"
          },
          {
           "hovertemplate": "<b>%{hovertext}</b><br><br>region=Japan<br>Year=%{x}<br>Nb of athletes=%{marker.size}<extra></extra>",
           "hovertext": [
            "Japan"
           ],
           "ids": [
            "Japan"
           ],
           "legendgroup": "Japan",
           "marker": {
            "color": "#B6E880",
            "size": [
             256
            ],
            "sizemode": "area",
            "sizeref": 1.8375,
            "symbol": "circle"
           },
           "mode": "markers",
           "name": "Japan",
           "orientation": "v",
           "showlegend": true,
           "type": "scatter",
           "x": [
            1992
           ],
           "xaxis": "x",
           "y": [
            256
           ],
           "yaxis": "y"
          },
          {
           "hovertemplate": "<b>%{hovertext}</b><br><br>region=China<br>Year=%{x}<br>Nb of athletes=%{marker.size}<extra></extra>",
           "hovertext": [
            "China"
           ],
           "ids": [
            "China"
           ],
           "legendgroup": "China",
           "marker": {
            "color": "#FF97FF",
            "size": [
             282
            ],
            "sizemode": "area",
            "sizeref": 1.8375,
            "symbol": "circle"
           },
           "mode": "markers",
           "name": "China",
           "orientation": "v",
           "showlegend": true,
           "type": "scatter",
           "x": [
            1992
           ],
           "xaxis": "x",
           "y": [
            282
           ],
           "yaxis": "y"
          }
         ],
         "name": "1992"
        },
        {
         "data": [
          {
           "hovertemplate": "<b>%{hovertext}</b><br><br>region=Australia<br>Year=%{x}<br>Nb of athletes=%{marker.size}<extra></extra>",
           "hovertext": [
            "Australia"
           ],
           "ids": [
            "Australia"
           ],
           "legendgroup": "Australia",
           "marker": {
            "color": "#636efa",
            "size": [
             417
            ],
            "sizemode": "area",
            "sizeref": 1.8375,
            "symbol": "circle"
           },
           "mode": "markers",
           "name": "Australia",
           "orientation": "v",
           "showlegend": true,
           "type": "scatter",
           "x": [
            1996
           ],
           "xaxis": "x",
           "y": [
            417
           ],
           "yaxis": "y"
          },
          {
           "hovertemplate": "<b>%{hovertext}</b><br><br>region=France<br>Year=%{x}<br>Nb of athletes=%{marker.size}<extra></extra>",
           "hovertext": [
            "France"
           ],
           "ids": [
            "France"
           ],
           "legendgroup": "France",
           "marker": {
            "color": "#EF553B",
            "size": [
             299
            ],
            "sizemode": "area",
            "sizeref": 1.8375,
            "symbol": "circle"
           },
           "mode": "markers",
           "name": "France",
           "orientation": "v",
           "showlegend": true,
           "type": "scatter",
           "x": [
            1996
           ],
           "xaxis": "x",
           "y": [
            299
           ],
           "yaxis": "y"
          },
          {
           "hovertemplate": "<b>%{hovertext}</b><br><br>region=Germany<br>Year=%{x}<br>Nb of athletes=%{marker.size}<extra></extra>",
           "hovertext": [
            "Germany"
           ],
           "ids": [
            "Germany"
           ],
           "legendgroup": "Germany",
           "marker": {
            "color": "#00cc96",
            "size": [
             466
            ],
            "sizemode": "area",
            "sizeref": 1.8375,
            "symbol": "circle"
           },
           "mode": "markers",
           "name": "Germany",
           "orientation": "v",
           "showlegend": true,
           "type": "scatter",
           "x": [
            1996
           ],
           "xaxis": "x",
           "y": [
            466
           ],
           "yaxis": "y"
          },
          {
           "hovertemplate": "<b>%{hovertext}</b><br><br>region=Italy<br>Year=%{x}<br>Nb of athletes=%{marker.size}<extra></extra>",
           "hovertext": [
            "Italy"
           ],
           "ids": [
            "Italy"
           ],
           "legendgroup": "Italy",
           "marker": {
            "color": "#ab63fa",
            "size": [
             340
            ],
            "sizemode": "area",
            "sizeref": 1.8375,
            "symbol": "circle"
           },
           "mode": "markers",
           "name": "Italy",
           "orientation": "v",
           "showlegend": true,
           "type": "scatter",
           "x": [
            1996
           ],
           "xaxis": "x",
           "y": [
            340
           ],
           "yaxis": "y"
          },
          {
           "hovertemplate": "<b>%{hovertext}</b><br><br>region=UK<br>Year=%{x}<br>Nb of athletes=%{marker.size}<extra></extra>",
           "hovertext": [
            "UK"
           ],
           "ids": [
            "UK"
           ],
           "legendgroup": "UK",
           "marker": {
            "color": "#FFA15A",
            "size": [
             300
            ],
            "sizemode": "area",
            "sizeref": 1.8375,
            "symbol": "circle"
           },
           "mode": "markers",
           "name": "UK",
           "orientation": "v",
           "showlegend": true,
           "type": "scatter",
           "x": [
            1996
           ],
           "xaxis": "x",
           "y": [
            300
           ],
           "yaxis": "y"
          },
          {
           "hovertemplate": "<b>%{hovertext}</b><br><br>region=USA<br>Year=%{x}<br>Nb of athletes=%{marker.size}<extra></extra>",
           "hovertext": [
            "USA"
           ],
           "ids": [
            "USA"
           ],
           "legendgroup": "USA",
           "marker": {
            "color": "#19d3f3",
            "size": [
             648
            ],
            "sizemode": "area",
            "sizeref": 1.8375,
            "symbol": "circle"
           },
           "mode": "markers",
           "name": "USA",
           "orientation": "v",
           "showlegend": true,
           "type": "scatter",
           "x": [
            1996
           ],
           "xaxis": "x",
           "y": [
            648
           ],
           "yaxis": "y"
          },
          {
           "hovertemplate": "<b>%{hovertext}</b><br><br>region=Russia<br>Year=%{x}<br>Nb of athletes=%{marker.size}<extra></extra>",
           "hovertext": [
            "Russia"
           ],
           "ids": [
            "Russia"
           ],
           "legendgroup": "Russia",
           "marker": {
            "color": "#FF6692",
            "size": [
             390
            ],
            "sizemode": "area",
            "sizeref": 1.8375,
            "symbol": "circle"
           },
           "mode": "markers",
           "name": "Russia",
           "orientation": "v",
           "showlegend": true,
           "type": "scatter",
           "x": [
            1996
           ],
           "xaxis": "x",
           "y": [
            390
           ],
           "yaxis": "y"
          },
          {
           "hovertemplate": "<b>%{hovertext}</b><br><br>region=Japan<br>Year=%{x}<br>Nb of athletes=%{marker.size}<extra></extra>",
           "hovertext": [
            "Japan"
           ],
           "ids": [
            "Japan"
           ],
           "legendgroup": "Japan",
           "marker": {
            "color": "#B6E880",
            "size": [
             306
            ],
            "sizemode": "area",
            "sizeref": 1.8375,
            "symbol": "circle"
           },
           "mode": "markers",
           "name": "Japan",
           "orientation": "v",
           "showlegend": true,
           "type": "scatter",
           "x": [
            1996
           ],
           "xaxis": "x",
           "y": [
            306
           ],
           "yaxis": "y"
          },
          {
           "hovertemplate": "<b>%{hovertext}</b><br><br>region=China<br>Year=%{x}<br>Nb of athletes=%{marker.size}<extra></extra>",
           "hovertext": [
            "China"
           ],
           "ids": [
            "China"
           ],
           "legendgroup": "China",
           "marker": {
            "color": "#FF97FF",
            "size": [
             317
            ],
            "sizemode": "area",
            "sizeref": 1.8375,
            "symbol": "circle"
           },
           "mode": "markers",
           "name": "China",
           "orientation": "v",
           "showlegend": true,
           "type": "scatter",
           "x": [
            1996
           ],
           "xaxis": "x",
           "y": [
            317
           ],
           "yaxis": "y"
          },
          {
           "hovertemplate": "<b>%{hovertext}</b><br><br>region=Ukraine<br>Year=%{x}<br>Nb of athletes=%{marker.size}<extra></extra>",
           "hovertext": [
            "Ukraine"
           ],
           "ids": [
            "Ukraine"
           ],
           "legendgroup": "Ukraine",
           "marker": {
            "color": "#FECB52",
            "size": [
             231
            ],
            "sizemode": "area",
            "sizeref": 1.8375,
            "symbol": "circle"
           },
           "mode": "markers",
           "name": "Ukraine",
           "orientation": "v",
           "showlegend": true,
           "type": "scatter",
           "x": [
            1996
           ],
           "xaxis": "x",
           "y": [
            231
           ],
           "yaxis": "y"
          }
         ],
         "name": "1996"
        },
        {
         "data": [
          {
           "hovertemplate": "<b>%{hovertext}</b><br><br>region=Australia<br>Year=%{x}<br>Nb of athletes=%{marker.size}<extra></extra>",
           "hovertext": [
            "Australia"
           ],
           "ids": [
            "Australia"
           ],
           "legendgroup": "Australia",
           "marker": {
            "color": "#636efa",
            "size": [
             617
            ],
            "sizemode": "area",
            "sizeref": 1.8375,
            "symbol": "circle"
           },
           "mode": "markers",
           "name": "Australia",
           "orientation": "v",
           "showlegend": true,
           "type": "scatter",
           "x": [
            2000
           ],
           "xaxis": "x",
           "y": [
            617
           ],
           "yaxis": "y"
          },
          {
           "hovertemplate": "<b>%{hovertext}</b><br><br>region=France<br>Year=%{x}<br>Nb of athletes=%{marker.size}<extra></extra>",
           "hovertext": [
            "France"
           ],
           "ids": [
            "France"
           ],
           "legendgroup": "France",
           "marker": {
            "color": "#EF553B",
            "size": [
             336
            ],
            "sizemode": "area",
            "sizeref": 1.8375,
            "symbol": "circle"
           },
           "mode": "markers",
           "name": "France",
           "orientation": "v",
           "showlegend": true,
           "type": "scatter",
           "x": [
            2000
           ],
           "xaxis": "x",
           "y": [
            336
           ],
           "yaxis": "y"
          },
          {
           "hovertemplate": "<b>%{hovertext}</b><br><br>region=Germany<br>Year=%{x}<br>Nb of athletes=%{marker.size}<extra></extra>",
           "hovertext": [
            "Germany"
           ],
           "ids": [
            "Germany"
           ],
           "legendgroup": "Germany",
           "marker": {
            "color": "#00cc96",
            "size": [
             422
            ],
            "sizemode": "area",
            "sizeref": 1.8375,
            "symbol": "circle"
           },
           "mode": "markers",
           "name": "Germany",
           "orientation": "v",
           "showlegend": true,
           "type": "scatter",
           "x": [
            2000
           ],
           "xaxis": "x",
           "y": [
            422
           ],
           "yaxis": "y"
          },
          {
           "hovertemplate": "<b>%{hovertext}</b><br><br>region=Italy<br>Year=%{x}<br>Nb of athletes=%{marker.size}<extra></extra>",
           "hovertext": [
            "Italy"
           ],
           "ids": [
            "Italy"
           ],
           "legendgroup": "Italy",
           "marker": {
            "color": "#ab63fa",
            "size": [
             361
            ],
            "sizemode": "area",
            "sizeref": 1.8375,
            "symbol": "circle"
           },
           "mode": "markers",
           "name": "Italy",
           "orientation": "v",
           "showlegend": true,
           "type": "scatter",
           "x": [
            2000
           ],
           "xaxis": "x",
           "y": [
            361
           ],
           "yaxis": "y"
          },
          {
           "hovertemplate": "<b>%{hovertext}</b><br><br>region=UK<br>Year=%{x}<br>Nb of athletes=%{marker.size}<extra></extra>",
           "hovertext": [
            "UK"
           ],
           "ids": [
            "UK"
           ],
           "legendgroup": "UK",
           "marker": {
            "color": "#FFA15A",
            "size": [
             310
            ],
            "sizemode": "area",
            "sizeref": 1.8375,
            "symbol": "circle"
           },
           "mode": "markers",
           "name": "UK",
           "orientation": "v",
           "showlegend": true,
           "type": "scatter",
           "x": [
            2000
           ],
           "xaxis": "x",
           "y": [
            310
           ],
           "yaxis": "y"
          },
          {
           "hovertemplate": "<b>%{hovertext}</b><br><br>region=USA<br>Year=%{x}<br>Nb of athletes=%{marker.size}<extra></extra>",
           "hovertext": [
            "USA"
           ],
           "ids": [
            "USA"
           ],
           "legendgroup": "USA",
           "marker": {
            "color": "#19d3f3",
            "size": [
             586
            ],
            "sizemode": "area",
            "sizeref": 1.8375,
            "symbol": "circle"
           },
           "mode": "markers",
           "name": "USA",
           "orientation": "v",
           "showlegend": true,
           "type": "scatter",
           "x": [
            2000
           ],
           "xaxis": "x",
           "y": [
            586
           ],
           "yaxis": "y"
          },
          {
           "hovertemplate": "<b>%{hovertext}</b><br><br>region=Russia<br>Year=%{x}<br>Nb of athletes=%{marker.size}<extra></extra>",
           "hovertext": [
            "Russia"
           ],
           "ids": [
            "Russia"
           ],
           "legendgroup": "Russia",
           "marker": {
            "color": "#FF6692",
            "size": [
             435
            ],
            "sizemode": "area",
            "sizeref": 1.8375,
            "symbol": "circle"
           },
           "mode": "markers",
           "name": "Russia",
           "orientation": "v",
           "showlegend": true,
           "type": "scatter",
           "x": [
            2000
           ],
           "xaxis": "x",
           "y": [
            435
           ],
           "yaxis": "y"
          },
          {
           "hovertemplate": "<b>%{hovertext}</b><br><br>region=Japan<br>Year=%{x}<br>Nb of athletes=%{marker.size}<extra></extra>",
           "hovertext": [
            "Japan"
           ],
           "ids": [
            "Japan"
           ],
           "legendgroup": "Japan",
           "marker": {
            "color": "#B6E880",
            "size": [
             266
            ],
            "sizemode": "area",
            "sizeref": 1.8375,
            "symbol": "circle"
           },
           "mode": "markers",
           "name": "Japan",
           "orientation": "v",
           "showlegend": true,
           "type": "scatter",
           "x": [
            2000
           ],
           "xaxis": "x",
           "y": [
            266
           ],
           "yaxis": "y"
          },
          {
           "hovertemplate": "<b>%{hovertext}</b><br><br>region=China<br>Year=%{x}<br>Nb of athletes=%{marker.size}<extra></extra>",
           "hovertext": [
            "China"
           ],
           "ids": [
            "China"
           ],
           "legendgroup": "China",
           "marker": {
            "color": "#FF97FF",
            "size": [
             302
            ],
            "sizemode": "area",
            "sizeref": 1.8375,
            "symbol": "circle"
           },
           "mode": "markers",
           "name": "China",
           "orientation": "v",
           "showlegend": true,
           "type": "scatter",
           "x": [
            2000
           ],
           "xaxis": "x",
           "y": [
            302
           ],
           "yaxis": "y"
          },
          {
           "hovertemplate": "<b>%{hovertext}</b><br><br>region=Ukraine<br>Year=%{x}<br>Nb of athletes=%{marker.size}<extra></extra>",
           "hovertext": [
            "Ukraine"
           ],
           "ids": [
            "Ukraine"
           ],
           "legendgroup": "Ukraine",
           "marker": {
            "color": "#FECB52",
            "size": [
             230
            ],
            "sizemode": "area",
            "sizeref": 1.8375,
            "symbol": "circle"
           },
           "mode": "markers",
           "name": "Ukraine",
           "orientation": "v",
           "showlegend": true,
           "type": "scatter",
           "x": [
            2000
           ],
           "xaxis": "x",
           "y": [
            230
           ],
           "yaxis": "y"
          }
         ],
         "name": "2000"
        },
        {
         "data": [
          {
           "hovertemplate": "<b>%{hovertext}</b><br><br>region=Australia<br>Year=%{x}<br>Nb of athletes=%{marker.size}<extra></extra>",
           "hovertext": [
            "Australia"
           ],
           "ids": [
            "Australia"
           ],
           "legendgroup": "Australia",
           "marker": {
            "color": "#636efa",
            "size": [
             470
            ],
            "sizemode": "area",
            "sizeref": 1.8375,
            "symbol": "circle"
           },
           "mode": "markers",
           "name": "Australia",
           "orientation": "v",
           "showlegend": true,
           "type": "scatter",
           "x": [
            2004
           ],
           "xaxis": "x",
           "y": [
            470
           ],
           "yaxis": "y"
          },
          {
           "hovertemplate": "<b>%{hovertext}</b><br><br>region=France<br>Year=%{x}<br>Nb of athletes=%{marker.size}<extra></extra>",
           "hovertext": [
            "France"
           ],
           "ids": [
            "France"
           ],
           "legendgroup": "France",
           "marker": {
            "color": "#EF553B",
            "size": [
             308
            ],
            "sizemode": "area",
            "sizeref": 1.8375,
            "symbol": "circle"
           },
           "mode": "markers",
           "name": "France",
           "orientation": "v",
           "showlegend": true,
           "type": "scatter",
           "x": [
            2004
           ],
           "xaxis": "x",
           "y": [
            308
           ],
           "yaxis": "y"
          },
          {
           "hovertemplate": "<b>%{hovertext}</b><br><br>region=Germany<br>Year=%{x}<br>Nb of athletes=%{marker.size}<extra></extra>",
           "hovertext": [
            "Germany"
           ],
           "ids": [
            "Germany"
           ],
           "legendgroup": "Germany",
           "marker": {
            "color": "#00cc96",
            "size": [
             441
            ],
            "sizemode": "area",
            "sizeref": 1.8375,
            "symbol": "circle"
           },
           "mode": "markers",
           "name": "Germany",
           "orientation": "v",
           "showlegend": true,
           "type": "scatter",
           "x": [
            2004
           ],
           "xaxis": "x",
           "y": [
            441
           ],
           "yaxis": "y"
          },
          {
           "hovertemplate": "<b>%{hovertext}</b><br><br>region=Italy<br>Year=%{x}<br>Nb of athletes=%{marker.size}<extra></extra>",
           "hovertext": [
            "Italy"
           ],
           "ids": [
            "Italy"
           ],
           "legendgroup": "Italy",
           "marker": {
            "color": "#ab63fa",
            "size": [
             364
            ],
            "sizemode": "area",
            "sizeref": 1.8375,
            "symbol": "circle"
           },
           "mode": "markers",
           "name": "Italy",
           "orientation": "v",
           "showlegend": true,
           "type": "scatter",
           "x": [
            2004
           ],
           "xaxis": "x",
           "y": [
            364
           ],
           "yaxis": "y"
          },
          {
           "hovertemplate": "<b>%{hovertext}</b><br><br>region=UK<br>Year=%{x}<br>Nb of athletes=%{marker.size}<extra></extra>",
           "hovertext": [
            "UK"
           ],
           "ids": [
            "UK"
           ],
           "legendgroup": "UK",
           "marker": {
            "color": "#FFA15A",
            "size": [
             264
            ],
            "sizemode": "area",
            "sizeref": 1.8375,
            "symbol": "circle"
           },
           "mode": "markers",
           "name": "UK",
           "orientation": "v",
           "showlegend": true,
           "type": "scatter",
           "x": [
            2004
           ],
           "xaxis": "x",
           "y": [
            264
           ],
           "yaxis": "y"
          },
          {
           "hovertemplate": "<b>%{hovertext}</b><br><br>region=USA<br>Year=%{x}<br>Nb of athletes=%{marker.size}<extra></extra>",
           "hovertext": [
            "USA"
           ],
           "ids": [
            "USA"
           ],
           "legendgroup": "USA",
           "marker": {
            "color": "#19d3f3",
            "size": [
             533
            ],
            "sizemode": "area",
            "sizeref": 1.8375,
            "symbol": "circle"
           },
           "mode": "markers",
           "name": "USA",
           "orientation": "v",
           "showlegend": true,
           "type": "scatter",
           "x": [
            2004
           ],
           "xaxis": "x",
           "y": [
            533
           ],
           "yaxis": "y"
          },
          {
           "hovertemplate": "<b>%{hovertext}</b><br><br>region=Russia<br>Year=%{x}<br>Nb of athletes=%{marker.size}<extra></extra>",
           "hovertext": [
            "Russia"
           ],
           "ids": [
            "Russia"
           ],
           "legendgroup": "Russia",
           "marker": {
            "color": "#FF6692",
            "size": [
             446
            ],
            "sizemode": "area",
            "sizeref": 1.8375,
            "symbol": "circle"
           },
           "mode": "markers",
           "name": "Russia",
           "orientation": "v",
           "showlegend": true,
           "type": "scatter",
           "x": [
            2004
           ],
           "xaxis": "x",
           "y": [
            446
           ],
           "yaxis": "y"
          },
          {
           "hovertemplate": "<b>%{hovertext}</b><br><br>region=Japan<br>Year=%{x}<br>Nb of athletes=%{marker.size}<extra></extra>",
           "hovertext": [
            "Japan"
           ],
           "ids": [
            "Japan"
           ],
           "legendgroup": "Japan",
           "marker": {
            "color": "#B6E880",
            "size": [
             306
            ],
            "sizemode": "area",
            "sizeref": 1.8375,
            "symbol": "circle"
           },
           "mode": "markers",
           "name": "Japan",
           "orientation": "v",
           "showlegend": true,
           "type": "scatter",
           "x": [
            2004
           ],
           "xaxis": "x",
           "y": [
            306
           ],
           "yaxis": "y"
          },
          {
           "hovertemplate": "<b>%{hovertext}</b><br><br>region=China<br>Year=%{x}<br>Nb of athletes=%{marker.size}<extra></extra>",
           "hovertext": [
            "China"
           ],
           "ids": [
            "China"
           ],
           "legendgroup": "China",
           "marker": {
            "color": "#FF97FF",
            "size": [
             415
            ],
            "sizemode": "area",
            "sizeref": 1.8375,
            "symbol": "circle"
           },
           "mode": "markers",
           "name": "China",
           "orientation": "v",
           "showlegend": true,
           "type": "scatter",
           "x": [
            2004
           ],
           "xaxis": "x",
           "y": [
            415
           ],
           "yaxis": "y"
          },
          {
           "hovertemplate": "<b>%{hovertext}</b><br><br>region=Ukraine<br>Year=%{x}<br>Nb of athletes=%{marker.size}<extra></extra>",
           "hovertext": [
            "Ukraine"
           ],
           "ids": [
            "Ukraine"
           ],
           "legendgroup": "Ukraine",
           "marker": {
            "color": "#FECB52",
            "size": [
             239
            ],
            "sizemode": "area",
            "sizeref": 1.8375,
            "symbol": "circle"
           },
           "mode": "markers",
           "name": "Ukraine",
           "orientation": "v",
           "showlegend": true,
           "type": "scatter",
           "x": [
            2004
           ],
           "xaxis": "x",
           "y": [
            239
           ],
           "yaxis": "y"
          }
         ],
         "name": "2004"
        },
        {
         "data": [
          {
           "hovertemplate": "<b>%{hovertext}</b><br><br>region=Australia<br>Year=%{x}<br>Nb of athletes=%{marker.size}<extra></extra>",
           "hovertext": [
            "Australia"
           ],
           "ids": [
            "Australia"
           ],
           "legendgroup": "Australia",
           "marker": {
            "color": "#636efa",
            "size": [
             432
            ],
            "sizemode": "area",
            "sizeref": 1.8375,
            "symbol": "circle"
           },
           "mode": "markers",
           "name": "Australia",
           "orientation": "v",
           "showlegend": true,
           "type": "scatter",
           "x": [
            2008
           ],
           "xaxis": "x",
           "y": [
            432
           ],
           "yaxis": "y"
          },
          {
           "hovertemplate": "<b>%{hovertext}</b><br><br>region=France<br>Year=%{x}<br>Nb of athletes=%{marker.size}<extra></extra>",
           "hovertext": [
            "France"
           ],
           "ids": [
            "France"
           ],
           "legendgroup": "France",
           "marker": {
            "color": "#EF553B",
            "size": [
             309
            ],
            "sizemode": "area",
            "sizeref": 1.8375,
            "symbol": "circle"
           },
           "mode": "markers",
           "name": "France",
           "orientation": "v",
           "showlegend": true,
           "type": "scatter",
           "x": [
            2008
           ],
           "xaxis": "x",
           "y": [
            309
           ],
           "yaxis": "y"
          },
          {
           "hovertemplate": "<b>%{hovertext}</b><br><br>region=Germany<br>Year=%{x}<br>Nb of athletes=%{marker.size}<extra></extra>",
           "hovertext": [
            "Germany"
           ],
           "ids": [
            "Germany"
           ],
           "legendgroup": "Germany",
           "marker": {
            "color": "#00cc96",
            "size": [
             420
            ],
            "sizemode": "area",
            "sizeref": 1.8375,
            "symbol": "circle"
           },
           "mode": "markers",
           "name": "Germany",
           "orientation": "v",
           "showlegend": true,
           "type": "scatter",
           "x": [
            2008
           ],
           "xaxis": "x",
           "y": [
            420
           ],
           "yaxis": "y"
          },
          {
           "hovertemplate": "<b>%{hovertext}</b><br><br>region=Italy<br>Year=%{x}<br>Nb of athletes=%{marker.size}<extra></extra>",
           "hovertext": [
            "Italy"
           ],
           "ids": [
            "Italy"
           ],
           "legendgroup": "Italy",
           "marker": {
            "color": "#ab63fa",
            "size": [
             333
            ],
            "sizemode": "area",
            "sizeref": 1.8375,
            "symbol": "circle"
           },
           "mode": "markers",
           "name": "Italy",
           "orientation": "v",
           "showlegend": true,
           "type": "scatter",
           "x": [
            2008
           ],
           "xaxis": "x",
           "y": [
            333
           ],
           "yaxis": "y"
          },
          {
           "hovertemplate": "<b>%{hovertext}</b><br><br>region=UK<br>Year=%{x}<br>Nb of athletes=%{marker.size}<extra></extra>",
           "hovertext": [
            "UK"
           ],
           "ids": [
            "UK"
           ],
           "legendgroup": "UK",
           "marker": {
            "color": "#FFA15A",
            "size": [
             304
            ],
            "sizemode": "area",
            "sizeref": 1.8375,
            "symbol": "circle"
           },
           "mode": "markers",
           "name": "UK",
           "orientation": "v",
           "showlegend": true,
           "type": "scatter",
           "x": [
            2008
           ],
           "xaxis": "x",
           "y": [
            304
           ],
           "yaxis": "y"
          },
          {
           "hovertemplate": "<b>%{hovertext}</b><br><br>region=USA<br>Year=%{x}<br>Nb of athletes=%{marker.size}<extra></extra>",
           "hovertext": [
            "USA"
           ],
           "ids": [
            "USA"
           ],
           "legendgroup": "USA",
           "marker": {
            "color": "#19d3f3",
            "size": [
             588
            ],
            "sizemode": "area",
            "sizeref": 1.8375,
            "symbol": "circle"
           },
           "mode": "markers",
           "name": "USA",
           "orientation": "v",
           "showlegend": true,
           "type": "scatter",
           "x": [
            2008
           ],
           "xaxis": "x",
           "y": [
            588
           ],
           "yaxis": "y"
          },
          {
           "hovertemplate": "<b>%{hovertext}</b><br><br>region=Russia<br>Year=%{x}<br>Nb of athletes=%{marker.size}<extra></extra>",
           "hovertext": [
            "Russia"
           ],
           "ids": [
            "Russia"
           ],
           "legendgroup": "Russia",
           "marker": {
            "color": "#FF6692",
            "size": [
             454
            ],
            "sizemode": "area",
            "sizeref": 1.8375,
            "symbol": "circle"
           },
           "mode": "markers",
           "name": "Russia",
           "orientation": "v",
           "showlegend": true,
           "type": "scatter",
           "x": [
            2008
           ],
           "xaxis": "x",
           "y": [
            454
           ],
           "yaxis": "y"
          },
          {
           "hovertemplate": "<b>%{hovertext}</b><br><br>region=Japan<br>Year=%{x}<br>Nb of athletes=%{marker.size}<extra></extra>",
           "hovertext": [
            "Japan"
           ],
           "ids": [
            "Japan"
           ],
           "legendgroup": "Japan",
           "marker": {
            "color": "#B6E880",
            "size": [
             332
            ],
            "sizemode": "area",
            "sizeref": 1.8375,
            "symbol": "circle"
           },
           "mode": "markers",
           "name": "Japan",
           "orientation": "v",
           "showlegend": true,
           "type": "scatter",
           "x": [
            2008
           ],
           "xaxis": "x",
           "y": [
            332
           ],
           "yaxis": "y"
          },
          {
           "hovertemplate": "<b>%{hovertext}</b><br><br>region=China<br>Year=%{x}<br>Nb of athletes=%{marker.size}<extra></extra>",
           "hovertext": [
            "China"
           ],
           "ids": [
            "China"
           ],
           "legendgroup": "China",
           "marker": {
            "color": "#FF97FF",
            "size": [
             633
            ],
            "sizemode": "area",
            "sizeref": 1.8375,
            "symbol": "circle"
           },
           "mode": "markers",
           "name": "China",
           "orientation": "v",
           "showlegend": true,
           "type": "scatter",
           "x": [
            2008
           ],
           "xaxis": "x",
           "y": [
            633
           ],
           "yaxis": "y"
          },
          {
           "hovertemplate": "<b>%{hovertext}</b><br><br>region=Ukraine<br>Year=%{x}<br>Nb of athletes=%{marker.size}<extra></extra>",
           "hovertext": [
            "Ukraine"
           ],
           "ids": [
            "Ukraine"
           ],
           "legendgroup": "Ukraine",
           "marker": {
            "color": "#FECB52",
            "size": [
             243
            ],
            "sizemode": "area",
            "sizeref": 1.8375,
            "symbol": "circle"
           },
           "mode": "markers",
           "name": "Ukraine",
           "orientation": "v",
           "showlegend": true,
           "type": "scatter",
           "x": [
            2008
           ],
           "xaxis": "x",
           "y": [
            243
           ],
           "yaxis": "y"
          }
         ],
         "name": "2008"
        },
        {
         "data": [
          {
           "hovertemplate": "<b>%{hovertext}</b><br><br>region=Australia<br>Year=%{x}<br>Nb of athletes=%{marker.size}<extra></extra>",
           "hovertext": [
            "Australia"
           ],
           "ids": [
            "Australia"
           ],
           "legendgroup": "Australia",
           "marker": {
            "color": "#636efa",
            "size": [
             405
            ],
            "sizemode": "area",
            "sizeref": 1.8375,
            "symbol": "circle"
           },
           "mode": "markers",
           "name": "Australia",
           "orientation": "v",
           "showlegend": true,
           "type": "scatter",
           "x": [
            2012
           ],
           "xaxis": "x",
           "y": [
            405
           ],
           "yaxis": "y"
          },
          {
           "hovertemplate": "<b>%{hovertext}</b><br><br>region=France<br>Year=%{x}<br>Nb of athletes=%{marker.size}<extra></extra>",
           "hovertext": [
            "France"
           ],
           "ids": [
            "France"
           ],
           "legendgroup": "France",
           "marker": {
            "color": "#EF553B",
            "size": [
             324
            ],
            "sizemode": "area",
            "sizeref": 1.8375,
            "symbol": "circle"
           },
           "mode": "markers",
           "name": "France",
           "orientation": "v",
           "showlegend": true,
           "type": "scatter",
           "x": [
            2012
           ],
           "xaxis": "x",
           "y": [
            324
           ],
           "yaxis": "y"
          },
          {
           "hovertemplate": "<b>%{hovertext}</b><br><br>region=Germany<br>Year=%{x}<br>Nb of athletes=%{marker.size}<extra></extra>",
           "hovertext": [
            "Germany"
           ],
           "ids": [
            "Germany"
           ],
           "legendgroup": "Germany",
           "marker": {
            "color": "#00cc96",
            "size": [
             383
            ],
            "sizemode": "area",
            "sizeref": 1.8375,
            "symbol": "circle"
           },
           "mode": "markers",
           "name": "Germany",
           "orientation": "v",
           "showlegend": true,
           "type": "scatter",
           "x": [
            2012
           ],
           "xaxis": "x",
           "y": [
            383
           ],
           "yaxis": "y"
          },
          {
           "hovertemplate": "<b>%{hovertext}</b><br><br>region=Italy<br>Year=%{x}<br>Nb of athletes=%{marker.size}<extra></extra>",
           "hovertext": [
            "Italy"
           ],
           "ids": [
            "Italy"
           ],
           "legendgroup": "Italy",
           "marker": {
            "color": "#ab63fa",
            "size": [
             281
            ],
            "sizemode": "area",
            "sizeref": 1.8375,
            "symbol": "circle"
           },
           "mode": "markers",
           "name": "Italy",
           "orientation": "v",
           "showlegend": true,
           "type": "scatter",
           "x": [
            2012
           ],
           "xaxis": "x",
           "y": [
            281
           ],
           "yaxis": "y"
          },
          {
           "hovertemplate": "<b>%{hovertext}</b><br><br>region=UK<br>Year=%{x}<br>Nb of athletes=%{marker.size}<extra></extra>",
           "hovertext": [
            "UK"
           ],
           "ids": [
            "UK"
           ],
           "legendgroup": "UK",
           "marker": {
            "color": "#FFA15A",
            "size": [
             530
            ],
            "sizemode": "area",
            "sizeref": 1.8375,
            "symbol": "circle"
           },
           "mode": "markers",
           "name": "UK",
           "orientation": "v",
           "showlegend": true,
           "type": "scatter",
           "x": [
            2012
           ],
           "xaxis": "x",
           "y": [
            530
           ],
           "yaxis": "y"
          },
          {
           "hovertemplate": "<b>%{hovertext}</b><br><br>region=USA<br>Year=%{x}<br>Nb of athletes=%{marker.size}<extra></extra>",
           "hovertext": [
            "USA"
           ],
           "ids": [
            "USA"
           ],
           "legendgroup": "USA",
           "marker": {
            "color": "#19d3f3",
            "size": [
             530
            ],
            "sizemode": "area",
            "sizeref": 1.8375,
            "symbol": "circle"
           },
           "mode": "markers",
           "name": "USA",
           "orientation": "v",
           "showlegend": true,
           "type": "scatter",
           "x": [
            2012
           ],
           "xaxis": "x",
           "y": [
            530
           ],
           "yaxis": "y"
          },
          {
           "hovertemplate": "<b>%{hovertext}</b><br><br>region=Russia<br>Year=%{x}<br>Nb of athletes=%{marker.size}<extra></extra>",
           "hovertext": [
            "Russia"
           ],
           "ids": [
            "Russia"
           ],
           "legendgroup": "Russia",
           "marker": {
            "color": "#FF6692",
            "size": [
             429
            ],
            "sizemode": "area",
            "sizeref": 1.8375,
            "symbol": "circle"
           },
           "mode": "markers",
           "name": "Russia",
           "orientation": "v",
           "showlegend": true,
           "type": "scatter",
           "x": [
            2012
           ],
           "xaxis": "x",
           "y": [
            429
           ],
           "yaxis": "y"
          },
          {
           "hovertemplate": "<b>%{hovertext}</b><br><br>region=Japan<br>Year=%{x}<br>Nb of athletes=%{marker.size}<extra></extra>",
           "hovertext": [
            "Japan"
           ],
           "ids": [
            "Japan"
           ],
           "legendgroup": "Japan",
           "marker": {
            "color": "#B6E880",
            "size": [
             291
            ],
            "sizemode": "area",
            "sizeref": 1.8375,
            "symbol": "circle"
           },
           "mode": "markers",
           "name": "Japan",
           "orientation": "v",
           "showlegend": true,
           "type": "scatter",
           "x": [
            2012
           ],
           "xaxis": "x",
           "y": [
            291
           ],
           "yaxis": "y"
          },
          {
           "hovertemplate": "<b>%{hovertext}</b><br><br>region=China<br>Year=%{x}<br>Nb of athletes=%{marker.size}<extra></extra>",
           "hovertext": [
            "China"
           ],
           "ids": [
            "China"
           ],
           "legendgroup": "China",
           "marker": {
            "color": "#FF97FF",
            "size": [
             416
            ],
            "sizemode": "area",
            "sizeref": 1.8375,
            "symbol": "circle"
           },
           "mode": "markers",
           "name": "China",
           "orientation": "v",
           "showlegend": true,
           "type": "scatter",
           "x": [
            2012
           ],
           "xaxis": "x",
           "y": [
            416
           ],
           "yaxis": "y"
          },
          {
           "hovertemplate": "<b>%{hovertext}</b><br><br>region=Ukraine<br>Year=%{x}<br>Nb of athletes=%{marker.size}<extra></extra>",
           "hovertext": [
            "Ukraine"
           ],
           "ids": [
            "Ukraine"
           ],
           "legendgroup": "Ukraine",
           "marker": {
            "color": "#FECB52",
            "size": [
             230
            ],
            "sizemode": "area",
            "sizeref": 1.8375,
            "symbol": "circle"
           },
           "mode": "markers",
           "name": "Ukraine",
           "orientation": "v",
           "showlegend": true,
           "type": "scatter",
           "x": [
            2012
           ],
           "xaxis": "x",
           "y": [
            230
           ],
           "yaxis": "y"
          }
         ],
         "name": "2012"
        },
        {
         "data": [
          {
           "hovertemplate": "<b>%{hovertext}</b><br><br>region=Australia<br>Year=%{x}<br>Nb of athletes=%{marker.size}<extra></extra>",
           "hovertext": [
            "Australia"
           ],
           "ids": [
            "Australia"
           ],
           "legendgroup": "Australia",
           "marker": {
            "color": "#636efa",
            "size": [
             420
            ],
            "sizemode": "area",
            "sizeref": 1.8375,
            "symbol": "circle"
           },
           "mode": "markers",
           "name": "Australia",
           "orientation": "v",
           "showlegend": true,
           "type": "scatter",
           "x": [
            2016
           ],
           "xaxis": "x",
           "y": [
            420
           ],
           "yaxis": "y"
          },
          {
           "hovertemplate": "<b>%{hovertext}</b><br><br>region=France<br>Year=%{x}<br>Nb of athletes=%{marker.size}<extra></extra>",
           "hovertext": [
            "France"
           ],
           "ids": [
            "France"
           ],
           "legendgroup": "France",
           "marker": {
            "color": "#EF553B",
            "size": [
             392
            ],
            "sizemode": "area",
            "sizeref": 1.8375,
            "symbol": "circle"
           },
           "mode": "markers",
           "name": "France",
           "orientation": "v",
           "showlegend": true,
           "type": "scatter",
           "x": [
            2016
           ],
           "xaxis": "x",
           "y": [
            392
           ],
           "yaxis": "y"
          },
          {
           "hovertemplate": "<b>%{hovertext}</b><br><br>region=Germany<br>Year=%{x}<br>Nb of athletes=%{marker.size}<extra></extra>",
           "hovertext": [
            "Germany"
           ],
           "ids": [
            "Germany"
           ],
           "legendgroup": "Germany",
           "marker": {
            "color": "#00cc96",
            "size": [
             418
            ],
            "sizemode": "area",
            "sizeref": 1.8375,
            "symbol": "circle"
           },
           "mode": "markers",
           "name": "Germany",
           "orientation": "v",
           "showlegend": true,
           "type": "scatter",
           "x": [
            2016
           ],
           "xaxis": "x",
           "y": [
            418
           ],
           "yaxis": "y"
          },
          {
           "hovertemplate": "<b>%{hovertext}</b><br><br>region=Italy<br>Year=%{x}<br>Nb of athletes=%{marker.size}<extra></extra>",
           "hovertext": [
            "Italy"
           ],
           "ids": [
            "Italy"
           ],
           "legendgroup": "Italy",
           "marker": {
            "color": "#ab63fa",
            "size": [
             309
            ],
            "sizemode": "area",
            "sizeref": 1.8375,
            "symbol": "circle"
           },
           "mode": "markers",
           "name": "Italy",
           "orientation": "v",
           "showlegend": true,
           "type": "scatter",
           "x": [
            2016
           ],
           "xaxis": "x",
           "y": [
            309
           ],
           "yaxis": "y"
          },
          {
           "hovertemplate": "<b>%{hovertext}</b><br><br>region=UK<br>Year=%{x}<br>Nb of athletes=%{marker.size}<extra></extra>",
           "hovertext": [
            "UK"
           ],
           "ids": [
            "UK"
           ],
           "legendgroup": "UK",
           "marker": {
            "color": "#FFA15A",
            "size": [
             360
            ],
            "sizemode": "area",
            "sizeref": 1.8375,
            "symbol": "circle"
           },
           "mode": "markers",
           "name": "UK",
           "orientation": "v",
           "showlegend": true,
           "type": "scatter",
           "x": [
            2016
           ],
           "xaxis": "x",
           "y": [
            360
           ],
           "yaxis": "y"
          },
          {
           "hovertemplate": "<b>%{hovertext}</b><br><br>region=USA<br>Year=%{x}<br>Nb of athletes=%{marker.size}<extra></extra>",
           "hovertext": [
            "USA"
           ],
           "ids": [
            "USA"
           ],
           "legendgroup": "USA",
           "marker": {
            "color": "#19d3f3",
            "size": [
             555
            ],
            "sizemode": "area",
            "sizeref": 1.8375,
            "symbol": "circle"
           },
           "mode": "markers",
           "name": "USA",
           "orientation": "v",
           "showlegend": true,
           "type": "scatter",
           "x": [
            2016
           ],
           "xaxis": "x",
           "y": [
            555
           ],
           "yaxis": "y"
          },
          {
           "hovertemplate": "<b>%{hovertext}</b><br><br>region=Russia<br>Year=%{x}<br>Nb of athletes=%{marker.size}<extra></extra>",
           "hovertext": [
            "Russia"
           ],
           "ids": [
            "Russia"
           ],
           "legendgroup": "Russia",
           "marker": {
            "color": "#FF6692",
            "size": [
             284
            ],
            "sizemode": "area",
            "sizeref": 1.8375,
            "symbol": "circle"
           },
           "mode": "markers",
           "name": "Russia",
           "orientation": "v",
           "showlegend": true,
           "type": "scatter",
           "x": [
            2016
           ],
           "xaxis": "x",
           "y": [
            284
           ],
           "yaxis": "y"
          },
          {
           "hovertemplate": "<b>%{hovertext}</b><br><br>region=Japan<br>Year=%{x}<br>Nb of athletes=%{marker.size}<extra></extra>",
           "hovertext": [
            "Japan"
           ],
           "ids": [
            "Japan"
           ],
           "legendgroup": "Japan",
           "marker": {
            "color": "#B6E880",
            "size": [
             335
            ],
            "sizemode": "area",
            "sizeref": 1.8375,
            "symbol": "circle"
           },
           "mode": "markers",
           "name": "Japan",
           "orientation": "v",
           "showlegend": true,
           "type": "scatter",
           "x": [
            2016
           ],
           "xaxis": "x",
           "y": [
            335
           ],
           "yaxis": "y"
          },
          {
           "hovertemplate": "<b>%{hovertext}</b><br><br>region=China<br>Year=%{x}<br>Nb of athletes=%{marker.size}<extra></extra>",
           "hovertext": [
            "China"
           ],
           "ids": [
            "China"
           ],
           "legendgroup": "China",
           "marker": {
            "color": "#FF97FF",
            "size": [
             429
            ],
            "sizemode": "area",
            "sizeref": 1.8375,
            "symbol": "circle"
           },
           "mode": "markers",
           "name": "China",
           "orientation": "v",
           "showlegend": true,
           "type": "scatter",
           "x": [
            2016
           ],
           "xaxis": "x",
           "y": [
            429
           ],
           "yaxis": "y"
          },
          {
           "hovertemplate": "<b>%{hovertext}</b><br><br>region=Ukraine<br>Year=%{x}<br>Nb of athletes=%{marker.size}<extra></extra>",
           "hovertext": [
            "Ukraine"
           ],
           "ids": [
            "Ukraine"
           ],
           "legendgroup": "Ukraine",
           "marker": {
            "color": "#FECB52",
            "size": [
             204
            ],
            "sizemode": "area",
            "sizeref": 1.8375,
            "symbol": "circle"
           },
           "mode": "markers",
           "name": "Ukraine",
           "orientation": "v",
           "showlegend": true,
           "type": "scatter",
           "x": [
            2016
           ],
           "xaxis": "x",
           "y": [
            204
           ],
           "yaxis": "y"
          }
         ],
         "name": "2016"
        }
       ],
       "layout": {
        "legend": {
         "itemsizing": "constant",
         "title": {
          "text": "region"
         },
         "tracegroupgap": 0
        },
        "sliders": [
         {
          "active": 0,
          "currentvalue": {
           "prefix": "Year="
          },
          "len": 0.9,
          "pad": {
           "b": 10,
           "t": 60
          },
          "steps": [
           {
            "args": [
             [
              "1896"
             ],
             {
              "frame": {
               "duration": 0,
               "redraw": false
              },
              "fromcurrent": true,
              "mode": "immediate",
              "transition": {
               "duration": 0,
               "easing": "linear"
              }
             }
            ],
            "label": "1896",
            "method": "animate"
           },
           {
            "args": [
             [
              "1900"
             ],
             {
              "frame": {
               "duration": 0,
               "redraw": false
              },
              "fromcurrent": true,
              "mode": "immediate",
              "transition": {
               "duration": 0,
               "easing": "linear"
              }
             }
            ],
            "label": "1900",
            "method": "animate"
           },
           {
            "args": [
             [
              "1904"
             ],
             {
              "frame": {
               "duration": 0,
               "redraw": false
              },
              "fromcurrent": true,
              "mode": "immediate",
              "transition": {
               "duration": 0,
               "easing": "linear"
              }
             }
            ],
            "label": "1904",
            "method": "animate"
           },
           {
            "args": [
             [
              "1906"
             ],
             {
              "frame": {
               "duration": 0,
               "redraw": false
              },
              "fromcurrent": true,
              "mode": "immediate",
              "transition": {
               "duration": 0,
               "easing": "linear"
              }
             }
            ],
            "label": "1906",
            "method": "animate"
           },
           {
            "args": [
             [
              "1908"
             ],
             {
              "frame": {
               "duration": 0,
               "redraw": false
              },
              "fromcurrent": true,
              "mode": "immediate",
              "transition": {
               "duration": 0,
               "easing": "linear"
              }
             }
            ],
            "label": "1908",
            "method": "animate"
           },
           {
            "args": [
             [
              "1912"
             ],
             {
              "frame": {
               "duration": 0,
               "redraw": false
              },
              "fromcurrent": true,
              "mode": "immediate",
              "transition": {
               "duration": 0,
               "easing": "linear"
              }
             }
            ],
            "label": "1912",
            "method": "animate"
           },
           {
            "args": [
             [
              "1920"
             ],
             {
              "frame": {
               "duration": 0,
               "redraw": false
              },
              "fromcurrent": true,
              "mode": "immediate",
              "transition": {
               "duration": 0,
               "easing": "linear"
              }
             }
            ],
            "label": "1920",
            "method": "animate"
           },
           {
            "args": [
             [
              "1924"
             ],
             {
              "frame": {
               "duration": 0,
               "redraw": false
              },
              "fromcurrent": true,
              "mode": "immediate",
              "transition": {
               "duration": 0,
               "easing": "linear"
              }
             }
            ],
            "label": "1924",
            "method": "animate"
           },
           {
            "args": [
             [
              "1928"
             ],
             {
              "frame": {
               "duration": 0,
               "redraw": false
              },
              "fromcurrent": true,
              "mode": "immediate",
              "transition": {
               "duration": 0,
               "easing": "linear"
              }
             }
            ],
            "label": "1928",
            "method": "animate"
           },
           {
            "args": [
             [
              "1932"
             ],
             {
              "frame": {
               "duration": 0,
               "redraw": false
              },
              "fromcurrent": true,
              "mode": "immediate",
              "transition": {
               "duration": 0,
               "easing": "linear"
              }
             }
            ],
            "label": "1932",
            "method": "animate"
           },
           {
            "args": [
             [
              "1936"
             ],
             {
              "frame": {
               "duration": 0,
               "redraw": false
              },
              "fromcurrent": true,
              "mode": "immediate",
              "transition": {
               "duration": 0,
               "easing": "linear"
              }
             }
            ],
            "label": "1936",
            "method": "animate"
           },
           {
            "args": [
             [
              "1948"
             ],
             {
              "frame": {
               "duration": 0,
               "redraw": false
              },
              "fromcurrent": true,
              "mode": "immediate",
              "transition": {
               "duration": 0,
               "easing": "linear"
              }
             }
            ],
            "label": "1948",
            "method": "animate"
           },
           {
            "args": [
             [
              "1952"
             ],
             {
              "frame": {
               "duration": 0,
               "redraw": false
              },
              "fromcurrent": true,
              "mode": "immediate",
              "transition": {
               "duration": 0,
               "easing": "linear"
              }
             }
            ],
            "label": "1952",
            "method": "animate"
           },
           {
            "args": [
             [
              "1956"
             ],
             {
              "frame": {
               "duration": 0,
               "redraw": false
              },
              "fromcurrent": true,
              "mode": "immediate",
              "transition": {
               "duration": 0,
               "easing": "linear"
              }
             }
            ],
            "label": "1956",
            "method": "animate"
           },
           {
            "args": [
             [
              "1960"
             ],
             {
              "frame": {
               "duration": 0,
               "redraw": false
              },
              "fromcurrent": true,
              "mode": "immediate",
              "transition": {
               "duration": 0,
               "easing": "linear"
              }
             }
            ],
            "label": "1960",
            "method": "animate"
           },
           {
            "args": [
             [
              "1964"
             ],
             {
              "frame": {
               "duration": 0,
               "redraw": false
              },
              "fromcurrent": true,
              "mode": "immediate",
              "transition": {
               "duration": 0,
               "easing": "linear"
              }
             }
            ],
            "label": "1964",
            "method": "animate"
           },
           {
            "args": [
             [
              "1968"
             ],
             {
              "frame": {
               "duration": 0,
               "redraw": false
              },
              "fromcurrent": true,
              "mode": "immediate",
              "transition": {
               "duration": 0,
               "easing": "linear"
              }
             }
            ],
            "label": "1968",
            "method": "animate"
           },
           {
            "args": [
             [
              "1972"
             ],
             {
              "frame": {
               "duration": 0,
               "redraw": false
              },
              "fromcurrent": true,
              "mode": "immediate",
              "transition": {
               "duration": 0,
               "easing": "linear"
              }
             }
            ],
            "label": "1972",
            "method": "animate"
           },
           {
            "args": [
             [
              "1976"
             ],
             {
              "frame": {
               "duration": 0,
               "redraw": false
              },
              "fromcurrent": true,
              "mode": "immediate",
              "transition": {
               "duration": 0,
               "easing": "linear"
              }
             }
            ],
            "label": "1976",
            "method": "animate"
           },
           {
            "args": [
             [
              "1980"
             ],
             {
              "frame": {
               "duration": 0,
               "redraw": false
              },
              "fromcurrent": true,
              "mode": "immediate",
              "transition": {
               "duration": 0,
               "easing": "linear"
              }
             }
            ],
            "label": "1980",
            "method": "animate"
           },
           {
            "args": [
             [
              "1984"
             ],
             {
              "frame": {
               "duration": 0,
               "redraw": false
              },
              "fromcurrent": true,
              "mode": "immediate",
              "transition": {
               "duration": 0,
               "easing": "linear"
              }
             }
            ],
            "label": "1984",
            "method": "animate"
           },
           {
            "args": [
             [
              "1988"
             ],
             {
              "frame": {
               "duration": 0,
               "redraw": false
              },
              "fromcurrent": true,
              "mode": "immediate",
              "transition": {
               "duration": 0,
               "easing": "linear"
              }
             }
            ],
            "label": "1988",
            "method": "animate"
           },
           {
            "args": [
             [
              "1992"
             ],
             {
              "frame": {
               "duration": 0,
               "redraw": false
              },
              "fromcurrent": true,
              "mode": "immediate",
              "transition": {
               "duration": 0,
               "easing": "linear"
              }
             }
            ],
            "label": "1992",
            "method": "animate"
           },
           {
            "args": [
             [
              "1996"
             ],
             {
              "frame": {
               "duration": 0,
               "redraw": false
              },
              "fromcurrent": true,
              "mode": "immediate",
              "transition": {
               "duration": 0,
               "easing": "linear"
              }
             }
            ],
            "label": "1996",
            "method": "animate"
           },
           {
            "args": [
             [
              "2000"
             ],
             {
              "frame": {
               "duration": 0,
               "redraw": false
              },
              "fromcurrent": true,
              "mode": "immediate",
              "transition": {
               "duration": 0,
               "easing": "linear"
              }
             }
            ],
            "label": "2000",
            "method": "animate"
           },
           {
            "args": [
             [
              "2004"
             ],
             {
              "frame": {
               "duration": 0,
               "redraw": false
              },
              "fromcurrent": true,
              "mode": "immediate",
              "transition": {
               "duration": 0,
               "easing": "linear"
              }
             }
            ],
            "label": "2004",
            "method": "animate"
           },
           {
            "args": [
             [
              "2008"
             ],
             {
              "frame": {
               "duration": 0,
               "redraw": false
              },
              "fromcurrent": true,
              "mode": "immediate",
              "transition": {
               "duration": 0,
               "easing": "linear"
              }
             }
            ],
            "label": "2008",
            "method": "animate"
           },
           {
            "args": [
             [
              "2012"
             ],
             {
              "frame": {
               "duration": 0,
               "redraw": false
              },
              "fromcurrent": true,
              "mode": "immediate",
              "transition": {
               "duration": 0,
               "easing": "linear"
              }
             }
            ],
            "label": "2012",
            "method": "animate"
           },
           {
            "args": [
             [
              "2016"
             ],
             {
              "frame": {
               "duration": 0,
               "redraw": false
              },
              "fromcurrent": true,
              "mode": "immediate",
              "transition": {
               "duration": 0,
               "easing": "linear"
              }
             }
            ],
            "label": "2016",
            "method": "animate"
           }
          ],
          "x": 0.1,
          "xanchor": "left",
          "y": 0,
          "yanchor": "top"
         }
        ],
        "template": {
         "data": {
          "bar": [
           {
            "error_x": {
             "color": "#2a3f5f"
            },
            "error_y": {
             "color": "#2a3f5f"
            },
            "marker": {
             "line": {
              "color": "#E5ECF6",
              "width": 0.5
             },
             "pattern": {
              "fillmode": "overlay",
              "size": 10,
              "solidity": 0.2
             }
            },
            "type": "bar"
           }
          ],
          "barpolar": [
           {
            "marker": {
             "line": {
              "color": "#E5ECF6",
              "width": 0.5
             },
             "pattern": {
              "fillmode": "overlay",
              "size": 10,
              "solidity": 0.2
             }
            },
            "type": "barpolar"
           }
          ],
          "carpet": [
           {
            "aaxis": {
             "endlinecolor": "#2a3f5f",
             "gridcolor": "white",
             "linecolor": "white",
             "minorgridcolor": "white",
             "startlinecolor": "#2a3f5f"
            },
            "baxis": {
             "endlinecolor": "#2a3f5f",
             "gridcolor": "white",
             "linecolor": "white",
             "minorgridcolor": "white",
             "startlinecolor": "#2a3f5f"
            },
            "type": "carpet"
           }
          ],
          "choropleth": [
           {
            "colorbar": {
             "outlinewidth": 0,
             "ticks": ""
            },
            "type": "choropleth"
           }
          ],
          "contour": [
           {
            "colorbar": {
             "outlinewidth": 0,
             "ticks": ""
            },
            "colorscale": [
             [
              0,
              "#0d0887"
             ],
             [
              0.1111111111111111,
              "#46039f"
             ],
             [
              0.2222222222222222,
              "#7201a8"
             ],
             [
              0.3333333333333333,
              "#9c179e"
             ],
             [
              0.4444444444444444,
              "#bd3786"
             ],
             [
              0.5555555555555556,
              "#d8576b"
             ],
             [
              0.6666666666666666,
              "#ed7953"
             ],
             [
              0.7777777777777778,
              "#fb9f3a"
             ],
             [
              0.8888888888888888,
              "#fdca26"
             ],
             [
              1,
              "#f0f921"
             ]
            ],
            "type": "contour"
           }
          ],
          "contourcarpet": [
           {
            "colorbar": {
             "outlinewidth": 0,
             "ticks": ""
            },
            "type": "contourcarpet"
           }
          ],
          "heatmap": [
           {
            "colorbar": {
             "outlinewidth": 0,
             "ticks": ""
            },
            "colorscale": [
             [
              0,
              "#0d0887"
             ],
             [
              0.1111111111111111,
              "#46039f"
             ],
             [
              0.2222222222222222,
              "#7201a8"
             ],
             [
              0.3333333333333333,
              "#9c179e"
             ],
             [
              0.4444444444444444,
              "#bd3786"
             ],
             [
              0.5555555555555556,
              "#d8576b"
             ],
             [
              0.6666666666666666,
              "#ed7953"
             ],
             [
              0.7777777777777778,
              "#fb9f3a"
             ],
             [
              0.8888888888888888,
              "#fdca26"
             ],
             [
              1,
              "#f0f921"
             ]
            ],
            "type": "heatmap"
           }
          ],
          "heatmapgl": [
           {
            "colorbar": {
             "outlinewidth": 0,
             "ticks": ""
            },
            "colorscale": [
             [
              0,
              "#0d0887"
             ],
             [
              0.1111111111111111,
              "#46039f"
             ],
             [
              0.2222222222222222,
              "#7201a8"
             ],
             [
              0.3333333333333333,
              "#9c179e"
             ],
             [
              0.4444444444444444,
              "#bd3786"
             ],
             [
              0.5555555555555556,
              "#d8576b"
             ],
             [
              0.6666666666666666,
              "#ed7953"
             ],
             [
              0.7777777777777778,
              "#fb9f3a"
             ],
             [
              0.8888888888888888,
              "#fdca26"
             ],
             [
              1,
              "#f0f921"
             ]
            ],
            "type": "heatmapgl"
           }
          ],
          "histogram": [
           {
            "marker": {
             "pattern": {
              "fillmode": "overlay",
              "size": 10,
              "solidity": 0.2
             }
            },
            "type": "histogram"
           }
          ],
          "histogram2d": [
           {
            "colorbar": {
             "outlinewidth": 0,
             "ticks": ""
            },
            "colorscale": [
             [
              0,
              "#0d0887"
             ],
             [
              0.1111111111111111,
              "#46039f"
             ],
             [
              0.2222222222222222,
              "#7201a8"
             ],
             [
              0.3333333333333333,
              "#9c179e"
             ],
             [
              0.4444444444444444,
              "#bd3786"
             ],
             [
              0.5555555555555556,
              "#d8576b"
             ],
             [
              0.6666666666666666,
              "#ed7953"
             ],
             [
              0.7777777777777778,
              "#fb9f3a"
             ],
             [
              0.8888888888888888,
              "#fdca26"
             ],
             [
              1,
              "#f0f921"
             ]
            ],
            "type": "histogram2d"
           }
          ],
          "histogram2dcontour": [
           {
            "colorbar": {
             "outlinewidth": 0,
             "ticks": ""
            },
            "colorscale": [
             [
              0,
              "#0d0887"
             ],
             [
              0.1111111111111111,
              "#46039f"
             ],
             [
              0.2222222222222222,
              "#7201a8"
             ],
             [
              0.3333333333333333,
              "#9c179e"
             ],
             [
              0.4444444444444444,
              "#bd3786"
             ],
             [
              0.5555555555555556,
              "#d8576b"
             ],
             [
              0.6666666666666666,
              "#ed7953"
             ],
             [
              0.7777777777777778,
              "#fb9f3a"
             ],
             [
              0.8888888888888888,
              "#fdca26"
             ],
             [
              1,
              "#f0f921"
             ]
            ],
            "type": "histogram2dcontour"
           }
          ],
          "mesh3d": [
           {
            "colorbar": {
             "outlinewidth": 0,
             "ticks": ""
            },
            "type": "mesh3d"
           }
          ],
          "parcoords": [
           {
            "line": {
             "colorbar": {
              "outlinewidth": 0,
              "ticks": ""
             }
            },
            "type": "parcoords"
           }
          ],
          "pie": [
           {
            "automargin": true,
            "type": "pie"
           }
          ],
          "scatter": [
           {
            "fillpattern": {
             "fillmode": "overlay",
             "size": 10,
             "solidity": 0.2
            },
            "type": "scatter"
           }
          ],
          "scatter3d": [
           {
            "line": {
             "colorbar": {
              "outlinewidth": 0,
              "ticks": ""
             }
            },
            "marker": {
             "colorbar": {
              "outlinewidth": 0,
              "ticks": ""
             }
            },
            "type": "scatter3d"
           }
          ],
          "scattercarpet": [
           {
            "marker": {
             "colorbar": {
              "outlinewidth": 0,
              "ticks": ""
             }
            },
            "type": "scattercarpet"
           }
          ],
          "scattergeo": [
           {
            "marker": {
             "colorbar": {
              "outlinewidth": 0,
              "ticks": ""
             }
            },
            "type": "scattergeo"
           }
          ],
          "scattergl": [
           {
            "marker": {
             "colorbar": {
              "outlinewidth": 0,
              "ticks": ""
             }
            },
            "type": "scattergl"
           }
          ],
          "scattermapbox": [
           {
            "marker": {
             "colorbar": {
              "outlinewidth": 0,
              "ticks": ""
             }
            },
            "type": "scattermapbox"
           }
          ],
          "scatterpolar": [
           {
            "marker": {
             "colorbar": {
              "outlinewidth": 0,
              "ticks": ""
             }
            },
            "type": "scatterpolar"
           }
          ],
          "scatterpolargl": [
           {
            "marker": {
             "colorbar": {
              "outlinewidth": 0,
              "ticks": ""
             }
            },
            "type": "scatterpolargl"
           }
          ],
          "scatterternary": [
           {
            "marker": {
             "colorbar": {
              "outlinewidth": 0,
              "ticks": ""
             }
            },
            "type": "scatterternary"
           }
          ],
          "surface": [
           {
            "colorbar": {
             "outlinewidth": 0,
             "ticks": ""
            },
            "colorscale": [
             [
              0,
              "#0d0887"
             ],
             [
              0.1111111111111111,
              "#46039f"
             ],
             [
              0.2222222222222222,
              "#7201a8"
             ],
             [
              0.3333333333333333,
              "#9c179e"
             ],
             [
              0.4444444444444444,
              "#bd3786"
             ],
             [
              0.5555555555555556,
              "#d8576b"
             ],
             [
              0.6666666666666666,
              "#ed7953"
             ],
             [
              0.7777777777777778,
              "#fb9f3a"
             ],
             [
              0.8888888888888888,
              "#fdca26"
             ],
             [
              1,
              "#f0f921"
             ]
            ],
            "type": "surface"
           }
          ],
          "table": [
           {
            "cells": {
             "fill": {
              "color": "#EBF0F8"
             },
             "line": {
              "color": "white"
             }
            },
            "header": {
             "fill": {
              "color": "#C8D4E3"
             },
             "line": {
              "color": "white"
             }
            },
            "type": "table"
           }
          ]
         },
         "layout": {
          "annotationdefaults": {
           "arrowcolor": "#2a3f5f",
           "arrowhead": 0,
           "arrowwidth": 1
          },
          "autotypenumbers": "strict",
          "coloraxis": {
           "colorbar": {
            "outlinewidth": 0,
            "ticks": ""
           }
          },
          "colorscale": {
           "diverging": [
            [
             0,
             "#8e0152"
            ],
            [
             0.1,
             "#c51b7d"
            ],
            [
             0.2,
             "#de77ae"
            ],
            [
             0.3,
             "#f1b6da"
            ],
            [
             0.4,
             "#fde0ef"
            ],
            [
             0.5,
             "#f7f7f7"
            ],
            [
             0.6,
             "#e6f5d0"
            ],
            [
             0.7,
             "#b8e186"
            ],
            [
             0.8,
             "#7fbc41"
            ],
            [
             0.9,
             "#4d9221"
            ],
            [
             1,
             "#276419"
            ]
           ],
           "sequential": [
            [
             0,
             "#0d0887"
            ],
            [
             0.1111111111111111,
             "#46039f"
            ],
            [
             0.2222222222222222,
             "#7201a8"
            ],
            [
             0.3333333333333333,
             "#9c179e"
            ],
            [
             0.4444444444444444,
             "#bd3786"
            ],
            [
             0.5555555555555556,
             "#d8576b"
            ],
            [
             0.6666666666666666,
             "#ed7953"
            ],
            [
             0.7777777777777778,
             "#fb9f3a"
            ],
            [
             0.8888888888888888,
             "#fdca26"
            ],
            [
             1,
             "#f0f921"
            ]
           ],
           "sequentialminus": [
            [
             0,
             "#0d0887"
            ],
            [
             0.1111111111111111,
             "#46039f"
            ],
            [
             0.2222222222222222,
             "#7201a8"
            ],
            [
             0.3333333333333333,
             "#9c179e"
            ],
            [
             0.4444444444444444,
             "#bd3786"
            ],
            [
             0.5555555555555556,
             "#d8576b"
            ],
            [
             0.6666666666666666,
             "#ed7953"
            ],
            [
             0.7777777777777778,
             "#fb9f3a"
            ],
            [
             0.8888888888888888,
             "#fdca26"
            ],
            [
             1,
             "#f0f921"
            ]
           ]
          },
          "colorway": [
           "#636efa",
           "#EF553B",
           "#00cc96",
           "#ab63fa",
           "#FFA15A",
           "#19d3f3",
           "#FF6692",
           "#B6E880",
           "#FF97FF",
           "#FECB52"
          ],
          "font": {
           "color": "#2a3f5f"
          },
          "geo": {
           "bgcolor": "white",
           "lakecolor": "white",
           "landcolor": "#E5ECF6",
           "showlakes": true,
           "showland": true,
           "subunitcolor": "white"
          },
          "hoverlabel": {
           "align": "left"
          },
          "hovermode": "closest",
          "mapbox": {
           "style": "light"
          },
          "paper_bgcolor": "white",
          "plot_bgcolor": "#E5ECF6",
          "polar": {
           "angularaxis": {
            "gridcolor": "white",
            "linecolor": "white",
            "ticks": ""
           },
           "bgcolor": "#E5ECF6",
           "radialaxis": {
            "gridcolor": "white",
            "linecolor": "white",
            "ticks": ""
           }
          },
          "scene": {
           "xaxis": {
            "backgroundcolor": "#E5ECF6",
            "gridcolor": "white",
            "gridwidth": 2,
            "linecolor": "white",
            "showbackground": true,
            "ticks": "",
            "zerolinecolor": "white"
           },
           "yaxis": {
            "backgroundcolor": "#E5ECF6",
            "gridcolor": "white",
            "gridwidth": 2,
            "linecolor": "white",
            "showbackground": true,
            "ticks": "",
            "zerolinecolor": "white"
           },
           "zaxis": {
            "backgroundcolor": "#E5ECF6",
            "gridcolor": "white",
            "gridwidth": 2,
            "linecolor": "white",
            "showbackground": true,
            "ticks": "",
            "zerolinecolor": "white"
           }
          },
          "shapedefaults": {
           "line": {
            "color": "#2a3f5f"
           }
          },
          "ternary": {
           "aaxis": {
            "gridcolor": "white",
            "linecolor": "white",
            "ticks": ""
           },
           "baxis": {
            "gridcolor": "white",
            "linecolor": "white",
            "ticks": ""
           },
           "bgcolor": "#E5ECF6",
           "caxis": {
            "gridcolor": "white",
            "linecolor": "white",
            "ticks": ""
           }
          },
          "title": {
           "x": 0.05
          },
          "xaxis": {
           "automargin": true,
           "gridcolor": "white",
           "linecolor": "white",
           "ticks": "",
           "title": {
            "standoff": 15
           },
           "zerolinecolor": "white",
           "zerolinewidth": 2
          },
          "yaxis": {
           "automargin": true,
           "gridcolor": "white",
           "linecolor": "white",
           "ticks": "",
           "title": {
            "standoff": 15
           },
           "zerolinecolor": "white",
           "zerolinewidth": 2
          }
         }
        },
        "title": {
         "text": "Number of athletes per year and per country"
        },
        "updatemenus": [
         {
          "buttons": [
           {
            "args": [
             null,
             {
              "frame": {
               "duration": 500,
               "redraw": false
              },
              "fromcurrent": true,
              "mode": "immediate",
              "transition": {
               "duration": 500,
               "easing": "linear"
              }
             }
            ],
            "label": "&#9654;",
            "method": "animate"
           },
           {
            "args": [
             [
              null
             ],
             {
              "frame": {
               "duration": 0,
               "redraw": false
              },
              "fromcurrent": true,
              "mode": "immediate",
              "transition": {
               "duration": 0,
               "easing": "linear"
              }
             }
            ],
            "label": "&#9724;",
            "method": "animate"
           }
          ],
          "direction": "left",
          "pad": {
           "r": 10,
           "t": 70
          },
          "showactive": false,
          "type": "buttons",
          "x": 0.1,
          "xanchor": "right",
          "y": 0,
          "yanchor": "top"
         }
        ],
        "xaxis": {
         "anchor": "y",
         "categoryarray": [
          1896,
          1900,
          1904,
          1906,
          1908,
          1912,
          1920,
          1924,
          1928,
          1932,
          1936,
          1948,
          1952,
          1956,
          1960,
          1964,
          1968,
          1972,
          1976,
          1980,
          1984,
          1988,
          1992,
          1996,
          2000,
          2004,
          2008,
          2012,
          2016
         ],
         "categoryorder": "array",
         "domain": [
          0,
          1
         ],
         "range": [
          1890,
          2016
         ],
         "title": {
          "text": "Year"
         }
        },
        "yaxis": {
         "anchor": "x",
         "domain": [
          0,
          1
         ],
         "range": [
          0,
          1000
         ],
         "title": {
          "text": "Nb of athletes"
         }
        }
       }
      }
     },
     "metadata": {},
     "output_type": "display_data"
    }
   ],
   "source": [
    "# we animate the graph to see the evolution of the number of athletes per year and per country in summer games\n",
    "fig = px.scatter(athletes_per_country_summer[athletes_per_country_summer['region'].isin(top_10_countries_summer.index)], x=\"Year\", y=\"Nb of athletes\", color=\"region\", animation_frame=\"Year\", animation_group=\"region\", size=\"Nb of athletes\", hover_name=\"region\", range_x=[1890,2016], range_y=[0,1000], title=\"Number of athletes per year and per country\")\n",
    "fig.show()  "
   ]
  },
  {
   "cell_type": "code",
   "execution_count": 84,
   "metadata": {},
   "outputs": [
    {
     "data": {
      "application/vnd.plotly.v1+json": {
       "config": {
        "plotlyServerURL": "https://plot.ly"
       },
       "data": [
        {
         "hovertemplate": "<b>%{hovertext}</b><br><br>region=Austria<br>Year=%{x}<br>Nb of athletes=%{marker.size}<extra></extra>",
         "hovertext": [
          "Austria"
         ],
         "ids": [
          "Austria"
         ],
         "legendgroup": "Austria",
         "marker": {
          "color": "#636efa",
          "size": [
           4
          ],
          "sizemode": "area",
          "sizeref": 0.555,
          "symbol": "circle"
         },
         "mode": "markers",
         "name": "Austria",
         "orientation": "v",
         "showlegend": true,
         "type": "scatter",
         "x": [
          1924
         ],
         "xaxis": "x",
         "y": [
          4
         ],
         "yaxis": "y"
        },
        {
         "hovertemplate": "<b>%{hovertext}</b><br><br>region=Canada<br>Year=%{x}<br>Nb of athletes=%{marker.size}<extra></extra>",
         "hovertext": [
          "Canada"
         ],
         "ids": [
          "Canada"
         ],
         "legendgroup": "Canada",
         "marker": {
          "color": "#EF553B",
          "size": [
           12
          ],
          "sizemode": "area",
          "sizeref": 0.555,
          "symbol": "circle"
         },
         "mode": "markers",
         "name": "Canada",
         "orientation": "v",
         "showlegend": true,
         "type": "scatter",
         "x": [
          1924
         ],
         "xaxis": "x",
         "y": [
          12
         ],
         "yaxis": "y"
        },
        {
         "hovertemplate": "<b>%{hovertext}</b><br><br>region=Italy<br>Year=%{x}<br>Nb of athletes=%{marker.size}<extra></extra>",
         "hovertext": [
          "Italy"
         ],
         "ids": [
          "Italy"
         ],
         "legendgroup": "Italy",
         "marker": {
          "color": "#00cc96",
          "size": [
           23
          ],
          "sizemode": "area",
          "sizeref": 0.555,
          "symbol": "circle"
         },
         "mode": "markers",
         "name": "Italy",
         "orientation": "v",
         "showlegend": true,
         "type": "scatter",
         "x": [
          1924
         ],
         "xaxis": "x",
         "y": [
          23
         ],
         "yaxis": "y"
        },
        {
         "hovertemplate": "<b>%{hovertext}</b><br><br>region=Norway<br>Year=%{x}<br>Nb of athletes=%{marker.size}<extra></extra>",
         "hovertext": [
          "Norway"
         ],
         "ids": [
          "Norway"
         ],
         "legendgroup": "Norway",
         "marker": {
          "color": "#ab63fa",
          "size": [
           14
          ],
          "sizemode": "area",
          "sizeref": 0.555,
          "symbol": "circle"
         },
         "mode": "markers",
         "name": "Norway",
         "orientation": "v",
         "showlegend": true,
         "type": "scatter",
         "x": [
          1924
         ],
         "xaxis": "x",
         "y": [
          14
         ],
         "yaxis": "y"
        },
        {
         "hovertemplate": "<b>%{hovertext}</b><br><br>region=Sweden<br>Year=%{x}<br>Nb of athletes=%{marker.size}<extra></extra>",
         "hovertext": [
          "Sweden"
         ],
         "ids": [
          "Sweden"
         ],
         "legendgroup": "Sweden",
         "marker": {
          "color": "#FFA15A",
          "size": [
           31
          ],
          "sizemode": "area",
          "sizeref": 0.555,
          "symbol": "circle"
         },
         "mode": "markers",
         "name": "Sweden",
         "orientation": "v",
         "showlegend": true,
         "type": "scatter",
         "x": [
          1924
         ],
         "xaxis": "x",
         "y": [
          31
         ],
         "yaxis": "y"
        },
        {
         "hovertemplate": "<b>%{hovertext}</b><br><br>region=Switzerland<br>Year=%{x}<br>Nb of athletes=%{marker.size}<extra></extra>",
         "hovertext": [
          "Switzerland"
         ],
         "ids": [
          "Switzerland"
         ],
         "legendgroup": "Switzerland",
         "marker": {
          "color": "#19d3f3",
          "size": [
           30
          ],
          "sizemode": "area",
          "sizeref": 0.555,
          "symbol": "circle"
         },
         "mode": "markers",
         "name": "Switzerland",
         "orientation": "v",
         "showlegend": true,
         "type": "scatter",
         "x": [
          1924
         ],
         "xaxis": "x",
         "y": [
          30
         ],
         "yaxis": "y"
        },
        {
         "hovertemplate": "<b>%{hovertext}</b><br><br>region=USA<br>Year=%{x}<br>Nb of athletes=%{marker.size}<extra></extra>",
         "hovertext": [
          "USA"
         ],
         "ids": [
          "USA"
         ],
         "legendgroup": "USA",
         "marker": {
          "color": "#FF6692",
          "size": [
           24
          ],
          "sizemode": "area",
          "sizeref": 0.555,
          "symbol": "circle"
         },
         "mode": "markers",
         "name": "USA",
         "orientation": "v",
         "showlegend": true,
         "type": "scatter",
         "x": [
          1924
         ],
         "xaxis": "x",
         "y": [
          24
         ],
         "yaxis": "y"
        }
       ],
       "frames": [
        {
         "data": [
          {
           "hovertemplate": "<b>%{hovertext}</b><br><br>region=Austria<br>Year=%{x}<br>Nb of athletes=%{marker.size}<extra></extra>",
           "hovertext": [
            "Austria"
           ],
           "ids": [
            "Austria"
           ],
           "legendgroup": "Austria",
           "marker": {
            "color": "#636efa",
            "size": [
             4
            ],
            "sizemode": "area",
            "sizeref": 0.555,
            "symbol": "circle"
           },
           "mode": "markers",
           "name": "Austria",
           "orientation": "v",
           "showlegend": true,
           "type": "scatter",
           "x": [
            1924
           ],
           "xaxis": "x",
           "y": [
            4
           ],
           "yaxis": "y"
          },
          {
           "hovertemplate": "<b>%{hovertext}</b><br><br>region=Canada<br>Year=%{x}<br>Nb of athletes=%{marker.size}<extra></extra>",
           "hovertext": [
            "Canada"
           ],
           "ids": [
            "Canada"
           ],
           "legendgroup": "Canada",
           "marker": {
            "color": "#EF553B",
            "size": [
             12
            ],
            "sizemode": "area",
            "sizeref": 0.555,
            "symbol": "circle"
           },
           "mode": "markers",
           "name": "Canada",
           "orientation": "v",
           "showlegend": true,
           "type": "scatter",
           "x": [
            1924
           ],
           "xaxis": "x",
           "y": [
            12
           ],
           "yaxis": "y"
          },
          {
           "hovertemplate": "<b>%{hovertext}</b><br><br>region=Italy<br>Year=%{x}<br>Nb of athletes=%{marker.size}<extra></extra>",
           "hovertext": [
            "Italy"
           ],
           "ids": [
            "Italy"
           ],
           "legendgroup": "Italy",
           "marker": {
            "color": "#00cc96",
            "size": [
             23
            ],
            "sizemode": "area",
            "sizeref": 0.555,
            "symbol": "circle"
           },
           "mode": "markers",
           "name": "Italy",
           "orientation": "v",
           "showlegend": true,
           "type": "scatter",
           "x": [
            1924
           ],
           "xaxis": "x",
           "y": [
            23
           ],
           "yaxis": "y"
          },
          {
           "hovertemplate": "<b>%{hovertext}</b><br><br>region=Norway<br>Year=%{x}<br>Nb of athletes=%{marker.size}<extra></extra>",
           "hovertext": [
            "Norway"
           ],
           "ids": [
            "Norway"
           ],
           "legendgroup": "Norway",
           "marker": {
            "color": "#ab63fa",
            "size": [
             14
            ],
            "sizemode": "area",
            "sizeref": 0.555,
            "symbol": "circle"
           },
           "mode": "markers",
           "name": "Norway",
           "orientation": "v",
           "showlegend": true,
           "type": "scatter",
           "x": [
            1924
           ],
           "xaxis": "x",
           "y": [
            14
           ],
           "yaxis": "y"
          },
          {
           "hovertemplate": "<b>%{hovertext}</b><br><br>region=Sweden<br>Year=%{x}<br>Nb of athletes=%{marker.size}<extra></extra>",
           "hovertext": [
            "Sweden"
           ],
           "ids": [
            "Sweden"
           ],
           "legendgroup": "Sweden",
           "marker": {
            "color": "#FFA15A",
            "size": [
             31
            ],
            "sizemode": "area",
            "sizeref": 0.555,
            "symbol": "circle"
           },
           "mode": "markers",
           "name": "Sweden",
           "orientation": "v",
           "showlegend": true,
           "type": "scatter",
           "x": [
            1924
           ],
           "xaxis": "x",
           "y": [
            31
           ],
           "yaxis": "y"
          },
          {
           "hovertemplate": "<b>%{hovertext}</b><br><br>region=Switzerland<br>Year=%{x}<br>Nb of athletes=%{marker.size}<extra></extra>",
           "hovertext": [
            "Switzerland"
           ],
           "ids": [
            "Switzerland"
           ],
           "legendgroup": "Switzerland",
           "marker": {
            "color": "#19d3f3",
            "size": [
             30
            ],
            "sizemode": "area",
            "sizeref": 0.555,
            "symbol": "circle"
           },
           "mode": "markers",
           "name": "Switzerland",
           "orientation": "v",
           "showlegend": true,
           "type": "scatter",
           "x": [
            1924
           ],
           "xaxis": "x",
           "y": [
            30
           ],
           "yaxis": "y"
          },
          {
           "hovertemplate": "<b>%{hovertext}</b><br><br>region=USA<br>Year=%{x}<br>Nb of athletes=%{marker.size}<extra></extra>",
           "hovertext": [
            "USA"
           ],
           "ids": [
            "USA"
           ],
           "legendgroup": "USA",
           "marker": {
            "color": "#FF6692",
            "size": [
             24
            ],
            "sizemode": "area",
            "sizeref": 0.555,
            "symbol": "circle"
           },
           "mode": "markers",
           "name": "USA",
           "orientation": "v",
           "showlegend": true,
           "type": "scatter",
           "x": [
            1924
           ],
           "xaxis": "x",
           "y": [
            24
           ],
           "yaxis": "y"
          }
         ],
         "name": "1924"
        },
        {
         "data": [
          {
           "hovertemplate": "<b>%{hovertext}</b><br><br>region=Austria<br>Year=%{x}<br>Nb of athletes=%{marker.size}<extra></extra>",
           "hovertext": [
            "Austria"
           ],
           "ids": [
            "Austria"
           ],
           "legendgroup": "Austria",
           "marker": {
            "color": "#636efa",
            "size": [
             39
            ],
            "sizemode": "area",
            "sizeref": 0.555,
            "symbol": "circle"
           },
           "mode": "markers",
           "name": "Austria",
           "orientation": "v",
           "showlegend": true,
           "type": "scatter",
           "x": [
            1928
           ],
           "xaxis": "x",
           "y": [
            39
           ],
           "yaxis": "y"
          },
          {
           "hovertemplate": "<b>%{hovertext}</b><br><br>region=Canada<br>Year=%{x}<br>Nb of athletes=%{marker.size}<extra></extra>",
           "hovertext": [
            "Canada"
           ],
           "ids": [
            "Canada"
           ],
           "legendgroup": "Canada",
           "marker": {
            "color": "#EF553B",
            "size": [
             23
            ],
            "sizemode": "area",
            "sizeref": 0.555,
            "symbol": "circle"
           },
           "mode": "markers",
           "name": "Canada",
           "orientation": "v",
           "showlegend": true,
           "type": "scatter",
           "x": [
            1928
           ],
           "xaxis": "x",
           "y": [
            23
           ],
           "yaxis": "y"
          },
          {
           "hovertemplate": "<b>%{hovertext}</b><br><br>region=Italy<br>Year=%{x}<br>Nb of athletes=%{marker.size}<extra></extra>",
           "hovertext": [
            "Italy"
           ],
           "ids": [
            "Italy"
           ],
           "legendgroup": "Italy",
           "marker": {
            "color": "#00cc96",
            "size": [
             13
            ],
            "sizemode": "area",
            "sizeref": 0.555,
            "symbol": "circle"
           },
           "mode": "markers",
           "name": "Italy",
           "orientation": "v",
           "showlegend": true,
           "type": "scatter",
           "x": [
            1928
           ],
           "xaxis": "x",
           "y": [
            13
           ],
           "yaxis": "y"
          },
          {
           "hovertemplate": "<b>%{hovertext}</b><br><br>region=Norway<br>Year=%{x}<br>Nb of athletes=%{marker.size}<extra></extra>",
           "hovertext": [
            "Norway"
           ],
           "ids": [
            "Norway"
           ],
           "legendgroup": "Norway",
           "marker": {
            "color": "#ab63fa",
            "size": [
             25
            ],
            "sizemode": "area",
            "sizeref": 0.555,
            "symbol": "circle"
           },
           "mode": "markers",
           "name": "Norway",
           "orientation": "v",
           "showlegend": true,
           "type": "scatter",
           "x": [
            1928
           ],
           "xaxis": "x",
           "y": [
            25
           ],
           "yaxis": "y"
          },
          {
           "hovertemplate": "<b>%{hovertext}</b><br><br>region=Sweden<br>Year=%{x}<br>Nb of athletes=%{marker.size}<extra></extra>",
           "hovertext": [
            "Sweden"
           ],
           "ids": [
            "Sweden"
           ],
           "legendgroup": "Sweden",
           "marker": {
            "color": "#FFA15A",
            "size": [
             24
            ],
            "sizemode": "area",
            "sizeref": 0.555,
            "symbol": "circle"
           },
           "mode": "markers",
           "name": "Sweden",
           "orientation": "v",
           "showlegend": true,
           "type": "scatter",
           "x": [
            1928
           ],
           "xaxis": "x",
           "y": [
            24
           ],
           "yaxis": "y"
          },
          {
           "hovertemplate": "<b>%{hovertext}</b><br><br>region=Switzerland<br>Year=%{x}<br>Nb of athletes=%{marker.size}<extra></extra>",
           "hovertext": [
            "Switzerland"
           ],
           "ids": [
            "Switzerland"
           ],
           "legendgroup": "Switzerland",
           "marker": {
            "color": "#19d3f3",
            "size": [
             41
            ],
            "sizemode": "area",
            "sizeref": 0.555,
            "symbol": "circle"
           },
           "mode": "markers",
           "name": "Switzerland",
           "orientation": "v",
           "showlegend": true,
           "type": "scatter",
           "x": [
            1928
           ],
           "xaxis": "x",
           "y": [
            41
           ],
           "yaxis": "y"
          },
          {
           "hovertemplate": "<b>%{hovertext}</b><br><br>region=USA<br>Year=%{x}<br>Nb of athletes=%{marker.size}<extra></extra>",
           "hovertext": [
            "USA"
           ],
           "ids": [
            "USA"
           ],
           "legendgroup": "USA",
           "marker": {
            "color": "#FF6692",
            "size": [
             24
            ],
            "sizemode": "area",
            "sizeref": 0.555,
            "symbol": "circle"
           },
           "mode": "markers",
           "name": "USA",
           "orientation": "v",
           "showlegend": true,
           "type": "scatter",
           "x": [
            1928
           ],
           "xaxis": "x",
           "y": [
            24
           ],
           "yaxis": "y"
          },
          {
           "hovertemplate": "<b>%{hovertext}</b><br><br>region=Germany<br>Year=%{x}<br>Nb of athletes=%{marker.size}<extra></extra>",
           "hovertext": [
            "Germany"
           ],
           "ids": [
            "Germany"
           ],
           "legendgroup": "Germany",
           "marker": {
            "color": "#B6E880",
            "size": [
             44
            ],
            "sizemode": "area",
            "sizeref": 0.555,
            "symbol": "circle"
           },
           "mode": "markers",
           "name": "Germany",
           "orientation": "v",
           "showlegend": true,
           "type": "scatter",
           "x": [
            1928
           ],
           "xaxis": "x",
           "y": [
            44
           ],
           "yaxis": "y"
          },
          {
           "hovertemplate": "<b>%{hovertext}</b><br><br>region=Japan<br>Year=%{x}<br>Nb of athletes=%{marker.size}<extra></extra>",
           "hovertext": [
            "Japan"
           ],
           "ids": [
            "Japan"
           ],
           "legendgroup": "Japan",
           "marker": {
            "color": "#FF97FF",
            "size": [
             6
            ],
            "sizemode": "area",
            "sizeref": 0.555,
            "symbol": "circle"
           },
           "mode": "markers",
           "name": "Japan",
           "orientation": "v",
           "showlegend": true,
           "type": "scatter",
           "x": [
            1928
           ],
           "xaxis": "x",
           "y": [
            6
           ],
           "yaxis": "y"
          }
         ],
         "name": "1928"
        },
        {
         "data": [
          {
           "hovertemplate": "<b>%{hovertext}</b><br><br>region=Austria<br>Year=%{x}<br>Nb of athletes=%{marker.size}<extra></extra>",
           "hovertext": [
            "Austria"
           ],
           "ids": [
            "Austria"
           ],
           "legendgroup": "Austria",
           "marker": {
            "color": "#636efa",
            "size": [
             7
            ],
            "sizemode": "area",
            "sizeref": 0.555,
            "symbol": "circle"
           },
           "mode": "markers",
           "name": "Austria",
           "orientation": "v",
           "showlegend": true,
           "type": "scatter",
           "x": [
            1932
           ],
           "xaxis": "x",
           "y": [
            7
           ],
           "yaxis": "y"
          },
          {
           "hovertemplate": "<b>%{hovertext}</b><br><br>region=Canada<br>Year=%{x}<br>Nb of athletes=%{marker.size}<extra></extra>",
           "hovertext": [
            "Canada"
           ],
           "ids": [
            "Canada"
           ],
           "legendgroup": "Canada",
           "marker": {
            "color": "#EF553B",
            "size": [
             42
            ],
            "sizemode": "area",
            "sizeref": 0.555,
            "symbol": "circle"
           },
           "mode": "markers",
           "name": "Canada",
           "orientation": "v",
           "showlegend": true,
           "type": "scatter",
           "x": [
            1932
           ],
           "xaxis": "x",
           "y": [
            42
           ],
           "yaxis": "y"
          },
          {
           "hovertemplate": "<b>%{hovertext}</b><br><br>region=Italy<br>Year=%{x}<br>Nb of athletes=%{marker.size}<extra></extra>",
           "hovertext": [
            "Italy"
           ],
           "ids": [
            "Italy"
           ],
           "legendgroup": "Italy",
           "marker": {
            "color": "#00cc96",
            "size": [
             12
            ],
            "sizemode": "area",
            "sizeref": 0.555,
            "symbol": "circle"
           },
           "mode": "markers",
           "name": "Italy",
           "orientation": "v",
           "showlegend": true,
           "type": "scatter",
           "x": [
            1932
           ],
           "xaxis": "x",
           "y": [
            12
           ],
           "yaxis": "y"
          },
          {
           "hovertemplate": "<b>%{hovertext}</b><br><br>region=Norway<br>Year=%{x}<br>Nb of athletes=%{marker.size}<extra></extra>",
           "hovertext": [
            "Norway"
           ],
           "ids": [
            "Norway"
           ],
           "legendgroup": "Norway",
           "marker": {
            "color": "#ab63fa",
            "size": [
             19
            ],
            "sizemode": "area",
            "sizeref": 0.555,
            "symbol": "circle"
           },
           "mode": "markers",
           "name": "Norway",
           "orientation": "v",
           "showlegend": true,
           "type": "scatter",
           "x": [
            1932
           ],
           "xaxis": "x",
           "y": [
            19
           ],
           "yaxis": "y"
          },
          {
           "hovertemplate": "<b>%{hovertext}</b><br><br>region=Sweden<br>Year=%{x}<br>Nb of athletes=%{marker.size}<extra></extra>",
           "hovertext": [
            "Sweden"
           ],
           "ids": [
            "Sweden"
           ],
           "legendgroup": "Sweden",
           "marker": {
            "color": "#FFA15A",
            "size": [
             12
            ],
            "sizemode": "area",
            "sizeref": 0.555,
            "symbol": "circle"
           },
           "mode": "markers",
           "name": "Sweden",
           "orientation": "v",
           "showlegend": true,
           "type": "scatter",
           "x": [
            1932
           ],
           "xaxis": "x",
           "y": [
            12
           ],
           "yaxis": "y"
          },
          {
           "hovertemplate": "<b>%{hovertext}</b><br><br>region=Switzerland<br>Year=%{x}<br>Nb of athletes=%{marker.size}<extra></extra>",
           "hovertext": [
            "Switzerland"
           ],
           "ids": [
            "Switzerland"
           ],
           "legendgroup": "Switzerland",
           "marker": {
            "color": "#19d3f3",
            "size": [
             7
            ],
            "sizemode": "area",
            "sizeref": 0.555,
            "symbol": "circle"
           },
           "mode": "markers",
           "name": "Switzerland",
           "orientation": "v",
           "showlegend": true,
           "type": "scatter",
           "x": [
            1932
           ],
           "xaxis": "x",
           "y": [
            7
           ],
           "yaxis": "y"
          },
          {
           "hovertemplate": "<b>%{hovertext}</b><br><br>region=USA<br>Year=%{x}<br>Nb of athletes=%{marker.size}<extra></extra>",
           "hovertext": [
            "USA"
           ],
           "ids": [
            "USA"
           ],
           "legendgroup": "USA",
           "marker": {
            "color": "#FF6692",
            "size": [
             64
            ],
            "sizemode": "area",
            "sizeref": 0.555,
            "symbol": "circle"
           },
           "mode": "markers",
           "name": "USA",
           "orientation": "v",
           "showlegend": true,
           "type": "scatter",
           "x": [
            1932
           ],
           "xaxis": "x",
           "y": [
            64
           ],
           "yaxis": "y"
          },
          {
           "hovertemplate": "<b>%{hovertext}</b><br><br>region=Germany<br>Year=%{x}<br>Nb of athletes=%{marker.size}<extra></extra>",
           "hovertext": [
            "Germany"
           ],
           "ids": [
            "Germany"
           ],
           "legendgroup": "Germany",
           "marker": {
            "color": "#B6E880",
            "size": [
             20
            ],
            "sizemode": "area",
            "sizeref": 0.555,
            "symbol": "circle"
           },
           "mode": "markers",
           "name": "Germany",
           "orientation": "v",
           "showlegend": true,
           "type": "scatter",
           "x": [
            1932
           ],
           "xaxis": "x",
           "y": [
            20
           ],
           "yaxis": "y"
          },
          {
           "hovertemplate": "<b>%{hovertext}</b><br><br>region=Japan<br>Year=%{x}<br>Nb of athletes=%{marker.size}<extra></extra>",
           "hovertext": [
            "Japan"
           ],
           "ids": [
            "Japan"
           ],
           "legendgroup": "Japan",
           "marker": {
            "color": "#FF97FF",
            "size": [
             16
            ],
            "sizemode": "area",
            "sizeref": 0.555,
            "symbol": "circle"
           },
           "mode": "markers",
           "name": "Japan",
           "orientation": "v",
           "showlegend": true,
           "type": "scatter",
           "x": [
            1932
           ],
           "xaxis": "x",
           "y": [
            16
           ],
           "yaxis": "y"
          }
         ],
         "name": "1932"
        },
        {
         "data": [
          {
           "hovertemplate": "<b>%{hovertext}</b><br><br>region=Austria<br>Year=%{x}<br>Nb of athletes=%{marker.size}<extra></extra>",
           "hovertext": [
            "Austria"
           ],
           "ids": [
            "Austria"
           ],
           "legendgroup": "Austria",
           "marker": {
            "color": "#636efa",
            "size": [
             60
            ],
            "sizemode": "area",
            "sizeref": 0.555,
            "symbol": "circle"
           },
           "mode": "markers",
           "name": "Austria",
           "orientation": "v",
           "showlegend": true,
           "type": "scatter",
           "x": [
            1936
           ],
           "xaxis": "x",
           "y": [
            60
           ],
           "yaxis": "y"
          },
          {
           "hovertemplate": "<b>%{hovertext}</b><br><br>region=Canada<br>Year=%{x}<br>Nb of athletes=%{marker.size}<extra></extra>",
           "hovertext": [
            "Canada"
           ],
           "ids": [
            "Canada"
           ],
           "legendgroup": "Canada",
           "marker": {
            "color": "#EF553B",
            "size": [
             29
            ],
            "sizemode": "area",
            "sizeref": 0.555,
            "symbol": "circle"
           },
           "mode": "markers",
           "name": "Canada",
           "orientation": "v",
           "showlegend": true,
           "type": "scatter",
           "x": [
            1936
           ],
           "xaxis": "x",
           "y": [
            29
           ],
           "yaxis": "y"
          },
          {
           "hovertemplate": "<b>%{hovertext}</b><br><br>region=Italy<br>Year=%{x}<br>Nb of athletes=%{marker.size}<extra></extra>",
           "hovertext": [
            "Italy"
           ],
           "ids": [
            "Italy"
           ],
           "legendgroup": "Italy",
           "marker": {
            "color": "#00cc96",
            "size": [
             40
            ],
            "sizemode": "area",
            "sizeref": 0.555,
            "symbol": "circle"
           },
           "mode": "markers",
           "name": "Italy",
           "orientation": "v",
           "showlegend": true,
           "type": "scatter",
           "x": [
            1936
           ],
           "xaxis": "x",
           "y": [
            40
           ],
           "yaxis": "y"
          },
          {
           "hovertemplate": "<b>%{hovertext}</b><br><br>region=Norway<br>Year=%{x}<br>Nb of athletes=%{marker.size}<extra></extra>",
           "hovertext": [
            "Norway"
           ],
           "ids": [
            "Norway"
           ],
           "legendgroup": "Norway",
           "marker": {
            "color": "#ab63fa",
            "size": [
             31
            ],
            "sizemode": "area",
            "sizeref": 0.555,
            "symbol": "circle"
           },
           "mode": "markers",
           "name": "Norway",
           "orientation": "v",
           "showlegend": true,
           "type": "scatter",
           "x": [
            1936
           ],
           "xaxis": "x",
           "y": [
            31
           ],
           "yaxis": "y"
          },
          {
           "hovertemplate": "<b>%{hovertext}</b><br><br>region=Sweden<br>Year=%{x}<br>Nb of athletes=%{marker.size}<extra></extra>",
           "hovertext": [
            "Sweden"
           ],
           "ids": [
            "Sweden"
           ],
           "legendgroup": "Sweden",
           "marker": {
            "color": "#FFA15A",
            "size": [
             32
            ],
            "sizemode": "area",
            "sizeref": 0.555,
            "symbol": "circle"
           },
           "mode": "markers",
           "name": "Sweden",
           "orientation": "v",
           "showlegend": true,
           "type": "scatter",
           "x": [
            1936
           ],
           "xaxis": "x",
           "y": [
            32
           ],
           "yaxis": "y"
          },
          {
           "hovertemplate": "<b>%{hovertext}</b><br><br>region=Switzerland<br>Year=%{x}<br>Nb of athletes=%{marker.size}<extra></extra>",
           "hovertext": [
            "Switzerland"
           ],
           "ids": [
            "Switzerland"
           ],
           "legendgroup": "Switzerland",
           "marker": {
            "color": "#19d3f3",
            "size": [
             34
            ],
            "sizemode": "area",
            "sizeref": 0.555,
            "symbol": "circle"
           },
           "mode": "markers",
           "name": "Switzerland",
           "orientation": "v",
           "showlegend": true,
           "type": "scatter",
           "x": [
            1936
           ],
           "xaxis": "x",
           "y": [
            34
           ],
           "yaxis": "y"
          },
          {
           "hovertemplate": "<b>%{hovertext}</b><br><br>region=USA<br>Year=%{x}<br>Nb of athletes=%{marker.size}<extra></extra>",
           "hovertext": [
            "USA"
           ],
           "ids": [
            "USA"
           ],
           "legendgroup": "USA",
           "marker": {
            "color": "#FF6692",
            "size": [
             55
            ],
            "sizemode": "area",
            "sizeref": 0.555,
            "symbol": "circle"
           },
           "mode": "markers",
           "name": "USA",
           "orientation": "v",
           "showlegend": true,
           "type": "scatter",
           "x": [
            1936
           ],
           "xaxis": "x",
           "y": [
            55
           ],
           "yaxis": "y"
          },
          {
           "hovertemplate": "<b>%{hovertext}</b><br><br>region=Germany<br>Year=%{x}<br>Nb of athletes=%{marker.size}<extra></extra>",
           "hovertext": [
            "Germany"
           ],
           "ids": [
            "Germany"
           ],
           "legendgroup": "Germany",
           "marker": {
            "color": "#B6E880",
            "size": [
             55
            ],
            "sizemode": "area",
            "sizeref": 0.555,
            "symbol": "circle"
           },
           "mode": "markers",
           "name": "Germany",
           "orientation": "v",
           "showlegend": true,
           "type": "scatter",
           "x": [
            1936
           ],
           "xaxis": "x",
           "y": [
            55
           ],
           "yaxis": "y"
          },
          {
           "hovertemplate": "<b>%{hovertext}</b><br><br>region=Japan<br>Year=%{x}<br>Nb of athletes=%{marker.size}<extra></extra>",
           "hovertext": [
            "Japan"
           ],
           "ids": [
            "Japan"
           ],
           "legendgroup": "Japan",
           "marker": {
            "color": "#FF97FF",
            "size": [
             31
            ],
            "sizemode": "area",
            "sizeref": 0.555,
            "symbol": "circle"
           },
           "mode": "markers",
           "name": "Japan",
           "orientation": "v",
           "showlegend": true,
           "type": "scatter",
           "x": [
            1936
           ],
           "xaxis": "x",
           "y": [
            31
           ],
           "yaxis": "y"
          }
         ],
         "name": "1936"
        },
        {
         "data": [
          {
           "hovertemplate": "<b>%{hovertext}</b><br><br>region=Austria<br>Year=%{x}<br>Nb of athletes=%{marker.size}<extra></extra>",
           "hovertext": [
            "Austria"
           ],
           "ids": [
            "Austria"
           ],
           "legendgroup": "Austria",
           "marker": {
            "color": "#636efa",
            "size": [
             54
            ],
            "sizemode": "area",
            "sizeref": 0.555,
            "symbol": "circle"
           },
           "mode": "markers",
           "name": "Austria",
           "orientation": "v",
           "showlegend": true,
           "type": "scatter",
           "x": [
            1948
           ],
           "xaxis": "x",
           "y": [
            54
           ],
           "yaxis": "y"
          },
          {
           "hovertemplate": "<b>%{hovertext}</b><br><br>region=Canada<br>Year=%{x}<br>Nb of athletes=%{marker.size}<extra></extra>",
           "hovertext": [
            "Canada"
           ],
           "ids": [
            "Canada"
           ],
           "legendgroup": "Canada",
           "marker": {
            "color": "#EF553B",
            "size": [
             28
            ],
            "sizemode": "area",
            "sizeref": 0.555,
            "symbol": "circle"
           },
           "mode": "markers",
           "name": "Canada",
           "orientation": "v",
           "showlegend": true,
           "type": "scatter",
           "x": [
            1948
           ],
           "xaxis": "x",
           "y": [
            28
           ],
           "yaxis": "y"
          },
          {
           "hovertemplate": "<b>%{hovertext}</b><br><br>region=Italy<br>Year=%{x}<br>Nb of athletes=%{marker.size}<extra></extra>",
           "hovertext": [
            "Italy"
           ],
           "ids": [
            "Italy"
           ],
           "legendgroup": "Italy",
           "marker": {
            "color": "#00cc96",
            "size": [
             54
            ],
            "sizemode": "area",
            "sizeref": 0.555,
            "symbol": "circle"
           },
           "mode": "markers",
           "name": "Italy",
           "orientation": "v",
           "showlegend": true,
           "type": "scatter",
           "x": [
            1948
           ],
           "xaxis": "x",
           "y": [
            54
           ],
           "yaxis": "y"
          },
          {
           "hovertemplate": "<b>%{hovertext}</b><br><br>region=Norway<br>Year=%{x}<br>Nb of athletes=%{marker.size}<extra></extra>",
           "hovertext": [
            "Norway"
           ],
           "ids": [
            "Norway"
           ],
           "legendgroup": "Norway",
           "marker": {
            "color": "#ab63fa",
            "size": [
             49
            ],
            "sizemode": "area",
            "sizeref": 0.555,
            "symbol": "circle"
           },
           "mode": "markers",
           "name": "Norway",
           "orientation": "v",
           "showlegend": true,
           "type": "scatter",
           "x": [
            1948
           ],
           "xaxis": "x",
           "y": [
            49
           ],
           "yaxis": "y"
          },
          {
           "hovertemplate": "<b>%{hovertext}</b><br><br>region=Sweden<br>Year=%{x}<br>Nb of athletes=%{marker.size}<extra></extra>",
           "hovertext": [
            "Sweden"
           ],
           "ids": [
            "Sweden"
           ],
           "legendgroup": "Sweden",
           "marker": {
            "color": "#FFA15A",
            "size": [
             43
            ],
            "sizemode": "area",
            "sizeref": 0.555,
            "symbol": "circle"
           },
           "mode": "markers",
           "name": "Sweden",
           "orientation": "v",
           "showlegend": true,
           "type": "scatter",
           "x": [
            1948
           ],
           "xaxis": "x",
           "y": [
            43
           ],
           "yaxis": "y"
          },
          {
           "hovertemplate": "<b>%{hovertext}</b><br><br>region=Switzerland<br>Year=%{x}<br>Nb of athletes=%{marker.size}<extra></extra>",
           "hovertext": [
            "Switzerland"
           ],
           "ids": [
            "Switzerland"
           ],
           "legendgroup": "Switzerland",
           "marker": {
            "color": "#19d3f3",
            "size": [
             70
            ],
            "sizemode": "area",
            "sizeref": 0.555,
            "symbol": "circle"
           },
           "mode": "markers",
           "name": "Switzerland",
           "orientation": "v",
           "showlegend": true,
           "type": "scatter",
           "x": [
            1948
           ],
           "xaxis": "x",
           "y": [
            70
           ],
           "yaxis": "y"
          },
          {
           "hovertemplate": "<b>%{hovertext}</b><br><br>region=USA<br>Year=%{x}<br>Nb of athletes=%{marker.size}<extra></extra>",
           "hovertext": [
            "USA"
           ],
           "ids": [
            "USA"
           ],
           "legendgroup": "USA",
           "marker": {
            "color": "#FF6692",
            "size": [
             69
            ],
            "sizemode": "area",
            "sizeref": 0.555,
            "symbol": "circle"
           },
           "mode": "markers",
           "name": "USA",
           "orientation": "v",
           "showlegend": true,
           "type": "scatter",
           "x": [
            1948
           ],
           "xaxis": "x",
           "y": [
            69
           ],
           "yaxis": "y"
          }
         ],
         "name": "1948"
        },
        {
         "data": [
          {
           "hovertemplate": "<b>%{hovertext}</b><br><br>region=Austria<br>Year=%{x}<br>Nb of athletes=%{marker.size}<extra></extra>",
           "hovertext": [
            "Austria"
           ],
           "ids": [
            "Austria"
           ],
           "legendgroup": "Austria",
           "marker": {
            "color": "#636efa",
            "size": [
             39
            ],
            "sizemode": "area",
            "sizeref": 0.555,
            "symbol": "circle"
           },
           "mode": "markers",
           "name": "Austria",
           "orientation": "v",
           "showlegend": true,
           "type": "scatter",
           "x": [
            1952
           ],
           "xaxis": "x",
           "y": [
            39
           ],
           "yaxis": "y"
          },
          {
           "hovertemplate": "<b>%{hovertext}</b><br><br>region=Canada<br>Year=%{x}<br>Nb of athletes=%{marker.size}<extra></extra>",
           "hovertext": [
            "Canada"
           ],
           "ids": [
            "Canada"
           ],
           "legendgroup": "Canada",
           "marker": {
            "color": "#EF553B",
            "size": [
             39
            ],
            "sizemode": "area",
            "sizeref": 0.555,
            "symbol": "circle"
           },
           "mode": "markers",
           "name": "Canada",
           "orientation": "v",
           "showlegend": true,
           "type": "scatter",
           "x": [
            1952
           ],
           "xaxis": "x",
           "y": [
            39
           ],
           "yaxis": "y"
          },
          {
           "hovertemplate": "<b>%{hovertext}</b><br><br>region=Italy<br>Year=%{x}<br>Nb of athletes=%{marker.size}<extra></extra>",
           "hovertext": [
            "Italy"
           ],
           "ids": [
            "Italy"
           ],
           "legendgroup": "Italy",
           "marker": {
            "color": "#00cc96",
            "size": [
             33
            ],
            "sizemode": "area",
            "sizeref": 0.555,
            "symbol": "circle"
           },
           "mode": "markers",
           "name": "Italy",
           "orientation": "v",
           "showlegend": true,
           "type": "scatter",
           "x": [
            1952
           ],
           "xaxis": "x",
           "y": [
            33
           ],
           "yaxis": "y"
          },
          {
           "hovertemplate": "<b>%{hovertext}</b><br><br>region=Norway<br>Year=%{x}<br>Nb of athletes=%{marker.size}<extra></extra>",
           "hovertext": [
            "Norway"
           ],
           "ids": [
            "Norway"
           ],
           "legendgroup": "Norway",
           "marker": {
            "color": "#ab63fa",
            "size": [
             73
            ],
            "sizemode": "area",
            "sizeref": 0.555,
            "symbol": "circle"
           },
           "mode": "markers",
           "name": "Norway",
           "orientation": "v",
           "showlegend": true,
           "type": "scatter",
           "x": [
            1952
           ],
           "xaxis": "x",
           "y": [
            73
           ],
           "yaxis": "y"
          },
          {
           "hovertemplate": "<b>%{hovertext}</b><br><br>region=Sweden<br>Year=%{x}<br>Nb of athletes=%{marker.size}<extra></extra>",
           "hovertext": [
            "Sweden"
           ],
           "ids": [
            "Sweden"
           ],
           "legendgroup": "Sweden",
           "marker": {
            "color": "#FFA15A",
            "size": [
             65
            ],
            "sizemode": "area",
            "sizeref": 0.555,
            "symbol": "circle"
           },
           "mode": "markers",
           "name": "Sweden",
           "orientation": "v",
           "showlegend": true,
           "type": "scatter",
           "x": [
            1952
           ],
           "xaxis": "x",
           "y": [
            65
           ],
           "yaxis": "y"
          },
          {
           "hovertemplate": "<b>%{hovertext}</b><br><br>region=Switzerland<br>Year=%{x}<br>Nb of athletes=%{marker.size}<extra></extra>",
           "hovertext": [
            "Switzerland"
           ],
           "ids": [
            "Switzerland"
           ],
           "legendgroup": "Switzerland",
           "marker": {
            "color": "#19d3f3",
            "size": [
             55
            ],
            "sizemode": "area",
            "sizeref": 0.555,
            "symbol": "circle"
           },
           "mode": "markers",
           "name": "Switzerland",
           "orientation": "v",
           "showlegend": true,
           "type": "scatter",
           "x": [
            1952
           ],
           "xaxis": "x",
           "y": [
            55
           ],
           "yaxis": "y"
          },
          {
           "hovertemplate": "<b>%{hovertext}</b><br><br>region=USA<br>Year=%{x}<br>Nb of athletes=%{marker.size}<extra></extra>",
           "hovertext": [
            "USA"
           ],
           "ids": [
            "USA"
           ],
           "legendgroup": "USA",
           "marker": {
            "color": "#FF6692",
            "size": [
             66
            ],
            "sizemode": "area",
            "sizeref": 0.555,
            "symbol": "circle"
           },
           "mode": "markers",
           "name": "USA",
           "orientation": "v",
           "showlegend": true,
           "type": "scatter",
           "x": [
            1952
           ],
           "xaxis": "x",
           "y": [
            66
           ],
           "yaxis": "y"
          },
          {
           "hovertemplate": "<b>%{hovertext}</b><br><br>region=Germany<br>Year=%{x}<br>Nb of athletes=%{marker.size}<extra></extra>",
           "hovertext": [
            "Germany"
           ],
           "ids": [
            "Germany"
           ],
           "legendgroup": "Germany",
           "marker": {
            "color": "#B6E880",
            "size": [
             53
            ],
            "sizemode": "area",
            "sizeref": 0.555,
            "symbol": "circle"
           },
           "mode": "markers",
           "name": "Germany",
           "orientation": "v",
           "showlegend": true,
           "type": "scatter",
           "x": [
            1952
           ],
           "xaxis": "x",
           "y": [
            53
           ],
           "yaxis": "y"
          },
          {
           "hovertemplate": "<b>%{hovertext}</b><br><br>region=Japan<br>Year=%{x}<br>Nb of athletes=%{marker.size}<extra></extra>",
           "hovertext": [
            "Japan"
           ],
           "ids": [
            "Japan"
           ],
           "legendgroup": "Japan",
           "marker": {
            "color": "#FF97FF",
            "size": [
             13
            ],
            "sizemode": "area",
            "sizeref": 0.555,
            "symbol": "circle"
           },
           "mode": "markers",
           "name": "Japan",
           "orientation": "v",
           "showlegend": true,
           "type": "scatter",
           "x": [
            1952
           ],
           "xaxis": "x",
           "y": [
            13
           ],
           "yaxis": "y"
          }
         ],
         "name": "1952"
        },
        {
         "data": [
          {
           "hovertemplate": "<b>%{hovertext}</b><br><br>region=Austria<br>Year=%{x}<br>Nb of athletes=%{marker.size}<extra></extra>",
           "hovertext": [
            "Austria"
           ],
           "ids": [
            "Austria"
           ],
           "legendgroup": "Austria",
           "marker": {
            "color": "#636efa",
            "size": [
             60
            ],
            "sizemode": "area",
            "sizeref": 0.555,
            "symbol": "circle"
           },
           "mode": "markers",
           "name": "Austria",
           "orientation": "v",
           "showlegend": true,
           "type": "scatter",
           "x": [
            1956
           ],
           "xaxis": "x",
           "y": [
            60
           ],
           "yaxis": "y"
          },
          {
           "hovertemplate": "<b>%{hovertext}</b><br><br>region=Canada<br>Year=%{x}<br>Nb of athletes=%{marker.size}<extra></extra>",
           "hovertext": [
            "Canada"
           ],
           "ids": [
            "Canada"
           ],
           "legendgroup": "Canada",
           "marker": {
            "color": "#EF553B",
            "size": [
             35
            ],
            "sizemode": "area",
            "sizeref": 0.555,
            "symbol": "circle"
           },
           "mode": "markers",
           "name": "Canada",
           "orientation": "v",
           "showlegend": true,
           "type": "scatter",
           "x": [
            1956
           ],
           "xaxis": "x",
           "y": [
            35
           ],
           "yaxis": "y"
          },
          {
           "hovertemplate": "<b>%{hovertext}</b><br><br>region=Italy<br>Year=%{x}<br>Nb of athletes=%{marker.size}<extra></extra>",
           "hovertext": [
            "Italy"
           ],
           "ids": [
            "Italy"
           ],
           "legendgroup": "Italy",
           "marker": {
            "color": "#00cc96",
            "size": [
             65
            ],
            "sizemode": "area",
            "sizeref": 0.555,
            "symbol": "circle"
           },
           "mode": "markers",
           "name": "Italy",
           "orientation": "v",
           "showlegend": true,
           "type": "scatter",
           "x": [
            1956
           ],
           "xaxis": "x",
           "y": [
            65
           ],
           "yaxis": "y"
          },
          {
           "hovertemplate": "<b>%{hovertext}</b><br><br>region=Norway<br>Year=%{x}<br>Nb of athletes=%{marker.size}<extra></extra>",
           "hovertext": [
            "Norway"
           ],
           "ids": [
            "Norway"
           ],
           "legendgroup": "Norway",
           "marker": {
            "color": "#ab63fa",
            "size": [
             45
            ],
            "sizemode": "area",
            "sizeref": 0.555,
            "symbol": "circle"
           },
           "mode": "markers",
           "name": "Norway",
           "orientation": "v",
           "showlegend": true,
           "type": "scatter",
           "x": [
            1956
           ],
           "xaxis": "x",
           "y": [
            45
           ],
           "yaxis": "y"
          },
          {
           "hovertemplate": "<b>%{hovertext}</b><br><br>region=Sweden<br>Year=%{x}<br>Nb of athletes=%{marker.size}<extra></extra>",
           "hovertext": [
            "Sweden"
           ],
           "ids": [
            "Sweden"
           ],
           "legendgroup": "Sweden",
           "marker": {
            "color": "#FFA15A",
            "size": [
             58
            ],
            "sizemode": "area",
            "sizeref": 0.555,
            "symbol": "circle"
           },
           "mode": "markers",
           "name": "Sweden",
           "orientation": "v",
           "showlegend": true,
           "type": "scatter",
           "x": [
            1956
           ],
           "xaxis": "x",
           "y": [
            58
           ],
           "yaxis": "y"
          },
          {
           "hovertemplate": "<b>%{hovertext}</b><br><br>region=Switzerland<br>Year=%{x}<br>Nb of athletes=%{marker.size}<extra></extra>",
           "hovertext": [
            "Switzerland"
           ],
           "ids": [
            "Switzerland"
           ],
           "legendgroup": "Switzerland",
           "marker": {
            "color": "#19d3f3",
            "size": [
             59
            ],
            "sizemode": "area",
            "sizeref": 0.555,
            "symbol": "circle"
           },
           "mode": "markers",
           "name": "Switzerland",
           "orientation": "v",
           "showlegend": true,
           "type": "scatter",
           "x": [
            1956
           ],
           "xaxis": "x",
           "y": [
            59
           ],
           "yaxis": "y"
          },
          {
           "hovertemplate": "<b>%{hovertext}</b><br><br>region=USA<br>Year=%{x}<br>Nb of athletes=%{marker.size}<extra></extra>",
           "hovertext": [
            "USA"
           ],
           "ids": [
            "USA"
           ],
           "legendgroup": "USA",
           "marker": {
            "color": "#FF6692",
            "size": [
             67
            ],
            "sizemode": "area",
            "sizeref": 0.555,
            "symbol": "circle"
           },
           "mode": "markers",
           "name": "USA",
           "orientation": "v",
           "showlegend": true,
           "type": "scatter",
           "x": [
            1956
           ],
           "xaxis": "x",
           "y": [
            67
           ],
           "yaxis": "y"
          },
          {
           "hovertemplate": "<b>%{hovertext}</b><br><br>region=Germany<br>Year=%{x}<br>Nb of athletes=%{marker.size}<extra></extra>",
           "hovertext": [
            "Germany"
           ],
           "ids": [
            "Germany"
           ],
           "legendgroup": "Germany",
           "marker": {
            "color": "#B6E880",
            "size": [
             63
            ],
            "sizemode": "area",
            "sizeref": 0.555,
            "symbol": "circle"
           },
           "mode": "markers",
           "name": "Germany",
           "orientation": "v",
           "showlegend": true,
           "type": "scatter",
           "x": [
            1956
           ],
           "xaxis": "x",
           "y": [
            63
           ],
           "yaxis": "y"
          },
          {
           "hovertemplate": "<b>%{hovertext}</b><br><br>region=Japan<br>Year=%{x}<br>Nb of athletes=%{marker.size}<extra></extra>",
           "hovertext": [
            "Japan"
           ],
           "ids": [
            "Japan"
           ],
           "legendgroup": "Japan",
           "marker": {
            "color": "#FF97FF",
            "size": [
             10
            ],
            "sizemode": "area",
            "sizeref": 0.555,
            "symbol": "circle"
           },
           "mode": "markers",
           "name": "Japan",
           "orientation": "v",
           "showlegend": true,
           "type": "scatter",
           "x": [
            1956
           ],
           "xaxis": "x",
           "y": [
            10
           ],
           "yaxis": "y"
          },
          {
           "hovertemplate": "<b>%{hovertext}</b><br><br>region=Russia<br>Year=%{x}<br>Nb of athletes=%{marker.size}<extra></extra>",
           "hovertext": [
            "Russia"
           ],
           "ids": [
            "Russia"
           ],
           "legendgroup": "Russia",
           "marker": {
            "color": "#FECB52",
            "size": [
             53
            ],
            "sizemode": "area",
            "sizeref": 0.555,
            "symbol": "circle"
           },
           "mode": "markers",
           "name": "Russia",
           "orientation": "v",
           "showlegend": true,
           "type": "scatter",
           "x": [
            1956
           ],
           "xaxis": "x",
           "y": [
            53
           ],
           "yaxis": "y"
          }
         ],
         "name": "1956"
        },
        {
         "data": [
          {
           "hovertemplate": "<b>%{hovertext}</b><br><br>region=Austria<br>Year=%{x}<br>Nb of athletes=%{marker.size}<extra></extra>",
           "hovertext": [
            "Austria"
           ],
           "ids": [
            "Austria"
           ],
           "legendgroup": "Austria",
           "marker": {
            "color": "#636efa",
            "size": [
             26
            ],
            "sizemode": "area",
            "sizeref": 0.555,
            "symbol": "circle"
           },
           "mode": "markers",
           "name": "Austria",
           "orientation": "v",
           "showlegend": true,
           "type": "scatter",
           "x": [
            1960
           ],
           "xaxis": "x",
           "y": [
            26
           ],
           "yaxis": "y"
          },
          {
           "hovertemplate": "<b>%{hovertext}</b><br><br>region=Canada<br>Year=%{x}<br>Nb of athletes=%{marker.size}<extra></extra>",
           "hovertext": [
            "Canada"
           ],
           "ids": [
            "Canada"
           ],
           "legendgroup": "Canada",
           "marker": {
            "color": "#EF553B",
            "size": [
             44
            ],
            "sizemode": "area",
            "sizeref": 0.555,
            "symbol": "circle"
           },
           "mode": "markers",
           "name": "Canada",
           "orientation": "v",
           "showlegend": true,
           "type": "scatter",
           "x": [
            1960
           ],
           "xaxis": "x",
           "y": [
            44
           ],
           "yaxis": "y"
          },
          {
           "hovertemplate": "<b>%{hovertext}</b><br><br>region=Italy<br>Year=%{x}<br>Nb of athletes=%{marker.size}<extra></extra>",
           "hovertext": [
            "Italy"
           ],
           "ids": [
            "Italy"
           ],
           "legendgroup": "Italy",
           "marker": {
            "color": "#00cc96",
            "size": [
             28
            ],
            "sizemode": "area",
            "sizeref": 0.555,
            "symbol": "circle"
           },
           "mode": "markers",
           "name": "Italy",
           "orientation": "v",
           "showlegend": true,
           "type": "scatter",
           "x": [
            1960
           ],
           "xaxis": "x",
           "y": [
            28
           ],
           "yaxis": "y"
          },
          {
           "hovertemplate": "<b>%{hovertext}</b><br><br>region=Norway<br>Year=%{x}<br>Nb of athletes=%{marker.size}<extra></extra>",
           "hovertext": [
            "Norway"
           ],
           "ids": [
            "Norway"
           ],
           "legendgroup": "Norway",
           "marker": {
            "color": "#ab63fa",
            "size": [
             29
            ],
            "sizemode": "area",
            "sizeref": 0.555,
            "symbol": "circle"
           },
           "mode": "markers",
           "name": "Norway",
           "orientation": "v",
           "showlegend": true,
           "type": "scatter",
           "x": [
            1960
           ],
           "xaxis": "x",
           "y": [
            29
           ],
           "yaxis": "y"
          },
          {
           "hovertemplate": "<b>%{hovertext}</b><br><br>region=Sweden<br>Year=%{x}<br>Nb of athletes=%{marker.size}<extra></extra>",
           "hovertext": [
            "Sweden"
           ],
           "ids": [
            "Sweden"
           ],
           "legendgroup": "Sweden",
           "marker": {
            "color": "#FFA15A",
            "size": [
             47
            ],
            "sizemode": "area",
            "sizeref": 0.555,
            "symbol": "circle"
           },
           "mode": "markers",
           "name": "Sweden",
           "orientation": "v",
           "showlegend": true,
           "type": "scatter",
           "x": [
            1960
           ],
           "xaxis": "x",
           "y": [
            47
           ],
           "yaxis": "y"
          },
          {
           "hovertemplate": "<b>%{hovertext}</b><br><br>region=Switzerland<br>Year=%{x}<br>Nb of athletes=%{marker.size}<extra></extra>",
           "hovertext": [
            "Switzerland"
           ],
           "ids": [
            "Switzerland"
           ],
           "legendgroup": "Switzerland",
           "marker": {
            "color": "#19d3f3",
            "size": [
             21
            ],
            "sizemode": "area",
            "sizeref": 0.555,
            "symbol": "circle"
           },
           "mode": "markers",
           "name": "Switzerland",
           "orientation": "v",
           "showlegend": true,
           "type": "scatter",
           "x": [
            1960
           ],
           "xaxis": "x",
           "y": [
            21
           ],
           "yaxis": "y"
          },
          {
           "hovertemplate": "<b>%{hovertext}</b><br><br>region=USA<br>Year=%{x}<br>Nb of athletes=%{marker.size}<extra></extra>",
           "hovertext": [
            "USA"
           ],
           "ids": [
            "USA"
           ],
           "legendgroup": "USA",
           "marker": {
            "color": "#FF6692",
            "size": [
             79
            ],
            "sizemode": "area",
            "sizeref": 0.555,
            "symbol": "circle"
           },
           "mode": "markers",
           "name": "USA",
           "orientation": "v",
           "showlegend": true,
           "type": "scatter",
           "x": [
            1960
           ],
           "xaxis": "x",
           "y": [
            79
           ],
           "yaxis": "y"
          },
          {
           "hovertemplate": "<b>%{hovertext}</b><br><br>region=Germany<br>Year=%{x}<br>Nb of athletes=%{marker.size}<extra></extra>",
           "hovertext": [
            "Germany"
           ],
           "ids": [
            "Germany"
           ],
           "legendgroup": "Germany",
           "marker": {
            "color": "#B6E880",
            "size": [
             74
            ],
            "sizemode": "area",
            "sizeref": 0.555,
            "symbol": "circle"
           },
           "mode": "markers",
           "name": "Germany",
           "orientation": "v",
           "showlegend": true,
           "type": "scatter",
           "x": [
            1960
           ],
           "xaxis": "x",
           "y": [
            74
           ],
           "yaxis": "y"
          },
          {
           "hovertemplate": "<b>%{hovertext}</b><br><br>region=Japan<br>Year=%{x}<br>Nb of athletes=%{marker.size}<extra></extra>",
           "hovertext": [
            "Japan"
           ],
           "ids": [
            "Japan"
           ],
           "legendgroup": "Japan",
           "marker": {
            "color": "#FF97FF",
            "size": [
             41
            ],
            "sizemode": "area",
            "sizeref": 0.555,
            "symbol": "circle"
           },
           "mode": "markers",
           "name": "Japan",
           "orientation": "v",
           "showlegend": true,
           "type": "scatter",
           "x": [
            1960
           ],
           "xaxis": "x",
           "y": [
            41
           ],
           "yaxis": "y"
          },
          {
           "hovertemplate": "<b>%{hovertext}</b><br><br>region=Russia<br>Year=%{x}<br>Nb of athletes=%{marker.size}<extra></extra>",
           "hovertext": [
            "Russia"
           ],
           "ids": [
            "Russia"
           ],
           "legendgroup": "Russia",
           "marker": {
            "color": "#FECB52",
            "size": [
             62
            ],
            "sizemode": "area",
            "sizeref": 0.555,
            "symbol": "circle"
           },
           "mode": "markers",
           "name": "Russia",
           "orientation": "v",
           "showlegend": true,
           "type": "scatter",
           "x": [
            1960
           ],
           "xaxis": "x",
           "y": [
            62
           ],
           "yaxis": "y"
          }
         ],
         "name": "1960"
        },
        {
         "data": [
          {
           "hovertemplate": "<b>%{hovertext}</b><br><br>region=Austria<br>Year=%{x}<br>Nb of athletes=%{marker.size}<extra></extra>",
           "hovertext": [
            "Austria"
           ],
           "ids": [
            "Austria"
           ],
           "legendgroup": "Austria",
           "marker": {
            "color": "#636efa",
            "size": [
             83
            ],
            "sizemode": "area",
            "sizeref": 0.555,
            "symbol": "circle"
           },
           "mode": "markers",
           "name": "Austria",
           "orientation": "v",
           "showlegend": true,
           "type": "scatter",
           "x": [
            1964
           ],
           "xaxis": "x",
           "y": [
            83
           ],
           "yaxis": "y"
          },
          {
           "hovertemplate": "<b>%{hovertext}</b><br><br>region=Canada<br>Year=%{x}<br>Nb of athletes=%{marker.size}<extra></extra>",
           "hovertext": [
            "Canada"
           ],
           "ids": [
            "Canada"
           ],
           "legendgroup": "Canada",
           "marker": {
            "color": "#EF553B",
            "size": [
             55
            ],
            "sizemode": "area",
            "sizeref": 0.555,
            "symbol": "circle"
           },
           "mode": "markers",
           "name": "Canada",
           "orientation": "v",
           "showlegend": true,
           "type": "scatter",
           "x": [
            1964
           ],
           "xaxis": "x",
           "y": [
            55
           ],
           "yaxis": "y"
          },
          {
           "hovertemplate": "<b>%{hovertext}</b><br><br>region=Italy<br>Year=%{x}<br>Nb of athletes=%{marker.size}<extra></extra>",
           "hovertext": [
            "Italy"
           ],
           "ids": [
            "Italy"
           ],
           "legendgroup": "Italy",
           "marker": {
            "color": "#00cc96",
            "size": [
             61
            ],
            "sizemode": "area",
            "sizeref": 0.555,
            "symbol": "circle"
           },
           "mode": "markers",
           "name": "Italy",
           "orientation": "v",
           "showlegend": true,
           "type": "scatter",
           "x": [
            1964
           ],
           "xaxis": "x",
           "y": [
            61
           ],
           "yaxis": "y"
          },
          {
           "hovertemplate": "<b>%{hovertext}</b><br><br>region=Norway<br>Year=%{x}<br>Nb of athletes=%{marker.size}<extra></extra>",
           "hovertext": [
            "Norway"
           ],
           "ids": [
            "Norway"
           ],
           "legendgroup": "Norway",
           "marker": {
            "color": "#ab63fa",
            "size": [
             58
            ],
            "sizemode": "area",
            "sizeref": 0.555,
            "symbol": "circle"
           },
           "mode": "markers",
           "name": "Norway",
           "orientation": "v",
           "showlegend": true,
           "type": "scatter",
           "x": [
            1964
           ],
           "xaxis": "x",
           "y": [
            58
           ],
           "yaxis": "y"
          },
          {
           "hovertemplate": "<b>%{hovertext}</b><br><br>region=Sweden<br>Year=%{x}<br>Nb of athletes=%{marker.size}<extra></extra>",
           "hovertext": [
            "Sweden"
           ],
           "ids": [
            "Sweden"
           ],
           "legendgroup": "Sweden",
           "marker": {
            "color": "#FFA15A",
            "size": [
             57
            ],
            "sizemode": "area",
            "sizeref": 0.555,
            "symbol": "circle"
           },
           "mode": "markers",
           "name": "Sweden",
           "orientation": "v",
           "showlegend": true,
           "type": "scatter",
           "x": [
            1964
           ],
           "xaxis": "x",
           "y": [
            57
           ],
           "yaxis": "y"
          },
          {
           "hovertemplate": "<b>%{hovertext}</b><br><br>region=Switzerland<br>Year=%{x}<br>Nb of athletes=%{marker.size}<extra></extra>",
           "hovertext": [
            "Switzerland"
           ],
           "ids": [
            "Switzerland"
           ],
           "legendgroup": "Switzerland",
           "marker": {
            "color": "#19d3f3",
            "size": [
             72
            ],
            "sizemode": "area",
            "sizeref": 0.555,
            "symbol": "circle"
           },
           "mode": "markers",
           "name": "Switzerland",
           "orientation": "v",
           "showlegend": true,
           "type": "scatter",
           "x": [
            1964
           ],
           "xaxis": "x",
           "y": [
            72
           ],
           "yaxis": "y"
          },
          {
           "hovertemplate": "<b>%{hovertext}</b><br><br>region=USA<br>Year=%{x}<br>Nb of athletes=%{marker.size}<extra></extra>",
           "hovertext": [
            "USA"
           ],
           "ids": [
            "USA"
           ],
           "legendgroup": "USA",
           "marker": {
            "color": "#FF6692",
            "size": [
             90
            ],
            "sizemode": "area",
            "sizeref": 0.555,
            "symbol": "circle"
           },
           "mode": "markers",
           "name": "USA",
           "orientation": "v",
           "showlegend": true,
           "type": "scatter",
           "x": [
            1964
           ],
           "xaxis": "x",
           "y": [
            90
           ],
           "yaxis": "y"
          },
          {
           "hovertemplate": "<b>%{hovertext}</b><br><br>region=Germany<br>Year=%{x}<br>Nb of athletes=%{marker.size}<extra></extra>",
           "hovertext": [
            "Germany"
           ],
           "ids": [
            "Germany"
           ],
           "legendgroup": "Germany",
           "marker": {
            "color": "#B6E880",
            "size": [
             96
            ],
            "sizemode": "area",
            "sizeref": 0.555,
            "symbol": "circle"
           },
           "mode": "markers",
           "name": "Germany",
           "orientation": "v",
           "showlegend": true,
           "type": "scatter",
           "x": [
            1964
           ],
           "xaxis": "x",
           "y": [
            96
           ],
           "yaxis": "y"
          },
          {
           "hovertemplate": "<b>%{hovertext}</b><br><br>region=Japan<br>Year=%{x}<br>Nb of athletes=%{marker.size}<extra></extra>",
           "hovertext": [
            "Japan"
           ],
           "ids": [
            "Japan"
           ],
           "legendgroup": "Japan",
           "marker": {
            "color": "#FF97FF",
            "size": [
             47
            ],
            "sizemode": "area",
            "sizeref": 0.555,
            "symbol": "circle"
           },
           "mode": "markers",
           "name": "Japan",
           "orientation": "v",
           "showlegend": true,
           "type": "scatter",
           "x": [
            1964
           ],
           "xaxis": "x",
           "y": [
            47
           ],
           "yaxis": "y"
          },
          {
           "hovertemplate": "<b>%{hovertext}</b><br><br>region=Russia<br>Year=%{x}<br>Nb of athletes=%{marker.size}<extra></extra>",
           "hovertext": [
            "Russia"
           ],
           "ids": [
            "Russia"
           ],
           "legendgroup": "Russia",
           "marker": {
            "color": "#FECB52",
            "size": [
             69
            ],
            "sizemode": "area",
            "sizeref": 0.555,
            "symbol": "circle"
           },
           "mode": "markers",
           "name": "Russia",
           "orientation": "v",
           "showlegend": true,
           "type": "scatter",
           "x": [
            1964
           ],
           "xaxis": "x",
           "y": [
            69
           ],
           "yaxis": "y"
          }
         ],
         "name": "1964"
        },
        {
         "data": [
          {
           "hovertemplate": "<b>%{hovertext}</b><br><br>region=Austria<br>Year=%{x}<br>Nb of athletes=%{marker.size}<extra></extra>",
           "hovertext": [
            "Austria"
           ],
           "ids": [
            "Austria"
           ],
           "legendgroup": "Austria",
           "marker": {
            "color": "#636efa",
            "size": [
             76
            ],
            "sizemode": "area",
            "sizeref": 0.555,
            "symbol": "circle"
           },
           "mode": "markers",
           "name": "Austria",
           "orientation": "v",
           "showlegend": true,
           "type": "scatter",
           "x": [
            1968
           ],
           "xaxis": "x",
           "y": [
            76
           ],
           "yaxis": "y"
          },
          {
           "hovertemplate": "<b>%{hovertext}</b><br><br>region=Canada<br>Year=%{x}<br>Nb of athletes=%{marker.size}<extra></extra>",
           "hovertext": [
            "Canada"
           ],
           "ids": [
            "Canada"
           ],
           "legendgroup": "Canada",
           "marker": {
            "color": "#EF553B",
            "size": [
             70
            ],
            "sizemode": "area",
            "sizeref": 0.555,
            "symbol": "circle"
           },
           "mode": "markers",
           "name": "Canada",
           "orientation": "v",
           "showlegend": true,
           "type": "scatter",
           "x": [
            1968
           ],
           "xaxis": "x",
           "y": [
            70
           ],
           "yaxis": "y"
          },
          {
           "hovertemplate": "<b>%{hovertext}</b><br><br>region=Italy<br>Year=%{x}<br>Nb of athletes=%{marker.size}<extra></extra>",
           "hovertext": [
            "Italy"
           ],
           "ids": [
            "Italy"
           ],
           "legendgroup": "Italy",
           "marker": {
            "color": "#00cc96",
            "size": [
             47
            ],
            "sizemode": "area",
            "sizeref": 0.555,
            "symbol": "circle"
           },
           "mode": "markers",
           "name": "Italy",
           "orientation": "v",
           "showlegend": true,
           "type": "scatter",
           "x": [
            1968
           ],
           "xaxis": "x",
           "y": [
            47
           ],
           "yaxis": "y"
          },
          {
           "hovertemplate": "<b>%{hovertext}</b><br><br>region=Norway<br>Year=%{x}<br>Nb of athletes=%{marker.size}<extra></extra>",
           "hovertext": [
            "Norway"
           ],
           "ids": [
            "Norway"
           ],
           "legendgroup": "Norway",
           "marker": {
            "color": "#ab63fa",
            "size": [
             65
            ],
            "sizemode": "area",
            "sizeref": 0.555,
            "symbol": "circle"
           },
           "mode": "markers",
           "name": "Norway",
           "orientation": "v",
           "showlegend": true,
           "type": "scatter",
           "x": [
            1968
           ],
           "xaxis": "x",
           "y": [
            65
           ],
           "yaxis": "y"
          },
          {
           "hovertemplate": "<b>%{hovertext}</b><br><br>region=Sweden<br>Year=%{x}<br>Nb of athletes=%{marker.size}<extra></extra>",
           "hovertext": [
            "Sweden"
           ],
           "ids": [
            "Sweden"
           ],
           "legendgroup": "Sweden",
           "marker": {
            "color": "#FFA15A",
            "size": [
             68
            ],
            "sizemode": "area",
            "sizeref": 0.555,
            "symbol": "circle"
           },
           "mode": "markers",
           "name": "Sweden",
           "orientation": "v",
           "showlegend": true,
           "type": "scatter",
           "x": [
            1968
           ],
           "xaxis": "x",
           "y": [
            68
           ],
           "yaxis": "y"
          },
          {
           "hovertemplate": "<b>%{hovertext}</b><br><br>region=Switzerland<br>Year=%{x}<br>Nb of athletes=%{marker.size}<extra></extra>",
           "hovertext": [
            "Switzerland"
           ],
           "ids": [
            "Switzerland"
           ],
           "legendgroup": "Switzerland",
           "marker": {
            "color": "#19d3f3",
            "size": [
             34
            ],
            "sizemode": "area",
            "sizeref": 0.555,
            "symbol": "circle"
           },
           "mode": "markers",
           "name": "Switzerland",
           "orientation": "v",
           "showlegend": true,
           "type": "scatter",
           "x": [
            1968
           ],
           "xaxis": "x",
           "y": [
            34
           ],
           "yaxis": "y"
          },
          {
           "hovertemplate": "<b>%{hovertext}</b><br><br>region=USA<br>Year=%{x}<br>Nb of athletes=%{marker.size}<extra></extra>",
           "hovertext": [
            "USA"
           ],
           "ids": [
            "USA"
           ],
           "legendgroup": "USA",
           "marker": {
            "color": "#FF6692",
            "size": [
             96
            ],
            "sizemode": "area",
            "sizeref": 0.555,
            "symbol": "circle"
           },
           "mode": "markers",
           "name": "USA",
           "orientation": "v",
           "showlegend": true,
           "type": "scatter",
           "x": [
            1968
           ],
           "xaxis": "x",
           "y": [
            96
           ],
           "yaxis": "y"
          },
          {
           "hovertemplate": "<b>%{hovertext}</b><br><br>region=Germany<br>Year=%{x}<br>Nb of athletes=%{marker.size}<extra></extra>",
           "hovertext": [
            "Germany"
           ],
           "ids": [
            "Germany"
           ],
           "legendgroup": "Germany",
           "marker": {
            "color": "#B6E880",
            "size": [
             144
            ],
            "sizemode": "area",
            "sizeref": 0.555,
            "symbol": "circle"
           },
           "mode": "markers",
           "name": "Germany",
           "orientation": "v",
           "showlegend": true,
           "type": "scatter",
           "x": [
            1968
           ],
           "xaxis": "x",
           "y": [
            144
           ],
           "yaxis": "y"
          },
          {
           "hovertemplate": "<b>%{hovertext}</b><br><br>region=Japan<br>Year=%{x}<br>Nb of athletes=%{marker.size}<extra></extra>",
           "hovertext": [
            "Japan"
           ],
           "ids": [
            "Japan"
           ],
           "legendgroup": "Japan",
           "marker": {
            "color": "#FF97FF",
            "size": [
             61
            ],
            "sizemode": "area",
            "sizeref": 0.555,
            "symbol": "circle"
           },
           "mode": "markers",
           "name": "Japan",
           "orientation": "v",
           "showlegend": true,
           "type": "scatter",
           "x": [
            1968
           ],
           "xaxis": "x",
           "y": [
            61
           ],
           "yaxis": "y"
          },
          {
           "hovertemplate": "<b>%{hovertext}</b><br><br>region=Russia<br>Year=%{x}<br>Nb of athletes=%{marker.size}<extra></extra>",
           "hovertext": [
            "Russia"
           ],
           "ids": [
            "Russia"
           ],
           "legendgroup": "Russia",
           "marker": {
            "color": "#FECB52",
            "size": [
             74
            ],
            "sizemode": "area",
            "sizeref": 0.555,
            "symbol": "circle"
           },
           "mode": "markers",
           "name": "Russia",
           "orientation": "v",
           "showlegend": true,
           "type": "scatter",
           "x": [
            1968
           ],
           "xaxis": "x",
           "y": [
            74
           ],
           "yaxis": "y"
          }
         ],
         "name": "1968"
        },
        {
         "data": [
          {
           "hovertemplate": "<b>%{hovertext}</b><br><br>region=Austria<br>Year=%{x}<br>Nb of athletes=%{marker.size}<extra></extra>",
           "hovertext": [
            "Austria"
           ],
           "ids": [
            "Austria"
           ],
           "legendgroup": "Austria",
           "marker": {
            "color": "#636efa",
            "size": [
             40
            ],
            "sizemode": "area",
            "sizeref": 0.555,
            "symbol": "circle"
           },
           "mode": "markers",
           "name": "Austria",
           "orientation": "v",
           "showlegend": true,
           "type": "scatter",
           "x": [
            1972
           ],
           "xaxis": "x",
           "y": [
            40
           ],
           "yaxis": "y"
          },
          {
           "hovertemplate": "<b>%{hovertext}</b><br><br>region=Canada<br>Year=%{x}<br>Nb of athletes=%{marker.size}<extra></extra>",
           "hovertext": [
            "Canada"
           ],
           "ids": [
            "Canada"
           ],
           "legendgroup": "Canada",
           "marker": {
            "color": "#EF553B",
            "size": [
             47
            ],
            "sizemode": "area",
            "sizeref": 0.555,
            "symbol": "circle"
           },
           "mode": "markers",
           "name": "Canada",
           "orientation": "v",
           "showlegend": true,
           "type": "scatter",
           "x": [
            1972
           ],
           "xaxis": "x",
           "y": [
            47
           ],
           "yaxis": "y"
          },
          {
           "hovertemplate": "<b>%{hovertext}</b><br><br>region=Italy<br>Year=%{x}<br>Nb of athletes=%{marker.size}<extra></extra>",
           "hovertext": [
            "Italy"
           ],
           "ids": [
            "Italy"
           ],
           "legendgroup": "Italy",
           "marker": {
            "color": "#00cc96",
            "size": [
             44
            ],
            "sizemode": "area",
            "sizeref": 0.555,
            "symbol": "circle"
           },
           "mode": "markers",
           "name": "Italy",
           "orientation": "v",
           "showlegend": true,
           "type": "scatter",
           "x": [
            1972
           ],
           "xaxis": "x",
           "y": [
            44
           ],
           "yaxis": "y"
          },
          {
           "hovertemplate": "<b>%{hovertext}</b><br><br>region=Norway<br>Year=%{x}<br>Nb of athletes=%{marker.size}<extra></extra>",
           "hovertext": [
            "Norway"
           ],
           "ids": [
            "Norway"
           ],
           "legendgroup": "Norway",
           "marker": {
            "color": "#ab63fa",
            "size": [
             67
            ],
            "sizemode": "area",
            "sizeref": 0.555,
            "symbol": "circle"
           },
           "mode": "markers",
           "name": "Norway",
           "orientation": "v",
           "showlegend": true,
           "type": "scatter",
           "x": [
            1972
           ],
           "xaxis": "x",
           "y": [
            67
           ],
           "yaxis": "y"
          },
          {
           "hovertemplate": "<b>%{hovertext}</b><br><br>region=Sweden<br>Year=%{x}<br>Nb of athletes=%{marker.size}<extra></extra>",
           "hovertext": [
            "Sweden"
           ],
           "ids": [
            "Sweden"
           ],
           "legendgroup": "Sweden",
           "marker": {
            "color": "#FFA15A",
            "size": [
             58
            ],
            "sizemode": "area",
            "sizeref": 0.555,
            "symbol": "circle"
           },
           "mode": "markers",
           "name": "Sweden",
           "orientation": "v",
           "showlegend": true,
           "type": "scatter",
           "x": [
            1972
           ],
           "xaxis": "x",
           "y": [
            58
           ],
           "yaxis": "y"
          },
          {
           "hovertemplate": "<b>%{hovertext}</b><br><br>region=Switzerland<br>Year=%{x}<br>Nb of athletes=%{marker.size}<extra></extra>",
           "hovertext": [
            "Switzerland"
           ],
           "ids": [
            "Switzerland"
           ],
           "legendgroup": "Switzerland",
           "marker": {
            "color": "#19d3f3",
            "size": [
             52
            ],
            "sizemode": "area",
            "sizeref": 0.555,
            "symbol": "circle"
           },
           "mode": "markers",
           "name": "Switzerland",
           "orientation": "v",
           "showlegend": true,
           "type": "scatter",
           "x": [
            1972
           ],
           "xaxis": "x",
           "y": [
            52
           ],
           "yaxis": "y"
          },
          {
           "hovertemplate": "<b>%{hovertext}</b><br><br>region=USA<br>Year=%{x}<br>Nb of athletes=%{marker.size}<extra></extra>",
           "hovertext": [
            "USA"
           ],
           "ids": [
            "USA"
           ],
           "legendgroup": "USA",
           "marker": {
            "color": "#FF6692",
            "size": [
             103
            ],
            "sizemode": "area",
            "sizeref": 0.555,
            "symbol": "circle"
           },
           "mode": "markers",
           "name": "USA",
           "orientation": "v",
           "showlegend": true,
           "type": "scatter",
           "x": [
            1972
           ],
           "xaxis": "x",
           "y": [
            103
           ],
           "yaxis": "y"
          },
          {
           "hovertemplate": "<b>%{hovertext}</b><br><br>region=Germany<br>Year=%{x}<br>Nb of athletes=%{marker.size}<extra></extra>",
           "hovertext": [
            "Germany"
           ],
           "ids": [
            "Germany"
           ],
           "legendgroup": "Germany",
           "marker": {
            "color": "#B6E880",
            "size": [
             120
            ],
            "sizemode": "area",
            "sizeref": 0.555,
            "symbol": "circle"
           },
           "mode": "markers",
           "name": "Germany",
           "orientation": "v",
           "showlegend": true,
           "type": "scatter",
           "x": [
            1972
           ],
           "xaxis": "x",
           "y": [
            120
           ],
           "yaxis": "y"
          },
          {
           "hovertemplate": "<b>%{hovertext}</b><br><br>region=Japan<br>Year=%{x}<br>Nb of athletes=%{marker.size}<extra></extra>",
           "hovertext": [
            "Japan"
           ],
           "ids": [
            "Japan"
           ],
           "legendgroup": "Japan",
           "marker": {
            "color": "#FF97FF",
            "size": [
             85
            ],
            "sizemode": "area",
            "sizeref": 0.555,
            "symbol": "circle"
           },
           "mode": "markers",
           "name": "Japan",
           "orientation": "v",
           "showlegend": true,
           "type": "scatter",
           "x": [
            1972
           ],
           "xaxis": "x",
           "y": [
            85
           ],
           "yaxis": "y"
          },
          {
           "hovertemplate": "<b>%{hovertext}</b><br><br>region=Russia<br>Year=%{x}<br>Nb of athletes=%{marker.size}<extra></extra>",
           "hovertext": [
            "Russia"
           ],
           "ids": [
            "Russia"
           ],
           "legendgroup": "Russia",
           "marker": {
            "color": "#FECB52",
            "size": [
             76
            ],
            "sizemode": "area",
            "sizeref": 0.555,
            "symbol": "circle"
           },
           "mode": "markers",
           "name": "Russia",
           "orientation": "v",
           "showlegend": true,
           "type": "scatter",
           "x": [
            1972
           ],
           "xaxis": "x",
           "y": [
            76
           ],
           "yaxis": "y"
          }
         ],
         "name": "1972"
        },
        {
         "data": [
          {
           "hovertemplate": "<b>%{hovertext}</b><br><br>region=Austria<br>Year=%{x}<br>Nb of athletes=%{marker.size}<extra></extra>",
           "hovertext": [
            "Austria"
           ],
           "ids": [
            "Austria"
           ],
           "legendgroup": "Austria",
           "marker": {
            "color": "#636efa",
            "size": [
             77
            ],
            "sizemode": "area",
            "sizeref": 0.555,
            "symbol": "circle"
           },
           "mode": "markers",
           "name": "Austria",
           "orientation": "v",
           "showlegend": true,
           "type": "scatter",
           "x": [
            1976
           ],
           "xaxis": "x",
           "y": [
            77
           ],
           "yaxis": "y"
          },
          {
           "hovertemplate": "<b>%{hovertext}</b><br><br>region=Canada<br>Year=%{x}<br>Nb of athletes=%{marker.size}<extra></extra>",
           "hovertext": [
            "Canada"
           ],
           "ids": [
            "Canada"
           ],
           "legendgroup": "Canada",
           "marker": {
            "color": "#EF553B",
            "size": [
             59
            ],
            "sizemode": "area",
            "sizeref": 0.555,
            "symbol": "circle"
           },
           "mode": "markers",
           "name": "Canada",
           "orientation": "v",
           "showlegend": true,
           "type": "scatter",
           "x": [
            1976
           ],
           "xaxis": "x",
           "y": [
            59
           ],
           "yaxis": "y"
          },
          {
           "hovertemplate": "<b>%{hovertext}</b><br><br>region=Italy<br>Year=%{x}<br>Nb of athletes=%{marker.size}<extra></extra>",
           "hovertext": [
            "Italy"
           ],
           "ids": [
            "Italy"
           ],
           "legendgroup": "Italy",
           "marker": {
            "color": "#00cc96",
            "size": [
             58
            ],
            "sizemode": "area",
            "sizeref": 0.555,
            "symbol": "circle"
           },
           "mode": "markers",
           "name": "Italy",
           "orientation": "v",
           "showlegend": true,
           "type": "scatter",
           "x": [
            1976
           ],
           "xaxis": "x",
           "y": [
            58
           ],
           "yaxis": "y"
          },
          {
           "hovertemplate": "<b>%{hovertext}</b><br><br>region=Norway<br>Year=%{x}<br>Nb of athletes=%{marker.size}<extra></extra>",
           "hovertext": [
            "Norway"
           ],
           "ids": [
            "Norway"
           ],
           "legendgroup": "Norway",
           "marker": {
            "color": "#ab63fa",
            "size": [
             41
            ],
            "sizemode": "area",
            "sizeref": 0.555,
            "symbol": "circle"
           },
           "mode": "markers",
           "name": "Norway",
           "orientation": "v",
           "showlegend": true,
           "type": "scatter",
           "x": [
            1976
           ],
           "xaxis": "x",
           "y": [
            41
           ],
           "yaxis": "y"
          },
          {
           "hovertemplate": "<b>%{hovertext}</b><br><br>region=Sweden<br>Year=%{x}<br>Nb of athletes=%{marker.size}<extra></extra>",
           "hovertext": [
            "Sweden"
           ],
           "ids": [
            "Sweden"
           ],
           "legendgroup": "Sweden",
           "marker": {
            "color": "#FFA15A",
            "size": [
             39
            ],
            "sizemode": "area",
            "sizeref": 0.555,
            "symbol": "circle"
           },
           "mode": "markers",
           "name": "Sweden",
           "orientation": "v",
           "showlegend": true,
           "type": "scatter",
           "x": [
            1976
           ],
           "xaxis": "x",
           "y": [
            39
           ],
           "yaxis": "y"
          },
          {
           "hovertemplate": "<b>%{hovertext}</b><br><br>region=Switzerland<br>Year=%{x}<br>Nb of athletes=%{marker.size}<extra></extra>",
           "hovertext": [
            "Switzerland"
           ],
           "ids": [
            "Switzerland"
           ],
           "legendgroup": "Switzerland",
           "marker": {
            "color": "#19d3f3",
            "size": [
             59
            ],
            "sizemode": "area",
            "sizeref": 0.555,
            "symbol": "circle"
           },
           "mode": "markers",
           "name": "Switzerland",
           "orientation": "v",
           "showlegend": true,
           "type": "scatter",
           "x": [
            1976
           ],
           "xaxis": "x",
           "y": [
            59
           ],
           "yaxis": "y"
          },
          {
           "hovertemplate": "<b>%{hovertext}</b><br><br>region=USA<br>Year=%{x}<br>Nb of athletes=%{marker.size}<extra></extra>",
           "hovertext": [
            "USA"
           ],
           "ids": [
            "USA"
           ],
           "legendgroup": "USA",
           "marker": {
            "color": "#FF6692",
            "size": [
             106
            ],
            "sizemode": "area",
            "sizeref": 0.555,
            "symbol": "circle"
           },
           "mode": "markers",
           "name": "USA",
           "orientation": "v",
           "showlegend": true,
           "type": "scatter",
           "x": [
            1976
           ],
           "xaxis": "x",
           "y": [
            106
           ],
           "yaxis": "y"
          },
          {
           "hovertemplate": "<b>%{hovertext}</b><br><br>region=Germany<br>Year=%{x}<br>Nb of athletes=%{marker.size}<extra></extra>",
           "hovertext": [
            "Germany"
           ],
           "ids": [
            "Germany"
           ],
           "legendgroup": "Germany",
           "marker": {
            "color": "#B6E880",
            "size": [
             130
            ],
            "sizemode": "area",
            "sizeref": 0.555,
            "symbol": "circle"
           },
           "mode": "markers",
           "name": "Germany",
           "orientation": "v",
           "showlegend": true,
           "type": "scatter",
           "x": [
            1976
           ],
           "xaxis": "x",
           "y": [
            130
           ],
           "yaxis": "y"
          },
          {
           "hovertemplate": "<b>%{hovertext}</b><br><br>region=Japan<br>Year=%{x}<br>Nb of athletes=%{marker.size}<extra></extra>",
           "hovertext": [
            "Japan"
           ],
           "ids": [
            "Japan"
           ],
           "legendgroup": "Japan",
           "marker": {
            "color": "#FF97FF",
            "size": [
             58
            ],
            "sizemode": "area",
            "sizeref": 0.555,
            "symbol": "circle"
           },
           "mode": "markers",
           "name": "Japan",
           "orientation": "v",
           "showlegend": true,
           "type": "scatter",
           "x": [
            1976
           ],
           "xaxis": "x",
           "y": [
            58
           ],
           "yaxis": "y"
          },
          {
           "hovertemplate": "<b>%{hovertext}</b><br><br>region=Russia<br>Year=%{x}<br>Nb of athletes=%{marker.size}<extra></extra>",
           "hovertext": [
            "Russia"
           ],
           "ids": [
            "Russia"
           ],
           "legendgroup": "Russia",
           "marker": {
            "color": "#FECB52",
            "size": [
             79
            ],
            "sizemode": "area",
            "sizeref": 0.555,
            "symbol": "circle"
           },
           "mode": "markers",
           "name": "Russia",
           "orientation": "v",
           "showlegend": true,
           "type": "scatter",
           "x": [
            1976
           ],
           "xaxis": "x",
           "y": [
            79
           ],
           "yaxis": "y"
          }
         ],
         "name": "1976"
        },
        {
         "data": [
          {
           "hovertemplate": "<b>%{hovertext}</b><br><br>region=Austria<br>Year=%{x}<br>Nb of athletes=%{marker.size}<extra></extra>",
           "hovertext": [
            "Austria"
           ],
           "ids": [
            "Austria"
           ],
           "legendgroup": "Austria",
           "marker": {
            "color": "#636efa",
            "size": [
             43
            ],
            "sizemode": "area",
            "sizeref": 0.555,
            "symbol": "circle"
           },
           "mode": "markers",
           "name": "Austria",
           "orientation": "v",
           "showlegend": true,
           "type": "scatter",
           "x": [
            1980
           ],
           "xaxis": "x",
           "y": [
            43
           ],
           "yaxis": "y"
          },
          {
           "hovertemplate": "<b>%{hovertext}</b><br><br>region=Canada<br>Year=%{x}<br>Nb of athletes=%{marker.size}<extra></extra>",
           "hovertext": [
            "Canada"
           ],
           "ids": [
            "Canada"
           ],
           "legendgroup": "Canada",
           "marker": {
            "color": "#EF553B",
            "size": [
             59
            ],
            "sizemode": "area",
            "sizeref": 0.555,
            "symbol": "circle"
           },
           "mode": "markers",
           "name": "Canada",
           "orientation": "v",
           "showlegend": true,
           "type": "scatter",
           "x": [
            1980
           ],
           "xaxis": "x",
           "y": [
            59
           ],
           "yaxis": "y"
          },
          {
           "hovertemplate": "<b>%{hovertext}</b><br><br>region=Italy<br>Year=%{x}<br>Nb of athletes=%{marker.size}<extra></extra>",
           "hovertext": [
            "Italy"
           ],
           "ids": [
            "Italy"
           ],
           "legendgroup": "Italy",
           "marker": {
            "color": "#00cc96",
            "size": [
             46
            ],
            "sizemode": "area",
            "sizeref": 0.555,
            "symbol": "circle"
           },
           "mode": "markers",
           "name": "Italy",
           "orientation": "v",
           "showlegend": true,
           "type": "scatter",
           "x": [
            1980
           ],
           "xaxis": "x",
           "y": [
            46
           ],
           "yaxis": "y"
          },
          {
           "hovertemplate": "<b>%{hovertext}</b><br><br>region=Norway<br>Year=%{x}<br>Nb of athletes=%{marker.size}<extra></extra>",
           "hovertext": [
            "Norway"
           ],
           "ids": [
            "Norway"
           ],
           "legendgroup": "Norway",
           "marker": {
            "color": "#ab63fa",
            "size": [
             63
            ],
            "sizemode": "area",
            "sizeref": 0.555,
            "symbol": "circle"
           },
           "mode": "markers",
           "name": "Norway",
           "orientation": "v",
           "showlegend": true,
           "type": "scatter",
           "x": [
            1980
           ],
           "xaxis": "x",
           "y": [
            63
           ],
           "yaxis": "y"
          },
          {
           "hovertemplate": "<b>%{hovertext}</b><br><br>region=Sweden<br>Year=%{x}<br>Nb of athletes=%{marker.size}<extra></extra>",
           "hovertext": [
            "Sweden"
           ],
           "ids": [
            "Sweden"
           ],
           "legendgroup": "Sweden",
           "marker": {
            "color": "#FFA15A",
            "size": [
             61
            ],
            "sizemode": "area",
            "sizeref": 0.555,
            "symbol": "circle"
           },
           "mode": "markers",
           "name": "Sweden",
           "orientation": "v",
           "showlegend": true,
           "type": "scatter",
           "x": [
            1980
           ],
           "xaxis": "x",
           "y": [
            61
           ],
           "yaxis": "y"
          },
          {
           "hovertemplate": "<b>%{hovertext}</b><br><br>region=Switzerland<br>Year=%{x}<br>Nb of athletes=%{marker.size}<extra></extra>",
           "hovertext": [
            "Switzerland"
           ],
           "ids": [
            "Switzerland"
           ],
           "legendgroup": "Switzerland",
           "marker": {
            "color": "#19d3f3",
            "size": [
             44
            ],
            "sizemode": "area",
            "sizeref": 0.555,
            "symbol": "circle"
           },
           "mode": "markers",
           "name": "Switzerland",
           "orientation": "v",
           "showlegend": true,
           "type": "scatter",
           "x": [
            1980
           ],
           "xaxis": "x",
           "y": [
            44
           ],
           "yaxis": "y"
          },
          {
           "hovertemplate": "<b>%{hovertext}</b><br><br>region=USA<br>Year=%{x}<br>Nb of athletes=%{marker.size}<extra></extra>",
           "hovertext": [
            "USA"
           ],
           "ids": [
            "USA"
           ],
           "legendgroup": "USA",
           "marker": {
            "color": "#FF6692",
            "size": [
             101
            ],
            "sizemode": "area",
            "sizeref": 0.555,
            "symbol": "circle"
           },
           "mode": "markers",
           "name": "USA",
           "orientation": "v",
           "showlegend": true,
           "type": "scatter",
           "x": [
            1980
           ],
           "xaxis": "x",
           "y": [
            101
           ],
           "yaxis": "y"
          },
          {
           "hovertemplate": "<b>%{hovertext}</b><br><br>region=Germany<br>Year=%{x}<br>Nb of athletes=%{marker.size}<extra></extra>",
           "hovertext": [
            "Germany"
           ],
           "ids": [
            "Germany"
           ],
           "legendgroup": "Germany",
           "marker": {
            "color": "#B6E880",
            "size": [
             133
            ],
            "sizemode": "area",
            "sizeref": 0.555,
            "symbol": "circle"
           },
           "mode": "markers",
           "name": "Germany",
           "orientation": "v",
           "showlegend": true,
           "type": "scatter",
           "x": [
            1980
           ],
           "xaxis": "x",
           "y": [
            133
           ],
           "yaxis": "y"
          },
          {
           "hovertemplate": "<b>%{hovertext}</b><br><br>region=Japan<br>Year=%{x}<br>Nb of athletes=%{marker.size}<extra></extra>",
           "hovertext": [
            "Japan"
           ],
           "ids": [
            "Japan"
           ],
           "legendgroup": "Japan",
           "marker": {
            "color": "#FF97FF",
            "size": [
             50
            ],
            "sizemode": "area",
            "sizeref": 0.555,
            "symbol": "circle"
           },
           "mode": "markers",
           "name": "Japan",
           "orientation": "v",
           "showlegend": true,
           "type": "scatter",
           "x": [
            1980
           ],
           "xaxis": "x",
           "y": [
            50
           ],
           "yaxis": "y"
          },
          {
           "hovertemplate": "<b>%{hovertext}</b><br><br>region=Russia<br>Year=%{x}<br>Nb of athletes=%{marker.size}<extra></extra>",
           "hovertext": [
            "Russia"
           ],
           "ids": [
            "Russia"
           ],
           "legendgroup": "Russia",
           "marker": {
            "color": "#FECB52",
            "size": [
             86
            ],
            "sizemode": "area",
            "sizeref": 0.555,
            "symbol": "circle"
           },
           "mode": "markers",
           "name": "Russia",
           "orientation": "v",
           "showlegend": true,
           "type": "scatter",
           "x": [
            1980
           ],
           "xaxis": "x",
           "y": [
            86
           ],
           "yaxis": "y"
          }
         ],
         "name": "1980"
        },
        {
         "data": [
          {
           "hovertemplate": "<b>%{hovertext}</b><br><br>region=Austria<br>Year=%{x}<br>Nb of athletes=%{marker.size}<extra></extra>",
           "hovertext": [
            "Austria"
           ],
           "ids": [
            "Austria"
           ],
           "legendgroup": "Austria",
           "marker": {
            "color": "#636efa",
            "size": [
             65
            ],
            "sizemode": "area",
            "sizeref": 0.555,
            "symbol": "circle"
           },
           "mode": "markers",
           "name": "Austria",
           "orientation": "v",
           "showlegend": true,
           "type": "scatter",
           "x": [
            1984
           ],
           "xaxis": "x",
           "y": [
            65
           ],
           "yaxis": "y"
          },
          {
           "hovertemplate": "<b>%{hovertext}</b><br><br>region=Canada<br>Year=%{x}<br>Nb of athletes=%{marker.size}<extra></extra>",
           "hovertext": [
            "Canada"
           ],
           "ids": [
            "Canada"
           ],
           "legendgroup": "Canada",
           "marker": {
            "color": "#EF553B",
            "size": [
             67
            ],
            "sizemode": "area",
            "sizeref": 0.555,
            "symbol": "circle"
           },
           "mode": "markers",
           "name": "Canada",
           "orientation": "v",
           "showlegend": true,
           "type": "scatter",
           "x": [
            1984
           ],
           "xaxis": "x",
           "y": [
            67
           ],
           "yaxis": "y"
          },
          {
           "hovertemplate": "<b>%{hovertext}</b><br><br>region=Italy<br>Year=%{x}<br>Nb of athletes=%{marker.size}<extra></extra>",
           "hovertext": [
            "Italy"
           ],
           "ids": [
            "Italy"
           ],
           "legendgroup": "Italy",
           "marker": {
            "color": "#00cc96",
            "size": [
             74
            ],
            "sizemode": "area",
            "sizeref": 0.555,
            "symbol": "circle"
           },
           "mode": "markers",
           "name": "Italy",
           "orientation": "v",
           "showlegend": true,
           "type": "scatter",
           "x": [
            1984
           ],
           "xaxis": "x",
           "y": [
            74
           ],
           "yaxis": "y"
          },
          {
           "hovertemplate": "<b>%{hovertext}</b><br><br>region=Norway<br>Year=%{x}<br>Nb of athletes=%{marker.size}<extra></extra>",
           "hovertext": [
            "Norway"
           ],
           "ids": [
            "Norway"
           ],
           "legendgroup": "Norway",
           "marker": {
            "color": "#ab63fa",
            "size": [
             58
            ],
            "sizemode": "area",
            "sizeref": 0.555,
            "symbol": "circle"
           },
           "mode": "markers",
           "name": "Norway",
           "orientation": "v",
           "showlegend": true,
           "type": "scatter",
           "x": [
            1984
           ],
           "xaxis": "x",
           "y": [
            58
           ],
           "yaxis": "y"
          },
          {
           "hovertemplate": "<b>%{hovertext}</b><br><br>region=Sweden<br>Year=%{x}<br>Nb of athletes=%{marker.size}<extra></extra>",
           "hovertext": [
            "Sweden"
           ],
           "ids": [
            "Sweden"
           ],
           "legendgroup": "Sweden",
           "marker": {
            "color": "#FFA15A",
            "size": [
             60
            ],
            "sizemode": "area",
            "sizeref": 0.555,
            "symbol": "circle"
           },
           "mode": "markers",
           "name": "Sweden",
           "orientation": "v",
           "showlegend": true,
           "type": "scatter",
           "x": [
            1984
           ],
           "xaxis": "x",
           "y": [
            60
           ],
           "yaxis": "y"
          },
          {
           "hovertemplate": "<b>%{hovertext}</b><br><br>region=Switzerland<br>Year=%{x}<br>Nb of athletes=%{marker.size}<extra></extra>",
           "hovertext": [
            "Switzerland"
           ],
           "ids": [
            "Switzerland"
           ],
           "legendgroup": "Switzerland",
           "marker": {
            "color": "#19d3f3",
            "size": [
             42
            ],
            "sizemode": "area",
            "sizeref": 0.555,
            "symbol": "circle"
           },
           "mode": "markers",
           "name": "Switzerland",
           "orientation": "v",
           "showlegend": true,
           "type": "scatter",
           "x": [
            1984
           ],
           "xaxis": "x",
           "y": [
            42
           ],
           "yaxis": "y"
          },
          {
           "hovertemplate": "<b>%{hovertext}</b><br><br>region=USA<br>Year=%{x}<br>Nb of athletes=%{marker.size}<extra></extra>",
           "hovertext": [
            "USA"
           ],
           "ids": [
            "USA"
           ],
           "legendgroup": "USA",
           "marker": {
            "color": "#FF6692",
            "size": [
             107
            ],
            "sizemode": "area",
            "sizeref": 0.555,
            "symbol": "circle"
           },
           "mode": "markers",
           "name": "USA",
           "orientation": "v",
           "showlegend": true,
           "type": "scatter",
           "x": [
            1984
           ],
           "xaxis": "x",
           "y": [
            107
           ],
           "yaxis": "y"
          },
          {
           "hovertemplate": "<b>%{hovertext}</b><br><br>region=Germany<br>Year=%{x}<br>Nb of athletes=%{marker.size}<extra></extra>",
           "hovertext": [
            "Germany"
           ],
           "ids": [
            "Germany"
           ],
           "legendgroup": "Germany",
           "marker": {
            "color": "#B6E880",
            "size": [
             140
            ],
            "sizemode": "area",
            "sizeref": 0.555,
            "symbol": "circle"
           },
           "mode": "markers",
           "name": "Germany",
           "orientation": "v",
           "showlegend": true,
           "type": "scatter",
           "x": [
            1984
           ],
           "xaxis": "x",
           "y": [
            140
           ],
           "yaxis": "y"
          },
          {
           "hovertemplate": "<b>%{hovertext}</b><br><br>region=Japan<br>Year=%{x}<br>Nb of athletes=%{marker.size}<extra></extra>",
           "hovertext": [
            "Japan"
           ],
           "ids": [
            "Japan"
           ],
           "legendgroup": "Japan",
           "marker": {
            "color": "#FF97FF",
            "size": [
             39
            ],
            "sizemode": "area",
            "sizeref": 0.555,
            "symbol": "circle"
           },
           "mode": "markers",
           "name": "Japan",
           "orientation": "v",
           "showlegend": true,
           "type": "scatter",
           "x": [
            1984
           ],
           "xaxis": "x",
           "y": [
            39
           ],
           "yaxis": "y"
          },
          {
           "hovertemplate": "<b>%{hovertext}</b><br><br>region=Russia<br>Year=%{x}<br>Nb of athletes=%{marker.size}<extra></extra>",
           "hovertext": [
            "Russia"
           ],
           "ids": [
            "Russia"
           ],
           "legendgroup": "Russia",
           "marker": {
            "color": "#FECB52",
            "size": [
             99
            ],
            "sizemode": "area",
            "sizeref": 0.555,
            "symbol": "circle"
           },
           "mode": "markers",
           "name": "Russia",
           "orientation": "v",
           "showlegend": true,
           "type": "scatter",
           "x": [
            1984
           ],
           "xaxis": "x",
           "y": [
            99
           ],
           "yaxis": "y"
          }
         ],
         "name": "1984"
        },
        {
         "data": [
          {
           "hovertemplate": "<b>%{hovertext}</b><br><br>region=Austria<br>Year=%{x}<br>Nb of athletes=%{marker.size}<extra></extra>",
           "hovertext": [
            "Austria"
           ],
           "ids": [
            "Austria"
           ],
           "legendgroup": "Austria",
           "marker": {
            "color": "#636efa",
            "size": [
             81
            ],
            "sizemode": "area",
            "sizeref": 0.555,
            "symbol": "circle"
           },
           "mode": "markers",
           "name": "Austria",
           "orientation": "v",
           "showlegend": true,
           "type": "scatter",
           "x": [
            1988
           ],
           "xaxis": "x",
           "y": [
            81
           ],
           "yaxis": "y"
          },
          {
           "hovertemplate": "<b>%{hovertext}</b><br><br>region=Canada<br>Year=%{x}<br>Nb of athletes=%{marker.size}<extra></extra>",
           "hovertext": [
            "Canada"
           ],
           "ids": [
            "Canada"
           ],
           "legendgroup": "Canada",
           "marker": {
            "color": "#EF553B",
            "size": [
             112
            ],
            "sizemode": "area",
            "sizeref": 0.555,
            "symbol": "circle"
           },
           "mode": "markers",
           "name": "Canada",
           "orientation": "v",
           "showlegend": true,
           "type": "scatter",
           "x": [
            1988
           ],
           "xaxis": "x",
           "y": [
            112
           ],
           "yaxis": "y"
          },
          {
           "hovertemplate": "<b>%{hovertext}</b><br><br>region=Italy<br>Year=%{x}<br>Nb of athletes=%{marker.size}<extra></extra>",
           "hovertext": [
            "Italy"
           ],
           "ids": [
            "Italy"
           ],
           "legendgroup": "Italy",
           "marker": {
            "color": "#00cc96",
            "size": [
             58
            ],
            "sizemode": "area",
            "sizeref": 0.555,
            "symbol": "circle"
           },
           "mode": "markers",
           "name": "Italy",
           "orientation": "v",
           "showlegend": true,
           "type": "scatter",
           "x": [
            1988
           ],
           "xaxis": "x",
           "y": [
            58
           ],
           "yaxis": "y"
          },
          {
           "hovertemplate": "<b>%{hovertext}</b><br><br>region=Norway<br>Year=%{x}<br>Nb of athletes=%{marker.size}<extra></extra>",
           "hovertext": [
            "Norway"
           ],
           "ids": [
            "Norway"
           ],
           "legendgroup": "Norway",
           "marker": {
            "color": "#ab63fa",
            "size": [
             63
            ],
            "sizemode": "area",
            "sizeref": 0.555,
            "symbol": "circle"
           },
           "mode": "markers",
           "name": "Norway",
           "orientation": "v",
           "showlegend": true,
           "type": "scatter",
           "x": [
            1988
           ],
           "xaxis": "x",
           "y": [
            63
           ],
           "yaxis": "y"
          },
          {
           "hovertemplate": "<b>%{hovertext}</b><br><br>region=Sweden<br>Year=%{x}<br>Nb of athletes=%{marker.size}<extra></extra>",
           "hovertext": [
            "Sweden"
           ],
           "ids": [
            "Sweden"
           ],
           "legendgroup": "Sweden",
           "marker": {
            "color": "#FFA15A",
            "size": [
             67
            ],
            "sizemode": "area",
            "sizeref": 0.555,
            "symbol": "circle"
           },
           "mode": "markers",
           "name": "Sweden",
           "orientation": "v",
           "showlegend": true,
           "type": "scatter",
           "x": [
            1988
           ],
           "xaxis": "x",
           "y": [
            67
           ],
           "yaxis": "y"
          },
          {
           "hovertemplate": "<b>%{hovertext}</b><br><br>region=Switzerland<br>Year=%{x}<br>Nb of athletes=%{marker.size}<extra></extra>",
           "hovertext": [
            "Switzerland"
           ],
           "ids": [
            "Switzerland"
           ],
           "legendgroup": "Switzerland",
           "marker": {
            "color": "#19d3f3",
            "size": [
             70
            ],
            "sizemode": "area",
            "sizeref": 0.555,
            "symbol": "circle"
           },
           "mode": "markers",
           "name": "Switzerland",
           "orientation": "v",
           "showlegend": true,
           "type": "scatter",
           "x": [
            1988
           ],
           "xaxis": "x",
           "y": [
            70
           ],
           "yaxis": "y"
          },
          {
           "hovertemplate": "<b>%{hovertext}</b><br><br>region=USA<br>Year=%{x}<br>Nb of athletes=%{marker.size}<extra></extra>",
           "hovertext": [
            "USA"
           ],
           "ids": [
            "USA"
           ],
           "legendgroup": "USA",
           "marker": {
            "color": "#FF6692",
            "size": [
             117
            ],
            "sizemode": "area",
            "sizeref": 0.555,
            "symbol": "circle"
           },
           "mode": "markers",
           "name": "USA",
           "orientation": "v",
           "showlegend": true,
           "type": "scatter",
           "x": [
            1988
           ],
           "xaxis": "x",
           "y": [
            117
           ],
           "yaxis": "y"
          },
          {
           "hovertemplate": "<b>%{hovertext}</b><br><br>region=Germany<br>Year=%{x}<br>Nb of athletes=%{marker.size}<extra></extra>",
           "hovertext": [
            "Germany"
           ],
           "ids": [
            "Germany"
           ],
           "legendgroup": "Germany",
           "marker": {
            "color": "#B6E880",
            "size": [
             143
            ],
            "sizemode": "area",
            "sizeref": 0.555,
            "symbol": "circle"
           },
           "mode": "markers",
           "name": "Germany",
           "orientation": "v",
           "showlegend": true,
           "type": "scatter",
           "x": [
            1988
           ],
           "xaxis": "x",
           "y": [
            143
           ],
           "yaxis": "y"
          },
          {
           "hovertemplate": "<b>%{hovertext}</b><br><br>region=Japan<br>Year=%{x}<br>Nb of athletes=%{marker.size}<extra></extra>",
           "hovertext": [
            "Japan"
           ],
           "ids": [
            "Japan"
           ],
           "legendgroup": "Japan",
           "marker": {
            "color": "#FF97FF",
            "size": [
             48
            ],
            "sizemode": "area",
            "sizeref": 0.555,
            "symbol": "circle"
           },
           "mode": "markers",
           "name": "Japan",
           "orientation": "v",
           "showlegend": true,
           "type": "scatter",
           "x": [
            1988
           ],
           "xaxis": "x",
           "y": [
            48
           ],
           "yaxis": "y"
          },
          {
           "hovertemplate": "<b>%{hovertext}</b><br><br>region=Russia<br>Year=%{x}<br>Nb of athletes=%{marker.size}<extra></extra>",
           "hovertext": [
            "Russia"
           ],
           "ids": [
            "Russia"
           ],
           "legendgroup": "Russia",
           "marker": {
            "color": "#FECB52",
            "size": [
             101
            ],
            "sizemode": "area",
            "sizeref": 0.555,
            "symbol": "circle"
           },
           "mode": "markers",
           "name": "Russia",
           "orientation": "v",
           "showlegend": true,
           "type": "scatter",
           "x": [
            1988
           ],
           "xaxis": "x",
           "y": [
            101
           ],
           "yaxis": "y"
          }
         ],
         "name": "1988"
        },
        {
         "data": [
          {
           "hovertemplate": "<b>%{hovertext}</b><br><br>region=Austria<br>Year=%{x}<br>Nb of athletes=%{marker.size}<extra></extra>",
           "hovertext": [
            "Austria"
           ],
           "ids": [
            "Austria"
           ],
           "legendgroup": "Austria",
           "marker": {
            "color": "#636efa",
            "size": [
             58
            ],
            "sizemode": "area",
            "sizeref": 0.555,
            "symbol": "circle"
           },
           "mode": "markers",
           "name": "Austria",
           "orientation": "v",
           "showlegend": true,
           "type": "scatter",
           "x": [
            1992
           ],
           "xaxis": "x",
           "y": [
            58
           ],
           "yaxis": "y"
          },
          {
           "hovertemplate": "<b>%{hovertext}</b><br><br>region=Canada<br>Year=%{x}<br>Nb of athletes=%{marker.size}<extra></extra>",
           "hovertext": [
            "Canada"
           ],
           "ids": [
            "Canada"
           ],
           "legendgroup": "Canada",
           "marker": {
            "color": "#EF553B",
            "size": [
             108
            ],
            "sizemode": "area",
            "sizeref": 0.555,
            "symbol": "circle"
           },
           "mode": "markers",
           "name": "Canada",
           "orientation": "v",
           "showlegend": true,
           "type": "scatter",
           "x": [
            1992
           ],
           "xaxis": "x",
           "y": [
            108
           ],
           "yaxis": "y"
          },
          {
           "hovertemplate": "<b>%{hovertext}</b><br><br>region=Italy<br>Year=%{x}<br>Nb of athletes=%{marker.size}<extra></extra>",
           "hovertext": [
            "Italy"
           ],
           "ids": [
            "Italy"
           ],
           "legendgroup": "Italy",
           "marker": {
            "color": "#00cc96",
            "size": [
             107
            ],
            "sizemode": "area",
            "sizeref": 0.555,
            "symbol": "circle"
           },
           "mode": "markers",
           "name": "Italy",
           "orientation": "v",
           "showlegend": true,
           "type": "scatter",
           "x": [
            1992
           ],
           "xaxis": "x",
           "y": [
            107
           ],
           "yaxis": "y"
          },
          {
           "hovertemplate": "<b>%{hovertext}</b><br><br>region=Norway<br>Year=%{x}<br>Nb of athletes=%{marker.size}<extra></extra>",
           "hovertext": [
            "Norway"
           ],
           "ids": [
            "Norway"
           ],
           "legendgroup": "Norway",
           "marker": {
            "color": "#ab63fa",
            "size": [
             79
            ],
            "sizemode": "area",
            "sizeref": 0.555,
            "symbol": "circle"
           },
           "mode": "markers",
           "name": "Norway",
           "orientation": "v",
           "showlegend": true,
           "type": "scatter",
           "x": [
            1992
           ],
           "xaxis": "x",
           "y": [
            79
           ],
           "yaxis": "y"
          },
          {
           "hovertemplate": "<b>%{hovertext}</b><br><br>region=Sweden<br>Year=%{x}<br>Nb of athletes=%{marker.size}<extra></extra>",
           "hovertext": [
            "Sweden"
           ],
           "ids": [
            "Sweden"
           ],
           "legendgroup": "Sweden",
           "marker": {
            "color": "#FFA15A",
            "size": [
             73
            ],
            "sizemode": "area",
            "sizeref": 0.555,
            "symbol": "circle"
           },
           "mode": "markers",
           "name": "Sweden",
           "orientation": "v",
           "showlegend": true,
           "type": "scatter",
           "x": [
            1992
           ],
           "xaxis": "x",
           "y": [
            73
           ],
           "yaxis": "y"
          },
          {
           "hovertemplate": "<b>%{hovertext}</b><br><br>region=Switzerland<br>Year=%{x}<br>Nb of athletes=%{marker.size}<extra></extra>",
           "hovertext": [
            "Switzerland"
           ],
           "ids": [
            "Switzerland"
           ],
           "legendgroup": "Switzerland",
           "marker": {
            "color": "#19d3f3",
            "size": [
             74
            ],
            "sizemode": "area",
            "sizeref": 0.555,
            "symbol": "circle"
           },
           "mode": "markers",
           "name": "Switzerland",
           "orientation": "v",
           "showlegend": true,
           "type": "scatter",
           "x": [
            1992
           ],
           "xaxis": "x",
           "y": [
            74
           ],
           "yaxis": "y"
          },
          {
           "hovertemplate": "<b>%{hovertext}</b><br><br>region=USA<br>Year=%{x}<br>Nb of athletes=%{marker.size}<extra></extra>",
           "hovertext": [
            "USA"
           ],
           "ids": [
            "USA"
           ],
           "legendgroup": "USA",
           "marker": {
            "color": "#FF6692",
            "size": [
             148
            ],
            "sizemode": "area",
            "sizeref": 0.555,
            "symbol": "circle"
           },
           "mode": "markers",
           "name": "USA",
           "orientation": "v",
           "showlegend": true,
           "type": "scatter",
           "x": [
            1992
           ],
           "xaxis": "x",
           "y": [
            148
           ],
           "yaxis": "y"
          },
          {
           "hovertemplate": "<b>%{hovertext}</b><br><br>region=Germany<br>Year=%{x}<br>Nb of athletes=%{marker.size}<extra></extra>",
           "hovertext": [
            "Germany"
           ],
           "ids": [
            "Germany"
           ],
           "legendgroup": "Germany",
           "marker": {
            "color": "#B6E880",
            "size": [
             111
            ],
            "sizemode": "area",
            "sizeref": 0.555,
            "symbol": "circle"
           },
           "mode": "markers",
           "name": "Germany",
           "orientation": "v",
           "showlegend": true,
           "type": "scatter",
           "x": [
            1992
           ],
           "xaxis": "x",
           "y": [
            111
           ],
           "yaxis": "y"
          },
          {
           "hovertemplate": "<b>%{hovertext}</b><br><br>region=Japan<br>Year=%{x}<br>Nb of athletes=%{marker.size}<extra></extra>",
           "hovertext": [
            "Japan"
           ],
           "ids": [
            "Japan"
           ],
           "legendgroup": "Japan",
           "marker": {
            "color": "#FF97FF",
            "size": [
             60
            ],
            "sizemode": "area",
            "sizeref": 0.555,
            "symbol": "circle"
           },
           "mode": "markers",
           "name": "Japan",
           "orientation": "v",
           "showlegend": true,
           "type": "scatter",
           "x": [
            1992
           ],
           "xaxis": "x",
           "y": [
            60
           ],
           "yaxis": "y"
          },
          {
           "hovertemplate": "<b>%{hovertext}</b><br><br>region=Russia<br>Year=%{x}<br>Nb of athletes=%{marker.size}<extra></extra>",
           "hovertext": [
            "Russia"
           ],
           "ids": [
            "Russia"
           ],
           "legendgroup": "Russia",
           "marker": {
            "color": "#FECB52",
            "size": [
             129
            ],
            "sizemode": "area",
            "sizeref": 0.555,
            "symbol": "circle"
           },
           "mode": "markers",
           "name": "Russia",
           "orientation": "v",
           "showlegend": true,
           "type": "scatter",
           "x": [
            1992
           ],
           "xaxis": "x",
           "y": [
            129
           ],
           "yaxis": "y"
          }
         ],
         "name": "1992"
        },
        {
         "data": [
          {
           "hovertemplate": "<b>%{hovertext}</b><br><br>region=Austria<br>Year=%{x}<br>Nb of athletes=%{marker.size}<extra></extra>",
           "hovertext": [
            "Austria"
           ],
           "ids": [
            "Austria"
           ],
           "legendgroup": "Austria",
           "marker": {
            "color": "#636efa",
            "size": [
             80
            ],
            "sizemode": "area",
            "sizeref": 0.555,
            "symbol": "circle"
           },
           "mode": "markers",
           "name": "Austria",
           "orientation": "v",
           "showlegend": true,
           "type": "scatter",
           "x": [
            1994
           ],
           "xaxis": "x",
           "y": [
            80
           ],
           "yaxis": "y"
          },
          {
           "hovertemplate": "<b>%{hovertext}</b><br><br>region=Canada<br>Year=%{x}<br>Nb of athletes=%{marker.size}<extra></extra>",
           "hovertext": [
            "Canada"
           ],
           "ids": [
            "Canada"
           ],
           "legendgroup": "Canada",
           "marker": {
            "color": "#EF553B",
            "size": [
             95
            ],
            "sizemode": "area",
            "sizeref": 0.555,
            "symbol": "circle"
           },
           "mode": "markers",
           "name": "Canada",
           "orientation": "v",
           "showlegend": true,
           "type": "scatter",
           "x": [
            1994
           ],
           "xaxis": "x",
           "y": [
            95
           ],
           "yaxis": "y"
          },
          {
           "hovertemplate": "<b>%{hovertext}</b><br><br>region=Italy<br>Year=%{x}<br>Nb of athletes=%{marker.size}<extra></extra>",
           "hovertext": [
            "Italy"
           ],
           "ids": [
            "Italy"
           ],
           "legendgroup": "Italy",
           "marker": {
            "color": "#00cc96",
            "size": [
             104
            ],
            "sizemode": "area",
            "sizeref": 0.555,
            "symbol": "circle"
           },
           "mode": "markers",
           "name": "Italy",
           "orientation": "v",
           "showlegend": true,
           "type": "scatter",
           "x": [
            1994
           ],
           "xaxis": "x",
           "y": [
            104
           ],
           "yaxis": "y"
          },
          {
           "hovertemplate": "<b>%{hovertext}</b><br><br>region=Norway<br>Year=%{x}<br>Nb of athletes=%{marker.size}<extra></extra>",
           "hovertext": [
            "Norway"
           ],
           "ids": [
            "Norway"
           ],
           "legendgroup": "Norway",
           "marker": {
            "color": "#ab63fa",
            "size": [
             87
            ],
            "sizemode": "area",
            "sizeref": 0.555,
            "symbol": "circle"
           },
           "mode": "markers",
           "name": "Norway",
           "orientation": "v",
           "showlegend": true,
           "type": "scatter",
           "x": [
            1994
           ],
           "xaxis": "x",
           "y": [
            87
           ],
           "yaxis": "y"
          },
          {
           "hovertemplate": "<b>%{hovertext}</b><br><br>region=Sweden<br>Year=%{x}<br>Nb of athletes=%{marker.size}<extra></extra>",
           "hovertext": [
            "Sweden"
           ],
           "ids": [
            "Sweden"
           ],
           "legendgroup": "Sweden",
           "marker": {
            "color": "#FFA15A",
            "size": [
             84
            ],
            "sizemode": "area",
            "sizeref": 0.555,
            "symbol": "circle"
           },
           "mode": "markers",
           "name": "Sweden",
           "orientation": "v",
           "showlegend": true,
           "type": "scatter",
           "x": [
            1994
           ],
           "xaxis": "x",
           "y": [
            84
           ],
           "yaxis": "y"
          },
          {
           "hovertemplate": "<b>%{hovertext}</b><br><br>region=Switzerland<br>Year=%{x}<br>Nb of athletes=%{marker.size}<extra></extra>",
           "hovertext": [
            "Switzerland"
           ],
           "ids": [
            "Switzerland"
           ],
           "legendgroup": "Switzerland",
           "marker": {
            "color": "#19d3f3",
            "size": [
             59
            ],
            "sizemode": "area",
            "sizeref": 0.555,
            "symbol": "circle"
           },
           "mode": "markers",
           "name": "Switzerland",
           "orientation": "v",
           "showlegend": true,
           "type": "scatter",
           "x": [
            1994
           ],
           "xaxis": "x",
           "y": [
            59
           ],
           "yaxis": "y"
          },
          {
           "hovertemplate": "<b>%{hovertext}</b><br><br>region=USA<br>Year=%{x}<br>Nb of athletes=%{marker.size}<extra></extra>",
           "hovertext": [
            "USA"
           ],
           "ids": [
            "USA"
           ],
           "legendgroup": "USA",
           "marker": {
            "color": "#FF6692",
            "size": [
             148
            ],
            "sizemode": "area",
            "sizeref": 0.555,
            "symbol": "circle"
           },
           "mode": "markers",
           "name": "USA",
           "orientation": "v",
           "showlegend": true,
           "type": "scatter",
           "x": [
            1994
           ],
           "xaxis": "x",
           "y": [
            148
           ],
           "yaxis": "y"
          },
          {
           "hovertemplate": "<b>%{hovertext}</b><br><br>region=Germany<br>Year=%{x}<br>Nb of athletes=%{marker.size}<extra></extra>",
           "hovertext": [
            "Germany"
           ],
           "ids": [
            "Germany"
           ],
           "legendgroup": "Germany",
           "marker": {
            "color": "#B6E880",
            "size": [
             112
            ],
            "sizemode": "area",
            "sizeref": 0.555,
            "symbol": "circle"
           },
           "mode": "markers",
           "name": "Germany",
           "orientation": "v",
           "showlegend": true,
           "type": "scatter",
           "x": [
            1994
           ],
           "xaxis": "x",
           "y": [
            112
           ],
           "yaxis": "y"
          },
          {
           "hovertemplate": "<b>%{hovertext}</b><br><br>region=Japan<br>Year=%{x}<br>Nb of athletes=%{marker.size}<extra></extra>",
           "hovertext": [
            "Japan"
           ],
           "ids": [
            "Japan"
           ],
           "legendgroup": "Japan",
           "marker": {
            "color": "#FF97FF",
            "size": [
             59
            ],
            "sizemode": "area",
            "sizeref": 0.555,
            "symbol": "circle"
           },
           "mode": "markers",
           "name": "Japan",
           "orientation": "v",
           "showlegend": true,
           "type": "scatter",
           "x": [
            1994
           ],
           "xaxis": "x",
           "y": [
            59
           ],
           "yaxis": "y"
          },
          {
           "hovertemplate": "<b>%{hovertext}</b><br><br>region=Russia<br>Year=%{x}<br>Nb of athletes=%{marker.size}<extra></extra>",
           "hovertext": [
            "Russia"
           ],
           "ids": [
            "Russia"
           ],
           "legendgroup": "Russia",
           "marker": {
            "color": "#FECB52",
            "size": [
             113
            ],
            "sizemode": "area",
            "sizeref": 0.555,
            "symbol": "circle"
           },
           "mode": "markers",
           "name": "Russia",
           "orientation": "v",
           "showlegend": true,
           "type": "scatter",
           "x": [
            1994
           ],
           "xaxis": "x",
           "y": [
            113
           ],
           "yaxis": "y"
          }
         ],
         "name": "1994"
        },
        {
         "data": [
          {
           "hovertemplate": "<b>%{hovertext}</b><br><br>region=Austria<br>Year=%{x}<br>Nb of athletes=%{marker.size}<extra></extra>",
           "hovertext": [
            "Austria"
           ],
           "ids": [
            "Austria"
           ],
           "legendgroup": "Austria",
           "marker": {
            "color": "#636efa",
            "size": [
             96
            ],
            "sizemode": "area",
            "sizeref": 0.555,
            "symbol": "circle"
           },
           "mode": "markers",
           "name": "Austria",
           "orientation": "v",
           "showlegend": true,
           "type": "scatter",
           "x": [
            1998
           ],
           "xaxis": "x",
           "y": [
            96
           ],
           "yaxis": "y"
          },
          {
           "hovertemplate": "<b>%{hovertext}</b><br><br>region=Canada<br>Year=%{x}<br>Nb of athletes=%{marker.size}<extra></extra>",
           "hovertext": [
            "Canada"
           ],
           "ids": [
            "Canada"
           ],
           "legendgroup": "Canada",
           "marker": {
            "color": "#EF553B",
            "size": [
             144
            ],
            "sizemode": "area",
            "sizeref": 0.555,
            "symbol": "circle"
           },
           "mode": "markers",
           "name": "Canada",
           "orientation": "v",
           "showlegend": true,
           "type": "scatter",
           "x": [
            1998
           ],
           "xaxis": "x",
           "y": [
            144
           ],
           "yaxis": "y"
          },
          {
           "hovertemplate": "<b>%{hovertext}</b><br><br>region=Italy<br>Year=%{x}<br>Nb of athletes=%{marker.size}<extra></extra>",
           "hovertext": [
            "Italy"
           ],
           "ids": [
            "Italy"
           ],
           "legendgroup": "Italy",
           "marker": {
            "color": "#00cc96",
            "size": [
             113
            ],
            "sizemode": "area",
            "sizeref": 0.555,
            "symbol": "circle"
           },
           "mode": "markers",
           "name": "Italy",
           "orientation": "v",
           "showlegend": true,
           "type": "scatter",
           "x": [
            1998
           ],
           "xaxis": "x",
           "y": [
            113
           ],
           "yaxis": "y"
          },
          {
           "hovertemplate": "<b>%{hovertext}</b><br><br>region=Norway<br>Year=%{x}<br>Nb of athletes=%{marker.size}<extra></extra>",
           "hovertext": [
            "Norway"
           ],
           "ids": [
            "Norway"
           ],
           "legendgroup": "Norway",
           "marker": {
            "color": "#ab63fa",
            "size": [
             75
            ],
            "sizemode": "area",
            "sizeref": 0.555,
            "symbol": "circle"
           },
           "mode": "markers",
           "name": "Norway",
           "orientation": "v",
           "showlegend": true,
           "type": "scatter",
           "x": [
            1998
           ],
           "xaxis": "x",
           "y": [
            75
           ],
           "yaxis": "y"
          },
          {
           "hovertemplate": "<b>%{hovertext}</b><br><br>region=Sweden<br>Year=%{x}<br>Nb of athletes=%{marker.size}<extra></extra>",
           "hovertext": [
            "Sweden"
           ],
           "ids": [
            "Sweden"
           ],
           "legendgroup": "Sweden",
           "marker": {
            "color": "#FFA15A",
            "size": [
             99
            ],
            "sizemode": "area",
            "sizeref": 0.555,
            "symbol": "circle"
           },
           "mode": "markers",
           "name": "Sweden",
           "orientation": "v",
           "showlegend": true,
           "type": "scatter",
           "x": [
            1998
           ],
           "xaxis": "x",
           "y": [
            99
           ],
           "yaxis": "y"
          },
          {
           "hovertemplate": "<b>%{hovertext}</b><br><br>region=Switzerland<br>Year=%{x}<br>Nb of athletes=%{marker.size}<extra></extra>",
           "hovertext": [
            "Switzerland"
           ],
           "ids": [
            "Switzerland"
           ],
           "legendgroup": "Switzerland",
           "marker": {
            "color": "#19d3f3",
            "size": [
             69
            ],
            "sizemode": "area",
            "sizeref": 0.555,
            "symbol": "circle"
           },
           "mode": "markers",
           "name": "Switzerland",
           "orientation": "v",
           "showlegend": true,
           "type": "scatter",
           "x": [
            1998
           ],
           "xaxis": "x",
           "y": [
            69
           ],
           "yaxis": "y"
          },
          {
           "hovertemplate": "<b>%{hovertext}</b><br><br>region=USA<br>Year=%{x}<br>Nb of athletes=%{marker.size}<extra></extra>",
           "hovertext": [
            "USA"
           ],
           "ids": [
            "USA"
           ],
           "legendgroup": "USA",
           "marker": {
            "color": "#FF6692",
            "size": [
             186
            ],
            "sizemode": "area",
            "sizeref": 0.555,
            "symbol": "circle"
           },
           "mode": "markers",
           "name": "USA",
           "orientation": "v",
           "showlegend": true,
           "type": "scatter",
           "x": [
            1998
           ],
           "xaxis": "x",
           "y": [
            186
           ],
           "yaxis": "y"
          },
          {
           "hovertemplate": "<b>%{hovertext}</b><br><br>region=Germany<br>Year=%{x}<br>Nb of athletes=%{marker.size}<extra></extra>",
           "hovertext": [
            "Germany"
           ],
           "ids": [
            "Germany"
           ],
           "legendgroup": "Germany",
           "marker": {
            "color": "#B6E880",
            "size": [
             125
            ],
            "sizemode": "area",
            "sizeref": 0.555,
            "symbol": "circle"
           },
           "mode": "markers",
           "name": "Germany",
           "orientation": "v",
           "showlegend": true,
           "type": "scatter",
           "x": [
            1998
           ],
           "xaxis": "x",
           "y": [
            125
           ],
           "yaxis": "y"
          },
          {
           "hovertemplate": "<b>%{hovertext}</b><br><br>region=Japan<br>Year=%{x}<br>Nb of athletes=%{marker.size}<extra></extra>",
           "hovertext": [
            "Japan"
           ],
           "ids": [
            "Japan"
           ],
           "legendgroup": "Japan",
           "marker": {
            "color": "#FF97FF",
            "size": [
             156
            ],
            "sizemode": "area",
            "sizeref": 0.555,
            "symbol": "circle"
           },
           "mode": "markers",
           "name": "Japan",
           "orientation": "v",
           "showlegend": true,
           "type": "scatter",
           "x": [
            1998
           ],
           "xaxis": "x",
           "y": [
            156
           ],
           "yaxis": "y"
          },
          {
           "hovertemplate": "<b>%{hovertext}</b><br><br>region=Russia<br>Year=%{x}<br>Nb of athletes=%{marker.size}<extra></extra>",
           "hovertext": [
            "Russia"
           ],
           "ids": [
            "Russia"
           ],
           "legendgroup": "Russia",
           "marker": {
            "color": "#FECB52",
            "size": [
             122
            ],
            "sizemode": "area",
            "sizeref": 0.555,
            "symbol": "circle"
           },
           "mode": "markers",
           "name": "Russia",
           "orientation": "v",
           "showlegend": true,
           "type": "scatter",
           "x": [
            1998
           ],
           "xaxis": "x",
           "y": [
            122
           ],
           "yaxis": "y"
          }
         ],
         "name": "1998"
        },
        {
         "data": [
          {
           "hovertemplate": "<b>%{hovertext}</b><br><br>region=Austria<br>Year=%{x}<br>Nb of athletes=%{marker.size}<extra></extra>",
           "hovertext": [
            "Austria"
           ],
           "ids": [
            "Austria"
           ],
           "legendgroup": "Austria",
           "marker": {
            "color": "#636efa",
            "size": [
             90
            ],
            "sizemode": "area",
            "sizeref": 0.555,
            "symbol": "circle"
           },
           "mode": "markers",
           "name": "Austria",
           "orientation": "v",
           "showlegend": true,
           "type": "scatter",
           "x": [
            2002
           ],
           "xaxis": "x",
           "y": [
            90
           ],
           "yaxis": "y"
          },
          {
           "hovertemplate": "<b>%{hovertext}</b><br><br>region=Canada<br>Year=%{x}<br>Nb of athletes=%{marker.size}<extra></extra>",
           "hovertext": [
            "Canada"
           ],
           "ids": [
            "Canada"
           ],
           "legendgroup": "Canada",
           "marker": {
            "color": "#EF553B",
            "size": [
             150
            ],
            "sizemode": "area",
            "sizeref": 0.555,
            "symbol": "circle"
           },
           "mode": "markers",
           "name": "Canada",
           "orientation": "v",
           "showlegend": true,
           "type": "scatter",
           "x": [
            2002
           ],
           "xaxis": "x",
           "y": [
            150
           ],
           "yaxis": "y"
          },
          {
           "hovertemplate": "<b>%{hovertext}</b><br><br>region=Italy<br>Year=%{x}<br>Nb of athletes=%{marker.size}<extra></extra>",
           "hovertext": [
            "Italy"
           ],
           "ids": [
            "Italy"
           ],
           "legendgroup": "Italy",
           "marker": {
            "color": "#00cc96",
            "size": [
             109
            ],
            "sizemode": "area",
            "sizeref": 0.555,
            "symbol": "circle"
           },
           "mode": "markers",
           "name": "Italy",
           "orientation": "v",
           "showlegend": true,
           "type": "scatter",
           "x": [
            2002
           ],
           "xaxis": "x",
           "y": [
            109
           ],
           "yaxis": "y"
          },
          {
           "hovertemplate": "<b>%{hovertext}</b><br><br>region=Norway<br>Year=%{x}<br>Nb of athletes=%{marker.size}<extra></extra>",
           "hovertext": [
            "Norway"
           ],
           "ids": [
            "Norway"
           ],
           "legendgroup": "Norway",
           "marker": {
            "color": "#ab63fa",
            "size": [
             77
            ],
            "sizemode": "area",
            "sizeref": 0.555,
            "symbol": "circle"
           },
           "mode": "markers",
           "name": "Norway",
           "orientation": "v",
           "showlegend": true,
           "type": "scatter",
           "x": [
            2002
           ],
           "xaxis": "x",
           "y": [
            77
           ],
           "yaxis": "y"
          },
          {
           "hovertemplate": "<b>%{hovertext}</b><br><br>region=Sweden<br>Year=%{x}<br>Nb of athletes=%{marker.size}<extra></extra>",
           "hovertext": [
            "Sweden"
           ],
           "ids": [
            "Sweden"
           ],
           "legendgroup": "Sweden",
           "marker": {
            "color": "#FFA15A",
            "size": [
             102
            ],
            "sizemode": "area",
            "sizeref": 0.555,
            "symbol": "circle"
           },
           "mode": "markers",
           "name": "Sweden",
           "orientation": "v",
           "showlegend": true,
           "type": "scatter",
           "x": [
            2002
           ],
           "xaxis": "x",
           "y": [
            102
           ],
           "yaxis": "y"
          },
          {
           "hovertemplate": "<b>%{hovertext}</b><br><br>region=Switzerland<br>Year=%{x}<br>Nb of athletes=%{marker.size}<extra></extra>",
           "hovertext": [
            "Switzerland"
           ],
           "ids": [
            "Switzerland"
           ],
           "legendgroup": "Switzerland",
           "marker": {
            "color": "#19d3f3",
            "size": [
             110
            ],
            "sizemode": "area",
            "sizeref": 0.555,
            "symbol": "circle"
           },
           "mode": "markers",
           "name": "Switzerland",
           "orientation": "v",
           "showlegend": true,
           "type": "scatter",
           "x": [
            2002
           ],
           "xaxis": "x",
           "y": [
            110
           ],
           "yaxis": "y"
          },
          {
           "hovertemplate": "<b>%{hovertext}</b><br><br>region=USA<br>Year=%{x}<br>Nb of athletes=%{marker.size}<extra></extra>",
           "hovertext": [
            "USA"
           ],
           "ids": [
            "USA"
           ],
           "legendgroup": "USA",
           "marker": {
            "color": "#FF6692",
            "size": [
             202
            ],
            "sizemode": "area",
            "sizeref": 0.555,
            "symbol": "circle"
           },
           "mode": "markers",
           "name": "USA",
           "orientation": "v",
           "showlegend": true,
           "type": "scatter",
           "x": [
            2002
           ],
           "xaxis": "x",
           "y": [
            202
           ],
           "yaxis": "y"
          },
          {
           "hovertemplate": "<b>%{hovertext}</b><br><br>region=Germany<br>Year=%{x}<br>Nb of athletes=%{marker.size}<extra></extra>",
           "hovertext": [
            "Germany"
           ],
           "ids": [
            "Germany"
           ],
           "legendgroup": "Germany",
           "marker": {
            "color": "#B6E880",
            "size": [
             157
            ],
            "sizemode": "area",
            "sizeref": 0.555,
            "symbol": "circle"
           },
           "mode": "markers",
           "name": "Germany",
           "orientation": "v",
           "showlegend": true,
           "type": "scatter",
           "x": [
            2002
           ],
           "xaxis": "x",
           "y": [
            157
           ],
           "yaxis": "y"
          },
          {
           "hovertemplate": "<b>%{hovertext}</b><br><br>region=Japan<br>Year=%{x}<br>Nb of athletes=%{marker.size}<extra></extra>",
           "hovertext": [
            "Japan"
           ],
           "ids": [
            "Japan"
           ],
           "legendgroup": "Japan",
           "marker": {
            "color": "#FF97FF",
            "size": [
             103
            ],
            "sizemode": "area",
            "sizeref": 0.555,
            "symbol": "circle"
           },
           "mode": "markers",
           "name": "Japan",
           "orientation": "v",
           "showlegend": true,
           "type": "scatter",
           "x": [
            2002
           ],
           "xaxis": "x",
           "y": [
            103
           ],
           "yaxis": "y"
          },
          {
           "hovertemplate": "<b>%{hovertext}</b><br><br>region=Russia<br>Year=%{x}<br>Nb of athletes=%{marker.size}<extra></extra>",
           "hovertext": [
            "Russia"
           ],
           "ids": [
            "Russia"
           ],
           "legendgroup": "Russia",
           "marker": {
            "color": "#FECB52",
            "size": [
             151
            ],
            "sizemode": "area",
            "sizeref": 0.555,
            "symbol": "circle"
           },
           "mode": "markers",
           "name": "Russia",
           "orientation": "v",
           "showlegend": true,
           "type": "scatter",
           "x": [
            2002
           ],
           "xaxis": "x",
           "y": [
            151
           ],
           "yaxis": "y"
          }
         ],
         "name": "2002"
        },
        {
         "data": [
          {
           "hovertemplate": "<b>%{hovertext}</b><br><br>region=Austria<br>Year=%{x}<br>Nb of athletes=%{marker.size}<extra></extra>",
           "hovertext": [
            "Austria"
           ],
           "ids": [
            "Austria"
           ],
           "legendgroup": "Austria",
           "marker": {
            "color": "#636efa",
            "size": [
             73
            ],
            "sizemode": "area",
            "sizeref": 0.555,
            "symbol": "circle"
           },
           "mode": "markers",
           "name": "Austria",
           "orientation": "v",
           "showlegend": true,
           "type": "scatter",
           "x": [
            2006
           ],
           "xaxis": "x",
           "y": [
            73
           ],
           "yaxis": "y"
          },
          {
           "hovertemplate": "<b>%{hovertext}</b><br><br>region=Canada<br>Year=%{x}<br>Nb of athletes=%{marker.size}<extra></extra>",
           "hovertext": [
            "Canada"
           ],
           "ids": [
            "Canada"
           ],
           "legendgroup": "Canada",
           "marker": {
            "color": "#EF553B",
            "size": [
             191
            ],
            "sizemode": "area",
            "sizeref": 0.555,
            "symbol": "circle"
           },
           "mode": "markers",
           "name": "Canada",
           "orientation": "v",
           "showlegend": true,
           "type": "scatter",
           "x": [
            2006
           ],
           "xaxis": "x",
           "y": [
            191
           ],
           "yaxis": "y"
          },
          {
           "hovertemplate": "<b>%{hovertext}</b><br><br>region=Italy<br>Year=%{x}<br>Nb of athletes=%{marker.size}<extra></extra>",
           "hovertext": [
            "Italy"
           ],
           "ids": [
            "Italy"
           ],
           "legendgroup": "Italy",
           "marker": {
            "color": "#00cc96",
            "size": [
             179
            ],
            "sizemode": "area",
            "sizeref": 0.555,
            "symbol": "circle"
           },
           "mode": "markers",
           "name": "Italy",
           "orientation": "v",
           "showlegend": true,
           "type": "scatter",
           "x": [
            2006
           ],
           "xaxis": "x",
           "y": [
            179
           ],
           "yaxis": "y"
          },
          {
           "hovertemplate": "<b>%{hovertext}</b><br><br>region=Norway<br>Year=%{x}<br>Nb of athletes=%{marker.size}<extra></extra>",
           "hovertext": [
            "Norway"
           ],
           "ids": [
            "Norway"
           ],
           "legendgroup": "Norway",
           "marker": {
            "color": "#ab63fa",
            "size": [
             67
            ],
            "sizemode": "area",
            "sizeref": 0.555,
            "symbol": "circle"
           },
           "mode": "markers",
           "name": "Norway",
           "orientation": "v",
           "showlegend": true,
           "type": "scatter",
           "x": [
            2006
           ],
           "xaxis": "x",
           "y": [
            67
           ],
           "yaxis": "y"
          },
          {
           "hovertemplate": "<b>%{hovertext}</b><br><br>region=Sweden<br>Year=%{x}<br>Nb of athletes=%{marker.size}<extra></extra>",
           "hovertext": [
            "Sweden"
           ],
           "ids": [
            "Sweden"
           ],
           "legendgroup": "Sweden",
           "marker": {
            "color": "#FFA15A",
            "size": [
             106
            ],
            "sizemode": "area",
            "sizeref": 0.555,
            "symbol": "circle"
           },
           "mode": "markers",
           "name": "Sweden",
           "orientation": "v",
           "showlegend": true,
           "type": "scatter",
           "x": [
            2006
           ],
           "xaxis": "x",
           "y": [
            106
           ],
           "yaxis": "y"
          },
          {
           "hovertemplate": "<b>%{hovertext}</b><br><br>region=Switzerland<br>Year=%{x}<br>Nb of athletes=%{marker.size}<extra></extra>",
           "hovertext": [
            "Switzerland"
           ],
           "ids": [
            "Switzerland"
           ],
           "legendgroup": "Switzerland",
           "marker": {
            "color": "#19d3f3",
            "size": [
             125
            ],
            "sizemode": "area",
            "sizeref": 0.555,
            "symbol": "circle"
           },
           "mode": "markers",
           "name": "Switzerland",
           "orientation": "v",
           "showlegend": true,
           "type": "scatter",
           "x": [
            2006
           ],
           "xaxis": "x",
           "y": [
            125
           ],
           "yaxis": "y"
          },
          {
           "hovertemplate": "<b>%{hovertext}</b><br><br>region=USA<br>Year=%{x}<br>Nb of athletes=%{marker.size}<extra></extra>",
           "hovertext": [
            "USA"
           ],
           "ids": [
            "USA"
           ],
           "legendgroup": "USA",
           "marker": {
            "color": "#FF6692",
            "size": [
             204
            ],
            "sizemode": "area",
            "sizeref": 0.555,
            "symbol": "circle"
           },
           "mode": "markers",
           "name": "USA",
           "orientation": "v",
           "showlegend": true,
           "type": "scatter",
           "x": [
            2006
           ],
           "xaxis": "x",
           "y": [
            204
           ],
           "yaxis": "y"
          },
          {
           "hovertemplate": "<b>%{hovertext}</b><br><br>region=Germany<br>Year=%{x}<br>Nb of athletes=%{marker.size}<extra></extra>",
           "hovertext": [
            "Germany"
           ],
           "ids": [
            "Germany"
           ],
           "legendgroup": "Germany",
           "marker": {
            "color": "#B6E880",
            "size": [
             155
            ],
            "sizemode": "area",
            "sizeref": 0.555,
            "symbol": "circle"
           },
           "mode": "markers",
           "name": "Germany",
           "orientation": "v",
           "showlegend": true,
           "type": "scatter",
           "x": [
            2006
           ],
           "xaxis": "x",
           "y": [
            155
           ],
           "yaxis": "y"
          },
          {
           "hovertemplate": "<b>%{hovertext}</b><br><br>region=Japan<br>Year=%{x}<br>Nb of athletes=%{marker.size}<extra></extra>",
           "hovertext": [
            "Japan"
           ],
           "ids": [
            "Japan"
           ],
           "legendgroup": "Japan",
           "marker": {
            "color": "#FF97FF",
            "size": [
             110
            ],
            "sizemode": "area",
            "sizeref": 0.555,
            "symbol": "circle"
           },
           "mode": "markers",
           "name": "Japan",
           "orientation": "v",
           "showlegend": true,
           "type": "scatter",
           "x": [
            2006
           ],
           "xaxis": "x",
           "y": [
            110
           ],
           "yaxis": "y"
          },
          {
           "hovertemplate": "<b>%{hovertext}</b><br><br>region=Russia<br>Year=%{x}<br>Nb of athletes=%{marker.size}<extra></extra>",
           "hovertext": [
            "Russia"
           ],
           "ids": [
            "Russia"
           ],
           "legendgroup": "Russia",
           "marker": {
            "color": "#FECB52",
            "size": [
             174
            ],
            "sizemode": "area",
            "sizeref": 0.555,
            "symbol": "circle"
           },
           "mode": "markers",
           "name": "Russia",
           "orientation": "v",
           "showlegend": true,
           "type": "scatter",
           "x": [
            2006
           ],
           "xaxis": "x",
           "y": [
            174
           ],
           "yaxis": "y"
          }
         ],
         "name": "2006"
        },
        {
         "data": [
          {
           "hovertemplate": "<b>%{hovertext}</b><br><br>region=Austria<br>Year=%{x}<br>Nb of athletes=%{marker.size}<extra></extra>",
           "hovertext": [
            "Austria"
           ],
           "ids": [
            "Austria"
           ],
           "legendgroup": "Austria",
           "marker": {
            "color": "#636efa",
            "size": [
             75
            ],
            "sizemode": "area",
            "sizeref": 0.555,
            "symbol": "circle"
           },
           "mode": "markers",
           "name": "Austria",
           "orientation": "v",
           "showlegend": true,
           "type": "scatter",
           "x": [
            2010
           ],
           "xaxis": "x",
           "y": [
            75
           ],
           "yaxis": "y"
          },
          {
           "hovertemplate": "<b>%{hovertext}</b><br><br>region=Canada<br>Year=%{x}<br>Nb of athletes=%{marker.size}<extra></extra>",
           "hovertext": [
            "Canada"
           ],
           "ids": [
            "Canada"
           ],
           "legendgroup": "Canada",
           "marker": {
            "color": "#EF553B",
            "size": [
             201
            ],
            "sizemode": "area",
            "sizeref": 0.555,
            "symbol": "circle"
           },
           "mode": "markers",
           "name": "Canada",
           "orientation": "v",
           "showlegend": true,
           "type": "scatter",
           "x": [
            2010
           ],
           "xaxis": "x",
           "y": [
            201
           ],
           "yaxis": "y"
          },
          {
           "hovertemplate": "<b>%{hovertext}</b><br><br>region=Italy<br>Year=%{x}<br>Nb of athletes=%{marker.size}<extra></extra>",
           "hovertext": [
            "Italy"
           ],
           "ids": [
            "Italy"
           ],
           "legendgroup": "Italy",
           "marker": {
            "color": "#00cc96",
            "size": [
             109
            ],
            "sizemode": "area",
            "sizeref": 0.555,
            "symbol": "circle"
           },
           "mode": "markers",
           "name": "Italy",
           "orientation": "v",
           "showlegend": true,
           "type": "scatter",
           "x": [
            2010
           ],
           "xaxis": "x",
           "y": [
            109
           ],
           "yaxis": "y"
          },
          {
           "hovertemplate": "<b>%{hovertext}</b><br><br>region=Norway<br>Year=%{x}<br>Nb of athletes=%{marker.size}<extra></extra>",
           "hovertext": [
            "Norway"
           ],
           "ids": [
            "Norway"
           ],
           "legendgroup": "Norway",
           "marker": {
            "color": "#ab63fa",
            "size": [
             95
            ],
            "sizemode": "area",
            "sizeref": 0.555,
            "symbol": "circle"
           },
           "mode": "markers",
           "name": "Norway",
           "orientation": "v",
           "showlegend": true,
           "type": "scatter",
           "x": [
            2010
           ],
           "xaxis": "x",
           "y": [
            95
           ],
           "yaxis": "y"
          },
          {
           "hovertemplate": "<b>%{hovertext}</b><br><br>region=Sweden<br>Year=%{x}<br>Nb of athletes=%{marker.size}<extra></extra>",
           "hovertext": [
            "Sweden"
           ],
           "ids": [
            "Sweden"
           ],
           "legendgroup": "Sweden",
           "marker": {
            "color": "#FFA15A",
            "size": [
             101
            ],
            "sizemode": "area",
            "sizeref": 0.555,
            "symbol": "circle"
           },
           "mode": "markers",
           "name": "Sweden",
           "orientation": "v",
           "showlegend": true,
           "type": "scatter",
           "x": [
            2010
           ],
           "xaxis": "x",
           "y": [
            101
           ],
           "yaxis": "y"
          },
          {
           "hovertemplate": "<b>%{hovertext}</b><br><br>region=Switzerland<br>Year=%{x}<br>Nb of athletes=%{marker.size}<extra></extra>",
           "hovertext": [
            "Switzerland"
           ],
           "ids": [
            "Switzerland"
           ],
           "legendgroup": "Switzerland",
           "marker": {
            "color": "#19d3f3",
            "size": [
             134
            ],
            "sizemode": "area",
            "sizeref": 0.555,
            "symbol": "circle"
           },
           "mode": "markers",
           "name": "Switzerland",
           "orientation": "v",
           "showlegend": true,
           "type": "scatter",
           "x": [
            2010
           ],
           "xaxis": "x",
           "y": [
            134
           ],
           "yaxis": "y"
          },
          {
           "hovertemplate": "<b>%{hovertext}</b><br><br>region=USA<br>Year=%{x}<br>Nb of athletes=%{marker.size}<extra></extra>",
           "hovertext": [
            "USA"
           ],
           "ids": [
            "USA"
           ],
           "legendgroup": "USA",
           "marker": {
            "color": "#FF6692",
            "size": [
             212
            ],
            "sizemode": "area",
            "sizeref": 0.555,
            "symbol": "circle"
           },
           "mode": "markers",
           "name": "USA",
           "orientation": "v",
           "showlegend": true,
           "type": "scatter",
           "x": [
            2010
           ],
           "xaxis": "x",
           "y": [
            212
           ],
           "yaxis": "y"
          },
          {
           "hovertemplate": "<b>%{hovertext}</b><br><br>region=Germany<br>Year=%{x}<br>Nb of athletes=%{marker.size}<extra></extra>",
           "hovertext": [
            "Germany"
           ],
           "ids": [
            "Germany"
           ],
           "legendgroup": "Germany",
           "marker": {
            "color": "#B6E880",
            "size": [
             149
            ],
            "sizemode": "area",
            "sizeref": 0.555,
            "symbol": "circle"
           },
           "mode": "markers",
           "name": "Germany",
           "orientation": "v",
           "showlegend": true,
           "type": "scatter",
           "x": [
            2010
           ],
           "xaxis": "x",
           "y": [
            149
           ],
           "yaxis": "y"
          },
          {
           "hovertemplate": "<b>%{hovertext}</b><br><br>region=Japan<br>Year=%{x}<br>Nb of athletes=%{marker.size}<extra></extra>",
           "hovertext": [
            "Japan"
           ],
           "ids": [
            "Japan"
           ],
           "legendgroup": "Japan",
           "marker": {
            "color": "#FF97FF",
            "size": [
             91
            ],
            "sizemode": "area",
            "sizeref": 0.555,
            "symbol": "circle"
           },
           "mode": "markers",
           "name": "Japan",
           "orientation": "v",
           "showlegend": true,
           "type": "scatter",
           "x": [
            2010
           ],
           "xaxis": "x",
           "y": [
            91
           ],
           "yaxis": "y"
          },
          {
           "hovertemplate": "<b>%{hovertext}</b><br><br>region=Russia<br>Year=%{x}<br>Nb of athletes=%{marker.size}<extra></extra>",
           "hovertext": [
            "Russia"
           ],
           "ids": [
            "Russia"
           ],
           "legendgroup": "Russia",
           "marker": {
            "color": "#FECB52",
            "size": [
             175
            ],
            "sizemode": "area",
            "sizeref": 0.555,
            "symbol": "circle"
           },
           "mode": "markers",
           "name": "Russia",
           "orientation": "v",
           "showlegend": true,
           "type": "scatter",
           "x": [
            2010
           ],
           "xaxis": "x",
           "y": [
            175
           ],
           "yaxis": "y"
          }
         ],
         "name": "2010"
        },
        {
         "data": [
          {
           "hovertemplate": "<b>%{hovertext}</b><br><br>region=Austria<br>Year=%{x}<br>Nb of athletes=%{marker.size}<extra></extra>",
           "hovertext": [
            "Austria"
           ],
           "ids": [
            "Austria"
           ],
           "legendgroup": "Austria",
           "marker": {
            "color": "#636efa",
            "size": [
             126
            ],
            "sizemode": "area",
            "sizeref": 0.555,
            "symbol": "circle"
           },
           "mode": "markers",
           "name": "Austria",
           "orientation": "v",
           "showlegend": true,
           "type": "scatter",
           "x": [
            2014
           ],
           "xaxis": "x",
           "y": [
            126
           ],
           "yaxis": "y"
          },
          {
           "hovertemplate": "<b>%{hovertext}</b><br><br>region=Canada<br>Year=%{x}<br>Nb of athletes=%{marker.size}<extra></extra>",
           "hovertext": [
            "Canada"
           ],
           "ids": [
            "Canada"
           ],
           "legendgroup": "Canada",
           "marker": {
            "color": "#EF553B",
            "size": [
             217
            ],
            "sizemode": "area",
            "sizeref": 0.555,
            "symbol": "circle"
           },
           "mode": "markers",
           "name": "Canada",
           "orientation": "v",
           "showlegend": true,
           "type": "scatter",
           "x": [
            2014
           ],
           "xaxis": "x",
           "y": [
            217
           ],
           "yaxis": "y"
          },
          {
           "hovertemplate": "<b>%{hovertext}</b><br><br>region=Italy<br>Year=%{x}<br>Nb of athletes=%{marker.size}<extra></extra>",
           "hovertext": [
            "Italy"
           ],
           "ids": [
            "Italy"
           ],
           "legendgroup": "Italy",
           "marker": {
            "color": "#00cc96",
            "size": [
             110
            ],
            "sizemode": "area",
            "sizeref": 0.555,
            "symbol": "circle"
           },
           "mode": "markers",
           "name": "Italy",
           "orientation": "v",
           "showlegend": true,
           "type": "scatter",
           "x": [
            2014
           ],
           "xaxis": "x",
           "y": [
            110
           ],
           "yaxis": "y"
          },
          {
           "hovertemplate": "<b>%{hovertext}</b><br><br>region=Norway<br>Year=%{x}<br>Nb of athletes=%{marker.size}<extra></extra>",
           "hovertext": [
            "Norway"
           ],
           "ids": [
            "Norway"
           ],
           "legendgroup": "Norway",
           "marker": {
            "color": "#ab63fa",
            "size": [
             110
            ],
            "sizemode": "area",
            "sizeref": 0.555,
            "symbol": "circle"
           },
           "mode": "markers",
           "name": "Norway",
           "orientation": "v",
           "showlegend": true,
           "type": "scatter",
           "x": [
            2014
           ],
           "xaxis": "x",
           "y": [
            110
           ],
           "yaxis": "y"
          },
          {
           "hovertemplate": "<b>%{hovertext}</b><br><br>region=Sweden<br>Year=%{x}<br>Nb of athletes=%{marker.size}<extra></extra>",
           "hovertext": [
            "Sweden"
           ],
           "ids": [
            "Sweden"
           ],
           "legendgroup": "Sweden",
           "marker": {
            "color": "#FFA15A",
            "size": [
             99
            ],
            "sizemode": "area",
            "sizeref": 0.555,
            "symbol": "circle"
           },
           "mode": "markers",
           "name": "Sweden",
           "orientation": "v",
           "showlegend": true,
           "type": "scatter",
           "x": [
            2014
           ],
           "xaxis": "x",
           "y": [
            99
           ],
           "yaxis": "y"
          },
          {
           "hovertemplate": "<b>%{hovertext}</b><br><br>region=Switzerland<br>Year=%{x}<br>Nb of athletes=%{marker.size}<extra></extra>",
           "hovertext": [
            "Switzerland"
           ],
           "ids": [
            "Switzerland"
           ],
           "legendgroup": "Switzerland",
           "marker": {
            "color": "#19d3f3",
            "size": [
             152
            ],
            "sizemode": "area",
            "sizeref": 0.555,
            "symbol": "circle"
           },
           "mode": "markers",
           "name": "Switzerland",
           "orientation": "v",
           "showlegend": true,
           "type": "scatter",
           "x": [
            2014
           ],
           "xaxis": "x",
           "y": [
            152
           ],
           "yaxis": "y"
          },
          {
           "hovertemplate": "<b>%{hovertext}</b><br><br>region=USA<br>Year=%{x}<br>Nb of athletes=%{marker.size}<extra></extra>",
           "hovertext": [
            "USA"
           ],
           "ids": [
            "USA"
           ],
           "legendgroup": "USA",
           "marker": {
            "color": "#FF6692",
            "size": [
             222
            ],
            "sizemode": "area",
            "sizeref": 0.555,
            "symbol": "circle"
           },
           "mode": "markers",
           "name": "USA",
           "orientation": "v",
           "showlegend": true,
           "type": "scatter",
           "x": [
            2014
           ],
           "xaxis": "x",
           "y": [
            222
           ],
           "yaxis": "y"
          },
          {
           "hovertemplate": "<b>%{hovertext}</b><br><br>region=Germany<br>Year=%{x}<br>Nb of athletes=%{marker.size}<extra></extra>",
           "hovertext": [
            "Germany"
           ],
           "ids": [
            "Germany"
           ],
           "legendgroup": "Germany",
           "marker": {
            "color": "#B6E880",
            "size": [
             151
            ],
            "sizemode": "area",
            "sizeref": 0.555,
            "symbol": "circle"
           },
           "mode": "markers",
           "name": "Germany",
           "orientation": "v",
           "showlegend": true,
           "type": "scatter",
           "x": [
            2014
           ],
           "xaxis": "x",
           "y": [
            151
           ],
           "yaxis": "y"
          },
          {
           "hovertemplate": "<b>%{hovertext}</b><br><br>region=Japan<br>Year=%{x}<br>Nb of athletes=%{marker.size}<extra></extra>",
           "hovertext": [
            "Japan"
           ],
           "ids": [
            "Japan"
           ],
           "legendgroup": "Japan",
           "marker": {
            "color": "#FF97FF",
            "size": [
             109
            ],
            "sizemode": "area",
            "sizeref": 0.555,
            "symbol": "circle"
           },
           "mode": "markers",
           "name": "Japan",
           "orientation": "v",
           "showlegend": true,
           "type": "scatter",
           "x": [
            2014
           ],
           "xaxis": "x",
           "y": [
            109
           ],
           "yaxis": "y"
          },
          {
           "hovertemplate": "<b>%{hovertext}</b><br><br>region=Russia<br>Year=%{x}<br>Nb of athletes=%{marker.size}<extra></extra>",
           "hovertext": [
            "Russia"
           ],
           "ids": [
            "Russia"
           ],
           "legendgroup": "Russia",
           "marker": {
            "color": "#FECB52",
            "size": [
             213
            ],
            "sizemode": "area",
            "sizeref": 0.555,
            "symbol": "circle"
           },
           "mode": "markers",
           "name": "Russia",
           "orientation": "v",
           "showlegend": true,
           "type": "scatter",
           "x": [
            2014
           ],
           "xaxis": "x",
           "y": [
            213
           ],
           "yaxis": "y"
          }
         ],
         "name": "2014"
        }
       ],
       "layout": {
        "legend": {
         "itemsizing": "constant",
         "title": {
          "text": "region"
         },
         "tracegroupgap": 0
        },
        "sliders": [
         {
          "active": 0,
          "currentvalue": {
           "prefix": "Year="
          },
          "len": 0.9,
          "pad": {
           "b": 10,
           "t": 60
          },
          "steps": [
           {
            "args": [
             [
              "1924"
             ],
             {
              "frame": {
               "duration": 0,
               "redraw": false
              },
              "fromcurrent": true,
              "mode": "immediate",
              "transition": {
               "duration": 0,
               "easing": "linear"
              }
             }
            ],
            "label": "1924",
            "method": "animate"
           },
           {
            "args": [
             [
              "1928"
             ],
             {
              "frame": {
               "duration": 0,
               "redraw": false
              },
              "fromcurrent": true,
              "mode": "immediate",
              "transition": {
               "duration": 0,
               "easing": "linear"
              }
             }
            ],
            "label": "1928",
            "method": "animate"
           },
           {
            "args": [
             [
              "1932"
             ],
             {
              "frame": {
               "duration": 0,
               "redraw": false
              },
              "fromcurrent": true,
              "mode": "immediate",
              "transition": {
               "duration": 0,
               "easing": "linear"
              }
             }
            ],
            "label": "1932",
            "method": "animate"
           },
           {
            "args": [
             [
              "1936"
             ],
             {
              "frame": {
               "duration": 0,
               "redraw": false
              },
              "fromcurrent": true,
              "mode": "immediate",
              "transition": {
               "duration": 0,
               "easing": "linear"
              }
             }
            ],
            "label": "1936",
            "method": "animate"
           },
           {
            "args": [
             [
              "1948"
             ],
             {
              "frame": {
               "duration": 0,
               "redraw": false
              },
              "fromcurrent": true,
              "mode": "immediate",
              "transition": {
               "duration": 0,
               "easing": "linear"
              }
             }
            ],
            "label": "1948",
            "method": "animate"
           },
           {
            "args": [
             [
              "1952"
             ],
             {
              "frame": {
               "duration": 0,
               "redraw": false
              },
              "fromcurrent": true,
              "mode": "immediate",
              "transition": {
               "duration": 0,
               "easing": "linear"
              }
             }
            ],
            "label": "1952",
            "method": "animate"
           },
           {
            "args": [
             [
              "1956"
             ],
             {
              "frame": {
               "duration": 0,
               "redraw": false
              },
              "fromcurrent": true,
              "mode": "immediate",
              "transition": {
               "duration": 0,
               "easing": "linear"
              }
             }
            ],
            "label": "1956",
            "method": "animate"
           },
           {
            "args": [
             [
              "1960"
             ],
             {
              "frame": {
               "duration": 0,
               "redraw": false
              },
              "fromcurrent": true,
              "mode": "immediate",
              "transition": {
               "duration": 0,
               "easing": "linear"
              }
             }
            ],
            "label": "1960",
            "method": "animate"
           },
           {
            "args": [
             [
              "1964"
             ],
             {
              "frame": {
               "duration": 0,
               "redraw": false
              },
              "fromcurrent": true,
              "mode": "immediate",
              "transition": {
               "duration": 0,
               "easing": "linear"
              }
             }
            ],
            "label": "1964",
            "method": "animate"
           },
           {
            "args": [
             [
              "1968"
             ],
             {
              "frame": {
               "duration": 0,
               "redraw": false
              },
              "fromcurrent": true,
              "mode": "immediate",
              "transition": {
               "duration": 0,
               "easing": "linear"
              }
             }
            ],
            "label": "1968",
            "method": "animate"
           },
           {
            "args": [
             [
              "1972"
             ],
             {
              "frame": {
               "duration": 0,
               "redraw": false
              },
              "fromcurrent": true,
              "mode": "immediate",
              "transition": {
               "duration": 0,
               "easing": "linear"
              }
             }
            ],
            "label": "1972",
            "method": "animate"
           },
           {
            "args": [
             [
              "1976"
             ],
             {
              "frame": {
               "duration": 0,
               "redraw": false
              },
              "fromcurrent": true,
              "mode": "immediate",
              "transition": {
               "duration": 0,
               "easing": "linear"
              }
             }
            ],
            "label": "1976",
            "method": "animate"
           },
           {
            "args": [
             [
              "1980"
             ],
             {
              "frame": {
               "duration": 0,
               "redraw": false
              },
              "fromcurrent": true,
              "mode": "immediate",
              "transition": {
               "duration": 0,
               "easing": "linear"
              }
             }
            ],
            "label": "1980",
            "method": "animate"
           },
           {
            "args": [
             [
              "1984"
             ],
             {
              "frame": {
               "duration": 0,
               "redraw": false
              },
              "fromcurrent": true,
              "mode": "immediate",
              "transition": {
               "duration": 0,
               "easing": "linear"
              }
             }
            ],
            "label": "1984",
            "method": "animate"
           },
           {
            "args": [
             [
              "1988"
             ],
             {
              "frame": {
               "duration": 0,
               "redraw": false
              },
              "fromcurrent": true,
              "mode": "immediate",
              "transition": {
               "duration": 0,
               "easing": "linear"
              }
             }
            ],
            "label": "1988",
            "method": "animate"
           },
           {
            "args": [
             [
              "1992"
             ],
             {
              "frame": {
               "duration": 0,
               "redraw": false
              },
              "fromcurrent": true,
              "mode": "immediate",
              "transition": {
               "duration": 0,
               "easing": "linear"
              }
             }
            ],
            "label": "1992",
            "method": "animate"
           },
           {
            "args": [
             [
              "1994"
             ],
             {
              "frame": {
               "duration": 0,
               "redraw": false
              },
              "fromcurrent": true,
              "mode": "immediate",
              "transition": {
               "duration": 0,
               "easing": "linear"
              }
             }
            ],
            "label": "1994",
            "method": "animate"
           },
           {
            "args": [
             [
              "1998"
             ],
             {
              "frame": {
               "duration": 0,
               "redraw": false
              },
              "fromcurrent": true,
              "mode": "immediate",
              "transition": {
               "duration": 0,
               "easing": "linear"
              }
             }
            ],
            "label": "1998",
            "method": "animate"
           },
           {
            "args": [
             [
              "2002"
             ],
             {
              "frame": {
               "duration": 0,
               "redraw": false
              },
              "fromcurrent": true,
              "mode": "immediate",
              "transition": {
               "duration": 0,
               "easing": "linear"
              }
             }
            ],
            "label": "2002",
            "method": "animate"
           },
           {
            "args": [
             [
              "2006"
             ],
             {
              "frame": {
               "duration": 0,
               "redraw": false
              },
              "fromcurrent": true,
              "mode": "immediate",
              "transition": {
               "duration": 0,
               "easing": "linear"
              }
             }
            ],
            "label": "2006",
            "method": "animate"
           },
           {
            "args": [
             [
              "2010"
             ],
             {
              "frame": {
               "duration": 0,
               "redraw": false
              },
              "fromcurrent": true,
              "mode": "immediate",
              "transition": {
               "duration": 0,
               "easing": "linear"
              }
             }
            ],
            "label": "2010",
            "method": "animate"
           },
           {
            "args": [
             [
              "2014"
             ],
             {
              "frame": {
               "duration": 0,
               "redraw": false
              },
              "fromcurrent": true,
              "mode": "immediate",
              "transition": {
               "duration": 0,
               "easing": "linear"
              }
             }
            ],
            "label": "2014",
            "method": "animate"
           }
          ],
          "x": 0.1,
          "xanchor": "left",
          "y": 0,
          "yanchor": "top"
         }
        ],
        "template": {
         "data": {
          "bar": [
           {
            "error_x": {
             "color": "#2a3f5f"
            },
            "error_y": {
             "color": "#2a3f5f"
            },
            "marker": {
             "line": {
              "color": "#E5ECF6",
              "width": 0.5
             },
             "pattern": {
              "fillmode": "overlay",
              "size": 10,
              "solidity": 0.2
             }
            },
            "type": "bar"
           }
          ],
          "barpolar": [
           {
            "marker": {
             "line": {
              "color": "#E5ECF6",
              "width": 0.5
             },
             "pattern": {
              "fillmode": "overlay",
              "size": 10,
              "solidity": 0.2
             }
            },
            "type": "barpolar"
           }
          ],
          "carpet": [
           {
            "aaxis": {
             "endlinecolor": "#2a3f5f",
             "gridcolor": "white",
             "linecolor": "white",
             "minorgridcolor": "white",
             "startlinecolor": "#2a3f5f"
            },
            "baxis": {
             "endlinecolor": "#2a3f5f",
             "gridcolor": "white",
             "linecolor": "white",
             "minorgridcolor": "white",
             "startlinecolor": "#2a3f5f"
            },
            "type": "carpet"
           }
          ],
          "choropleth": [
           {
            "colorbar": {
             "outlinewidth": 0,
             "ticks": ""
            },
            "type": "choropleth"
           }
          ],
          "contour": [
           {
            "colorbar": {
             "outlinewidth": 0,
             "ticks": ""
            },
            "colorscale": [
             [
              0,
              "#0d0887"
             ],
             [
              0.1111111111111111,
              "#46039f"
             ],
             [
              0.2222222222222222,
              "#7201a8"
             ],
             [
              0.3333333333333333,
              "#9c179e"
             ],
             [
              0.4444444444444444,
              "#bd3786"
             ],
             [
              0.5555555555555556,
              "#d8576b"
             ],
             [
              0.6666666666666666,
              "#ed7953"
             ],
             [
              0.7777777777777778,
              "#fb9f3a"
             ],
             [
              0.8888888888888888,
              "#fdca26"
             ],
             [
              1,
              "#f0f921"
             ]
            ],
            "type": "contour"
           }
          ],
          "contourcarpet": [
           {
            "colorbar": {
             "outlinewidth": 0,
             "ticks": ""
            },
            "type": "contourcarpet"
           }
          ],
          "heatmap": [
           {
            "colorbar": {
             "outlinewidth": 0,
             "ticks": ""
            },
            "colorscale": [
             [
              0,
              "#0d0887"
             ],
             [
              0.1111111111111111,
              "#46039f"
             ],
             [
              0.2222222222222222,
              "#7201a8"
             ],
             [
              0.3333333333333333,
              "#9c179e"
             ],
             [
              0.4444444444444444,
              "#bd3786"
             ],
             [
              0.5555555555555556,
              "#d8576b"
             ],
             [
              0.6666666666666666,
              "#ed7953"
             ],
             [
              0.7777777777777778,
              "#fb9f3a"
             ],
             [
              0.8888888888888888,
              "#fdca26"
             ],
             [
              1,
              "#f0f921"
             ]
            ],
            "type": "heatmap"
           }
          ],
          "heatmapgl": [
           {
            "colorbar": {
             "outlinewidth": 0,
             "ticks": ""
            },
            "colorscale": [
             [
              0,
              "#0d0887"
             ],
             [
              0.1111111111111111,
              "#46039f"
             ],
             [
              0.2222222222222222,
              "#7201a8"
             ],
             [
              0.3333333333333333,
              "#9c179e"
             ],
             [
              0.4444444444444444,
              "#bd3786"
             ],
             [
              0.5555555555555556,
              "#d8576b"
             ],
             [
              0.6666666666666666,
              "#ed7953"
             ],
             [
              0.7777777777777778,
              "#fb9f3a"
             ],
             [
              0.8888888888888888,
              "#fdca26"
             ],
             [
              1,
              "#f0f921"
             ]
            ],
            "type": "heatmapgl"
           }
          ],
          "histogram": [
           {
            "marker": {
             "pattern": {
              "fillmode": "overlay",
              "size": 10,
              "solidity": 0.2
             }
            },
            "type": "histogram"
           }
          ],
          "histogram2d": [
           {
            "colorbar": {
             "outlinewidth": 0,
             "ticks": ""
            },
            "colorscale": [
             [
              0,
              "#0d0887"
             ],
             [
              0.1111111111111111,
              "#46039f"
             ],
             [
              0.2222222222222222,
              "#7201a8"
             ],
             [
              0.3333333333333333,
              "#9c179e"
             ],
             [
              0.4444444444444444,
              "#bd3786"
             ],
             [
              0.5555555555555556,
              "#d8576b"
             ],
             [
              0.6666666666666666,
              "#ed7953"
             ],
             [
              0.7777777777777778,
              "#fb9f3a"
             ],
             [
              0.8888888888888888,
              "#fdca26"
             ],
             [
              1,
              "#f0f921"
             ]
            ],
            "type": "histogram2d"
           }
          ],
          "histogram2dcontour": [
           {
            "colorbar": {
             "outlinewidth": 0,
             "ticks": ""
            },
            "colorscale": [
             [
              0,
              "#0d0887"
             ],
             [
              0.1111111111111111,
              "#46039f"
             ],
             [
              0.2222222222222222,
              "#7201a8"
             ],
             [
              0.3333333333333333,
              "#9c179e"
             ],
             [
              0.4444444444444444,
              "#bd3786"
             ],
             [
              0.5555555555555556,
              "#d8576b"
             ],
             [
              0.6666666666666666,
              "#ed7953"
             ],
             [
              0.7777777777777778,
              "#fb9f3a"
             ],
             [
              0.8888888888888888,
              "#fdca26"
             ],
             [
              1,
              "#f0f921"
             ]
            ],
            "type": "histogram2dcontour"
           }
          ],
          "mesh3d": [
           {
            "colorbar": {
             "outlinewidth": 0,
             "ticks": ""
            },
            "type": "mesh3d"
           }
          ],
          "parcoords": [
           {
            "line": {
             "colorbar": {
              "outlinewidth": 0,
              "ticks": ""
             }
            },
            "type": "parcoords"
           }
          ],
          "pie": [
           {
            "automargin": true,
            "type": "pie"
           }
          ],
          "scatter": [
           {
            "fillpattern": {
             "fillmode": "overlay",
             "size": 10,
             "solidity": 0.2
            },
            "type": "scatter"
           }
          ],
          "scatter3d": [
           {
            "line": {
             "colorbar": {
              "outlinewidth": 0,
              "ticks": ""
             }
            },
            "marker": {
             "colorbar": {
              "outlinewidth": 0,
              "ticks": ""
             }
            },
            "type": "scatter3d"
           }
          ],
          "scattercarpet": [
           {
            "marker": {
             "colorbar": {
              "outlinewidth": 0,
              "ticks": ""
             }
            },
            "type": "scattercarpet"
           }
          ],
          "scattergeo": [
           {
            "marker": {
             "colorbar": {
              "outlinewidth": 0,
              "ticks": ""
             }
            },
            "type": "scattergeo"
           }
          ],
          "scattergl": [
           {
            "marker": {
             "colorbar": {
              "outlinewidth": 0,
              "ticks": ""
             }
            },
            "type": "scattergl"
           }
          ],
          "scattermapbox": [
           {
            "marker": {
             "colorbar": {
              "outlinewidth": 0,
              "ticks": ""
             }
            },
            "type": "scattermapbox"
           }
          ],
          "scatterpolar": [
           {
            "marker": {
             "colorbar": {
              "outlinewidth": 0,
              "ticks": ""
             }
            },
            "type": "scatterpolar"
           }
          ],
          "scatterpolargl": [
           {
            "marker": {
             "colorbar": {
              "outlinewidth": 0,
              "ticks": ""
             }
            },
            "type": "scatterpolargl"
           }
          ],
          "scatterternary": [
           {
            "marker": {
             "colorbar": {
              "outlinewidth": 0,
              "ticks": ""
             }
            },
            "type": "scatterternary"
           }
          ],
          "surface": [
           {
            "colorbar": {
             "outlinewidth": 0,
             "ticks": ""
            },
            "colorscale": [
             [
              0,
              "#0d0887"
             ],
             [
              0.1111111111111111,
              "#46039f"
             ],
             [
              0.2222222222222222,
              "#7201a8"
             ],
             [
              0.3333333333333333,
              "#9c179e"
             ],
             [
              0.4444444444444444,
              "#bd3786"
             ],
             [
              0.5555555555555556,
              "#d8576b"
             ],
             [
              0.6666666666666666,
              "#ed7953"
             ],
             [
              0.7777777777777778,
              "#fb9f3a"
             ],
             [
              0.8888888888888888,
              "#fdca26"
             ],
             [
              1,
              "#f0f921"
             ]
            ],
            "type": "surface"
           }
          ],
          "table": [
           {
            "cells": {
             "fill": {
              "color": "#EBF0F8"
             },
             "line": {
              "color": "white"
             }
            },
            "header": {
             "fill": {
              "color": "#C8D4E3"
             },
             "line": {
              "color": "white"
             }
            },
            "type": "table"
           }
          ]
         },
         "layout": {
          "annotationdefaults": {
           "arrowcolor": "#2a3f5f",
           "arrowhead": 0,
           "arrowwidth": 1
          },
          "autotypenumbers": "strict",
          "coloraxis": {
           "colorbar": {
            "outlinewidth": 0,
            "ticks": ""
           }
          },
          "colorscale": {
           "diverging": [
            [
             0,
             "#8e0152"
            ],
            [
             0.1,
             "#c51b7d"
            ],
            [
             0.2,
             "#de77ae"
            ],
            [
             0.3,
             "#f1b6da"
            ],
            [
             0.4,
             "#fde0ef"
            ],
            [
             0.5,
             "#f7f7f7"
            ],
            [
             0.6,
             "#e6f5d0"
            ],
            [
             0.7,
             "#b8e186"
            ],
            [
             0.8,
             "#7fbc41"
            ],
            [
             0.9,
             "#4d9221"
            ],
            [
             1,
             "#276419"
            ]
           ],
           "sequential": [
            [
             0,
             "#0d0887"
            ],
            [
             0.1111111111111111,
             "#46039f"
            ],
            [
             0.2222222222222222,
             "#7201a8"
            ],
            [
             0.3333333333333333,
             "#9c179e"
            ],
            [
             0.4444444444444444,
             "#bd3786"
            ],
            [
             0.5555555555555556,
             "#d8576b"
            ],
            [
             0.6666666666666666,
             "#ed7953"
            ],
            [
             0.7777777777777778,
             "#fb9f3a"
            ],
            [
             0.8888888888888888,
             "#fdca26"
            ],
            [
             1,
             "#f0f921"
            ]
           ],
           "sequentialminus": [
            [
             0,
             "#0d0887"
            ],
            [
             0.1111111111111111,
             "#46039f"
            ],
            [
             0.2222222222222222,
             "#7201a8"
            ],
            [
             0.3333333333333333,
             "#9c179e"
            ],
            [
             0.4444444444444444,
             "#bd3786"
            ],
            [
             0.5555555555555556,
             "#d8576b"
            ],
            [
             0.6666666666666666,
             "#ed7953"
            ],
            [
             0.7777777777777778,
             "#fb9f3a"
            ],
            [
             0.8888888888888888,
             "#fdca26"
            ],
            [
             1,
             "#f0f921"
            ]
           ]
          },
          "colorway": [
           "#636efa",
           "#EF553B",
           "#00cc96",
           "#ab63fa",
           "#FFA15A",
           "#19d3f3",
           "#FF6692",
           "#B6E880",
           "#FF97FF",
           "#FECB52"
          ],
          "font": {
           "color": "#2a3f5f"
          },
          "geo": {
           "bgcolor": "white",
           "lakecolor": "white",
           "landcolor": "#E5ECF6",
           "showlakes": true,
           "showland": true,
           "subunitcolor": "white"
          },
          "hoverlabel": {
           "align": "left"
          },
          "hovermode": "closest",
          "mapbox": {
           "style": "light"
          },
          "paper_bgcolor": "white",
          "plot_bgcolor": "#E5ECF6",
          "polar": {
           "angularaxis": {
            "gridcolor": "white",
            "linecolor": "white",
            "ticks": ""
           },
           "bgcolor": "#E5ECF6",
           "radialaxis": {
            "gridcolor": "white",
            "linecolor": "white",
            "ticks": ""
           }
          },
          "scene": {
           "xaxis": {
            "backgroundcolor": "#E5ECF6",
            "gridcolor": "white",
            "gridwidth": 2,
            "linecolor": "white",
            "showbackground": true,
            "ticks": "",
            "zerolinecolor": "white"
           },
           "yaxis": {
            "backgroundcolor": "#E5ECF6",
            "gridcolor": "white",
            "gridwidth": 2,
            "linecolor": "white",
            "showbackground": true,
            "ticks": "",
            "zerolinecolor": "white"
           },
           "zaxis": {
            "backgroundcolor": "#E5ECF6",
            "gridcolor": "white",
            "gridwidth": 2,
            "linecolor": "white",
            "showbackground": true,
            "ticks": "",
            "zerolinecolor": "white"
           }
          },
          "shapedefaults": {
           "line": {
            "color": "#2a3f5f"
           }
          },
          "ternary": {
           "aaxis": {
            "gridcolor": "white",
            "linecolor": "white",
            "ticks": ""
           },
           "baxis": {
            "gridcolor": "white",
            "linecolor": "white",
            "ticks": ""
           },
           "bgcolor": "#E5ECF6",
           "caxis": {
            "gridcolor": "white",
            "linecolor": "white",
            "ticks": ""
           }
          },
          "title": {
           "x": 0.05
          },
          "xaxis": {
           "automargin": true,
           "gridcolor": "white",
           "linecolor": "white",
           "ticks": "",
           "title": {
            "standoff": 15
           },
           "zerolinecolor": "white",
           "zerolinewidth": 2
          },
          "yaxis": {
           "automargin": true,
           "gridcolor": "white",
           "linecolor": "white",
           "ticks": "",
           "title": {
            "standoff": 15
           },
           "zerolinecolor": "white",
           "zerolinewidth": 2
          }
         }
        },
        "title": {
         "text": "Number of athletes per year and per country"
        },
        "updatemenus": [
         {
          "buttons": [
           {
            "args": [
             null,
             {
              "frame": {
               "duration": 500,
               "redraw": false
              },
              "fromcurrent": true,
              "mode": "immediate",
              "transition": {
               "duration": 500,
               "easing": "linear"
              }
             }
            ],
            "label": "&#9654;",
            "method": "animate"
           },
           {
            "args": [
             [
              null
             ],
             {
              "frame": {
               "duration": 0,
               "redraw": false
              },
              "fromcurrent": true,
              "mode": "immediate",
              "transition": {
               "duration": 0,
               "easing": "linear"
              }
             }
            ],
            "label": "&#9724;",
            "method": "animate"
           }
          ],
          "direction": "left",
          "pad": {
           "r": 10,
           "t": 70
          },
          "showactive": false,
          "type": "buttons",
          "x": 0.1,
          "xanchor": "right",
          "y": 0,
          "yanchor": "top"
         }
        ],
        "xaxis": {
         "anchor": "y",
         "categoryarray": [
          1924,
          1928,
          1932,
          1936,
          1948,
          1952,
          1956,
          1960,
          1964,
          1968,
          1972,
          1976,
          1980,
          1984,
          1988,
          1992,
          1994,
          1998,
          2002,
          2006,
          2010,
          2014
         ],
         "categoryorder": "array",
         "domain": [
          0,
          1
         ],
         "range": [
          1920,
          2016
         ],
         "title": {
          "text": "Year"
         }
        },
        "yaxis": {
         "anchor": "x",
         "domain": [
          0,
          1
         ],
         "range": [
          0,
          300
         ],
         "title": {
          "text": "Nb of athletes"
         }
        }
       }
      }
     },
     "metadata": {},
     "output_type": "display_data"
    }
   ],
   "source": [
    "# we animate the graph to see the evolution of the number of athletes per year and per country in winter games\n",
    "fig = px.scatter(athletes_per_country_winter[athletes_per_country_winter['region'].isin(top_10_countries_winter.index)], x=\"Year\", y=\"Nb of athletes\", color=\"region\", animation_frame=\"Year\", animation_group=\"region\", size=\"Nb of athletes\", hover_name=\"region\", range_x=[1920,2016], range_y=[0,300], title=\"Number of athletes per year and per country\")\n",
    "fig.show()"
   ]
  }
 ],
 "metadata": {
  "kernelspec": {
   "display_name": "Python 3",
   "language": "python",
   "name": "python3"
  },
  "language_info": {
   "codemirror_mode": {
    "name": "ipython",
    "version": 3
   },
   "file_extension": ".py",
   "mimetype": "text/x-python",
   "name": "python",
   "nbconvert_exporter": "python",
   "pygments_lexer": "ipython3",
   "version": "3.11.7"
  }
 },
 "nbformat": 4,
 "nbformat_minor": 2
}
